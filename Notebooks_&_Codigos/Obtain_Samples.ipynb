{
 "cells": [
  {
   "cell_type": "markdown",
   "id": "b3a0dff1",
   "metadata": {},
   "source": [
    "# Obtain Data of AGN from SIMBAD\n",
    "\n",
    "The code to obtain the data is based in Andres Ramos's work to obtain Seyfert Samples (https://github.com/aframosp/AGNView)\n",
    "\n",
    "Here we use [Astroquery](https://astroquery.readthedocs.io/en/latest/index.html) package to retriev the data."
   ]
  },
  {
   "cell_type": "code",
   "execution_count": 1,
   "id": "4f9c61fd",
   "metadata": {},
   "outputs": [],
   "source": [
    "from datetime import date\n",
    "\n",
    "import pyvo\n",
    "import numpy as np\n",
    "from astroquery.ned import Ned\n",
    "\n",
    "import astropy.units as u\n",
    "from astropy.table import hstack\n",
    "from astropy.coordinates import SkyCoord"
   ]
  },
  {
   "cell_type": "markdown",
   "id": "e3d1274d",
   "metadata": {},
   "source": [
    "Using the package **[PyVO](https://pyvo.readthedocs.io/en/latest/#)** we can access to remote data and services like the **TAP Service of SIMBAD [SIMBAD](http://simbad.u-strasbg.fr/simbad/sim-tap)** to find and retrieve the astronomical data that we need, in this case: Seyfert Galaxies. To achive that, we use a script with **[ADQL](https://www.ivoa.net/documents/latest/ADQL.html) (Astronomical Data Query Language)**, which is based on SQL.\n",
    "\n",
    "On the script we used the next **Field Names** for VOTable ouput:\n",
    "- ra: Right ascension\n",
    "- dec: Declination\n",
    "- coo_bibcode: Bibliographical reference for coordinates\n",
    "- otype_txt: Object type\n",
    "- rvz_bibcode: Bibliographical reference of radial velocity and redshift\n",
    "- rvz_radvel: Stored value. Either a radial velocity, or a redshift, depending on the rvz_type field \n",
    "- rvz_redshift\n",
    "- rvz_type: Stored type of velocity: 'v'=radial velocity, 'z'=redshift\n",
    "- nbref: bibliographical reference\n",
    "\n",
    "~~~~sql\n",
    "SELECT main_id\n",
    "\t,ra\n",
    "\t,dec\n",
    "\t,coo_bibcode\n",
    "\t,otype_txt\n",
    "\t,rvz_bibcode\n",
    "\t,rvz_radvel\n",
    "\t,rvz_redshift\n",
    "\t,rvz_type\n",
    "\t,nbref\n",
    "\t,alltypes.otypes\n",
    "FROM basic\n",
    "JOIN alltypes ON oid = oidref\n",
    "WHERE basic.otype = 'Sy1'\n",
    "\tOR basic.otype = 'Sy2'\n",
    "\tOR basic.otype = 'SyG'\n",
    "~~~~"
   ]
  },
  {
   "cell_type": "code",
   "execution_count": 2,
   "id": "975d55bf",
   "metadata": {},
   "outputs": [],
   "source": [
    "service = pyvo.dal.TAPService(\"http://simbad.u-strasbg.fr:80/simbad/sim-tap\")\n",
    "\n",
    "result = service.search(\"\"\"\n",
    "SELECT main_id\n",
    "    ,ra\n",
    "    ,dec\n",
    "    ,coo_bibcode\n",
    "    ,otype_txt\n",
    "    ,rvz_bibcode\n",
    "    ,rvz_radvel\n",
    "    ,rvz_redshift\n",
    "    ,rvz_type\n",
    "    ,nbref\n",
    "    ,alltypes.otypes\n",
    "FROM basic\n",
    "JOIN alltypes ON oid = oidref\n",
    "WHERE basic.otype = 'Sy1'\n",
    "    OR basic.otype = 'Sy2'\n",
    "    OR basic.otype = 'SyG'\n",
    "\"\"\")"
   ]
  },
  {
   "cell_type": "markdown",
   "id": "fa406cc9",
   "metadata": {},
   "source": [
    "We save the date in a variable for use later in the file names of the results"
   ]
  },
  {
   "cell_type": "code",
   "execution_count": 3,
   "id": "4bc21fd4",
   "metadata": {},
   "outputs": [],
   "source": [
    "today = date.today()"
   ]
  },
  {
   "cell_type": "markdown",
   "id": "9217eec3",
   "metadata": {},
   "source": [
    "The sample results is saved in a .csv file:"
   ]
  },
  {
   "cell_type": "code",
   "execution_count": 4,
   "id": "7d92c03c",
   "metadata": {},
   "outputs": [],
   "source": [
    "simbad_sample_Sy = result.to_table()\n",
    "simbad_sample_Sy.write(today.strftime('%b_%d_%Y')+'_Sy_Samples'+'.csv',\n",
    "                    format='ascii.csv',overwrite=True)"
   ]
  },
  {
   "cell_type": "markdown",
   "id": "6d39be83",
   "metadata": {},
   "source": [
    "Using **SkyCoord** from astropy we extract the coordinates information for each object from the SIMBAD samples. This is because when we search the information in [NED](https://ned.ipac.caltech.edu/) using the object id that we obtained from SIMBAD, sometimes it doesn't reconigze it, so we will use coordinates instead"
   ]
  },
  {
   "cell_type": "code",
   "execution_count": 32,
   "id": "8fa81bae",
   "metadata": {},
   "outputs": [],
   "source": [
    "cat_smb_sample = SkyCoord(ra=simbad_sample_Sy['ra'], dec=simbad_sample_Sy['dec'])"
   ]
  },
  {
   "cell_type": "code",
   "execution_count": 29,
   "id": "c2c1c5d1",
   "metadata": {},
   "outputs": [
    {
     "name": "stdout",
     "output_type": "stream",
     "text": [
      "No.        Object Name            RA     ... Diameter Points Associations\n",
      "                               degrees   ...                             \n",
      "--- ------------------------- ---------- ... --------------- ------------\n",
      "  1 WISEA J140931.24+051131.6  212.38024 ...               4            0\n"
     ]
    }
   ],
   "source": [
    "result_table = Ned.query_region(cat_smb_sample[0],radius=0.001 * u.deg)\n",
    "\n",
    "print(result_table) # an astropy.table.Table\n"
   ]
  },
  {
   "cell_type": "code",
   "execution_count": 30,
   "id": "06cf3b04",
   "metadata": {},
   "outputs": [],
   "source": [
    "obj_name=result_table[\"Object Name\"]\n",
    "phot_table = Ned.get_table(obj_name, table='photometry')"
   ]
  },
  {
   "cell_type": "code",
   "execution_count": 34,
   "id": "fe679850",
   "metadata": {},
   "outputs": [
    {
     "data": {
      "text/html": [
       "&lt;MaskedColumn name=&apos;Frequency&apos; dtype=&apos;float64&apos; unit=&apos;Hz&apos; description=&apos;The frequency, wavelength, or photometric passband, in absolute units as calculated by NED&apos; length=88&gt;\n",
       "<table>\n",
       "<tr><td>1950000000000000.0</td></tr>\n",
       "<tr><td>1950000000000000.0</td></tr>\n",
       "<tr><td>1950000000000000.0</td></tr>\n",
       "<tr><td>1950000000000000.0</td></tr>\n",
       "<tr><td>1290000000000000.0</td></tr>\n",
       "<tr><td>1290000000000000.0</td></tr>\n",
       "<tr><td>1290000000000000.0</td></tr>\n",
       "<tr><td>1290000000000000.0</td></tr>\n",
       "<tr><td>836000000000000.0</td></tr>\n",
       "<tr><td>836000000000000.0</td></tr>\n",
       "<tr><td>836000000000000.0</td></tr>\n",
       "<tr><td>617000000000000.0</td></tr>\n",
       "<tr><td>...</td></tr>\n",
       "<tr><td>12000000000000.0</td></tr>\n",
       "<tr><td>11600000000000.0</td></tr>\n",
       "<tr><td>11500000000000.0</td></tr>\n",
       "<tr><td>9990000000000.0</td></tr>\n",
       "<tr><td>5000000000000.0</td></tr>\n",
       "<tr><td>3000000000000.0</td></tr>\n",
       "<tr><td>115000000000.0</td></tr>\n",
       "<tr><td>4860000000.0</td></tr>\n",
       "<tr><td>1420000000.0</td></tr>\n",
       "<tr><td>1400000000.0</td></tr>\n",
       "<tr><td>1400000000.0</td></tr>\n",
       "<tr><td>1400000000.0</td></tr>\n",
       "</table>"
      ],
      "text/plain": [
       "<MaskedColumn name='Frequency' dtype='float64' unit='Hz' description='The frequency, wavelength, or photometric passband, in absolute units as calculated by NED' length=88>\n",
       "1950000000000000.0\n",
       "1950000000000000.0\n",
       "1950000000000000.0\n",
       "1950000000000000.0\n",
       "1290000000000000.0\n",
       "1290000000000000.0\n",
       "1290000000000000.0\n",
       "1290000000000000.0\n",
       " 836000000000000.0\n",
       " 836000000000000.0\n",
       " 836000000000000.0\n",
       " 617000000000000.0\n",
       "               ...\n",
       "  12000000000000.0\n",
       "  11600000000000.0\n",
       "  11500000000000.0\n",
       "   9990000000000.0\n",
       "   5000000000000.0\n",
       "   3000000000000.0\n",
       "    115000000000.0\n",
       "      4860000000.0\n",
       "      1420000000.0\n",
       "      1400000000.0\n",
       "      1400000000.0\n",
       "      1400000000.0"
      ]
     },
     "execution_count": 34,
     "metadata": {},
     "output_type": "execute_result"
    }
   ],
   "source": [
    "phot_table[\"Frequency\"]"
   ]
  },
  {
   "cell_type": "code",
   "execution_count": null,
   "id": "9929226d",
   "metadata": {},
   "outputs": [],
   "source": []
  }
 ],
 "metadata": {
  "kernelspec": {
   "display_name": "Python 3 (ipykernel)",
   "language": "python",
   "name": "python3"
  },
  "language_info": {
   "codemirror_mode": {
    "name": "ipython",
    "version": 3
   },
   "file_extension": ".py",
   "mimetype": "text/x-python",
   "name": "python",
   "nbconvert_exporter": "python",
   "pygments_lexer": "ipython3",
   "version": "3.8.8"
  }
 },
 "nbformat": 4,
 "nbformat_minor": 5
}
