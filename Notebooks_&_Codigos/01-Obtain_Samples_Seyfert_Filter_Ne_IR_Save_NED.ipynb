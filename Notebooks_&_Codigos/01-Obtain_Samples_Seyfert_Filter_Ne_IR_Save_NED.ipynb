{
 "cells": [
  {
   "cell_type": "markdown",
   "id": "b3a0dff1",
   "metadata": {
    "id": "b3a0dff1"
   },
   "source": [
    "# Obtain data of AGN from SIMBAD, filtering the objects with data of [Ne II], [Ne III] and [Ne V] in infrared from NED Phot Tables and saving it\n",
    "\n",
    "In this notebook we develop the code to Obtain the data of AGNs type Sy1 (Seyfert 1), Sy2 (Seyfert 2) and SyG (Seyfert Galaxies) from **[SIMBAD](http://simbad.u-strasbg.fr/simbad/sim-tap)** (SMB) and then search each object from the SMB sample in **[NED](https://ned.ipac.caltech.edu/)** to obtain the photometric data and filter all the objects from the sample that contain data of the emission lines of Ne II, Ne III and Ne V in infrared.\n",
    "\n",
    "The part of the code to obtain the data from SIMBAD is based in Andres Ramos's work to obtain Seyfert Samples (https://github.com/aframosp/AGNView)."
   ]
  },
  {
   "cell_type": "code",
   "execution_count": 1,
   "id": "x9XCs3j8KmdF",
   "metadata": {
    "colab": {
     "base_uri": "https://localhost:8080/"
    },
    "executionInfo": {
     "elapsed": 10306,
     "status": "ok",
     "timestamp": 1633483403323,
     "user": {
      "displayName": "Jonhatan Herney Bernal Salinas",
      "photoUrl": "https://lh3.googleusercontent.com/a-/AOh14GiKhXNQ_goIeesq2w4kv4vwiz7BZTUIiIDZFS6iHA=s64",
      "userId": "11704227221814557955"
     },
     "user_tz": 300
    },
    "id": "x9XCs3j8KmdF",
    "outputId": "b7004f1f-d237-4f0a-8d65-6050ba7a3427",
    "tags": []
   },
   "outputs": [],
   "source": [
    "# If this notebook will be run in Google Colab, first at all the next code must be run. If the notebook will be run in Jupyter\n",
    "#then \"comment\" or omit this part \n",
    "\n",
    "import sys\n",
    "IN_COLAB = 'google.colab' in sys.modules\n",
    "\n",
    "if IN_COLAB:\n",
    "    !pip install astroquery"
   ]
  },
  {
   "cell_type": "code",
   "execution_count": 2,
   "id": "4f9c61fd",
   "metadata": {
    "executionInfo": {
     "elapsed": 1500,
     "status": "ok",
     "timestamp": 1633483409256,
     "user": {
      "displayName": "Jonhatan Herney Bernal Salinas",
      "photoUrl": "https://lh3.googleusercontent.com/a-/AOh14GiKhXNQ_goIeesq2w4kv4vwiz7BZTUIiIDZFS6iHA=s64",
      "userId": "11704227221814557955"
     },
     "user_tz": 300
    },
    "id": "4f9c61fd"
   },
   "outputs": [],
   "source": [
    "from datetime import date\n",
    "import time\n",
    "import requests\n",
    "import numpy as np\n",
    "\n",
    "import pyvo\n",
    "from astroquery.ipac.ned import Ned\n",
    "from astroquery.simbad import Simbad\n",
    "\n",
    "from pathlib import Path\n",
    "from requests import Request, Session\n",
    "\n",
    "import astropy.units as u\n",
    "from astropy.table import hstack, QTable, Table\n",
    "from astropy.coordinates import SkyCoord"
   ]
  },
  {
   "cell_type": "markdown",
   "id": "00e61f14",
   "metadata": {},
   "source": [
    "In the next cell we define the paths and create the folders where we will save the data downloaded from the different Data Bases:"
   ]
  },
  {
   "cell_type": "code",
   "execution_count": 3,
   "id": "acdb66dd",
   "metadata": {},
   "outputs": [],
   "source": [
    "path_raw='../Datos/Raw/'\n",
    "Path(path_raw).mkdir(parents=True, exist_ok=True)\n",
    "path_phot_ned = '../Datos/Work/Phot_Tables_NED/' #In this path wi will save the photometry tables for each object\n",
    "Path(path_phot_ned).mkdir(parents=True, exist_ok=True)"
   ]
  },
  {
   "cell_type": "markdown",
   "id": "e3d1274d",
   "metadata": {
    "id": "e3d1274d"
   },
   "source": [
    "Using the package **[PyVO](https://pyvo.readthedocs.io/en/latest/#)** we can access to remote data and services like the **TAP Service of SIMBAD [SIMBAD](http://simbad.u-strasbg.fr/simbad/sim-tap)** to find and retrieve the astronomical data that we need, in this case: Seyfert Galaxies. To achive that, we use a script with **[ADQL](https://www.ivoa.net/documents/latest/ADQL.html) (Astronomical Data Query Language)**, which is based on SQL.\n",
    "\n",
    "On the script we used the next **Field Names** for VOTable ouput:\n",
    "- ra: Right ascension\n",
    "- dec: Declination\n",
    "- coo_bibcode: Bibliographical reference for coordinates\n",
    "- otype_txt: Object type\n",
    "- rvz_bibcode: Bibliographical reference of radial velocity and redshift\n",
    "- rvz_radvel: Stored value. Either a radial velocity, or a redshift, depending on the rvz_type field \n",
    "- rvz_redshift\n",
    "- rvz_type: Stored type of velocity: 'v'=radial velocity, 'z'=redshift\n",
    "- nbref: bibliographical reference\n",
    "\n",
    "~~~~sql\n",
    "SELECT main_id\n",
    "    ,ra\n",
    "    ,dec\n",
    "    ,coo_bibcode\n",
    "    ,otype_txt\n",
    "    ,rvz_bibcode\n",
    "    ,rvz_radvel\n",
    "    ,rvz_redshift\n",
    "    ,rvz_type\n",
    "    ,nbref\n",
    "    ,ids.ids\n",
    "    ,alltypes.otypes\n",
    "FROM basic\n",
    "JOIN ids ON oid = ids.oidref\n",
    "JOIN alltypes ON oid = alltypes.oidref\n",
    "WHERE basic.otype = 'Sy1'\n",
    "    OR basic.otype = 'Sy2'\n",
    "    OR basic.otype = 'SyG'\n",
    "~~~~"
   ]
  },
  {
   "cell_type": "code",
   "execution_count": 4,
   "id": "975d55bf",
   "metadata": {
    "executionInfo": {
     "elapsed": 12406,
     "status": "ok",
     "timestamp": 1633483427713,
     "user": {
      "displayName": "Jonhatan Herney Bernal Salinas",
      "photoUrl": "https://lh3.googleusercontent.com/a-/AOh14GiKhXNQ_goIeesq2w4kv4vwiz7BZTUIiIDZFS6iHA=s64",
      "userId": "11704227221814557955"
     },
     "user_tz": 300
    },
    "id": "975d55bf"
   },
   "outputs": [],
   "source": [
    "service = pyvo.dal.TAPService(\"http://simbad.u-strasbg.fr:80/simbad/sim-tap\")\n",
    "\n",
    "result = service.search(\"\"\"\n",
    "SELECT main_id\n",
    "    ,ra\n",
    "    ,dec\n",
    "    ,coo_bibcode\n",
    "    ,otype_txt\n",
    "    ,rvz_bibcode\n",
    "    ,rvz_radvel\n",
    "    ,rvz_redshift\n",
    "    ,rvz_type\n",
    "    ,nbref\n",
    "    ,ids.ids\n",
    "    ,alltypes.otypes\n",
    "FROM basic\n",
    "JOIN ids ON oid = ids.oidref\n",
    "JOIN alltypes ON oid = alltypes.oidref\n",
    "WHERE basic.otype = 'Sy1'\n",
    "    OR basic.otype = 'Sy2'\n",
    "    OR basic.otype = 'SyG'\n",
    "\"\"\")"
   ]
  },
  {
   "cell_type": "markdown",
   "id": "9217eec3",
   "metadata": {
    "id": "9217eec3"
   },
   "source": [
    "We extract the object name (or in this case the main id) from the sample result."
   ]
  },
  {
   "cell_type": "code",
   "execution_count": 5,
   "id": "7d92c03c",
   "metadata": {
    "colab": {
     "base_uri": "https://localhost:8080/"
    },
    "executionInfo": {
     "elapsed": 498,
     "status": "ok",
     "timestamp": 1633483434934,
     "user": {
      "displayName": "Jonhatan Herney Bernal Salinas",
      "photoUrl": "https://lh3.googleusercontent.com/a-/AOh14GiKhXNQ_goIeesq2w4kv4vwiz7BZTUIiIDZFS6iHA=s64",
      "userId": "11704227221814557955"
     },
     "user_tz": 300
    },
    "id": "7d92c03c",
    "outputId": "d3745dc6-268d-4c1a-d422-647ef43cedc8"
   },
   "outputs": [
    {
     "data": {
      "text/plain": [
       "44270"
      ]
     },
     "execution_count": 5,
     "metadata": {},
     "output_type": "execute_result"
    }
   ],
   "source": [
    "simbad_sample_Sy = result.to_table()\n",
    "obj_name_SMB=simbad_sample_Sy[\"main_id\"]\n",
    "obj_ids_SMB=simbad_sample_Sy[\"ids\"]\n",
    "len(simbad_sample_Sy)"
   ]
  },
  {
   "cell_type": "markdown",
   "id": "fa406cc9",
   "metadata": {
    "id": "fa406cc9"
   },
   "source": [
    "We save the date in a variable for use later in the file names of the results"
   ]
  },
  {
   "cell_type": "code",
   "execution_count": 6,
   "id": "4bc21fd4",
   "metadata": {
    "executionInfo": {
     "elapsed": 216,
     "status": "ok",
     "timestamp": 1633483431485,
     "user": {
      "displayName": "Jonhatan Herney Bernal Salinas",
      "photoUrl": "https://lh3.googleusercontent.com/a-/AOh14GiKhXNQ_goIeesq2w4kv4vwiz7BZTUIiIDZFS6iHA=s64",
      "userId": "11704227221814557955"
     },
     "user_tz": 300
    },
    "id": "4bc21fd4"
   },
   "outputs": [
    {
     "data": {
      "text/plain": [
       "'Sep_02_2022'"
      ]
     },
     "execution_count": 6,
     "metadata": {},
     "output_type": "execute_result"
    }
   ],
   "source": [
    "today = date.today()\n",
    "today.strftime('%b_%d_%Y')"
   ]
  },
  {
   "cell_type": "code",
   "execution_count": 7,
   "id": "f1455364",
   "metadata": {},
   "outputs": [],
   "source": [
    "INIT_URL = 'http://vizier.u-strasbg.fr/viz-bin/sed?-c='\n",
    "urls = [INIT_URL+str(simbad_sample_Sy['ra'][row])+'%20'+\n",
    "        str(simbad_sample_Sy['dec'][row])+'&-c.rs=5' for row in range(len(simbad_sample_Sy))]\n",
    "simbad_sample_Sy['cds_url'] = urls"
   ]
  },
  {
   "cell_type": "markdown",
   "id": "d2d1bd77",
   "metadata": {},
   "source": [
    "Cell for search a specific id in the SMB sample"
   ]
  },
  {
   "cell_type": "code",
   "execution_count": 8,
   "id": "764da1cc",
   "metadata": {
    "scrolled": true
   },
   "outputs": [
    {
     "name": "stdout",
     "output_type": "stream",
     "text": [
      "main_id \n",
      "--------\n",
      "3C 234.0\n",
      "SMB sample index:  283\n"
     ]
    }
   ],
   "source": [
    "idS = ['3C 234.0'] #Id to search\n",
    "idx = [np.where(simbad_sample_Sy['main_id'] == idt)[0] for idt in idS]\n",
    "print(obj_name_SMB[idx[0]])\n",
    "print('SMB sample index: ',idx[0][0])\n",
    "obj_smb = obj_name_SMB[2789:2795]"
   ]
  },
  {
   "cell_type": "markdown",
   "id": "64e523f9",
   "metadata": {},
   "source": [
    "The sample results is saved in a .vot file:"
   ]
  },
  {
   "cell_type": "code",
   "execution_count": 9,
   "id": "d099bc62",
   "metadata": {},
   "outputs": [],
   "source": [
    "simbad_sample_Sy.write(path_raw+'SMB_'+today.strftime('%b_%d_%Y')+'_Sy_Samples'+'.vot',\n",
    "                    format='votable',overwrite=True)"
   ]
  },
  {
   "cell_type": "markdown",
   "id": "96f8877c",
   "metadata": {},
   "source": [
    "### Function to download the Photometry tables from [NED](https://ned.ipac.caltech.edu/).\n",
    "\n",
    "To get the photometry tables from NED, we use **[Astroquery](https://astroquery.readthedocs.io/en/latest/index.html)** package. In the function **photNED** first we try to obtain the photometry table with the ID name of the object from the SIMBAD sample. If there is not result, then with Astroquery we will search the others objects ID, and with that, search the information in NED. If finallly is not possible to find information with the objects ID, then we will try using its coordinates."
   ]
  },
  {
   "cell_type": "code",
   "execution_count": 10,
   "id": "4007127b",
   "metadata": {},
   "outputs": [],
   "source": [
    "def photNED(name,oids,coord):\n",
    "    \n",
    "    '''\n",
    "    This function is to get the photometry tables\n",
    "    from NED. The input are the id and coordinates\n",
    "    of the object.\n",
    "    '''\n",
    "    \n",
    "    phot_ned = QTable()\n",
    "    id_used = []\n",
    "    \n",
    "    try:\n",
    "        phot_ned = Ned.get_table(name, table='photometry') #We get the Photometry Table using first SIMBAD names\n",
    "        id_used = name\n",
    "        #print('Using main SMB id\\n')\n",
    "    except:\n",
    "        other_ids = oids.split('|')\n",
    "        #other_ids = Simbad.query_objectids(name) #We get other IDs for the object from SIMBAD using astroquery\n",
    "        for other_id in other_ids:\n",
    "            try:\n",
    "                phot_ned = Ned.get_table(other_id, table='photometry') #Photometry Table using other SIMBAD names\n",
    "                id_used = other_id\n",
    "                #print('Trying other id')\n",
    "                break\n",
    "            except:\n",
    "                pass\n",
    "    if id_used == []:\n",
    "        try:\n",
    "            region = Ned.query_region(coord,radius= 5 * u.arcsec)\n",
    "            id_ned = region[\"Object Name\"]\n",
    "            phot_ned = Ned.get_table(id_ned, table='photometry')\n",
    "            id_used = id_ned\n",
    "            #print('Using region\\n')\n",
    "        except:\n",
    "            pass\n",
    "\n",
    "    return phot_ned, id_used"
   ]
  },
  {
   "cell_type": "markdown",
   "id": "6d39be83",
   "metadata": {
    "id": "6d39be83"
   },
   "source": [
    "Using **SkyCoord** from astropy we extract the coordinates information for each object from the SIMBAD samples. This is useful if we want to search information in [NED](https://ned.ipac.caltech.edu/) using coordinates instead the object name"
   ]
  },
  {
   "cell_type": "code",
   "execution_count": 11,
   "id": "8fa81bae",
   "metadata": {
    "executionInfo": {
     "elapsed": 181,
     "status": "ok",
     "timestamp": 1633483449934,
     "user": {
      "displayName": "Jonhatan Herney Bernal Salinas",
      "photoUrl": "https://lh3.googleusercontent.com/a-/AOh14GiKhXNQ_goIeesq2w4kv4vwiz7BZTUIiIDZFS6iHA=s64",
      "userId": "11704227221814557955"
     },
     "user_tz": 300
    },
    "id": "8fa81bae"
   },
   "outputs": [],
   "source": [
    "cat_smb_sample = SkyCoord(ra=simbad_sample_Sy['ra'], dec=simbad_sample_Sy['dec'])"
   ]
  },
  {
   "cell_type": "markdown",
   "id": "2a6b60ae",
   "metadata": {},
   "source": [
    "### Filtering the Sample: Objects with [Ne II], [Ne III] and [Ne V] information. Downloading the NED Tables:"
   ]
  },
  {
   "cell_type": "markdown",
   "id": "45cc82a0",
   "metadata": {
    "id": "45cc82a0"
   },
   "source": [
    "The wavelenght for NeII, NeIII and NeV in the infrared spectrum are 12.8 microns, 15.6 microns and 14.3 microns respectively, but in some cases inside NED tables there is also some filters for this lines reported in 12.81 microns for [Ne II], 15.5, 15.55 and 15.56 for [Ne III] and 14.32 for [Ne V].\n",
    "\n",
    "* Wavelenght 12.8 microns -> Frequency 2.344e+13 Hz ([Ne II])\n",
    "* Wavelenght 12.81 microns -> Frequency 2.342e+13 Hz ([Ne II])\n",
    "* Wavelenght 14.3 microns -> Frequency 2.098e+13 Hz ([Ne V])\n",
    "* Wavelenght 14.32 microns -> Frequency 2.095e+13 Hz ([Ne V])\n",
    "* Wavelenght 15.5 microns -> Frequency 1.935e+13 Hz ([Ne III])\n",
    "* Wavelenght 15.55 microns -> Frequency 1.929e+13 Hz ([Ne III])\n",
    "* Wavelenght 15.56 microns -> Frequency 1.928e+13 Hz ([Ne III])\n",
    "* Wavelenght 15.6 microns -> Frequency 1.923e+13 Hz ([Ne III])\n",
    "\n",
    "\n",
    "Because in NED tables the frequency has a rounded value for three significant numbers, then we will use the next values: \n",
    "\n",
    "* Frequency: 1.92e+13 Hz: [NeIII]\n",
    "* Frecuency: 1.93e+13 Hz: [Ne III]\n",
    "* Frecuency: 2.09e+13 Hz: [Ne V]\n",
    "* Frequency: 2.10e+13 Hz: [Ne V]\n",
    "* Frequency: 2.34e+13 Hz: [Ne II\n",
    "\n",
    "In the variable **Ne_IR_Fq** we define a list with the those frequency values"
   ]
  },
  {
   "cell_type": "code",
   "execution_count": 12,
   "id": "706c6696",
   "metadata": {},
   "outputs": [],
   "source": [
    "Ne_IR_Fq = np.array([19200000000000.0,19300000000000.0,20900000000000.0,21000000000000.0,23400000000000.0])*u.Hz"
   ]
  },
  {
   "cell_type": "markdown",
   "id": "367ca204",
   "metadata": {},
   "source": [
    "The filter for the objects with Ne Line Emissions in Infrared will be looking in the column **\"Frequency\"** of the photometry tables that we got from NED the values of the list defined in Ne_IR_Freq. Then, in a second fliter we are going to classify according to what information the Ne II, Ne III and Ne V emission lines each have."
   ]
  },
  {
   "cell_type": "code",
   "execution_count": 13,
   "id": "edddf9ff",
   "metadata": {},
   "outputs": [],
   "source": [
    "def FilterbyNeFreq(NEDTable, Freq):\n",
    "    \n",
    "    NEDTable.remove_rows(np.where(NEDTable['Flux Density'].mask)[0])\n",
    "    NEDTable.remove_rows(np.where(NEDTable['NED Units'] == 'Jy')[0])\n",
    "    #NEDTable.remove_rows(np.where(NEDTable['NED Uncertainty'] == '')[0])\n",
    "    #NEDTable.remove_rows(np.where(NEDTable['NED Uncertainty'] == '+/-...')[0])\n",
    "    NEDTable.remove_rows(np.where(NEDTable['Observed Passband'] == '[Cl II] line (IRS)')[0])\n",
    "    NEDTable.remove_rows(np.where(NEDTable['Observed Passband'] == '[Cl II] 14.4 (IRS)')[0])\n",
    "    NEDTable.remove_rows(np.where(NEDTable['Observed Passband'] == '[Cl II] (IRS)')[0])\n",
    "    NEDTable.remove_rows(np.where(NEDTable['Observed Passband'] == '[Cl II] 14.37 (IRS)')[0])\n",
    "    \n",
    "    f = np.array([NEDTable['Frequency']])*u.Hz #We get the Frequency column from the table\n",
    "    intersec = np.intersect1d(Freq, f) #Intersection between Fr and Ne_IR_Fq\n",
    "   \n",
    "    return intersec    "
   ]
  },
  {
   "cell_type": "code",
   "execution_count": null,
   "id": "c2c1c5d1",
   "metadata": {
    "colab": {
     "base_uri": "https://localhost:8080/"
    },
    "executionInfo": {
     "elapsed": 7063,
     "status": "ok",
     "timestamp": 1633484416154,
     "user": {
      "displayName": "Jonhatan Herney Bernal Salinas",
      "photoUrl": "https://lh3.googleusercontent.com/a-/AOh14GiKhXNQ_goIeesq2w4kv4vwiz7BZTUIiIDZFS6iHA=s64",
      "userId": "11704227221814557955"
     },
     "user_tz": 300
    },
    "id": "c2c1c5d1",
    "outputId": "f4ef079e-e482-4efe-8ca2-6a0f7736e6b1",
    "scrolled": true
   },
   "outputs": [
    {
     "name": "stdout",
     "output_type": "stream",
     "text": [
      "#    Idx              Name ID                 ID used in NED             Ne IR Info     \n",
      "0    283             3C 234.0                    3C 234.0              NeII|NeIII|NeV   \n",
      "1    428      2MASS J13000535+1632148       NVSS J130005+163212          NeII|NeIII     \n",
      "2    484             NGC   262                   NGC   262             NeII|NeIII|NeV   \n",
      "3    541          IRAS 04385-0828             IRAS 04385-0828          NeII|NeIII|NeV   \n",
      "4    628             NGC  4945                   NGC  4945             NeII|NeIII|NeV   \n",
      "5    654              IC 4553                     IC 4553                NeII|NeIII     \n",
      "6    852             Mrk  279                    Mrk  279              NeII|NeIII|NeV   \n",
      "7    1227            UGC 11680                   UGC 11680                  NeII        \n",
      "8    1246          LEDA   45656                LEDA   45656               NeII|NeV      \n",
      "9    1282            Mrk 1239                    Mrk 1239              NeII|NeIII|NeV   \n",
      "10   1341          LEDA   89032                LEDA   89032              NeII|NeIII     \n",
      "11   1424          NAME 3C 330G2                1Jy 1609+66              NeIII|NeV      \n",
      "12   1734            NGC  7479                   NGC  7479               NeII|NeIII     \n",
      "13   1801          LEDA 3095998                LEDA 3095998                 NeII        \n",
      "14   1884            NGC  3735                   NGC  3735             NeII|NeIII|NeV   \n",
      "15   1917            NGC  4477                   NGC  4477               NeII|NeIII     \n",
      "16   1936          LEDA   89511                LEDA   89511            NeII|NeIII|NeV   \n",
      "17   2115             Z 218-7                     Z 218-7              NeII|NeIII|NeV   \n",
      "18   2351            Mrk  493                    Mrk  493              NeII|NeIII|NeV   \n",
      "19   2408            NGC  4941                   NGC  4941             NeII|NeIII|NeV   \n",
      "20   2469            Mrk  883                    Mrk  883                NeII|NeIII     \n",
      "21   2551     2MASS J22255427+1958370     2MASX J22255423+1958372      NeII|NeIII|NeV   \n",
      "22   2569          LEDA   90196                LEDA   90196            NeII|NeIII|NeV   \n",
      "23   2790          MCG+04-48-002               MCG+04-48-002           NeII|NeIII|NeV   \n",
      "24   2847    [VV2000] J235225.0+244009        IRAS 23498+2423          NeII|NeIII|NeV   \n",
      "25   2914             3C 196                      3C 196                 NeIII|NeV      \n",
      "26   2975     2MASX J10032788+5541535     2MASX J10032788+5541535           NeV         \n",
      "27   3031            NGC  2622                   NGC  2622             NeII|NeIII|NeV   \n",
      "28   3213            NGC   863                   NGC   863             NeII|NeIII|NeV   \n",
      "29   3838         IRAS 11215-2806             IRAS 11215-2806          NeII|NeIII|NeV   \n",
      "30   4314            NGC  3281                   NGC  3281             NeII|NeIII|NeV   \n",
      "31   4524          LEDA  101275                LEDA  101275            NeII|NeIII|NeV   \n",
      "32   4553      NAME Circinus Galaxy            Anon 1409-65            NeII|NeIII|NeV   \n",
      "33   4603             IC 3639                     IC 3639              NeII|NeIII|NeV   \n",
      "34   5069            Mrk  926                    Mrk  926              NeII|NeIII|NeV   \n",
      "35   5523            Mrk  463E                   Mrk  463E             NeII|NeIII|NeV   \n",
      "36   5532            NGC  4235                   NGC  4235               NeII|NeIII     \n",
      "37   5589         IRAS 15480-0344             IRAS 15480-0344          NeII|NeIII|NeV   \n",
      "38   5604            UGC  6728                   UGC  6728             NeII|NeIII|NeV   \n",
      "39   5696            NGC  1142                   NGC  1142             NeII|NeIII|NeV   \n",
      "40   5889            NGC  1365                   NGC  1365             NeII|NeIII|NeV   \n",
      "41   6022            NGC  1056                   NGC  1056               NeII|NeIII     \n",
      "42   6616            NGC  7410                   NGC  7410                  NeII        \n",
      "43   6868            Mrk  352                    Mrk  352                NeII|NeIII     \n",
      "44   7205          LEDA 1365424                LEDA 1365424              NeIII|NeV      \n",
      "45   7619          LEDA   27453                LEDA   27453                NeIII        \n",
      "46   7696           NAME Cyg A            2MASX J19592833+4044022      NeII|NeIII|NeV   \n",
      "47   7790            Mrk  877                    Mrk  877                   NeII        \n",
      "48   7878            ESO 148-2                   ESO 148-2             NeII|NeIII|NeV   \n",
      "49   7978            Mrk 1383                    Mrk 1383              NeII|NeIII|NeV   \n",
      "50   8263            NGC  7592                   NGC  7592                  NeV         \n",
      "51   8351            NGC  3998                   NGC  3998               NeII|NeIII     \n",
      "52   8476         QSO B1626+5529         WISEA J162756.11+552231.5        NeII|NeV      \n",
      "53   8517            Mrk    9                    Mrk    9              NeII|NeIII|NeV   \n",
      "54   8691            Mrk 1513                    Mrk 1513              NeII|NeIII|NeV   \n",
      "55   8847            NGC  4939                   NGC  4939             NeII|NeIII|NeV   \n",
      "56   9328            NGC  4151                   NGC  4151             NeII|NeIII|NeV   \n",
      "57   9394           ESO 434-40                  ESO 434-40             NeII|NeIII|NeV   \n",
      "58   9430          LEDA   37102                LEDA   37102              NeII|NeIII     \n",
      "59   9540           ESO 323-77                  ESO 323-77             NeII|NeIII|NeV   \n",
      "60   9549            FRL   49                    FRL   49              NeII|NeIII|NeV   \n",
      "61   9582          LEDA   50824                LEDA   50824            NeII|NeIII|NeV   \n",
      "62   10128         LEDA   29208                LEDA   29208                 NeII        \n",
      "63   10327           NGC    34                   NGC    34               NeII|NeIII     \n",
      "64   10534           Mrk  471                    Mrk  471              NeII|NeIII|NeV   \n",
      "65   10540           NGC  7679                   NGC  7679             NeII|NeIII|NeV   \n",
      "66   10649   SDSS J143417.15+020742.3    SDSS J143417.15+020742.3          NeIII        \n",
      "67   10672        IRAS 11119+3257             IRAS 11119+3257            NeII|NeIII     \n",
      "68   10786            IC 1065                     IC 1065              NeII|NeIII|NeV   \n",
      "69   10900    2MASX J14305363+3458364     2MASX J14305363+3458364           NeII        \n",
      "70   10982             M  81                       M  81                 NeII|NeIII     \n",
      "71   11175    2MASS J14533151+1353587     2MASS J14533150+1353585        NeII|NeIII     \n",
      "72   11242           NGC  2639                   NGC  2639               NeII|NeIII     \n",
      "73   11289           NGC   513                   NGC   513             NeII|NeIII|NeV   \n",
      "74   11294   NAME IRAS F15163+4255 NW         GB6 J1518+4243             NeII|NeIII     \n",
      "75   11378          ESO 383-35                  ESO 383-35             NeII|NeIII|NeV   \n",
      "76   11419     NAME IRAS 09111-1007W      2MASX J09133644-1019296           NeV         \n",
      "77   11592           NGC   973                   NGC   973             NeII|NeIII|NeV   \n",
      "78   11593           2E  3648             2MASSI J1620218+173624       NeII|NeIII|NeV   \n",
      "79   12121    2MASX J22041914+0333511     2MASX J22041914+0333511      NeII|NeIII|NeV   \n",
      "80   12370           NGC  7469                   NGC  7469             NeII|NeIII|NeV   \n",
      "81   12510       IRAS F08216+3009            IRAS F08216+3009          NeII|NeIII|NeV   \n",
      "82   12548    2MASX J08035923+2345201     2MASX J08035923+2345201          NeIII        \n",
      "83   12665           NGC  7591                   NGC  7591               NeII|NeIII     \n",
      "84   12682    2MASS J08105865+7602424     2MASS J08105865+7602424          NeIII        \n",
      "85   12933        IRAS 15091-2107             IRAS 15091-2107          NeII|NeIII|NeV   \n",
      "86   13406           UGC 12282                   UGC 12282             NeII|NeIII|NeV   \n",
      "87   13542    2MASS J14294306+4747262     2MASS J14294306+4747262           NeII        \n",
      "88   13630         MCG+10-17-021               MCG+10-17-021           NeII|NeIII|NeV   \n",
      "89   13718          ESO 113-45                  ESO 113-45             NeII|NeIII|NeV   \n",
      "90   13941           NGC  4388                   NGC  4388             NeII|NeIII|NeV   \n",
      "91   14155           NGC  5899                   NGC  5899             NeII|NeIII|NeV   \n",
      "92   14157         LEDA 3096524          WISEA J165939.77+183436.7     NeII|NeIII|NeV   \n"
     ]
    },
    {
     "name": "stdout",
     "output_type": "stream",
     "text": [
      "93   14382           NGC  5728                   NGC  5728             NeII|NeIII|NeV   \n",
      "94   14458          ESO 140-43                  ESO 140-43             NeII|NeIII|NeV   \n",
      "95   14562            IC 1816                     IC 1816              NeII|NeIII|NeV   \n",
      "96   14590   SDSS J161647.32+371621.2    SDSS J161647.32+371621.2        NeIII|NeV      \n",
      "97   14665           ESO 417-6                   ESO 417-6             NeII|NeIII|NeV   \n",
      "98   14861           NGC   788                   NGC   788             NeII|NeIII|NeV   \n",
      "99   14910            2C 1066                   1Jy 1254+47              NeII|NeIII     \n",
      "100  14946            IC 5298                     IC 5298                   NeV         \n",
      "101  14957            IC 5063                     IC 5063              NeII|NeIII|NeV   \n",
      "102  15090           PB  3894                    PB  3894                NeIII|NeV      \n",
      "103  15224             M  88                       M  88                 NeII|NeIII     \n",
      "104  15262           NGC  4602                   NGC  4602                NeII|NeV      \n",
      "105  15276        IRAS 13342+3932             IRAS 13342+3932             NeII|NeV      \n",
      "106  15289           NGC  1241                   NGC  1241             NeII|NeIII|NeV   \n",
      "107  15364           NGC  4138                   NGC  4138             NeII|NeIII|NeV   \n",
      "108  15450           NGC  1566                   NGC  1566             NeII|NeIII|NeV   \n",
      "109  15629           NGC  1808                   NGC  1808               NeII|NeIII     \n",
      "110  15957     ICRF J054236.1+495107       ICRF J054236.1+495107           NeIII        \n",
      "111  16059           Mrk  304                    Mrk  304              NeII|NeIII|NeV   \n",
      "112  16100           Mrk 1298                    Mrk 1298                 NeII|NeV      \n",
      "113  16219     2XMM J135315.8+634546       2XMM J135315.8+634546         NeII|NeIII     \n",
      "114  16349           Mrk 1095                    Mrk 1095              NeII|NeIII|NeV   \n",
      "115  16436        IRAS 15206+3342             IRAS 15206+3342            NeII|NeIII     \n",
      "116  16548    2MASS J10520202+5633010     2MASS J10520202+5633010        NeII|NeIII     \n",
      "117  16630    2MASX J14510879+2709272     2MASX J14510879+2709272         NeII|NeV      \n",
      "118  16878            IC  486                     IC  486              NeII|NeIII|NeV   \n",
      "119  16980           Mrk  618                    Mrk  618              NeII|NeIII|NeV   \n",
      "120  17006           NGC  5273                   NGC  5273               NeII|NeIII     \n",
      "121  17034           Mrk  609                    Mrk  609              NeII|NeIII|NeV   \n",
      "122  17351           NGC  3079                   NGC  3079             NeII|NeIII|NeV   \n",
      "123  17429         LEDA  165618                LEDA  165618                 NeII        \n",
      "124  17880        IRAS 03450+0055             IRAS 03450+0055            NeII|NeIII     \n",
      "125  17929           3C 343.1                    3C 343.1                NeII|NeIII     \n",
      "126  18240            2C   94                   1Jy 0106+13            NeII|NeIII|NeV   \n",
      "127  18244           Ton  182                    Ton  182                   NeII        \n",
      "128  18247         MCG+13-07-002               MCG+13-07-002              NeII|NeV      \n",
      "129  18511           NGC  5548                   NGC  5548             NeII|NeIII|NeV   \n",
      "130  18720     ICRF J145907.5+714019       ICRF J145907.5+714019         NeIII|NeV      \n",
      "131  18768           NGC   424                   NGC   424             NeII|NeIII|NeV   \n",
      "132  18836           Mrk  509                    Mrk  509              NeII|NeIII|NeV   \n",
      "133  19391           ESO   5-4                   ESO   5-4             NeII|NeIII|NeV   \n",
      "134  19461           NGC   660                   NGC   660             NeII|NeIII|NeV   \n",
      "135  19539           NGC  2992                   NGC  2992             NeII|NeIII|NeV   \n"
     ]
    }
   ],
   "source": [
    "NeIR_obj_t = QTable(names=('Main_Id','Id_used_NED','RA','DEC','otype_txt','redshift',\n",
    "                           'rvz_type','ids','otypes','cds_url','SMB_sample_index'),\n",
    "                    dtype=('O','O','f8','f8','O','f8','U1','O','O','U93','f8'))\n",
    "\n",
    "Ne_Inf = []\n",
    "\n",
    "print(f\"{'#':4} {'Idx':6} {'Name ID':^27} {'ID used in NED':^27} {'Ne IR Info':^20}\")\n",
    "i=-1\n",
    "start = time.time()\n",
    "for ind, id_smb in enumerate(obj_name_SMB):\n",
    "    try:       \n",
    "        #print('\\nIdx SIMBAD: ',ind,' main_id: ',id_smb)\n",
    "        phot_T,name_NED = photNED(id_smb,obj_ids_SMB[ind],cat_smb_sample[ind])\n",
    "        #Save table again for work with it before save the original one\n",
    "        phot_t,name_ned = photNED(id_smb,obj_ids_SMB[ind],cat_smb_sample[ind])\n",
    "        ins = FilterbyNeFreq(phot_t, Ne_IR_Fq) #Search for the [Ne] frequencies in NED table\n",
    "        \n",
    "        if len(ins)>0: #First filter: If the phot table has infomation of frequencies of Fq            \n",
    "            #print(ins)\n",
    "            i=i+1\n",
    "            phot_T.write(path_phot_ned+id_smb+'_NED_phot_tables'+'.vot', #Save the phot table in a vot table file\n",
    "                            format='votable',overwrite=True)\n",
    "            NeIR_obj_row = [id_smb,name_ned,simbad_sample_Sy[\"ra\"][ind],simbad_sample_Sy[\"dec\"][ind],\n",
    "                            simbad_sample_Sy[\"otype_txt\"][ind],simbad_sample_Sy[\"rvz_redshift\"][ind],\n",
    "                            simbad_sample_Sy[\"rvz_type\"][ind],simbad_sample_Sy[\"ids\"][ind],\n",
    "                            simbad_sample_Sy[\"otypes\"][ind],simbad_sample_Sy[\"cds_url\"][ind],ind] \n",
    "            NeIR_obj_t.add_row(vals=NeIR_obj_row)\n",
    "            \n",
    "            if (Ne_IR_Fq[0] in ins or Ne_IR_Fq[1] in ins)and (Ne_IR_Fq[2] in ins or Ne_IR_Fq[3] in ins)\\\n",
    "            and Ne_IR_Fq[4] in ins: #Second filter to classify according the Ne info after remove empty flux values\n",
    "                Ne_info = 'NeII|NeIII|NeV'\n",
    "            elif (Ne_IR_Fq[0] in ins or Ne_IR_Fq[1] in ins) and Ne_IR_Fq[4] in ins:\n",
    "                Ne_info = 'NeII|NeIII'\n",
    "            elif (Ne_IR_Fq[2] in ins or Ne_IR_Fq[3] in ins) and Ne_IR_Fq[4] in ins:\n",
    "                Ne_info = 'NeII|NeV'\n",
    "            elif (Ne_IR_Fq[0] in ins or Ne_IR_Fq[1] in ins) and (Ne_IR_Fq[2] in ins or Ne_IR_Fq[3] in ins):\n",
    "                Ne_info = 'NeIII|NeV'\n",
    "            elif Ne_IR_Fq[0] in ins or Ne_IR_Fq[1] in ins:\n",
    "                Ne_info = 'NeIII'\n",
    "            elif Ne_IR_Fq[2] in ins or Ne_IR_Fq[3] in ins:\n",
    "                Ne_info = 'NeV'\n",
    "            elif Ne_IR_Fq[4] in ins:\n",
    "                Ne_info = 'NeII'\n",
    "            else:\n",
    "                Ne_info = 'No Flux Values' \n",
    "            Ne_Inf.append(Ne_info)\n",
    "            print(f\"{'%g'%i:4} {'%g'%ind:6} {'%s'%id_smb:^27} {'%s'%name_ned:^27} {'%s'%Ne_info:^20}\")\n",
    "    \n",
    "    except KeyError:\n",
    "        pass\n",
    "\n",
    "end = time.time()\n",
    "\n",
    "print('\\nTotal objects with lines emission of NeII or NeIII or NeV in IR  found: ',len(NeIR_obj_t))\n",
    "print('Execution Time(seg): ' + str(end - start))\n",
    "print('Execution Time(min): ' + str((end - start)/60))\n",
    "print('Execution Time(hrs): ' + str((end - start)/3600))"
   ]
  },
  {
   "cell_type": "code",
   "execution_count": null,
   "id": "59800a78",
   "metadata": {},
   "outputs": [],
   "source": [
    "NeIR_obj_t['NED_Ne_IR_info'] = Ne_Inf #Add a column to save the Ne info\n",
    "NeIR_obj_t.show_in_notebook()"
   ]
  },
  {
   "cell_type": "code",
   "execution_count": null,
   "id": "2ff3ee31",
   "metadata": {},
   "outputs": [],
   "source": [
    "NeIR_obj_t.write(path_raw+'Obj_Ne-IR_'+today.strftime('%b_%d_%Y')+'.vot',\n",
    "                    format='votable',overwrite=True)"
   ]
  },
  {
   "cell_type": "code",
   "execution_count": null,
   "id": "3080214e",
   "metadata": {},
   "outputs": [],
   "source": [
    "NeII_NeIII_NeV_IR = np.where(NeIR_obj_t['NED_Ne_IR_info'] == 'NeII|NeIII|NeV')[0] #List of objects with NeII, NeIII and NeV data\n",
    "NeII_NeIII_IR = np.where(NeIR_obj_t['NED_Ne_IR_info'] == 'NeII|NeIII')[0] #List of objects with NeII and NeIII data\n",
    "NeII_NeV_IR = np.where(NeIR_obj_t['NED_Ne_IR_info'] == 'NeII|NeV')[0] #List of objects with NeII and NeV data\n",
    "NeIII_NeV_IR = np.where(NeIR_obj_t['NED_Ne_IR_info'] == 'NeIII|NeV')[0] #List of objects with NeIII and NeV data\n",
    "NeIII_IR = np.where(NeIR_obj_t['NED_Ne_IR_info'] == 'NeIII')[0] #List of objects with NeIII data\n",
    "NeV_IR = np.where(NeIR_obj_t['NED_Ne_IR_info'] == 'NeV')[0] #List of objects with NeV data\n",
    "NeII_IR = np.where(NeIR_obj_t['NED_Ne_IR_info'] == 'NeII')[0] #List of objects with NeII data\n",
    "No_Ne_IR = np.where(NeIR_obj_t['NED_Ne_IR_info'] == 'No Flux Values')[0] #List of objects with NeII data\n",
    "print('Total objects found with NeII, NeIII and NeV emission lines: ',len(NeII_NeIII_NeV_IR))\n",
    "print('Total objects found with NeII and NeIII emission lines: ',len(NeII_NeIII_IR))\n",
    "print('Total objects found with NeII and NeV emission lines: ',len(NeII_NeV_IR))\n",
    "print('Total objects found with NeIII and NeV emission lines: ',len(NeIII_NeV_IR))\n",
    "print('Total objects found with NeIII emission lines: ',len(NeIII_IR))\n",
    "print('Total objects found with NeV emission lines: ',len(NeV_IR))\n",
    "print('Total objects found with NeII emission lines: ',len(NeII_IR))\n",
    "print('Total objects found with No Ne flux values: ',len(No_Ne_IR))"
   ]
  },
  {
   "cell_type": "markdown",
   "id": "ae800666",
   "metadata": {},
   "source": [
    "## Notebook Info"
   ]
  },
  {
   "cell_type": "code",
   "execution_count": null,
   "id": "DvHi0rgEJPcP",
   "metadata": {
    "colab": {
     "base_uri": "https://localhost:8080/"
    },
    "executionInfo": {
     "elapsed": 234,
     "status": "ok",
     "timestamp": 1633483845986,
     "user": {
      "displayName": "Jonhatan Herney Bernal Salinas",
      "photoUrl": "https://lh3.googleusercontent.com/a-/AOh14GiKhXNQ_goIeesq2w4kv4vwiz7BZTUIiIDZFS6iHA=s64",
      "userId": "11704227221814557955"
     },
     "user_tz": 300
    },
    "id": "DvHi0rgEJPcP",
    "outputId": "5e6d6024-2063-4196-8cca-9ce4c808d317",
    "scrolled": false
   },
   "outputs": [],
   "source": [
    "%reload_ext watermark\n",
    "%watermark -a \"Jonhatan Bernal\" -d -v -m\n",
    "print('Specific Python packages')\n",
    "%watermark -iv -w --packages astropy"
   ]
  },
  {
   "cell_type": "markdown",
   "id": "31e54592",
   "metadata": {},
   "source": [
    "### Las celdas a continuación son para pruebas:"
   ]
  },
  {
   "cell_type": "code",
   "execution_count": null,
   "id": "b5937d7e",
   "metadata": {
    "scrolled": true
   },
   "outputs": [],
   "source": [
    "x=283\n",
    "simbad_sample_Sy[x]"
   ]
  },
  {
   "cell_type": "code",
   "execution_count": null,
   "id": "bb219e1c",
   "metadata": {
    "scrolled": false
   },
   "outputs": [],
   "source": [
    "nam=simbad_sample_Sy['main_id'][x]\n",
    "other_ids = Simbad.query_objectids(nam)\n",
    "other_ids"
   ]
  },
  {
   "cell_type": "code",
   "execution_count": null,
   "id": "bf64029e",
   "metadata": {},
   "outputs": [],
   "source": [
    "for _id in other_ids['ID']:\n",
    "    try:\n",
    "        ned_tab= Ned.get_table(_id, table='photometry')\n",
    "        print('si ',_id)\n",
    "        break   \n",
    "    except:\n",
    "        print('no ',_id)\n",
    "        if _id == other_ids['ID'][-1]:\n",
    "            continue"
   ]
  },
  {
   "cell_type": "code",
   "execution_count": null,
   "id": "db7b3645",
   "metadata": {},
   "outputs": [],
   "source": [
    "obj_ids_SMB[x]"
   ]
  },
  {
   "cell_type": "code",
   "execution_count": null,
   "id": "78f15cfb",
   "metadata": {},
   "outputs": [],
   "source": [
    "o_ids = obj_ids_SMB[x].split('|')\n",
    "for other_id in o_ids:\n",
    "    print(other_id)"
   ]
  },
  {
   "cell_type": "code",
   "execution_count": null,
   "id": "5b0669bd",
   "metadata": {},
   "outputs": [],
   "source": []
  }
 ],
 "metadata": {
  "colab": {
   "name": "Obtain_Samples_AGNs_Ne_IR.ipynb",
   "provenance": []
  },
  "kernelspec": {
   "display_name": "Python 3 (ipykernel)",
   "language": "python",
   "name": "python3"
  },
  "language_info": {
   "codemirror_mode": {
    "name": "ipython",
    "version": 3
   },
   "file_extension": ".py",
   "mimetype": "text/x-python",
   "name": "python",
   "nbconvert_exporter": "python",
   "pygments_lexer": "ipython3",
   "version": "3.9.12"
  }
 },
 "nbformat": 4,
 "nbformat_minor": 5
}
