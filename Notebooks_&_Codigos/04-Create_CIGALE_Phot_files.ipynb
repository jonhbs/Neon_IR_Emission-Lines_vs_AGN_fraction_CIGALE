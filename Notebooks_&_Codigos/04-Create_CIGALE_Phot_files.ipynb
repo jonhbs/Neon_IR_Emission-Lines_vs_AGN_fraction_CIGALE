{
 "cells": [
  {
   "cell_type": "markdown",
   "id": "2e1d4ab0",
   "metadata": {},
   "source": [
    "# Create CIGALE input files\n",
    "-----------------------------------------------\n",
    "\n",
    "Here we create the photometry files that we use as an input to [CIGALE](https://cigale.lam.fr/).  \n",
    "\n",
    "The code for creating the phot files was develoved by [Andrés Ramos](a.f.ramos.padilla@rug.nl )."
   ]
  },
  {
   "cell_type": "code",
   "execution_count": 1,
   "id": "7a57a17a",
   "metadata": {},
   "outputs": [
    {
     "data": {
      "text/html": [
       "<style>.container { width:90% !important; }</style>"
      ],
      "text/plain": [
       "<IPython.core.display.HTML object>"
      ]
     },
     "metadata": {},
     "output_type": "display_data"
    },
    {
     "data": {
      "text/html": [
       "<style>.container { font-size:18px !important; }</style>"
      ],
      "text/plain": [
       "<IPython.core.display.HTML object>"
      ]
     },
     "metadata": {},
     "output_type": "display_data"
    }
   ],
   "source": [
    "import numpy as np\n",
    "import astropy.units as u\n",
    "\n",
    "from astropy.table import Table, Column\n",
    "from pathlib import Path\n",
    "from matplotlib import pyplot as plt\n",
    "\n",
    "from IPython.display import display, HTML\n",
    "display(HTML(\"<style>.container { width:90% !important; }</style>\"))\n",
    "display(HTML(\"<style>.container { font-size:18px !important; }</style>\"))"
   ]
  },
  {
   "cell_type": "code",
   "execution_count": 2,
   "id": "c4cdbc82",
   "metadata": {},
   "outputs": [
    {
     "name": "stdout",
     "output_type": "stream",
     "text": [
      "Seyfert galaxies with Ne lines info: 303\n"
     ]
    }
   ],
   "source": [
    "path_raw='../Datos/Raw/'\n",
    "path_phot_ned = '../Datos/Work/Phot_Tables_NED/' #In this path wi will save the photometry tables for each object\n",
    "path_phot_cds = '../Datos/Work/Phot_Tables_CDS/'\n",
    "path_SED = '../Datos/Work/SEDs/'\n",
    "path_CIGALE_phot = '../Datos/Work/CIGALE_InputPhot/'\n",
    "Path(path_CIGALE_phot).mkdir(parents=True, exist_ok=True)\n",
    "path_FINAL = '../Datos/Final/'\n",
    "Path(path_FINAL).mkdir(parents=True, exist_ok=True)\n",
    "\n",
    "date_sample = 'Sep_02_2022'\n",
    "NeIR_obj_t = Table.read(path_raw+'Obj_Sy_Ne-IR_'+date_sample+'.vot',format='votable')\n",
    "print('Seyfert galaxies with Ne lines info:',len(NeIR_obj_t))\n",
    "#NeIR_obj_t.show_in_notebook()"
   ]
  },
  {
   "cell_type": "markdown",
   "id": "8de0095f",
   "metadata": {},
   "source": [
    "## Create equivalences between NED and CDS tables\n",
    "Here we create a list for the different names of the bands in NED and CDS. Each row represents the same band."
   ]
  },
  {
   "cell_type": "code",
   "execution_count": 3,
   "id": "b126b02b",
   "metadata": {},
   "outputs": [],
   "source": [
    "Equival = [['2-10 keV (XMM)', None, None],\n",
    "           ['0.5-2 keV (XMM)', None, None],\n",
    "           ['GALEX:FUV', 'FUV (GALEX)', None],\n",
    "           ['GALEX:NUV', 'NUV (GALEX)', None],\n",
    "           [\"SDSS:u'\", 'SDSS:u', 'u (SDSS) AB'],\n",
    "           [\"SDSS:g'\", 'SDSS:g', 'g (SDSS) AB'],\n",
    "           [\"SDSS:r'\", 'SDSS:r', 'r (SDSS) AB'],\n",
    "           [\"SDSS:i'\", 'SDSS:i', 'i (SDSS) AB'],\n",
    "           [\"SDSS:z'\", 'SDSS:z', 'z (SDSS) AB'],\n",
    "           ['2MASS:J', 'J (2MASS) AB', None],\n",
    "           ['2MASS:H', 'H (2MASS) AB', None],\n",
    "           ['2MASS:Ks', 'Ks (2MASS) AB', None],\n",
    "           ['WISE:W1', 'W1 (WISE)', None],\n",
    "           [':=3.6um', '3.6 microns (IRAC)', None],\n",
    "           [':=4.5um', '4.5 microns (IRAC)', None],\n",
    "           ['WISE:W2', 'W2 (WISE)', None],\n",
    "           [':=5.8um', '5.8 microns (IRAC)', None],\n",
    "           [':=8um', '8.0 microns (IRAC)', None],\n",
    "           ['IRAS:12', '12 microns (IRAS)', None],\n",
    "           ['WISE:W3', 'W3 (WISE)', None],\n",
    "           ['WISE:W4', 'W4 (WISE)', None],\n",
    "           ['Spitzer/MIPS:24', '24 microns (MIPS)', None],\n",
    "           ['IRAS:25', '25 microns (IRAS)', None],\n",
    "           ['IRAS:60', '60 microns (IRAS)', None],\n",
    "           ['Herschel/PACS:70', '70 microns (PACS)', None],\n",
    "           ['Spitzer/MIPS:70', '70 microns (MIPS)', None],\n",
    "           ['IRAS:100', '100 microns (IRAS)', None],\n",
    "           ['Herschel/PACS:100', '100 microns (PACS)', None],\n",
    "           ['Spitzer/MIPS:160', '160 microns (MIPS)', None],\n",
    "           ['Herschel/PACS:160', '160 microns (PACS)', None],\n",
    "           ['Herschel/SPIRE:250', '250 microns (SPIRE)', ':=250um'],\n",
    "           ['Herschel/SPIRE:350', '350 microns (SPIRE)', ':=350um'],\n",
    "           ['Herschel/SPIRE:500', '500 microns (SPIRE)', ':=500um'],\n",
    "           [':=5GHz', ':=6cm', '4.89 GHz (VLA)'],\n",
    "           [':=1.5GHz', ':=20cm', '1.46 GHz (VLA)'],\n",
    "           [':=1.4GHz', ':=21cm', '1.4GHz']\n",
    "           ]"
   ]
  },
  {
   "cell_type": "markdown",
   "id": "23e6eaa4",
   "metadata": {},
   "source": [
    "## Transforming photometry to CIGALE table\n",
    "\n",
    "The next class allows us to transform the units of the SEDs in the selected bands."
   ]
  },
  {
   "cell_type": "code",
   "execution_count": 4,
   "id": "0be7ba31",
   "metadata": {},
   "outputs": [],
   "source": [
    "class TransformCIGALE:\n",
    "    \"\"\"Class to plot the SEDs and create a row with the right units\"\"\"\n",
    "    def __init__(self, sed):\n",
    "        self.sed = sed\n",
    "        #self.init_plot() # To check the SED\n",
    "        self.create_row()\n",
    "\n",
    "    def init_plot(self):\n",
    "        \"Plot the SED\"\n",
    "        plt.errorbar(self.sed['Wave'], self.sed['Flux'], yerr=self.sed['F_er'], fmt='o')\n",
    "        plt.xlim(1e-6, 1e6)\n",
    "        plt.loglog()\n",
    "\n",
    "    def create_row(self):\n",
    "        \"\"\"Calculate the flux and error to use for the SED in CIGALE\"\"\"\n",
    "        # Number of filtets/bands and their errors\n",
    "        self.row = np.full(72, np.nan)\n",
    "        iband = 0\n",
    "        for band in Equival:\n",
    "            crop = self.sed[np.logical_or.reduce([self.sed['Filter'] == band[0],\n",
    "                                                  self.sed['Filter'] == band[1],\n",
    "                                                  self.sed['Filter'] == band[2]])]\n",
    "            flux = np.mean(crop['Flux'])\n",
    "            std = np.sqrt(np.sum(crop['F_er']**2))/len(crop)\n",
    "            self.row[iband] = flux*1000  # To send in mJy\n",
    "            self.row[iband+1] = std*1000  # To send in mJy\n",
    "            iband += 2"
   ]
  },
  {
   "cell_type": "markdown",
   "id": "274d17c0",
   "metadata": {},
   "source": [
    "We create a table with all the CIGALE bands/filters and fill it with the information that we get from NED and CDS. In some cases some of the galaxies are not useful because the bands are not found initially. This could take some minutes."
   ]
  },
  {
   "cell_type": "code",
   "execution_count": 5,
   "id": "09631ad6",
   "metadata": {},
   "outputs": [
    {
     "name": "stderr",
     "output_type": "stream",
     "text": [
      "/home/jonhatan/anaconda3/lib/python3.9/site-packages/numpy/core/fromnumeric.py:3438: RuntimeWarning: Mean of empty slice.\n",
      "  return mean(axis=axis, dtype=dtype, out=out, **kwargs)\n",
      "/home/jonhatan/anaconda3/lib/python3.9/site-packages/numpy/core/_methods.py:189: RuntimeWarning: invalid value encountered in double_scalars\n",
      "  ret = ret.dtype.type(ret / rcount)\n",
      "/tmp/ipykernel_267803/2558554763.py:24: RuntimeWarning: invalid value encountered in double_scalars\n",
      "  std = np.sqrt(np.sum(crop['F_er']**2))/len(crop)\n"
     ]
    }
   ],
   "source": [
    "CIGALEFilter = ['xray_box_car_2to10keV', 'xray_box_car_0p5to2keV', 'FUV', 'NUV',\n",
    "                'u_prime', 'g_prime', 'r_prime', 'i_prime', 'z_prime', 'J_2mass',\n",
    "                'H_2mass', 'Ks_2mass', 'WISE1', 'IRAC1', 'IRAC2', 'WISE2', 'IRAC3', 'IRAC4',\n",
    "                'IRAS1', 'WISE3', 'WISE4', 'MIPS1', 'IRAS2', 'IRAS3', 'PACS_blue', 'MIPS2',\n",
    "                'IRAS4', 'PACS_green', 'MIPS3', 'PACS_red', 'PSW_ext', 'PMW_ext', 'PLW_ext',\n",
    "                'VLA_C', 'VLA_L', 'HI21cm']\n",
    "# VLAC is 6cm ,VLAL is 20 cm and HI21cm is 1.4GHz\n",
    "CIGFilt = [[filt, filt+'_err'] for filt in CIGALEFilter]\n",
    "CIG = Table(names=np.array(CIGFilt).ravel())\n",
    "GoodGalaxies = []\n",
    "\n",
    "for igal, Galaxy in enumerate(NeIR_obj_t['Main_Id']):\n",
    "    #     figure()\n",
    "    try:\n",
    "        sed_file = Table.read(path_SED+Galaxy + '_Phot.txt',\n",
    "                          format='ascii')\n",
    "        if len(sed_file) == 0:\n",
    "            print(Galaxy, igal, 'No useful phot.')\n",
    "        else:\n",
    "            GoodGalaxies.append(igal)\n",
    "            CIG.add_row(TransformCIGALE(sed_file).row)\n",
    "    except FileNotFoundError:\n",
    "        print(Galaxy, igal, 'No Phot. ERROR')"
   ]
  },
  {
   "cell_type": "code",
   "execution_count": 6,
   "id": "c093bfb5",
   "metadata": {},
   "outputs": [
    {
     "data": {
      "text/plain": [
       "['xray_box_car_2to10keV',\n",
       " 'xray_box_car_2to10keV_err',\n",
       " 'xray_box_car_0p5to2keV',\n",
       " 'xray_box_car_0p5to2keV_err',\n",
       " 'FUV',\n",
       " 'FUV_err',\n",
       " 'NUV',\n",
       " 'NUV_err',\n",
       " 'u_prime',\n",
       " 'u_prime_err',\n",
       " 'g_prime',\n",
       " 'g_prime_err',\n",
       " 'r_prime',\n",
       " 'r_prime_err',\n",
       " 'i_prime',\n",
       " 'i_prime_err',\n",
       " 'z_prime',\n",
       " 'z_prime_err',\n",
       " 'J_2mass',\n",
       " 'J_2mass_err',\n",
       " 'H_2mass',\n",
       " 'H_2mass_err',\n",
       " 'Ks_2mass',\n",
       " 'Ks_2mass_err',\n",
       " 'WISE1',\n",
       " 'WISE1_err',\n",
       " 'IRAC1',\n",
       " 'IRAC1_err',\n",
       " 'IRAC2',\n",
       " 'IRAC2_err',\n",
       " 'WISE2',\n",
       " 'WISE2_err',\n",
       " 'IRAC3',\n",
       " 'IRAC3_err',\n",
       " 'IRAC4',\n",
       " 'IRAC4_err',\n",
       " 'IRAS1',\n",
       " 'IRAS1_err',\n",
       " 'WISE3',\n",
       " 'WISE3_err',\n",
       " 'WISE4',\n",
       " 'WISE4_err',\n",
       " 'MIPS1',\n",
       " 'MIPS1_err',\n",
       " 'IRAS2',\n",
       " 'IRAS2_err',\n",
       " 'IRAS3',\n",
       " 'IRAS3_err',\n",
       " 'PACS_blue',\n",
       " 'PACS_blue_err',\n",
       " 'MIPS2',\n",
       " 'MIPS2_err',\n",
       " 'IRAS4',\n",
       " 'IRAS4_err',\n",
       " 'PACS_green',\n",
       " 'PACS_green_err',\n",
       " 'MIPS3',\n",
       " 'MIPS3_err',\n",
       " 'PACS_red',\n",
       " 'PACS_red_err',\n",
       " 'PSW_ext',\n",
       " 'PSW_ext_err',\n",
       " 'PMW_ext',\n",
       " 'PMW_ext_err',\n",
       " 'PLW_ext',\n",
       " 'PLW_ext_err',\n",
       " 'VLA_C',\n",
       " 'VLA_C_err',\n",
       " 'VLA_L',\n",
       " 'VLA_L_err',\n",
       " 'HI21cm',\n",
       " 'HI21cm_err']"
      ]
     },
     "execution_count": 6,
     "metadata": {},
     "output_type": "execute_result"
    }
   ],
   "source": [
    "CIG.colnames"
   ]
  },
  {
   "cell_type": "code",
   "execution_count": 7,
   "id": "f7cd28ef",
   "metadata": {},
   "outputs": [
    {
     "name": "stdout",
     "output_type": "stream",
     "text": [
      "Percentage of galaxies with xray_box_car_2to10keV data: 0.30033003300330036\n",
      "Percentage of galaxies with xray_box_car_0p5to2keV data: 0.24422442244224424\n"
     ]
    }
   ],
   "source": [
    "print('Percentage of galaxies with xray_box_car_2to10keV data:',sum(~np.isnan(CIG[CIG.colnames[0]].data))/len(CIG))\n",
    "print('Percentage of galaxies with xray_box_car_0p5to2keV data:',sum(~np.isnan(CIG[CIG.colnames[3]].data))/len(CIG))"
   ]
  },
  {
   "cell_type": "code",
   "execution_count": 8,
   "id": "93da6fad",
   "metadata": {},
   "outputs": [
    {
     "name": "stdout",
     "output_type": "stream",
     "text": [
      "Percentage of galaxies with VLA_C data: 0.11551155115511551\n",
      "Percentage of galaxies with VLA_L data: 0.07920792079207921\n",
      "Percentage of galaxies with HI21cm data: 0.7623762376237624\n"
     ]
    }
   ],
   "source": [
    "print('Percentage of galaxies with VLA_C data:',sum(~np.isnan(CIG[CIG.colnames[66]].data))/len(CIG))\n",
    "print('Percentage of galaxies with VLA_L data:',sum(~np.isnan(CIG[CIG.colnames[68]].data))/len(CIG))\n",
    "print('Percentage of galaxies with HI21cm data:',sum(~np.isnan(CIG[CIG.colnames[70]].data))/len(CIG))"
   ]
  },
  {
   "cell_type": "code",
   "execution_count": 9,
   "id": "954991d1",
   "metadata": {
    "scrolled": true
   },
   "outputs": [],
   "source": [
    "CIG = CIG[CIG.colnames[4:-6]]  # Remove x-ray and radio wavelengths"
   ]
  },
  {
   "cell_type": "markdown",
   "id": "76dfba20",
   "metadata": {},
   "source": [
    "We add the identifier (main_id) and the redshift from SIMBAD."
   ]
  },
  {
   "cell_type": "code",
   "execution_count": 10,
   "id": "8a478eeb",
   "metadata": {},
   "outputs": [],
   "source": [
    "col_name = Column(name='id', data=NeIR_obj_t['Main_Id'][GoodGalaxies])\n",
    "CIG.add_column(col_name, 0)\n",
    "col_z = Column(name='redshift', data=NeIR_obj_t['redshift'][GoodGalaxies])\n",
    "CIG.add_column(col_z, 1)"
   ]
  },
  {
   "cell_type": "code",
   "execution_count": 11,
   "id": "deca908e",
   "metadata": {},
   "outputs": [],
   "source": [
    "#CIG.show_in_notebook()"
   ]
  },
  {
   "cell_type": "markdown",
   "id": "4cf5cea1",
   "metadata": {},
   "source": [
    "## Clean photometric values\n",
    "\n",
    "Then, for each filter, we verify if the relative error is higher than 33%, in those cases we do not use that information for the modeling. In addition, we remove information with limits, that in some cases are annotated as negative values."
   ]
  },
  {
   "cell_type": "code",
   "execution_count": 12,
   "id": "4cc3204e",
   "metadata": {
    "scrolled": true
   },
   "outputs": [
    {
     "name": "stdout",
     "output_type": "stream",
     "text": [
      "Idx: 1 2MASS J13000535+1632148 FUV 0.4492512399613503\n",
      "Idx: 4 NGC  4945 H_2mass 0.34200465652699563\n",
      "Idx: 8 LEDA   45656 IRAS3 0.4358974358974359\n",
      "Idx: 8 LEDA   45656 IRAS4 0.33548387096774196\n",
      "Idx: 13 LEDA 3095998 H_2mass 0.3611261953891703\n",
      "Idx: 13 LEDA 3095998 Ks_2mass 0.4049506150848603\n",
      "Idx: 13 LEDA 3095998 WISE4 0.4394152443038262\n",
      "Idx: 13 LEDA 3095998 PSW_ext 0.4003778774826832\n",
      "Idx: 15 NGC  4477 IRAC3 20.779224522371056\n",
      "Idx: 16 LEDA   89511 FUV 0.3487694417282854\n",
      "Idx: 18 Mrk  493 IRAS1 0.35659711704621994\n",
      "Idx: 21 2MASS J22255427+1958370 NUV 0.6543330714654052\n",
      "Idx: 21 2MASS J22255427+1958370 H_2mass 0.3977961022174125\n",
      "Idx: 24 [VV2000] J235225.0+244009 J_2mass 0.44079420615248804\n",
      "Idx: 25 3C 196 H_2mass 0.6532557650937084\n",
      "Idx: 26 2MASX J10032788+5541535 FUV 0.3700046809357876\n",
      "Idx: 26 2MASX J10032788+5541535 J_2mass 0.4372501858121231\n",
      "Idx: 26 2MASX J10032788+5541535 H_2mass 0.5033962330961406\n",
      "Idx: 26 2MASX J10032788+5541535 Ks_2mass 0.5585180838315121\n",
      "Idx: 29 IRAS 11215-2806 FUV 0.6596611603744946\n",
      "Idx: 32 NAME Circinus Galaxy J_2mass 0.34017626325255457\n",
      "Idx: 32 NAME Circinus Galaxy H_2mass 0.48468187414021396\n",
      "Idx: 32 NAME Circinus Galaxy Ks_2mass 0.3363203575913312\n",
      "Idx: 32 NAME Circinus Galaxy WISE3 0.3651174794797681\n",
      "Idx: 35 Mrk  463E Ks_2mass 0.536347273770359\n",
      "Idx: 36 NGC  4235 FUV 0.5970215331134421\n",
      "Idx: 36 NGC  4235 J_2mass 0.6771419414816116\n",
      "Idx: 36 NGC  4235 H_2mass 0.6851602180362314\n",
      "Idx: 36 NGC  4235 Ks_2mass 0.5909632912342263\n",
      "Idx: 36 NGC  4235 PLW_ext 0.3699697292488264\n",
      "Idx: 38 UGC  6728 H_2mass 0.4332814736502805\n",
      "Idx: 38 UGC  6728 Ks_2mass 0.3618157354479598\n",
      "Idx: 38 UGC  6728 PSW_ext 0.6220095505745752\n",
      "Idx: 40 NGC  1365 H_2mass 0.46081403060150256\n",
      "Idx: 40 NGC  1365 Ks_2mass 0.33594778086031635\n",
      "Idx: 44 LEDA 1365424 FUV 0.39302970699060896\n",
      "Idx: 45 LEDA   27453 J_2mass 0.4641446341158473\n",
      "Idx: 45 LEDA   27453 H_2mass 0.594858765230493\n",
      "Idx: 45 LEDA   27453 Ks_2mass 0.3363573878872784\n",
      "Idx: 46 NAME Cyg A Ks_2mass 0.35430820378737765\n",
      "Idx: 47 Mrk  877 IRAS3 0.6416635909415122\n",
      "Idx: 47 Mrk  877 IRAS4 0.5210315816201309\n",
      "Idx: 49 Mrk 1383 IRAS1 0.3434270430095866\n",
      "Idx: 49 Mrk 1383 PLW_ext 0.36569758664069574\n",
      "Idx: 51 Negative NGC  3998 IRAC3\n",
      "Idx: 51 NGC  3998 PSW_ext 0.4347826057793791\n",
      "Idx: 51 NGC  3998 PLW_ext 0.6508875748827437\n",
      "Idx: 52 QSO B1626+5529 MIPS3 0.7867494824016563\n",
      "Idx: 54 Mrk 1513 IRAS4 0.43014235692982034\n",
      "Idx: 57 ESO 434-40 H_2mass 0.5555415587305761\n",
      "Idx: 58 LEDA   37102 J_2mass 0.4139563983807156\n",
      "Idx: 58 LEDA   37102 H_2mass 0.3939597315436241\n",
      "Idx: 58 LEDA   37102 Ks_2mass 0.5804324058646088\n",
      "Idx: 61 LEDA   50824 IRAS4 0.3357142857142857\n",
      "Idx: 62 LEDA   29208 IRAS2 0.3333333333333333\n",
      "Idx: 62 LEDA   29208 IRAS3 0.4714045207910317\n",
      "Idx: 62 LEDA   29208 IRAS4 0.3356164383561644\n",
      "Idx: 64 Mrk  471 IRAC1 0.3870967630758249\n",
      "Idx: 66 SDSS J143417.15+020742.3 PMW_ext 0.9631488164192159\n",
      "Idx: 67 IRAS 11119+3257 FUV 0.5128205046475858\n",
      "Idx: 69 2MASX J14305363+3458364 FUV 0.6191217643352293\n",
      "Idx: 74 NAME IRAS F15163+4255 NW IRAS1 0.3800670176204844\n",
      "Idx: 77 NGC   973 FUV 0.5199618749560233\n",
      "Idx: 78 2E  3648 MIPS3 0.4387501249191024\n",
      "Idx: 80 NGC  7469 i_prime 0.3744680979285325\n",
      "Idx: 84 2MASS J08105865+7602424 IRAS3 0.3834290110830718\n",
      "Idx: 87 2MASS J14294306+4747262 IRAS4 0.33695652173913043\n",
      "Idx: 88 MCG+10-17-021 FUV 0.4549227794080959\n",
      "Idx: 91 NGC  5899 H_2mass 0.3670027890598052\n",
      "Idx: 91 NGC  5899 Ks_2mass 0.4752898548144451\n",
      "Idx: 92 LEDA 3096524 FUV 0.509777035328613\n",
      "Idx: 93 NGC  5728 H_2mass 0.5965326794189001\n",
      "Idx: 93 NGC  5728 Ks_2mass 0.49228349351205125\n",
      "Idx: 98 NGC   788 FUV 0.4219985138010398\n",
      "Idx: 99 2C 1066 IRAS3 0.3333333333333333\n",
      "Idx: 99 2C 1066 PSW_ext 0.40784435071651487\n",
      "Idx: 99 2C 1066 PMW_ext 0.3931624038280065\n",
      "Idx: 99 2C 1066 PLW_ext 0.5454545484101477\n",
      "Idx: 102 PB  3894 IRAS3 0.530884371152004\n",
      "Idx: 102 PB  3894 IRAS4 0.3896973905701201\n",
      "Idx: 103 M  88 H_2mass 0.4788636610572352\n",
      "Idx: 108 NGC  1566 J_2mass 0.42340295150012436\n",
      "Idx: 108 NGC  1566 Ks_2mass 0.58918049969631\n",
      "Idx: 109 NGC  1808 Ks_2mass 0.34160515950865733\n",
      "Idx: 112 Mrk 1298 IRAS4 0.7445034019836412\n",
      "Idx: 116 2MASS J10520202+5633010 H_2mass 0.36426155320411574\n",
      "Idx: 116 2MASS J10520202+5633010 Ks_2mass 0.3489984514562044\n",
      "Idx: 117 2MASX J14510879+2709272 IRAS3 0.4472299299812352\n",
      "Idx: 123 LEDA  165618 J_2mass 0.7340495619644277\n",
      "Idx: 125 3C 343.1 WISE3 0.33671101035958534\n",
      "Idx: 125 3C 343.1 WISE4 0.5112807448689072\n",
      "Idx: 127 Ton  182 IRAS4 0.3333333333333333\n",
      "Idx: 128 MCG+13-07-002 H_2mass 0.4231494874849347\n",
      "Idx: 130 ICRF J145907.5+714019 H_2mass 0.3564991683555453\n",
      "Idx: 133 ESO   5-4 FUV 0.40812873115647097\n",
      "Idx: 139 [VV2003c] J135355.9+664800 J_2mass 0.5673419554488012\n",
      "Idx: 139 [VV2003c] J135355.9+664800 H_2mass 0.5162243134777199\n",
      "Idx: 139 [VV2003c] J135355.9+664800 Ks_2mass 0.37331837758138203\n",
      "Idx: 142 NGC  7314 Ks_2mass 0.5640364156121215\n",
      "Idx: 144 UGC  1395 IRAS4 0.3988212600462973\n",
      "Idx: 145 IC 4518A Ks_2mass 0.4360754524518842\n",
      "Idx: 147 2XMM J094506.4+035552 FUV 0.3578947270383553\n",
      "Idx: 147 2XMM J094506.4+035552 J_2mass 0.5137035349444684\n",
      "Idx: 147 2XMM J094506.4+035552 H_2mass 0.5134768648073624\n",
      "Idx: 147 2XMM J094506.4+035552 Ks_2mass 0.519030526218128\n",
      "Idx: 149 Mrk  771 IRAS1 0.4610322071749652\n",
      "Idx: 149 Mrk  771 IRAS2 0.478190196416656\n",
      "Idx: 149 Mrk  771 IRAS3 0.68823841654837\n",
      "Idx: 149 Mrk  771 IRAS4 0.497664897232133\n",
      "Idx: 151 Mrk 1014 IRAS1 0.4144747870648177\n",
      "Idx: 151 Mrk 1014 PLW_ext 0.34228018810705935\n",
      "Idx: 154 ESO 428-14 J_2mass 0.3567175869435021\n",
      "Idx: 154 ESO 428-14 WISE1 0.6109310874464535\n",
      "Idx: 155 2MASX J21564950-0745325 FUV 0.5730444590602027\n",
      "Idx: 155 2MASX J21564950-0745325 NUV 0.5100615766505129\n",
      "Idx: 155 2MASX J21564950-0745325 H_2mass 0.37467238089438365\n",
      "Idx: 155 2MASX J21564950-0745325 Ks_2mass 0.348414062959558\n",
      "Idx: 156 LEDA 2816291 J_2mass 0.34650248343536744\n",
      "Idx: 156 LEDA 2816291 Ks_2mass 0.44860921752964333\n",
      "Idx: 157 NGC  5347 Ks_2mass 0.6517836514071266\n",
      "Idx: 161 NGC  1320 H_2mass 0.36059131396262434\n",
      "Idx: 165 NGC  2273 H_2mass 0.4824935607567282\n",
      "Idx: 165 NGC  2273 Ks_2mass 0.35651533072547387\n",
      "Idx: 169 2MASX J10181928+3722419 FUV 0.6308680529485586\n",
      "Idx: 172 2MASS J13234951+6541480 IRAS3 0.3333333333333333\n",
      "Idx: 173 Negative Mrk  335 MIPS1\n",
      "Idx: 176 LEDA 1487448 J_2mass 0.41605335069196064\n",
      "Idx: 177 NGC  4395 J_2mass 0.5945907576530111\n",
      "Idx: 177 NGC  4395 H_2mass 0.7670832692559019\n",
      "Idx: 177 NGC  4395 Ks_2mass 0.9327474261842866\n",
      "Idx: 181 2MASX J14254352+3345275 H_2mass 0.36210265045073736\n",
      "Idx: 181 2MASX J14254352+3345275 Ks_2mass 0.3395221926527268\n",
      "Idx: 184 LEDA 2149945 IRAS4 0.46588228234300477\n",
      "Idx: 185 NGC  7743 FUV 0.7021770835390163\n",
      "Idx: 185 NGC  7743 IRAS1 0.41\n",
      "Idx: 186 Mrk   22 J_2mass 0.3384192382169224\n",
      "Idx: 186 Mrk   22 Ks_2mass 0.7818374406306589\n",
      "Idx: 187 LEDA   90127 FUV 0.7404168751444005\n",
      "Idx: 187 LEDA   90127 J_2mass 0.34483173232919084\n",
      "Idx: 187 LEDA   90127 H_2mass 0.3607180052395332\n",
      "Idx: 188 ESO 445-50 FUV 0.4028657309527838\n",
      "Idx: 195 ICRF J134733.3+121724 FUV 0.42229728668547417\n",
      "Idx: 195 ICRF J134733.3+121724 IRAS1 0.4549218668746077\n",
      "Idx: 200 MCG-02-08-039 FUV 0.8267604079243215\n",
      "Idx: 202 NGC  6221 H_2mass 0.514680356944212\n",
      "Idx: 202 NGC  6221 Ks_2mass 0.4245395993825897\n",
      "Idx: 202 NGC  6221 WISE1 0.8484976490425565\n",
      "Idx: 206 MCG-03-34-064 IRAS4 0.35308689492539247\n",
      "Idx: 207 NGC  3516 H_2mass 0.6231415397720558\n",
      "Idx: 207 NGC  3516 Ks_2mass 0.432357240915598\n",
      "Idx: 207 NGC  3516 PSW_ext 0.38655738303582443\n",
      "Idx: 212 Mrk   79 g_prime 0.3694560220711428\n",
      "Idx: 216 2MASX J18334627+4727027 FUV 0.41342939825386843\n",
      "Idx: 216 2MASX J18334627+4727027 NUV 0.34455045968602316\n",
      "Idx: 216 2MASX J18334627+4727027 H_2mass 0.3810177999777639\n",
      "Idx: 219 2MASS J01083516+2148186 FUV 0.4403518926445867\n",
      "Idx: 220 3C  22.0 PACS_red 0.34050632911392403\n",
      "Idx: 221 2MASX J14304627+3513133 H_2mass 0.35161944180389926\n",
      "Idx: 221 2MASX J14304627+3513133 PLW_ext 0.4705882290552233\n",
      "Idx: 222 Ton  1565 PACS_green 0.5137665773220684\n",
      "Idx: 222 Ton  1565 PACS_red 0.7178016131136966\n",
      "Idx: 222 Ton  1565 PLW_ext 0.6223776257500403\n",
      "Idx: 235 2MASSI J0918486+211717 NUV 0.509156597320322\n",
      "Idx: 237 [VV2003c] J082001.7+505039 FUV 0.35385610786032906\n",
      "Idx: 238 2MASX J08584172+1041223 FUV 0.5493575283695752\n",
      "Idx: 240 3C 343 NUV 0.3604857911708778\n",
      "Idx: 247 LEDA  165630 FUV 0.5170208177995037\n",
      "Idx: 247 LEDA  165630 J_2mass 0.39495652027107137\n",
      "Idx: 247 LEDA  165630 H_2mass 0.4635756246585694\n",
      "Idx: 247 LEDA  165630 Ks_2mass 0.42472553104006505\n",
      "Idx: 249 4C 23.43 J_2mass 0.3752702189165658\n",
      "Idx: 249 4C 23.43 H_2mass 0.7446379769548492\n",
      "Idx: 249 4C 23.43 Ks_2mass 0.5510200580303541\n",
      "Idx: 249 4C 23.43 WISE4 0.42323876695806906\n",
      "Idx: 249 4C 23.43 MIPS2 0.4051695088543892\n",
      "Idx: 251 Mrk  705 IRAS4 0.3946774509549994\n",
      "Idx: 253 3C 286 H_2mass 0.4340060989839992\n",
      "Idx: 253 3C 286 PACS_green 0.7142857181561458\n",
      "Idx: 253 3C 286 PACS_red 0.6401138168954585\n",
      "Idx: 255 NGC  4725 IRAC4 0.34148498490289125\n",
      "Idx: 255 NGC  4725 WISE4 0.4212209890352737\n",
      "Idx: 257 [VV2003c] J124819.8+662143 FUV 0.36538699498827176\n",
      "Idx: 257 [VV2003c] J124819.8+662143 WISE4 0.3744481982311206\n",
      "Idx: 261 Negative NGC  2110 NUV\n",
      "Idx: 261 NGC  2110 J_2mass 0.38216033245488834\n",
      "Idx: 261 NGC  2110 H_2mass 0.5231701275022801\n",
      "Idx: 261 NGC  2110 Ks_2mass 0.4406189501569677\n",
      "Idx: 262 2MASS J10514425+3539307 NUV 0.7120152535553957\n",
      "Idx: 264 SDSS J120424.54+192509.7 FUV 0.6779274134549155\n",
      "Idx: 264 SDSS J120424.54+192509.7 NUV 0.3436628714864566\n",
      "Idx: 265 NGC  4968 FUV 0.3422526119542966\n",
      "Idx: 267 NGC  3660 MIPS1 0.5\n",
      "Idx: 269 2E  2389 MIPS3 0.48869047619047623\n",
      "Idx: 270 ESO 103-35 IRAS4 0.5697668865454618\n",
      "Idx: 274 2E  2503 MIPS3 0.41104972375690607\n",
      "Idx: 275 NGC  4922 IRAS1 0.431484641956416\n",
      "Idx: 277 PG 0953+414 IRAS3 0.5233644859813084\n",
      "Idx: 277 PG 0953+414 MIPS3 0.4289156626506023\n",
      "Idx: 280 NGC  1194 FUV 0.49933605169509815\n",
      "Idx: 280 NGC  1194 NUV 0.35182211186785656\n",
      "Idx: 281 NGC  6814 J_2mass 0.51480615196382\n",
      "Idx: 281 NGC  6814 H_2mass 0.979429950906261\n",
      "Idx: 281 NGC  6814 Ks_2mass 0.4720134355869645\n",
      "Idx: 282 ICRF J015002.6-072548 FUV 0.7344385292790974\n",
      "Idx: 283 Mrk  463 Ks_2mass 0.536347273770359\n",
      "Idx: 285 Z 121-75 IRAS1 0.38499999426305304\n",
      "Idx: 285 Z 121-75 IRAS2 0.38499999426305304\n",
      "Idx: 285 Z 121-75 IRAS3 0.38499999426305304\n",
      "Idx: 289 LEDA 2817285 FUV 0.4004449199304373\n",
      "Idx: 289 LEDA 2817285 NUV 0.40632054268230927\n",
      "Idx: 289 LEDA 2817285 J_2mass 0.4222452834733501\n",
      "Idx: 289 LEDA 2817285 H_2mass 0.4741387613037584\n",
      "Idx: 291 Mrk 1506 PMW_ext 0.9110109988054271\n",
      "Idx: 292 IRAS F00183-7111 FUV 0.46367656889202397\n",
      "Idx: 292 IRAS F00183-7111 NUV 0.348522387407816\n",
      "Idx: 292 IRAS F00183-7111 J_2mass 0.38800306727581824\n",
      "Idx: 292 IRAS F00183-7111 H_2mass 0.45240806095324343\n",
      "Idx: 293 LBQS 1244+0238 IRAS4 0.3342541436464088\n",
      "Idx: 298 2MASS J10434845+5811477 FUV 0.5952073112897841\n",
      "Idx: 299 NGC  3081 J_2mass 0.4244263387355995\n",
      "Idx: 299 NGC  3081 H_2mass 0.4754997268791595\n",
      "Idx: 302 2MASX J00215355-7910077 H_2mass 0.3370297916064348\n"
     ]
    }
   ],
   "source": [
    "for igal in range(len(CIG)):\n",
    "    for icol in CIG.colnames[2::2]:\n",
    "        if CIG[icol+'_err'][igal]/CIG[icol][igal] >= 1/3.:  # Higher than 33%\n",
    "            print('Idx:',igal,CIG['id'][igal], icol, CIG[icol+'_err'][igal]/CIG[icol][igal])\n",
    "            CIG[icol+'_err'][igal] = np.nan\n",
    "            CIG[icol][igal] = np.nan\n",
    "        if CIG[icol+'_err'][igal]/CIG[icol][igal] <= 0:  # Negative Limits\n",
    "            print('Idx:',igal,'Negative', CIG['id'][igal], icol)\n",
    "            CIG[icol+'_err'][igal] = np.nan\n",
    "            CIG[icol][igal] = np.nan"
   ]
  },
  {
   "cell_type": "markdown",
   "id": "95d545ba",
   "metadata": {},
   "source": [
    "We define a minimum error for each filter to avoid overfitting"
   ]
  },
  {
   "cell_type": "code",
   "execution_count": 13,
   "id": "74709742",
   "metadata": {},
   "outputs": [],
   "source": [
    "def add_min_err(phot_tab, list_bands, error):\n",
    "    \"\"\"Function to add a minimum error for the bands\"\"\"\n",
    "    for col in list_bands:\n",
    "        rel_error = phot_tab[col+'_err']/phot_tab[col]\n",
    "        phot_tab[col+'_err'] = np.fmax(rel_error, error)*phot_tab[col]"
   ]
  },
  {
   "cell_type": "code",
   "execution_count": 14,
   "id": "40629c69",
   "metadata": {},
   "outputs": [],
   "source": [
    "add_min_err(CIG, ['FUV', 'NUV'], 0.1)\n",
    "add_min_err(CIG, ['u_prime', 'g_prime', 'r_prime', 'i_prime', 'z_prime'], 0.02)\n",
    "add_min_err(CIG, ['J_2mass', 'H_2mass', 'Ks_2mass'], 0.02)\n",
    "add_min_err(CIG, ['IRAC1', 'IRAC2', 'IRAC3', 'IRAC4'], 0.03)\n",
    "add_min_err(CIG, ['MIPS1', 'MIPS2', 'MIPS3'], 0.04)\n",
    "add_min_err(CIG, ['WISE1', 'WISE2', 'WISE3', 'WISE4'], 0.06)\n",
    "add_min_err(CIG, ['PACS_blue', 'PACS_green', 'PACS_red'], 0.1)\n",
    "add_min_err(CIG, ['PSW_ext', 'PMW_ext', 'PLW_ext'], 0.07)"
   ]
  },
  {
   "cell_type": "markdown",
   "id": "ef50b499",
   "metadata": {},
   "source": [
    "-------------------\n",
    "## Remove galaxies without energy balance\n",
    "\n",
    "Then, we look for galaxies where the energy balance cannot be well constrained (i.e. galaxies where there is not enough bands in the optical and IR wavelengths)."
   ]
  },
  {
   "cell_type": "code",
   "execution_count": 15,
   "id": "38e6e92b",
   "metadata": {},
   "outputs": [
    {
     "name": "stdout",
     "output_type": "stream",
     "text": [
      "Galaxy NGC  4945 has 15 useful photometry points\n",
      "Galaxy NAME 3C 330G2 has 6 useful photometry points\n",
      "Galaxy 2MASS J22255427+1958370 has 8 useful photometry points\n",
      "Galaxy LEDA   90196 has 12 useful photometry points\n",
      "Galaxy MCG+04-48-002 has 22 useful photometry points\n",
      "Galaxy [VV2000] J235225.0+244009 has 10 useful photometry points\n",
      "Galaxy 3C 196 has 10 useful photometry points\n",
      "Galaxy NAME Circinus Galaxy has 12 useful photometry points\n",
      "Galaxy Mrk  463E has 13 useful photometry points\n",
      "Galaxy NGC  1365 has 22 useful photometry points\n",
      "Galaxy LEDA   27453 has 12 useful photometry points\n",
      "Galaxy NAME Cyg A has 11 useful photometry points\n",
      "Galaxy IRAS 11119+3257 has 14 useful photometry points\n",
      "Galaxy 2MASS J14533151+1353587 has 13 useful photometry points\n",
      "Galaxy 2C 1066 has 8 useful photometry points\n",
      "Galaxy ICRF J054236.1+495107 has 9 useful photometry points\n",
      "Galaxy 2MASS J10520202+5633010 has 10 useful photometry points\n",
      "Galaxy 3C 343.1 has 3 useful photometry points\n",
      "Galaxy ICRF J145907.5+714019 has 13 useful photometry points\n",
      "Galaxy ESO   5-4 has 18 useful photometry points\n",
      "Galaxy [VV2003c] J135355.9+664800 has 12 useful photometry points\n",
      "Galaxy IC 4518A has 14 useful photometry points\n",
      "Galaxy NGC  6300 has 19 useful photometry points\n",
      "Galaxy 2MASS J00070361+1554238 has 10 useful photometry points\n",
      "Galaxy Mrk  335 has 20 useful photometry points\n",
      "Galaxy LEDA 1487448 has 12 useful photometry points\n",
      "Galaxy Mrk   22 has 10 useful photometry points\n",
      "Galaxy NGC  6221 has 18 useful photometry points\n",
      "Galaxy LEDA   68751 has 13 useful photometry points\n",
      "Galaxy 2MASX J18334627+4727027 has 10 useful photometry points\n",
      "Galaxy 2MASS J01083516+2148186 has 10 useful photometry points\n",
      "Galaxy 3C  22.0 has 11 useful photometry points\n",
      "Galaxy 2MASX J14304627+3513133 has 14 useful photometry points\n",
      "Galaxy LEDA   24384 has 9 useful photometry points\n",
      "Galaxy [VV2003c] J082001.7+505039 has 11 useful photometry points\n",
      "Galaxy 2MASX J08584172+1041223 has 16 useful photometry points\n",
      "Galaxy 3C 343 has 12 useful photometry points\n",
      "Galaxy 3C 452 has 12 useful photometry points\n",
      "Galaxy LEDA  165630 has 12 useful photometry points\n",
      "Galaxy 4C 23.43 has 10 useful photometry points\n",
      "Galaxy UGC  3351 has 22 useful photometry points\n",
      "Galaxy 3C 286 has 17 useful photometry points\n",
      "Galaxy [VV2003c] J124819.8+662143 has 9 useful photometry points\n",
      "Galaxy MCG-01-24-012 has 18 useful photometry points\n",
      "Galaxy NGC  2110 has 19 useful photometry points\n",
      "Galaxy SDSS J120424.54+192509.7 has 16 useful photometry points\n",
      "Galaxy ICRF J182931.7+484446 has 9 useful photometry points\n",
      "Galaxy Mrk  463 has 17 useful photometry points\n",
      "Galaxy LEDA 2817285 has 7 useful photometry points\n",
      "Galaxy IRAS F00183-7111 has 13 useful photometry points\n",
      "Galaxy 2MASS J10434845+5811477 has 16 useful photometry points\n"
     ]
    }
   ],
   "source": [
    "BadGalaxies = []\n",
    "for igal, Lrow in enumerate(CIG):\n",
    "    IRPhotPoints = sum(~np.isnan(list(Lrow.as_void())[22:]))/2  # From WISE to PLW\n",
    "    OpPhotPoints = sum(~np.isnan(list(Lrow.as_void())[2:22]))/2  # From FUV to Ks\n",
    "    if IRPhotPoints < 3 or OpPhotPoints < 5:\n",
    "         print('Galaxy %s has %i useful photometry points' %\n",
    "               (Lrow['id'], IRPhotPoints+OpPhotPoints))\n",
    "         BadGalaxies.append(igal)"
   ]
  },
  {
   "cell_type": "code",
   "execution_count": 16,
   "id": "8f2248b7",
   "metadata": {},
   "outputs": [
    {
     "name": "stdout",
     "output_type": "stream",
     "text": [
      "The total galaxies to remove are 51\n"
     ]
    }
   ],
   "source": [
    "print('The total galaxies to remove are %d'%len(BadGalaxies))"
   ]
  },
  {
   "cell_type": "markdown",
   "id": "15805b38",
   "metadata": {},
   "source": [
    "To complement this information we plot the total photometry points in the `BadGalaxies`."
   ]
  },
  {
   "cell_type": "code",
   "execution_count": 17,
   "id": "2f6b12cb",
   "metadata": {},
   "outputs": [
    {
     "data": {
      "text/plain": [
       "<matplotlib.legend.Legend at 0x7fe0befd4490>"
      ]
     },
     "execution_count": 17,
     "metadata": {},
     "output_type": "execute_result"
    },
    {
     "data": {
      "image/png": "[encoded data removed]",
      "text/plain": [
       "<Figure size 640x480 with 1 Axes>"
      ]
     },
     "metadata": {},
     "output_type": "display_data"
    }
   ],
   "source": [
    "Tpins = []\n",
    "TpinsIR = []\n",
    "TpinsOp = []\n",
    "for Lrow in CIG[BadGalaxies]:\n",
    "    # All the bad galaxies\n",
    "    Tpins.append(sum(~np.isnan(list(Lrow.as_void())[2:]))/2)\n",
    "    # Galaxies discarded due to IR wavelegnths\n",
    "    TpinsIR.append(sum(~np.isnan(list(Lrow.as_void())[22:]))/2)\n",
    "    # Galaxies discarded due to Opt. wavelengths\n",
    "    TpinsOp.append(sum(~np.isnan(list(Lrow.as_void())[2:22]))/2)\n",
    "plt.hist(Tpins, bins=np.linspace(0, 26, 27), label='Bad Galaxies')\n",
    "plt.hist(TpinsIR, bins=np.linspace(0, 26, 27),\n",
    "         histtype='step', label='Discarded by IR')\n",
    "plt.hist(TpinsOp, bins=np.linspace(0, 26, 27),\n",
    "         histtype='step', label='Discarded by Opt.')\n",
    "plt.ylabel('Number of galaxies')\n",
    "plt.xlabel('Number of bands')\n",
    "plt.legend()"
   ]
  },
  {
   "cell_type": "markdown",
   "id": "04f07add",
   "metadata": {},
   "source": [
    "Most of the `BadGalaxies` are located in a large range of redshifts, mainly affecting galaxies at redshifts above $z=0$. This means that some of these galaxies are not well covered in some of the selected instruments and/or that the photometric values are not well constrained."
   ]
  },
  {
   "cell_type": "code",
   "execution_count": 18,
   "id": "8fd19823",
   "metadata": {},
   "outputs": [
    {
     "data": {
      "text/plain": [
       "<matplotlib.legend.Legend at 0x7fe0be544bb0>"
      ]
     },
     "execution_count": 18,
     "metadata": {},
     "output_type": "execute_result"
    },
    {
     "data": {
      "image/png": "[encoded data removed]",
      "text/plain": [
       "<Figure size 640x480 with 1 Axes>"
      ]
     },
     "metadata": {},
     "output_type": "display_data"
    }
   ],
   "source": [
    "Redbins = np.linspace(0, 1.0, 50)\n",
    "plt.hist(CIG['redshift'], bins=Redbins, label='All galaxies')\n",
    "plt.hist(CIG[BadGalaxies]['redshift'], bins=Redbins, histtype='step', label='Bad Galaxies')\n",
    "plt.xlabel('Redshift')\n",
    "plt.ylabel('Number of galaxies')\n",
    "plt.yscale('log')\n",
    "plt.legend()"
   ]
  },
  {
   "cell_type": "markdown",
   "id": "c0f36f83",
   "metadata": {},
   "source": [
    "We save in a different file those galaxies that do not fulfill the energy balance we want. And then, we removed them from the sample."
   ]
  },
  {
   "cell_type": "code",
   "execution_count": 19,
   "id": "2a49ce8e",
   "metadata": {},
   "outputs": [],
   "source": [
    "CIG[BadGalaxies].write('../Datos/Complementary/CIGPhot_BadEnergyBalance.tbl', format='ascii',overwrite=True)\n",
    "\n",
    "# Remove galaxies with bad energy balance coverage\n",
    "CIG.remove_rows(BadGalaxies)"
   ]
  },
  {
   "cell_type": "markdown",
   "id": "9827b1f3",
   "metadata": {},
   "source": [
    "---------------------------\n",
    "## Separating galaxies depending on redshift for the CIGALE photometry files\n",
    "\n",
    "With this the sample of galaxies will have a range on redshifts of:"
   ]
  },
  {
   "cell_type": "code",
   "execution_count": 20,
   "id": "0900f33a",
   "metadata": {},
   "outputs": [
    {
     "name": "stdout",
     "output_type": "stream",
     "text": [
      "Min z=-0.00, Max z=0.65 and Median z~0.02\n"
     ]
    }
   ],
   "source": [
    "print(\"Min z=%.2f, Max z=%.2f and Median z~%.2f\"%(\n",
    "    np.min(CIG['redshift']),\n",
    "    np.max(CIG['redshift']),\n",
    "    np.median(CIG['redshift'])))"
   ]
  },
  {
   "cell_type": "markdown",
   "id": "5afe406e",
   "metadata": {},
   "source": [
    "We found that most of our sample are below 𝑧=0.40, with a maximum at 𝑧=0.65, so we are going to split the galaxies in ten different groups/files to split the CIGALE runs and avoid computational overwork in CIGALE."
   ]
  },
  {
   "cell_type": "code",
   "execution_count": 21,
   "id": "44a4f67b",
   "metadata": {},
   "outputs": [],
   "source": [
    "cnt, zbin = np.histogram(CIG['redshift'], bins=np.linspace(-0.01, 1.0, 100))\n",
    "z_splits = np.percentile(zbin[:-1][cnt > 0], np.linspace(0, 100, 11))\n",
    "z_splits[-1] += 0.01  # To add the last galaxy\n",
    "group_zfile = np.digitize(CIG['redshift'], z_splits)"
   ]
  },
  {
   "cell_type": "code",
   "execution_count": 22,
   "id": "9d123007",
   "metadata": {},
   "outputs": [
    {
     "data": {
      "text/plain": [
       "array([-0.01      ,  0.02060606,  0.05121212,  0.08181818,  0.11242424,\n",
       "        0.1430303 ,  0.17363636,  0.20424242,  0.24505051,  0.29606061,\n",
       "        0.65292929])"
      ]
     },
     "execution_count": 22,
     "metadata": {},
     "output_type": "execute_result"
    }
   ],
   "source": [
    "z_splits"
   ]
  },
  {
   "cell_type": "markdown",
   "id": "03fc7778",
   "metadata": {},
   "source": [
    "Now we save the files for each group and count the number of galaxies per group."
   ]
  },
  {
   "cell_type": "code",
   "execution_count": 23,
   "id": "bebd19a6",
   "metadata": {
    "scrolled": true
   },
   "outputs": [
    {
     "name": "stdout",
     "output_type": "stream",
     "text": [
      "Group 1 with 117 galaxies\n",
      "Group 2 with 59 galaxies\n",
      "Group 3 with 25 galaxies\n",
      "Group 4 with 8 galaxies\n",
      "Group 5 with 9 galaxies\n",
      "Group 6 with 17 galaxies\n",
      "Group 7 with 6 galaxies\n",
      "Group 8 with 4 galaxies\n",
      "Group 9 with 3 galaxies\n",
      "Group 10 with 4 galaxies\n"
     ]
    }
   ],
   "source": [
    "csd = 0\n",
    "for i in range(1, max(group_zfile)+1):\n",
    "    csd += len(CIG[group_zfile == i])\n",
    "    print('Group %i with %d galaxies' % (i, len(CIG[group_zfile == i])))\n",
    "    CIG[group_zfile == i].write(path_CIGALE_phot+'CIGPhot_EnergyBal_'+str(i)+'.tbl',\n",
    "                                format='ascii',overwrite=True)\n",
    "assert len(CIG) == csd"
   ]
  },
  {
   "cell_type": "markdown",
   "id": "addc7804",
   "metadata": {},
   "source": [
    "We plot the distribution on redshift, with the bins defined for each final group."
   ]
  },
  {
   "cell_type": "code",
   "execution_count": 24,
   "id": "6ce682de",
   "metadata": {
    "scrolled": false
   },
   "outputs": [
    {
     "data": {
      "text/plain": [
       "Text(0, 0.5, 'Counts')"
      ]
     },
     "execution_count": 24,
     "metadata": {},
     "output_type": "execute_result"
    },
    {
     "data": {
      "image/png": "[encoded data removed]",
      "text/plain": [
       "<Figure size 640x480 with 1 Axes>"
      ]
     },
     "metadata": {},
     "output_type": "display_data"
    }
   ],
   "source": [
    "plt.hist(CIG['redshift'], bins=z_splits, log=True)\n",
    "plt.xlabel('Redshift')\n",
    "plt.ylabel('Counts')"
   ]
  },
  {
   "cell_type": "markdown",
   "id": "af2f3686",
   "metadata": {},
   "source": [
    "Finally, we also save a file for all the galaxies, as in some cases this file is useful."
   ]
  },
  {
   "cell_type": "code",
   "execution_count": 25,
   "id": "0fd43a39",
   "metadata": {},
   "outputs": [],
   "source": [
    "CIG.write(path_FINAL+'CIGPhot_EnergyBal_All.tbl', format='ascii',overwrite=True)"
   ]
  },
  {
   "cell_type": "code",
   "execution_count": 26,
   "id": "a31efd43",
   "metadata": {},
   "outputs": [
    {
     "data": {
      "text/plain": [
       "252"
      ]
     },
     "execution_count": 26,
     "metadata": {},
     "output_type": "execute_result"
    }
   ],
   "source": [
    "len(CIG)"
   ]
  },
  {
   "cell_type": "markdown",
   "id": "a1cd5c7e",
   "metadata": {},
   "source": [
    "-------------------------------------\n",
    "\n",
    "## Notebook info:"
   ]
  },
  {
   "cell_type": "code",
   "execution_count": 27,
   "id": "6966091c",
   "metadata": {},
   "outputs": [
    {
     "name": "stdout",
     "output_type": "stream",
     "text": [
      "Author: Jonhatan Bernal\n",
      "\n",
      "Python implementation: CPython\n",
      "Python version       : 3.9.12\n",
      "IPython version      : 7.31.1\n",
      "\n",
      "Compiler    : GCC 7.5.0\n",
      "OS          : Linux\n",
      "Release     : 5.15.0-58-generic\n",
      "Machine     : x86_64\n",
      "Processor   : x86_64\n",
      "CPU cores   : 8\n",
      "Architecture: 64bit\n",
      "\n",
      "Specific Python packages\n",
      "astropy: 5.1\n",
      "\n",
      "numpy     : 1.21.5\n",
      "matplotlib: 3.5.2\n",
      "astropy   : 5.1\n",
      "\n",
      "Watermark: 2.3.1\n",
      "\n"
     ]
    }
   ],
   "source": [
    "%reload_ext watermark\n",
    "%watermark -a \"Jonhatan Bernal\" -d -v -m\n",
    "print('Specific Python packages')\n",
    "%watermark -iv -w --packages astropy"
   ]
  },
  {
   "cell_type": "code",
   "execution_count": null,
   "id": "177edd7d",
   "metadata": {},
   "outputs": [],
   "source": []
  }
 ],
 "metadata": {
  "kernelspec": {
   "display_name": "Python 3 (ipykernel)",
   "language": "python",
   "name": "python3"
  },
  "language_info": {
   "codemirror_mode": {
    "name": "ipython",
    "version": 3
   },
   "file_extension": ".py",
   "mimetype": "text/x-python",
   "name": "python",
   "nbconvert_exporter": "python",
   "pygments_lexer": "ipython3",
   "version": "3.9.12"
  }
 },
 "nbformat": 4,
 "nbformat_minor": 5
}
