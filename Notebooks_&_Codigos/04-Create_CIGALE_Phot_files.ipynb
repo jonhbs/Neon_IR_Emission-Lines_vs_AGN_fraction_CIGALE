{
 "cells": [
  {
   "cell_type": "markdown",
   "id": "2e1d4ab0",
   "metadata": {},
   "source": [
    "# Create CIGALE input files\n",
    "\n",
    "Here we create the photometry files that we use as an input to [CIGALE](https://cigale.lam.fr/).  \n",
    "\n",
    "All the code for create those files was develoved by [Andrés Ramos](a.f.ramos.padilla@rug.nl )."
   ]
  },
  {
   "cell_type": "code",
   "execution_count": 1,
   "id": "7a57a17a",
   "metadata": {},
   "outputs": [],
   "source": [
    "from datetime import date\n",
    "import time\n",
    "import numpy as np\n",
    "import astropy.units as u\n",
    "\n",
    "from astroquery.ipac.ned import Ned\n",
    "from astropy.table import Table, Column\n",
    "from pathlib import Path\n",
    "\n",
    "from matplotlib import pyplot as plt"
   ]
  },
  {
   "cell_type": "code",
   "execution_count": 2,
   "id": "c4cdbc82",
   "metadata": {},
   "outputs": [
    {
     "data": {
      "text/html": [
       "<i>Table length=359</i>\n",
       "<table id=\"table139825956042832-675451\" class=\"table-striped table-bordered table-condensed\">\n",
       "<thead><tr><th>idx</th><th>Main_Id</th><th>Id_used_NED</th><th>RA</th><th>DEC</th><th>otype_txt</th><th>redshift</th><th>rvz_type</th><th>otypes</th><th>cds_url</th><th>SMB_sample_index</th><th>Ne_IR_info</th><th>NED_Ne_IR_info</th></tr></thead>\n",
       "<tr><td>0</td><td>3C 234.0</td><td>3C 234.0</td><td>150.45634473807</td><td>28.7858176354</td><td>Sy1</td><td>0.18494</td><td>z</td><td>AGN|G  |IR |QSO|Rad|Sy1|X  |blu|gam</td><td>http://vizier.u-strasbg.fr/viz-bin/sed?-c=150.45634473807%2028.7858176354&amp;-c.rs=5</td><td>283.0</td><td>NeII|NeIII|NeV</td><td>NeII|NeIII|NeV</td></tr>\n",
       "<tr><td>1</td><td>M  84</td><td>M  84</td><td>186.2655972083333</td><td>12.886983138888887</td><td>Sy2</td><td>0.00327</td><td>z</td><td>*  |AGN|G  |GiC|GiG|IR |Rad|Sy2|UV |X  |smm</td><td>http://vizier.u-strasbg.fr/viz-bin/sed?-c=186.2655972083333%2012.886983138888887&amp;-c.rs=5</td><td>414.0</td><td>NeV</td><td>NeV</td></tr>\n",
       "<tr><td>2</td><td>2MASS J13000535+1632148</td><td>NVSS J130005+163212</td><td>195.02228295163</td><td>16.53743305218</td><td>Sy1</td><td>0.07993</td><td>z</td><td>AGN|G  |IR |Rad|Sy1|X</td><td>http://vizier.u-strasbg.fr/viz-bin/sed?-c=195.02228295163%2016.53743305218&amp;-c.rs=5</td><td>428.0</td><td>NeII|NeIII</td><td>NeII|NeIII</td></tr>\n",
       "<tr><td>3</td><td>NGC   262</td><td>NGC   262</td><td>12.196426138730002</td><td>31.956956641230004</td><td>Sy2</td><td>0.015260233939595302</td><td>v</td><td>*  |AGN|Bla|G  |GiG|IR |QSO|Rad|Sy2|X  |gam</td><td>http://vizier.u-strasbg.fr/viz-bin/sed?-c=12.196426138730002%2031.956956641230004&amp;-c.rs=5</td><td>484.0</td><td>NeII|NeIII|NeV</td><td>NeII|NeIII|NeV</td></tr>\n",
       "<tr><td>4</td><td>IRAS 04385-0828</td><td>IRAS 04385-0828</td><td>70.2290037068</td><td>-8.37281297812</td><td>Sy2</td><td>0.015064</td><td>z</td><td>*  |AGN|G  |GiG|IR |Sy2</td><td>http://vizier.u-strasbg.fr/viz-bin/sed?-c=70.2290037068%20-8.37281297812&amp;-c.rs=5</td><td>541.0</td><td>NeII|NeIII|NeV</td><td>NeII|NeIII|NeV</td></tr>\n",
       "<tr><td>5</td><td>NGC  4945</td><td>NGC  4945</td><td>196.3636625</td><td>-49.4679</td><td>Sy2</td><td>0.0017968563040435814</td><td>v</td><td>AGN|G  |GiG|IR |Rad|Sy2|X  |cm |gam</td><td>http://vizier.u-strasbg.fr/viz-bin/sed?-c=196.3636625%20-49.4679&amp;-c.rs=5</td><td>628.0</td><td>NeII|NeIII|NeV</td><td>NeII|NeIII|NeV</td></tr>\n",
       "<tr><td>6</td><td>IC 4553</td><td>IC 4553</td><td>233.73843316666665</td><td>23.50322455555555</td><td>SyG</td><td>0.0184</td><td>z</td><td>AGN|G  |GiG|GiP|IG |IR |LIN|Rad|SyG|X  |gam|smm</td><td>http://vizier.u-strasbg.fr/viz-bin/sed?-c=233.73843316666665%2023.50322455555555&amp;-c.rs=5</td><td>654.0</td><td>NeII|NeIII|NeV</td><td>NeII|NeIII|NeV</td></tr>\n",
       "<tr><td>7</td><td>NGC  5252</td><td>NGC  5252</td><td>204.56612821846997</td><td>4.542644796</td><td>Sy2</td><td>0.02294</td><td>z</td><td>AG?|AGN|EmG|G  |GiG|Sy1|Sy2|X  |gam</td><td>http://vizier.u-strasbg.fr/viz-bin/sed?-c=204.56612821846997%204.542644796&amp;-c.rs=5</td><td>773.0</td><td>NeII</td><td>NeII</td></tr>\n",
       "<tr><td>8</td><td>Mrk  279</td><td>Mrk  279</td><td>208.26431206837998</td><td>69.30816969735</td><td>Sy1</td><td>0.030601</td><td>z</td><td>AGN|G  |IR |QSO|Sy1|UV |X  |gam</td><td>http://vizier.u-strasbg.fr/viz-bin/sed?-c=208.26431206837998%2069.30816969735&amp;-c.rs=5</td><td>852.0</td><td>NeII|NeIII|NeV</td><td>NeII|NeIII|NeV</td></tr>\n",
       "<tr><td>9</td><td>UGC 11680</td><td>UGC 11680</td><td>316.93375</td><td>3.875277777777778</td><td>Sy2</td><td>0.026</td><td>z</td><td>G  |GiP|IG |IR |PaG|Sy2</td><td>http://vizier.u-strasbg.fr/viz-bin/sed?-c=316.93375%203.875277777777778&amp;-c.rs=5</td><td>1227.0</td><td>NeII</td><td>NeII</td></tr>\n",
       "<tr><td>10</td><td>LEDA   45656</td><td>LEDA   45656</td><td>197.44584650791998</td><td>8.330058989590002</td><td>Sy1</td><td>0.15434</td><td>z</td><td>BH?|G  |IR |QSO|Sy1|UV |X</td><td>http://vizier.u-strasbg.fr/viz-bin/sed?-c=197.44584650791998%208.330058989590002&amp;-c.rs=5</td><td>1246.0</td><td>NeII|NeV</td><td>NeII|NeV</td></tr>\n",
       "<tr><td>11</td><td>Mrk 1239</td><td>Mrk 1239</td><td>148.07986666666667</td><td>-1.61225</td><td>Sy1</td><td>0.019596890592891433</td><td>c</td><td>AGN|G  |IR |Sy1|UV |X</td><td>http://vizier.u-strasbg.fr/viz-bin/sed?-c=148.07986666666667%20-1.61225&amp;-c.rs=5</td><td>1282.0</td><td>NeII|NeIII|NeV</td><td>NeII|NeIII|NeV</td></tr>\n",
       "<tr><td>12</td><td>LEDA   89032</td><td>LEDA   89032</td><td>281.76121855923</td><td>-78.53044703048</td><td>Sy1</td><td>0.07411794195302938</td><td>c</td><td>*  |AGN|G  |IR |QSO|Sy1|X  |gam</td><td>http://vizier.u-strasbg.fr/viz-bin/sed?-c=281.76121855923%20-78.53044703048&amp;-c.rs=5</td><td>1341.0</td><td>NeII|NeIII</td><td>NeII|NeIII</td></tr>\n",
       "<tr><td>13</td><td>NAME 3C 330G2</td><td>1Jy 1609+66</td><td>242.39583333333331</td><td>65.94416666666667</td><td>Sy2</td><td>0.54725</td><td>z</td><td>AGN|G  |QSO|Rad|Sy2</td><td>http://vizier.u-strasbg.fr/viz-bin/sed?-c=242.39583333333331%2065.94416666666667&amp;-c.rs=5</td><td>1424.0</td><td>NeIII|NeV</td><td>NeIII|NeV</td></tr>\n",
       "<tr><td>14</td><td>3C 265.0</td><td>3C 265.0</td><td>176.37083333333334</td><td>31.56388888888889</td><td>Sy1</td><td>0.810501</td><td>z</td><td>AGN|G  |QSO|Rad|Sy1</td><td>http://vizier.u-strasbg.fr/viz-bin/sed?-c=176.37083333333334%2031.56388888888889&amp;-c.rs=5</td><td>1464.0</td><td>No Flux Values</td><td>No Flux Values</td></tr>\n",
       "<tr><td>15</td><td>NGC   612</td><td>NGC   612</td><td>23.490629</td><td>-36.493279</td><td>Sy2</td><td>0.029911</td><td>z</td><td>*  |AGN|G  |GiG|HI |IR |QSO|Rad|Sy2|X  |cm |rG</td><td>http://vizier.u-strasbg.fr/viz-bin/sed?-c=23.490629%20-36.493279&amp;-c.rs=5</td><td>1650.0</td><td>No Flux Values</td><td>No Flux Values</td></tr>\n",
       "<tr><td>16</td><td>NGC  7479</td><td>NGC  7479</td><td>346.23601343477</td><td>12.32287705195</td><td>Sy2</td><td>0.007967227179902725</td><td>v</td><td>AGN|G  |HI |IR |Rad|Sy2|X</td><td>http://vizier.u-strasbg.fr/viz-bin/sed?-c=346.23601343477%2012.32287705195&amp;-c.rs=5</td><td>1734.0</td><td>NeII|NeIII</td><td>NeII|NeIII</td></tr>\n",
       "<tr><td>17</td><td>LEDA 3095998</td><td>LEDA 3095998</td><td>163.35276755141</td><td>57.20861541815001</td><td>Sy1</td><td>0.07978</td><td>z</td><td>*  |AGN|G  |Sy1|X</td><td>http://vizier.u-strasbg.fr/viz-bin/sed?-c=163.35276755141%2057.20861541815001&amp;-c.rs=5</td><td>1801.0</td><td>NeII</td><td>NeII</td></tr>\n",
       "<tr><td>18</td><td>NGC  3735</td><td>NGC  3735</td><td>173.9886453568</td><td>70.5355422003</td><td>Sy2</td><td>0.00901</td><td>z</td><td>AGN|G  |IR |Rad|Sy2|X</td><td>http://vizier.u-strasbg.fr/viz-bin/sed?-c=173.9886453568%2070.5355422003&amp;-c.rs=5</td><td>1884.0</td><td>NeII|NeIII|NeV</td><td>NeII|NeIII|NeV</td></tr>\n",
       "<tr><td>19</td><td>NGC  4477</td><td>NGC  4477</td><td>187.50914823595997</td><td>13.63653992108</td><td>Sy2</td><td>0.00449</td><td>z</td><td>AGN|G  |GiC|GiG|IR |Rad|Sy2|X</td><td>http://vizier.u-strasbg.fr/viz-bin/sed?-c=187.50914823595997%2013.63653992108&amp;-c.rs=5</td><td>1917.0</td><td>NeII|NeIII</td><td>NeII|NeIII</td></tr>\n",
       "<tr><td>20</td><td>LEDA   89511</td><td>LEDA   89511</td><td>13.484262222349997</td><td>-70.63451216442</td><td>Sy2</td><td>0.069615</td><td>z</td><td>*  |AGN|G  |IR |Rad|Sy2|X</td><td>http://vizier.u-strasbg.fr/viz-bin/sed?-c=13.484262222349997%20-70.63451216442&amp;-c.rs=5</td><td>1936.0</td><td>NeII|NeIII|NeV</td><td>NeII|NeIII|NeV</td></tr>\n",
       "<tr><td>21</td><td>NGC   185</td><td>NGC   185</td><td>9.741416677510001</td><td>48.337509965180004</td><td>Sy2</td><td>-0.0006795727165286314</td><td>v</td><td>*  |AGN|G  |GiG|IR |QSO|Sy2</td><td>http://vizier.u-strasbg.fr/viz-bin/sed?-c=9.741416677510001%2048.337509965180004&amp;-c.rs=5</td><td>1983.0</td><td>NeV</td><td>NeV</td></tr>\n",
       "<tr><td>22</td><td>2MASS J00105486+0014510</td><td>2MASS J00105486+0014510</td><td>2.7285635592800004</td><td>0.24757956251000005</td><td>Sy1</td><td>0.24358</td><td>z</td><td>*  |AGN|G  |IR |QSO|Sy1</td><td>http://vizier.u-strasbg.fr/viz-bin/sed?-c=2.7285635592800004%200.24757956251000005&amp;-c.rs=5</td><td>2089.0</td><td>No Flux Values</td><td>No Flux Values</td></tr>\n",
       "<tr><td>23</td><td>Z 218-7</td><td>Z 218-7</td><td>200.95188070819998</td><td>43.30119778775</td><td>Sy2</td><td>0.02734</td><td>z</td><td>AG?|EmG|G  |IR |Rad|Sy2|SyG|rG</td><td>http://vizier.u-strasbg.fr/viz-bin/sed?-c=200.95188070819998%2043.30119778775&amp;-c.rs=5</td><td>2115.0</td><td>NeII|NeIII|NeV</td><td>NeII|NeIII|NeV</td></tr>\n",
       "<tr><td>24</td><td>Mrk  493</td><td>Mrk  493</td><td>239.79009655029</td><td>35.02987815357</td><td>Sy1</td><td>0.03102</td><td>z</td><td>*  |AGN|G  |GiG|IR |QSO|Rad|Sy1|UV |X</td><td>http://vizier.u-strasbg.fr/viz-bin/sed?-c=239.79009655029%2035.02987815357&amp;-c.rs=5</td><td>2351.0</td><td>NeII|NeIII|NeV</td><td>NeII|NeIII|NeV</td></tr>\n",
       "<tr><td>25</td><td>NGC  4941</td><td>NGC  4941</td><td>196.05459849179996</td><td>-5.55159800102</td><td>Sy2</td><td>0.003703</td><td>z</td><td>*  |AGN|G  |GiG|IR |Sy2|X  |gam</td><td>http://vizier.u-strasbg.fr/viz-bin/sed?-c=196.05459849179996%20-5.55159800102&amp;-c.rs=5</td><td>2408.0</td><td>NeII|NeIII|NeV</td><td>NeII|NeIII|NeV</td></tr>\n",
       "<tr><td>26</td><td>Mrk  883</td><td>Mrk  883</td><td>247.47019999999992</td><td>24.443736111111114</td><td>Sy1</td><td>0.03787</td><td>z</td><td>AGN|EmG|G  |IG |IR |Rad|Sy1|X</td><td>http://vizier.u-strasbg.fr/viz-bin/sed?-c=247.47019999999992%2024.443736111111114&amp;-c.rs=5</td><td>2469.0</td><td>NeII|NeIII</td><td>NeII|NeIII</td></tr>\n",
       "<tr><td>27</td><td>2MASS J22255427+1958370</td><td>2MASX J22255423+1958372</td><td>336.47610695004</td><td>19.97696114997</td><td>Sy2</td><td>0.147</td><td>z</td><td>AGN|G  |IR |Sy2</td><td>http://vizier.u-strasbg.fr/viz-bin/sed?-c=336.47610695004%2019.97696114997&amp;-c.rs=5</td><td>2551.0</td><td>NeII|NeIII|NeV</td><td>NeII|NeIII|NeV</td></tr>\n",
       "<tr><td>28</td><td>LEDA   90196</td><td>LEDA   90196</td><td>225.633231602047</td><td>14.3597016754245</td><td>Sy2</td><td>0.1622</td><td>z</td><td>*  |AGN|G  |GiG|IR |QSO|Rad|Sy2|rG</td><td>http://vizier.u-strasbg.fr/viz-bin/sed?-c=225.633231602047%2014.3597016754245&amp;-c.rs=5</td><td>2569.0</td><td>NeII|NeIII|NeV</td><td>NeII|NeIII|NeV</td></tr>\n",
       "<tr><td>29</td><td>MCG+04-48-002</td><td>MCG+04-48-002</td><td>307.1460874999999</td><td>25.73338333333334</td><td>Sy2</td><td>0.014810245826797951</td><td>c</td><td>AGN|G  |GiG|Sy2|X  |gam</td><td>http://vizier.u-strasbg.fr/viz-bin/sed?-c=307.1460874999999%2025.73338333333334&amp;-c.rs=5</td><td>2790.0</td><td>NeII|NeIII|NeV</td><td>NeII|NeIII|NeV</td></tr>\n",
       "<tr><td>30</td><td>[VV2000] J235225.0+244009</td><td>IRAS 23498+2423</td><td>358.10802110698</td><td>24.67133521822</td><td>Sy2</td><td>0.212</td><td>z</td><td>AGN|G  |IR |QSO|Sy1|Sy2</td><td>http://vizier.u-strasbg.fr/viz-bin/sed?-c=358.10802110698%2024.67133521822&amp;-c.rs=5</td><td>2847.0</td><td>NeII|NeIII|NeV</td><td>NeII|NeIII|NeV</td></tr>\n",
       "<tr><td>31</td><td>3C 196</td><td>3C 196</td><td>123.40023382088</td><td>48.21740137945</td><td>Sy1</td><td>0.87</td><td>z</td><td>G  |IR |QSO|Rad|Sy1|X</td><td>http://vizier.u-strasbg.fr/viz-bin/sed?-c=123.40023382088%2048.21740137945&amp;-c.rs=5</td><td>2914.0</td><td>NeIII|NeV</td><td>NeIII|NeV</td></tr>\n",
       "<tr><td>32</td><td>2MASX J10032788+5541535</td><td>2MASX J10032788+5541535</td><td>150.86637253017</td><td>55.69831066268</td><td>Sy2</td><td>0.146</td><td>z</td><td>AGN|G  |Sy2|X</td><td>http://vizier.u-strasbg.fr/viz-bin/sed?-c=150.86637253017%2055.69831066268&amp;-c.rs=5</td><td>2975.0</td><td>NeV</td><td>NeV</td></tr>\n",
       "<tr><td>33</td><td>NGC  2622</td><td>NGC  2622</td><td>129.54557624978</td><td>24.89527605508</td><td>Sy1</td><td>0.02866</td><td>z</td><td>AGN|G  |GiG|GrG|IR |QSO|Rad|Sy1|X</td><td>http://vizier.u-strasbg.fr/viz-bin/sed?-c=129.54557624978%2024.89527605508&amp;-c.rs=5</td><td>3031.0</td><td>NeII|NeIII|NeV</td><td>NeII|NeIII|NeV</td></tr>\n",
       "<tr><td>34</td><td>NGC   863</td><td>NGC   863</td><td>33.6398352978</td><td>-0.7667171792600002</td><td>Sy1</td><td>0.02609</td><td>z</td><td>*  |AGN|EmO|G  |GiG|IR |QSO|Rad|Sy1|V* |X  |gam</td><td>http://vizier.u-strasbg.fr/viz-bin/sed?-c=33.6398352978%20-0.7667171792600002&amp;-c.rs=5</td><td>3213.0</td><td>NeII|NeIII|NeV</td><td>NeII|NeIII|NeV</td></tr>\n",
       "<tr><td>35</td><td>[VV2003c] J005439.8+155446</td><td>SDSS J005439.79+155446.9</td><td>13.6658150256</td><td>15.913049105029998</td><td>Sy1</td><td>0.23658</td><td>z</td><td>*  |AGN|G  |Sy1</td><td>http://vizier.u-strasbg.fr/viz-bin/sed?-c=13.6658150256%2015.913049105029998&amp;-c.rs=5</td><td>3551.0</td><td>No Flux Values</td><td>No Flux Values</td></tr>\n",
       "<tr><td>36</td><td>IRAS 11215-2806</td><td>IRAS 11215-2806</td><td>171.01134137064</td><td>-28.387635868379995</td><td>Sy2</td><td>0.01374</td><td>z</td><td>AGN|G  |IR |Rad|Sy2</td><td>http://vizier.u-strasbg.fr/viz-bin/sed?-c=171.01134137064%20-28.387635868379995&amp;-c.rs=5</td><td>3838.0</td><td>NeII|NeIII|NeV</td><td>NeII|NeIII|NeV</td></tr>\n",
       "<tr><td>37</td><td>2MASS J15011320+2329082</td><td>2MASS J15011320+2329082</td><td>225.30499713363997</td><td>23.4856327797</td><td>Sy1</td><td>0.25782</td><td>z</td><td>AGN|G  |IR |QSO|Rad|Sy1|X</td><td>http://vizier.u-strasbg.fr/viz-bin/sed?-c=225.30499713363997%2023.4856327797&amp;-c.rs=5</td><td>4011.0</td><td>No Flux Values</td><td>No Flux Values</td></tr>\n",
       "<tr><td>38</td><td>NGC  3281</td><td>NGC  3281</td><td>157.96702499999998</td><td>-34.85372222222223</td><td>Sy2</td><td>0.010731631725569235</td><td>v</td><td>AGN|BiC|G  |GiG|IR |Rad|Sy2|X  |gam</td><td>http://vizier.u-strasbg.fr/viz-bin/sed?-c=157.96702499999998%20-34.85372222222223&amp;-c.rs=5</td><td>4314.0</td><td>NeII|NeIII|NeV</td><td>NeII|NeIII|NeV</td></tr>\n",
       "<tr><td>39</td><td>ESO 323-32</td><td>ESO 323-32</td><td>193.33462375584</td><td>-41.635625802</td><td>Sy2</td><td>0.015941</td><td>z</td><td>*  |AGN|G  |GiC|GiG|IR |Sy1|Sy2|X</td><td>http://vizier.u-strasbg.fr/viz-bin/sed?-c=193.33462375584%20-41.635625802&amp;-c.rs=5</td><td>4482.0</td><td>NeII</td><td>NeII</td></tr>\n",
       "<tr><td>40</td><td>LEDA  101275</td><td>LEDA  101275</td><td>204.32799973257997</td><td>24.38425552319</td><td>Sy1</td><td>0.108</td><td>z</td><td>AGN|G  |GiC|IR |QSO|Rad|Sy1|UV |V* |X  |gam</td><td>http://vizier.u-strasbg.fr/viz-bin/sed?-c=204.32799973257997%2024.38425552319&amp;-c.rs=5</td><td>4524.0</td><td>NeII|NeIII|NeV</td><td>NeII|NeIII|NeV</td></tr>\n",
       "<tr><td>41</td><td>NAME Circinus Galaxy</td><td>Anon 1409-65</td><td>213.29127499999998</td><td>-65.33901944444445</td><td>Sy2</td><td>0.0014490516114409324</td><td>v</td><td>AGN|G  |GiG|HI |IR |PaG|QSO|Rad|Sy2|X  |cm |gam</td><td>http://vizier.u-strasbg.fr/viz-bin/sed?-c=213.29127499999998%20-65.33901944444445&amp;-c.rs=5</td><td>4553.0</td><td>NeII|NeIII|NeV</td><td>NeII|NeIII|NeV</td></tr>\n",
       "<tr><td>42</td><td>IC 3639</td><td>IC 3639</td><td>190.22014370180997</td><td>-36.75584916977</td><td>Sy2</td><td>0.011018278109241386</td><td>v</td><td>*  |AGN|G  |HI |IR |Rad|Sy2|gam</td><td>http://vizier.u-strasbg.fr/viz-bin/sed?-c=190.22014370180997%20-36.75584916977&amp;-c.rs=5</td><td>4603.0</td><td>NeII|NeIII|NeV</td><td>NeII|NeIII|NeV</td></tr>\n",
       "<tr><td>43</td><td>Mrk  926</td><td>Mrk  926</td><td>346.1811567076999</td><td>-8.68573041024</td><td>Sy1</td><td>0.04702</td><td>z</td><td>*  |AGN|G  |IR |QSO|Rad|Sy1|SyG|X  |gam</td><td>http://vizier.u-strasbg.fr/viz-bin/sed?-c=346.1811567076999%20-8.68573041024&amp;-c.rs=5</td><td>5069.0</td><td>NeII|NeIII|NeV</td><td>NeII|NeIII|NeV</td></tr>\n",
       "<tr><td>44</td><td>Mrk  463E</td><td>Mrk  463E</td><td>209.01202499999997</td><td>18.371899999999997</td><td>Sy2</td><td>0.05131629180871311</td><td>v</td><td>AGN|G  |PoG|Sy2|X</td><td>http://vizier.u-strasbg.fr/viz-bin/sed?-c=209.01202499999997%2018.371899999999997&amp;-c.rs=5</td><td>5523.0</td><td>NeII|NeIII|NeV</td><td>NeII|NeIII|NeV</td></tr>\n",
       "<tr><td>45</td><td>NGC  4235</td><td>NGC  4235</td><td>184.29117458245997</td><td>7.191575941390002</td><td>Sy1</td><td>0.00742</td><td>z</td><td>AGN|G  |GiG|HI |IR |QSO|Rad|Sy1|X  |gam</td><td>http://vizier.u-strasbg.fr/viz-bin/sed?-c=184.29117458245997%207.191575941390002&amp;-c.rs=5</td><td>5532.0</td><td>NeII|NeIII</td><td>NeII|NeIII</td></tr>\n",
       "<tr><td>46</td><td>IRAS 15480-0344</td><td>IRAS 15480-0344</td><td>237.67290535321</td><td>-3.8883307173999997</td><td>Sy2</td><td>0.030128</td><td>z</td><td>AGN|G  |IR |Rad|Sy2|X</td><td>http://vizier.u-strasbg.fr/viz-bin/sed?-c=237.67290535321%20-3.8883307173999997&amp;-c.rs=5</td><td>5589.0</td><td>NeII|NeIII|NeV</td><td>NeII|NeIII|NeV</td></tr>\n",
       "<tr><td>47</td><td>UGC  6728</td><td>UGC  6728</td><td>176.31643182576</td><td>79.68149351645</td><td>Sy1</td><td>0.06725871940524653</td><td>v</td><td>AGN|G  |IR |QSO|Sy1|X</td><td>http://vizier.u-strasbg.fr/viz-bin/sed?-c=176.31643182576%2079.68149351645&amp;-c.rs=5</td><td>5604.0</td><td>NeII|NeIII|NeV</td><td>NeII|NeIII|NeV</td></tr>\n",
       "<tr><td>48</td><td>NGC  1142</td><td>NGC  1142</td><td>43.80096312881</td><td>-0.18355754152</td><td>Sy2</td><td>0.028847</td><td>z</td><td>AGN|G  |GiP|IG |IR |Sy2|X  |rG |smm</td><td>http://vizier.u-strasbg.fr/viz-bin/sed?-c=43.80096312881%20-0.18355754152&amp;-c.rs=5</td><td>5696.0</td><td>NeII|NeIII|NeV</td><td>NeII|NeIII|NeV</td></tr>\n",
       "<tr><td>49</td><td>NGC  1365</td><td>NGC  1365</td><td>53.40190833333333</td><td>-36.140658333333334</td><td>Sy1</td><td>0.005475769605340908</td><td>v</td><td>AGN|BiC|EmG|G  |GiG|HI |IG |IR |Rad|Sy1|Sy2|X  |smm</td><td>http://vizier.u-strasbg.fr/viz-bin/sed?-c=53.40190833333333%20-36.140658333333334&amp;-c.rs=5</td><td>5889.0</td><td>NeII|NeIII|NeV</td><td>NeII|NeIII|NeV</td></tr>\n",
       "<tr><td>50</td><td>NGC  1056</td><td>NGC  1056</td><td>40.70121426508</td><td>28.574072230129996</td><td>Sy2</td><td>0.005221233106985634</td><td>v</td><td>G  |H2G|IR |Sy2</td><td>http://vizier.u-strasbg.fr/viz-bin/sed?-c=40.70121426508%2028.574072230129996&amp;-c.rs=5</td><td>6023.0</td><td>NeII|NeIII</td><td>NeII|NeIII</td></tr>\n",
       "<tr><td>51</td><td>NGC  7410</td><td>NGC  7410</td><td>343.75361271676</td><td>-39.6613260684</td><td>Sy2</td><td>0.005581</td><td>z</td><td>AGN|G  |GiG|IR |PaG|Rad|Sy2</td><td>http://vizier.u-strasbg.fr/viz-bin/sed?-c=343.75361271676%20-39.6613260684&amp;-c.rs=5</td><td>6617.0</td><td>NeII</td><td>NeII</td></tr>\n",
       "<tr><td>52</td><td>Mrk  352</td><td>Mrk  352</td><td>14.972022986709996</td><td>31.827015053390003</td><td>Sy1</td><td>0.014965581113999482</td><td>v</td><td>AGN|G  |GrG|QSO|Sy1|X</td><td>http://vizier.u-strasbg.fr/viz-bin/sed?-c=14.972022986709996%2031.827015053390003&amp;-c.rs=5</td><td>6869.0</td><td>NeII|NeIII</td><td>NeII|NeIII</td></tr>\n",
       "<tr><td>53</td><td>LEDA 1365424</td><td>LEDA 1365424</td><td>189.68094989737997</td><td>9.4601680501</td><td>Sy2</td><td>0.08292</td><td>z</td><td>*  |AGN|G  |GiG|Sy1|Sy2|X</td><td>http://vizier.u-strasbg.fr/viz-bin/sed?-c=189.68094989737997%209.4601680501&amp;-c.rs=5</td><td>7206.0</td><td>NeIII|NeV</td><td>NeIII|NeV</td></tr>\n",
       "<tr><td>54</td><td>LEDA   27453</td><td>LEDA   27453</td><td>144.55620545547</td><td>54.47359605313</td><td>Sy2</td><td>0.10212</td><td>z</td><td>*  |AGN|G  |H2G|HII|PoG|QSO|SBG|Sy2</td><td>http://vizier.u-strasbg.fr/viz-bin/sed?-c=144.55620545547%2054.47359605313&amp;-c.rs=5</td><td>7620.0</td><td>NeIII</td><td>NeIII</td></tr>\n",
       "<tr><td>55</td><td>NAME Cyg A</td><td>2MASX J19592833+4044022</td><td>299.86815190954167</td><td>40.733915736</td><td>Sy2</td><td>0.056146</td><td>z</td><td>*  |AGN|Bla|G  |GiC|GiG|IG |IR |QSO|Rad|Sy1|Sy2|X  |gam</td><td>http://vizier.u-strasbg.fr/viz-bin/sed?-c=299.86815190954167%2040.733915736&amp;-c.rs=5</td><td>7697.0</td><td>NeII|NeIII|NeV</td><td>NeII|NeIII|NeV</td></tr>\n",
       "<tr><td>56</td><td>Mrk  877</td><td>Mrk  877</td><td>245.04699991225</td><td>17.40764312282</td><td>Sy1</td><td>0.112</td><td>z</td><td>*  |G  |IR |QSO|Sy1|UV |V* |X</td><td>http://vizier.u-strasbg.fr/viz-bin/sed?-c=245.04699991225%2017.40764312282&amp;-c.rs=5</td><td>7791.0</td><td>NeII</td><td>NeII</td></tr>\n",
       "<tr><td>57</td><td>ESO 148-2</td><td>ESO 148-2</td><td>348.94488333333334</td><td>-59.05442777777778</td><td>Sy2</td><td>0.045</td><td>z</td><td>AGN|G  |G? |IR |Rad|Sy2|X</td><td>http://vizier.u-strasbg.fr/viz-bin/sed?-c=348.94488333333334%20-59.05442777777778&amp;-c.rs=5</td><td>7879.0</td><td>NeII|NeIII|NeV</td><td>NeII|NeIII|NeV</td></tr>\n",
       "<tr><td>58</td><td>Mrk 1383</td><td>Mrk 1383</td><td>217.27738334943</td><td>1.28504305757</td><td>Sy1</td><td>0.086</td><td>z</td><td>AGN|G  |IR |QSO|Sy1|UV |X</td><td>http://vizier.u-strasbg.fr/viz-bin/sed?-c=217.27738334943%201.28504305757&amp;-c.rs=5</td><td>7979.0</td><td>NeII|NeIII|NeV</td><td>NeII|NeIII|NeV</td></tr>\n",
       "<tr><td>59</td><td>NGC  7592</td><td>NGC  7592</td><td>349.59166666666664</td><td>-4.4158333333333335</td><td>Sy2</td><td>0.02441</td><td>z</td><td>AGN|G  |GiG|IG |IR |Sy2</td><td>http://vizier.u-strasbg.fr/viz-bin/sed?-c=349.59166666666664%20-4.4158333333333335&amp;-c.rs=5</td><td>8264.0</td><td>NeV</td><td>NeV</td></tr>\n",
       "<tr><td>60</td><td>NGC  3998</td><td>NGC  3998</td><td>179.48388918517</td><td>55.45358956761999</td><td>SyG</td><td>0.003646</td><td>z</td><td>*  |AGN|Bz?|G  |GiG|GiP|IR |LIN|QSO|Rad|Sy1|SyG|X  |gam</td><td>http://vizier.u-strasbg.fr/viz-bin/sed?-c=179.48388918517%2055.45358956761999&amp;-c.rs=5</td><td>8352.0</td><td>NeII|NeIII|NeV</td><td>NeII|NeIII|NeV</td></tr>\n",
       "<tr><td>61</td><td>QSO B1626+5529</td><td>WISEA J162756.11+552231.5</td><td>246.98380151197998</td><td>55.37543307264001</td><td>Sy1</td><td>0.133</td><td>z</td><td>*  |BH?|G  |IR |QSO|Sy1|UV |V* |X</td><td>http://vizier.u-strasbg.fr/viz-bin/sed?-c=246.98380151197998%2055.37543307264001&amp;-c.rs=5</td><td>8477.0</td><td>NeII|NeV</td><td>NeII|NeV</td></tr>\n",
       "<tr><td>62</td><td>Mrk    9</td><td>Mrk    9</td><td>114.23761073076</td><td>58.77039783772</td><td>Sy1</td><td>0.006321039604004982</td><td>c</td><td>AGN|G  |IR |QSO|Rad|Sy1|X</td><td>http://vizier.u-strasbg.fr/viz-bin/sed?-c=114.23761073076%2058.77039783772&amp;-c.rs=5</td><td>8518.0</td><td>NeII|NeIII|NeV</td><td>NeII|NeIII|NeV</td></tr>\n",
       "<tr><td>63</td><td>Mrk 1513</td><td>Mrk 1513</td><td>323.11590106528</td><td>10.138681212609999</td><td>Sy1</td><td>0.06199</td><td>z</td><td>*  |AGN|G  |IR |QSO|Sy1|UV |V* |X</td><td>http://vizier.u-strasbg.fr/viz-bin/sed?-c=323.11590106528%2010.138681212609999&amp;-c.rs=5</td><td>8692.0</td><td>NeII|NeIII|NeV</td><td>NeII|NeIII|NeV</td></tr>\n",
       "<tr><td>64</td><td>NGC  4939</td><td>NGC  4939</td><td>196.05970021871997</td><td>-10.33952790409</td><td>Sy2</td><td>0.010382035536063317</td><td>v</td><td>*  |AGN|EmG|G  |HI |IR |Sy1|Sy2|X  |gam</td><td>http://vizier.u-strasbg.fr/viz-bin/sed?-c=196.05970021871997%20-10.33952790409&amp;-c.rs=5</td><td>8848.0</td><td>NeII|NeIII|NeV</td><td>NeII|NeIII|NeV</td></tr>\n",
       "<tr><td>65</td><td>NGC  4151</td><td>NGC  4151</td><td>182.63573325577997</td><td>39.405850979869996</td><td>Sy1</td><td>0.003262</td><td>z</td><td>*  |AGN|G  |GiG|GiP|IR |QSO|Rad|Sy1|SyG|V* |X  |gam</td><td>http://vizier.u-strasbg.fr/viz-bin/sed?-c=182.63573325577997%2039.405850979869996&amp;-c.rs=5</td><td>9329.0</td><td>NeII|NeIII|NeV</td><td>NeII|NeIII|NeV</td></tr>\n",
       "<tr><td>66</td><td>[VV2003c] J035734.0-053719</td><td>SDSS J035733.99-053719.7</td><td>59.39162941101</td><td>-5.62211861093</td><td>Sy1</td><td>0.20373</td><td>z</td><td>AGN|G  |Sy1</td><td>http://vizier.u-strasbg.fr/viz-bin/sed?-c=59.39162941101%20-5.62211861093&amp;-c.rs=5</td><td>9373.0</td><td>No Flux Values</td><td>No Flux Values</td></tr>\n",
       "<tr><td>67</td><td>ESO 434-40</td><td>ESO 434-40</td><td>146.91722174522</td><td>-30.948877994359997</td><td>Sy2</td><td>0.008226</td><td>z</td><td>*  |AGN|EmG|G  |GiG|Sy1|Sy2|SyG|X  |gam</td><td>http://vizier.u-strasbg.fr/viz-bin/sed?-c=146.91722174522%20-30.948877994359997&amp;-c.rs=5</td><td>9395.0</td><td>NeII|NeIII|NeV</td><td>NeII|NeIII|NeV</td></tr>\n",
       "<tr><td>68</td><td>LEDA   37102</td><td>LEDA   37102</td><td>177.88897398756</td><td>-2.37274819516</td><td>Sy1</td><td>0.002979</td><td>z</td><td>*  |AGN|EmO|G  |H2G|Sy1</td><td>http://vizier.u-strasbg.fr/viz-bin/sed?-c=177.88897398756%20-2.37274819516&amp;-c.rs=5</td><td>9431.0</td><td>NeII|NeIII</td><td>NeII|NeIII</td></tr>\n",
       "<tr><td>69</td><td>ESO 323-77</td><td>ESO 323-77</td><td>196.60883952572</td><td>-40.41460989011</td><td>Sy2</td><td>0.014904</td><td>z</td><td>AGN|G  |GiC|GiG|IR |Sy1|Sy2|X  |gam</td><td>http://vizier.u-strasbg.fr/viz-bin/sed?-c=196.60883952572%20-40.41460989011&amp;-c.rs=5</td><td>9541.0</td><td>NeII|NeIII|NeV</td><td>NeII|NeIII|NeV</td></tr>\n",
       "<tr><td>70</td><td>FRL   49</td><td>WISEA J183658.23-592408.2</td><td>279.24263995131</td><td>-59.40230064619999</td><td>Sy2</td><td>0.020020516993793088</td><td>c</td><td>AGN|G  |IR |Rad|Sy2|X  |cm |gam</td><td>http://vizier.u-strasbg.fr/viz-bin/sed?-c=279.24263995131%20-59.40230064619999&amp;-c.rs=5</td><td>9550.0</td><td>NeII|NeIII|NeV</td><td>NeII|NeIII|NeV</td></tr>\n",
       "<tr><td>71</td><td>LEDA   50824</td><td>LEDA   50824</td><td>213.45137761432</td><td>44.00388982536</td><td>Sy1</td><td>0.087</td><td>z</td><td>*  |AGN|G  |IR |QSO|Sy1|UV |X  |blu|gam</td><td>http://vizier.u-strasbg.fr/viz-bin/sed?-c=213.45137761432%2044.00388982536&amp;-c.rs=5</td><td>9583.0</td><td>NeII|NeIII|NeV</td><td>NeII|NeIII|NeV</td></tr>\n",
       "<tr><td>72</td><td>LEDA   29208</td><td>LEDA   29208</td><td>151.08390830287</td><td>5.216778022980001</td><td>Sy1</td><td>0.16012</td><td>z</td><td>AGN|BH?|G  |IR |QSO|Sy1|UV |X</td><td>http://vizier.u-strasbg.fr/viz-bin/sed?-c=151.08390830287%205.216778022980001&amp;-c.rs=5</td><td>10129.0</td><td>NeII</td><td>NeII</td></tr>\n",
       "<tr><td>73</td><td>NGC    34</td><td>NGC    34</td><td>2.77755</td><td>-12.107869444444443</td><td>Sy2</td><td>0.02</td><td>z</td><td>*  |AGN|G  |IG |IR |Rad|Sy2|X</td><td>http://vizier.u-strasbg.fr/viz-bin/sed?-c=2.77755%20-12.107869444444443&amp;-c.rs=5</td><td>10328.0</td><td>NeII|NeIII</td><td>NeII|NeIII</td></tr>\n",
       "<tr><td>74</td><td>SWIFT J0624.1-6059</td><td>SWIFT J0624.1-6059</td><td>96.028</td><td>-60.998</td><td>Sy2</td><td>0.0</td><td></td><td>Sy2|X</td><td>http://vizier.u-strasbg.fr/viz-bin/sed?-c=96.028%20-60.998&amp;-c.rs=5</td><td>10344.0</td><td>NeII</td><td>NeII</td></tr>\n",
       "<tr><td>75</td><td>NGC  2685</td><td>NGC  2685</td><td>133.89459492375</td><td>58.73441015003</td><td>Sy2</td><td>0.002915</td><td>z</td><td>*  |AGN|G  |IR |Sy2|X</td><td>http://vizier.u-strasbg.fr/viz-bin/sed?-c=133.89459492375%2058.73441015003&amp;-c.rs=5</td><td>10441.0</td><td>No Flux Values</td><td>No Flux Values</td></tr>\n",
       "<tr><td>76</td><td>ESO 198-24</td><td>ESO 198-24</td><td>39.58215190088</td><td>-52.19231775211</td><td>Sy1</td><td>0.045251</td><td>z</td><td>AGN|G  |IR |Sy1|X  |gam</td><td>http://vizier.u-strasbg.fr/viz-bin/sed?-c=39.58215190088%20-52.19231775211&amp;-c.rs=5</td><td>10531.0</td><td>NeII</td><td>NeII</td></tr>\n",
       "<tr><td>77</td><td>Mrk  471</td><td>Mrk  471</td><td>215.73056311204</td><td>32.8506399556</td><td>Sy2</td><td>0.03419</td><td>z</td><td>AG?|AGN|G  |IR |Q? |Rad|Sy1|Sy2|X</td><td>http://vizier.u-strasbg.fr/viz-bin/sed?-c=215.73056311204%2032.8506399556&amp;-c.rs=5</td><td>10535.0</td><td>NeII|NeIII|NeV</td><td>NeII|NeIII|NeV</td></tr>\n",
       "<tr><td>78</td><td>NGC  7679</td><td>NGC  7679</td><td>352.19442238224997</td><td>3.51139266061</td><td>Sy2</td><td>0.017325275713104826</td><td>v</td><td>AGN|G  |GiP|GrG|IG |IR |Rad|Sy2|X</td><td>http://vizier.u-strasbg.fr/viz-bin/sed?-c=352.19442238224997%203.51139266061&amp;-c.rs=5</td><td>10541.0</td><td>NeII|NeIII|NeV</td><td>NeII|NeIII|NeV</td></tr>\n",
       "<tr><td>79</td><td>SDSS J143417.15+020742.3</td><td>SDSS J143417.15+020742.3</td><td>218.57148985601998</td><td>2.1284489938499997</td><td>Sy1</td><td>0.18029</td><td>z</td><td>*  |AGN|G  |Sy1</td><td>http://vizier.u-strasbg.fr/viz-bin/sed?-c=218.57148985601998%202.1284489938499997&amp;-c.rs=5</td><td>10650.0</td><td>NeIII</td><td>NeIII</td></tr>\n",
       "<tr><td>80</td><td>IRAS 11119+3257</td><td>IRAS 11119+3257</td><td>168.6620427261</td><td>32.69263423841</td><td>Sy1</td><td>0.18758</td><td>z</td><td>*  |AGN|G  |IR |Q? |QSO|Rad|Sy1</td><td>http://vizier.u-strasbg.fr/viz-bin/sed?-c=168.6620427261%2032.69263423841&amp;-c.rs=5</td><td>10673.0</td><td>NeII|NeIII</td><td>NeII|NeIII</td></tr>\n",
       "<tr><td>81</td><td>IC 1065</td><td>IC 1065</td><td>222.33996964047</td><td>63.27049985979999</td><td>Sy2</td><td>0.04168</td><td>z</td><td>AGN|G  |IR |QSO|Rad|Sy1|Sy2|SyG|X  |rG</td><td>http://vizier.u-strasbg.fr/viz-bin/sed?-c=222.33996964047%2063.27049985979999&amp;-c.rs=5</td><td>10787.0</td><td>NeII|NeIII|NeV</td><td>NeII|NeIII|NeV</td></tr>\n",
       "<tr><td>82</td><td>2MASX J14305363+3458364</td><td>2MASX J14305363+3458364</td><td>217.7236161128982</td><td>34.9767867525491</td><td>Sy2</td><td>0.0839</td><td>z</td><td>*  |AGN|G  |IR |Rad|Sy2</td><td>http://vizier.u-strasbg.fr/viz-bin/sed?-c=217.7236161128982%2034.9767867525491&amp;-c.rs=5</td><td>10901.0</td><td>NeII</td><td>NeII</td></tr>\n",
       "<tr><td>83</td><td>M  81</td><td>M  81</td><td>148.88821939854</td><td>69.06529514038</td><td>Sy2</td><td>-0.00014</td><td>z</td><td>*  |AGN|G  |GiG|GiP|IR |LIN|QSO|Rad|Sy2|X</td><td>http://vizier.u-strasbg.fr/viz-bin/sed?-c=148.88821939854%2069.06529514038&amp;-c.rs=5</td><td>10983.0</td><td>NeII|NeIII</td><td>NeII|NeIII</td></tr>\n",
       "<tr><td>84</td><td>2MASS J14533151+1353587</td><td>2MASS J14533150+1353585</td><td>223.38130978550004</td><td>13.89961126183</td><td>Sy1</td><td>0.13901</td><td>z</td><td>*  |AGN|IR |QSO|Sy1|X</td><td>http://vizier.u-strasbg.fr/viz-bin/sed?-c=223.38130978550004%2013.89961126183&amp;-c.rs=5</td><td>11176.0</td><td>NeII|NeIII</td><td>NeII|NeIII</td></tr>\n",
       "<tr><td>85</td><td>NGC  2639</td><td>NGC  2639</td><td>130.90861769543</td><td>50.205539469890006</td><td>Sy2</td><td>0.010739386946538643</td><td>v</td><td>AGN|G  |GiG|IR |LIN|Rad|Sy1|Sy2|X  |gam</td><td>http://vizier.u-strasbg.fr/viz-bin/sed?-c=130.90861769543%2050.205539469890006&amp;-c.rs=5</td><td>11243.0</td><td>NeII|NeIII</td><td>NeII|NeIII</td></tr>\n",
       "<tr><td>86</td><td>NGC   513</td><td>NGC   513</td><td>21.11168896695</td><td>33.79950680951</td><td>Sy2</td><td>0.01956</td><td>z</td><td>AGN|G  |GiC|GiG|IR |Rad|Sy2|SyG|X</td><td>http://vizier.u-strasbg.fr/viz-bin/sed?-c=21.11168896695%2033.79950680951&amp;-c.rs=5</td><td>11290.0</td><td>NeII|NeIII|NeV</td><td>NeII|NeIII|NeV</td></tr>\n",
       "<tr><td>87</td><td>NAME IRAS F15163+4255 NW</td><td>GB6 J1518+4243</td><td>229.525576</td><td>42.745842</td><td>SyG</td><td>0.04005</td><td>z</td><td>*  |AGN|EmG|G  |GiP|IG |IR |LIN|Rad|SyG|X  |rG</td><td>http://vizier.u-strasbg.fr/viz-bin/sed?-c=229.525576%2042.745842&amp;-c.rs=5</td><td>11295.0</td><td>NeII|NeIII</td><td>NeII|NeIII</td></tr>\n",
       "<tr><td>88</td><td>ESO 383-35</td><td>ESO 383-35</td><td>203.9740380234</td><td>-34.29560019911</td><td>Sy1</td><td>0.0075785762429020145</td><td>c</td><td>AGN|G  |GiG|IR |Sy1|X  |gam</td><td>http://vizier.u-strasbg.fr/viz-bin/sed?-c=203.9740380234%20-34.29560019911&amp;-c.rs=5</td><td>11379.0</td><td>NeII|NeIII|NeV</td><td>NeII|NeIII|NeV</td></tr>\n",
       "<tr><td>89</td><td>NAME IRAS 09111-1007W</td><td>2MASX J09133644-1019296</td><td>138.40190745236</td><td>-10.32500048897</td><td>Sy2</td><td>0.05642050845217694</td><td>v</td><td>*  |AGN|G  |GiP|IR |Sy2|SyG</td><td>http://vizier.u-strasbg.fr/viz-bin/sed?-c=138.40190745236%20-10.32500048897&amp;-c.rs=5</td><td>11420.0</td><td>NeV</td><td>NeV</td></tr>\n",
       "<tr><td>90</td><td>NGC   973</td><td>NGC   973</td><td>38.58375416666667</td><td>32.50555833333333</td><td>Sy2</td><td>0.01631764523453927</td><td>v</td><td>AGN|G  |GiG|IR |Sy2|X  |gam</td><td>http://vizier.u-strasbg.fr/viz-bin/sed?-c=38.58375416666667%2032.50555833333333&amp;-c.rs=5</td><td>11593.0</td><td>NeII|NeIII|NeV</td><td>NeII|NeIII|NeV</td></tr>\n",
       "<tr><td>91</td><td>2E  3648</td><td>2MASSI J1620218+173624</td><td>245.09091058141</td><td>17.60665343366</td><td>Sy1</td><td>0.55517</td><td>z</td><td>*  |BH?|G  |IR |QSO|Rad|Sy1|X</td><td>http://vizier.u-strasbg.fr/viz-bin/sed?-c=245.09091058141%2017.60665343366&amp;-c.rs=5</td><td>11594.0</td><td>NeII|NeIII|NeV</td><td>NeII|NeIII|NeV</td></tr>\n",
       "<tr><td>92</td><td>Mrk  937</td><td>Mrk  937</td><td>2.54158342607</td><td>-4.71053483747</td><td>Sy1</td><td>0.029366982941245307</td><td>c</td><td>*  |AGN|G  |IR |Rad|Sy1|X  |gam</td><td>http://vizier.u-strasbg.fr/viz-bin/sed?-c=2.54158342607%20-4.71053483747&amp;-c.rs=5</td><td>11682.0</td><td>No Flux Values</td><td>No Flux Values</td></tr>\n",
       "<tr><td>93</td><td>SDSS J040208.86-050642.0</td><td>SDSS J040208.86-050642.0</td><td>60.5369321563</td><td>-5.11167229061</td><td>Sy1</td><td>0.13929</td><td>z</td><td>AGN|G  |Sy1</td><td>http://vizier.u-strasbg.fr/viz-bin/sed?-c=60.5369321563%20-5.11167229061&amp;-c.rs=5</td><td>11977.0</td><td>No Flux Values</td><td>No Flux Values</td></tr>\n",
       "<tr><td>94</td><td>2MASX J22041914+0333511</td><td>2MASX J22041914+0333511</td><td>331.07985144241997</td><td>3.56423713312</td><td>Sy2</td><td>0.0611</td><td>z</td><td>AGN|G  |IR |Sy2|X</td><td>http://vizier.u-strasbg.fr/viz-bin/sed?-c=331.07985144241997%203.56423713312&amp;-c.rs=5</td><td>12122.0</td><td>NeII|NeIII|NeV</td><td>NeII|NeIII|NeV</td></tr>\n",
       "<tr><td>95</td><td>2XMM J094046.2+033929</td><td>2XMM J094046.2+033929</td><td>145.19287526025</td><td>3.6583956443300005</td><td>Sy2</td><td>0.0873</td><td>z</td><td>G  |Sy2|X</td><td>http://vizier.u-strasbg.fr/viz-bin/sed?-c=145.19287526025%203.6583956443300005&amp;-c.rs=5</td><td>12331.0</td><td>No Flux Values</td><td>No Flux Values</td></tr>\n",
       "<tr><td>96</td><td>NGC  7469</td><td>NGC  7469</td><td>345.81530833333335</td><td>8.873688888888887</td><td>Sy1</td><td>0.01656521636973296</td><td>v</td><td>AGN|G  |GiP|IG |IR |QSO|Rad|Sy1|V* |X  |gam|smm</td><td>http://vizier.u-strasbg.fr/viz-bin/sed?-c=345.81530833333335%208.873688888888887&amp;-c.rs=5</td><td>12371.0</td><td>NeII|NeIII|NeV</td><td>NeII|NeIII|NeV</td></tr>\n",
       "<tr><td>97</td><td>IRAS F08216+3009</td><td>IRAS F08216+3009</td><td>126.18035444664999</td><td>29.989864667169996</td><td>Sy2</td><td>0.02542</td><td>z</td><td>AG?|AGN|G  |IR |Rad|Sy2</td><td>http://vizier.u-strasbg.fr/viz-bin/sed?-c=126.18035444664999%2029.989864667169996&amp;-c.rs=5</td><td>12511.0</td><td>NeII|NeIII|NeV</td><td>NeII|NeIII|NeV</td></tr>\n",
       "<tr><td>98</td><td>2MASX J08035923+2345201</td><td>2MASX J08035923+2345201</td><td>120.99670291505001</td><td>23.75567753733</td><td>Sy2</td><td>0.02938</td><td>z</td><td>*  |AG?|AGN|G  |Sy2</td><td>http://vizier.u-strasbg.fr/viz-bin/sed?-c=120.99670291505001%2023.75567753733&amp;-c.rs=5</td><td>12549.0</td><td>NeIII</td><td>NeIII</td></tr>\n",
       "<tr><td>99</td><td>NGC  7591</td><td>NGC  7591</td><td>349.56780330306</td><td>6.58586359264</td><td>SyG</td><td>0.016635768586959365</td><td>v</td><td>*  |AGN|G  |GiG|IR |LIN|SyG</td><td>http://vizier.u-strasbg.fr/viz-bin/sed?-c=349.56780330306%206.58586359264&amp;-c.rs=5</td><td>12666.0</td><td>NeII|NeIII</td><td>NeII|NeIII</td></tr>\n",
       "<tr><td>100</td><td>2MASS J08105865+7602424</td><td>2MASS J08105865+7602424</td><td>122.74443397661</td><td>76.04512512535</td><td>Sy1</td><td>0.1</td><td>z</td><td>*  |AGN|IR |QSO|Sy1|UV |X  |gam</td><td>http://vizier.u-strasbg.fr/viz-bin/sed?-c=122.74443397661%2076.04512512535&amp;-c.rs=5</td><td>12683.0</td><td>NeIII</td><td>NeIII</td></tr>\n",
       "<tr><td>101</td><td>LEDA  166692</td><td>LEDA  166692</td><td>312.07186259499</td><td>19.6155436096</td><td>Sy2</td><td>0.181</td><td>z</td><td>AGN|G  |IR |Sy2|gam</td><td>http://vizier.u-strasbg.fr/viz-bin/sed?-c=312.07186259499%2019.6155436096&amp;-c.rs=5</td><td>12884.0</td><td>No Flux Values</td><td>No Flux Values</td></tr>\n",
       "<tr><td>102</td><td>IRAS 15091-2107</td><td>IRAS 15091-2107</td><td>227.99918701431997</td><td>-21.317093535079998</td><td>Sy1</td><td>0.04445742260800971</td><td>c</td><td>AGN|G  |IR |Rad|Sy1|X</td><td>http://vizier.u-strasbg.fr/viz-bin/sed?-c=227.99918701431997%20-21.317093535079998&amp;-c.rs=5</td><td>12934.0</td><td>NeII|NeIII|NeV</td><td>NeII|NeIII|NeV</td></tr>\n",
       "<tr><td>103</td><td>2MASS J14025120+2631175</td><td>2MASS J14025120+2631175</td><td>210.71332762857</td><td>26.521543039469996</td><td>Sy1</td><td>0.18748</td><td>z</td><td>*  |AGN|G  |IR |QSO|Sy1|X</td><td>http://vizier.u-strasbg.fr/viz-bin/sed?-c=210.71332762857%2026.521543039469996&amp;-c.rs=5</td><td>12980.0</td><td>No Flux Values</td><td>No Flux Values</td></tr>\n",
       "<tr><td>104</td><td>[VV2010c] J221452.9+135118</td><td>[ATZ98] F054</td><td>333.72375000000005</td><td>13.855277777777777</td><td>SyG</td><td>0.0253</td><td>z</td><td>AGN|SyG|X</td><td>http://vizier.u-strasbg.fr/viz-bin/sed?-c=333.72375000000005%2013.855277777777777&amp;-c.rs=5</td><td>13056.0</td><td>No Flux Values</td><td>No Flux Values</td></tr>\n",
       "<tr><td>105</td><td>UGC 12282</td><td>UGC 12282</td><td>344.73048253805</td><td>40.93234988852001</td><td>Sy1</td><td>0.017129</td><td>z</td><td>AGN|G  |GiG|IR |Sy1|Sy2|X</td><td>http://vizier.u-strasbg.fr/viz-bin/sed?-c=344.73048253805%2040.93234988852001&amp;-c.rs=5</td><td>13407.0</td><td>NeII|NeIII|NeV</td><td>NeII|NeIII|NeV</td></tr>\n",
       "<tr><td>106</td><td>2MASS J14294306+4747262</td><td>2MASS J14294306+4747262</td><td>217.42947491107998</td><td>47.79061600663999</td><td>Sy1</td><td>0.220706</td><td>z</td><td>AGN|BH?|IR |QSO|Rad|Sy1|UV |X  |blu</td><td>http://vizier.u-strasbg.fr/viz-bin/sed?-c=217.42947491107998%2047.79061600663999&amp;-c.rs=5</td><td>13543.0</td><td>NeII</td><td>NeII</td></tr>\n",
       "<tr><td>107</td><td>MCG+10-17-021</td><td>MCG+10-17-021</td><td>173.95453374173</td><td>56.95229029202</td><td>Sy2</td><td>0.05141</td><td>z</td><td>AGN|G  |IR |Rad|Sy2|SyG|rG</td><td>http://vizier.u-strasbg.fr/viz-bin/sed?-c=173.95453374173%2056.95229029202&amp;-c.rs=5</td><td>13631.0</td><td>NeII|NeIII|NeV</td><td>NeII|NeIII|NeV</td></tr>\n",
       "<tr><td>108</td><td>ESO 113-45</td><td>ESO 113-45</td><td>20.9406798056</td><td>-58.80578025804</td><td>Sy1</td><td>0.048174990836348686</td><td>v</td><td>AGN|BH?|G  |IR |QSO|Sy1|X  |gam</td><td>http://vizier.u-strasbg.fr/viz-bin/sed?-c=20.9406798056%20-58.80578025804&amp;-c.rs=5</td><td>13719.0</td><td>NeII|NeIII|NeV</td><td>NeII|NeIII|NeV</td></tr>\n",
       "<tr><td>109</td><td>NGC  4388</td><td>NGC  4388</td><td>186.4450833333333</td><td>12.662069444444445</td><td>Sy2</td><td>0.008424622880803367</td><td>v</td><td>AGN|G  |GiC|GiG|HI |IR |Rad|Sy2|X  |gam|smm</td><td>http://vizier.u-strasbg.fr/viz-bin/sed?-c=186.4450833333333%2012.662069444444445&amp;-c.rs=5</td><td>13942.0</td><td>NeII|NeIII|NeV</td><td>NeII|NeIII|NeV</td></tr>\n",
       "<tr><td>110</td><td>NGC  5899</td><td>NGC  5899</td><td>228.76354999999998</td><td>42.04985277777778</td><td>Sy2</td><td>0.008799420831327252</td><td>c</td><td>AGN|BiC|G  |GiP|IR |LIN|Sy2|SyG|X</td><td>http://vizier.u-strasbg.fr/viz-bin/sed?-c=228.76354999999998%2042.04985277777778&amp;-c.rs=5</td><td>14156.0</td><td>NeII|NeIII|NeV</td><td>NeII|NeIII|NeV</td></tr>\n",
       "<tr><td>111</td><td>LEDA 3096524</td><td>WISEA J165939.77+183436.7</td><td>254.91569504789996</td><td>18.576885392230004</td><td>Sy1</td><td>0.17078</td><td>z</td><td>AGN|G  |IR |QSO|Sy1|X</td><td>http://vizier.u-strasbg.fr/viz-bin/sed?-c=254.91569504789996%2018.576885392230004&amp;-c.rs=5</td><td>14158.0</td><td>NeII|NeIII|NeV</td><td>NeII|NeIII|NeV</td></tr>\n",
       "<tr><td>112</td><td>NGC  5728</td><td>NGC  5728</td><td>220.59954937774</td><td>-17.25312243994</td><td>Sy2</td><td>0.009467</td><td>z</td><td>*  |AGN|G  |GiG|IR |Rad|Sy2|X</td><td>http://vizier.u-strasbg.fr/viz-bin/sed?-c=220.59954937774%20-17.25312243994&amp;-c.rs=5</td><td>14383.0</td><td>NeII|NeIII|NeV</td><td>NeII|NeIII|NeV</td></tr>\n",
       "<tr><td>113</td><td>ESO 140-43</td><td>ESO 140-43</td><td>281.22495536611</td><td>-62.3646872824</td><td>Sy1</td><td>0.014360633537977563</td><td>v</td><td>AGN|G  |GiC|GiG|HI |IR |PaG|Sy1|X</td><td>http://vizier.u-strasbg.fr/viz-bin/sed?-c=281.22495536611%20-62.3646872824&amp;-c.rs=5</td><td>14459.0</td><td>NeII|NeIII|NeV</td><td>NeII|NeIII|NeV</td></tr>\n",
       "<tr><td>114</td><td>IC 1816</td><td>IC 1816</td><td>37.962433242130004</td><td>-36.67215466354</td><td>Sy2</td><td>0.017052</td><td>z</td><td>*  |AGN|G  |IR |Rad|Sy2|X</td><td>http://vizier.u-strasbg.fr/viz-bin/sed?-c=37.962433242130004%20-36.67215466354&amp;-c.rs=5</td><td>14563.0</td><td>NeII|NeIII|NeV</td><td>NeII|NeIII|NeV</td></tr>\n",
       "<tr><td>115</td><td>SDSS J161647.32+371621.2</td><td>SDSS J161647.32+371621.2</td><td>244.19713073836</td><td>37.272549241689994</td><td>Sy2</td><td>0.15185</td><td>z</td><td>AGN|G  |IR |Rad|Sy2|rG</td><td>http://vizier.u-strasbg.fr/viz-bin/sed?-c=244.19713073836%2037.272549241689994&amp;-c.rs=5</td><td>14591.0</td><td>NeIII|NeV</td><td>NeIII|NeV</td></tr>\n",
       "<tr><td>116</td><td>ESO 417-6</td><td>ESO 417-6</td><td>44.08972901528</td><td>-32.18559900385</td><td>Sy2</td><td>0.016381</td><td>z</td><td>*  |AGN|G  |IR |Sy2|X</td><td>http://vizier.u-strasbg.fr/viz-bin/sed?-c=44.08972901528%20-32.18559900385&amp;-c.rs=5</td><td>14666.0</td><td>NeII|NeIII|NeV</td><td>NeII|NeIII|NeV</td></tr>\n",
       "<tr><td>117</td><td>NGC   788</td><td>NGC   788</td><td>30.276928704090004</td><td>-6.81587494669</td><td>Sy2</td><td>0.013696532626885194</td><td>v</td><td>AGN|G  |GiG|IR |Q? |Sy2|X  |gam</td><td>http://vizier.u-strasbg.fr/viz-bin/sed?-c=30.276928704090004%20-6.81587494669&amp;-c.rs=5</td><td>14862.0</td><td>NeII|NeIII|NeV</td><td>NeII|NeIII|NeV</td></tr>\n",
       "<tr><td>118</td><td>2C 1066</td><td>1Jy 1254+47</td><td>194.24124999999998</td><td>47.33888888888889</td><td>SyG</td><td>0.996</td><td>z</td><td>AGN|G  |QSO|Rad|SyG</td><td>http://vizier.u-strasbg.fr/viz-bin/sed?-c=194.24124999999998%2047.33888888888889&amp;-c.rs=5</td><td>14911.0</td><td>NeII|NeIII</td><td>NeII|NeIII</td></tr>\n",
       "<tr><td>119</td><td>IC 5298</td><td>IC 5298</td><td>349.0028153379812</td><td>25.5566892053951</td><td>Sy2</td><td>0.027729914834620617</td><td>v</td><td>*  |AGN|EmG|G  |GiG|HI |IR |Sy2</td><td>http://vizier.u-strasbg.fr/viz-bin/sed?-c=349.0028153379812%2025.5566892053951&amp;-c.rs=5</td><td>14947.0</td><td>NeV</td><td>NeV</td></tr>\n",
       "<tr><td>120</td><td>IC 5063</td><td>IC 5063</td><td>313.00970416666667</td><td>-57.068777777777775</td><td>Sy2</td><td>0.011274</td><td>z</td><td>AGN|Bla|G  |HI |IR |PaG|Rad|Sy2|X  |cm |gam</td><td>http://vizier.u-strasbg.fr/viz-bin/sed?-c=313.00970416666667%20-57.068777777777775&amp;-c.rs=5</td><td>14958.0</td><td>NeII|NeIII|NeV</td><td>NeII|NeIII|NeV</td></tr>\n",
       "<tr><td>121</td><td>PB  3894</td><td>PB  3894</td><td>183.57364111990998</td><td>14.05366186754</td><td>Sy1</td><td>0.081</td><td>z</td><td>*  |AGN|BH?|G  |GiC|IR |QSO|Sy1|UV |V* |X  |gam</td><td>http://vizier.u-strasbg.fr/viz-bin/sed?-c=183.57364111990998%2014.05366186754&amp;-c.rs=5</td><td>15091.0</td><td>NeIII|NeV</td><td>NeIII|NeV</td></tr>\n",
       "<tr><td>122</td><td>M  88</td><td>M  88</td><td>187.99646877602</td><td>14.420319158839998</td><td>Sy2</td><td>0.007641125203845078</td><td>v</td><td>AGN|G  |GiC|GiG|HI |IR |Rad|Sy2|X  |gam</td><td>http://vizier.u-strasbg.fr/viz-bin/sed?-c=187.99646877602%2014.420319158839998&amp;-c.rs=5</td><td>15225.0</td><td>NeII|NeIII</td><td>NeII|NeIII</td></tr>\n",
       "<tr><td>123</td><td>NGC  4602</td><td>NGC  4602</td><td>190.15353333333329</td><td>-5.13301111111111</td><td>Sy2</td><td>0.008532612492868408</td><td>v</td><td>AGN|G  |GiG|HI |IR |Sy2</td><td>http://vizier.u-strasbg.fr/viz-bin/sed?-c=190.15353333333329%20-5.13301111111111&amp;-c.rs=5</td><td>15263.0</td><td>NeII|NeV</td><td>NeII|NeV</td></tr>\n",
       "<tr><td>124</td><td>IRAS 13342+3932</td><td>IRAS 13342+3932</td><td>204.10025809492</td><td>39.29197361511</td><td>Sy1</td><td>0.178992</td><td>z</td><td>AGN|G  |IR |QSO|Rad|Sy1</td><td>http://vizier.u-strasbg.fr/viz-bin/sed?-c=204.10025809492%2039.29197361511&amp;-c.rs=5</td><td>15277.0</td><td>NeII|NeV</td><td>NeII|NeV</td></tr>\n",
       "<tr><td>125</td><td>NGC  1241</td><td>NGC  1241</td><td>47.81091477343001</td><td>-8.921882211080002</td><td>Sy2</td><td>0.013574113505256058</td><td>v</td><td>*  |AGN|EmG|G  |GiG|HI |IG |IR |Rad|Sy2</td><td>http://vizier.u-strasbg.fr/viz-bin/sed?-c=47.81091477343001%20-8.921882211080002&amp;-c.rs=5</td><td>15290.0</td><td>NeII|NeIII|NeV</td><td>NeII|NeIII|NeV</td></tr>\n",
       "<tr><td>126</td><td>NGC  4138</td><td>NGC  4138</td><td>182.37417142376998</td><td>43.68524003889</td><td>Sy1</td><td>0.002955</td><td>z</td><td>AGN|G  |GiG|HI |IR |Rad|Sy1|Sy2|X</td><td>http://vizier.u-strasbg.fr/viz-bin/sed?-c=182.37417142376998%2043.68524003889&amp;-c.rs=5</td><td>15365.0</td><td>NeII|NeIII|NeV</td><td>NeII|NeIII|NeV</td></tr>\n",
       "<tr><td>127</td><td>NGC  1566</td><td>NGC  1566</td><td>65.00165353052</td><td>-54.93795130799</td><td>Sy1</td><td>0.005036491802564491</td><td>v</td><td>*  |AGN|EmG|G  |GiG|HI |IR |QSO|Rad|Sy1|UV |X</td><td>http://vizier.u-strasbg.fr/viz-bin/sed?-c=65.00165353052%20-54.93795130799&amp;-c.rs=5</td><td>15451.0</td><td>NeII|NeIII|NeV</td><td>NeII|NeIII|NeV</td></tr>\n",
       "<tr><td>128</td><td>NGC  1808</td><td>NGC  1808</td><td>76.92642916666667</td><td>-37.51305000000001</td><td>Sy2</td><td>0.0033425615360702654</td><td>v</td><td>AGN|EmG|G  |GiG|HI |HII|IR |Rad|Sy2|X  |smm</td><td>http://vizier.u-strasbg.fr/viz-bin/sed?-c=76.92642916666667%20-37.51305000000001&amp;-c.rs=5</td><td>15630.0</td><td>NeII|NeIII</td><td>NeII|NeIII</td></tr>\n",
       "<tr><td>129</td><td>ICRF J054236.1+495107</td><td>ICRF J054236.1+495107</td><td>85.65057514809</td><td>49.85200894825999</td><td>Sy1</td><td>0.55</td><td>z</td><td>*  |G  |IR |QSO|Rad|Sy1|X  |smm</td><td>http://vizier.u-strasbg.fr/viz-bin/sed?-c=85.65057514809%2049.85200894825999&amp;-c.rs=5</td><td>15958.0</td><td>NeIII</td><td>NeIII</td></tr>\n",
       "<tr><td>130</td><td>NGC  4074</td><td>NGC  4074</td><td>181.12361086358996</td><td>20.31629289079</td><td>Sy2</td><td>0.02262</td><td>z</td><td>AGN|G  |GiC|GiG|GrG|Sy1|Sy2|X</td><td>http://vizier.u-strasbg.fr/viz-bin/sed?-c=181.12361086358996%2020.31629289079&amp;-c.rs=5</td><td>16006.0</td><td>NeII</td><td>NeII</td></tr>\n",
       "<tr><td>131</td><td>Mrk  304</td><td>Mrk  304</td><td>334.30109901662</td><td>14.239143848050002</td><td>Sy1</td><td>0.066293</td><td>z</td><td>*  |AGN|G  |IR |QSO|Sy1|UV |X</td><td>http://vizier.u-strasbg.fr/viz-bin/sed?-c=334.30109901662%2014.239143848050002&amp;-c.rs=5</td><td>16060.0</td><td>NeII|NeIII|NeV</td><td>NeII|NeIII|NeV</td></tr>\n",
       "<tr><td>132</td><td>Mrk 1298</td><td>Mrk 1298</td><td>172.31970350039</td><td>-4.4020129057</td><td>Sy1</td><td>0.06</td><td>z</td><td>*  |AGN|G  |IR |QSO|Sy1|UV |V*</td><td>http://vizier.u-strasbg.fr/viz-bin/sed?-c=172.31970350039%20-4.4020129057&amp;-c.rs=5</td><td>16101.0</td><td>NeII|NeV</td><td>NeII|NeV</td></tr>\n",
       "<tr><td>133</td><td>2XMM J135315.8+634546</td><td>2XMM J135315.8+634546</td><td>208.31596296536</td><td>63.76268975741</td><td>Sy1</td><td>0.086</td><td>z</td><td>*  |AGN|G  |IR |QSO|Rad|Sy1|UV |X</td><td>http://vizier.u-strasbg.fr/viz-bin/sed?-c=208.31596296536%2063.76268975741&amp;-c.rs=5</td><td>16220.0</td><td>NeII|NeIII</td><td>NeII|NeIII</td></tr>\n",
       "<tr><td>134</td><td>Mrk 1095</td><td>Mrk 1095</td><td>79.04753852996</td><td>-0.14976587970000002</td><td>Sy1</td><td>0.03229567569708508</td><td>c</td><td>*  |AGN|G  |GiC|IR |QSO|Rad|Sy1|V* |X  |Y*O|gam</td><td>http://vizier.u-strasbg.fr/viz-bin/sed?-c=79.04753852996%20-0.14976587970000002&amp;-c.rs=5</td><td>16350.0</td><td>NeII|NeIII|NeV</td><td>NeII|NeIII|NeV</td></tr>\n",
       "<tr><td>135</td><td>IRAS 15206+3342</td><td>IRAS 15206+3342</td><td>230.658765</td><td>33.526639</td><td>Sy2</td><td>0.1253</td><td>z</td><td>AGN|G  |IR |QSO|Rad|Sy2|rG</td><td>http://vizier.u-strasbg.fr/viz-bin/sed?-c=230.658765%2033.526639&amp;-c.rs=5</td><td>16437.0</td><td>NeII|NeIII</td><td>NeII|NeIII</td></tr>\n",
       "<tr><td>136</td><td>2E   437</td><td>2E   437</td><td>24.10175339686</td><td>20.95764527527</td><td>Sy1</td><td>0.425</td><td>z</td><td>*  |AGN|G  |IR |QSO|Rad|Sy1|UV |X</td><td>http://vizier.u-strasbg.fr/viz-bin/sed?-c=24.10175339686%2020.95764527527&amp;-c.rs=5</td><td>16530.0</td><td>NeII</td><td>NeII</td></tr>\n",
       "<tr><td>137</td><td>2MASS J10520202+5633010</td><td>2MASS J10520202+5633010</td><td>163.00847022596</td><td>56.55035647698</td><td>Sy2</td><td>0.12361</td><td>z</td><td>*  |AGN|G  |IR |Sy2</td><td>http://vizier.u-strasbg.fr/viz-bin/sed?-c=163.00847022596%2056.55035647698&amp;-c.rs=5</td><td>16549.0</td><td>NeII|NeIII</td><td>NeII|NeIII</td></tr>\n",
       "<tr><td>138</td><td>2MASX J14510879+2709272</td><td>2MASX J14510879+2709272</td><td>222.78651997439997</td><td>27.15748964087</td><td>Sy1</td><td>0.06449</td><td>z</td><td>AGN|G  |IR |QSO|Rad|Sy1|UV |X</td><td>http://vizier.u-strasbg.fr/viz-bin/sed?-c=222.78651997439997%2027.15748964087&amp;-c.rs=5</td><td>16631.0</td><td>NeII|NeV</td><td>NeII|NeV</td></tr>\n",
       "<tr><td>139</td><td>IC  486</td><td>IC  486</td><td>120.08743500089999</td><td>26.61351567976</td><td>Sy2</td><td>0.02674</td><td>z</td><td>AG?|AGN|G  |IR |Rad|Sy1|Sy2|X  |rG</td><td>http://vizier.u-strasbg.fr/viz-bin/sed?-c=120.08743500089999%2026.61351567976&amp;-c.rs=5</td><td>16879.0</td><td>NeII|NeIII|NeV</td><td>NeII|NeIII|NeV</td></tr>\n",
       "<tr><td>140</td><td>ATO J176.4186-18.4541</td><td>WISEA J114540.46-182714.8</td><td>176.41860562377</td><td>-18.45415636601</td><td>Sy1</td><td>0.03278601491702637</td><td>c</td><td>*  |AGN|G  |IR |QSO|Rad|Sy1|V* |X  |gam</td><td>http://vizier.u-strasbg.fr/viz-bin/sed?-c=176.41860562377%20-18.45415636601&amp;-c.rs=5</td><td>16934.0</td><td>NeII</td><td>NeII</td></tr>\n",
       "<tr><td>141</td><td>Mrk  618</td><td>Mrk  618</td><td>69.09291061972</td><td>-10.37610748376</td><td>Sy1</td><td>0.035157655633885225</td><td>c</td><td>*  |AGN|G  |GiC|IR |QSO|Sy1|X</td><td>http://vizier.u-strasbg.fr/viz-bin/sed?-c=69.09291061972%20-10.37610748376&amp;-c.rs=5</td><td>16981.0</td><td>NeII|NeIII|NeV</td><td>NeII|NeIII|NeV</td></tr>\n",
       "<tr><td>142</td><td>NGC  5273</td><td>NGC  5273</td><td>205.53491734027997</td><td>35.654296533010005</td><td>Sy1</td><td>0.00342</td><td>z</td><td>AGN|G  |GiP|IR |Rad|Sy1|Sy2|X</td><td>http://vizier.u-strasbg.fr/viz-bin/sed?-c=205.53491734027997%2035.654296533010005&amp;-c.rs=5</td><td>17007.0</td><td>NeII|NeIII</td><td>NeII|NeIII</td></tr>\n",
       "<tr><td>143</td><td>Mrk  609</td><td>Mrk  609</td><td>51.35566276651</td><td>-6.14387431848</td><td>Sy2</td><td>0.03441</td><td>z</td><td>*  |AG?|AGN|G  |IR |Sy1|Sy2|X  |rG</td><td>http://vizier.u-strasbg.fr/viz-bin/sed?-c=51.35566276651%20-6.14387431848&amp;-c.rs=5</td><td>17035.0</td><td>NeII|NeIII|NeV</td><td>NeII|NeIII|NeV</td></tr>\n",
       "<tr><td>144</td><td>NGC  3079</td><td>NGC  3079</td><td>150.49116244333</td><td>55.67984715509</td><td>Sy2</td><td>0.003766</td><td>z</td><td>AGN|G  |GiG|IR |Rad|Sy2|X</td><td>http://vizier.u-strasbg.fr/viz-bin/sed?-c=150.49116244333%2055.67984715509&amp;-c.rs=5</td><td>17352.0</td><td>NeII|NeIII|NeV</td><td>NeII|NeIII|NeV</td></tr>\n",
       "<tr><td>145</td><td>LEDA  165618</td><td>LEDA  165618</td><td>201.08285953248998</td><td>5.617970425370001</td><td>Sy2</td><td>0.20281</td><td>z</td><td>*  |AGN|G  |IR |Q? |QSO|Rad|Sy1|Sy2|X  |gam</td><td>http://vizier.u-strasbg.fr/viz-bin/sed?-c=201.08285953248998%205.617970425370001&amp;-c.rs=5</td><td>17430.0</td><td>NeII</td><td>NeII</td></tr>\n",
       "<tr><td>146</td><td>IRAS 03450+0055</td><td>IRAS 03450+0055</td><td>56.91745322117999</td><td>1.0872355601600001</td><td>Sy1</td><td>0.03</td><td>z</td><td>*  |AGN|Em*|G  |IR |QSO|Sy1|UV |X</td><td>http://vizier.u-strasbg.fr/viz-bin/sed?-c=56.91745322117999%201.0872355601600001&amp;-c.rs=5</td><td>17881.0</td><td>NeII|NeIII</td><td>NeII|NeIII</td></tr>\n",
       "<tr><td>147</td><td>3C 343.1</td><td>3C 343.1</td><td>249.61760403833335</td><td>62.578975855555555</td><td>Sy2</td><td>0.75238</td><td>z</td><td>AGN|G  |QSO|Rad|Sy2</td><td>http://vizier.u-strasbg.fr/viz-bin/sed?-c=249.61760403833335%2062.578975855555555&amp;-c.rs=5</td><td>17930.0</td><td>NeII|NeIII</td><td>NeII|NeIII</td></tr>\n",
       "<tr><td>148</td><td>2C   94</td><td>1Jy 0106+13</td><td>17.220292429510003</td><td>13.33729522217</td><td>Sy2</td><td>0.059615</td><td>z</td><td>AGN|G  |Rad|Sy2|X</td><td>http://vizier.u-strasbg.fr/viz-bin/sed?-c=17.220292429510003%2013.33729522217&amp;-c.rs=5</td><td>18241.0</td><td>NeII|NeIII|NeV</td><td>NeII|NeIII|NeV</td></tr>\n",
       "<tr><td>149</td><td>Ton  182</td><td>Ton  182</td><td>211.31757444789</td><td>25.92614376133</td><td>Sy1</td><td>0.164</td><td>z</td><td>BH?|G  |IR |Q? |QSO|Rad|Sy1|UV |X  |blu</td><td>http://vizier.u-strasbg.fr/viz-bin/sed?-c=211.31757444789%2025.92614376133&amp;-c.rs=5</td><td>18245.0</td><td>NeII</td><td>NeII</td></tr>\n",
       "<tr><td>150</td><td>MCG+13-07-002</td><td>MCG+13-07-002</td><td>131.18874958905</td><td>76.88596270528</td><td>Sy1</td><td>0.131344</td><td>z</td><td>*  |AGN|G  |IR |QSO|Sy1|UV |X</td><td>http://vizier.u-strasbg.fr/viz-bin/sed?-c=131.18874958905%2076.88596270528&amp;-c.rs=5</td><td>18248.0</td><td>NeII|NeV</td><td>NeII|NeV</td></tr>\n",
       "<tr><td>151</td><td>Ton  1388</td><td>Ton  1388</td><td>169.7861609251</td><td>21.32166307943</td><td>Sy1</td><td>0.176</td><td>z</td><td>*  |AGN|BH?|GiC|IR |QSO|Sy1|UV |V* |X  |blu|gam</td><td>http://vizier.u-strasbg.fr/viz-bin/sed?-c=169.7861609251%2021.32166307943&amp;-c.rs=5</td><td>18446.0</td><td>No Flux Values</td><td>No Flux Values</td></tr>\n",
       "<tr><td>152</td><td>NGC  5548</td><td>NGC  5548</td><td>214.49808345492997</td><td>25.13683420063</td><td>Sy1</td><td>0.01627</td><td>z</td><td>*  |AGN|EmG|G  |GiC|GiG|IR |Sy1|SyG|UV |V* |X  |gam</td><td>http://vizier.u-strasbg.fr/viz-bin/sed?-c=214.49808345492997%2025.13683420063&amp;-c.rs=5</td><td>18512.0</td><td>NeII|NeIII|NeV</td><td>NeII|NeIII|NeV</td></tr>\n",
       "<tr><td>153</td><td>ICRF J145907.5+714019</td><td>ICRF J145907.5+714019</td><td>224.78159904783996</td><td>71.67218475113</td><td>Sy1</td><td>0.904499</td><td>z</td><td>*  |Bla|Bz?|G  |IR |QSO|Rad|Sy1|UV |X</td><td>http://vizier.u-strasbg.fr/viz-bin/sed?-c=224.78159904783996%2071.67218475113&amp;-c.rs=5</td><td>18721.0</td><td>NeII|NeIII|NeV</td><td>NeII|NeIII|NeV</td></tr>\n",
       "<tr><td>154</td><td>NGC   424</td><td>NGC   424</td><td>17.86516042729</td><td>-38.08345030459</td><td>Sy2</td><td>0.011840233370742137</td><td>v</td><td>*  |AGN|EmO|G  |HI |IR |Rad|Sy1|Sy2|X  |gam</td><td>http://vizier.u-strasbg.fr/viz-bin/sed?-c=17.86516042729%20-38.08345030459&amp;-c.rs=5</td><td>18769.0</td><td>NeII|NeIII|NeV</td><td>NeII|NeIII|NeV</td></tr>\n",
       "<tr><td>155</td><td>Mrk  509</td><td>Mrk  509</td><td>311.04062686800995</td><td>-10.723535320979998</td><td>Sy1</td><td>0.03407575862939649</td><td>v</td><td>*  |AGN|BH?|G  |IR |QSO|Sy1|V* |X  |gam</td><td>http://vizier.u-strasbg.fr/viz-bin/sed?-c=311.04062686800995%20-10.723535320979998&amp;-c.rs=5</td><td>18837.0</td><td>NeII|NeIII|NeV</td><td>NeII|NeIII|NeV</td></tr>\n",
       "<tr><td>156</td><td>ESO   5-4</td><td>ESO   5-4</td><td>91.4238375</td><td>-86.63195</td><td>Sy2</td><td>0.006224665721651146</td><td>v</td><td>AGN|G  |IR |Rad|Sy2|X</td><td>http://vizier.u-strasbg.fr/viz-bin/sed?-c=91.4238375%20-86.63195&amp;-c.rs=5</td><td>19392.0</td><td>NeII|NeIII|NeV</td><td>NeII|NeIII|NeV</td></tr>\n",
       "<tr><td>157</td><td>NGC   660</td><td>NGC   660</td><td>25.759791666666672</td><td>13.645680555555558</td><td>Sy2</td><td>0.0028326354229499806</td><td>v</td><td>AGN|G  |GiP|HI |IG |IR |LIN|Rad|Sy2|smm</td><td>http://vizier.u-strasbg.fr/viz-bin/sed?-c=25.759791666666672%2013.645680555555558&amp;-c.rs=5</td><td>19462.0</td><td>NeII|NeIII|NeV</td><td>NeII|NeIII|NeV</td></tr>\n",
       "<tr><td>158</td><td>NGC  4355</td><td>NGC  4355</td><td>186.7275861413</td><td>-0.8776170036100001</td><td>Sy2</td><td>0.00708</td><td>z</td><td>*  |AGN|G  |GiG|GiP|HI |IR |Sy2|smm</td><td>http://vizier.u-strasbg.fr/viz-bin/sed?-c=186.7275861413%20-0.8776170036100001&amp;-c.rs=5</td><td>19530.0</td><td>NeII</td><td>NeII</td></tr>\n",
       "<tr><td>159</td><td>NGC  2992</td><td>NGC  2992</td><td>146.4251875</td><td>-14.32636111111111</td><td>Sy2</td><td>0.007295641250069318</td><td>v</td><td>AGN|G  |HI |IG |IR |Rad|Sy1|Sy2|X  |gam</td><td>http://vizier.u-strasbg.fr/viz-bin/sed?-c=146.4251875%20-14.32636111111111&amp;-c.rs=5</td><td>19540.0</td><td>NeII|NeIII|NeV</td><td>NeII|NeIII|NeV</td></tr>\n",
       "<tr><td>160</td><td>ESO 141-55</td><td>ESO 141-55</td><td>290.30894745659</td><td>-58.6702728993</td><td>Sy1</td><td>0.03710900559079442</td><td>c</td><td>AGN|G  |IR |QSO|Sy1|UV |X  |gam</td><td>http://vizier.u-strasbg.fr/viz-bin/sed?-c=290.30894745659%20-58.6702728993&amp;-c.rs=5</td><td>19771.0</td><td>NeII|NeIII|NeV</td><td>NeII|NeIII|NeV</td></tr>\n",
       "<tr><td>161</td><td>Mrk  334</td><td>Mrk  334</td><td>0.7900366584399999</td><td>21.96026999719</td><td>Sy1</td><td>0.022129948958635293</td><td>v</td><td>*  |AGN|EmG|G  |IG |IR |Sy1|X</td><td>http://vizier.u-strasbg.fr/viz-bin/sed?-c=0.7900366584399999%2021.96026999719&amp;-c.rs=5</td><td>19855.0</td><td>NeII|NeIII|NeV</td><td>NeII|NeIII|NeV</td></tr>\n",
       "<tr><td>162</td><td>NGC  1204</td><td>NGC  1204</td><td>46.166192993760006</td><td>-12.341388629069998</td><td>Sy2</td><td>0.014513</td><td>z</td><td>*  |AGN|G  |GiG|IR |Sy2</td><td>http://vizier.u-strasbg.fr/viz-bin/sed?-c=46.166192993760006%20-12.341388629069998&amp;-c.rs=5</td><td>20331.0</td><td>NeII|NeIII</td><td>NeII|NeIII</td></tr>\n",
       "<tr><td>163</td><td>[VV2003c] J135355.9+664800</td><td>SDSS J135355.90+664800.5</td><td>208.482926</td><td>66.800154</td><td>Sy1</td><td>0.19827</td><td>z</td><td>AGN|G  |Sy1</td><td>http://vizier.u-strasbg.fr/viz-bin/sed?-c=208.482926%2066.800154&amp;-c.rs=5</td><td>20645.0</td><td>NeIII</td><td>NeIII</td></tr>\n",
       "<tr><td>164</td><td>Mrk 1502</td><td>Mrk 1502</td><td>13.39555462818</td><td>12.693313685870002</td><td>Sy1</td><td>0.06</td><td>z</td><td>*  |AGN|G  |IR |QSO|Sy1|UV |V* |X  |blu|gam</td><td>http://vizier.u-strasbg.fr/viz-bin/sed?-c=13.39555462818%2012.693313685870002&amp;-c.rs=5</td><td>20662.0</td><td>NeII|NeIII|NeV</td><td>NeII|NeIII|NeV</td></tr>\n",
       "<tr><td>165</td><td>2XMM J101756.8+390526</td><td>2XMM J101756.8+390526</td><td>154.4870613786</td><td>39.09111115513</td><td>Sy2</td><td>0.05398</td><td>z</td><td>*  |AGN|G  |IR |Sy2|X</td><td>http://vizier.u-strasbg.fr/viz-bin/sed?-c=154.4870613786%2039.09111115513&amp;-c.rs=5</td><td>20813.0</td><td>NeV</td><td>NeV</td></tr>\n",
       "<tr><td>166</td><td>2XMM J142930.6+425148</td><td>2XMM J142930.6+425148</td><td>217.37806729429997</td><td>42.86363453308</td><td>Sy2</td><td>0.155</td><td>z</td><td>*  |G  |Sy2|X</td><td>http://vizier.u-strasbg.fr/viz-bin/sed?-c=217.37806729429997%2042.86363453308&amp;-c.rs=5</td><td>20944.0</td><td>No Flux Values</td><td>No Flux Values</td></tr>\n",
       "<tr><td>167</td><td>NGC  7314</td><td>NGC  7314</td><td>338.94249389828</td><td>-26.05043472041</td><td>Sy1</td><td>0.004771007200318866</td><td>v</td><td>AGN|EmG|G  |HI |IR |Sy1|Sy2|X  |gam</td><td>http://vizier.u-strasbg.fr/viz-bin/sed?-c=338.94249389828%20-26.05043472041&amp;-c.rs=5</td><td>21092.0</td><td>NeII|NeIII|NeV</td><td>NeII|NeIII|NeV</td></tr>\n",
       "<tr><td>168</td><td>ESO 420-13</td><td>ESO 420-13</td><td>63.457079166666674</td><td>-32.007</td><td>Sy2</td><td>0.011935</td><td>z</td><td>*  |AGN|G  |IR |Sy2</td><td>http://vizier.u-strasbg.fr/viz-bin/sed?-c=63.457079166666674%20-32.007&amp;-c.rs=5</td><td>21161.0</td><td>NeII|NeV</td><td>NeII|NeV</td></tr>\n",
       "<tr><td>169</td><td>UGC  1395</td><td>UGC  1395</td><td>28.84178271293</td><td>6.611787317909999</td><td>Sy2</td><td>0.017349037032307058</td><td>v</td><td>*  |AGN|EmO|G  |GiG|GrG|IR |Sy2</td><td>http://vizier.u-strasbg.fr/viz-bin/sed?-c=28.84178271293%206.611787317909999&amp;-c.rs=5</td><td>21287.0</td><td>NeII|NeIII|NeV</td><td>NeII|NeIII|NeV</td></tr>\n",
       "<tr><td>170</td><td>IC 4518A</td><td>IC 4518A</td><td>224.41875</td><td>-43.13166666666667</td><td>Sy2</td><td>0.016568128608492213</td><td>c</td><td>AGN|G  |Sy2|X  |gam</td><td>http://vizier.u-strasbg.fr/viz-bin/sed?-c=224.41875%20-43.13166666666667&amp;-c.rs=5</td><td>21613.0</td><td>NeII|NeIII|NeV</td><td>NeII|NeIII|NeV</td></tr>\n",
       "<tr><td>171</td><td>NAME Centaurus A</td><td>[KJK2017] J1325-4301</td><td>201.36501659049</td><td>-43.01930361346001</td><td>Sy2</td><td>0.001826263216626156</td><td>v</td><td>AGN|BLL|Bla|Bz?|G  |GiG|IR |PaG|QSO|Rad|Sy2|X  |cm |gam|rG</td><td>http://vizier.u-strasbg.fr/viz-bin/sed?-c=201.36501659049%20-43.01930361346001&amp;-c.rs=5</td><td>21647.0</td><td>NeII|NeIII|NeV</td><td>NeII|NeIII|NeV</td></tr>\n",
       "<tr><td>172</td><td>2XMM J094506.4+035552</td><td>2XMM J094506.4+035552</td><td>146.27664708353</td><td>3.9308735599</td><td>Sy2</td><td>0.15591</td><td>z</td><td>AGN|Sy2|X</td><td>http://vizier.u-strasbg.fr/viz-bin/sed?-c=146.27664708353%203.9308735599&amp;-c.rs=5</td><td>21783.0</td><td>NeV</td><td>NeV</td></tr>\n",
       "<tr><td>173</td><td>ICRF J052109.8+163822</td><td>ICRF J052109.8+163822</td><td>80.29118967361</td><td>16.63945959833</td><td>Sy1</td><td>0.76</td><td>z</td><td>*  |G  |IR |QSO|Rad|Sy1|X</td><td>http://vizier.u-strasbg.fr/viz-bin/sed?-c=80.29118967361%2016.63945959833&amp;-c.rs=5</td><td>21790.0</td><td>NeII</td><td>NeII</td></tr>\n",
       "<tr><td>174</td><td>IRAS 17002+5153</td><td>IRAS 17002+5153</td><td>255.35344394545996</td><td>51.82234663301</td><td>Sy1</td><td>0.292</td><td>z</td><td>*  |AGN|G  |IR |QSO|Rad|Sy1|UV |gam</td><td>http://vizier.u-strasbg.fr/viz-bin/sed?-c=255.35344394545996%2051.82234663301&amp;-c.rs=5</td><td>21819.0</td><td>NeII</td><td>NeII</td></tr>\n",
       "<tr><td>175</td><td>ESO 506-27</td><td>ESO 506-27</td><td>189.72747014182997</td><td>-27.307780527139997</td><td>Sy2</td><td>0.025208180529256108</td><td>v</td><td>*  |AGN|G  |IR |Rad|Sy2|X  |gam</td><td>http://vizier.u-strasbg.fr/viz-bin/sed?-c=189.72747014182997%20-27.307780527139997&amp;-c.rs=5</td><td>21859.0</td><td>NeII</td><td>NeII</td></tr>\n",
       "<tr><td>176</td><td>Z  41-20</td><td>Z  41-20</td><td>180.24142593551997</td><td>6.80640198615</td><td>Sy2</td><td>0.03599</td><td>z</td><td>AG?|AGN|G  |IR |Rad|Sy2|X  |gam|rG</td><td>http://vizier.u-strasbg.fr/viz-bin/sed?-c=180.24142593551997%206.80640198615&amp;-c.rs=5</td><td>21935.0</td><td>NeII</td><td>NeII</td></tr>\n",
       "<tr><td>177</td><td>Mrk  771</td><td>Mrk  771</td><td>188.01509321249998</td><td>20.15819328726</td><td>Sy1</td><td>0.06373</td><td>z</td><td>AGN|G  |IR |QSO|Sy1|UV |X  |blu</td><td>http://vizier.u-strasbg.fr/viz-bin/sed?-c=188.01509321249998%2020.15819328726&amp;-c.rs=5</td><td>22221.0</td><td>NeII|NeIII|NeV</td><td>NeII|NeIII|NeV</td></tr>\n",
       "<tr><td>178</td><td>3C 295</td><td>3C 295</td><td>212.83527916666668</td><td>52.202644444444445</td><td>Sy2</td><td>0.46169</td><td>z</td><td>AGN|BiC|ClG|G  |GiC|QSO|Rad|Sy1|Sy2|UV |X  |gam</td><td>http://vizier.u-strasbg.fr/viz-bin/sed?-c=212.83527916666668%2052.202644444444445&amp;-c.rs=5</td><td>22266.0</td><td>NeII</td><td>NeII</td></tr>\n",
       "<tr><td>179</td><td>Mrk  876</td><td>Mrk  876</td><td>243.48824792551</td><td>65.71943130148</td><td>Sy1</td><td>0.13851185963947543</td><td>v</td><td>AGN|G  |IR |QSO|Sy1|UV |X</td><td>http://vizier.u-strasbg.fr/viz-bin/sed?-c=243.48824792551%2065.71943130148&amp;-c.rs=5</td><td>22538.0</td><td>NeII|NeIII|NeV</td><td>NeII|NeIII|NeV</td></tr>\n",
       "<tr><td>180</td><td>Mrk 1014</td><td>Mrk 1014</td><td>29.959389459069993</td><td>0.39468451244</td><td>Sy1</td><td>0.16349</td><td>z</td><td>*  |AGN|EmO|G  |GiC|IR |QSO|Rad|Sy1|UV |V* |X</td><td>http://vizier.u-strasbg.fr/viz-bin/sed?-c=29.959389459069993%200.39468451244&amp;-c.rs=5</td><td>22589.0</td><td>NeII|NeIII|NeV</td><td>NeII|NeIII|NeV</td></tr>\n",
       "<tr><td>181</td><td>Mrk 1457</td><td>Mrk 1457</td><td>176.84008595856</td><td>52.44959055615</td><td>Sy2</td><td>0.04867</td><td>z</td><td>AG?|AGN|G  |IR |Rad|Sy2|rG</td><td>http://vizier.u-strasbg.fr/viz-bin/sed?-c=176.84008595856%2052.44959055615&amp;-c.rs=5</td><td>22635.0</td><td>NeII|NeIII|NeV</td><td>NeII|NeIII|NeV</td></tr>\n",
       "<tr><td>182</td><td>Mrk  573</td><td>Mrk  573</td><td>25.990740790959997</td><td>2.3498698338099997</td><td>Sy2</td><td>0.017328670152130687</td><td>v</td><td>*  |AGN|EmO|G  |GiC|IR |LSB|Sy2|X</td><td>http://vizier.u-strasbg.fr/viz-bin/sed?-c=25.990740790959997%202.3498698338099997&amp;-c.rs=5</td><td>22844.0</td><td>NeIII|NeV</td><td>NeIII|NeV</td></tr>\n",
       "<tr><td>183</td><td>ESO 428-14</td><td>ESO 428-14</td><td>109.13002590105002</td><td>-29.324689673990008</td><td>Sy2</td><td>0.005554</td><td>z</td><td>*  |AGN|Em*|G  |GiG|IR |PN |Sy2</td><td>http://vizier.u-strasbg.fr/viz-bin/sed?-c=109.13002590105002%20-29.324689673990008&amp;-c.rs=5</td><td>23220.0</td><td>NeII|NeIII|NeV</td><td>NeII|NeIII|NeV</td></tr>\n",
       "<tr><td>184</td><td>UGC  1841</td><td>UGC  1841</td><td>35.79755528175999</td><td>42.992049542850005</td><td>Sy1</td><td>0.021064572611763303</td><td>c</td><td>*  |AGN|ClG|G  |GiC|QSO|Rad|Sy1|X  |gam|rG</td><td>http://vizier.u-strasbg.fr/viz-bin/sed?-c=35.79755528175999%2042.992049542850005&amp;-c.rs=5</td><td>23324.0</td><td>NeV</td><td>NeV</td></tr>\n",
       "<tr><td>185</td><td>M  49</td><td>M  49</td><td>187.44499166666662</td><td>8.000411111111111</td><td>Sy2</td><td>0.00317</td><td>z</td><td>AGN|BiC|G  |GiC|GiG|Rad|Sy2|UV |X  |gam</td><td>http://vizier.u-strasbg.fr/viz-bin/sed?-c=187.44499166666662%208.000411111111111&amp;-c.rs=5</td><td>23664.0</td><td>NeV</td><td>NeV</td></tr>\n",
       "<tr><td>186</td><td>ESO 263-13</td><td>ESO 263-13</td><td>152.45078196361</td><td>-42.81125846460001</td><td>Sy2</td><td>0.032859</td><td>z</td><td>AGN|G  |GiG|Sy2|X  |gam</td><td>http://vizier.u-strasbg.fr/viz-bin/sed?-c=152.45078196361%20-42.81125846460001&amp;-c.rs=5</td><td>23768.0</td><td>NeII</td><td>NeII</td></tr>\n",
       "<tr><td>187</td><td>2MASX J21564950-0745325</td><td>2MASX J21564950-0745325</td><td>329.2062666666666</td><td>-7.759044444444445</td><td>Sy2</td><td>0.05536</td><td>z</td><td>AGN|G  |Rad|Sy2|SyG|X  |rG</td><td>http://vizier.u-strasbg.fr/viz-bin/sed?-c=329.2062666666666%20-7.759044444444445&amp;-c.rs=5</td><td>23869.0</td><td>NeV</td><td>NeV</td></tr>\n",
       "<tr><td>188</td><td>LEDA 2816291</td><td>LEDA 2816291</td><td>27.618295692189996</td><td>13.1495572176</td><td>Sy1</td><td>0.14671</td><td>z</td><td>*  |AGN|G  |IR |SBG|Sy1</td><td>http://vizier.u-strasbg.fr/viz-bin/sed?-c=27.618295692189996%2013.1495572176&amp;-c.rs=5</td><td>24175.0</td><td>NeIII</td><td>NeIII</td></tr>\n",
       "<tr><td>189</td><td>ICRF J090933.4+425346</td><td>ICRF J090933.4+425346</td><td>137.38957555891</td><td>42.89623743066</td><td>Sy2</td><td>0.67002</td><td>z</td><td>*  |AGN|Bla|Bz?|G  |IR |QSO|Rad|Sy2|X</td><td>http://vizier.u-strasbg.fr/viz-bin/sed?-c=137.38957555891%2042.89623743066&amp;-c.rs=5</td><td>24279.0</td><td>No Flux Values</td><td>No Flux Values</td></tr>\n",
       "<tr><td>190</td><td>NGC  5347</td><td>NGC  5347</td><td>208.32416038921997</td><td>33.49083656061</td><td>Sy2</td><td>0.007980676985060775</td><td>v</td><td>AGN|G  |IR |Rad|Sy2|SyG|X  |gam</td><td>http://vizier.u-strasbg.fr/viz-bin/sed?-c=208.32416038921997%2033.49083656061&amp;-c.rs=5</td><td>24503.0</td><td>NeII|NeIII|NeV</td><td>NeII|NeIII|NeV</td></tr>\n",
       "<tr><td>191</td><td>Mrk  520</td><td>Mrk  520</td><td>330.17230230255</td><td>10.55223199663</td><td>Sy1</td><td>0.02708515591124039</td><td>v</td><td>AGN|G  |IG |IR |Sy1|Sy2|X</td><td>http://vizier.u-strasbg.fr/viz-bin/sed?-c=330.17230230255%2010.55223199663&amp;-c.rs=5</td><td>24603.0</td><td>NeII</td><td>NeII</td></tr>\n",
       "<tr><td>192</td><td>NGC  4748</td><td>NGC  4748</td><td>193.05193788944996</td><td>-13.414795005539998</td><td>Sy1</td><td>0.013753</td><td>z</td><td>*  |AGN|G  |GiG|IR |Rad|Sy1|X</td><td>http://vizier.u-strasbg.fr/viz-bin/sed?-c=193.05193788944996%20-13.414795005539998&amp;-c.rs=5</td><td>24644.0</td><td>NeII|NeIII|NeV</td><td>NeII|NeIII|NeV</td></tr>\n",
       "<tr><td>193</td><td>NGC  1667</td><td>NGC  1667</td><td>72.1549185747</td><td>-6.31995122992</td><td>Sy2</td><td>0.015204</td><td>z</td><td>AGN|G  |GiG|IR |Rad|Sy2|X  |gam|smm</td><td>http://vizier.u-strasbg.fr/viz-bin/sed?-c=72.1549185747%20-6.31995122992&amp;-c.rs=5</td><td>24664.0</td><td>NeII|NeIII|NeV</td><td>NeII|NeIII|NeV</td></tr>\n",
       "<tr><td>194</td><td>2C 1883</td><td>1Jy 2314+03</td><td>349.14663898619995</td><td>4.08841586141</td><td>Sy2</td><td>0.22</td><td>z</td><td>*  |AGN|G  |IR |QSO|Rad|Sy2</td><td>http://vizier.u-strasbg.fr/viz-bin/sed?-c=349.14663898619995%204.08841586141&amp;-c.rs=5</td><td>24886.0</td><td>NeII|NeIII</td><td>NeII|NeIII</td></tr>\n",
       "<tr><td>195</td><td>NGC  1320</td><td>NGC  1320</td><td>51.20286952403</td><td>-3.04225598151</td><td>Sy2</td><td>0.009</td><td>z</td><td>*  |AGN|G  |GiG|IR |Sy2|UV |X</td><td>http://vizier.u-strasbg.fr/viz-bin/sed?-c=51.20286952403%20-3.04225598151&amp;-c.rs=5</td><td>24941.0</td><td>NeII|NeIII|NeV</td><td>NeII|NeIII|NeV</td></tr>\n",
       "<tr><td>196</td><td>Mrk 1073</td><td>Mrk 1073</td><td>48.75595518415</td><td>42.03578472752</td><td>Sy2</td><td>0.02347290537909396</td><td>c</td><td>AGN|G  |GiC|GiG|IR |QSO|Rad|Sy2|rG</td><td>http://vizier.u-strasbg.fr/viz-bin/sed?-c=48.75595518415%2042.03578472752&amp;-c.rs=5</td><td>24989.0</td><td>NeII|NeIII|NeV</td><td>NeII|NeIII|NeV</td></tr>\n",
       "<tr><td>197</td><td>NGC  6300</td><td>NGC  6300</td><td>259.2480908728999</td><td>-62.82054071912</td><td>Sy2</td><td>0.003683326859806213</td><td>v</td><td>AGN|G  |GiG|IG |IR |Rad|Sy2|X  |gam</td><td>http://vizier.u-strasbg.fr/viz-bin/sed?-c=259.2480908728999%20-62.82054071912&amp;-c.rs=5</td><td>24996.0</td><td>NeII|NeIII|NeV</td><td>NeII|NeIII|NeV</td></tr>\n",
       "<tr><td>198</td><td>NGC  5643</td><td>NGC  5643</td><td>218.16990833333332</td><td>-44.174611111111105</td><td>Sy2</td><td>0.003990048348273101</td><td>v</td><td>AGN|G  |IR |Rad|Sy2|X  |cm</td><td>http://vizier.u-strasbg.fr/viz-bin/sed?-c=218.16990833333332%20-44.174611111111105&amp;-c.rs=5</td><td>25179.0</td><td>NeII|NeIII|NeV</td><td>NeII|NeIII|NeV</td></tr>\n",
       "<tr><td>199</td><td>NGC  2273</td><td>NGC  2273</td><td>102.53612157900001</td><td>60.84579573476001</td><td>Sy2</td><td>0.006151</td><td>z</td><td>*  |AGN|G  |GiG|IR |Rad|Sy2|X  |gam</td><td>http://vizier.u-strasbg.fr/viz-bin/sed?-c=102.53612157900001%2060.84579573476001&amp;-c.rs=5</td><td>25227.0</td><td>NeII|NeIII|NeV</td><td>NeII|NeIII|NeV</td></tr>\n",
       "<tr><td>200</td><td>2MASS J00070361+1554238</td><td>2MASS J00070361+1554237</td><td>1.76504755743</td><td>15.906575893419998</td><td>Sy1</td><td>0.11405</td><td>z</td><td>*  |AGN|G  |IR |QSO|Sy1|X</td><td>http://vizier.u-strasbg.fr/viz-bin/sed?-c=1.76504755743%2015.906575893419998&amp;-c.rs=5</td><td>25287.0</td><td>NeII|NeIII|NeV</td><td>NeII|NeIII|NeV</td></tr>\n",
       "<tr><td>201</td><td>NGC  7172</td><td>NGC  7172</td><td>330.5079041666667</td><td>-31.869888888888887</td><td>Sy2</td><td>0.008626482176169015</td><td>v</td><td>*  |AGN|G  |GiG|IR |Rad|Sy2|X  |gam</td><td>http://vizier.u-strasbg.fr/viz-bin/sed?-c=330.5079041666667%20-31.869888888888887&amp;-c.rs=5</td><td>25335.0</td><td>NeII|NeIII|NeV</td><td>NeII|NeIII|NeV</td></tr>\n",
       "<tr><td>202</td><td>NGC  3393</td><td>NGC  3393</td><td>162.09777214705</td><td>-25.16207990244</td><td>Sy2</td><td>0.012575037748216333</td><td>v</td><td>AGN|EmG|G  |GiC|GiG|HI |IR |Rad|Sy2|X</td><td>http://vizier.u-strasbg.fr/viz-bin/sed?-c=162.09777214705%20-25.16207990244&amp;-c.rs=5</td><td>25501.0</td><td>NeIII|NeV</td><td>NeIII|NeV</td></tr>\n",
       "<tr><td>203</td><td>ESO 209-12</td><td>ESO 209-12</td><td>120.49155223099001</td><td>-49.77844311473</td><td>Sy1</td><td>0.040324563468504604</td><td>c</td><td>AGN|G  |IR |Sy1|X</td><td>http://vizier.u-strasbg.fr/viz-bin/sed?-c=120.49155223099001%20-49.77844311473&amp;-c.rs=5</td><td>25663.0</td><td>NeII</td><td>NeII</td></tr>\n",
       "<tr><td>204</td><td>2MASX J10181928+3722419</td><td>2MASX J10181928+3722419</td><td>154.58017544017</td><td>37.37842791621</td><td>Sy2</td><td>0.04932</td><td>z</td><td>AG?|AGN|G  |IR |Sy2</td><td>http://vizier.u-strasbg.fr/viz-bin/sed?-c=154.58017544017%2037.37842791621&amp;-c.rs=5</td><td>25746.0</td><td>NeII|NeIII|NeV</td><td>NeII|NeIII|NeV</td></tr>\n",
       "<tr><td>205</td><td>LEDA   52314</td><td>LEDA   52314</td><td>219.56734601436997</td><td>-6.97240636309</td><td>Sy1</td><td>0.129</td><td>z</td><td>*  |AGN|G  |IR |QSO|Sy1|UV |X</td><td>http://vizier.u-strasbg.fr/viz-bin/sed?-c=219.56734601436997%20-6.97240636309&amp;-c.rs=5</td><td>25877.0</td><td>NeV</td><td>NeV</td></tr>\n",
       "<tr><td>206</td><td>SDSS J032845.99+011150.8</td><td>SDSS J032845.99+011150.8</td><td>52.19169566373</td><td>1.19747617032</td><td>Sy1</td><td>0.14213</td><td>z</td><td>AGN|G  |Sy1</td><td>http://vizier.u-strasbg.fr/viz-bin/sed?-c=52.19169566373%201.19747617032&amp;-c.rs=5</td><td>25902.0</td><td>No Flux Values</td><td>No Flux Values</td></tr>\n",
       "<tr><td>207</td><td>NGC   931</td><td>NGC   931</td><td>37.06028712677999</td><td>31.31151926759</td><td>Sy1</td><td>0.016778923723728134</td><td>v</td><td>AGN|G  |GiG|IG |IR |QSO|Rad|Sy1|X  |gam</td><td>http://vizier.u-strasbg.fr/viz-bin/sed?-c=37.06028712677999%2031.31151926759&amp;-c.rs=5</td><td>26174.0</td><td>NeII|NeIII|NeV</td><td>NeII|NeIII|NeV</td></tr>\n",
       "<tr><td>208</td><td>2MASS J13234951+6541480</td><td>2MASS J13234951+6541480</td><td>200.95632601265</td><td>65.696712351</td><td>Sy1</td><td>0.1678</td><td>z</td><td>*  |AGN|BH?|IR |QSO|Sy1|UV |X</td><td>http://vizier.u-strasbg.fr/viz-bin/sed?-c=200.95632601265%2065.696712351&amp;-c.rs=5</td><td>26403.0</td><td>NeII</td><td>NeII</td></tr>\n",
       "<tr><td>209</td><td>Mrk  335</td><td>Mrk  335</td><td>1.5814051412599996</td><td>20.20294927891</td><td>Sy1</td><td>0.025418</td><td>z</td><td>*  |AGN|BH?|EmG|G  |IR |QSO|Sy1|UV |V* |X  |gam</td><td>http://vizier.u-strasbg.fr/viz-bin/sed?-c=1.5814051412599996%2020.20294927891&amp;-c.rs=5</td><td>26464.0</td><td>NeII|NeIII|NeV</td><td>NeII|NeIII|NeV</td></tr>\n",
       "<tr><td>210</td><td>NGC  3976</td><td>NGC  3976</td><td>178.98863947061</td><td>6.74928338703</td><td>Sy2</td><td>0.00835734557831258</td><td>v</td><td>*  |AGN|G  |HI |Sy2|X</td><td>http://vizier.u-strasbg.fr/viz-bin/sed?-c=178.98863947061%206.74928338703&amp;-c.rs=5</td><td>26756.0</td><td>NeII|NeIII</td><td>NeII|NeIII</td></tr>\n",
       "<tr><td>211</td><td>Ton  951</td><td>Ton  951</td><td>131.92686900629</td><td>34.75124514314</td><td>Sy1</td><td>0.064</td><td>z</td><td>*  |AGN|G  |IR |QSO|Sy1|UV |V* |X  |blu|gam</td><td>http://vizier.u-strasbg.fr/viz-bin/sed?-c=131.92686900629%2034.75124514314&amp;-c.rs=5</td><td>26791.0</td><td>No Flux Values</td><td>No Flux Values</td></tr>\n",
       "<tr><td>212</td><td>M  58</td><td>M  58</td><td>189.43165416666668</td><td>11.818088888888887</td><td>SyG</td><td>0.005073035001475601</td><td>v</td><td>AGN|G  |GiC|GiG|HI |IR |LIN|Rad|SyG|X  |smm</td><td>http://vizier.u-strasbg.fr/viz-bin/sed?-c=189.43165416666668%2011.818088888888887&amp;-c.rs=5</td><td>26860.0</td><td>NeII|NeIII</td><td>NeII|NeIII</td></tr>\n",
       "<tr><td>213</td><td>2dFGRS TGN336Z243</td><td>SDSS J134133.37-002432.0</td><td>205.38906752931996</td><td>-0.40890027237</td><td>Sy1</td><td>0.0719</td><td>z</td><td>AGN|G  |Rad|Sy1|X</td><td>http://vizier.u-strasbg.fr/viz-bin/sed?-c=205.38906752931996%20-0.40890027237&amp;-c.rs=5</td><td>26871.0</td><td>No Flux Values</td><td>No Flux Values</td></tr>\n",
       "<tr><td>214</td><td>LEDA 1487448</td><td>LEDA 1487448</td><td>159.15809327618</td><td>15.54498924457</td><td>Sy2</td><td>0.01968724266125732</td><td>v</td><td>*  |AGN|G  |IR |Sy2</td><td>http://vizier.u-strasbg.fr/viz-bin/sed?-c=159.15809327618%2015.54498924457&amp;-c.rs=5</td><td>26976.0</td><td>NeII|NeIII|NeV</td><td>NeII|NeIII|NeV</td></tr>\n",
       "<tr><td>215</td><td>NGC  4395</td><td>NGC  4395</td><td>186.45359712911997</td><td>33.54686115781999</td><td>Sy2</td><td>0.0010546186507665034</td><td>v</td><td>AGN|G  |GiC|GiG|HI |HII|Sy1|Sy2|X  |gam</td><td>http://vizier.u-strasbg.fr/viz-bin/sed?-c=186.45359712911997%2033.54686115781999&amp;-c.rs=5</td><td>26981.0</td><td>NeII|NeIII|NeV</td><td>NeII|NeIII|NeV</td></tr>\n",
       "<tr><td>216</td><td>MCG+00-25-010</td><td>MCG+00-25-010</td><td>146.0078092381</td><td>-0.6422203757499999</td><td>Sy1</td><td>0.00502</td><td>z</td><td>*  |AGN|EmG|G  |GiP|H2G|IR |Sy1</td><td>http://vizier.u-strasbg.fr/viz-bin/sed?-c=146.0078092381%20-0.6422203757499999&amp;-c.rs=5</td><td>27157.0</td><td>NeIII</td><td>NeIII</td></tr>\n",
       "<tr><td>217</td><td>LEDA    3237</td><td>LEDA    3237</td><td>13.717159859449996</td><td>25.42749534487</td><td>Sy1</td><td>0.155</td><td>z</td><td>BH?|G  |IR |QSO|Sy1|UV |V* |X</td><td>http://vizier.u-strasbg.fr/viz-bin/sed?-c=13.717159859449996%2025.42749534487&amp;-c.rs=5</td><td>27206.0</td><td>NeII</td><td>NeII</td></tr>\n",
       "<tr><td>218</td><td>NGC  6890</td><td>NGC  6890</td><td>304.57544074884</td><td>-44.80687517588</td><td>Sy2</td><td>0.008</td><td>z</td><td>*  |AGN|G  |GiG|IR |Sy2</td><td>http://vizier.u-strasbg.fr/viz-bin/sed?-c=304.57544074884%20-44.80687517588&amp;-c.rs=5</td><td>27350.0</td><td>NeII|NeIII|NeV</td><td>NeII|NeIII|NeV</td></tr>\n",
       "<tr><td>219</td><td>2MASX J14254352+3345275</td><td>2MASX J14254352+3345275</td><td>216.43149554988</td><td>33.75758388485</td><td>Sy2</td><td>0.0747</td><td>z</td><td>*  |AGN|EmG|G  |IR |SBG|Sy2</td><td>http://vizier.u-strasbg.fr/viz-bin/sed?-c=216.43149554988%2033.75758388485&amp;-c.rs=5</td><td>27410.0</td><td>NeII|NeIII</td><td>NeII|NeIII</td></tr>\n",
       "<tr><td>220</td><td>LEDA    1790</td><td>LEDA    1790</td><td>7.307088520669999</td><td>13.26776327174</td><td>Sy1</td><td>0.142</td><td>z</td><td>*  |BH?|G  |IR |QSO|Rad|Sy1|UV |V* |X</td><td>http://vizier.u-strasbg.fr/viz-bin/sed?-c=7.307088520669999%2013.26776327174&amp;-c.rs=5</td><td>27436.0</td><td>NeII|NeV</td><td>NeII|NeV</td></tr>\n",
       "<tr><td>221</td><td>3C  84</td><td>3C  84</td><td>49.95066662585</td><td>41.51169690300999</td><td>Sy2</td><td>0.017558813971230724</td><td>c</td><td>*  |AGN|BiC|Bla|Bz?|G  |GiC|GiG|IR |QSO|Rad|Sy1|Sy2|SyG|UV |V* |X  |gam|rG |smm</td><td>http://vizier.u-strasbg.fr/viz-bin/sed?-c=49.95066662585%2041.51169690300999&amp;-c.rs=5</td><td>27488.0</td><td>NeII|NeIII|NeV</td><td>NeII|NeIII|NeV</td></tr>\n",
       "<tr><td>222</td><td>LEDA 2149945</td><td>WISEA J095048.37+392650.4</td><td>147.7015846431</td><td>39.44735202736</td><td>Sy1</td><td>0.20553</td><td>z</td><td>*  |AGN|BH?|G  |IR |QSO|Sy1|UV |X</td><td>http://vizier.u-strasbg.fr/viz-bin/sed?-c=147.7015846431%2039.44735202736&amp;-c.rs=5</td><td>27696.0</td><td>NeII</td><td>NeII</td></tr>\n",
       "<tr><td>223</td><td>NGC  7743</td><td>NGC  7743</td><td>356.08816991963</td><td>9.93415860824</td><td>Sy2</td><td>0.005644</td><td>z</td><td>*  |AGN|G  |IR |Sy2</td><td>http://vizier.u-strasbg.fr/viz-bin/sed?-c=356.08816991963%209.93415860824&amp;-c.rs=5</td><td>27740.0</td><td>NeII|NeIII</td><td>NeII|NeIII</td></tr>\n",
       "<tr><td>224</td><td>Mrk   22</td><td>Mrk   22</td><td>147.3762900826565</td><td>55.5797144367656</td><td>Sy1</td><td>0.00539</td><td>z</td><td>*  |AGN|G  |H2G|HII|Sy1</td><td>http://vizier.u-strasbg.fr/viz-bin/sed?-c=147.3762900826565%2055.5797144367656&amp;-c.rs=5</td><td>27957.0</td><td>NeII</td><td>NeII</td></tr>\n",
       "<tr><td>225</td><td>LEDA   90127</td><td>LEDA   90127</td><td>160.12151706031</td><td>10.888389463909999</td><td>Sy1</td><td>0.13635</td><td>z</td><td>AGN|G  |IR |LIN|Rad|Sy1|rG</td><td>http://vizier.u-strasbg.fr/viz-bin/sed?-c=160.12151706031%2010.888389463909999&amp;-c.rs=5</td><td>28160.0</td><td>NeII|NeIII</td><td>NeII|NeIII</td></tr>\n",
       "<tr><td>226</td><td>ESO 445-50</td><td>ESO 445-50</td><td>207.33025075050998</td><td>-30.30950383764</td><td>Sy1</td><td>0.016131159643782634</td><td>c</td><td>AGN|G  |GiC|GiG|IR |Rad|Sy1|X  |gam</td><td>http://vizier.u-strasbg.fr/viz-bin/sed?-c=207.33025075050998%20-30.30950383764&amp;-c.rs=5</td><td>28225.0</td><td>NeII|NeIII|NeV</td><td>NeII|NeIII|NeV</td></tr>\n",
       "<tr><td>227</td><td>2MASS J16370022+2221140</td><td>2MASS J16370022+2221140</td><td>249.25089344848996</td><td>22.35388112846</td><td>Sy1</td><td>0.21082</td><td>z</td><td>AGN|IR |Sy1|X</td><td>http://vizier.u-strasbg.fr/viz-bin/sed?-c=249.25089344848996%2022.35388112846&amp;-c.rs=5</td><td>28373.0</td><td>No Flux Values</td><td>No Flux Values</td></tr>\n",
       "<tr><td>228</td><td>Mrk  817</td><td>Mrk  817</td><td>219.09200858818</td><td>58.79427637079</td><td>Sy1</td><td>0.15838</td><td>z</td><td>AGN|G  |IR |QSO|Rad|Sy1|UV |X  |rG</td><td>http://vizier.u-strasbg.fr/viz-bin/sed?-c=219.09200858818%2058.79427637079&amp;-c.rs=5</td><td>28459.0</td><td>NeII|NeIII|NeV</td><td>NeII|NeIII|NeV</td></tr>\n",
       "<tr><td>229</td><td>IC 3078</td><td>IC 3078</td><td>184.00018277369998</td><td>12.68729040715</td><td>Sy1</td><td>0.06614</td><td>z</td><td>*  |AGN|G  |IR |LIN|QSO|Rad|Sy1|X  |rG</td><td>http://vizier.u-strasbg.fr/viz-bin/sed?-c=184.00018277369998%2012.68729040715&amp;-c.rs=5</td><td>28572.0</td><td>NeIII</td><td>NeIII</td></tr>\n",
       "<tr><td>230</td><td>NGC  6810</td><td>NGC  6810</td><td>295.89340787021996</td><td>-58.65560900015</td><td>Sy2</td><td>0.006541</td><td>z</td><td>*  |AGN|G  |GiG|IR |Rad|Sy2|cm</td><td>http://vizier.u-strasbg.fr/viz-bin/sed?-c=295.89340787021996%20-58.65560900015&amp;-c.rs=5</td><td>28764.0</td><td>NeII|NeIII</td><td>NeII|NeIII</td></tr>\n",
       "<tr><td>231</td><td>2MASS J21035875-0728025</td><td>2MASS J21035875-0728025</td><td>315.99477344472996</td><td>-7.4673450722700005</td><td>Sy1</td><td>0.13677</td><td>z</td><td>*  |AGN|G  |IR |QSO|Rad|Sy1|rG</td><td>http://vizier.u-strasbg.fr/viz-bin/sed?-c=315.99477344472996%20-7.4673450722700005&amp;-c.rs=5</td><td>28861.0</td><td>NeIII</td><td>NeIII</td></tr>\n",
       "<tr><td>232</td><td>Mrk  273</td><td>Mrk  273</td><td>206.17578458378998</td><td>55.88711006137</td><td>Sy2</td><td>0.03734</td><td>z</td><td>AGN|G  |IG |IR |Rad|Sy1|Sy2|SyG|X  |gam|rG</td><td>http://vizier.u-strasbg.fr/viz-bin/sed?-c=206.17578458378998%2055.88711006137&amp;-c.rs=5</td><td>28984.0</td><td>NeII|NeIII|NeV</td><td>NeII|NeIII|NeV</td></tr>\n",
       "<tr><td>233</td><td>LEDA   90429</td><td>LEDA   90429</td><td>354.75530833333323</td><td>36.35243611111111</td><td>SyG</td><td>0.064531</td><td>z</td><td>AGN|G  |IR |SyG</td><td>http://vizier.u-strasbg.fr/viz-bin/sed?-c=354.75530833333323%2036.35243611111111&amp;-c.rs=5</td><td>29068.0</td><td>NeII|NeIII</td><td>NeII|NeIII</td></tr>\n",
       "<tr><td>234</td><td>ICRF J134733.3+121724</td><td>ICRF J134733.3+121724</td><td>206.88901439033</td><td>12.290059502559998</td><td>Sy2</td><td>0.12118</td><td>z</td><td>*  |AGN|BiC|G  |GiP|IR |PoG|QSO|Rad|Sy1|Sy2|UV |X  |gam|rG</td><td>http://vizier.u-strasbg.fr/viz-bin/sed?-c=206.88901439033%2012.290059502559998&amp;-c.rs=5</td><td>29184.0</td><td>NeII|NeIII|NeV</td><td>NeII|NeIII|NeV</td></tr>\n",
       "<tr><td>235</td><td>NGC  3367</td><td>NGC  3367</td><td>161.64563684685</td><td>13.750855877079998</td><td>Sy1</td><td>0.010188917202929915</td><td>v</td><td>*  |AGN|G  |HI |IR |Rad|Sy1|SyG|X</td><td>http://vizier.u-strasbg.fr/viz-bin/sed?-c=161.64563684685%2013.750855877079998&amp;-c.rs=5</td><td>29187.0</td><td>NeV</td><td>NeV</td></tr>\n",
       "<tr><td>236</td><td>ESO 362-18</td><td>ESO 362-18</td><td>79.89921622546</td><td>-32.65775642238</td><td>Sy2</td><td>0.012582037670874296</td><td>c</td><td>AGN|G  |IR |Rad|Sy1|Sy2|X</td><td>http://vizier.u-strasbg.fr/viz-bin/sed?-c=79.89921622546%20-32.65775642238&amp;-c.rs=5</td><td>29381.0</td><td>NeII|NeIII|NeV</td><td>NeII|NeIII|NeV</td></tr>\n",
       "<tr><td>237</td><td>IC  450</td><td>IC  450</td><td>103.05139427733</td><td>74.42697811881</td><td>Sy1</td><td>0.018676</td><td>z</td><td>AGN|G  |GiG|IR |Rad|Sy1|X  |gam</td><td>http://vizier.u-strasbg.fr/viz-bin/sed?-c=103.05139427733%2074.42697811881&amp;-c.rs=5</td><td>29506.0</td><td>NeII|NeIII|NeV</td><td>NeII|NeIII|NeV</td></tr>\n",
       "<tr><td>238</td><td>NGC  6951</td><td>NGC  6951</td><td>309.30884503687</td><td>66.10556942122</td><td>Sy2</td><td>0.00475</td><td>z</td><td>*  |AGN|G  |IR |Rad|Sy2|X</td><td>http://vizier.u-strasbg.fr/viz-bin/sed?-c=309.30884503687%2066.10556942122&amp;-c.rs=5</td><td>29719.0</td><td>NeII|NeIII</td><td>NeII|NeIII</td></tr>\n",
       "<tr><td>239</td><td>MCG-02-08-039</td><td>MCG-02-08-039</td><td>45.12761453037</td><td>-11.41584196307</td><td>Sy2</td><td>0.029947</td><td>z</td><td>*  |AGN|G  |IR |Rad|Sy2|X</td><td>http://vizier.u-strasbg.fr/viz-bin/sed?-c=45.12761453037%20-11.41584196307&amp;-c.rs=5</td><td>29935.0</td><td>NeII|NeIII|NeV</td><td>NeII|NeIII|NeV</td></tr>\n",
       "<tr><td>240</td><td>2C  349</td><td>1Jy 0356+10</td><td>59.72682085409999</td><td>10.43410884888</td><td>Sy2</td><td>0.0309325926265982</td><td>v</td><td>AGN|G  |Rad|Sy2|X</td><td>http://vizier.u-strasbg.fr/viz-bin/sed?-c=59.72682085409999%2010.43410884888&amp;-c.rs=5</td><td>30037.0</td><td>NeV</td><td>NeV</td></tr>\n",
       "<tr><td>241</td><td>NGC  7674</td><td>NGC  7674</td><td>351.98623876832</td><td>8.77895936327</td><td>Sy2</td><td>0.029446778875956925</td><td>v</td><td>*  |AGN|G  |GiG|IG |IR |Rad|Sy2|X</td><td>http://vizier.u-strasbg.fr/viz-bin/sed?-c=351.98623876832%208.77895936327&amp;-c.rs=5</td><td>30097.0</td><td>NeII|NeIII|NeV</td><td>NeII|NeIII|NeV</td></tr>\n",
       "<tr><td>242</td><td>NGC  6221</td><td>NGC  6221</td><td>253.1930375</td><td>-59.21694166666668</td><td>Sy2</td><td>0.005012018667422069</td><td>v</td><td>AGN|G  |IR |Sy2|SyG|X</td><td>http://vizier.u-strasbg.fr/viz-bin/sed?-c=253.1930375%20-59.21694166666668&amp;-c.rs=5</td><td>30302.0</td><td>NeII|NeIII</td><td>NeII|NeIII</td></tr>\n",
       "<tr><td>243</td><td>ESO  12-21</td><td>ESO  12-21</td><td>10.19198817425</td><td>-79.24003722924</td><td>Sy1</td><td>0.033396756044708376</td><td>v</td><td>*  |AGN|G  |IR |Sy1|X</td><td>http://vizier.u-strasbg.fr/viz-bin/sed?-c=10.19198817425%20-79.24003722924&amp;-c.rs=5</td><td>30425.0</td><td>NeII|NeIII|NeV</td><td>NeII|NeIII|NeV</td></tr>\n",
       "<tr><td>244</td><td>UGC  5101</td><td>UGC  5101</td><td>143.96501897691</td><td>61.35321927288</td><td>Sy1</td><td>0.03939</td><td>z</td><td>AGN|G  |IR |LIN|Rad|Sy1|SyG|X  |rG |smm</td><td>http://vizier.u-strasbg.fr/viz-bin/sed?-c=143.96501897691%2061.35321927288&amp;-c.rs=5</td><td>30923.0</td><td>NeII|NeIII|NeV</td><td>NeII|NeIII|NeV</td></tr>\n",
       "<tr><td>245</td><td>ESO 602-25</td><td>ESO 602-25</td><td>337.85614166666664</td><td>-19.034519444444445</td><td>SyG</td><td>0.02488315921126616</td><td>v</td><td>*  |AGN|EmG|G  |IR |Rad|SyG|smm</td><td>http://vizier.u-strasbg.fr/viz-bin/sed?-c=337.85614166666664%20-19.034519444444445&amp;-c.rs=5</td><td>31018.0</td><td>NeII|NeIII|NeV</td><td>NeII|NeIII|NeV</td></tr>\n",
       "<tr><td>246</td><td>ESO 511-30</td><td>ESO 511-30</td><td>214.84335301315997</td><td>-26.64475957669</td><td>Sy1</td><td>0.02268065409926745</td><td>v</td><td>AGN|EmG|G  |GiG|HI |IR |Rad|Sy1|X</td><td>http://vizier.u-strasbg.fr/viz-bin/sed?-c=214.84335301315997%20-26.64475957669&amp;-c.rs=5</td><td>31077.0</td><td>NeII</td><td>NeII</td></tr>\n",
       "<tr><td>247</td><td>MCG-03-34-064</td><td>MCG-03-34-064</td><td>200.60190964764996</td><td>-16.72846717289</td><td>Sy2</td><td>0.017092</td><td>z</td><td>*  |AGN|G  |IR |Rad|Sy1|Sy2|X  |gam</td><td>http://vizier.u-strasbg.fr/viz-bin/sed?-c=200.60190964764996%20-16.72846717289&amp;-c.rs=5</td><td>31259.0</td><td>NeII|NeIII|NeV</td><td>NeII|NeIII|NeV</td></tr>\n",
       "<tr><td>248</td><td>NGC  3516</td><td>NGC  3516</td><td>166.697763417</td><td>72.56869399296</td><td>Sy1</td><td>0.008816</td><td>z</td><td>*  |AGN|G  |GiG|IR |QSO|Sy1|SyG|V* |X  |gam</td><td>http://vizier.u-strasbg.fr/viz-bin/sed?-c=166.697763417%2072.56869399296&amp;-c.rs=5</td><td>31323.0</td><td>NeII|NeIII|NeV</td><td>NeII|NeIII|NeV</td></tr>\n",
       "<tr><td>249</td><td>NGC  4593</td><td>NGC  4593</td><td>189.91434796126</td><td>-5.34417638568</td><td>Sy1</td><td>0.008343890665418963</td><td>v</td><td>AGN|G  |GiG|IR |QSO|Rad|Sy1|X  |gam</td><td>http://vizier.u-strasbg.fr/viz-bin/sed?-c=189.91434796126%20-5.34417638568&amp;-c.rs=5</td><td>32077.0</td><td>NeII|NeIII|NeV</td><td>NeII|NeIII|NeV</td></tr>\n",
       "<tr><td>250</td><td>UGC  7064</td><td>UGC  7064</td><td>181.18052087215997</td><td>31.17727299947</td><td>Sy2</td><td>0.025</td><td>z</td><td>AG?|AGN|EmG|G  |GiG|GrG|IR |Q? |Rad|Sy1|Sy2|X  |rG</td><td>http://vizier.u-strasbg.fr/viz-bin/sed?-c=181.18052087215997%2031.17727299947&amp;-c.rs=5</td><td>32153.0</td><td>NeII|NeIII</td><td>NeII|NeIII</td></tr>\n",
       "<tr><td>251</td><td>NGC  5135</td><td>NGC  5135</td><td>201.43357916666665</td><td>-29.833677777777776</td><td>Sy2</td><td>0.013754365725423101</td><td>v</td><td>AGN|G  |GiC|GiG|HI |IR |Rad|Sy2|UV |X  |smm</td><td>http://vizier.u-strasbg.fr/viz-bin/sed?-c=201.43357916666665%20-29.833677777777776&amp;-c.rs=5</td><td>32250.0</td><td>NeII|NeIII|NeV</td><td>NeII|NeIII|NeV</td></tr>\n",
       "<tr><td>252</td><td>Mrk  231</td><td>Mrk  231</td><td>194.05930882621996</td><td>56.87367732607</td><td>Sy1</td><td>0.04146535267408228</td><td>c</td><td>*  |AGN|G  |IR |Mas|QSO|Rad|Sy1|X  |gam</td><td>http://vizier.u-strasbg.fr/viz-bin/sed?-c=194.05930882621996%2056.87367732607&amp;-c.rs=5</td><td>32442.0</td><td>NeII|NeIII</td><td>NeII|NeIII</td></tr>\n",
       "<tr><td>253</td><td>Mrk   79</td><td>Mrk   79</td><td>115.63675444617002</td><td>49.809662169380005</td><td>Sy1</td><td>0.02229642441273394</td><td>v</td><td>AGN|G  |IR |QSO|Rad|Sy1|X</td><td>http://vizier.u-strasbg.fr/viz-bin/sed?-c=115.63675444617002%2049.809662169380005&amp;-c.rs=5</td><td>32555.0</td><td>NeII|NeIII|NeV</td><td>NeII|NeIII|NeV</td></tr>\n",
       "<tr><td>254</td><td>LEDA   68751</td><td>LEDA   68751</td><td>335.95641666666666</td><td>-2.1035833333333334</td><td>Sy1</td><td>0.056392</td><td>z</td><td>AGN|G  |IR |QSO|Rad|Sy1|Sy2|X  |cm |gam|rG</td><td>http://vizier.u-strasbg.fr/viz-bin/sed?-c=335.95641666666666%20-2.1035833333333334&amp;-c.rs=5</td><td>32613.0</td><td>NeII|NeIII|NeV</td><td>NeII|NeIII|NeV</td></tr>\n",
       "<tr><td>255</td><td>NGC  7319</td><td>NGC  7319</td><td>339.015009</td><td>33.975882</td><td>Sy2</td><td>0.022822645680251163</td><td>v</td><td>AGN|G  |GiG|IG |IR |Sy2|X</td><td>http://vizier.u-strasbg.fr/viz-bin/sed?-c=339.015009%2033.975882&amp;-c.rs=5</td><td>32683.0</td><td>NeIII|NeV</td><td>NeIII|NeV</td></tr>\n",
       "<tr><td>256</td><td>Mrk  863</td><td>Mrk  863</td><td>239.1079377989658</td><td>9.0551689745211</td><td>Sy1</td><td>0.04249</td><td>z</td><td>*  |AGN|G  |IR |Q? |QSO|Sy1|X</td><td>http://vizier.u-strasbg.fr/viz-bin/sed?-c=239.1079377989658%209.0551689745211&amp;-c.rs=5</td><td>32780.0</td><td>NeIII</td><td>NeIII</td></tr>\n",
       "<tr><td>257</td><td>2MASX J18334627+4727027</td><td>2MASX J18334627+4727027</td><td>278.44289422774</td><td>47.45071278808</td><td>Sy1</td><td>0.160705</td><td>z</td><td>*  |AGN|G  |QSO|Rad|Sy1</td><td>http://vizier.u-strasbg.fr/viz-bin/sed?-c=278.44289422774%2047.45071278808&amp;-c.rs=5</td><td>32967.0</td><td>NeII|NeIII|NeV</td><td>NeII|NeIII|NeV</td></tr>\n",
       "<tr><td>258</td><td>Mrk 1066</td><td>Mrk 1066</td><td>44.994154294847</td><td>36.8205024943507</td><td>Sy2</td><td>0.012082</td><td>z</td><td>*  |AGN|G  |IR |QSO|Rad|Sy2|X  |gam</td><td>http://vizier.u-strasbg.fr/viz-bin/sed?-c=44.994154294847%2036.8205024943507&amp;-c.rs=5</td><td>32986.0</td><td>NeII|NeIII|NeV</td><td>NeII|NeIII|NeV</td></tr>\n",
       "<tr><td>259</td><td>ESO 253-3</td><td>ESO 253-3</td><td>81.32524166666667</td><td>-46.00593333333333</td><td>Sy2</td><td>0.042489</td><td>z</td><td>AGN|G  |IR |Sy2</td><td>http://vizier.u-strasbg.fr/viz-bin/sed?-c=81.32524166666667%20-46.00593333333333&amp;-c.rs=5</td><td>33044.0</td><td>NeII|NeIII|NeV</td><td>NeII|NeIII|NeV</td></tr>\n",
       "<tr><td>260</td><td>2MASS J01083516+2148186</td><td>2MASS J01083514+2148184</td><td>17.14646040352</td><td>21.80514089034</td><td>Sy1</td><td>0.285</td><td>z</td><td>*  |AGN|IR |Sy1</td><td>http://vizier.u-strasbg.fr/viz-bin/sed?-c=17.14646040352%2021.80514089034&amp;-c.rs=5</td><td>33152.0</td><td>NeII</td><td>NeII</td></tr>\n",
       "<tr><td>261</td><td>3C  22.0</td><td>3C  22.0</td><td>12.7375</td><td>51.20111111111111</td><td>Sy1</td><td>0.936501</td><td>z</td><td>AGN|G  |QSO|Rad|Sy1</td><td>http://vizier.u-strasbg.fr/viz-bin/sed?-c=12.7375%2051.20111111111111&amp;-c.rs=5</td><td>33455.0</td><td>NeIII</td><td>NeIII</td></tr>\n",
       "<tr><td>262</td><td>2MASX J14304627+3513133</td><td>2MASX J14304627+3513133</td><td>217.69299622461</td><td>35.22043246220001</td><td>Sy2</td><td>0.0839</td><td>z</td><td>*  |EmG|G  |QSO|Sy2</td><td>http://vizier.u-strasbg.fr/viz-bin/sed?-c=217.69299622461%2035.22043246220001&amp;-c.rs=5</td><td>33508.0</td><td>NeII|NeIII</td><td>NeII|NeIII</td></tr>\n",
       "<tr><td>263</td><td>Ton  1565</td><td>Ton  1565</td><td>198.07396957581997</td><td>35.25585735198</td><td>Sy1</td><td>0.18295</td><td>z</td><td>*  |BH?|Bla|GiC|IR |Q? |QSO|Rad|Sy1|UV |X  |blu|gam</td><td>http://vizier.u-strasbg.fr/viz-bin/sed?-c=198.07396957581997%2035.25585735198&amp;-c.rs=5</td><td>33530.0</td><td>NeII|NeV</td><td>NeII|NeV</td></tr>\n",
       "<tr><td>264</td><td>Mrk  704</td><td>Mrk  704</td><td>139.60832166324</td><td>16.305453686</td><td>Sy1</td><td>0.029</td><td>z</td><td>AGN|G  |GiG|IR |QSO|Sy1|X  |gam</td><td>http://vizier.u-strasbg.fr/viz-bin/sed?-c=139.60832166324%2016.305453686&amp;-c.rs=5</td><td>33686.0</td><td>NeII|NeIII|NeV</td><td>NeII|NeIII|NeV</td></tr>\n",
       "<tr><td>265</td><td>NGC  6240</td><td>NGC  6240</td><td>253.24525416666668</td><td>2.400986111111111</td><td>Sy2</td><td>0.024323</td><td>z</td><td>AGN|G  |IG |IR |LIN|Rad|Sy2|X  |gam|smm</td><td>http://vizier.u-strasbg.fr/viz-bin/sed?-c=253.24525416666668%202.400986111111111&amp;-c.rs=5</td><td>33746.0</td><td>NeII|NeIII|NeV</td><td>NeII|NeIII|NeV</td></tr>\n",
       "<tr><td>266</td><td>ESO 121-28</td><td>ESO 121-28</td><td>95.93982840151</td><td>-60.97899538272999</td><td>Sy2</td><td>0.04277291779364556</td><td>v</td><td>AGN|G  |IR |Sy2|X  |gam</td><td>http://vizier.u-strasbg.fr/viz-bin/sed?-c=95.93982840151%20-60.97899538272999&amp;-c.rs=5</td><td>33761.0</td><td>NeII</td><td>NeII</td></tr>\n",
       "<tr><td>267</td><td>NGC  7603</td><td>NGC  7603</td><td>349.73605761569</td><td>0.24388251836000002</td><td>Sy1</td><td>0.0325</td><td>z</td><td>*  |AGN|EmO|G  |GiG|IG |IR |QSO|Rad|Sy1|V* |X</td><td>http://vizier.u-strasbg.fr/viz-bin/sed?-c=349.73605761569%200.24388251836000002&amp;-c.rs=5</td><td>33882.0</td><td>NeII|NeIII|NeV</td><td>NeII|NeIII|NeV</td></tr>\n",
       "<tr><td>268</td><td>UGC 12138</td><td>UGC 12138</td><td>340.07108716019</td><td>8.053761066659998</td><td>Sy1</td><td>0.025372442968898845</td><td>v</td><td>AGN|Em*|G  |GiG|IR |Sy1|Sy2|X</td><td>http://vizier.u-strasbg.fr/viz-bin/sed?-c=340.07108716019%208.053761066659998&amp;-c.rs=5</td><td>33916.0</td><td>NeII|NeIII|NeV</td><td>NeII|NeIII|NeV</td></tr>\n",
       "<tr><td>269</td><td>ESO 339-11</td><td>ESO 339-11</td><td>299.40634166666666</td><td>-37.935725</td><td>Sy2</td><td>0.01938785921716968</td><td>v</td><td>AGN|G  |GiG|IR |Rad|Sy2</td><td>http://vizier.u-strasbg.fr/viz-bin/sed?-c=299.40634166666666%20-37.935725&amp;-c.rs=5</td><td>34345.0</td><td>NeV</td><td>NeV</td></tr>\n",
       "<tr><td>270</td><td>NGC  1058</td><td>NGC  1058</td><td>40.87511035427001</td><td>37.34132856994001</td><td>Sy2</td><td>0.0017293573493151193</td><td>v</td><td>*  |AGN|G  |GiG|IR |Sy2|V*</td><td>http://vizier.u-strasbg.fr/viz-bin/sed?-c=40.87511035427001%2037.34132856994001&amp;-c.rs=5</td><td>34422.0</td><td>NeII</td><td>NeII</td></tr>\n",
       "<tr><td>271</td><td>IC 2560</td><td>IC 2560</td><td>154.07794710736</td><td>-33.56381118741001</td><td>Sy2</td><td>0.009795045606168395</td><td>v</td><td>*  |AGN|G  |GiG|HI |HII|IR |Rad|Sy2|gam</td><td>http://vizier.u-strasbg.fr/viz-bin/sed?-c=154.07794710736%20-33.56381118741001&amp;-c.rs=5</td><td>34467.0</td><td>NeII|NeIII|NeV</td><td>NeII|NeIII|NeV</td></tr>\n",
       "<tr><td>272</td><td>QSO B1048+342</td><td>WISEA J105143.88+335926.7</td><td>162.93288180804</td><td>33.9907453869</td><td>Sy1</td><td>0.16707</td><td>z</td><td>*  |AGN|G  |IR |QSO|Sy1|UV |X  |blu</td><td>http://vizier.u-strasbg.fr/viz-bin/sed?-c=162.93288180804%2033.9907453869&amp;-c.rs=5</td><td>34707.0</td><td>NeII</td><td>NeII</td></tr>\n",
       "<tr><td>273</td><td>NGC  1125</td><td>NGC  1125</td><td>42.91791666666667</td><td>-16.65111111111111</td><td>Sy2</td><td>0.011024</td><td>z</td><td>*  |AGN|G  |IR |Sy2|X</td><td>http://vizier.u-strasbg.fr/viz-bin/sed?-c=42.91791666666667%20-16.65111111111111&amp;-c.rs=5</td><td>34878.0</td><td>NeII|NeIII</td><td>NeII|NeIII</td></tr>\n",
       "<tr><td>274</td><td>LEDA   24384</td><td>LEDA   24384</td><td>130.12463038009</td><td>47.11951149566999</td><td>Sy1</td><td>0.04196</td><td>z</td><td>*  |AGN|EmO|G  |H2G|HII|PoG|Sy1|blu</td><td>http://vizier.u-strasbg.fr/viz-bin/sed?-c=130.12463038009%2047.11951149566999&amp;-c.rs=5</td><td>34935.0</td><td>NeII|NeIII</td><td>NeII|NeIII</td></tr>\n",
       "<tr><td>275</td><td>M 106</td><td>M 106</td><td>184.7400833333333</td><td>47.30371944444444</td><td>Sy2</td><td>0.001541</td><td>z</td><td>AGN|G  |GiG|IG |LIN|Mas|Rad|Sy2|X</td><td>http://vizier.u-strasbg.fr/viz-bin/sed?-c=184.7400833333333%2047.30371944444444&amp;-c.rs=5</td><td>35023.0</td><td>NeII|NeIII</td><td>NeII|NeIII</td></tr>\n",
       "<tr><td>276</td><td>NGC  5995</td><td>NGC  5995</td><td>237.10394318847</td><td>-13.75756721303</td><td>Sy2</td><td>0.025350871235059556</td><td>c</td><td>AGN|G  |IR |Rad|Sy2|X  |gam</td><td>http://vizier.u-strasbg.fr/viz-bin/sed?-c=237.10394318847%20-13.75756721303&amp;-c.rs=5</td><td>35257.0</td><td>NeII|NeIII|NeV</td><td>NeII|NeIII|NeV</td></tr>\n",
       "<tr><td>277</td><td>2MASSI J0918486+211717</td><td>2MASSI J0918486+211717</td><td>139.7025485953</td><td>21.288075035289996</td><td>Sy1</td><td>0.14903</td><td>z</td><td>AGN|IR |QSO|Sy1|X</td><td>http://vizier.u-strasbg.fr/viz-bin/sed?-c=139.7025485953%2021.288075035289996&amp;-c.rs=5</td><td>35738.0</td><td>NeII|NeIII|NeV</td><td>NeII|NeIII|NeV</td></tr>\n",
       "<tr><td>278</td><td>LEDA   17155</td><td>LEDA   17155</td><td>80.25583108574</td><td>-25.362589396620002</td><td>Sy2</td><td>0.043508411779619616</td><td>v</td><td>AGN|G  |IR |Sy2|X  |gam</td><td>http://vizier.u-strasbg.fr/viz-bin/sed?-c=80.25583108574%20-25.362589396620002&amp;-c.rs=5</td><td>35739.0</td><td>NeII|NeIII|NeV</td><td>NeII|NeIII|NeV</td></tr>\n",
       "<tr><td>279</td><td>[VV2003c] J082001.7+505039</td><td>SHOC 198</td><td>125.00717</td><td>50.844203</td><td>Sy1</td><td>0.2174</td><td>z</td><td>AGN|G  |H2G|Sy1</td><td>http://vizier.u-strasbg.fr/viz-bin/sed?-c=125.00717%2050.844203&amp;-c.rs=5</td><td>35799.0</td><td>NeIII</td><td>NeIII</td></tr>\n",
       "<tr><td>280</td><td>2MASX J08584172+1041223</td><td>2MASX J08584172+1041223</td><td>134.6740000945038</td><td>10.6894513470143</td><td>Sy2</td><td>0.14803</td><td>z</td><td>AGN|G  |IR |QSO|Rad|Sy2|X  |rG</td><td>http://vizier.u-strasbg.fr/viz-bin/sed?-c=134.6740000945038%2010.6894513470143&amp;-c.rs=5</td><td>35970.0</td><td>NeII|NeIII|NeV</td><td>NeII|NeIII|NeV</td></tr>\n",
       "<tr><td>281</td><td>SDSS J231812.99-004126.1</td><td>SDSS J231812.99-004126.1</td><td>349.55416476101</td><td>-0.69062078338</td><td>Sy1</td><td>0.25167</td><td>z</td><td>AGN|G  |IR |Sy1</td><td>http://vizier.u-strasbg.fr/viz-bin/sed?-c=349.55416476101%20-0.69062078338&amp;-c.rs=5</td><td>36020.0</td><td>NeIII</td><td>NeIII</td></tr>\n",
       "<tr><td>282</td><td>3C 343</td><td>3C 343</td><td>248.6408614245833</td><td>62.75997083888889</td><td>Sy2</td><td>0.987997</td><td>z</td><td>G  |QSO|Rad|Sy2</td><td>http://vizier.u-strasbg.fr/viz-bin/sed?-c=248.6408614245833%2062.75997083888889&amp;-c.rs=5</td><td>36035.0</td><td>NeII|NeIII|NeV</td><td>NeII|NeIII|NeV</td></tr>\n",
       "<tr><td>283</td><td>NGC  4992</td><td>NGC  4992</td><td>197.27330384421</td><td>11.63411803059</td><td>Sy2</td><td>0.02515</td><td>z</td><td>AG?|AGN|G  |Sy2|X  |gam</td><td>http://vizier.u-strasbg.fr/viz-bin/sed?-c=197.27330384421%2011.63411803059&amp;-c.rs=5</td><td>36047.0</td><td>NeII</td><td>NeII</td></tr>\n",
       "<tr><td>284</td><td>NGC  5395</td><td>NGC  5395</td><td>209.65816915942</td><td>37.42448934104</td><td>Sy2</td><td>0.01158</td><td>z</td><td>*  |AGN|G  |GiG|GiP|GrG|HI |IG |IR |LIN|Sy2</td><td>http://vizier.u-strasbg.fr/viz-bin/sed?-c=209.65816915942%2037.42448934104&amp;-c.rs=5</td><td>36085.0</td><td>No Flux Values</td><td>No Flux Values</td></tr>\n",
       "<tr><td>285</td><td>2MASS J10272497+1219196</td><td>2MASS J10272497+1219196</td><td>156.85409562107</td><td>12.32216303604</td><td>Sy1</td><td>0.23087</td><td>z</td><td>AGN|IR |QSO|Sy1|X</td><td>http://vizier.u-strasbg.fr/viz-bin/sed?-c=156.85409562107%2012.32216303604&amp;-c.rs=5</td><td>36118.0</td><td>No Flux Values</td><td>No Flux Values</td></tr>\n",
       "<tr><td>286</td><td>M  94</td><td>M  94</td><td>192.72114082143</td><td>41.12025024573</td><td>SyG</td><td>0.0009573289532186965</td><td>c</td><td>*  |AGN|G  |GiG|IR |Rad|SyG|X  |smm</td><td>http://vizier.u-strasbg.fr/viz-bin/sed?-c=192.72114082143%2041.12025024573&amp;-c.rs=5</td><td>36149.0</td><td>NeII|NeIII</td><td>NeII|NeIII</td></tr>\n",
       "<tr><td>287</td><td>NGC  5990</td><td>NGC  5990</td><td>236.56820946001</td><td>2.4154705299499994</td><td>Sy2</td><td>0.012558688184210425</td><td>c</td><td>AGN|G  |GiG|IR |Rad|Sy2|rG |smm</td><td>http://vizier.u-strasbg.fr/viz-bin/sed?-c=236.56820946001%202.4154705299499994&amp;-c.rs=5</td><td>36232.0</td><td>NeII|NeIII|NeV</td><td>NeII|NeIII|NeV</td></tr>\n",
       "<tr><td>288</td><td>Mrk    3</td><td>Mrk    3</td><td>93.90117177474</td><td>71.03745478328</td><td>Sy2</td><td>0.013</td><td>z</td><td>AGN|G  |IR |Rad|Sy2|X  |gam</td><td>http://vizier.u-strasbg.fr/viz-bin/sed?-c=93.90117177474%2071.03745478328&amp;-c.rs=5</td><td>36317.0</td><td>NeII|NeIII|NeV</td><td>NeII|NeIII|NeV</td></tr>\n",
       "<tr><td>289</td><td>NGC  4051</td><td>NGC  4051</td><td>180.79004222387996</td><td>44.53130072258</td><td>Sy1</td><td>0.002164830977836007</td><td>c</td><td>*  |AGN|Em*|G  |GiG|IR |Rad|Sy1|UV |V* |X  |gam|smm</td><td>http://vizier.u-strasbg.fr/viz-bin/sed?-c=180.79004222387996%2044.53130072258&amp;-c.rs=5</td><td>36379.0</td><td>NeII|NeIII|NeV</td><td>NeII|NeIII|NeV</td></tr>\n",
       "<tr><td>290</td><td>LEDA   70560</td><td>LEDA   70560</td><td>347.14147387909</td><td>5.35826437567</td><td>Sy2</td><td>0.173</td><td>z</td><td>*  |AGN|G  |IR |QSO|Sy2|gam</td><td>http://vizier.u-strasbg.fr/viz-bin/sed?-c=347.14147387909%205.35826437567&amp;-c.rs=5</td><td>36398.0</td><td>NeII|NeIII|NeV</td><td>NeII|NeIII|NeV</td></tr>\n",
       "<tr><td>291</td><td>3C 452</td><td>3C 452</td><td>341.45317340530994</td><td>39.68775188394</td><td>Sy2</td><td>0.081086</td><td>z</td><td>AGN|G  |IR |QSO|Rad|Sy2|X</td><td>http://vizier.u-strasbg.fr/viz-bin/sed?-c=341.45317340530994%2039.68775188394&amp;-c.rs=5</td><td>36429.0</td><td>NeII|NeIII</td><td>NeII|NeIII</td></tr>\n",
       "<tr><td>292</td><td>LEDA  165630</td><td>LEDA  165630</td><td>212.38023750000002</td><td>5.192030555555555</td><td>Sy2</td><td>0.2644</td><td>z</td><td>G  |IR |QSO|Sy2</td><td>http://vizier.u-strasbg.fr/viz-bin/sed?-c=212.38023750000002%205.192030555555555&amp;-c.rs=5</td><td>36444.0</td><td>NeII|NeIII</td><td>NeII|NeIII</td></tr>\n",
       "<tr><td>293</td><td>MCG+00-29-023</td><td>MCG+00-29-023</td><td>170.3010875</td><td>-2.984166666666667</td><td>Sy2</td><td>0.0247</td><td>z</td><td>*  |AGN|G  |GiG|IR |LIN|Sy2</td><td>http://vizier.u-strasbg.fr/viz-bin/sed?-c=170.3010875%20-2.984166666666667&amp;-c.rs=5</td><td>36545.0</td><td>NeII|NeIII</td><td>NeII|NeIII</td></tr>\n",
       "<tr><td>294</td><td>4C 23.43</td><td>4C 23.43</td><td>246.16284929081996</td><td>23.753395380670003</td><td>Sy1</td><td>0.92715</td><td>z</td><td>*  |AGN|Bla|G  |IR |QSO|Rad|Sy1|X</td><td>http://vizier.u-strasbg.fr/viz-bin/sed?-c=246.16284929081996%2023.753395380670003&amp;-c.rs=5</td><td>36609.0</td><td>NeIII</td><td>NeIII</td></tr>\n",
       "<tr><td>295</td><td>UGC  3351</td><td>UGC  3351</td><td>86.44931666666668</td><td>58.70106388888888</td><td>Sy2</td><td>0.014972353753021528</td><td>v</td><td>AGN|G  |IR |Rad|Sy2|smm</td><td>http://vizier.u-strasbg.fr/viz-bin/sed?-c=86.44931666666668%2058.70106388888888&amp;-c.rs=5</td><td>36848.0</td><td>NeII|NeIII</td><td>NeII|NeIII</td></tr>\n",
       "<tr><td>296</td><td>Mrk  705</td><td>Mrk  705</td><td>141.51362267542</td><td>12.73437010813</td><td>Sy1</td><td>0.02878</td><td>z</td><td>AGN|BiC|G  |IR |QSO|Rad|Sy1|UV |X  |gam</td><td>http://vizier.u-strasbg.fr/viz-bin/sed?-c=141.51362267542%2012.73437010813&amp;-c.rs=5</td><td>36893.0</td><td>NeII|NeIII|NeV</td><td>NeII|NeIII|NeV</td></tr>\n",
       "<tr><td>297</td><td>UGC  3601</td><td>UGC  3601</td><td>103.9563790056</td><td>40.00031193039</td><td>Sy1</td><td>0.017202</td><td>z</td><td>AGN|G  |GiG|Sy1|X</td><td>http://vizier.u-strasbg.fr/viz-bin/sed?-c=103.9563790056%2040.00031193039&amp;-c.rs=5</td><td>37074.0</td><td>NeII|NeIII|NeV</td><td>NeII|NeIII|NeV</td></tr>\n",
       "<tr><td>298</td><td>3C 286</td><td>3C 286</td><td>202.78453479432</td><td>30.509155580989997</td><td>Sy1</td><td>0.849</td><td>z</td><td>*  |AGN|G  |IR |Q? |QSO|Rad|Sy1|UV |X  |smm</td><td>http://vizier.u-strasbg.fr/viz-bin/sed?-c=202.78453479432%2030.509155580989997&amp;-c.rs=5</td><td>37150.0</td><td>NeII|NeIII|NeV</td><td>NeII|NeIII|NeV</td></tr>\n",
       "<tr><td>299</td><td>ESO  33-2</td><td>ESO  33-2</td><td>73.99551422113</td><td>-75.54118678611</td><td>Sy2</td><td>0.018426</td><td>z</td><td>*  |AGN|G  |GiG|IR |Sy2|X  |gam</td><td>http://vizier.u-strasbg.fr/viz-bin/sed?-c=73.99551422113%20-75.54118678611&amp;-c.rs=5</td><td>37172.0</td><td>NeII|NeIII|NeV</td><td>NeII|NeIII|NeV</td></tr>\n",
       "<tr><td>300</td><td>NGC  4725</td><td>NGC  4725</td><td>192.61071515332998</td><td>25.50075919183</td><td>Sy2</td><td>0.004040954501193239</td><td>v</td><td>*  |AGN|G  |GiC|GiG|IR |Sy2|X</td><td>http://vizier.u-strasbg.fr/viz-bin/sed?-c=192.61071515332998%2025.50075919183&amp;-c.rs=5</td><td>37310.0</td><td>NeII|NeIII</td><td>NeII|NeIII</td></tr>\n",
       "<tr><td>301</td><td>NGC  7682</td><td>NGC  7682</td><td>352.26632555666</td><td>3.53331150429</td><td>Sy2</td><td>0.017230236176245084</td><td>v</td><td>AGN|G  |GiP|GrG|IG |Rad|Sy2|SyG|X</td><td>http://vizier.u-strasbg.fr/viz-bin/sed?-c=352.26632555666%203.53331150429&amp;-c.rs=5</td><td>37343.0</td><td>NeII|NeIII|NeV</td><td>NeII|NeIII|NeV</td></tr>\n",
       "<tr><td>302</td><td>[VV2003c] J124819.8+662143</td><td>SDSS J124819.75+662142.7</td><td>192.08240145670996</td><td>66.36181100685</td><td>Sy1</td><td>0.26</td><td>z</td><td>*  |AGN|G  |Sy1</td><td>http://vizier.u-strasbg.fr/viz-bin/sed?-c=192.08240145670996%2066.36181100685&amp;-c.rs=5</td><td>37632.0</td><td>NeIII</td><td>NeIII</td></tr>\n",
       "<tr><td>303</td><td>7C 1821+6419</td><td>7C 1821+6419</td><td>275.4883876131</td><td>64.34339480891</td><td>Sy1</td><td>0.297</td><td>z</td><td>AGN|G  |IR |QSO|Rad|Sy1|UV |X  |gam</td><td>http://vizier.u-strasbg.fr/viz-bin/sed?-c=275.4883876131%2064.34339480891&amp;-c.rs=5</td><td>37696.0</td><td>NeII|NeIII|NeV</td><td>NeII|NeIII|NeV</td></tr>\n",
       "<tr><td>304</td><td>MCG-01-24-012</td><td>MCG-01-24-012</td><td>140.19275709057</td><td>-8.05609271113</td><td>Sy2</td><td>0.019827</td><td>z</td><td>AGN|G  |IR |Rad|Sy2|X  |gam</td><td>http://vizier.u-strasbg.fr/viz-bin/sed?-c=140.19275709057%20-8.05609271113&amp;-c.rs=5</td><td>37858.0</td><td>NeII|NeIII|NeV</td><td>NeII|NeIII|NeV</td></tr>\n",
       "<tr><td>305</td><td>NGC  1358</td><td>NGC  1358</td><td>53.41533650702999</td><td>-5.08950386547</td><td>Sy2</td><td>0.013446</td><td>z</td><td>*  |AGN|G  |GiG|IR |Sy2|X  |gam</td><td>http://vizier.u-strasbg.fr/viz-bin/sed?-c=53.41533650702999%20-5.08950386547&amp;-c.rs=5</td><td>37917.0</td><td>NeII|NeIII|NeV</td><td>NeII|NeIII|NeV</td></tr>\n",
       "<tr><td>306</td><td>NGC  2110</td><td>NGC  2110</td><td>88.04740361199</td><td>-7.456252073719999</td><td>Sy2</td><td>0.007579</td><td>z</td><td>AGN|G  |IR |Rad|Sy2|X  |gam</td><td>http://vizier.u-strasbg.fr/viz-bin/sed?-c=88.04740361199%20-7.456252073719999&amp;-c.rs=5</td><td>37967.0</td><td>NeII|NeIII|NeV</td><td>NeII|NeIII|NeV</td></tr>\n",
       "<tr><td>307</td><td>2MASS J10514425+3539307</td><td>NVSS J105144+353931</td><td>162.9343616698</td><td>35.65853695596999</td><td>Sy1</td><td>0.15879</td><td>z</td><td>AGN|G  |IR |Rad|Sy1|X</td><td>http://vizier.u-strasbg.fr/viz-bin/sed?-c=162.9343616698%2035.65853695596999&amp;-c.rs=5</td><td>38051.0</td><td>NeII|NeIII|NeV</td><td>NeII|NeIII|NeV</td></tr>\n",
       "<tr><td>308</td><td>NGC  5929</td><td>NGC  5929</td><td>231.52565180563994</td><td>41.67066230406</td><td>Sy1</td><td>0.008506</td><td>z</td><td>AGN|EmG|G  |GiP|HI |IG |IR |LIN|Rad|Sy1|X</td><td>http://vizier.u-strasbg.fr/viz-bin/sed?-c=231.52565180563994%2041.67066230406&amp;-c.rs=5</td><td>38097.0</td><td>NeII|NeIII|NeV</td><td>NeII|NeIII|NeV</td></tr>\n",
       "<tr><td>309</td><td>SDSS J120424.54+192509.7</td><td>SDSS J120424.54+192509.7</td><td>181.10226365710997</td><td>19.419381395770003</td><td>Sy2</td><td>0.16788</td><td>z</td><td>*  |AGN|G  |GiC|IR |QSO|Rad|Sy2|rG</td><td>http://vizier.u-strasbg.fr/viz-bin/sed?-c=181.10226365710997%2019.419381395770003&amp;-c.rs=5</td><td>38155.0</td><td>NeII|NeIII</td><td>NeII|NeIII</td></tr>\n",
       "<tr><td>310</td><td>ESO 297-18</td><td>ESO 297-18</td><td>24.654841905180003</td><td>-40.01143096052</td><td>Sy2</td><td>0.0252</td><td>z</td><td>AGN|G  |IR |Sy2|UV |X</td><td>http://vizier.u-strasbg.fr/viz-bin/sed?-c=24.654841905180003%20-40.01143096052&amp;-c.rs=5</td><td>38232.0</td><td>NeII</td><td>NeII</td></tr>\n",
       "<tr><td>311</td><td>NGC  4968</td><td>NGC  4968</td><td>196.77489999999997</td><td>-23.677038888888887</td><td>Sy2</td><td>0.009967</td><td>z</td><td>*  |AGN|EmO|G  |GiG|IR |Rad|Sy2|X  |gam</td><td>http://vizier.u-strasbg.fr/viz-bin/sed?-c=196.77489999999997%20-23.677038888888887&amp;-c.rs=5</td><td>38310.0</td><td>NeII|NeIII|NeV</td><td>NeII|NeIII|NeV</td></tr>\n",
       "<tr><td>312</td><td>NGC   253</td><td>NGC   253</td><td>11.888058333333333</td><td>-25.288800000000002</td><td>SyG</td><td>0.0008636368125056748</td><td>v</td><td>AGN|EmG|G  |GiG|HI |IR |Rad|SyG|X  |cm |gam</td><td>http://vizier.u-strasbg.fr/viz-bin/sed?-c=11.888058333333333%20-25.288800000000002&amp;-c.rs=5</td><td>38311.0</td><td>NeII|NeIII</td><td>NeII|NeIII</td></tr>\n",
       "<tr><td>313</td><td>NGC  3660</td><td>NGC  3660</td><td>170.88449219189</td><td>-8.65853613806</td><td>Sy2</td><td>0.012340286699663583</td><td>v</td><td>*  |AGN|EmG|G  |GrG|HI |IR |Sy2|X  |gam</td><td>http://vizier.u-strasbg.fr/viz-bin/sed?-c=170.88449219189%20-8.65853613806&amp;-c.rs=5</td><td>38327.0</td><td>NeII|NeIII|NeV</td><td>NeII|NeIII|NeV</td></tr>\n",
       "<tr><td>314</td><td>NAME Pic A</td><td>WISEA J051949.72-454643.8</td><td>79.95717888494</td><td>-45.77884796187</td><td>Sy1</td><td>0.034</td><td>z</td><td>AGN|G  |IR |LIN|QSO|Rad|Sy1|X  |cm |gam|rG |smm</td><td>http://vizier.u-strasbg.fr/viz-bin/sed?-c=79.95717888494%20-45.77884796187&amp;-c.rs=5</td><td>38367.0</td><td>NeII</td><td>NeII</td></tr>\n",
       "<tr><td>315</td><td>NGC  6926</td><td>NGC  6926</td><td>308.27545190945995</td><td>-2.0273608081599996</td><td>Sy2</td><td>0.01984683774169027</td><td>v</td><td>AGN|G  |GiG|HI |IG |IR |Rad|Sy2|X</td><td>http://vizier.u-strasbg.fr/viz-bin/sed?-c=308.27545190945995%20-2.0273608081599996&amp;-c.rs=5</td><td>38435.0</td><td>NeV</td><td>NeV</td></tr>\n",
       "<tr><td>316</td><td>2E  2389</td><td>2E  2389</td><td>166.0577547903</td><td>76.98283181919</td><td>Sy1</td><td>0.3115</td><td>z</td><td>*  |BH?|G  |IR |QSO|Rad|Sy1|UV |X  |gam</td><td>http://vizier.u-strasbg.fr/viz-bin/sed?-c=166.0577547903%2076.98283181919&amp;-c.rs=5</td><td>38517.0</td><td>NeII|NeV</td><td>NeII|NeV</td></tr>\n",
       "<tr><td>317</td><td>ESO 103-35</td><td>ESO 103-35</td><td>279.58466867564</td><td>-65.42753939026</td><td>Sy2</td><td>0.013249</td><td>z</td><td>*  |AGN|G  |GiG|IR |Sy1|Sy2|X  |gam</td><td>http://vizier.u-strasbg.fr/viz-bin/sed?-c=279.58466867564%20-65.42753939026&amp;-c.rs=5</td><td>38643.0</td><td>NeII|NeIII|NeV</td><td>NeII|NeIII|NeV</td></tr>\n",
       "<tr><td>318</td><td>ICRF J182931.7+484446</td><td>ICRF J182931.7+484446</td><td>277.38242072207</td><td>48.74615560247</td><td>Sy1</td><td>0.691999</td><td>z</td><td>*  |AGN|Bla|Bz?|G  |IR |QSO|Rad|Sy1|X  |gam</td><td>http://vizier.u-strasbg.fr/viz-bin/sed?-c=277.38242072207%2048.74615560247&amp;-c.rs=5</td><td>39032.0</td><td>NeIII</td><td>NeIII</td></tr>\n",
       "<tr><td>319</td><td>2MASX J12390630-1610472</td><td>2MASX J12390630-1610472</td><td>189.77617062519997</td><td>-16.179784491599996</td><td>Sy2</td><td>0.0367</td><td>z</td><td>*  |AGN|G  |IR |Q? |Rad|Sy2|X  |gam</td><td>http://vizier.u-strasbg.fr/viz-bin/sed?-c=189.77617062519997%20-16.179784491599996&amp;-c.rs=5</td><td>39071.0</td><td>NeII</td><td>NeII</td></tr>\n",
       "<tr><td>320</td><td>NGC  5033</td><td>NGC  5033</td><td>198.36472916666668</td><td>36.593650000000004</td><td>Sy1</td><td>0.002838630450136274</td><td>c</td><td>AGN|G  |GiC|GiG|GiP|HI |IR |Rad|Sy1|Sy2|X  |smm</td><td>http://vizier.u-strasbg.fr/viz-bin/sed?-c=198.36472916666668%2036.593650000000004&amp;-c.rs=5</td><td>39509.0</td><td>NeII|NeIII|NeV</td><td>NeII|NeIII|NeV</td></tr>\n",
       "<tr><td>321</td><td>MCG-03-58-007</td><td>MCG-03-58-007</td><td>342.4047807574099</td><td>-19.273990073950003</td><td>Sy2</td><td>0.031912</td><td>z</td><td>*  |AGN|G  |IR |Rad|Sy2|X</td><td>http://vizier.u-strasbg.fr/viz-bin/sed?-c=342.4047807574099%20-19.273990073950003&amp;-c.rs=5</td><td>39529.0</td><td>NeII|NeIII|NeV</td><td>NeII|NeIII|NeV</td></tr>\n",
       "<tr><td>322</td><td>2E  2503</td><td>2E  2503</td><td>174.98760598632</td><td>65.7970786758</td><td>Sy1</td><td>0.652</td><td>z</td><td>*  |BH?|G  |IR |QSO|Rad|Sy1|UV |X</td><td>http://vizier.u-strasbg.fr/viz-bin/sed?-c=174.98760598632%2065.7970786758&amp;-c.rs=5</td><td>39641.0</td><td>NeIII</td><td>NeIII</td></tr>\n",
       "<tr><td>323</td><td>NGC  4922</td><td>NGC  4922</td><td>195.3552751210736</td><td>29.3138553177969</td><td>SyG</td><td>0.0234</td><td>z</td><td>AG?|AGN|EmG|G  |GiC|GiP|IG |IR |PaG|Rad|SyG|X  |rG</td><td>http://vizier.u-strasbg.fr/viz-bin/sed?-c=195.3552751210736%2029.3138553177969&amp;-c.rs=5</td><td>39676.0</td><td>NeII|NeIII|NeV</td><td>NeII|NeIII|NeV</td></tr>\n",
       "<tr><td>324</td><td>LEDA   90054</td><td>LEDA   90054</td><td>105.85105202947</td><td>-60.256235730220006</td><td>Sy2</td><td>0.031572</td><td>z</td><td>*  |AGN|G  |GiG|IR |QSO|Sy2|X</td><td>http://vizier.u-strasbg.fr/viz-bin/sed?-c=105.85105202947%20-60.256235730220006&amp;-c.rs=5</td><td>39701.0</td><td>NeV</td><td>NeV</td></tr>\n",
       "<tr><td>325</td><td>PG 0953+414</td><td>PG 0953+414</td><td>149.21830481458</td><td>41.25616979101</td><td>Sy1</td><td>0.2341</td><td>z</td><td>*  |BH?|IR |QSO|Sy1|UV |X  |gam</td><td>http://vizier.u-strasbg.fr/viz-bin/sed?-c=149.21830481458%2041.25616979101&amp;-c.rs=5</td><td>39837.0</td><td>NeII</td><td>NeII</td></tr>\n",
       "<tr><td>326</td><td>IRAS F15146+1911</td><td>WISEA J151653.23+190048.3</td><td>229.22178527449998</td><td>19.013398967780002</td><td>Sy1</td><td>0.19</td><td>z</td><td>*  |AGN|IR |QSO|Sy1</td><td>http://vizier.u-strasbg.fr/viz-bin/sed?-c=229.22178527449998%2019.013398967780002&amp;-c.rs=5</td><td>39885.0</td><td>NeIII</td><td>NeIII</td></tr>\n",
       "<tr><td>327</td><td>2MASX J12135486+0247529</td><td>2MASX J12135486+0247529</td><td>183.47860467958998</td><td>2.79809297242</td><td>Sy2</td><td>0.07426</td><td>z</td><td>*  |AGN|G  |Rad|Sy2|X</td><td>http://vizier.u-strasbg.fr/viz-bin/sed?-c=183.47860467958998%202.79809297242&amp;-c.rs=5</td><td>39911.0</td><td>NeV</td><td>NeV</td></tr>\n",
       "<tr><td>328</td><td>NGC  1194</td><td>NGC  1194</td><td>45.95463501222</td><td>-1.1037264177500001</td><td>Sy2</td><td>0.01355</td><td>z</td><td>AGN|G  |IR |Sy1|Sy2|X</td><td>http://vizier.u-strasbg.fr/viz-bin/sed?-c=45.95463501222%20-1.1037264177500001&amp;-c.rs=5</td><td>39937.0</td><td>NeII|NeIII|NeV</td><td>NeII|NeIII|NeV</td></tr>\n",
       "<tr><td>329</td><td>NGC  6814</td><td>NGC  6814</td><td>295.66910924422996</td><td>-10.32364131079</td><td>Sy1</td><td>0.0052269334749937</td><td>v</td><td>*  |AGN|G  |HI |HII|IR |QSO|Rad|Sy1|SyG|V* |X  |gam</td><td>http://vizier.u-strasbg.fr/viz-bin/sed?-c=295.66910924422996%20-10.32364131079&amp;-c.rs=5</td><td>39995.0</td><td>NeII|NeIII|NeV</td><td>NeII|NeIII|NeV</td></tr>\n",
       "<tr><td>330</td><td>ICRF J015002.6-072548</td><td>ICRF J015002.6-072548</td><td>27.51123991483</td><td>-7.4301260200999995</td><td>Sy2</td><td>0.017665554481694132</td><td>c</td><td>*  |AGN|G  |GiC|IR |Rad|Sy2|X</td><td>http://vizier.u-strasbg.fr/viz-bin/sed?-c=27.51123991483%20-7.4301260200999995&amp;-c.rs=5</td><td>40106.0</td><td>NeII|NeIII|NeV</td><td>NeII|NeIII|NeV</td></tr>\n",
       "<tr><td>331</td><td>Mrk  463</td><td>Mrk  463</td><td>209.0121</td><td>18.3718</td><td>Sy2</td><td>0.050382</td><td>z</td><td>AGN|G  |IR |PaG|Rad|Sy1|Sy2|X  |gam</td><td>http://vizier.u-strasbg.fr/viz-bin/sed?-c=209.0121%2018.3718&amp;-c.rs=5</td><td>40253.0</td><td>NeV</td><td>NeV</td></tr>\n",
       "<tr><td>332</td><td>ICRF J130533.0-103319</td><td>ICRF J130533.0-103319</td><td>196.3875627232</td><td>-10.555397328800002</td><td>Sy1</td><td>0.2784</td><td>z</td><td>*  |AGN|BH?|Bla|G  |IR |QSO|Rad|Sy1|UV |X  |cm</td><td>http://vizier.u-strasbg.fr/viz-bin/sed?-c=196.3875627232%20-10.555397328800002&amp;-c.rs=5</td><td>40483.0</td><td>NeII|NeV</td><td>NeII|NeV</td></tr>\n",
       "<tr><td>333</td><td>Z 121-75</td><td>Z 121-75</td><td>140.92916878618</td><td>22.90904888936</td><td>Sy1</td><td>0.03322</td><td>z</td><td>AGN|G  |GiG|GrG|Rad|Sy1|V* |X</td><td>http://vizier.u-strasbg.fr/viz-bin/sed?-c=140.92916878618%2022.90904888936&amp;-c.rs=5</td><td>41089.0</td><td>NeII|NeIII|NeV</td><td>NeII|NeIII|NeV</td></tr>\n",
       "<tr><td>334</td><td>Mrk  841</td><td>Mrk  841</td><td>226.00497307671</td><td>10.43771678047</td><td>Sy1</td><td>0.036421863554686226</td><td>c</td><td>AGN|G  |IR |QSO|Sy1|UV |X  |gam</td><td>http://vizier.u-strasbg.fr/viz-bin/sed?-c=226.00497307671%2010.43771678047&amp;-c.rs=5</td><td>41114.0</td><td>NeII|NeIII|NeV</td><td>NeII|NeIII|NeV</td></tr>\n",
       "<tr><td>335</td><td>NGC  3147</td><td>NGC  3147</td><td>154.22349524198</td><td>73.40073383283999</td><td>Sy2</td><td>0.009353</td><td>z</td><td>AGN|G  |GiG|IR |Rad|Sy1|Sy2|X</td><td>http://vizier.u-strasbg.fr/viz-bin/sed?-c=154.22349524198%2073.40073383283999&amp;-c.rs=5</td><td>41214.0</td><td>NeII|NeIII</td><td>NeII|NeIII</td></tr>\n",
       "<tr><td>336</td><td>LEDA   75476</td><td>LEDA   75476</td><td>89.50856946144</td><td>-38.33457004508</td><td>Sy1</td><td>0.03397</td><td>z</td><td>AGN|G  |IR |Sy1|X  |gam</td><td>http://vizier.u-strasbg.fr/viz-bin/sed?-c=89.50856946144%20-38.33457004508&amp;-c.rs=5</td><td>41308.0</td><td>NeII|NeIII|NeV</td><td>NeII|NeIII|NeV</td></tr>\n",
       "<tr><td>337</td><td>LEDA 2817285</td><td>LEDA 2817285</td><td>322.3725</td><td>25.46472222222222</td><td>Sy2</td><td>0.16410965772722075</td><td>v</td><td>AGN|G  |IR |Mas|Sy2</td><td>http://vizier.u-strasbg.fr/viz-bin/sed?-c=322.3725%2025.46472222222222&amp;-c.rs=5</td><td>41346.0</td><td>NeII|NeIII</td><td>NeII|NeIII</td></tr>\n",
       "<tr><td>338</td><td>NGC  7213</td><td>NGC  7213</td><td>332.31754185155</td><td>-47.16669888881</td><td>Sy1</td><td>0.005868601303795851</td><td>v</td><td>*  |AGN|Bla|Bz?|G  |GiG|IR |QSO|Rad|Sy1|UV |V* |X  |cm |gam</td><td>http://vizier.u-strasbg.fr/viz-bin/sed?-c=332.31754185155%20-47.16669888881&amp;-c.rs=5</td><td>41408.0</td><td>NeII|NeIII|NeV</td><td>NeII|NeIII|NeV</td></tr>\n",
       "<tr><td>339</td><td>Mrk 1506</td><td>Mrk 1506</td><td>68.29623197304</td><td>5.354338739319999</td><td>Sy1</td><td>0.03357276087555472</td><td>v</td><td>*  |AGN|Bla|Bz?|G  |IR |QSO|Rad|Sy1|V* |X  |gam|rG |smm</td><td>http://vizier.u-strasbg.fr/viz-bin/sed?-c=68.29623197304%205.354338739319999&amp;-c.rs=5</td><td>41433.0</td><td>NeII|NeIII|NeV</td><td>NeII|NeIII|NeV</td></tr>\n",
       "<tr><td>340</td><td>IRAS F00183-7111</td><td>IRAS F00183-7111</td><td>5.144583333333332</td><td>-70.92416666666666</td><td>Sy2</td><td>0.326999</td><td>z</td><td>AGN|IR |Rad|Sy2|cm</td><td>http://vizier.u-strasbg.fr/viz-bin/sed?-c=5.144583333333332%20-70.92416666666666&amp;-c.rs=5</td><td>41682.0</td><td>NeII|NeIII</td><td>NeII|NeIII</td></tr>\n",
       "<tr><td>341</td><td>LBQS 1244+0238</td><td>WISEA J124635.24+022208.7</td><td>191.64688659443</td><td>2.3691062628799995</td><td>Sy1</td><td>0.04813</td><td>z</td><td>AGN|G  |IR |QSO|Rad|Sy1|SyG|UV |X  |gam</td><td>http://vizier.u-strasbg.fr/viz-bin/sed?-c=191.64688659443%202.3691062628799995&amp;-c.rs=5</td><td>41902.0</td><td>NeII|NeV</td><td>NeII|NeV</td></tr>\n",
       "<tr><td>342</td><td>NGC  6860</td><td>NGC  6860</td><td>302.19536080846</td><td>-61.09993945128</td><td>Sy1</td><td>0.015247214791507532</td><td>c</td><td>AGN|G  |IR |Sy1|X  |cm</td><td>http://vizier.u-strasbg.fr/viz-bin/sed?-c=302.19536080846%20-61.09993945128&amp;-c.rs=5</td><td>42066.0</td><td>NeII|NeIII|NeV</td><td>NeII|NeIII|NeV</td></tr>\n",
       "<tr><td>343</td><td>LEDA  178130</td><td>LEDA  178130</td><td>76.4405427079</td><td>-23.8539156269</td><td>Sy2</td><td>0.035</td><td>z</td><td>AGN|G  |IR |Rad|Sy2|X</td><td>http://vizier.u-strasbg.fr/viz-bin/sed?-c=76.4405427079%20-23.8539156269&amp;-c.rs=5</td><td>42156.0</td><td>NeII</td><td>NeII</td></tr>\n",
       "<tr><td>344</td><td>4C 13.41</td><td>4C 13.41</td><td>151.85873558685</td><td>12.81560692799</td><td>Sy1</td><td>0.24074</td><td>z</td><td>AGN|G  |IR |QSO|Rad|Sy1|UV |X</td><td>http://vizier.u-strasbg.fr/viz-bin/sed?-c=151.85873558685%2012.81560692799&amp;-c.rs=5</td><td>42242.0</td><td>No Flux Values</td><td>No Flux Values</td></tr>\n",
       "<tr><td>345</td><td>NGC  4253</td><td>NGC  4253</td><td>184.61048482204998</td><td>29.81292542652</td><td>Sy1</td><td>0.01271</td><td>z</td><td>AGN|G  |GiC|GiG|IR |Q? |QSO|Rad|Sy1|X  |gam</td><td>http://vizier.u-strasbg.fr/viz-bin/sed?-c=184.61048482204998%2029.81292542652&amp;-c.rs=5</td><td>42393.0</td><td>NeII|NeIII|NeV</td><td>NeII|NeIII|NeV</td></tr>\n",
       "<tr><td>346</td><td>Mrk  478</td><td>Mrk  478</td><td>220.53113100780996</td><td>35.43970517375</td><td>Sy1</td><td>0.077</td><td>z</td><td>AGN|BH?|G  |IR |QSO|Rad|Sy1|UV |V* |X  |gam</td><td>http://vizier.u-strasbg.fr/viz-bin/sed?-c=220.53113100780996%2035.43970517375&amp;-c.rs=5</td><td>42517.0</td><td>NeII|NeIII|NeV</td><td>NeII|NeIII|NeV</td></tr>\n",
       "<tr><td>347</td><td>IRAS 07598+6508</td><td>IRAS 07598+6508</td><td>121.12693462835001</td><td>64.99799710783</td><td>Sy1</td><td>0.148603</td><td>z</td><td>*  |AGN|G  |IR |QSO|Sy1|X</td><td>http://vizier.u-strasbg.fr/viz-bin/sed?-c=121.12693462835001%2064.99799710783&amp;-c.rs=5</td><td>42548.0</td><td>NeII</td><td>NeII</td></tr>\n",
       "<tr><td>348</td><td>2MASS J10434845+5811477</td><td>2MASS J10434845+5811477</td><td>160.95198312577</td><td>58.19656961894</td><td>Sy1</td><td>0.07317</td><td>z</td><td>*  |AGN|G  |IR |Sy1</td><td>http://vizier.u-strasbg.fr/viz-bin/sed?-c=160.95198312577%2058.19656961894&amp;-c.rs=5</td><td>42582.0</td><td>NeII|NeIII</td><td>NeII|NeIII</td></tr>\n",
       "<tr><td>349</td><td>NGC  3081</td><td>NGC  3081</td><td>149.87309876014</td><td>-22.8263187061</td><td>Sy2</td><td>0.008039522026415113</td><td>v</td><td>*  |AGN|G  |GiG|HI |Rad|Sy1|Sy2|X  |gam</td><td>http://vizier.u-strasbg.fr/viz-bin/sed?-c=149.87309876014%20-22.8263187061&amp;-c.rs=5</td><td>42680.0</td><td>NeII|NeIII|NeV</td><td>NeII|NeIII|NeV</td></tr>\n",
       "<tr><td>350</td><td>NGC  4507</td><td>NGC  4507</td><td>188.90264124036997</td><td>-39.90936400452</td><td>Sy2</td><td>0.011907072576889943</td><td>v</td><td>AGN|G  |GiC|GiG|HI |IR |Rad|Sy2|X  |gam</td><td>http://vizier.u-strasbg.fr/viz-bin/sed?-c=188.90264124036997%20-39.90936400452&amp;-c.rs=5</td><td>42943.0</td><td>NeII|NeIII|NeV</td><td>NeII|NeIII|NeV</td></tr>\n",
       "<tr><td>351</td><td>2XMM J115657.8+550820</td><td>2XMM J115657.8+550820</td><td>179.241186</td><td>55.139334</td><td>Sy2</td><td>0.0798</td><td>z</td><td>G  |Sy2|X</td><td>http://vizier.u-strasbg.fr/viz-bin/sed?-c=179.241186%2055.139334&amp;-c.rs=5</td><td>43279.0</td><td>NeV</td><td>NeV</td></tr>\n",
       "<tr><td>352</td><td>2MASX J00215355-7910077</td><td>2MASX J00215355-7910077</td><td>5.47314754327</td><td>-79.16889600056</td><td>Sy2</td><td>0.072724</td><td>z</td><td>*  |AGN|G  |IR |Sy2</td><td>http://vizier.u-strasbg.fr/viz-bin/sed?-c=5.47314754327%20-79.16889600056&amp;-c.rs=5</td><td>43326.0</td><td>NeII|NeIII|NeV</td><td>NeII|NeIII|NeV</td></tr>\n",
       "<tr><td>353</td><td>NGC  3783</td><td>NGC  3783</td><td>174.7571236746</td><td>-37.73861378972</td><td>Sy1</td><td>0.009755296525549184</td><td>v</td><td>AGN|G  |GiG|HI |IR |QSO|Rad|Sy1|X</td><td>http://vizier.u-strasbg.fr/viz-bin/sed?-c=174.7571236746%20-37.73861378972&amp;-c.rs=5</td><td>43547.0</td><td>NeII|NeIII|NeV</td><td>NeII|NeIII|NeV</td></tr>\n",
       "<tr><td>354</td><td>NGC  3982</td><td>NGC  3982</td><td>179.11726896503</td><td>55.12523877407</td><td>Sy1</td><td>0.00371</td><td>z</td><td>AGN|G  |GiG|HI |IR |Rad|Sy1|X</td><td>http://vizier.u-strasbg.fr/viz-bin/sed?-c=179.11726896503%2055.12523877407&amp;-c.rs=5</td><td>43595.0</td><td>NeII|NeIII|NeV</td><td>NeII|NeIII|NeV</td></tr>\n",
       "<tr><td>355</td><td>PSCz Q18368+3549</td><td>IRAS 18368+3549</td><td>279.64764583333334</td><td>35.872152777777785</td><td>Sy2</td><td>0.11617</td><td>z</td><td>AGN|G  |IR |Mas|Sy2</td><td>http://vizier.u-strasbg.fr/viz-bin/sed?-c=279.64764583333334%2035.872152777777785&amp;-c.rs=5</td><td>43670.0</td><td>NeII|NeIII</td><td>NeII|NeIII</td></tr>\n",
       "<tr><td>356</td><td>Mrk  622</td><td>Mrk  622</td><td>121.92081574901</td><td>39.00423528003</td><td>Sy2</td><td>0.02335</td><td>z</td><td>AGN|G  |IR |LIN|Rad|Sy2|X</td><td>http://vizier.u-strasbg.fr/viz-bin/sed?-c=121.92081574901%2039.00423528003&amp;-c.rs=5</td><td>43765.0</td><td>NeII|NeIII</td><td>NeII|NeIII</td></tr>\n",
       "<tr><td>357</td><td>[LGE2006] 12</td><td>[LGE2006] 12</td><td>163.00045833333334</td><td>57.406527777777775</td><td>Sy1</td><td>0.974</td><td>z</td><td>AGN|G  |IR |Rad|Sy1|X  |smm</td><td>http://vizier.u-strasbg.fr/viz-bin/sed?-c=163.00045833333334%2057.406527777777775&amp;-c.rs=5</td><td>43819.0</td><td>NeIII</td><td>NeIII</td></tr>\n",
       "<tr><td>358</td><td>2MASX J14323249+3406257</td><td>2MASX J14323249+3406257</td><td>218.13541641978998</td><td>34.10705776174</td><td>Sy2</td><td>0.0424</td><td>z</td><td>*  |AG?|AGN|EmG|G  |Sy2</td><td>http://vizier.u-strasbg.fr/viz-bin/sed?-c=218.13541641978998%2034.10705776174&amp;-c.rs=5</td><td>44215.0</td><td>NeII|NeIII</td><td>NeII|NeIII</td></tr>\n",
       "</table><style>table.dataTable {clear: both; width: auto !important; margin: 0 !important;}\n",
       ".dataTables_info, .dataTables_length, .dataTables_filter, .dataTables_paginate{\n",
       "display: inline-block; margin-right: 1em; }\n",
       ".paginate_button { margin-right: 5px; }\n",
       "</style>\n",
       "<script>\n",
       "\n",
       "var astropy_sort_num = function(a, b) {\n",
       "    var a_num = parseFloat(a);\n",
       "    var b_num = parseFloat(b);\n",
       "\n",
       "    if (isNaN(a_num) && isNaN(b_num))\n",
       "        return ((a < b) ? -1 : ((a > b) ? 1 : 0));\n",
       "    else if (!isNaN(a_num) && !isNaN(b_num))\n",
       "        return ((a_num < b_num) ? -1 : ((a_num > b_num) ? 1 : 0));\n",
       "    else\n",
       "        return isNaN(a_num) ? -1 : 1;\n",
       "}\n",
       "\n",
       "require.config({paths: {\n",
       "    datatables: 'https://cdn.datatables.net/1.10.12/js/jquery.dataTables.min'\n",
       "}});\n",
       "require([\"datatables\"], function(){\n",
       "    console.log(\"$('#table139825956042832-675451').dataTable()\");\n",
       "    \n",
       "jQuery.extend( jQuery.fn.dataTableExt.oSort, {\n",
       "    \"optionalnum-asc\": astropy_sort_num,\n",
       "    \"optionalnum-desc\": function (a,b) { return -astropy_sort_num(a, b); }\n",
       "});\n",
       "\n",
       "    $('#table139825956042832-675451').dataTable({\n",
       "        order: [],\n",
       "        pageLength: 50,\n",
       "        lengthMenu: [[10, 25, 50, 100, 500, 1000, -1], [10, 25, 50, 100, 500, 1000, 'All']],\n",
       "        pagingType: \"full_numbers\",\n",
       "        columnDefs: [{targets: [0, 3, 4, 6, 10], type: \"optionalnum\"}]\n",
       "    });\n",
       "});\n",
       "</script>\n"
      ],
      "text/plain": [
       "<IPython.core.display.HTML object>"
      ]
     },
     "execution_count": 2,
     "metadata": {},
     "output_type": "execute_result"
    }
   ],
   "source": [
    "path_raw='../Datos/Raw/'\n",
    "path_phot_ned = '../Datos/Work/Phot_Tables_NED/' #In this path wi will save the photometry tables for each object\n",
    "path_phot_cds = '../Datos/Work/Phot_Tables_CDS/'\n",
    "path_SED = '../Datos/Work/SEDs/'\n",
    "path_CIGALE_phot = '../Datos/Work/CIGALE_InputPhot/'\n",
    "Path(path_CIGALE_phot).mkdir(parents=True, exist_ok=True)\n",
    "path_FINAL = '../Datos/Final/'\n",
    "Path(path_FINAL).mkdir(parents=True, exist_ok=True)\n",
    "\n",
    "date_sample = 'Apr_12_2022'\n",
    "NeIR_obj_t = Table.read(path_raw+'Obj_Ne-IR_'+date_sample+'.vot',format='votable')\n",
    "NeIR_obj_t.show_in_notebook()"
   ]
  },
  {
   "cell_type": "markdown",
   "id": "8de0095f",
   "metadata": {},
   "source": [
    "### Create equivalences between NED and CDS tables\n",
    "Here we create a list for the different names of the bands in NED and CDS. Each row represents the same band."
   ]
  },
  {
   "cell_type": "code",
   "execution_count": 3,
   "id": "b126b02b",
   "metadata": {},
   "outputs": [],
   "source": [
    "Equival = [['2-10 keV (XMM)', None, None],\n",
    "           ['0.5-2 keV (XMM)', None, None],\n",
    "           ['GALEX:FUV', 'FUV (GALEX)', None],\n",
    "           ['GALEX:NUV', 'NUV (GALEX)', None],\n",
    "           [\"SDSS:u'\", 'SDSS:u', 'u (SDSS) AB'],\n",
    "           [\"SDSS:g'\", 'SDSS:g', 'g (SDSS) AB'],\n",
    "           [\"SDSS:r'\", 'SDSS:r', 'r (SDSS) AB'],\n",
    "           [\"SDSS:i'\", 'SDSS:i', 'i (SDSS) AB'],\n",
    "           [\"SDSS:z'\", 'SDSS:z', 'z (SDSS) AB'],\n",
    "           ['2MASS:J', 'J (2MASS) AB', None],\n",
    "           ['2MASS:H', 'H (2MASS) AB', None],\n",
    "           ['2MASS:Ks', 'Ks (2MASS) AB', None],\n",
    "           ['WISE:W1', 'W1 (WISE)', None],\n",
    "           [':=3.6um', '3.6 microns (IRAC)', None],\n",
    "           [':=4.5um', '4.5 microns (IRAC)', None],\n",
    "           ['WISE:W2', 'W2 (WISE)', None],\n",
    "           [':=5.8um', '5.8 microns (IRAC)', None],\n",
    "           [':=8um', '8.0 microns (IRAC)', None],\n",
    "           ['IRAS:12', '12 microns (IRAS)', None],\n",
    "           ['WISE:W3', 'W3 (WISE)', None],\n",
    "           ['WISE:W4', 'W4 (WISE)', None],\n",
    "           ['Spitzer/MIPS:24', '24 microns (MIPS)', None],\n",
    "           ['IRAS:25', '25 microns (IRAS)', None],\n",
    "           ['IRAS:60', '60 microns (IRAS)', None],\n",
    "           ['Herschel/PACS:70', '70 microns (PACS)', None],\n",
    "           ['Spitzer/MIPS:70', '70 microns (MIPS)', None],\n",
    "           ['IRAS:100', '100 microns (IRAS)', None],\n",
    "           ['Herschel/PACS:100', '100 microns (PACS)', None],\n",
    "           ['Spitzer/MIPS:160', '160 microns (MIPS)', None],\n",
    "           ['Herschel/PACS:160', '160 microns (PACS)', None],\n",
    "           ['Herschel/SPIRE:250', '250 microns (SPIRE)', ':=250um'],\n",
    "           ['Herschel/SPIRE:350', '350 microns (SPIRE)', ':=350um'],\n",
    "           ['Herschel/SPIRE:500', '500 microns (SPIRE)', ':=500um'],\n",
    "           [':=5GHz', ':=6cm', '4.89 GHz (VLA)'],\n",
    "           [':=1.5GHz', ':=20cm', '1.46 GHz (VLA)'],\n",
    "           [':=1.4GHz', ':=21cm', '1.4GHz']\n",
    "           ]"
   ]
  },
  {
   "cell_type": "markdown",
   "id": "23e6eaa4",
   "metadata": {},
   "source": [
    "### Transform photometry to CIGALE table\n",
    "\n",
    "The next class allows us to transform the units of the SEDs in the selected bands."
   ]
  },
  {
   "cell_type": "code",
   "execution_count": 4,
   "id": "0be7ba31",
   "metadata": {},
   "outputs": [],
   "source": [
    "class TransformCIGALE:\n",
    "    \"\"\"Class to plot the SEDs and create a row with the right units\"\"\"\n",
    "    def __init__(self, sed):\n",
    "        self.sed = sed\n",
    "        #self.init_plot() # To check the SED\n",
    "        self.create_row()\n",
    "\n",
    "    def init_plot(self):\n",
    "        \"Plot the SED\"\n",
    "        plt.errorbar(self.sed['Wave'], self.sed['Flux'], yerr=self.sed['F_er'], fmt='o')\n",
    "        plt.xlim(1e-6, 1e6)\n",
    "        plt.loglog()\n",
    "\n",
    "    def create_row(self):\n",
    "        \"\"\"Calculate the flux and error to use for the SED in CIGALE\"\"\"\n",
    "        # Number of filtets/bands and their errors\n",
    "        self.row = np.full(72, np.nan)\n",
    "        iband = 0\n",
    "        for band in Equival:\n",
    "            crop = self.sed[np.logical_or.reduce([self.sed['Filter'] == band[0],\n",
    "                                                  self.sed['Filter'] == band[1],\n",
    "                                                  self.sed['Filter'] == band[2]])]\n",
    "            flux = np.mean(crop['Flux'])\n",
    "            std = np.sqrt(np.sum(crop['F_er']**2))/len(crop)\n",
    "            self.row[iband] = flux*1000  # To send in mJy\n",
    "            self.row[iband+1] = std*1000  # To send in mJy\n",
    "            iband += 2"
   ]
  },
  {
   "cell_type": "markdown",
   "id": "274d17c0",
   "metadata": {},
   "source": [
    "We create a table with all the CIGALE bands/filters and fill it with the information that we get from NED and CDS. In some cases some of the galaxies are not useful because the bands are not found initially. This could take some minutes."
   ]
  },
  {
   "cell_type": "code",
   "execution_count": 5,
   "id": "09631ad6",
   "metadata": {},
   "outputs": [
    {
     "name": "stderr",
     "output_type": "stream",
     "text": [
      "/home/jonhatan/anaconda3/lib/python3.9/site-packages/numpy/core/fromnumeric.py:3417: RuntimeWarning: Mean of empty slice.\n",
      "  return mean(axis=axis, dtype=dtype, out=out, **kwargs)\n",
      "/home/jonhatan/anaconda3/lib/python3.9/site-packages/numpy/core/_methods.py:188: RuntimeWarning: invalid value encountered in double_scalars\n",
      "  ret = ret.dtype.type(ret / rcount)\n",
      "/tmp/ipykernel_88333/2558554763.py:24: RuntimeWarning: invalid value encountered in double_scalars\n",
      "  std = np.sqrt(np.sum(crop['F_er']**2))/len(crop)\n"
     ]
    }
   ],
   "source": [
    "CIGALEFilter = ['xray_box_car_2to10keV', 'xray_box_car_0p5to2keV', 'FUV', 'NUV',\n",
    "                'u_prime', 'g_prime', 'r_prime', 'i_prime', 'z_prime', 'J_2mass',\n",
    "                'H_2mass', 'Ks_2mass', 'WISE1', 'IRAC1', 'IRAC2', 'WISE2', 'IRAC3', 'IRAC4',\n",
    "                'IRAS1', 'WISE3', 'WISE4', 'MIPS1', 'IRAS2', 'IRAS3', 'PACS_blue', 'MIPS2',\n",
    "                'IRAS4', 'PACS_green', 'MIPS3', 'PACS_red', 'PSW_ext', 'PMW_ext', 'PLW_ext',\n",
    "                'VLA_C', 'VLA_L', 'HI21cm']\n",
    "# VLAC is 6cm ,VLAL is 20 cm and HI21cm is 1.4GHz\n",
    "CIGFilt = [[filt, filt+'_err'] for filt in CIGALEFilter]\n",
    "CIG = Table(names=np.array(CIGFilt).ravel())\n",
    "GoodGalaxies = []\n",
    "\n",
    "for igal, Galaxy in enumerate(NeIR_obj_t['Main_Id']):\n",
    "    #     figure()\n",
    "    try:\n",
    "        sed_file = Table.read(path_SED+Galaxy + '_Phot.txt',\n",
    "                          format='ascii')\n",
    "        if len(sed_file) == 0:\n",
    "            print(Galaxy, igal, 'No useful phot.')\n",
    "        else:\n",
    "            GoodGalaxies.append(igal)\n",
    "            CIG.add_row(TransformCIGALE(sed_file).row)\n",
    "    except FileNotFoundError:\n",
    "        print(Galaxy, igal, 'No Phot. ERROR')"
   ]
  },
  {
   "cell_type": "code",
   "execution_count": 6,
   "id": "f7cd28ef",
   "metadata": {},
   "outputs": [
    {
     "name": "stdout",
     "output_type": "stream",
     "text": [
      "Percentage of galaxies with X-ray data: 0.28133704735376047\n"
     ]
    }
   ],
   "source": [
    "print('Percentage of galaxies with X-ray data:',\n",
    "      sum(~np.isnan(CIG[CIG.colnames[1]].data))/len(CIG))"
   ]
  },
  {
   "cell_type": "code",
   "execution_count": 7,
   "id": "93da6fad",
   "metadata": {},
   "outputs": [
    {
     "name": "stdout",
     "output_type": "stream",
     "text": [
      "Percentage of galaxies with VLA_C data: 0.10027855153203342\n"
     ]
    }
   ],
   "source": [
    "print('Percentage of galaxies with VLA_C data:',\n",
    "      sum(~np.isnan(CIG[CIG.colnames[67]].data))/len(CIG))"
   ]
  },
  {
   "cell_type": "code",
   "execution_count": 8,
   "id": "769475b3",
   "metadata": {
    "scrolled": true
   },
   "outputs": [
    {
     "name": "stdout",
     "output_type": "stream",
     "text": [
      "Percentage of galaxies with VLA_L data: 0.06963788300835655\n"
     ]
    }
   ],
   "source": [
    "print('Percentage of galaxies with VLA_L data:',\n",
    "      sum(~np.isnan(CIG[CIG.colnames[69]].data))/len(CIG))"
   ]
  },
  {
   "cell_type": "code",
   "execution_count": 9,
   "id": "954991d1",
   "metadata": {},
   "outputs": [],
   "source": [
    "CIG = CIG[CIG.colnames[4:-6]]  # Remove x-ray and radio wavelengths"
   ]
  },
  {
   "cell_type": "markdown",
   "id": "76dfba20",
   "metadata": {},
   "source": [
    "We add the identifier (main_id) and the redshift from SIMBAD."
   ]
  },
  {
   "cell_type": "code",
   "execution_count": 10,
   "id": "8a478eeb",
   "metadata": {},
   "outputs": [],
   "source": [
    "col_name = Column(name='id', data=NeIR_obj_t['Main_Id'][GoodGalaxies])\n",
    "CIG.add_column(col_name, 0)\n",
    "col_z = Column(name='redshift', data=NeIR_obj_t['redshift'][GoodGalaxies])\n",
    "CIG.add_column(col_z, 1)"
   ]
  },
  {
   "cell_type": "markdown",
   "id": "4cf5cea1",
   "metadata": {},
   "source": [
    "### Clean photometric values\n",
    "\n",
    "Then, for each filter, we verify if the relative error is higher than 33%, in those cases we do not use that information for the modeling. In addition, we remove information with limits, that in some cases are annotated as negative values."
   ]
  },
  {
   "cell_type": "code",
   "execution_count": 11,
   "id": "4cc3204e",
   "metadata": {},
   "outputs": [
    {
     "name": "stdout",
     "output_type": "stream",
     "text": [
      "3C 234.0 H_2mass 0.33998364516064733\n",
      "M  84 J_2mass 0.7264293744836248\n",
      "2MASS J13000535+1632148 FUV 0.4492512399613503\n",
      "LEDA   45656 IRAS3 0.4358974358974359\n",
      "LEDA   45656 IRAS4 0.33548387096774196\n",
      "LEDA 3095998 H_2mass 0.3611261953891703\n",
      "LEDA 3095998 Ks_2mass 0.4049506150848603\n",
      "LEDA 3095998 WISE4 0.4394152443038262\n",
      "LEDA 3095998 PSW_ext 0.4003778774826832\n",
      "NGC  4477 IRAC3 20.779224522371056\n",
      "NGC   185 z_prime 0.4017220356104894\n",
      "NGC   185 Ks_2mass 0.5457768712330429\n",
      "2MASS J00105486+0014510 FUV 0.4274428314030484\n",
      "2MASS J00105486+0014510 u_prime 0.40307455336122244\n",
      "2MASS J00105486+0014510 H_2mass 0.34446509995742075\n",
      "Mrk  493 IRAS1 0.35659711704621994\n",
      "2MASS J22255427+1958370 NUV 0.6543330714654052\n",
      "2MASS J22255427+1958370 u_prime 0.5781937315181793\n",
      "2MASS J22255427+1958370 H_2mass 0.3977961022174125\n",
      "LEDA   90196 g_prime 0.6357300888648786\n",
      "LEDA   90196 z_prime 0.7800115327801033\n",
      "[VV2000] J235225.0+244009 u_prime 0.36755059183007355\n",
      "[VV2000] J235225.0+244009 J_2mass 0.5108916263250483\n",
      "[VV2000] J235225.0+244009 H_2mass 0.39575077853388274\n",
      "3C 196 H_2mass 0.6779064927295393\n",
      "3C 196 Ks_2mass 0.34819843941118245\n",
      "2MASX J10032788+5541535 FUV 0.3700046809357876\n",
      "2MASX J10032788+5541535 J_2mass 0.4372501858121231\n",
      "2MASX J10032788+5541535 H_2mass 0.5033962330961406\n",
      "2MASX J10032788+5541535 Ks_2mass 0.5585180838315121\n",
      "[VV2003c] J005439.8+155446 FUV 0.5193403371924576\n",
      "[VV2003c] J005439.8+155446 NUV 0.6964016359600536\n",
      "IRAS 11215-2806 FUV 0.6596611603744946\n",
      "2MASS J15011320+2329082 FUV 0.5244755253827331\n",
      "2MASS J15011320+2329082 J_2mass 0.4541394763879933\n",
      "2MASS J15011320+2329082 H_2mass 0.34053587587511996\n",
      "NAME Circinus Galaxy J_2mass 0.41181937519511086\n",
      "NAME Circinus Galaxy WISE3 0.3651174794797681\n",
      "Mrk  463E Ks_2mass 0.536347273770359\n",
      "NGC  4235 FUV 0.5418276520484346\n",
      "NGC  4235 J_2mass 0.9719603857432505\n",
      "NGC  4235 PLW_ext 0.3699697292488264\n",
      "UGC  6728 J_2mass 0.5617900723094033\n",
      "UGC  6728 PSW_ext 0.6220095505745752\n",
      "NGC  1365 u_prime 0.47643817111409675\n",
      "NGC  1365 J_2mass 0.46943710422471174\n",
      "LEDA   27453 J_2mass 0.4641446341158473\n",
      "LEDA   27453 H_2mass 0.594858765230493\n",
      "LEDA   27453 Ks_2mass 0.3363573878872784\n",
      "NAME Cyg A Ks_2mass 0.40244562818937996\n",
      "Mrk  877 IRAS3 0.6416635909415122\n",
      "Mrk  877 IRAS4 0.5210315816201309\n",
      "Mrk 1383 IRAS1 0.3434270430095866\n",
      "Mrk 1383 PLW_ext 0.36569758664069574\n",
      "Negative NGC  3998 IRAC3\n",
      "NGC  3998 PSW_ext 0.4347826057793791\n",
      "NGC  3998 PLW_ext 0.6508875748827437\n",
      "QSO B1626+5529 MIPS3 0.7867494824016563\n",
      "Mrk 1513 IRAS4 0.43014235692982034\n",
      "[VV2003c] J035734.0-053719 FUV 0.4734069406308619\n",
      "ESO 434-40 J_2mass 0.6478420504020459\n",
      "LEDA   37102 J_2mass 0.4139563983807156\n",
      "LEDA   37102 H_2mass 0.3939597315436241\n",
      "LEDA   37102 Ks_2mass 0.5804324058646088\n",
      "LEDA   50824 IRAS4 0.3357142857142857\n",
      "LEDA   29208 IRAS2 0.3333333333333333\n",
      "LEDA   29208 IRAS3 0.4714045207910317\n",
      "LEDA   29208 IRAS4 0.3356164383561644\n",
      "SWIFT J0624.1-6059 IRAS2 0.4185567010309278\n",
      "NGC  2685 J_2mass 0.412555372509193\n",
      "Negative NGC  2685 IRAC3\n",
      "NGC  2685 WISE4 0.3933690399046729\n",
      "Mrk  471 IRAC1 0.3870967630758249\n",
      "SDSS J143417.15+020742.3 PMW_ext 0.9631488164192159\n",
      "IRAS 11119+3257 FUV 0.5128205046475858\n",
      "2MASX J14305363+3458364 FUV 0.6191217643352293\n",
      "NAME IRAS F15163+4255 NW IRAS1 0.3800670176204844\n",
      "NGC   973 FUV 0.5199618749560233\n",
      "2E  3648 MIPS3 0.4387501249191024\n",
      "2XMM J094046.2+033929 FUV 0.4977691312546314\n",
      "2XMM J094046.2+033929 WISE4 0.6106308247577037\n",
      "2MASS J08105865+7602424 IRAS3 0.3834290110830718\n",
      "[VV2010c] J221452.9+135118 NUV 0.38776823105167973\n",
      "2MASS J14294306+4747262 IRAS4 0.33695652173913043\n",
      "MCG+10-17-021 FUV 0.4549227794080959\n",
      "NGC  5899 J_2mass 0.5384579035376043\n",
      "LEDA 3096524 FUV 0.45793111521365376\n",
      "NGC  5728 J_2mass 0.6930693827241196\n",
      "NGC   788 FUV 0.4219985138010398\n",
      "2C 1066 u_prime 0.70603911685466\n",
      "2C 1066 z_prime 0.5298412428970225\n",
      "2C 1066 IRAS3 0.3333333333333333\n",
      "2C 1066 PSW_ext 0.40784435071651487\n",
      "2C 1066 PMW_ext 0.3931624038280065\n",
      "2C 1066 PLW_ext 0.5454545484101477\n",
      "PB  3894 IRAS3 0.530884371152004\n",
      "PB  3894 IRAS4 0.3896973905701201\n",
      "NGC  1808 Ks_2mass 0.4228812025159536\n",
      "NGC  4074 i_prime 0.65918655342585\n",
      "Mrk 1298 IRAS4 0.7445034019836412\n",
      "2E   437 J_2mass 0.34276198811321634\n",
      "2E   437 H_2mass 0.3378978852745232\n",
      "2E   437 MIPS3 0.49868421052631584\n",
      "2MASS J10520202+5633010 H_2mass 0.36426155320411574\n",
      "2MASS J10520202+5633010 Ks_2mass 0.3489984514562044\n",
      "2MASX J14510879+2709272 IRAS3 0.4472299299812352\n",
      "LEDA  165618 J_2mass 0.7495524122022476\n",
      "3C 343.1 u_prime 0.49320389531312464\n",
      "3C 343.1 WISE3 0.33671101035958534\n",
      "3C 343.1 WISE4 0.5112807448689072\n",
      "Ton  182 IRAS4 0.3333333333333333\n",
      "MCG+13-07-002 J_2mass 0.33953021636396724\n",
      "MCG+13-07-002 H_2mass 0.43228304238634796\n",
      "ICRF J145907.5+714019 H_2mass 0.37391721397042355\n",
      "ICRF J145907.5+714019 Ks_2mass 0.3367972841283168\n",
      "NGC  4355 J_2mass 0.8024720010756021\n",
      "NGC  2992 J_2mass 0.4440410147573233\n",
      "[VV2003c] J135355.9+664800 J_2mass 0.606697648924539\n",
      "[VV2003c] J135355.9+664800 H_2mass 0.5518707176063435\n",
      "[VV2003c] J135355.9+664800 Ks_2mass 0.39599358981831334\n",
      "2XMM J142930.6+425148 NUV 0.5749415507783145\n",
      "NGC  7314 z_prime 0.3654160609838258\n",
      "UGC  1395 IRAS4 0.3988212600462973\n",
      "IC 4518A Ks_2mass 0.4360754524518842\n",
      "2XMM J094506.4+035552 J_2mass 0.5137035349444684\n",
      "2XMM J094506.4+035552 H_2mass 0.5134768648073624\n",
      "2XMM J094506.4+035552 Ks_2mass 0.519030526218128\n",
      "ICRF J052109.8+163822 J_2mass 0.43315611381416935\n",
      "ICRF J052109.8+163822 H_2mass 0.6596094339644953\n",
      "ICRF J052109.8+163822 Ks_2mass 0.45380333036801634\n",
      "ESO 506-27 FUV 0.5993639885029427\n",
      "Mrk  771 IRAS1 0.4610322071749652\n",
      "Mrk  771 IRAS2 0.478190196416656\n",
      "Mrk  771 IRAS3 0.68823841654837\n",
      "Mrk  771 IRAS4 0.497664897232133\n",
      "3C 295 J_2mass 0.6256784176618587\n",
      "3C 295 Ks_2mass 0.7040398058710565\n",
      "Mrk 1014 IRAS1 0.4144747870648177\n",
      "Negative Mrk 1014 MIPS1\n",
      "Mrk 1014 PLW_ext 0.34228018810705935\n",
      "ESO 428-14 J_2mass 0.3977890146118222\n",
      "ESO 428-14 WISE1 0.6953119559944733\n",
      "UGC  1841 g_prime 0.42252386993905805\n",
      "UGC  1841 z_prime 0.3915975334721335\n",
      "M  49 WISE2 0.5565453299350831\n",
      "M  49 PSW_ext 0.44834306992031336\n",
      "ESO 263-13 H_2mass 0.42605267132909935\n",
      "2MASX J21564950-0745325 FUV 0.5730444590602027\n",
      "2MASX J21564950-0745325 NUV 0.5100615766505129\n",
      "2MASX J21564950-0745325 H_2mass 0.391173482943603\n",
      "2MASX J21564950-0745325 Ks_2mass 0.36246502513032147\n",
      "LEDA 2816291 J_2mass 0.34650248343536744\n",
      "LEDA 2816291 Ks_2mass 0.44860921752964333\n",
      "ICRF J090933.4+425346 J_2mass 0.5108027194664245\n",
      "ICRF J090933.4+425346 H_2mass 0.4696620260160157\n",
      "ICRF J090933.4+425346 Ks_2mass 0.3655471873513492\n",
      "NGC  1320 H_2mass 0.37311008428098497\n",
      "NGC  2273 J_2mass 0.60891581860521\n",
      "NGC  7172 J_2mass 0.4426874471947592\n",
      "2MASX J10181928+3722419 FUV 0.6308680529485586\n",
      "SDSS J032845.99+011150.8 WISE4 0.40296902529994777\n",
      "2MASS J13234951+6541480 IRAS3 0.3333333333333333\n",
      "Negative Mrk  335 MIPS1\n",
      "Ton  951 IRAS3 0.35572242979936747\n",
      "LEDA 1487448 J_2mass 0.4385688392507215\n",
      "NGC  4395 g_prime 0.4477567634764221\n",
      "NGC  4395 r_prime 0.45043142488268656\n",
      "NGC  4395 i_prime 0.3950334967204175\n",
      "NGC  4395 z_prime 0.4075942521924679\n",
      "NGC  4395 J_2mass 0.6209297583857739\n",
      "NGC  4395 H_2mass 0.8040110012152598\n",
      "NGC  4395 Ks_2mass 0.9883384187839139\n",
      "2MASX J14254352+3345275 H_2mass 0.37591159712273825\n",
      "2MASX J14254352+3345275 Ks_2mass 0.3482122571606172\n",
      "LEDA 2149945 IRAS4 0.46588228234300477\n",
      "NGC  7743 FUV 0.7021770835390163\n",
      "NGC  7743 IRAS1 0.41\n",
      "Mrk   22 J_2mass 0.3384192382169224\n",
      "Mrk   22 Ks_2mass 0.7818374406306589\n",
      "LEDA   90127 FUV 0.6138428179519156\n",
      "LEDA   90127 J_2mass 0.34483173232919084\n",
      "LEDA   90127 H_2mass 0.3607180052395332\n",
      "2MASS J16370022+2221140 NUV 0.4545454676511164\n",
      "ICRF J134733.3+121724 FUV 0.42229728668547417\n",
      "ICRF J134733.3+121724 IRAS1 0.4549218668746077\n",
      "MCG-02-08-039 FUV 0.8267604079243215\n",
      "2C  349 NUV 0.4691404743790572\n",
      "NGC  6221 J_2mass 0.6511763213627427\n",
      "NGC  6221 WISE1 0.9693054411361044\n",
      "MCG-03-34-064 IRAS3 0.3387834317681583\n",
      "MCG-03-34-064 IRAS4 0.35308689492539247\n",
      "NGC  3516 J_2mass 0.8548774021513788\n",
      "NGC  3516 PSW_ext 0.38655738303582443\n",
      "2MASX J18334627+4727027 FUV 0.41342939825386843\n",
      "2MASX J18334627+4727027 NUV 0.34455045968602316\n",
      "2MASX J18334627+4727027 H_2mass 0.3810177999777639\n",
      "2MASS J01083516+2148186 FUV 0.4403518926445867\n",
      "3C  22.0 PACS_red 0.34050632911392403\n",
      "2MASX J14304627+3513133 H_2mass 0.3714787151887272\n",
      "2MASX J14304627+3513133 Ks_2mass 0.33546418228369307\n",
      "2MASX J14304627+3513133 PLW_ext 0.4705882290552233\n",
      "Ton  1565 PACS_green 0.5137665773220684\n",
      "Ton  1565 PACS_red 0.7178016131136966\n",
      "Ton  1565 PLW_ext 0.6223776257500403\n",
      "ESO 121-28 IRAS2 0.4185567010309278\n",
      "NGC  1058 z_prime 0.3750661739031567\n",
      "2MASSI J0918486+211717 NUV 0.509156597320322\n",
      "[VV2003c] J082001.7+505039 FUV 0.35385610786032906\n",
      "2MASX J08584172+1041223 FUV 0.5493575283695752\n",
      "3C 343 NUV 0.3604857911708778\n",
      "2MASS J10272497+1219196 NUV 0.8719437580325362\n",
      "LEDA  165630 FUV 0.5170208177995037\n",
      "LEDA  165630 J_2mass 0.39495652027107137\n",
      "LEDA  165630 H_2mass 0.4635756246585694\n"
     ]
    },
    {
     "name": "stdout",
     "output_type": "stream",
     "text": [
      "LEDA  165630 Ks_2mass 0.42472553104006505\n",
      "4C 23.43 J_2mass 0.389430877569179\n",
      "4C 23.43 H_2mass 0.7727381134821321\n",
      "4C 23.43 Ks_2mass 0.5755677657933852\n",
      "4C 23.43 WISE4 0.42323876695806906\n",
      "4C 23.43 MIPS2 0.4051695088543892\n",
      "Mrk  705 IRAS4 0.3946774509549994\n",
      "3C 286 H_2mass 0.44925181243203366\n",
      "3C 286 PACS_green 0.7142857181561458\n",
      "3C 286 PACS_red 0.6401138168954585\n",
      "NGC  4725 IRAC4 0.34148498490289125\n",
      "NGC  4725 WISE4 0.4212209890352737\n",
      "[VV2003c] J124819.8+662143 FUV 0.36538699498827176\n",
      "[VV2003c] J124819.8+662143 WISE4 0.3744481982311206\n",
      "7C 1821+6419 u_prime 0.3458314580040222\n",
      "Negative NGC  2110 NUV\n",
      "NGC  2110 J_2mass 0.7243110804152233\n",
      "2MASS J10514425+3539307 NUV 0.7120152535553957\n",
      "SDSS J120424.54+192509.7 FUV 0.5841264625560284\n",
      "NGC  4968 FUV 0.3422526119542966\n",
      "NGC   253 i_prime 0.6012216765169461\n",
      "NGC  3660 MIPS1 0.5\n",
      "NGC  6926 r_prime 0.5292577183787163\n",
      "NGC  6926 i_prime 0.34450865213008075\n",
      "NGC  6926 z_prime 0.3380018714559641\n",
      "2E  2389 MIPS3 0.48869047619047623\n",
      "ESO 103-35 IRAS4 0.5697668865454618\n",
      "NGC  5033 J_2mass 0.490919327273908\n",
      "2E  2503 MIPS3 0.41104972375690607\n",
      "NGC  4922 IRAS1 0.431484641956416\n",
      "PG 0953+414 IRAS3 0.5233644859813084\n",
      "PG 0953+414 MIPS3 0.4289156626506023\n",
      "NGC  6814 J_2mass 0.9917155093517086\n",
      "ICRF J015002.6-072548 FUV 0.7344385292790974\n",
      "Mrk  463 Ks_2mass 0.536347273770359\n",
      "Z 121-75 IRAS1 0.38499999426305304\n",
      "Z 121-75 IRAS2 0.38499999426305304\n",
      "Z 121-75 IRAS3 0.38499999426305304\n",
      "LEDA 2817285 FUV 0.4004449199304373\n",
      "LEDA 2817285 NUV 0.40632054268230927\n",
      "LEDA 2817285 J_2mass 0.47224064186758247\n",
      "LEDA 2817285 H_2mass 0.5302235221164477\n",
      "LEDA 2817285 Ks_2mass 0.349020625394075\n",
      "NGC  7213 J_2mass 0.33418612373564344\n",
      "Mrk 1506 PMW_ext 0.9110109988054271\n",
      "IRAS F00183-7111 J_2mass 0.419192212574498\n",
      "IRAS F00183-7111 H_2mass 0.4824346602931741\n",
      "LBQS 1244+0238 IRAS4 0.3342541436464088\n",
      "2MASS J10434845+5811477 FUV 0.5952073112897841\n",
      "NGC  3081 J_2mass 0.5620309176484641\n",
      "2MASX J00215355-7910077 H_2mass 0.35819832739349183\n",
      "NGC  3982 J_2mass 0.3667073051776022\n",
      "[LGE2006] 12 FUV 0.555555540917728\n",
      "[LGE2006] 12 u_prime 0.9728602393244163\n",
      "[LGE2006] 12 g_prime 0.3781928692897243\n",
      "[LGE2006] 12 z_prime 0.7016670712624448\n",
      "[LGE2006] 12 MIPS2 0.35440433289033924\n",
      "[LGE2006] 12 PACS_green 0.45211045675689676\n",
      "[LGE2006] 12 PACS_red 0.39383732875653743\n",
      "2MASX J14323249+3406257 H_2mass 0.4285465091597363\n",
      "2MASX J14323249+3406257 Ks_2mass 0.47594141456603123\n"
     ]
    }
   ],
   "source": [
    "for igal in range(len(CIG)):\n",
    "    for icol in CIG.colnames[2::2]:\n",
    "        if CIG[icol+'_err'][igal]/CIG[icol][igal] >= 1/3.:  # Higher than 33%\n",
    "            print(CIG['id'][igal], icol, CIG[icol+'_err'][igal]/CIG[icol][igal])\n",
    "            CIG[icol+'_err'][igal] = np.nan\n",
    "            CIG[icol][igal] = np.nan\n",
    "        if CIG[icol+'_err'][igal]/CIG[icol][igal] <= 0:  # Negative Limits\n",
    "            print('Negative', CIG['id'][igal], icol)\n",
    "            CIG[icol+'_err'][igal] = np.nan\n",
    "            CIG[icol][igal] = np.nan"
   ]
  },
  {
   "cell_type": "markdown",
   "id": "95d545ba",
   "metadata": {},
   "source": [
    "We define a minimum error for each filter to avoid overfitting"
   ]
  },
  {
   "cell_type": "code",
   "execution_count": 12,
   "id": "74709742",
   "metadata": {},
   "outputs": [],
   "source": [
    "def add_min_err(phot_tab, list_bands, error):\n",
    "    \"\"\"Function to add a minimum error for the bands\"\"\"\n",
    "    for col in list_bands:\n",
    "        rel_error = phot_tab[col+'_err']/phot_tab[col]\n",
    "        phot_tab[col+'_err'] = np.fmax(rel_error, error)*phot_tab[col]"
   ]
  },
  {
   "cell_type": "code",
   "execution_count": 13,
   "id": "40629c69",
   "metadata": {},
   "outputs": [],
   "source": [
    "add_min_err(CIG, ['FUV', 'NUV'], 0.1)\n",
    "add_min_err(CIG, ['u_prime', 'g_prime', 'r_prime', 'i_prime', 'z_prime'], 0.02)\n",
    "add_min_err(CIG, ['J_2mass', 'H_2mass', 'Ks_2mass'], 0.02)\n",
    "add_min_err(CIG, ['IRAC1', 'IRAC2', 'IRAC3', 'IRAC4'], 0.03)\n",
    "add_min_err(CIG, ['MIPS1', 'MIPS2', 'MIPS3'], 0.04)\n",
    "add_min_err(CIG, ['WISE1', 'WISE2', 'WISE3', 'WISE4'], 0.06)\n",
    "add_min_err(CIG, ['PACS_blue', 'PACS_green', 'PACS_red'], 0.1)\n",
    "add_min_err(CIG, ['PSW_ext', 'PMW_ext', 'PLW_ext'], 0.07)"
   ]
  },
  {
   "cell_type": "markdown",
   "id": "ef50b499",
   "metadata": {},
   "source": [
    "### Remove galaxies without energy balance\n",
    "\n",
    "Then, we look for galaxies where the energy balance cannot be well constrained (i.e. galaxies where there is not enough bands in the optical and IR wavelengths)."
   ]
  },
  {
   "cell_type": "code",
   "execution_count": 14,
   "id": "38e6e92b",
   "metadata": {},
   "outputs": [
    {
     "name": "stdout",
     "output_type": "stream",
     "text": [
      "Galaxy NGC  4945 has 15 useful photometry points\n",
      "Galaxy UGC 11680 has 8 useful photometry points\n",
      "Galaxy SWIFT J0624.1-6059 has 8 useful photometry points\n",
      "Galaxy 2C 1066 has 11 useful photometry points\n",
      "Galaxy 3C 343.1 has 7 useful photometry points\n",
      "Galaxy IC 4518A has 14 useful photometry points\n",
      "Galaxy NGC  4395 has 17 useful photometry points\n",
      "Galaxy 3C  22.0 has 15 useful photometry points\n",
      "Galaxy IRAS F00183-7111 has 14 useful photometry points\n",
      "Galaxy [LGE2006] 12 has 12 useful photometry points\n"
     ]
    }
   ],
   "source": [
    "BadGalaxies = []\n",
    "for igal, Lrow in enumerate(CIG):\n",
    "    IRPhotPoints = sum(~np.isnan(list(Lrow.as_void())[22:]))/2  # From WISE to PLW\n",
    "    OpPhotPoints = sum(~np.isnan(list(Lrow.as_void())[2:22]))/2  # From FUV to Ks\n",
    "    if IRPhotPoints < 3 or OpPhotPoints < 5:\n",
    "         print('Galaxy %s has %i useful photometry points' %\n",
    "               (Lrow['id'], IRPhotPoints+OpPhotPoints))\n",
    "         BadGalaxies.append(igal)"
   ]
  },
  {
   "cell_type": "code",
   "execution_count": 15,
   "id": "8f2248b7",
   "metadata": {},
   "outputs": [
    {
     "name": "stdout",
     "output_type": "stream",
     "text": [
      "The total galaxies to remove is 10\n"
     ]
    }
   ],
   "source": [
    "print('The total galaxies to remove is %d'%len(BadGalaxies))"
   ]
  },
  {
   "cell_type": "markdown",
   "id": "15805b38",
   "metadata": {},
   "source": [
    "To complement this information we plot the total photometry points in the `BadGalaxies`."
   ]
  },
  {
   "cell_type": "code",
   "execution_count": 16,
   "id": "2f6b12cb",
   "metadata": {},
   "outputs": [
    {
     "data": {
      "text/plain": [
       "<matplotlib.legend.Legend at 0x7f2b8d31f4f0>"
      ]
     },
     "execution_count": 16,
     "metadata": {},
     "output_type": "execute_result"
    },
    {
     "data": {
      "image/png": "[encoded data removed]",
      "text/plain": [
       "<Figure size 432x288 with 1 Axes>"
      ]
     },
     "metadata": {
      "needs_background": "light"
     },
     "output_type": "display_data"
    }
   ],
   "source": [
    "Tpins = []\n",
    "TpinsIR = []\n",
    "TpinsOp = []\n",
    "for Lrow in CIG[BadGalaxies]:\n",
    "    # All the bad galaxies\n",
    "    Tpins.append(sum(~np.isnan(list(Lrow.as_void())[2:]))/2)\n",
    "    # Galaxies discarded due to IR wavelegnths\n",
    "    TpinsIR.append(sum(~np.isnan(list(Lrow.as_void())[22:]))/2)\n",
    "    # Galaxies discarded due to Opt. wavelengths\n",
    "    TpinsOp.append(sum(~np.isnan(list(Lrow.as_void())[2:22]))/2)\n",
    "plt.hist(Tpins, bins=np.linspace(0, 26, 27), label='Bad Galaxies')\n",
    "plt.hist(TpinsIR, bins=np.linspace(0, 26, 27),\n",
    "         histtype='step', label='Discarded by IR')\n",
    "plt.hist(TpinsOp, bins=np.linspace(0, 26, 27),\n",
    "         histtype='step', label='Discarded by Opt.')\n",
    "plt.ylabel('Number of galaxies')\n",
    "plt.xlabel('Number of bands')\n",
    "plt.legend()"
   ]
  },
  {
   "cell_type": "markdown",
   "id": "04f07add",
   "metadata": {},
   "source": [
    "Most of the `BadGalaxies` are located in a large range of redshifts, mainly affecting galaxies at redshifts above $z=0$. This means that some of these galaxies are not well covered in some of the selected instruments and/or that the photometric values are not well constrained."
   ]
  },
  {
   "cell_type": "code",
   "execution_count": 17,
   "id": "8fd19823",
   "metadata": {},
   "outputs": [
    {
     "data": {
      "text/plain": [
       "<matplotlib.legend.Legend at 0x7f2b8c0e1910>"
      ]
     },
     "execution_count": 17,
     "metadata": {},
     "output_type": "execute_result"
    },
    {
     "data": {
      "image/png": "[encoded data removed]",
      "text/plain": [
       "<Figure size 432x288 with 1 Axes>"
      ]
     },
     "metadata": {
      "needs_background": "light"
     },
     "output_type": "display_data"
    }
   ],
   "source": [
    "Redbins = np.linspace(0, 2, 50)\n",
    "plt.hist(CIG['redshift'], bins=Redbins, label='All galaxies')\n",
    "plt.hist(CIG[BadGalaxies]['redshift'], bins=Redbins, histtype='step', label='Bad Galaxies')\n",
    "plt.xlabel('Redshift')\n",
    "plt.ylabel('Number of galaxies')\n",
    "plt.yscale('log')\n",
    "plt.legend()"
   ]
  },
  {
   "cell_type": "markdown",
   "id": "c0f36f83",
   "metadata": {},
   "source": [
    "We save in a different file those galaxies that do not fulfill the energy balance we want. And then, we removed them from the sample."
   ]
  },
  {
   "cell_type": "code",
   "execution_count": 18,
   "id": "2a49ce8e",
   "metadata": {},
   "outputs": [],
   "source": [
    "CIG[BadGalaxies].write('../Datos/Complementary/CIGPhot_BadEnergyBalance.tbl', format='ascii',overwrite=True)\n",
    "\n",
    "# Remove galaxies with bad energy balance coverage\n",
    "CIG.remove_rows(BadGalaxies)"
   ]
  },
  {
   "cell_type": "markdown",
   "id": "9827b1f3",
   "metadata": {},
   "source": [
    "### Separating galaxies depending on redshift for the CIGALE photometry files\n",
    "\n",
    "With this the sample of galaxies will have a range on redshifts of:"
   ]
  },
  {
   "cell_type": "code",
   "execution_count": 19,
   "id": "0900f33a",
   "metadata": {},
   "outputs": [
    {
     "name": "stdout",
     "output_type": "stream",
     "text": [
      "Min z=-0.00, Max z=0.99 and Median z~0.03\n"
     ]
    }
   ],
   "source": [
    "print(\"Min z=%.2f, Max z=%.2f and Median z~%.2f\"%(\n",
    "    np.min(CIG['redshift']),\n",
    "    np.max(CIG['redshift']),\n",
    "    np.median(CIG['redshift'])))"
   ]
  },
  {
   "cell_type": "markdown",
   "id": "5afe406e",
   "metadata": {},
   "source": [
    "We found that most of our sample are below 𝑧=0.50, with a maximum at 𝑧=1, so we are going to split the galaxies in ten different groups/files to split the CIGALE runs and avoid computational overwork in CIGALE."
   ]
  },
  {
   "cell_type": "code",
   "execution_count": 20,
   "id": "44a4f67b",
   "metadata": {},
   "outputs": [],
   "source": [
    "cnt, zbin = np.histogram(CIG['redshift'], bins=np.linspace(-0.01, 1.0, 100))\n",
    "z_splits = np.percentile(zbin[:-1][cnt > 0], np.linspace(0, 100, 11))\n",
    "z_splits[-1] += 0.01  # To add the last galaxy\n",
    "group_zfile = np.digitize(CIG['redshift'], z_splits)"
   ]
  },
  {
   "cell_type": "code",
   "execution_count": 21,
   "id": "9d123007",
   "metadata": {},
   "outputs": [
    {
     "data": {
      "text/plain": [
       "array([-0.01      ,  0.03488889,  0.07977778,  0.12466667,  0.16955556,\n",
       "        0.21444444,  0.26341414,  0.3960404 ,  0.6470101 ,  0.83064646,\n",
       "        0.98959596])"
      ]
     },
     "execution_count": 21,
     "metadata": {},
     "output_type": "execute_result"
    }
   ],
   "source": [
    "z_splits"
   ]
  },
  {
   "cell_type": "markdown",
   "id": "03fc7778",
   "metadata": {},
   "source": [
    "Now we save the files for each group and count the number of galaxies per group."
   ]
  },
  {
   "cell_type": "code",
   "execution_count": 22,
   "id": "bebd19a6",
   "metadata": {
    "scrolled": true
   },
   "outputs": [
    {
     "name": "stdout",
     "output_type": "stream",
     "text": [
      "Group 1 with 192 galaxies\n",
      "Group 2 with 55 galaxies\n",
      "Group 3 with 20 galaxies\n",
      "Group 4 with 33 galaxies\n",
      "Group 5 with 17 galaxies\n",
      "Group 6 with 11 galaxies\n",
      "Group 7 with 6 galaxies\n",
      "Group 8 with 5 galaxies\n",
      "Group 9 with 5 galaxies\n",
      "Group 10 with 5 galaxies\n"
     ]
    }
   ],
   "source": [
    "csd = 0\n",
    "for i in range(1, max(group_zfile)+1):\n",
    "    csd += len(CIG[group_zfile == i])\n",
    "    print('Group %i with %d galaxies' % (i, len(CIG[group_zfile == i])))\n",
    "    CIG[group_zfile == i].write(path_CIGALE_phot+'CIGPhot_EnergyBal_'+str(i)+'.tbl',\n",
    "                                format='ascii',overwrite=True)\n",
    "assert len(CIG) == csd"
   ]
  },
  {
   "cell_type": "markdown",
   "id": "addc7804",
   "metadata": {},
   "source": [
    "We plot the distribution on redshift, with the bins defined for each final group."
   ]
  },
  {
   "cell_type": "code",
   "execution_count": 23,
   "id": "6ce682de",
   "metadata": {
    "scrolled": true
   },
   "outputs": [
    {
     "data": {
      "text/plain": [
       "Text(0, 0.5, 'Counts')"
      ]
     },
     "execution_count": 23,
     "metadata": {},
     "output_type": "execute_result"
    },
    {
     "data": {
      "image/png": "[encoded data removed]",
      "text/plain": [
       "<Figure size 432x288 with 1 Axes>"
      ]
     },
     "metadata": {
      "needs_background": "light"
     },
     "output_type": "display_data"
    }
   ],
   "source": [
    "plt.hist(CIG['redshift'], bins=z_splits, log=True)\n",
    "plt.xlabel('Redshift')\n",
    "plt.ylabel('Counts')"
   ]
  },
  {
   "cell_type": "markdown",
   "id": "af2f3686",
   "metadata": {},
   "source": [
    "Finally, we also save a file for all the galaxies, as in some cases this file is useful."
   ]
  },
  {
   "cell_type": "code",
   "execution_count": 24,
   "id": "0fd43a39",
   "metadata": {},
   "outputs": [],
   "source": [
    "CIG.write(path_FINAL+'CIGPhot_EnergyBal_All.tbl', format='ascii',overwrite=True)"
   ]
  },
  {
   "cell_type": "code",
   "execution_count": 25,
   "id": "a31efd43",
   "metadata": {},
   "outputs": [
    {
     "data": {
      "text/html": [
       "<div><i>Table length=349</i>\n",
       "<table id=\"table139825029179712\" class=\"table-striped table-bordered table-condensed\">\n",
       "<thead><tr><th>id</th><th>redshift</th><th>FUV</th><th>FUV_err</th><th>NUV</th><th>NUV_err</th><th>u_prime</th><th>u_prime_err</th><th>g_prime</th><th>g_prime_err</th><th>r_prime</th><th>r_prime_err</th><th>i_prime</th><th>i_prime_err</th><th>z_prime</th><th>z_prime_err</th><th>J_2mass</th><th>J_2mass_err</th><th>H_2mass</th><th>H_2mass_err</th><th>Ks_2mass</th><th>Ks_2mass_err</th><th>WISE1</th><th>WISE1_err</th><th>IRAC1</th><th>IRAC1_err</th><th>IRAC2</th><th>IRAC2_err</th><th>WISE2</th><th>WISE2_err</th><th>IRAC3</th><th>IRAC3_err</th><th>IRAC4</th><th>IRAC4_err</th><th>IRAS1</th><th>IRAS1_err</th><th>WISE3</th><th>WISE3_err</th><th>WISE4</th><th>WISE4_err</th><th>MIPS1</th><th>MIPS1_err</th><th>IRAS2</th><th>IRAS2_err</th><th>IRAS3</th><th>IRAS3_err</th><th>PACS_blue</th><th>PACS_blue_err</th><th>MIPS2</th><th>MIPS2_err</th><th>IRAS4</th><th>IRAS4_err</th><th>PACS_green</th><th>PACS_green_err</th><th>MIPS3</th><th>MIPS3_err</th><th>PACS_red</th><th>PACS_red_err</th><th>PSW_ext</th><th>PSW_ext_err</th><th>PMW_ext</th><th>PMW_ext_err</th><th>PLW_ext</th><th>PLW_ext_err</th></tr></thead>\n",
       "<thead><tr><th>object</th><th>float64</th><th>float64</th><th>float64</th><th>float64</th><th>float64</th><th>float64</th><th>float64</th><th>float64</th><th>float64</th><th>float64</th><th>float64</th><th>float64</th><th>float64</th><th>float64</th><th>float64</th><th>float64</th><th>float64</th><th>float64</th><th>float64</th><th>float64</th><th>float64</th><th>float64</th><th>float64</th><th>float64</th><th>float64</th><th>float64</th><th>float64</th><th>float64</th><th>float64</th><th>float64</th><th>float64</th><th>float64</th><th>float64</th><th>float64</th><th>float64</th><th>float64</th><th>float64</th><th>float64</th><th>float64</th><th>float64</th><th>float64</th><th>float64</th><th>float64</th><th>float64</th><th>float64</th><th>float64</th><th>float64</th><th>float64</th><th>float64</th><th>float64</th><th>float64</th><th>float64</th><th>float64</th><th>float64</th><th>float64</th><th>float64</th><th>float64</th><th>float64</th><th>float64</th><th>float64</th><th>float64</th><th>float64</th><th>float64</th></tr></thead>\n",
       "<tr><td>3C 234.0</td><td>0.18494</td><td>0.10159999801544473</td><td>0.015652477</td><td>0.07938000198919326</td><td>0.007938000198919326</td><td>0.12168760283278365</td><td>0.004588063170048556</td><td>0.19911266922463255</td><td>0.003982253384492651</td><td>0.46338666991990374</td><td>0.009870157999999999</td><td>0.5747533335428064</td><td>0.01403923</td><td>0.604496665497815</td><td>0.016634980329802016</td><td>2.0773333342125015</td><td>0.61318843</td><td>nan</td><td>nan</td><td>5.038461468827267</td><td>0.6604544</td><td>11.51666669199864</td><td>0.6910000015199184</td><td>14.700000000000001</td><td>0.441</td><td>25.4</td><td>0.7619999999999999</td><td>24.97916678947707</td><td>1.4987500073686242</td><td>42.7</td><td>1.2810000000000001</td><td>nan</td><td>nan</td><td>160.0</td><td>28.8</td><td>115.22500169277191</td><td>6.9135001015663144</td><td>289.92499858140945</td><td>17.395499914884567</td><td>274.5</td><td>10.98</td><td>258.0</td><td>35.2</td><td>231.0</td><td>36.900000000000006</td><td>nan</td><td>nan</td><td>nan</td><td>nan</td><td>nan</td><td>nan</td><td>nan</td><td>nan</td><td>nan</td><td>nan</td><td>nan</td><td>nan</td><td>nan</td><td>nan</td><td>nan</td><td>nan</td><td>nan</td><td>nan</td></tr>\n",
       "<tr><td>M  84</td><td>0.00327</td><td>0.7200916729404949</td><td>0.1616562275281175</td><td>3.0804883431037724</td><td>0.7012790154585334</td><td>168.0749986730516</td><td>16.887911442660073</td><td>276.86499935186777</td><td>8.58330425911389</td><td>546.3376212349783</td><td>24.454584718653074</td><td>457.6099968398921</td><td>56.28791708861703</td><td>721.0112630273215</td><td>147.3731</td><td>nan</td><td>nan</td><td>1214.1266842683156</td><td>209.51718</td><td>763.1357269627707</td><td>168.03016000000002</td><td>457.67308149429465</td><td>32.201410809852725</td><td>412.5</td><td>80.67775406728666</td><td>175.06666666666666</td><td>46.30000003142013</td><td>304.27307501664524</td><td>28.8284003110999</td><td>111.39999999999999</td><td>28.400000794480626</td><td>105.875</td><td>19.01195749471895</td><td>178.12500163912776</td><td>43.31584441972735</td><td>44.0</td><td>2.6399999999999997</td><td>36.1</td><td>2.166</td><td>58.58750036656857</td><td>8.180516190215688</td><td>184.99999928474426</td><td>53.66192586742391</td><td>484.91666493813193</td><td>77.27167578899156</td><td>nan</td><td>nan</td><td>596.999993165334</td><td>47.39989549402087</td><td>1002.9166744152707</td><td>285.8325629105615</td><td>2390.0000351667404</td><td>411.0887763635612</td><td>586.833343664805</td><td>78.71308679278323</td><td>4257.249997138977</td><td>852.0699480349735</td><td>239.83333381017047</td><td>27.249816016755506</td><td>139.66666730244955</td><td>9.776666711171469</td><td>125.24999998509884</td><td>11.006361529497669</td></tr>\n",
       "<tr><td>2MASS J13000535+1632148</td><td>0.07993</td><td>nan</td><td>nan</td><td>0.024666666528598096</td><td>0.005960704</td><td>0.21484999888343737</td><td>0.016248076889447016</td><td>0.8364499924937263</td><td>0.018411953325684707</td><td>2.232700002787169</td><td>0.08780091509073495</td><td>3.4850151430212217</td><td>0.06970030286042443</td><td>5.616999889025465</td><td>0.1123399977805093</td><td>4.738888832637006</td><td>0.6480741</td><td>7.277777754805154</td><td>1.1301769</td><td>11.521249893121421</td><td>1.1670904000000002</td><td>25.551666749812043</td><td>1.5331000049887225</td><td>nan</td><td>nan</td><td>nan</td><td>nan</td><td>41.49033305126552</td><td>2.489419983075931</td><td>nan</td><td>nan</td><td>nan</td><td>nan</td><td>nan</td><td>nan</td><td>90.7500009417534</td><td>5.4450000565052035</td><td>173.89583517362672</td><td>10.433750110417604</td><td>148.0</td><td>5.92</td><td>nan</td><td>nan</td><td>nan</td><td>nan</td><td>nan</td><td>nan</td><td>68.9999982714653</td><td>7.3999999999999995</td><td>nan</td><td>nan</td><td>nan</td><td>nan</td><td>nan</td><td>nan</td><td>nan</td><td>nan</td><td>nan</td><td>nan</td><td>nan</td><td>nan</td><td>nan</td><td>nan</td></tr>\n",
       "<tr><td>NGC   262</td><td>0.015260233939595302</td><td>0.19701666860040276</td><td>0.019701666860040278</td><td>0.4016666728500277</td><td>0.040166667285002775</td><td>2.6366666425019503</td><td>0.05385164700000001</td><td>3.7700000684708357</td><td>0.15</td><td>7.50999990850687</td><td>0.1501999981701374</td><td>18.175000130819775</td><td>0.36350000261639553</td><td>27.443333878181875</td><td>0.5488666775636375</td><td>22.31999970972538</td><td>3.3421551</td><td>27.833333487311997</td><td>5.723635000000001</td><td>25.73846194606561</td><td>5.1643</td><td>55.02166668723027</td><td>3.301300001233816</td><td>47.00000040233135</td><td>2.8112497220986965</td><td>74.2</td><td>5.47</td><td>90.8333339681228</td><td>5.450000038087368</td><td>98.3</td><td>5.43</td><td>180.0</td><td>6.630000000000001</td><td>309.0000011920929</td><td>26.213736908964584</td><td>276.3888912068473</td><td>16.583333472410835</td><td>674.9166642824808</td><td>40.49499985694885</td><td>nan</td><td>nan</td><td>837.4999868869781</td><td>18.742731454039056</td><td>1289.9999809265137</td><td>102.78132229848099</td><td>808.0000281333923</td><td>80.80000281333923</td><td>nan</td><td>nan</td><td>1549.999976158142</td><td>173.49424335828328</td><td>nan</td><td>nan</td><td>nan</td><td>nan</td><td>995.0000047683716</td><td>99.50000047683716</td><td>1330.0000429153442</td><td>179.99999999999997</td><td>711.0000252723694</td><td>110.0</td><td>nan</td><td>nan</td></tr>\n",
       "<tr><td>IRAS 04385-0828</td><td>0.015064</td><td>nan</td><td>nan</td><td>nan</td><td>nan</td><td>nan</td><td>nan</td><td>1.0020000190706924</td><td>0.042898135157603295</td><td>2.343500091228634</td><td>0.05119570294468082</td><td>3.5649999044835567</td><td>0.23547823678633234</td><td>1.8400000408291817</td><td>0.06999999999999999</td><td>8.709166664630175</td><td>1.4260084</td><td>13.528333200762669</td><td>2.5786043</td><td>18.809090283784002</td><td>2.3345235</td><td>52.93939418241833</td><td>3.1763636509451</td><td>53.900000000000006</td><td>4.790763050913705</td><td>109.0</td><td>6.04</td><td>120.56666661302248</td><td>7.233999996781348</td><td>174.00000000000003</td><td>8.09781729850705</td><td>356.0</td><td>10.68</td><td>435.99999845027924</td><td>28.20017730440715</td><td>369.03333534797036</td><td>22.142000120878222</td><td>1267.888901895947</td><td>76.07333411375681</td><td>1320.0</td><td>52.800000000000004</td><td>1644.9999785423279</td><td>66.2386782778763</td><td>2860.000023841858</td><td>174.45343218177163</td><td>nan</td><td>nan</td><td>nan</td><td>nan</td><td>2335.000052452087</td><td>242.0743687382041</td><td>nan</td><td>nan</td><td>nan</td><td>nan</td><td>nan</td><td>nan</td><td>nan</td><td>nan</td><td>nan</td><td>nan</td><td>nan</td><td>nan</td></tr>\n",
       "<tr><td>IC 4553</td><td>0.0184</td><td>0.08233333452759932</td><td>0.017320508</td><td>0.35633333027362823</td><td>0.035633333027362823</td><td>2.0955496549475456</td><td>0.0728135229014936</td><td>6.090174537533597</td><td>0.3017479542278017</td><td>10.203299961905577</td><td>0.45885156113330616</td><td>25.357447133682115</td><td>0.699984046105662</td><td>37.41616512504118</td><td>1.01727021360551</td><td>46.18781277291709</td><td>3.391268264994123</td><td>54.43269227198683</td><td>4.256410018438741</td><td>57.573076945084786</td><td>3.663413870865398</td><td>36.39090893742713</td><td>2.216947443340417</td><td>nan</td><td>nan</td><td>nan</td><td>nan</td><td>35.643181868574835</td><td>2.13859091211449</td><td>nan</td><td>nan</td><td>nan</td><td>nan</td><td>569.9999957680701</td><td>28.655889299425</td><td>468.1999985575676</td><td>28.091999913454053</td><td>4932.500047683716</td><td>295.95000286102294</td><td>5550.000190734863</td><td>510.0</td><td>7929.16664759318</td><td>202.96899033146718</td><td>103833.33333333334</td><td>2883.391232559328</td><td>139000.0</td><td>13900.0</td><td>75000.0</td><td>7500.0</td><td>112833.33333333334</td><td>2259.357928704525</td><td>nan</td><td>nan</td><td>54900.001525878906</td><td>6700.0</td><td>86300.0</td><td>8630.0</td><td>30500.0</td><td>2436.4728605096343</td><td>12250.0</td><td>999.9999999999999</td><td>3885.0</td><td>312.4099870362662</td></tr>\n",
       "<tr><td>NGC  5252</td><td>0.02294</td><td>0.15100000018719584</td><td>0.02078461</td><td>0.14920000226432456</td><td>0.014920000226432457</td><td>2.4221083604061278</td><td>0.12489996</td><td>10.06999984383583</td><td>0.21569654610122987</td><td>22.69034634250252</td><td>0.45380692685005036</td><td>38.05416667213043</td><td>0.7610833334426086</td><td>50.888884971545146</td><td>1.017777699430903</td><td>24.9461536653913</td><td>3.9893608</td><td>32.89230762479397</td><td>5.4074023</td><td>19.930000323802233</td><td>3.8678157</td><td>61.28888949751854</td><td>3.6986483999999997</td><td>nan</td><td>nan</td><td>nan</td><td>nan</td><td>71.93333490027322</td><td>4.316000094016394</td><td>nan</td><td>nan</td><td>nan</td><td>nan</td><td>nan</td><td>nan</td><td>84.01428588799068</td><td>5.040857153279441</td><td>135.87500527501106</td><td>8.485282</td><td>nan</td><td>nan</td><td>nan</td><td>nan</td><td>560.0000023841858</td><td>70.0</td><td>340.9999907016754</td><td>34.09999907016754</td><td>nan</td><td>nan</td><td>1700.0000476837158</td><td>190.0</td><td>nan</td><td>nan</td><td>nan</td><td>nan</td><td>298.0000078678131</td><td>30.0</td><td>395.00001072883606</td><td>45.96194077712559</td><td>nan</td><td>nan</td><td>nan</td><td>nan</td></tr>\n",
       "<tr><td>Mrk  279</td><td>0.030601</td><td>3.8799999747425318</td><td>0.3879999974742532</td><td>4.335000179708004</td><td>0.4335000179708004</td><td>nan</td><td>nan</td><td>3.864999976940453</td><td>0.2707397274136177</td><td>4.944250023982022</td><td>0.3246956265769567</td><td>7.324999896809459</td><td>0.4887228253314961</td><td>5.289999768137932</td><td>0.8</td><td>23.87647034929079</td><td>2.2472206</td><td>36.970587995122465</td><td>3.0708306</td><td>48.620000233252846</td><td>3.6304267</td><td>23.49090921309861</td><td>1.4094545527859166</td><td>51.9</td><td>1.557</td><td>62.6</td><td>1.878</td><td>30.095454471626066</td><td>1.8057272682975638</td><td>79.19999999999999</td><td>2.3759999999999994</td><td>113.0</td><td>3.3899999999999997</td><td>nan</td><td>nan</td><td>133.83333113458423</td><td>8.029999868075054</td><td>359.33333081669275</td><td>21.559999849001564</td><td>nan</td><td>nan</td><td>nan</td><td>nan</td><td>1260.0</td><td>62.8</td><td>851.9999980926514</td><td>85.19999980926514</td><td>nan</td><td>nan</td><td>2200.0</td><td>154.0</td><td>nan</td><td>nan</td><td>nan</td><td>nan</td><td>822.0000267028809</td><td>82.20000267028809</td><td>342.00000762939453</td><td>23.94000053405762</td><td>131.99999928474426</td><td>10.0</td><td>nan</td><td>nan</td></tr>\n",
       "<tr><td>LEDA   45656</td><td>0.15434</td><td>1.5462500450666994</td><td>0.15462500450666994</td><td>1.3824999914504588</td><td>0.13824999914504588</td><td>2.2646428385217274</td><td>0.06652067765928125</td><td>2.052884589200123</td><td>0.0526782667305304</td><td>2.071785698977432</td><td>0.05267826983057868</td><td>3.2339285743156716</td><td>0.06964194170899689</td><td>2.3884615466858334</td><td>0.04776923093371667</td><td>3.440000031045393</td><td>0.43104525</td><td>4.307368549665338</td><td>0.6432729</td><td>7.202500069979578</td><td>0.84308954</td><td>9.212222084469266</td><td>0.552733325068156</td><td>9.669999592006207</td><td>0.2900999877601862</td><td>12.600000016391277</td><td>0.3780000004917383</td><td>13.189999919136365</td><td>0.7913999951481819</td><td>nan</td><td>nan</td><td>nan</td><td>nan</td><td>nan</td><td>nan</td><td>30.40666672637065</td><td>1.8244000035822387</td><td>73.09285679374422</td><td>4.48490777538279</td><td>68.50000006556512</td><td>2.7400000026226046</td><td>nan</td><td>nan</td><td>nan</td><td>nan</td><td>51.30000039935112</td><td>5.130000039935112</td><td>86.30000054836273</td><td>9.2</td><td>nan</td><td>nan</td><td>54.20000106096268</td><td>5.420000106096268</td><td>nan</td><td>nan</td><td>44.70000043511391</td><td>6.0</td><td>nan</td><td>nan</td><td>nan</td><td>nan</td><td>nan</td><td>nan</td></tr>\n",
       "<tr><td>Mrk 1239</td><td>0.019596890592891433</td><td>nan</td><td>nan</td><td>nan</td><td>nan</td><td>1.660555549379852</td><td>0.03321111098759704</td><td>4.4900000328198075</td><td>0.12196310279205608</td><td>8.498888837897944</td><td>0.1699777767579589</td><td>8.542500087060034</td><td>1.0407930653922626</td><td>7.040000054985285</td><td>0.1408000010997057</td><td>22.426666567722958</td><td>2.6153394</td><td>46.36666725079218</td><td>5.7593402</td><td>88.75000210744994</td><td>7.7298124999999995</td><td>180.333331671026</td><td>10.81999990026156</td><td>234.0</td><td>8.61</td><td>277.0</td><td>10.200000000000001</td><td>260.79999935626984</td><td>15.64799996137619</td><td>344.0</td><td>10.32</td><td>500.0</td><td>15.0</td><td>675.4999876022339</td><td>47.64779638136479</td><td>538.44445432557</td><td>32.306667259534194</td><td>924.9374898076057</td><td>55.49624938845634</td><td>nan</td><td>nan</td><td>1175.000019073486</td><td>59.51942960076146</td><td>1369.9999833106995</td><td>84.18580640464282</td><td>nan</td><td>nan</td><td>nan</td><td>nan</td><td>1070.0000524520874</td><td>240.0</td><td>nan</td><td>nan</td><td>nan</td><td>nan</td><td>nan</td><td>nan</td><td>nan</td><td>nan</td><td>nan</td><td>nan</td><td>nan</td><td>nan</td></tr>\n",
       "<tr><td>...</td><td>...</td><td>...</td><td>...</td><td>...</td><td>...</td><td>...</td><td>...</td><td>...</td><td>...</td><td>...</td><td>...</td><td>...</td><td>...</td><td>...</td><td>...</td><td>...</td><td>...</td><td>...</td><td>...</td><td>...</td><td>...</td><td>...</td><td>...</td><td>...</td><td>...</td><td>...</td><td>...</td><td>...</td><td>...</td><td>...</td><td>...</td><td>...</td><td>...</td><td>...</td><td>...</td><td>...</td><td>...</td><td>...</td><td>...</td><td>...</td><td>...</td><td>...</td><td>...</td><td>...</td><td>...</td><td>...</td><td>...</td><td>...</td><td>...</td><td>...</td><td>...</td><td>...</td><td>...</td><td>...</td><td>...</td><td>...</td><td>...</td><td>...</td><td>...</td><td>...</td><td>...</td><td>...</td><td>...</td></tr>\n",
       "<tr><td>2MASS J10434845+5811477</td><td>0.07317</td><td>nan</td><td>nan</td><td>0.029475000246748095</td><td>0.008501765</td><td>0.12728571476015663</td><td>0.009746794999999999</td><td>0.43485714455268215</td><td>0.008697142891053644</td><td>0.8641428638449205</td><td>0.01728285727689841</td><td>1.3247143028170936</td><td>0.02649428605634187</td><td>1.6561428450846247</td><td>0.034770677</td><td>1.5526666926840942</td><td>0.40890096</td><td>1.9426666510601838</td><td>0.6198387</td><td>1.804285732630108</td><td>0.5081338</td><td>1.4343750032759273</td><td>0.08606250019655563</td><td>1.117</td><td>0.03351</td><td>0.8985</td><td>0.026954999999999996</td><td>1.1225000043420328</td><td>0.06735000026052196</td><td>0.909</td><td>0.02727</td><td>2.255</td><td>0.06764999999999999</td><td>nan</td><td>nan</td><td>2.8357142867307576</td><td>0.25806055364935593</td><td>4.969047619452079</td><td>1.5890516414586917</td><td>5.990833415538073</td><td>0.23963333662152292</td><td>nan</td><td>nan</td><td>nan</td><td>nan</td><td>nan</td><td>nan</td><td>0.0473000000056345</td><td>0.00189200000022538</td><td>nan</td><td>nan</td><td>nan</td><td>nan</td><td>nan</td><td>nan</td><td>nan</td><td>nan</td><td>32.90000185370445</td><td>2.3030001297593117</td><td>8.00000037997961</td><td>1.8</td><td>nan</td><td>nan</td></tr>\n",
       "<tr><td>NGC  3081</td><td>0.008039522026415113</td><td>nan</td><td>nan</td><td>2.9899999499320984</td><td>0.29899999499320984</td><td>0.6319999811239541</td><td>0.05</td><td>20.949999801814556</td><td>1.7720045146669352</td><td>27.29999925941229</td><td>2.326478024826369</td><td>30.899999663233757</td><td>2.621545345783666</td><td>30.99999949336052</td><td>4.8999999999999995</td><td>nan</td><td>nan</td><td>47.91083345965793</td><td>8.567381000000001</td><td>40.990000404417515</td><td>6.536054</td><td>50.06212132916306</td><td>3.003727279749784</td><td>24.35</td><td>0.7305</td><td>59.09999874830246</td><td>1.7729999624490738</td><td>45.050000209158114</td><td>2.7030000125494866</td><td>93.70000166893006</td><td>4.500210417302729</td><td>201.00000500679016</td><td>7.0</td><td>nan</td><td>nan</td><td>262.1833339234193</td><td>15.731000035405158</td><td>922.4500019550323</td><td>55.34700011730194</td><td>785.25</td><td>31.41</td><td>nan</td><td>nan</td><td>nan</td><td>nan</td><td>2660.0000858306885</td><td>266.00000858306885</td><td>nan</td><td>nan</td><td>nan</td><td>nan</td><td>nan</td><td>nan</td><td>nan</td><td>nan</td><td>3990.000009536743</td><td>399.0000009536743</td><td>2439.9999380111694</td><td>170.7999956607819</td><td>1090.000033378601</td><td>77.78174593052023</td><td>451.00000500679016</td><td>56.87486335899214</td></tr>\n",
       "<tr><td>NGC  4507</td><td>0.011907072576889943</td><td>nan</td><td>nan</td><td>nan</td><td>nan</td><td>1.180000021122396</td><td>0.02360000042244792</td><td>9.30000003427267</td><td>0.25455844122715715</td><td>19.049999304115772</td><td>0.38099998608231544</td><td>28.649999760091305</td><td>1.4849242404917498</td><td>17.30000041425228</td><td>0.8</td><td>46.19199962665637</td><td>5.485682000000001</td><td>71.10769187028592</td><td>9.97998</td><td>71.70909135179086</td><td>7.4370694</td><td>112.3750004346172</td><td>6.742500026077032</td><td>92.1</td><td>2.763</td><td>101.6</td><td>3.0479999999999996</td><td>162.85897384087244</td><td>9.771538430452345</td><td>225.5</td><td>6.765</td><td>301.0</td><td>9.03</td><td>472.9999957084656</td><td>49.47537266155759</td><td>527.1060583952701</td><td>31.626363503716206</td><td>1426.212125113516</td><td>85.57272750681096</td><td>1330.0</td><td>53.2</td><td>1449.9999833106995</td><td>140.36513990304005</td><td>4539.999961853027</td><td>471.1456781081622</td><td>4389.999866485596</td><td>438.99998664855957</td><td>nan</td><td>nan</td><td>5719.999952316284</td><td>662.6024449094646</td><td>nan</td><td>nan</td><td>nan</td><td>nan</td><td>4679.999828338623</td><td>467.9999828338623</td><td>2690.000057220459</td><td>188.30000400543216</td><td>1120.0000047683716</td><td>78.40000033378602</td><td>423.0000078678131</td><td>29.61000055074692</td></tr>\n",
       "<tr><td>2XMM J115657.8+550820</td><td>0.0798</td><td>nan</td><td>nan</td><td>nan</td><td>nan</td><td>0.16883333228179254</td><td>0.009420721403884365</td><td>0.852499992712789</td><td>0.01704999985425578</td><td>1.7741666888468899</td><td>0.0354833337769378</td><td>2.6583333310554735</td><td>0.05316666662110947</td><td>3.4969166954397224</td><td>0.06993833390879445</td><td>1.9262499699834734</td><td>0.4313931</td><td>2.153749985154718</td><td>0.6361604</td><td>1.9687500462168828</td><td>0.59228373</td><td>1.8311904895562856</td><td>0.10987142937337713</td><td>nan</td><td>nan</td><td>0.9125</td><td>0.027375</td><td>1.2943749895575458</td><td>0.07766249937345275</td><td>nan</td><td>nan</td><td>2.0500000000000003</td><td>0.061500000000000006</td><td>nan</td><td>nan</td><td>2.850000022444874</td><td>0.1969682717839909</td><td>11.533333492403228</td><td>1.5058443513526356</td><td>10.833333333333334</td><td>0.43333333333333335</td><td>nan</td><td>nan</td><td>nan</td><td>nan</td><td>nan</td><td>nan</td><td>nan</td><td>nan</td><td>nan</td><td>nan</td><td>nan</td><td>nan</td><td>nan</td><td>nan</td><td>nan</td><td>nan</td><td>nan</td><td>nan</td><td>nan</td><td>nan</td><td>nan</td><td>nan</td></tr>\n",
       "<tr><td>2MASX J00215355-7910077</td><td>0.072724</td><td>nan</td><td>nan</td><td>nan</td><td>nan</td><td>nan</td><td>nan</td><td>0.775500011513941</td><td>0.0316227766016838</td><td>1.191499992273748</td><td>0.0741636703514598</td><td>2.041000028839335</td><td>0.058309518948453</td><td>0.9260000078938901</td><td>0.11</td><td>2.884545479901135</td><td>0.7396621</td><td>nan</td><td>nan</td><td>6.590833285978685</td><td>1.4749915999999998</td><td>26.227777828938432</td><td>1.573666669736306</td><td>nan</td><td>nan</td><td>nan</td><td>nan</td><td>60.66111145350668</td><td>3.6396666872104007</td><td>nan</td><td>nan</td><td>nan</td><td>nan</td><td>284.99999886751175</td><td>29.833746044756513</td><td>246.16666516164938</td><td>14.769999909698962</td><td>938.8541683952014</td><td>56.33125010371209</td><td>928.0</td><td>37.12</td><td>1165.0000035762787</td><td>56.17653284422692</td><td>3124.999988079071</td><td>182.8421435678944</td><td>nan</td><td>nan</td><td>nan</td><td>nan</td><td>2839.9999713897705</td><td>196.3415354093219</td><td>nan</td><td>nan</td><td>nan</td><td>nan</td><td>nan</td><td>nan</td><td>nan</td><td>nan</td><td>nan</td><td>nan</td><td>nan</td><td>nan</td></tr>\n",
       "<tr><td>NGC  3783</td><td>0.009755296525549184</td><td>nan</td><td>nan</td><td>nan</td><td>nan</td><td>6.850000005215406</td><td>1.2</td><td>14.050000347197056</td><td>1.0606601717798212</td><td>25.649999268352985</td><td>1.1672617529928753</td><td>31.149999238550663</td><td>1.9091883092036783</td><td>14.399999752640724</td><td>1.1</td><td>48.27999947592616</td><td>6.732013500000001</td><td>68.51428463345482</td><td>12.573781999999998</td><td>84.25555709335539</td><td>10.55462</td><td>145.64966756664217</td><td>8.73898005399853</td><td>113.9999989271164</td><td>7.500034246755145</td><td>111.99999999999999</td><td>3.3599999999999994</td><td>197.10714195455822</td><td>11.826428517273493</td><td>208.5</td><td>6.255</td><td>nan</td><td>nan</td><td>840.0</td><td>58.8</td><td>641.791661977768</td><td>38.507499718666075</td><td>1969.9999940395355</td><td>118.19999964237212</td><td>1599.9999999999998</td><td>63.99999999999999</td><td>2490.0</td><td>50.4</td><td>3260.0</td><td>195.0</td><td>3049.999952316284</td><td>304.9999952316284</td><td>nan</td><td>nan</td><td>4900.0</td><td>539.0</td><td>nan</td><td>nan</td><td>nan</td><td>nan</td><td>4489.999771118164</td><td>448.9999771118164</td><td>2859.999895095825</td><td>200.1999926567078</td><td>1190.000057220459</td><td>83.30000400543214</td><td>402.0000100135803</td><td>35.355339059327385</td></tr>\n",
       "<tr><td>NGC  3982</td><td>0.00371</td><td>nan</td><td>nan</td><td>11.633333129187426</td><td>1.1633333129187426</td><td>40.23333452641964</td><td>1.2206555</td><td>39.1592852372144</td><td>1.1301549141731742</td><td>68.61555605428293</td><td>1.52519673897053</td><td>51.988999429158866</td><td>2.4772869356603184</td><td>102.58000235383709</td><td>5.6571728</td><td>nan</td><td>nan</td><td>59.971428010612726</td><td>7.211103</td><td>49.614284919308766</td><td>6.93109</td><td>39.41666656479691</td><td>2.364999993887815</td><td>69.74999868869781</td><td>2.527256417540571</td><td>43.206665105024975</td><td>1.7844088870267374</td><td>24.85666692542533</td><td>1.5728339907080975</td><td>149.753331545194</td><td>16.153287410384923</td><td>281.2816626135508</td><td>11.29834296303666</td><td>503.66665683190035</td><td>28.99206705182644</td><td>194.63636469028214</td><td>12.259943565042416</td><td>504.60606037847924</td><td>30.276363622708754</td><td>464.24999356269836</td><td>18.569999742507935</td><td>898.3333399295808</td><td>45.643075652975284</td><td>7091.666634877523</td><td>408.1265135255519</td><td>nan</td><td>nan</td><td>9220.000267028809</td><td>920.0</td><td>16400.00006357829</td><td>1013.0021213448186</td><td>16500.0</td><td>1650.0</td><td>14399.999618530273</td><td>1700.0</td><td>17400.0</td><td>1740.0</td><td>7434.999942779541</td><td>520.4499959945679</td><td>3099.9999046325684</td><td>216.9999933242798</td><td>1110.0000143051147</td><td>134.53624</td></tr>\n",
       "<tr><td>PSCz Q18368+3549</td><td>0.11617</td><td>nan</td><td>nan</td><td>nan</td><td>nan</td><td>nan</td><td>nan</td><td>0.0670000008540228</td><td>0.0031999999999999997</td><td>0.06970000049477676</td><td>0.0041484936</td><td>0.21100000594742596</td><td>0.004220000118948519</td><td>0.2500000118743628</td><td>0.009000000000000001</td><td>1.6144444364019568</td><td>0.3268027</td><td>2.2477777804144554</td><td>0.4565085</td><td>2.7890000492334366</td><td>0.5341348600000001</td><td>3.4968749780068173</td><td>0.20981249868040902</td><td>nan</td><td>nan</td><td>nan</td><td>nan</td><td>2.899999993054403</td><td>0.17399999958326418</td><td>nan</td><td>nan</td><td>nan</td><td>nan</td><td>nan</td><td>nan</td><td>17.812500292062758</td><td>1.0687500175237654</td><td>49.296428120562005</td><td>2.95778568723372</td><td>nan</td><td>nan</td><td>nan</td><td>nan</td><td>2230.000009536743</td><td>93.34880824091972</td><td>nan</td><td>nan</td><td>nan</td><td>nan</td><td>3829.9999618530273</td><td>190.21303845951257</td><td>nan</td><td>nan</td><td>nan</td><td>nan</td><td>nan</td><td>nan</td><td>nan</td><td>nan</td><td>nan</td><td>nan</td><td>nan</td><td>nan</td></tr>\n",
       "<tr><td>Mrk  622</td><td>0.02335</td><td>0.0826666655484587</td><td>0.016108072999999997</td><td>0.24500000290572643</td><td>0.024500000290572643</td><td>1.3283333236662052</td><td>0.026566666473324105</td><td>4.473666668248673</td><td>0.1415097292814975</td><td>7.739166703282131</td><td>0.20802643845091667</td><td>6.991249916609377</td><td>0.21627528766904092</td><td>3.6100000143051147</td><td>0.12999999999999998</td><td>11.194166804974278</td><td>1.8668958</td><td>14.058333433543643</td><td>2.5670996</td><td>12.791666823128859</td><td>1.9899749000000002</td><td>13.033333379899462</td><td>0.7820000027939676</td><td>nan</td><td>nan</td><td>nan</td><td>nan</td><td>12.18500002287328</td><td>0.7311000013723968</td><td>nan</td><td>nan</td><td>nan</td><td>nan</td><td>nan</td><td>nan</td><td>77.95416671807567</td><td>4.67725000308454</td><td>362.5000025365087</td><td>21.75000015219052</td><td>nan</td><td>nan</td><td>405.0</td><td>22.5</td><td>1280.0</td><td>76.89999999999999</td><td>nan</td><td>nan</td><td>nan</td><td>nan</td><td>1430.0</td><td>186.0</td><td>nan</td><td>nan</td><td>nan</td><td>nan</td><td>nan</td><td>nan</td><td>nan</td><td>nan</td><td>nan</td><td>nan</td><td>nan</td><td>nan</td></tr>\n",
       "<tr><td>2MASX J14323249+3406257</td><td>0.0424</td><td>0.0379999995251031</td><td>0.010861860000000001</td><td>0.0668333304929547</td><td>0.010045894999999999</td><td>0.26866666545781</td><td>0.0122474485</td><td>0.6438333269519111</td><td>0.012876666539038222</td><td>0.29600001289509237</td><td>0.01</td><td>1.3414999848464504</td><td>0.026829999696929008</td><td>1.6576666724480067</td><td>0.039293764999999994</td><td>1.1323333342766597</td><td>0.32319964</td><td>nan</td><td>nan</td><td>nan</td><td>nan</td><td>1.0099375038070137</td><td>0.06059625022842082</td><td>nan</td><td>nan</td><td>nan</td><td>nan</td><td>0.6784166647129848</td><td>0.040704999882779085</td><td>0.6045</td><td>0.018135000000000002</td><td>1.74</td><td>0.052199999999999996</td><td>nan</td><td>nan</td><td>2.388333314067374</td><td>0.16487495138901148</td><td>10.47333330353101</td><td>1.3078861419764805</td><td>10.450000000000001</td><td>0.41800000000000004</td><td>nan</td><td>nan</td><td>nan</td><td>nan</td><td>nan</td><td>nan</td><td>nan</td><td>nan</td><td>nan</td><td>nan</td><td>nan</td><td>nan</td><td>nan</td><td>nan</td><td>nan</td><td>nan</td><td>36.29999980330467</td><td>2.5409999862313275</td><td>19.899999722838402</td><td>1.3929999805986883</td><td>8.700000122189522</td><td>1.5</td></tr>\n",
       "</table></div>"
      ],
      "text/plain": [
       "<Table length=349>\n",
       "           id                 redshift       ...    PLW_ext_err    \n",
       "         object               float64        ...      float64      \n",
       "----------------------- -------------------- ... ------------------\n",
       "               3C 234.0              0.18494 ...                nan\n",
       "                  M  84              0.00327 ... 11.006361529497669\n",
       "2MASS J13000535+1632148              0.07993 ...                nan\n",
       "              NGC   262 0.015260233939595302 ...                nan\n",
       "        IRAS 04385-0828             0.015064 ...                nan\n",
       "                IC 4553               0.0184 ...  312.4099870362662\n",
       "              NGC  5252              0.02294 ...                nan\n",
       "               Mrk  279             0.030601 ...                nan\n",
       "           LEDA   45656              0.15434 ...                nan\n",
       "               Mrk 1239 0.019596890592891433 ...                nan\n",
       "                    ...                  ... ...                ...\n",
       "2MASS J10434845+5811477              0.07317 ...                nan\n",
       "              NGC  3081 0.008039522026415113 ...  56.87486335899214\n",
       "              NGC  4507 0.011907072576889943 ...  29.61000055074692\n",
       "  2XMM J115657.8+550820               0.0798 ...                nan\n",
       "2MASX J00215355-7910077             0.072724 ...                nan\n",
       "              NGC  3783 0.009755296525549184 ... 35.355339059327385\n",
       "              NGC  3982              0.00371 ...          134.53624\n",
       "       PSCz Q18368+3549              0.11617 ...                nan\n",
       "               Mrk  622              0.02335 ...                nan\n",
       "2MASX J14323249+3406257               0.0424 ...                1.5"
      ]
     },
     "execution_count": 25,
     "metadata": {},
     "output_type": "execute_result"
    }
   ],
   "source": [
    "CIG"
   ]
  },
  {
   "cell_type": "markdown",
   "id": "a1cd5c7e",
   "metadata": {},
   "source": [
    "### Notebook info:"
   ]
  },
  {
   "cell_type": "code",
   "execution_count": 26,
   "id": "6966091c",
   "metadata": {},
   "outputs": [
    {
     "name": "stdout",
     "output_type": "stream",
     "text": [
      "Author: Jonhatan Bernal\n",
      "\n",
      "Python implementation: CPython\n",
      "Python version       : 3.9.7\n",
      "IPython version      : 8.2.0\n",
      "\n",
      "Compiler    : GCC 7.5.0\n",
      "OS          : Linux\n",
      "Release     : 5.13.0-40-generic\n",
      "Machine     : x86_64\n",
      "Processor   : x86_64\n",
      "CPU cores   : 8\n",
      "Architecture: 64bit\n",
      "\n",
      "Specific Python packages\n",
      "astropy: 5.0\n",
      "\n",
      "astropy   : 5.0\n",
      "matplotlib: 3.5.0\n",
      "numpy     : 1.20.3\n",
      "\n",
      "Watermark: 2.3.0\n",
      "\n"
     ]
    }
   ],
   "source": [
    "%reload_ext watermark\n",
    "%watermark -a \"Jonhatan Bernal\" -d -v -m\n",
    "print('Specific Python packages')\n",
    "%watermark -iv -w --packages astropy"
   ]
  },
  {
   "cell_type": "code",
   "execution_count": null,
   "id": "177edd7d",
   "metadata": {},
   "outputs": [],
   "source": []
  }
 ],
 "metadata": {
  "kernelspec": {
   "display_name": "Python 3 (ipykernel)",
   "language": "python",
   "name": "python3"
  },
  "language_info": {
   "codemirror_mode": {
    "name": "ipython",
    "version": 3
   },
   "file_extension": ".py",
   "mimetype": "text/x-python",
   "name": "python",
   "nbconvert_exporter": "python",
   "pygments_lexer": "ipython3",
   "version": "3.9.7"
  }
 },
 "nbformat": 4,
 "nbformat_minor": 5
}
