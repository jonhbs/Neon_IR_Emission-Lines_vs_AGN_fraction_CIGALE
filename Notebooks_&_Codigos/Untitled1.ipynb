{
 "cells": [
  {
   "cell_type": "code",
   "execution_count": null,
   "id": "18f9f158",
   "metadata": {},
   "outputs": [],
   "source": [
    "from astropy.table import Table, Column, table, vstack, join\n",
    "from pathlib import Path\n",
    "from matplotlib import pyplot as plt\n",
    "from scipy.stats import norm\n",
    "from astropy.coordinates import SkyCoord\n",
    "from sklearn.linear_model import LinearRegression\n",
    "from sklearn.metrics import mean_squared_error\n",
    "\n",
    "import numpy as np\n",
    "import pandas as pd\n",
    "import astropy.units as u\n",
    "import seaborn as sns #For graphic the histograms\n",
    "import bootstrap_corr as bsc\n",
    "\n",
    "\n",
    "from IPython.display import display, HTML\n",
    "display(HTML(\"<style>.container { width:90% !important; }</style>\"))\n",
    "display(HTML(\"<style>.container { font-size:18px !important; }</style>\"))"
   ]
  },
  {
   "cell_type": "code",
   "execution_count": null,
   "id": "d528dd52",
   "metadata": {},
   "outputs": [],
   "source": [
    "path_raw='../Datos/Raw/'\n",
    "path_CIGALE_phot = '../Datos/Work/CIGALE_InputPhot/'\n",
    "path_CIGALE_out = '../Datos/Work/CIGALE_Output/'\n",
    "path_graphs = '../Datos/Final/Graphics/'\n",
    "path_FINAL = '../Datos/Final/'"
   ]
  },
  {
   "cell_type": "code",
   "execution_count": null,
   "id": "5f7ed93b",
   "metadata": {},
   "outputs": [],
   "source": [
    "#for cigpar in ['bayes.agn.luminosity', 'bayes.agn.disk_luminosity', 'bayes.agn.dust_luminosity',\\\n",
    "#             'bayes.agn.accretion_power']:\n",
    "for cigpar in ['bayes.agn.disk_luminosity']:\n",
    "    Ne_Sy[cigpar] = (Ne_Sy[cigpar]*u.W).to(u.solLum)\n",
    "    Ne_Sy[cigpar+'_err'] = (Ne_Sy[cigpar+'_err']*u.W).to(u.solLum)"
   ]
  }
 ],
 "metadata": {
  "kernelspec": {
   "display_name": "Python 3 (ipykernel)",
   "language": "python",
   "name": "python3"
  },
  "language_info": {
   "codemirror_mode": {
    "name": "ipython",
    "version": 3
   },
   "file_extension": ".py",
   "mimetype": "text/x-python",
   "name": "python",
   "nbconvert_exporter": "python",
   "pygments_lexer": "ipython3",
   "version": "3.9.12"
  }
 },
 "nbformat": 4,
 "nbformat_minor": 5
}
