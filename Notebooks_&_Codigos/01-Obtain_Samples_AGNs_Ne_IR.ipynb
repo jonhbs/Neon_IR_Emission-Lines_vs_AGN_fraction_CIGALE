{
 "cells": [
  {
   "cell_type": "markdown",
   "id": "b3a0dff1",
   "metadata": {
    "id": "b3a0dff1"
   },
   "source": [
    "# Obtain data of AGN from SIMBAD and filtering the objects with data of Ne II, Ne III and Ne V in infrared from NED \n",
    "\n",
    "In this notebook we develop the code to Obtain the data of AGNs type Sy1 (Seyfert 1), Sy2 (Seyfert 2) and SyG (Seyfert Galaxies) from **[SIMBAD](http://simbad.u-strasbg.fr/simbad/sim-tap)** (SMB) and then search each object from the SMB sample in **[NED](https://ned.ipac.caltech.edu/)** to obtain the photometric data and filter all the objects from the sample that contain data of the emission lines of Ne II, Ne III and Ne V in infrared.\n",
    "\n",
    "The part of the code to obtain the data from SIMBAD is based in Andres Ramos's work to obtain Seyfert Samples (https://github.com/aframosp/AGNView)"
   ]
  },
  {
   "cell_type": "code",
   "execution_count": null,
   "id": "x9XCs3j8KmdF",
   "metadata": {
    "colab": {
     "base_uri": "https://localhost:8080/"
    },
    "executionInfo": {
     "elapsed": 10306,
     "status": "ok",
     "timestamp": 1633483403323,
     "user": {
      "displayName": "Jonhatan Herney Bernal Salinas",
      "photoUrl": "https://lh3.googleusercontent.com/a-/AOh14GiKhXNQ_goIeesq2w4kv4vwiz7BZTUIiIDZFS6iHA=s64",
      "userId": "11704227221814557955"
     },
     "user_tz": 300
    },
    "id": "x9XCs3j8KmdF",
    "outputId": "b7004f1f-d237-4f0a-8d65-6050ba7a3427",
    "tags": []
   },
   "outputs": [],
   "source": [
    "# If this notebook will be run in Google Colab, first at all the next code must be run. If the notebook will be run in Jupyter\n",
    "#then \"comment\" or omit this part \n",
    "\n",
    "import sys\n",
    "IN_COLAB = 'google.colab' in sys.modules\n",
    "\n",
    "if IN_COLAB:\n",
    "    !pip install astroquery"
   ]
  },
  {
   "cell_type": "code",
   "execution_count": 1,
   "id": "4f9c61fd",
   "metadata": {
    "executionInfo": {
     "elapsed": 1500,
     "status": "ok",
     "timestamp": 1633483409256,
     "user": {
      "displayName": "Jonhatan Herney Bernal Salinas",
      "photoUrl": "https://lh3.googleusercontent.com/a-/AOh14GiKhXNQ_goIeesq2w4kv4vwiz7BZTUIiIDZFS6iHA=s64",
      "userId": "11704227221814557955"
     },
     "user_tz": 300
    },
    "id": "4f9c61fd"
   },
   "outputs": [],
   "source": [
    "from datetime import date\n",
    "import time\n",
    "\n",
    "import pyvo\n",
    "import numpy as np\n",
    "from astroquery.ned import Ned\n",
    "\n",
    "import astropy.units as u\n",
    "from astropy.table import hstack\n",
    "from astropy.coordinates import SkyCoord"
   ]
  },
  {
   "cell_type": "code",
   "execution_count": 2,
   "id": "acdb66dd",
   "metadata": {},
   "outputs": [],
   "source": [
    "path='../Datos/'"
   ]
  },
  {
   "cell_type": "markdown",
   "id": "e3d1274d",
   "metadata": {
    "id": "e3d1274d"
   },
   "source": [
    "Using the package **[PyVO](https://pyvo.readthedocs.io/en/latest/#)** we can access to remote data and services like the **TAP Service of SIMBAD [SIMBAD](http://simbad.u-strasbg.fr/simbad/sim-tap)** to find and retrieve the astronomical data that we need, in this case: Seyfert Galaxies. To achive that, we use a script with **[ADQL](https://www.ivoa.net/documents/latest/ADQL.html) (Astronomical Data Query Language)**, which is based on SQL.\n",
    "\n",
    "On the script we used the next **Field Names** for VOTable ouput:\n",
    "- ra: Right ascension\n",
    "- dec: Declination\n",
    "- coo_bibcode: Bibliographical reference for coordinates\n",
    "- otype_txt: Object type\n",
    "- rvz_bibcode: Bibliographical reference of radial velocity and redshift\n",
    "- rvz_radvel: Stored value. Either a radial velocity, or a redshift, depending on the rvz_type field \n",
    "- rvz_redshift\n",
    "- rvz_type: Stored type of velocity: 'v'=radial velocity, 'z'=redshift\n",
    "- nbref: bibliographical reference\n",
    "\n",
    "~~~~sql\n",
    "SELECT main_id\n",
    "\t,ra\n",
    "\t,dec\n",
    "\t,coo_bibcode\n",
    "\t,otype_txt\n",
    "\t,rvz_bibcode\n",
    "\t,rvz_radvel\n",
    "\t,rvz_redshift\n",
    "\t,rvz_type\n",
    "\t,nbref\n",
    "\t,alltypes.otypes\n",
    "FROM basic\n",
    "JOIN alltypes ON oid = oidref\n",
    "WHERE basic.otype = 'Sy1'\n",
    "\tOR basic.otype = 'Sy2'\n",
    "\tOR basic.otype = 'SyG'\n",
    "~~~~"
   ]
  },
  {
   "cell_type": "code",
   "execution_count": 3,
   "id": "975d55bf",
   "metadata": {
    "executionInfo": {
     "elapsed": 12406,
     "status": "ok",
     "timestamp": 1633483427713,
     "user": {
      "displayName": "Jonhatan Herney Bernal Salinas",
      "photoUrl": "https://lh3.googleusercontent.com/a-/AOh14GiKhXNQ_goIeesq2w4kv4vwiz7BZTUIiIDZFS6iHA=s64",
      "userId": "11704227221814557955"
     },
     "user_tz": 300
    },
    "id": "975d55bf"
   },
   "outputs": [],
   "source": [
    "service = pyvo.dal.TAPService(\"http://simbad.u-strasbg.fr:80/simbad/sim-tap\")\n",
    "\n",
    "result = service.search(\"\"\"\n",
    "SELECT main_id\n",
    "    ,ra\n",
    "    ,dec\n",
    "    ,coo_bibcode\n",
    "    ,otype_txt\n",
    "    ,rvz_bibcode\n",
    "    ,rvz_radvel\n",
    "    ,rvz_redshift\n",
    "    ,rvz_type\n",
    "    ,nbref\n",
    "    ,alltypes.otypes\n",
    "FROM basic\n",
    "JOIN alltypes ON oid = oidref\n",
    "WHERE basic.otype = 'Sy1'\n",
    "    OR basic.otype = 'Sy2'\n",
    "    OR basic.otype = 'SyG'\n",
    "\"\"\")"
   ]
  },
  {
   "cell_type": "markdown",
   "id": "fa406cc9",
   "metadata": {
    "id": "fa406cc9"
   },
   "source": [
    "We save the date in a variable for use later in the file names of the results"
   ]
  },
  {
   "cell_type": "code",
   "execution_count": 4,
   "id": "4bc21fd4",
   "metadata": {
    "executionInfo": {
     "elapsed": 216,
     "status": "ok",
     "timestamp": 1633483431485,
     "user": {
      "displayName": "Jonhatan Herney Bernal Salinas",
      "photoUrl": "https://lh3.googleusercontent.com/a-/AOh14GiKhXNQ_goIeesq2w4kv4vwiz7BZTUIiIDZFS6iHA=s64",
      "userId": "11704227221814557955"
     },
     "user_tz": 300
    },
    "id": "4bc21fd4"
   },
   "outputs": [
    {
     "data": {
      "text/plain": [
       "datetime.date(2021, 10, 12)"
      ]
     },
     "execution_count": 4,
     "metadata": {},
     "output_type": "execute_result"
    }
   ],
   "source": [
    "today = date.today()\n",
    "today"
   ]
  },
  {
   "cell_type": "markdown",
   "id": "9217eec3",
   "metadata": {
    "id": "9217eec3"
   },
   "source": [
    "We extract the object name (or in this case the main id) from the sample result."
   ]
  },
  {
   "cell_type": "code",
   "execution_count": 5,
   "id": "7d92c03c",
   "metadata": {
    "colab": {
     "base_uri": "https://localhost:8080/"
    },
    "executionInfo": {
     "elapsed": 498,
     "status": "ok",
     "timestamp": 1633483434934,
     "user": {
      "displayName": "Jonhatan Herney Bernal Salinas",
      "photoUrl": "https://lh3.googleusercontent.com/a-/AOh14GiKhXNQ_goIeesq2w4kv4vwiz7BZTUIiIDZFS6iHA=s64",
      "userId": "11704227221814557955"
     },
     "user_tz": 300
    },
    "id": "7d92c03c",
    "outputId": "d3745dc6-268d-4c1a-d422-647ef43cedc8"
   },
   "outputs": [
    {
     "data": {
      "text/html": [
       "<div><i>Table length=43708</i>\n",
       "<table id=\"table2052333949280\" class=\"table-striped table-bordered table-condensed\">\n",
       "<thead><tr><th>main_id</th><th>ra</th><th>dec</th><th>coo_bibcode</th><th>otype_txt</th><th>rvz_bibcode</th><th>rvz_radvel</th><th>rvz_redshift</th><th>rvz_type</th><th>nbref</th><th>otypes</th></tr></thead>\n",
       "<thead><tr><th></th><th>deg</th><th>deg</th><th></th><th></th><th></th><th>km / s</th><th></th><th></th><th></th><th></th></tr></thead>\n",
       "<thead><tr><th>object</th><th>float64</th><th>float64</th><th>object</th><th>object</th><th>object</th><th>float64</th><th>float64</th><th>str1</th><th>int32</th><th>object</th></tr></thead>\n",
       "<tr><td>LEDA  165630</td><td>212.38023750000002</td><td>5.192030555555555</td><td>2009ApJS..182..543A</td><td>Sy2</td><td>2011A&amp;A...528A.124C</td><td>69068.1659042559</td><td>0.2644</td><td>z</td><td>68</td><td>IR |QSO|Sy2|G  |G</td></tr>\n",
       "<tr><td>2MASS J10034653+1222009</td><td>150.9439585861228</td><td>12.3669990150726</td><td>2018yCat.1345....0G</td><td>Sy1</td><td>2012ApJS..203...21A</td><td>71464.57474536476</td><td>0.27514</td><td>z</td><td>17</td><td>IR |QSO|AGN|X  |BiC|QSO|Sy1|Sy1|AGN</td></tr>\n",
       "<tr><td>2XMMi J032518.4-060739</td><td>51.326875</td><td>-6.1273888888888886</td><td>2005AJ....129.1755A</td><td>Sy1</td><td>2009ApJS..182..543A</td><td>126754.92483174153</td><td>0.57005</td><td>z</td><td>13</td><td>QSO|X  |Sy1|AGN</td></tr>\n",
       "<tr><td>USNO-A2.0 0825-00787515</td><td>52.0941222224393</td><td>-6.7266691804094</td><td>2018yCat.1345....0G</td><td>Sy1</td><td>2009ApJS..182..543A</td><td>93552.23834660952</td><td>0.38102</td><td>z</td><td>15</td><td>QSO|Sy1|AGN|*  |UV</td></tr>\n",
       "<tr><td>2SLAQ J033852.90+001904.7</td><td>54.7204660377791</td><td>0.3179910253349</td><td>2018yCat.1345....0G</td><td>Sy1</td><td>2009ApJS..182..543A</td><td>108224.28742924411</td><td>0.45941</td><td>z</td><td>25</td><td>X  |QSO|QSO|AGN|*  |Sy1|AGN</td></tr>\n",
       "<tr><td>2SLAQ J034007.62-004632.5</td><td>55.0317750936304</td><td>-0.7757204237907</td><td>2018yCat.1345....0G</td><td>Sy1</td><td>2009ApJS..182..543A</td><td>138971.58950556486</td><td>0.65175</td><td>z</td><td>19</td><td>QSO|QSO|Sy1|*  |QSO|AGN</td></tr>\n",
       "<tr><td>2XMM J032328.4-371009</td><td>50.86844</td><td>-37.16924</td><td>2012ApJ...756...27L</td><td>Sy1</td><td></td><td>--</td><td>--</td><td></td><td>1</td><td>X  |Sy1</td></tr>\n",
       "<tr><td>2MASS J13241017+6410056</td><td>201.042164402469</td><td>64.1681640803473</td><td>2018yCat.1345....0G</td><td>Sy1</td><td>2012ApJS..203...21A</td><td>89131.01929523506</td><td>0.35875</td><td>z</td><td>15</td><td>IR |QSO|AGN|X  |QSO|*  |Sy1|AGN|X</td></tr>\n",
       "<tr><td>2SLAQ J034430.16+000407.3</td><td>56.125687565612</td><td>0.0687228938891</td><td>2018yCat.1345....0G</td><td>Sy1</td><td>2009ApJS..182..543A</td><td>133448.07778790663</td><td>0.61384</td><td>z</td><td>15</td><td>QSO|*  |Sy1|AGN</td></tr>\n",
       "<tr><td>...</td><td>...</td><td>...</td><td>...</td><td>...</td><td>...</td><td>...</td><td>...</td><td>...</td><td>...</td><td>...</td></tr>\n",
       "<tr><td>[VV2006] J104723.5+540406</td><td>161.8480298155732</td><td>54.0685833407248</td><td>2018yCat.1345....0G</td><td>Sy1</td><td>2009ApJS..182..543A</td><td>217667.13454092198</td><td>1.51015</td><td>z</td><td>24</td><td>QSO|*  |QSO|Rad|QSO|Sy1|X</td></tr>\n",
       "<tr><td>[VV2006] J104754.7+661157</td><td>161.9776725141372</td><td>66.1992653597887</td><td>2018yCat.1345....0G</td><td>Sy1</td><td>2012ApJS..203...21A</td><td>110305.41792308493</td><td>0.47114</td><td>z</td><td>23</td><td>QSO|QSO|Sy1|QSO|*  |Sy1|QSO</td></tr>\n",
       "<tr><td>[VV2006] J101844.4+420237</td><td>154.6847860351386</td><td>42.0436815843426</td><td>2018yCat.1345....0G</td><td>Sy1</td><td>2015ApJS..219...12A</td><td>132407.1104987584</td><td>0.60688</td><td>z</td><td>16</td><td>QSO|QSO|*  |Sy1|QSO</td></tr>\n",
       "<tr><td>[VV2006] J104840.3+563635</td><td>162.1679172872266</td><td>56.6098808752205</td><td>2018yCat.1345....0G</td><td>Sy1</td><td>2015ApJS..219...12A</td><td>147377.16154828176</td><td>0.71286</td><td>z</td><td>22</td><td>QSO|QSO|Sy1|QSO|*  |Sy1|QSO|QSO</td></tr>\n",
       "<tr><td>[VV2006] J104941.2+025951</td><td>162.4216200329488</td><td>2.9974460527155</td><td>2018yCat.1345....0G</td><td>Sy1</td><td>2012ApJS..203...21A</td><td>134859.7310888103</td><td>0.62337</td><td>z</td><td>17</td><td>QSO|QSO|QSO|*  |Sy1|QSO</td></tr>\n",
       "<tr><td>2MASS J12063307+4125361</td><td>181.6378236793675</td><td>41.4266765178668</td><td>2018yCat.1345....0G</td><td>Sy1</td><td>2018A&amp;A...613A..51P</td><td>124281.80311237059</td><td>0.554423</td><td>z</td><td>20</td><td>QSO|IR |QSO|QSO|QSO|*  |Sy1</td></tr>\n",
       "<tr><td>2MASS J12073002+1250579</td><td>181.8750371104585</td><td>12.849342819375</td><td>2018yCat.1345....0G</td><td>Sy1</td><td>2012ApJS..203...21A</td><td>152349.72566577664</td><td>0.75116</td><td>z</td><td>17</td><td>IR |QSO|QSO|QSO|*  |Sy1|QSO</td></tr>\n",
       "<tr><td>[VV2006] J135741.6+052549</td><td>209.4235618228939</td><td>5.4301694791392</td><td>2018yCat.1345....0G</td><td>Sy1</td><td>2012ApJS..203...21A</td><td>150969.72198130668</td><td>0.74036</td><td>z</td><td>22</td><td>QSO|AGN|X  |QSO|Sy1|QSO|*  |Sy1|QSO</td></tr>\n",
       "<tr><td>[VV2006] J162033.0+442249</td><td>245.1371409170023</td><td>44.3804131154836</td><td>2018yCat.1345....0G</td><td>Sy1</td><td>2012ApJS..203...21A</td><td>128912.24896755826</td><td>0.58392</td><td>z</td><td>22</td><td>QSO|AGN|X  |QSO|QSO|*  |Sy1|QSO</td></tr>\n",
       "<tr><td>[VV2006c] J164424.0+255242</td><td>251.1001487379708</td><td>25.8784356100449</td><td>2018yCat.1345....0G</td><td>Sy1</td><td>2012ApJS..203...21A</td><td>128765.60575895594</td><td>0.58297</td><td>z</td><td>14</td><td>QSO|QSO|QSO|*  |Sy1|AGN</td></tr>\n",
       "</table></div>"
      ],
      "text/plain": [
       "<Table length=43708>\n",
       "         main_id           ...                otypes              \n",
       "                           ...                                    \n",
       "          object           ...                object              \n",
       "-------------------------- ... -----------------------------------\n",
       "              LEDA  165630 ...                 IR |QSO|Sy2|G  |G  \n",
       "   2MASS J10034653+1222009 ... IR |QSO|AGN|X  |BiC|QSO|Sy1|Sy1|AGN\n",
       "    2XMMi J032518.4-060739 ...                     QSO|X  |Sy1|AGN\n",
       "   USNO-A2.0 0825-00787515 ...                 QSO|Sy1|AGN|*  |UV \n",
       " 2SLAQ J033852.90+001904.7 ...         X  |QSO|QSO|AGN|*  |Sy1|AGN\n",
       " 2SLAQ J034007.62-004632.5 ...             QSO|QSO|Sy1|*  |QSO|AGN\n",
       "     2XMM J032328.4-371009 ...                             X  |Sy1\n",
       "   2MASS J13241017+6410056 ... IR |QSO|AGN|X  |QSO|*  |Sy1|AGN|X  \n",
       " 2SLAQ J034430.16+000407.3 ...                     QSO|*  |Sy1|AGN\n",
       "                       ... ...                                 ...\n",
       " [VV2006] J104723.5+540406 ...         QSO|*  |QSO|Rad|QSO|Sy1|X  \n",
       " [VV2006] J104754.7+661157 ...         QSO|QSO|Sy1|QSO|*  |Sy1|QSO\n",
       " [VV2006] J101844.4+420237 ...                 QSO|QSO|*  |Sy1|QSO\n",
       " [VV2006] J104840.3+563635 ...     QSO|QSO|Sy1|QSO|*  |Sy1|QSO|QSO\n",
       " [VV2006] J104941.2+025951 ...             QSO|QSO|QSO|*  |Sy1|QSO\n",
       "   2MASS J12063307+4125361 ...         QSO|IR |QSO|QSO|QSO|*  |Sy1\n",
       "   2MASS J12073002+1250579 ...         IR |QSO|QSO|QSO|*  |Sy1|QSO\n",
       " [VV2006] J135741.6+052549 ... QSO|AGN|X  |QSO|Sy1|QSO|*  |Sy1|QSO\n",
       " [VV2006] J162033.0+442249 ...     QSO|AGN|X  |QSO|QSO|*  |Sy1|QSO\n",
       "[VV2006c] J164424.0+255242 ...             QSO|QSO|QSO|*  |Sy1|AGN"
      ]
     },
     "execution_count": 5,
     "metadata": {},
     "output_type": "execute_result"
    }
   ],
   "source": [
    "simbad_sample_Sy = result.to_table()\n",
    "obj_name_SMB=simbad_sample_Sy[\"main_id\"]\n",
    "simbad_sample_Sy"
   ]
  },
  {
   "cell_type": "markdown",
   "id": "64e523f9",
   "metadata": {},
   "source": [
    "The sample results is saved in a .csv file:"
   ]
  },
  {
   "cell_type": "code",
   "execution_count": 11,
   "id": "d099bc62",
   "metadata": {},
   "outputs": [],
   "source": [
    "simbad_sample_Sy.write(path+'SMB_'+today.strftime('%b_%d_%Y')+'_Sy_Samples'+'.csv',\n",
    "                    format='ascii.csv',overwrite=True)"
   ]
  },
  {
   "cell_type": "markdown",
   "id": "6d39be83",
   "metadata": {
    "id": "6d39be83"
   },
   "source": [
    "Using **SkyCoord** from astropy we extract the coordinates information for each object from the SIMBAD samples. This is because for some objects when we search the information in [NED](https://ned.ipac.caltech.edu/) using their SIMBAD main id  it doesn't reconigze it, so we will use coordinates instead to get the NED object name"
   ]
  },
  {
   "cell_type": "code",
   "execution_count": 7,
   "id": "8fa81bae",
   "metadata": {
    "executionInfo": {
     "elapsed": 181,
     "status": "ok",
     "timestamp": 1633483449934,
     "user": {
      "displayName": "Jonhatan Herney Bernal Salinas",
      "photoUrl": "https://lh3.googleusercontent.com/a-/AOh14GiKhXNQ_goIeesq2w4kv4vwiz7BZTUIiIDZFS6iHA=s64",
      "userId": "11704227221814557955"
     },
     "user_tz": 300
    },
    "id": "8fa81bae"
   },
   "outputs": [],
   "source": [
    "cat_smb_sample = SkyCoord(ra=simbad_sample_Sy['ra'], dec=simbad_sample_Sy['dec'])"
   ]
  },
  {
   "cell_type": "markdown",
   "id": "45cc82a0",
   "metadata": {
    "id": "45cc82a0"
   },
   "source": [
    "The wavelenght for NeII, NeIII and NeV in the infrared spectrum are 12.8 microns, 15.6 microns and 14.3 microns respectively. This values are equivalents to the following frequencies which ara related to different labels of \"Observed Passband\" in NED database as we ilustrate in the next list:\n",
    "\n",
    "* Frequency: 1.92e+13 Hz: [NeIII] 15.6 microns\n",
    "* Frecuency: 1.93e+13 Hz: [Ne III] 15.56 (IRS), [NeIII] 15.6 Spitzer, [Ne III] (Spitzer), [Ne III] 15.5 (IRS)\n",
    "* Frecuency: 2.09e+13 Hz: [Ne V] 14.32 (IRS), [Ne V] 14.32 Spitzer, [Ne V] 14.32, [Ne V] 14.3 Spitzer, [Ne V] 14.3 microns\n",
    "* Frequency: 2.10e+13 Hz: [Ne V] 14.3 (IRS)\n",
    "* Frequency: 2.34e+13 Hz: [Ne II] 12.81 (IRS), [Ne II] 12.8 Spitzer, [Ne II] 12.8 (IRS), [Ne II] 12.81, NEII (VLT), 12.81 microns (VLT) \n",
    "\n",
    "In the variable **Ne_IR_Freq** we define a list with the those frequency values"
   ]
  },
  {
   "cell_type": "code",
   "execution_count": 8,
   "id": "706c6696",
   "metadata": {},
   "outputs": [],
   "source": [
    "Ne_IR_Freq = [19200000000000.0,19300000000000.0,20900000000000.0,21000000000000.0,23400000000000.0]"
   ]
  },
  {
   "cell_type": "markdown",
   "id": "367ca204",
   "metadata": {},
   "source": [
    "The next part of the code use **[Astroquery](https://astroquery.readthedocs.io/en/latest/index.html)** package to get the \"Frequency\" column from the photometry table for each object of the SIMBAD sample or to get the NED object name from SIMBAD object coordiantes extracted before with SkyCoord. \n",
    "\n",
    "So, we will try to get the **\"Photometry\"** table using directly the SIMBAD object name. If this isn't recognized in NED, then we try to get the NED object name from the object coordinates and after that we will try again to get the \"Photometry\" table but now using the NED object name.\n",
    "\n",
    "The filter for the objects with Ne Line Emissions in Infrared will be looking in the column **\"Frequency\"** of the table the values of the list defined in Ne_IR_Freq."
   ]
  },
  {
   "cell_type": "code",
   "execution_count": 9,
   "id": "c2c1c5d1",
   "metadata": {
    "colab": {
     "base_uri": "https://localhost:8080/"
    },
    "executionInfo": {
     "elapsed": 7063,
     "status": "ok",
     "timestamp": 1633484416154,
     "user": {
      "displayName": "Jonhatan Herney Bernal Salinas",
      "photoUrl": "https://lh3.googleusercontent.com/a-/AOh14GiKhXNQ_goIeesq2w4kv4vwiz7BZTUIiIDZFS6iHA=s64",
      "userId": "11704227221814557955"
     },
     "user_tz": 300
    },
    "id": "c2c1c5d1",
    "outputId": "f4ef079e-e482-4efe-8ca2-6a0f7736e6b1"
   },
   "outputs": [
    {
     "name": "stdout",
     "output_type": "stream",
     "text": [
      "Ind#:0, Id(SIMBAD): LEDA  165630\n",
      "Ind#:23, Id(SIMBAD): ESO 362-18\n",
      "Ind#:100, Id(NED): 3C 334\n",
      "Ind#:182, Id(SIMBAD): ESO 323-77\n",
      "Ind#:341, Id(SIMBAD): NGC  7479\n",
      "Ind#:399, Id(SIMBAD): M  81\n",
      "Ind#:407, Id(SIMBAD): NGC  1241\n",
      "Ind#:408, Id(SIMBAD): NGC  3516\n",
      "Ind#:428, Id(SIMBAD): IRAS 15206+3342\n",
      "Ind#:449, Id(SIMBAD): LEDA 1487448\n",
      "Ind#:610, Id(SIMBAD): Mrk  937\n",
      "Ind#:623, Id(SIMBAD): ESO 297-18\n",
      "Ind#:643, Id(SIMBAD): IC  450\n",
      "Ind#:789, Id(SIMBAD): Mrk  622\n",
      "Ind#:857, Id(NED): WISEA J035734.06-053719.6\n",
      "Ind#:1050, Id(SIMBAD): 2MASS J21035875-0728025\n",
      "Ind#:1110, Id(SIMBAD): IRAS 15480-0344\n",
      "Ind#:1410, Id(SIMBAD): Mrk  471\n",
      "Ind#:1584, Id(SIMBAD): 2MASS J00105486+0014510\n",
      "Ind#:1587, Id(NED): WISEA J005439.78+155447.2\n",
      "Ind#:1867, Id(SIMBAD): LEDA  166692\n",
      "Ind#:2263, Id(SIMBAD): NGC  4992\n",
      "Ind#:2620, Id(SIMBAD): 3C 295\n",
      "Ind#:2847, Id(SIMBAD): LEDA    3237\n",
      "Ind#:2848, Id(SIMBAD): Mrk  478\n",
      "Ind#:2945, Id(SIMBAD): NGC  1125\n",
      "Ind#:2962, Id(SIMBAD): Mrk  279\n",
      "Ind#:2984, Id(SIMBAD): Mrk 1502\n",
      "Ind#:2986, Id(SIMBAD): PB  3894\n",
      "Ind#:2989, Id(SIMBAD): ICRF J054236.1+495107\n",
      "Ind#:2991, Id(NED): 3C 098\n",
      "Ind#:3591, Id(SIMBAD): NGC  2992\n",
      "Ind#:3661, Id(SIMBAD): NGC  2110\n",
      "Ind#:3707, Id(SIMBAD): UGC  3351\n",
      "Ind#:3765, Id(SIMBAD): NGC   788\n",
      "Ind#:3769, Id(SIMBAD): NGC  4235\n",
      "Ind#:3770, Id(SIMBAD): NGC  6860\n",
      "Ind#:3841, Id(SIMBAD): Mrk  520\n",
      "Ind#:3881, Id(SIMBAD): MCG+04-48-002\n",
      "Ind#:4054, Id(SIMBAD): ICRF J145907.5+714019\n",
      "Ind#:4134, Id(SIMBAD): 2E  2503\n",
      "Ind#:4140, Id(SIMBAD): MCG+00-29-023\n",
      "Ind#:4277, Id(SIMBAD): Z 218-7\n",
      "Ind#:4432, Id(SIMBAD): Mrk  463E\n",
      "Ind#:4590, Id(SIMBAD): LEDA   27453\n",
      "Ind#:4593, Id(SIMBAD): IRAS 07598+6508\n",
      "Ind#:4605, Id(SIMBAD): NGC  4151\n",
      "Ind#:4608, Id(SIMBAD): NGC  1365\n",
      "Ind#:4653, Id(SIMBAD): 2XMM J101756.8+390526\n",
      "Ind#:4657, Id(SIMBAD): 3C  84\n",
      "Ind#:4671, Id(SIMBAD): ESO 141-55\n",
      "Ind#:4683, Id(SIMBAD): MCG+10-17-021\n",
      "Ind#:4686, Id(SIMBAD): Mrk  509\n",
      "Ind#:4688, Id(SIMBAD): NGC  7591\n",
      "Ind#:4726, Id(SIMBAD): Mrk 1239\n",
      "Ind#:4727, Id(SIMBAD): Mrk  493\n",
      "Ind#:4730, Id(SIMBAD): Mrk  231\n",
      "Ind#:4738, Id(SIMBAD): NGC  3079\n",
      "Ind#:4772, Id(SIMBAD): NGC  4355\n",
      "Ind#:4796, Id(SIMBAD): IRAS 13342+3932\n",
      "Ind#:4814, Id(NED): WISEA J165939.77+183436.7\n",
      "Ind#:4893, Id(SIMBAD): Mrk  876\n",
      "Ind#:4900, Id(SIMBAD): MCG+13-07-002\n",
      "Ind#:4916, Id(SIMBAD): NGC   253\n",
      "Ind#:4922, Id(SIMBAD): 3C 286\n",
      "Ind#:4924, Id(SIMBAD): NGC  3982\n",
      "Ind#:4925, Id(SIMBAD): ICRF J182931.7+484446\n",
      "Ind#:4928, Id(SIMBAD): ESO 428-14\n",
      "Ind#:4929, Id(SIMBAD): NGC  5728\n",
      "Ind#:4930, Id(SIMBAD): 2MASX J00535615-7038045\n",
      "Ind#:5389, Id(SIMBAD): UGC  1841\n",
      "Ind#:5411, Id(SIMBAD): LEDA    1790\n",
      "Ind#:5412, Id(SIMBAD): Ton  951\n",
      "Ind#:5414, Id(SIMBAD): NGC  4748\n",
      "Ind#:5416, Id(NED): FAIRALL 0049\n",
      "Ind#:5418, Id(SIMBAD): NGC  3281\n",
      "Ind#:5419, Id(SIMBAD): NGC  5995\n",
      "Ind#:5432, Id(NED): WISEA J130005.34+163214.8\n",
      "Ind#:5434, Id(SIMBAD): 2MASX J18334627+4727027\n",
      "Ind#:5435, Id(SIMBAD): 2E   437\n",
      "Ind#:5456, Id(SIMBAD): Mrk  877\n",
      "Ind#:5614, Id(NED): 3C 033\n",
      "Ind#:5615, Id(SIMBAD): NGC  3393\n",
      "Ind#:5618, Id(SIMBAD): IC 1816\n",
      "Ind#:5667, Id(SIMBAD): Mrk 1506\n",
      "Ind#:5720, Id(SIMBAD): Mrk 1014\n",
      "Ind#:5725, Id(SIMBAD): Mrk  771\n",
      "Ind#:5728, Id(SIMBAD): Mrk 1513\n",
      "Ind#:5730, Id(SIMBAD): Mrk  304\n",
      "Ind#:5731, Id(SIMBAD): 2MASS J14294306+4747262\n",
      "Ind#:5825, Id(SIMBAD): 2MASX J10181928+3722419\n",
      "Ind#:5834, Id(SIMBAD): 2MASX J14323249+3406257\n",
      "Ind#:5873, Id(SIMBAD): Mrk 1383\n",
      "Ind#:5957, Id(SIMBAD): SDSS J040208.86-050642.0\n",
      "Ind#:5966, Id(SIMBAD): 3C 452\n",
      "Ind#:6015, Id(SIMBAD): MCG-03-34-064\n",
      "Ind#:6016, Id(SIMBAD): ESO 434-40\n",
      "Ind#:6496, Id(SIMBAD): 4C 13.41\n",
      "Ind#:6803, Id(SIMBAD): NGC  4593\n",
      "Ind#:6819, Id(SIMBAD): NGC   931\n",
      "Ind#:6822, Id(SIMBAD): 2MASX J21564950-0745325\n",
      "Ind#:6940, Id(SIMBAD): 2MASS J13234951+6541480\n",
      "Ind#:6947, Id(SIMBAD): IC 3078\n",
      "Ind#:7082, Id(SIMBAD): LEDA   29208\n",
      "Ind#:7367, Id(SIMBAD): ICRF J134733.3+121724\n",
      "Ind#:7477, Id(SIMBAD): NGC  7743\n",
      "Ind#:7492, Id(SIMBAD): LEDA   90429\n",
      "Ind#:7493, Id(SIMBAD): LEDA   70560\n",
      "Ind#:7536, Id(SIMBAD): LEDA   52314\n",
      "Ind#:7622, Id(SIMBAD): M  94\n",
      "Ind#:7696, Id(SIMBAD): ESO 323-32\n",
      "Ind#:7795, Id(SIMBAD): Mrk  463\n",
      "Ind#:7810, Id(SIMBAD): NGC  4388\n",
      "Ind#:7811, Id(SIMBAD): M  88\n",
      "Ind#:7815, Id(SIMBAD): NGC  5033\n",
      "Ind#:8033, Id(SIMBAD): ESO  33-2\n",
      "Ind#:8034, Id(SIMBAD): LEDA   90054\n",
      "Ind#:8073, Id(NED): WISEA J124819.76+662142.6\n",
      "Ind#:8128, Id(SIMBAD): Mrk  334\n",
      "Ind#:8131, Id(SIMBAD): Mrk  273\n",
      "Ind#:8173, Id(SIMBAD): 2MASX J08584172+1041223\n",
      "Ind#:8264, Id(SIMBAD): 2MASSI J0918486+211717\n",
      "Ind#:8321, Id(SIMBAD): ESO 420-13\n",
      "Ind#:8331, Id(SIMBAD): IRAS F08216+3009\n",
      "Ind#:8414, Id(SIMBAD): Mrk  817\n",
      "Ind#:8416, Id(SIMBAD): ICRF J130533.0-103319\n",
      "Ind#:8524, Id(SIMBAD): NGC   612\n",
      "Ind#:8525, Id(SIMBAD): NGC  1058\n",
      "Ind#:8556, Id(SIMBAD): 4C 23.43\n",
      "Ind#:8560, Id(SIMBAD): NGC  6890\n",
      "Ind#:8592, Id(SIMBAD): NGC  2622\n",
      "Ind#:8611, Id(SIMBAD): IC 4518A\n",
      "Ind#:8620, Id(SIMBAD): PG 0953+414\n",
      "Ind#:8622, Id(SIMBAD): Ton  1565\n",
      "Ind#:8630, Id(SIMBAD): Ton  1388\n",
      "Ind#:8668, Id(SIMBAD): 2MASS J14025120+2631175\n",
      "Ind#:8721, Id(SIMBAD): IRAS 17002+5153\n",
      "Ind#:8845, Id(SIMBAD): IRAS 15091-2107\n",
      "Ind#:8931, Id(SIMBAD): ESO  12-21\n",
      "Ind#:9015, Id(SIMBAD): UGC 12138\n",
      "Ind#:9075, Id(SIMBAD): LEDA   75476\n",
      "Ind#:9148, Id(SIMBAD): SDSS J231812.99-004126.1\n",
      "Ind#:9184, Id(SIMBAD): Mrk    9\n",
      "Ind#:9248, Id(SIMBAD): NGC  5135\n",
      "Ind#:9252, Id(SIMBAD): ESO 140-43\n",
      "Ind#:9253, Id(SIMBAD): NGC  7410\n",
      "Ind#:9275, Id(SIMBAD): ESO 198-24\n",
      "Ind#:9469, Id(SIMBAD): IC 1065\n",
      "Ind#:9471, Id(SIMBAD): Mrk  335\n",
      "Ind#:9513, Id(SIMBAD): NGC   513\n",
      "Ind#:9521, Id(SIMBAD): NGC  1204\n",
      "Ind#:9532, Id(SIMBAD): ESO 383-35\n",
      "Ind#:9561, Id(SIMBAD): Mrk  618\n",
      "Ind#:9565, Id(SIMBAD): Mrk  863\n",
      "Ind#:9567, Id(SIMBAD): NGC  7682\n",
      "Ind#:9602, Id(SIMBAD): NGC  1320\n",
      "Ind#:9607, Id(SIMBAD): UGC  3601\n",
      "Ind#:9698, Id(SIMBAD): NGC  1667\n",
      "Ind#:9775, Id(SIMBAD): M  84\n",
      "Ind#:9780, Id(SIMBAD): NGC  4074\n",
      "Ind#:9785, Id(SIMBAD): LEDA 1365424\n",
      "Ind#:9787, Id(SIMBAD): NGC  3735\n",
      "Ind#:9877, Id(SIMBAD): MCG-01-24-012\n",
      "Ind#:9896, Id(SIMBAD): ICRF J015002.6-072548\n",
      "Ind#:9898, Id(SIMBAD): NGC  2639\n",
      "Ind#:9901, Id(SIMBAD): Mrk 1457\n",
      "Ind#:9925, Id(SIMBAD): Mrk  841\n",
      "Ind#:10263, Id(SIMBAD): NGC  5990\n",
      "Ind#:10271, Id(SIMBAD): ESO 445-50\n",
      "Ind#:10433, Id(SIMBAD): Mrk 1298\n",
      "Ind#:10448, Id(SIMBAD): Mrk 1095\n",
      "Ind#:10460, Id(SIMBAD): M  49\n",
      "Ind#:10465, Id(SIMBAD): Z 121-75\n",
      "Ind#:10490, Id(SIMBAD): IRAS 04385-0828\n",
      "Ind#:10492, Id(SIMBAD): NGC  4253\n",
      "Ind#:10495, Id(SIMBAD): NGC  4602\n",
      "Ind#:10515, Id(SIMBAD): NGC   185\n",
      "Ind#:10537, Id(SIMBAD): NGC  2685\n",
      "Ind#:10538, Id(SIMBAD): NGC  3081\n",
      "Ind#:10540, Id(SIMBAD): NGC  2273\n",
      "Ind#:10541, Id(SIMBAD): NGC  4051\n",
      "Ind#:10543, Id(SIMBAD): NGC  6221\n",
      "Ind#:10546, Id(SIMBAD): NGC  4725\n",
      "Ind#:10548, Id(SIMBAD): NGC  7172\n",
      "Ind#:10549, Id(SIMBAD): NGC  6814\n",
      "Ind#:10586, Id(SIMBAD): Mrk  705\n",
      "Ind#:10602, Id(SIMBAD): ESO 263-13\n",
      "Ind#:10605, Id(SIMBAD): NGC  3998\n",
      "Ind#:10619, Id(SIMBAD): NGC  4941\n",
      "Ind#:10627, Id(SIMBAD): NGC  4395\n",
      "Ind#:10635, Id(NED): 3C 459\n",
      "Ind#:10636, Id(SIMBAD): LEDA   68751\n",
      "Ind#:10638, Id(SIMBAD): NGC  6300\n",
      "Ind#:10639, Id(SIMBAD): ESO 103-35\n",
      "Ind#:10652, Id(SIMBAD): Mrk   79\n",
      "Ind#:10653, Id(SIMBAD): Mrk  573\n",
      "Ind#:10666, Id(SIMBAD): NGC  5548\n",
      "Ind#:10698, Id(SIMBAD): IC  486\n",
      "Ind#:10741, Id(SIMBAD): IC 2560\n",
      "Ind#:10754, Id(SIMBAD): NGC   424\n",
      "Ind#:10860, Id(SIMBAD): LEDA   89032\n",
      "Ind#:10906, Id(SIMBAD): NGC  6240\n",
      "Ind#:10921, Id(SIMBAD): NGC   262\n",
      "Ind#:10951, Id(SIMBAD): NGC  7679\n",
      "Ind#:11028, Id(SIMBAD): NGC  7592\n",
      "Ind#:11037, Id(SIMBAD): IC 5298\n",
      "Ind#:11074, Id(SIMBAD): NGC  4507\n",
      "Ind#:11075, Id(SIMBAD): NGC  4477\n",
      "Ind#:11076, Id(SIMBAD): UGC  6728\n",
      "Ind#:11077, Id(SIMBAD): NGC  7319\n",
      "Ind#:11120, Id(SIMBAD): ESO   5-4\n",
      "Ind#:11468, Id(SIMBAD): NGC  6951\n",
      "Ind#:11682, Id(SIMBAD): NGC  1142\n",
      "Ind#:11684, Id(SIMBAD): ESO 253-3\n",
      "Ind#:11799, Id(SIMBAD): Mrk 1073\n",
      "Ind#:11894, Id(SIMBAD): M 106\n",
      "Ind#:11913, Id(SIMBAD): NGC  5252\n",
      "Ind#:11917, Id(SIMBAD): ESO 339-11\n",
      "Ind#:11918, Id(SIMBAD): UGC 12282\n",
      "Ind#:11939, Id(SIMBAD): LEDA   90196\n",
      "Ind#:11940, Id(SIMBAD): NGC  4945\n",
      "Ind#:11961, Id(SIMBAD): NGC  3976\n",
      "Ind#:11962, Id(SIMBAD): NGC  5273\n",
      "Ind#:11964, Id(SIMBAD): NGC  5899\n",
      "Ind#:11965, Id(SIMBAD): NGC  4939\n",
      "Ind#:12023, Id(SIMBAD): NGC    34\n",
      "Ind#:12024, Id(SIMBAD): NGC  7674\n",
      "Ind#:12025, Id(SIMBAD): UGC  5101\n",
      "Ind#:12028, Id(SIMBAD): UGC  7064\n",
      "Ind#:12029, Id(SIMBAD): NGC  7469\n",
      "Ind#:12101, Id(SIMBAD): MCG-02-08-039\n",
      "Ind#:12116, Id(SIMBAD): Mrk  352\n",
      "Ind#:12121, Id(SIMBAD): ESO 417-6\n",
      "Ind#:12122, Id(SIMBAD): NGC  1194\n",
      "Ind#:12125, Id(SIMBAD): Mrk    3\n",
      "Ind#:12184, Id(SIMBAD): IC 4553\n",
      "Ind#:12185, Id(SIMBAD): IC 5063\n"
     ]
    },
    {
     "name": "stdout",
     "output_type": "stream",
     "text": [
      "Ind#:12324, Id(SIMBAD): 3C 196\n",
      "Ind#:12419, Id(SIMBAD): NGC  1808\n",
      "Ind#:12558, Id(SIMBAD): ESO 113-45\n",
      "Ind#:12559, Id(SIMBAD): NGC  3783\n",
      "Ind#:12594, Id(SIMBAD): NGC  7314\n",
      "Ind#:13542, Id(SIMBAD): 3C  22.0\n",
      "Ind#:13637, Id(SIMBAD): LEDA  165618\n",
      "Ind#:14485, Id(SIMBAD): IRAS 11119+3257\n",
      "Ind#:15769, Id(SIMBAD): 2MASS J15011320+2329082\n",
      "Ind#:16933, Id(SIMBAD): NGC  3367\n",
      "Ind#:17350, Id(SIMBAD): NGC  4968\n",
      "Ind#:17385, Id(SIMBAD): NGC   660\n",
      "Ind#:17418, Id(SIMBAD): Z  41-20\n",
      "Ind#:17851, Id(SIMBAD): M  58\n",
      "Ind#:18258, Id(SIMBAD): NGC  6926\n",
      "Ind#:18261, Id(SIMBAD): NGC   973\n",
      "Ind#:18542, Id(SIMBAD): NGC  4138\n",
      "Ind#:18547, Id(SIMBAD): NGC  5395\n",
      "Ind#:18554, Id(SIMBAD): NGC  7603\n",
      "Ind#:18555, Id(SIMBAD): NGC  7213\n",
      "Ind#:18557, Id(SIMBAD): UGC  1395\n",
      "Ind#:18597, Id(SIMBAD): NGC   863\n",
      "Ind#:18633, Id(SIMBAD): 2MASS J08105865+7602424\n",
      "Ind#:18642, Id(SIMBAD): ICRF J052109.8+163822\n",
      "Ind#:18645, Id(NED): PG 0947+396\n",
      "Ind#:18662, Id(SIMBAD): ESO 121-28\n",
      "Ind#:18684, Id(SIMBAD): Ton  182\n",
      "Ind#:18686, Id(SIMBAD): 2MASX J14510879+2709272\n",
      "Ind#:18704, Id(SIMBAD): NGC  1566\n",
      "Ind#:18705, Id(SIMBAD): Mrk  704\n",
      "Ind#:18728, Id(SIMBAD): 7C 1821+6419\n",
      "Ind#:18839, Id(SIMBAD): NGC  4922\n",
      "Ind#:19112, Id(NED): WISEA J151653.23+190048.3\n",
      "Ind#:19327, Id(SIMBAD): IC 3639\n",
      "Ind#:19332, Id(SIMBAD): Mrk  609\n",
      "Ind#:19726, Id(SIMBAD): ESO 602-25\n",
      "Ind#:19753, Id(SIMBAD): NGC  1358\n",
      "Ind#:19756, Id(SIMBAD): NGC  3147\n",
      "Ind#:19762, Id(SIMBAD): NGC  1056\n",
      "Ind#:19787, Id(SIMBAD): ESO 511-30\n",
      "Ind#:19864, Id(SIMBAD): SDSS J032845.99+011150.8\n",
      "Ind#:20093, Id(SIMBAD): NGC  5643\n",
      "Ind#:20224, Id(NED): SHOC 198\n",
      "Ind#:20558, Id(SIMBAD): 3C 343.1\n",
      "Ind#:20674, Id(NED): SBS 1626+554\n",
      "Ind#:20882, Id(SIMBAD): 2MASX J08035923+2345201\n",
      "Ind#:20907, Id(SIMBAD): NGC  3660\n",
      "Ind#:21104, Id(SIMBAD): LEDA   24384\n",
      "Ind#:21180, Id(SIMBAD): LEDA 2816291\n",
      "Ind#:21482, Id(NED): WISEA J135356.02+664800.5\n",
      "Ind#:21549, Id(SIMBAD): SDSS J143417.15+020742.3\n",
      "Ind#:22145, Id(SIMBAD): 2MASX J22041914+0333511\n",
      "Ind#:23575, Id(SIMBAD): SWIFT J0624.1-6059\n",
      "Ind#:24249, Id(NED): WISEA J114540.46-182714.8\n",
      "Ind#:24250, Id(SIMBAD): Mrk  926\n",
      "Ind#:26684, Id(NED): WISEA J000703.61+155423.7\n",
      "Ind#:26685, Id(NED): PG 1048+342\n",
      "Ind#:26698, Id(SIMBAD): LEDA   45656\n",
      "Ind#:26701, Id(SIMBAD): LEDA  101275\n",
      "Ind#:28360, Id(SIMBAD): 2MASX J14254352+3345275\n",
      "Ind#:28430, Id(SIMBAD): 2MASX J14304627+3513133\n",
      "Ind#:28431, Id(SIMBAD): 2MASX J14305363+3458364\n",
      "Ind#:29397, Id(SIMBAD): 2MASS J16370022+2221140\n",
      "Ind#:30120, Id(SIMBAD): 2XMM J094046.2+033929\n",
      "Ind#:30579, Id(SIMBAD): 2MASS J10520202+5633010\n",
      "Ind#:30977, Id(SIMBAD): 2XMM J094506.4+035552\n",
      "Ind#:30980, Id(SIMBAD): 2MASX J10032788+5541535\n",
      "Ind#:31365, Id(SIMBAD): 2XMM J115657.8+550820\n",
      "Ind#:31633, Id(SIMBAD): 2MASS J10272497+1219196\n",
      "Ind#:33900, Id(SIMBAD): [LGE2006] 12\n",
      "Ind#:34207, Id(SIMBAD): NGC  5347\n",
      "Ind#:34227, Id(SIMBAD): MCG-03-58-007\n",
      "Ind#:34260, Id(SIMBAD): 2MASX J12390630-1610472\n",
      "Ind#:34300, Id(SIMBAD): IRAS 11215-2806\n",
      "Ind#:34352, Id(SIMBAD): Mrk  883\n",
      "Ind#:34560, Id(SIMBAD): IRAS F00183-7111\n",
      "Ind#:34567, Id(SIMBAD): LEDA   37102\n",
      "Ind#:34770, Id(SIMBAD): 2MASX J00215355-7910077\n",
      "Ind#:34892, Id(SIMBAD): SDSS J120424.54+192509.7\n",
      "Ind#:35629, Id(SIMBAD): 2MASS J10434845+5811477\n",
      "Ind#:36058, Id(SIMBAD): 2XMM J142930.6+425148\n",
      "Ind#:36225, Id(SIMBAD): SDSS J161647.32+371621.2\n",
      "Ind#:36785, Id(SIMBAD): IRAS 03450+0055\n",
      "Ind#:36861, Id(NED): WISEA J145331.51+135358.6\n",
      "Ind#:36894, Id(SIMBAD): 3C 265.0\n",
      "Ind#:37240, Id(SIMBAD): LEDA   50824\n",
      "Ind#:37386, Id(SIMBAD): LEDA 2817285\n",
      "Ind#:37389, Id(SIMBAD): NGC  6810\n",
      "Ind#:37402, Id(SIMBAD): ICRF J090933.4+425346\n",
      "Ind#:37419, Id(SIMBAD): ESO 209-12\n",
      "Ind#:37553, Id(SIMBAD): LEDA   17155\n",
      "Ind#:38016, Id(SIMBAD): ESO 506-27\n",
      "Ind#:38204, Id(SIMBAD): LEDA  178130\n",
      "Ind#:38436, Id(NED): WISEA J183835.40+355220.1\n",
      "Ind#:38493, Id(NED): WISEA J134133.37-002432.1\n",
      "Ind#:38614, Id(SIMBAD): 3C 343\n",
      "Ind#:38628, Id(SIMBAD): LEDA 3095998\n",
      "Ind#:38637, Id(SIMBAD): Mrk   22\n",
      "Ind#:38638, Id(SIMBAD): Mrk 1066\n",
      "Ind#:39136, Id(SIMBAD): 2XMM J135315.8+634546\n",
      "Ind#:39137, Id(SIMBAD): 2E  2389\n",
      "Ind#:41589, Id(NED): WISEA J010835.15+214818.5\n",
      "Ind#:41735, Id(SIMBAD): 3C 234.0\n",
      "Ind#:41915, Id(NED): WISEA J105144.24+353930.7\n",
      "Ind#:42045, Id(SIMBAD): 2MASX J12135486+0247529\n",
      "Ind#:42459, Id(SIMBAD): LEDA   90127\n",
      "Ind#:42638, Id(SIMBAD): MCG+00-25-010\n",
      "Ind#:42771, Id(SIMBAD): UGC 11680\n",
      "Ind#:42772, Id(NED): WISEA J222554.26+195836.9\n",
      "Ind#:43648, Id(SIMBAD): ESO 148-2\n",
      "\n",
      "Total objects with emission of NeII or NeIII or NeV lines found:  347\n",
      "Execution Time(seg): 1907.4172377586365\n",
      "Execution Time(min): 31.790287295977276\n",
      "Execution Time(hrs): 0.5298381215996213\n"
     ]
    }
   ],
   "source": [
    "Ne_IR_obj = [] #List of objects with Ne-IR data\n",
    "\n",
    "outfile = open(path+'Obj_with_Ne-IR_'+today.strftime('%b_%d_%Y')+'.txt','w') #We create and open a file to write the list of objects names with Ne_IR data\n",
    "headerstring = f'#Objects with Ne II, Ne III and Ne V emission lines in IR (Created on {today}):\\n#' #Creating the header\n",
    "outfile.write(headerstring) #Writing the header\n",
    "\n",
    "start = time.time()\n",
    "for ind in range(len(simbad_sample_Sy)):\n",
    "    try:\n",
    "        phot_t = Ned.get_table(obj_name_SMB[ind], table='photometry') #We get the Photometry Table using SIMBAD names\n",
    "        Fr=phot_t['Frequency'] #We get the Frequency column from the table\n",
    "        if Ne_IR_Freq[0] in Fr or Ne_IR_Freq[1] in Fr or Ne_IR_Freq[2] in Fr or Ne_IR_Freq[3] in Fr or Ne_IR_Freq[4] in Fr:\n",
    "            print(f\"Ind#:{ind}, Id(SIMBAD): {obj_name_SMB[ind]}\")\n",
    "            #Writing the object names\n",
    "            outstring = f'\\n{obj_name_SMB[ind]}'\n",
    "            outfile.write(outstring) \n",
    "            Ne_IR_obj.append(obj_name_SMB[ind]) #Save the object name in the list Ne_IR_obj\n",
    "    except:\n",
    "        try:\n",
    "            result_t = Ned.query_region(cat_smb_sample[ind],radius=0.0005 * u.deg) #For obtaining the data from NED for each sample \n",
    "            obj_name_NED=result_t[\"Object Name\"] \n",
    "            phot_t = Ned.get_table(obj_name_NED, table='photometry')\n",
    "            Fr=phot_t['Frequency']\n",
    "            if Ne_IR_Freq[0] in Fr or Ne_IR_Freq[1] in Fr or Ne_IR_Freq[2] in Fr or Ne_IR_Freq[3] in Fr or Ne_IR_Freq[4] in Fr:\n",
    "                print(f\"Ind#:{ind}, Id(NED): {obj_name_NED[0]}\")\n",
    "                #Writing the object names\n",
    "                outstring = f'\\n{obj_name_NED[0]}'\n",
    "                outfile.write(outstring) \n",
    "                Ne_IR_obj.append(obj_name_NED[0]) #Save the object name in the list Ne_IR_obj\n",
    "        except:\n",
    "            pass\n",
    "end = time.time()\n",
    "\n",
    "#we close the file with objects names\n",
    "outfile.close()\n",
    "\n",
    "print('\\nTotal objects with emission of NeII or NeIII or NeV lines found: ',len(Ne_IR_obj))\n",
    "print('Execution Time(seg): ' + str(end - start))\n",
    "print('Execution Time(min): ' + str((end - start)/60))\n",
    "print('Execution Time(hrs): ' + str((end - start)/3600))"
   ]
  },
  {
   "cell_type": "markdown",
   "id": "31e54592",
   "metadata": {},
   "source": [
    "Las celdas a continuación son para pruebas:"
   ]
  },
  {
   "cell_type": "code",
   "execution_count": null,
   "id": "c3df0948",
   "metadata": {},
   "outputs": [],
   "source": [
    "x=100"
   ]
  },
  {
   "cell_type": "code",
   "execution_count": null,
   "id": "b5937d7e",
   "metadata": {},
   "outputs": [],
   "source": [
    "simbad_sample_Sy[x]"
   ]
  },
  {
   "cell_type": "code",
   "execution_count": null,
   "id": "5d33651b",
   "metadata": {},
   "outputs": [],
   "source": [
    "cat_smb_sample[x]"
   ]
  },
  {
   "cell_type": "code",
   "execution_count": 10,
   "id": "DvHi0rgEJPcP",
   "metadata": {
    "colab": {
     "base_uri": "https://localhost:8080/"
    },
    "executionInfo": {
     "elapsed": 234,
     "status": "ok",
     "timestamp": 1633483845986,
     "user": {
      "displayName": "Jonhatan Herney Bernal Salinas",
      "photoUrl": "https://lh3.googleusercontent.com/a-/AOh14GiKhXNQ_goIeesq2w4kv4vwiz7BZTUIiIDZFS6iHA=s64",
      "userId": "11704227221814557955"
     },
     "user_tz": 300
    },
    "id": "DvHi0rgEJPcP",
    "outputId": "5e6d6024-2063-4196-8cca-9ce4c808d317"
   },
   "outputs": [
    {
     "name": "stdout",
     "output_type": "stream",
     "text": [
      "Author: Jonhatan Bernal\n",
      "\n",
      "Python implementation: CPython\n",
      "Python version       : 3.8.8\n",
      "IPython version      : 7.27.0\n",
      "\n",
      "Compiler    : MSC v.1928 64 bit (AMD64)\n",
      "OS          : Windows\n",
      "Release     : 10\n",
      "Machine     : AMD64\n",
      "Processor   : AMD64 Family 21 Model 2 Stepping 0, AuthenticAMD\n",
      "CPU cores   : 8\n",
      "Architecture: 64bit\n",
      "\n",
      "Specific Python packages\n",
      "astropy: 4.3.1\n",
      "\n",
      "pyvo   : 1.1\n",
      "numpy  : 1.20.3\n",
      "astropy: 4.3.1\n",
      "\n",
      "Watermark: 2.2.0\n",
      "\n"
     ]
    }
   ],
   "source": [
    "%load_ext watermark\n",
    "%watermark -a \"Jonhatan Bernal\" -d -v -m\n",
    "print('Specific Python packages')\n",
    "%watermark -iv -w --packages astropy"
   ]
  },
  {
   "cell_type": "code",
   "execution_count": null,
   "id": "78f15cfb",
   "metadata": {},
   "outputs": [],
   "source": []
  }
 ],
 "metadata": {
  "colab": {
   "name": "Obtain_Samples_AGNs_Ne_IR.ipynb",
   "provenance": []
  },
  "kernelspec": {
   "display_name": "Python 3 (ipykernel)",
   "language": "python",
   "name": "python3"
  },
  "language_info": {
   "codemirror_mode": {
    "name": "ipython",
    "version": 3
   },
   "file_extension": ".py",
   "mimetype": "text/x-python",
   "name": "python",
   "nbconvert_exporter": "python",
   "pygments_lexer": "ipython3",
   "version": "3.8.8"
  }
 },
 "nbformat": 4,
 "nbformat_minor": 5
}
