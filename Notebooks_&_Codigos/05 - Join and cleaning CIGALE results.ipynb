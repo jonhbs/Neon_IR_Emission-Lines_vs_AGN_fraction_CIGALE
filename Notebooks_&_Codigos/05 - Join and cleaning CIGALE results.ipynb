{
 "cells": [
  {
   "cell_type": "code",
   "execution_count": 1,
   "id": "b074f004",
   "metadata": {},
   "outputs": [],
   "source": [
    "from astropy.table import Table, Column, table, vstack, setdiff\n",
    "from pathlib import Path\n",
    "\n",
    "import numpy as np\n",
    "\n",
    "from matplotlib import pyplot as plt"
   ]
  },
  {
   "cell_type": "code",
   "execution_count": 2,
   "id": "d457e1f6",
   "metadata": {},
   "outputs": [],
   "source": [
    "path_raw='../Datos/Raw/'\n",
    "path_phot_ned = '../Datos/Work/Phot_Tables_NED/' #In this path wi will save the photometry tables for each object\n",
    "path_phot_cds = '../Datos/Work/Phot_Tables_CDS/'\n",
    "path_SED = '../Datos/Work/SEDs/'\n",
    "path_CIGALE_phot = '../Datos/Work/CIGALE_InputPhot/'\n",
    "path_CIGALE_out = '../Datos/Work/CIGALE_Output/'\n",
    "path_FINAL = '../Datos/Final/'\n",
    "\n",
    "groups = ['Group_01/','Group_02/','Group_03/','Group_04/','Group_05/',\\\n",
    "          'Group_06/','Group_07/','Group_08/','Group_09/','Group_10/']\n",
    "out = ['out_1/','out_2/']"
   ]
  },
  {
   "cell_type": "markdown",
   "id": "6fe4b264",
   "metadata": {},
   "source": [
    "Read and join all the results of CIGALE of each group: out_1 (parameter i between 0° and 40°) and out 2 (parameter i between 0° and 40°) "
   ]
  },
  {
   "cell_type": "code",
   "execution_count": 3,
   "id": "8dc0e8e2",
   "metadata": {},
   "outputs": [],
   "source": [
    "output_1 = Table()\n",
    "output_2 = Table()\n",
    "\n",
    "for i in range(10):\n",
    "    CIGPhotIn = Table()\n",
    "    out_1 = Table()\n",
    "    out_2 = Table()\n",
    "    CIGPhotIn = Table.read(path_CIGALE_phot+'CIGPhot_EnergyBal_'+str(i+1)+'.tbl', format='ascii')\n",
    "    out_1 = Table.read(path_CIGALE_out+groups[i]+out[0]+'results.fits',format='fits')\n",
    "    out_2 = Table.read(path_CIGALE_out+groups[i]+out[1]+'results.fits',format='fits')\n",
    "    \n",
    "    out_1 = out_1[np.concatenate([np.where(out_1['id'] == oid)[0] for oid in CIGPhotIn['id']])]\n",
    "    out_2 = out_2[np.concatenate([np.where(out_2['id'] == oid)[0] for oid in CIGPhotIn['id']])]\n",
    "    \n",
    "    output_1 = vstack([out_1, output_1]) #Join all the result tables from CIGALE\n",
    "    output_2 = vstack([out_2, output_2]) #Join all the result tables from CIGALE\n",
    "    \n",
    "output_1['log.reduced_chi_square'] = np.log10(output_1['best.reduced_chi_square'])\n",
    "output_2['log.reduced_chi_square'] = np.log10(output_2['best.reduced_chi_square'])"
   ]
  },
  {
   "cell_type": "code",
   "execution_count": 22,
   "id": "5a6dcd3a",
   "metadata": {},
   "outputs": [
    {
     "data": {
      "text/plain": [
       "<matplotlib.legend.Legend at 0x7fdbcf735a30>"
      ]
     },
     "execution_count": 22,
     "metadata": {},
     "output_type": "execute_result"
    },
    {
     "data": {
      "image/png": "[encoded data removed]",
      "text/plain": [
       "<Figure size 640x480 with 1 Axes>"
      ]
     },
     "metadata": {},
     "output_type": "display_data"
    }
   ],
   "source": [
    "binsChiS = np.linspace(-2.0, 2.5, 46)  # Assuming Chisquare bins in this ranges\n",
    "plt.hist(output_1['log.reduced_chi_square'], bins=binsChiS, histtype='step', label='out_1')\n",
    "plt.hist(output_2['log.reduced_chi_square'], bins=binsChiS, histtype='step', label='out_2')\n",
    "plt.axvline(x=-0.5,ls='--',color='gray')\n",
    "plt.axvline(x=0.5,ls='--',color='gray')\n",
    "plt.xlabel(r'$\\log(\\chi^2_{\\rm{red}})$')\n",
    "plt.ylabel('Counts')\n",
    "plt.legend()"
   ]
  },
  {
   "cell_type": "markdown",
   "id": "824aea48",
   "metadata": {},
   "source": [
    "Re-order the two tables by id according the general table from the input data of CIGALE (Notebook 4):"
   ]
  },
  {
   "cell_type": "code",
   "execution_count": 4,
   "id": "12cb1378",
   "metadata": {},
   "outputs": [],
   "source": [
    "Phot = Table.read(path_FINAL+'CIGPhot_EnergyBal_All.tbl', format='ascii')\n",
    "Nbands = [sum(~np.isnan(list(row)[2::2])) for row in Phot]\n",
    "output_1 = output_1[np.concatenate([np.where(output_1['id'] == oid)[0] for oid in Phot['id']])]\n",
    "output_2 = output_2[np.concatenate([np.where(output_2['id'] == oid)[0] for oid in Phot['id']])]"
   ]
  },
  {
   "cell_type": "markdown",
   "id": "6d61757a",
   "metadata": {},
   "source": [
    "To select for each galaxy what results we are going to use from the two groups of results from CIGALE, we use the Bayesian inference criterion (BIC) defined as $\\rm{BIC}= \\chi^2 + k\\times\\ln(N)$, where k is the number of parameters and N are the number of data points (bands), and is an approximation of the Bayes factor ([Buat et. al 2019](https://ui.adsabs.harvard.edu/abs/2019A%26A...632A..79B/abstract), [Salmon et al. 2016](https://ui.adsabs.harvard.edu/abs/2016ApJ...827...20S/abstract)). Then, we can calculate the $\\Delta\\rm{BIC}$ to compare the out_1 and the out_2 models."
   ]
  },
  {
   "cell_type": "code",
   "execution_count": 5,
   "id": "2f205a5c",
   "metadata": {},
   "outputs": [],
   "source": [
    "output_1['DBIC'] = output_1['best.chi_square'] - output_2['best.chi_square']\n",
    "output_2['DBIC'] = output_2['best.chi_square'] - output_1['best.chi_square']"
   ]
  },
  {
   "cell_type": "code",
   "execution_count": 6,
   "id": "9bb454b8",
   "metadata": {},
   "outputs": [],
   "source": [
    "out_1_clean = output_1[np.logical_and.reduce([output_1['best.reduced_chi_square'] <= 10**0.5, \\\n",
    "                                            output_1['best.reduced_chi_square'] >= 10**-0.5,\\\n",
    "                                            output_1['DBIC'] < 2])]\n",
    "\n",
    "out_2_clean = output_2[np.logical_and.reduce([output_2['best.reduced_chi_square'] <= 10**0.5, \\\n",
    "                                            output_2['best.reduced_chi_square'] >= 10**-0.5, \\\n",
    "                                            output_2['DBIC'] < 2])]"
   ]
  },
  {
   "cell_type": "markdown",
   "id": "62dc48c5",
   "metadata": {},
   "source": [
    "Number of galaxies removed after the cleaining"
   ]
  },
  {
   "cell_type": "code",
   "execution_count": 7,
   "id": "e9f03fd8",
   "metadata": {},
   "outputs": [
    {
     "name": "stdout",
     "output_type": "stream",
     "text": [
      "The number of galaxies removed in out_1 are: 249\n",
      "The number of galaxies removed in out_2 are: 225\n"
     ]
    }
   ],
   "source": [
    "removed_galaxies_1 = len(output_1)-len(out_1_clean)\n",
    "removed_galaxies_2 = len(output_2)-len(out_2_clean)\n",
    "print('The number of galaxies removed in out_1 are:',removed_galaxies_1)\n",
    "print('The number of galaxies removed in out_2 are:',removed_galaxies_2)"
   ]
  },
  {
   "cell_type": "code",
   "execution_count": 8,
   "id": "7358026f",
   "metadata": {},
   "outputs": [],
   "source": [
    "Cond1 = sum(np.logical_or(output_1['best.reduced_chi_square'] >= 10**0.5, \\\n",
    "                          output_1['best.reduced_chi_square'] <= 10**-0.5))/removed_galaxies_1\n",
    "Cond2 = sum(output_1['DBIC'] >= 2)/removed_galaxies_1"
   ]
  },
  {
   "cell_type": "code",
   "execution_count": 9,
   "id": "00926168",
   "metadata": {},
   "outputs": [
    {
     "data": {
      "text/plain": [
       "0.8955823293172691"
      ]
     },
     "execution_count": 9,
     "metadata": {},
     "output_type": "execute_result"
    }
   ],
   "source": [
    "Cond1"
   ]
  },
  {
   "cell_type": "markdown",
   "id": "b766fa55",
   "metadata": {},
   "source": [
    "Now we are going to detect which galaxies are still in both out_1 and out_2 tables. This happends because in both cases the $\\Delta\\rm{BIC}$ was < 2 in each table"
   ]
  },
  {
   "cell_type": "code",
   "execution_count": 10,
   "id": "295bc88c",
   "metadata": {},
   "outputs": [],
   "source": [
    "sdiff_1 = setdiff(out_1_clean, out_2_clean, keys=['id']) #galaxies that are in out_1_clean but not in out_2_clean\n",
    "galx_in_1_2 = setdiff(out_1_clean, sdiff_1, keys=['id']) #galaxies that are in out_1_clean but not in sdiff_1\n",
    "\n",
    "sdiff_2 = setdiff(out_2_clean, out_1_clean, keys=['id']) #galaxies that are in out_2_clean but not in out_1_clean\n",
    "galx_in_2_1 = setdiff(out_2_clean, sdiff_2, keys=['id']) #galaxies that are in out_2_clean but not in sdiff_2"
   ]
  },
  {
   "cell_type": "markdown",
   "id": "bc12c1f3",
   "metadata": {},
   "source": [
    "**\"galx_in_1_2\" and \"galx_in_2_1\" must to have the same galaxies!**. These are the galaxies that are in out_1 and out_2 after the first cleaning"
   ]
  },
  {
   "cell_type": "code",
   "execution_count": 11,
   "id": "e90eeaf3",
   "metadata": {},
   "outputs": [
    {
     "data": {
      "text/html": [
       "<div><i>Table length=12</i>\n",
       "<table id=\"table140582076174832\" class=\"table-striped table-bordered table-condensed\">\n",
       "<thead><tr><th>id</th><th>bayes.agn.i</th><th>DBIC</th><th>bayes.agn.fracAGN</th><th>bayes.agn.fracAGN_err</th><th>best.reduced_chi_square</th></tr></thead>\n",
       "<thead><tr><th></th><th>deg</th><th></th><th></th><th></th><th></th></tr></thead>\n",
       "<thead><tr><th>bytes26</th><th>float64</th><th>float64</th><th>float64</th><th>float64</th><th>float64</th></tr></thead>\n",
       "<tr><td>2C 1883</td><td>24.145652952403985</td><td>-1.5401167015662907</td><td>0.10049235409817402</td><td>0.00493775070050137</td><td>1.9118542546292236</td></tr>\n",
       "<tr><td>2MASS J22255427+1958370</td><td>17.30436684575215</td><td>-0.9748554714976212</td><td>0.7777985012141335</td><td>0.09277788847973355</td><td>0.744351440526346</td></tr>\n",
       "<tr><td>ESO 140-43</td><td>12.42403790243719</td><td>1.88619402248899</td><td>0.8529978808513041</td><td>0.013182541267928337</td><td>1.3844477863369917</td></tr>\n",
       "<tr><td>ESO 417-6</td><td>17.87974945993726</td><td>-1.317077173823634</td><td>0.5719352979589454</td><td>0.04384712016492106</td><td>2.819210212564002</td></tr>\n",
       "<tr><td>IRAS 15091-2107</td><td>25.065946231868967</td><td>-1.1026812031322066</td><td>0.7128427256191021</td><td>0.02352157993599299</td><td>2.108589926952913</td></tr>\n",
       "<tr><td>LEDA 3095998</td><td>21.529501614709947</td><td>1.6780849124682682</td><td>0.10017517860705573</td><td>0.0031922557898241173</td><td>0.8092576162341433</td></tr>\n",
       "<tr><td>Mrk   79</td><td>7.710626649808848</td><td>1.5079555862292295</td><td>0.7975752530894813</td><td>0.010897403595890415</td><td>1.9537383233964216</td></tr>\n",
       "<tr><td>Mrk  883</td><td>21.558078064235723</td><td>0.21647484704758924</td><td>0.10650956905026687</td><td>0.016863246393831337</td><td>0.5428952970188512</td></tr>\n",
       "<tr><td>Mrk 1513</td><td>39.74231123037971</td><td>-0.3865152339362794</td><td>0.8704377809151386</td><td>0.024583452974866245</td><td>3.0871899476235796</td></tr>\n",
       "<tr><td>NGC  7469</td><td>16.749638437260884</td><td>1.9377975802534735</td><td>0.10000668840480807</td><td>0.0005782529769112368</td><td>2.6536420993718024</td></tr>\n",
       "<tr><td>UGC 12138</td><td>23.57943842753279</td><td>-1.8276926223165866</td><td>0.6104590177978488</td><td>0.05588782195845942</td><td>1.273337020141882</td></tr>\n",
       "<tr><td>[VV2003c] J124819.8+662143</td><td>19.890667483262906</td><td>0.9709840223168946</td><td>0.19572168428765507</td><td>0.044823837013642696</td><td>0.9115245638342594</td></tr>\n",
       "</table></div>"
      ],
      "text/plain": [
       "<Table length=12>\n",
       "            id                bayes.agn.i     ... best.reduced_chi_square\n",
       "                                  deg         ...                        \n",
       "         bytes26                float64       ...         float64        \n",
       "-------------------------- ------------------ ... -----------------------\n",
       "                   2C 1883 24.145652952403985 ...      1.9118542546292236\n",
       "   2MASS J22255427+1958370  17.30436684575215 ...       0.744351440526346\n",
       "                ESO 140-43  12.42403790243719 ...      1.3844477863369917\n",
       "                 ESO 417-6  17.87974945993726 ...       2.819210212564002\n",
       "           IRAS 15091-2107 25.065946231868967 ...       2.108589926952913\n",
       "              LEDA 3095998 21.529501614709947 ...      0.8092576162341433\n",
       "                  Mrk   79  7.710626649808848 ...      1.9537383233964216\n",
       "                  Mrk  883 21.558078064235723 ...      0.5428952970188512\n",
       "                  Mrk 1513  39.74231123037971 ...      3.0871899476235796\n",
       "                 NGC  7469 16.749638437260884 ...      2.6536420993718024\n",
       "                 UGC 12138  23.57943842753279 ...       1.273337020141882\n",
       "[VV2003c] J124819.8+662143 19.890667483262906 ...      0.9115245638342594"
      ]
     },
     "execution_count": 11,
     "metadata": {},
     "output_type": "execute_result"
    }
   ],
   "source": [
    "galx_in_1_2['id','bayes.agn.i','DBIC','bayes.agn.fracAGN','bayes.agn.fracAGN_err','best.reduced_chi_square']"
   ]
  },
  {
   "cell_type": "code",
   "execution_count": 12,
   "id": "e6b15363",
   "metadata": {},
   "outputs": [
    {
     "data": {
      "text/html": [
       "<div><i>Table length=12</i>\n",
       "<table id=\"table140582077944544\" class=\"table-striped table-bordered table-condensed\">\n",
       "<thead><tr><th>id</th><th>bayes.agn.i</th><th>DBIC</th><th>bayes.agn.fracAGN</th><th>bayes.agn.fracAGN_err</th><th>best.reduced_chi_square</th></tr></thead>\n",
       "<thead><tr><th></th><th>deg</th><th></th><th></th><th></th><th></th></tr></thead>\n",
       "<thead><tr><th>bytes26</th><th>float64</th><th>float64</th><th>float64</th><th>float64</th><th>float64</th></tr></thead>\n",
       "<tr><td>2C 1883</td><td>50.81842491206819</td><td>1.5401167015662907</td><td>0.11332112775238543</td><td>0.025141415005005174</td><td>1.9974162936051287</td></tr>\n",
       "<tr><td>2MASS J22255427+1958370</td><td>50.924762838794464</td><td>0.9748554714976212</td><td>0.7228003618225171</td><td>0.12175474626127512</td><td>0.8329746652079479</td></tr>\n",
       "<tr><td>ESO 140-43</td><td>50.00008010856014</td><td>-1.88619402248899</td><td>0.8216338937981892</td><td>0.054923700647671166</td><td>1.285174416732308</td></tr>\n",
       "<tr><td>ESO 417-6</td><td>50.74673269571298</td><td>1.317077173823634</td><td>0.5273427845037293</td><td>0.07035692978591923</td><td>2.901527535927979</td></tr>\n",
       "<tr><td>IRAS 15091-2107</td><td>50.00000147430416</td><td>1.1026812031322066</td><td>0.7179321129210998</td><td>0.030020063162792182</td><td>2.156532587958661</td></tr>\n",
       "<tr><td>LEDA 3095998</td><td>77.09923799429123</td><td>-1.6780849124682682</td><td>0.13870063473849112</td><td>0.09075242622477846</td><td>0.6973852887362587</td></tr>\n",
       "<tr><td>Mrk   79</td><td>50.743067647129024</td><td>-1.5079555862292295</td><td>0.6962286955418483</td><td>0.0481889206349962</td><td>1.8978881164990427</td></tr>\n",
       "<tr><td>Mrk  883</td><td>68.08109459872324</td><td>-0.21647484704758924</td><td>0.1622780983563833</td><td>0.04889716370003436</td><td>0.5293656190783769</td></tr>\n",
       "<tr><td>Mrk 1513</td><td>50.00000000022896</td><td>0.3865152339362794</td><td>0.7486503473536369</td><td>0.008123893014406676</td><td>3.1039949577947223</td></tr>\n",
       "<tr><td>NGC  7469</td><td>78.16892937260698</td><td>-1.9377975802534735</td><td>0.4045293289243102</td><td>0.06311712218255112</td><td>2.5844350429341785</td></tr>\n",
       "<tr><td>UGC 12138</td><td>50.2371517980941</td><td>1.8276926223165866</td><td>0.6747952616835476</td><td>0.052852632646502105</td><td>1.3603700021569576</td></tr>\n",
       "<tr><td>[VV2003c] J124819.8+662143</td><td>58.410651994175744</td><td>-0.9709840223168946</td><td>0.23232596091471927</td><td>0.06654945006537949</td><td>0.8368334851944983</td></tr>\n",
       "</table></div>"
      ],
      "text/plain": [
       "<Table length=12>\n",
       "            id                bayes.agn.i     ... best.reduced_chi_square\n",
       "                                  deg         ...                        \n",
       "         bytes26                float64       ...         float64        \n",
       "-------------------------- ------------------ ... -----------------------\n",
       "                   2C 1883  50.81842491206819 ...      1.9974162936051287\n",
       "   2MASS J22255427+1958370 50.924762838794464 ...      0.8329746652079479\n",
       "                ESO 140-43  50.00008010856014 ...       1.285174416732308\n",
       "                 ESO 417-6  50.74673269571298 ...       2.901527535927979\n",
       "           IRAS 15091-2107  50.00000147430416 ...       2.156532587958661\n",
       "              LEDA 3095998  77.09923799429123 ...      0.6973852887362587\n",
       "                  Mrk   79 50.743067647129024 ...      1.8978881164990427\n",
       "                  Mrk  883  68.08109459872324 ...      0.5293656190783769\n",
       "                  Mrk 1513  50.00000000022896 ...      3.1039949577947223\n",
       "                 NGC  7469  78.16892937260698 ...      2.5844350429341785\n",
       "                 UGC 12138   50.2371517980941 ...      1.3603700021569576\n",
       "[VV2003c] J124819.8+662143 58.410651994175744 ...      0.8368334851944983"
      ]
     },
     "execution_count": 12,
     "metadata": {},
     "output_type": "execute_result"
    }
   ],
   "source": [
    "galx_in_2_1['id','bayes.agn.i','DBIC','bayes.agn.fracAGN','bayes.agn.fracAGN_err','best.reduced_chi_square']"
   ]
  },
  {
   "cell_type": "code",
   "execution_count": 13,
   "id": "2d16606d",
   "metadata": {},
   "outputs": [],
   "source": [
    "to_rem_o1 = [out_1_clean.remove_rows(np.where(out_1_clean['id'] == i)[0]) for i in galx_in_1_2['id']]\n",
    "to_rem_o2 = [out_2_clean.remove_rows(np.where(out_2_clean['id'] == i)[0]) for i in galx_in_2_1['id']]"
   ]
  },
  {
   "cell_type": "code",
   "execution_count": 14,
   "id": "ffd37eb9",
   "metadata": {},
   "outputs": [
    {
     "data": {
      "text/html": [
       "<div><i>Table length=92</i>\n",
       "<table id=\"table140583040626352\" class=\"table-striped table-bordered table-condensed\">\n",
       "<thead><tr><th>id</th><th>bayes.agn.fracAGN</th><th>bayes.agn.fracAGN_err</th><th>bayes.agn.i</th><th>bayes.agn.i_err</th><th>best.reduced_chi_square</th></tr></thead>\n",
       "<thead><tr><th></th><th></th><th></th><th>deg</th><th>deg</th><th></th></tr></thead>\n",
       "<thead><tr><th>bytes26</th><th>float64</th><th>float64</th><th>float64</th><th>float64</th><th>float64</th></tr></thead>\n",
       "<tr><td>3C 234.0</td><td>0.6152849893143326</td><td>0.06297197598042098</td><td>68.68651792673369</td><td>3.3778824115135047</td><td>1.571543266404707</td></tr>\n",
       "<tr><td>2MASS J13000535+1632148</td><td>0.899273174709466</td><td>0.005985980504553072</td><td>60.00034211182109</td><td>0.058489411166235517</td><td>2.8333819812086842</td></tr>\n",
       "<tr><td>LEDA   45656</td><td>0.8472202932086663</td><td>0.01151398898386999</td><td>33.63494915560232</td><td>7.94023216707574</td><td>2.2454603529280117</td></tr>\n",
       "<tr><td>Mrk 1239</td><td>0.8365647091501113</td><td>0.02432237125246894</td><td>50.000000000000014</td><td>2.569164998981261e-07</td><td>1.8967714733159189</td></tr>\n",
       "<tr><td>LEDA   89032</td><td>0.6957030429683679</td><td>0.10199481397442349</td><td>17.99686557526552</td><td>13.315502066396546</td><td>2.0966484839026136</td></tr>\n",
       "<tr><td>LEDA   89511</td><td>0.8460700406566882</td><td>0.021547623019378785</td><td>60.000563585316</td><td>0.07507020402380189</td><td>1.9016316971799583</td></tr>\n",
       "<tr><td>Mrk  493</td><td>0.49129190376927084</td><td>0.03327493391686072</td><td>50.04689018034157</td><td>0.7134460032683382</td><td>1.2886078561494567</td></tr>\n",
       "<tr><td>LEDA   90196</td><td>0.18766213124853867</td><td>0.063784338572934</td><td>73.63566761611061</td><td>6.942441234748504</td><td>1.7454627080454634</td></tr>\n",
       "<tr><td>[VV2000] J235225.0+244009</td><td>0.4344462701429086</td><td>0.09700568094848022</td><td>50.00156383439838</td><td>0.12546584520188178</td><td>1.7307044224021286</td></tr>\n",
       "<tr><td>...</td><td>...</td><td>...</td><td>...</td><td>...</td><td>...</td></tr>\n",
       "<tr><td>NGC  5033</td><td>0.10003009385658464</td><td>0.0012263123920628273</td><td>14.35717325147909</td><td>12.683045734198583</td><td>2.237033497250444</td></tr>\n",
       "<tr><td>MCG-03-58-007</td><td>0.5898292668728685</td><td>0.10456965454154472</td><td>54.72985793809802</td><td>5.0425779097556696</td><td>1.4325264271212466</td></tr>\n",
       "<tr><td>2E  2503</td><td>0.8367835111292109</td><td>0.05957171520316019</td><td>6.23207050767036</td><td>7.334487069774481</td><td>1.323503755074979</td></tr>\n",
       "<tr><td>2MASX J12135486+0247529</td><td>0.2584207057123706</td><td>0.042566540771533795</td><td>86.82122137244804</td><td>5.2170011642411245</td><td>2.6554203960877856</td></tr>\n",
       "<tr><td>ICRF J015002.6-072548</td><td>0.8831773445740818</td><td>0.03659933741264085</td><td>89.99474807821643</td><td>0.23018328617459322</td><td>3.1347262463669114</td></tr>\n",
       "<tr><td>LBQS 1244+0238</td><td>0.8168006707097778</td><td>0.03663035119572793</td><td>18.529225971649865</td><td>14.565536666021782</td><td>1.7296322401295297</td></tr>\n",
       "<tr><td>Mrk  478</td><td>0.5013857620944656</td><td>0.041378381552139507</td><td>38.00978113511563</td><td>4.589011573740753</td><td>0.9384848399859725</td></tr>\n",
       "<tr><td>NGC  4507</td><td>0.6974613078191574</td><td>0.026972582282179712</td><td>53.31364786901562</td><td>5.3269540939723266</td><td>3.110304094007426</td></tr>\n",
       "<tr><td>2XMM J115657.8+550820</td><td>0.5911172907753187</td><td>0.04781021411429507</td><td>89.13374789592729</td><td>2.976024089528331</td><td>3.0409946861419996</td></tr>\n",
       "<tr><td>2MASX J00215355-7910077</td><td>0.8284035522037789</td><td>0.0527380807086683</td><td>61.714289959163246</td><td>3.812500887934251</td><td>2.817290371277146</td></tr>\n",
       "</table></div>"
      ],
      "text/plain": [
       "<Table length=92>\n",
       "            id             bayes.agn.fracAGN  ... best.reduced_chi_square\n",
       "                                              ...                        \n",
       "         bytes26                float64       ...         float64        \n",
       "------------------------- ------------------- ... -----------------------\n",
       "                 3C 234.0  0.6152849893143326 ...       1.571543266404707\n",
       "  2MASS J13000535+1632148   0.899273174709466 ...      2.8333819812086842\n",
       "             LEDA   45656  0.8472202932086663 ...      2.2454603529280117\n",
       "                 Mrk 1239  0.8365647091501113 ...      1.8967714733159189\n",
       "             LEDA   89032  0.6957030429683679 ...      2.0966484839026136\n",
       "             LEDA   89511  0.8460700406566882 ...      1.9016316971799583\n",
       "                 Mrk  493 0.49129190376927084 ...      1.2886078561494567\n",
       "             LEDA   90196 0.18766213124853867 ...      1.7454627080454634\n",
       "[VV2000] J235225.0+244009  0.4344462701429086 ...      1.7307044224021286\n",
       "                      ...                 ... ...                     ...\n",
       "                NGC  5033 0.10003009385658464 ...       2.237033497250444\n",
       "            MCG-03-58-007  0.5898292668728685 ...      1.4325264271212466\n",
       "                 2E  2503  0.8367835111292109 ...       1.323503755074979\n",
       "  2MASX J12135486+0247529  0.2584207057123706 ...      2.6554203960877856\n",
       "    ICRF J015002.6-072548  0.8831773445740818 ...      3.1347262463669114\n",
       "           LBQS 1244+0238  0.8168006707097778 ...      1.7296322401295297\n",
       "                 Mrk  478  0.5013857620944656 ...      0.9384848399859725\n",
       "                NGC  4507  0.6974613078191574 ...       3.110304094007426\n",
       "    2XMM J115657.8+550820  0.5911172907753187 ...      3.0409946861419996\n",
       "  2MASX J00215355-7910077  0.8284035522037789 ...       2.817290371277146"
      ]
     },
     "execution_count": 14,
     "metadata": {},
     "output_type": "execute_result"
    }
   ],
   "source": [
    "results = vstack([out_1_clean, out_2_clean])\n",
    "results = results[np.concatenate([np.where(results['id'] == oid)[0] for oid in Phot['id']])]\n",
    "results.write(path_CIGALE_out+'results_All.fits', format='fits',overwrite=True)\n",
    "results.write(path_CIGALE_out+'results_All.txt', format='ascii',overwrite=True)\n",
    "results['id','bayes.agn.fracAGN','bayes.agn.fracAGN_err','bayes.agn.i','bayes.agn.i_err','best.reduced_chi_square']"
   ]
  },
  {
   "cell_type": "code",
   "execution_count": null,
   "id": "3846432c",
   "metadata": {},
   "outputs": [],
   "source": []
  }
 ],
 "metadata": {
  "kernelspec": {
   "display_name": "Python 3 (ipykernel)",
   "language": "python",
   "name": "python3"
  },
  "language_info": {
   "codemirror_mode": {
    "name": "ipython",
    "version": 3
   },
   "file_extension": ".py",
   "mimetype": "text/x-python",
   "name": "python",
   "nbconvert_exporter": "python",
   "pygments_lexer": "ipython3",
   "version": "3.9.12"
  }
 },
 "nbformat": 4,
 "nbformat_minor": 5
}
