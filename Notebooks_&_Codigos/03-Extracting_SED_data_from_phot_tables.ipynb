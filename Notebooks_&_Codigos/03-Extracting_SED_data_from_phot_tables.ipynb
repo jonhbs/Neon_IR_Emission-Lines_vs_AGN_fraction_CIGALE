{
 "cells": [
  {
   "cell_type": "markdown",
   "id": "2e1d4ab0",
   "metadata": {},
   "source": [
    "# Extracting the data from the photometry table downloaded from NED for each galaxy\n",
    "\n",
    "We define the path where the photometry tables from NED was saved and the date when those tables was downloaded"
   ]
  },
  {
   "cell_type": "code",
   "execution_count": 2,
   "id": "7a57a17a",
   "metadata": {},
   "outputs": [],
   "source": [
    "from datetime import date\n",
    "import time\n",
    "import pandas as pd\n",
    "import numpy as np\n",
    "import csv\n",
    "import astropy.units as u\n",
    "\n",
    "from astroquery.ipac.ned import Ned\n",
    "from astropy.table import Table\n",
    "from pathlib import Path\n",
    "\n",
    "from matplotlib import pyplot as plt"
   ]
  },
  {
   "cell_type": "code",
   "execution_count": 5,
   "id": "c4cdbc82",
   "metadata": {},
   "outputs": [],
   "source": [
    "path_raw = '../Datos/Raw/'\n",
    "path_phot_data = '../Datos/Phot_Tables/' #In this path was saved the photometry tables for each object\n",
    "path_votables = '../Datos/VOTables/' #In this path we will save the VOtables for each object\n",
    "Path(path_votables).mkdir(parents=True, exist_ok=True)\n",
    "date_samples = 'Mar_03_2022'\n",
    "\n",
    "sample = pd.read_csv(path_raw+'Obj_Ne-IR_v2_Mar_03_2022.csv')"
   ]
  },
  {
   "cell_type": "code",
   "execution_count": 6,
   "id": "d62a634e",
   "metadata": {},
   "outputs": [],
   "source": [
    "i=33\n",
    "Ne_info = ['NeII|NeIII|NeV','NeII|NeV','NeIII|NeV']\n",
    "ind_sample = [np.where(sample['Ne_IR_info'] == Ne_inf)[0] for Ne_inf in Ne_info]\n",
    "phot_ned = Table.read(path_phot_data+sample['Name_Id'][ind_sample[0][i]]+'_'+date_samples+'_phot_tables'+'.vot', \n",
    "                      format='votable')"
   ]
  },
  {
   "cell_type": "code",
   "execution_count": 8,
   "id": "924b29ba",
   "metadata": {},
   "outputs": [
    {
     "data": {
      "text/plain": [
       "'3C  84'"
      ]
     },
     "execution_count": 8,
     "metadata": {},
     "output_type": "execute_result"
    }
   ],
   "source": [
    "sample['Name_Id'][ind_sample[0][i]]"
   ]
  },
  {
   "cell_type": "code",
   "execution_count": 7,
   "id": "e280629a",
   "metadata": {},
   "outputs": [
    {
     "data": {
      "text/html": [
       "<div><i>Table length=655</i>\n",
       "<table id=\"table140604858285840\" class=\"table-striped table-bordered table-condensed\">\n",
       "<thead><tr><th>No.</th><th>Observed_Passband</th><th>Photometry_Measurement</th><th>Uncertainty</th><th>Units</th><th>Frequency</th><th>Flux_Density</th><th>Upper_limit_of_uncertainty</th><th>Lower_limit_of_uncertainty</th><th>Upper_limit_of_Flux_Density</th><th>Lower_limit_of_Flux_Density</th><th>NED_Uncertainty</th><th>NED_Units</th><th>Refcode</th><th>Significance</th><th>Published_frequency</th><th>Frequency_Mode</th><th>Coordinates_Targeted</th><th>Spatial_Mode</th><th>Qualifiers</th><th>Comments</th></tr></thead>\n",
       "<thead><tr><th></th><th></th><th></th><th></th><th></th><th>Hz</th><th>Jy</th><th></th><th></th><th></th><th></th><th></th><th></th><th></th><th></th><th></th><th></th><th></th><th></th><th></th><th></th></tr></thead>\n",
       "<thead><tr><th>int32</th><th>object</th><th>float64</th><th>object</th><th>object</th><th>float64</th><th>float64</th><th>float64</th><th>float64</th><th>float64</th><th>float64</th><th>object</th><th>object</th><th>object</th><th>object</th><th>object</th><th>object</th><th>object</th><th>object</th><th>object</th><th>object</th></tr></thead>\n",
       "<tr><td>1</td><td>50 GeV-2 TeV (Fermi)</td><td>8.06e-12</td><td>+/-2.72E-12</td><td>erg/cm^2^/s</td><td>2.48e+26</td><td>3.25e-15</td><td>1.1e-15</td><td>1.1e-15</td><td>--</td><td>--</td><td>+/-1.10E-15</td><td>Jy</td><td>2016ApJS..222....5A</td><td>1 sigma</td><td>1.025 TeV</td><td>Broad-band measurement</td><td>049.9670 +41.5219 (J2000)</td><td>Flux integrated from map</td><td></td><td>From new raw data; NED frequency assigned to mid-point ofband in keV</td></tr>\n",
       "<tr><td>2</td><td>0.01-1 TeV (Fermi)</td><td>4.8e-11</td><td>+/-3.16E-12</td><td>erg/cm^2^/s</td><td>1.22e+26</td><td>3.93e-14</td><td>2.59e-15</td><td>2.59e-15</td><td>--</td><td>--</td><td>+/-2.59E-15</td><td>Jy</td><td>2017ApJS..232...18A</td><td>1 sigma</td><td>0.51 TeV</td><td>Broad-band measurement</td><td>049.959995 +41.512283 (J2000)</td><td>From fitting to map</td><td></td><td>From reprocessed raw data; NED frequency assigned tomid-point of band in keV</td></tr>\n",
       "<tr><td>3</td><td>400 GeV (Whipple)</td><td>--</td><td>&lt;0.29E-11</td><td>erg cm^-2^ s^-1^</td><td>9.67e+25</td><td>--</td><td>--</td><td>--</td><td>3e-15</td><td>--</td><td>&lt;3.00E-15</td><td>Jy</td><td>2006ApJ...644..148P</td><td>90% confidence</td><td>400   GeV</td><td>Broad-band measurement</td><td>03 19 48 +41 30 42 (J2000)</td><td>Flux integrated from map</td><td></td><td>From new raw data</td></tr>\n",
       "<tr><td>4</td><td>100 MeV-100 GeV LAT</td><td>1.741e-10</td><td>+/-8.1E-12</td><td>erg/s/cm^2^</td><td>1.21e+25</td><td>1.44e-12</td><td>6.69e-14</td><td>6.69e-14</td><td>--</td><td>--</td><td>+/-6.69E-14</td><td>Jy</td><td>2010ApJS..188..405A</td><td>uncertainty</td><td>50050 MeV</td><td>Broad-band measurement</td><td>049.941 +41.508 (J2000)</td><td>From fitting to map</td><td></td><td>From new raw data; NED frequency assigned to mid-point ofband in keV</td></tr>\n",
       "<tr><td>5</td><td>0.1-100 GeV (Fermi)</td><td>1.737e-10</td><td>+/-6.2E-12</td><td>erg/cm^2^/s</td><td>1.21e+25</td><td>1.44e-12</td><td>5.12e-14</td><td>5.12e-14</td><td>--</td><td>--</td><td>+/-5.12E-14</td><td>Jy</td><td>2012ApJS..199...31N</td><td>1 sigma</td><td>50.05 GeV</td><td>Broad-band measurement</td><td>049.965 +41.513 (J2000)</td><td>Modelled datum</td><td>Variable</td><td>From new raw data; NED frequency assigned to mid-point ofband in keV</td></tr>\n",
       "<tr><td>6</td><td>0.1-100 GeV (Fermi)</td><td>1.991e-10</td><td>+/-3.9E-12</td><td>erg/cm^2^/s</td><td>1.21e+25</td><td>1.65e-12</td><td>3.22e-23</td><td>3.22e-23</td><td>--</td><td>--</td><td>+/-3.22E-23</td><td>Jy</td><td>2015ApJS..218...23A</td><td>1 sigma</td><td>50.05 GeV</td><td>Broad-band measurement</td><td>049.959 +41.514 (J2000)</td><td>From fitting to map</td><td>Variable; Gamma=2.08; Mod=LP</td><td>From new raw data; NED frequency assigned to mid-point ofband in keV</td></tr>\n",
       "<tr><td>7</td><td>14-195 keV (Swift)</td><td>6.85e-11</td><td>+/-0.28E-11</td><td>erg/s/cm^2^</td><td>2.53e+19</td><td>2.71e-07</td><td>1.11e-08</td><td>1.11e-08</td><td>--</td><td>--</td><td>+/-1.11E-08</td><td>Jy</td><td>2010ApJS..186..378T</td><td>uncertainty</td><td>104.50 keV</td><td>Broad-band measurement</td><td>049.960 +41.515 (J2000)</td><td>Flux integrated from map</td><td></td><td>From new raw data; NED frequency assigned to mid-point ofband in keV</td></tr>\n",
       "<tr><td>8</td><td>14-195 keV (Swift)</td><td>1.15e-10</td><td></td><td>erg/cm^2^/s</td><td>2.53e+19</td><td>4.55e-07</td><td>--</td><td>--</td><td>--</td><td>--</td><td></td><td>Jy</td><td>2008ApJ...681..113T</td><td>no uncertainty reported</td><td>104.50 keV</td><td>Broad-band measurement</td><td>049.9507 +41.5117 (J2000)</td><td>Modelled datum</td><td></td><td>From new raw data; NED frequency assigned to mid-point ofband in keV</td></tr>\n",
       "<tr><td>9</td><td>14-195 keV (Swift)</td><td>7.34e-11</td><td></td><td>erg/cm^2^/s</td><td>2.53e+19</td><td>2.9e-07</td><td>--</td><td>--</td><td>--</td><td>--</td><td></td><td>Jy</td><td>2017ApJS..233...17R</td><td>no uncertainty reported</td><td>104.50 keV</td><td>Broad-band measurement</td><td></td><td>Modelled datum</td><td>Observed flux</td><td>From reprocessed raw data; NED frequency assigned tomid-point of band in keV</td></tr>\n",
       "<tr><td>...</td><td>...</td><td>...</td><td>...</td><td>...</td><td>...</td><td>...</td><td>...</td><td>...</td><td>...</td><td>...</td><td>...</td><td>...</td><td>...</td><td>...</td><td>...</td><td>...</td><td>...</td><td>...</td><td>...</td><td>...</td></tr>\n",
       "<tr><td>646</td><td>22.25 MHz</td><td>819.95</td><td>+/-88.334</td><td>Jy</td><td>22200000.0</td><td>820.0</td><td>88.3</td><td>88.3</td><td>--</td><td>--</td><td>+/-8.83E+01</td><td>Jy</td><td>1980MNRAS.190..903L</td><td>uncertainty</td><td>22.25      MHz</td><td>Broad-band measurement</td><td></td><td>Total flux</td><td></td><td>Homogenized from previously published data</td></tr>\n",
       "<tr><td>647</td><td>20 MHz (UTR-1)</td><td>1.08e-23</td><td>+/-13  %</td><td>W m^-2^ Hz^-1^</td><td>20000000.0</td><td>1080.0</td><td>140.0</td><td>140.0</td><td>--</td><td>--</td><td>+/-1.40E+02</td><td>Jy</td><td>1969MNRAS.143..289B</td><td>uncertainty</td><td>20   MHz</td><td>Broad-band measurement</td><td>03 16 28.6 +41 19.8 (B1950)</td><td>Total flux</td><td></td><td>From new raw data</td></tr>\n",
       "<tr><td>648</td><td>20.0 MHz</td><td>1080.0</td><td>+/-13  %</td><td>Jy</td><td>20000000.0</td><td>1080.0</td><td>140.0</td><td>140.0</td><td>--</td><td>--</td><td>+/-1.40E+02</td><td>Jy</td><td>1969MNRAS.143..289B</td><td>estimated error</td><td>20.0       MHz</td><td>Broad-band measurement</td><td></td><td>Total flux</td><td></td><td>From new raw data</td></tr>\n",
       "<tr><td>649</td><td>16.7 MHz</td><td>1550.0</td><td>+/-14  %</td><td>Jy</td><td>16700000.0</td><td>1550.0</td><td>217.0</td><td>217.0</td><td>--</td><td>--</td><td>+/-2.17E+02</td><td>Jy</td><td>1969MNRAS.143..289B</td><td>estimated error</td><td>16.7       MHz</td><td>Broad-band measurement</td><td></td><td>Total flux</td><td></td><td>From new raw data</td></tr>\n",
       "<tr><td>650</td><td>16.7 MHz (UTR-1)</td><td>1.55e-23</td><td>+/-14  %</td><td>W m^-2^ Hz^-1^</td><td>16700000.0</td><td>1550.0</td><td>217.0</td><td>217.0</td><td>--</td><td>--</td><td>+/-2.17E+02</td><td>Jy</td><td>1969MNRAS.143..289B</td><td>uncertainty</td><td>16.7   MHz</td><td>Broad-band measurement</td><td>03 16 28.6 +41 19.8 (B1950)</td><td>Total flux</td><td></td><td>From new raw data</td></tr>\n",
       "<tr><td>651</td><td>14.7 MHz (UTR-1)</td><td>1.67e-23</td><td>+/-13  %</td><td>W m^-2^ Hz^-1^</td><td>14700000.0</td><td>1670.0</td><td>217.0</td><td>217.0</td><td>--</td><td>--</td><td>+/-2.17E+02</td><td>Jy</td><td>1969MNRAS.143..289B</td><td>uncertainty</td><td>14.7   MHz</td><td>Broad-band measurement</td><td>03 16 28.6 +41 19.8 (B1950)</td><td>Total flux</td><td></td><td>From new raw data</td></tr>\n",
       "<tr><td>652</td><td>14.7 MHz</td><td>1670.0</td><td>+/-13  %</td><td>Jy</td><td>14700000.0</td><td>1670.0</td><td>217.0</td><td>217.0</td><td>--</td><td>--</td><td>+/-2.17E+02</td><td>Jy</td><td>1969MNRAS.143..289B</td><td>estimated error</td><td>14.7       MHz</td><td>Broad-band measurement</td><td></td><td>Total flux</td><td></td><td>From new raw data</td></tr>\n",
       "<tr><td>653</td><td>12.6 MHz</td><td>1900.0</td><td>+/-13  %</td><td>Jy</td><td>12600000.0</td><td>1900.0</td><td>247.0</td><td>247.0</td><td>--</td><td>--</td><td>+/-2.47E+02</td><td>Jy</td><td>1969MNRAS.143..289B</td><td>estimated error</td><td>12.6       MHz</td><td>Broad-band measurement</td><td></td><td>Total flux</td><td></td><td>From new raw data</td></tr>\n",
       "<tr><td>654</td><td>12.6 MHz (UTR-1)</td><td>1.9e-23</td><td>+/-13  %</td><td>W m^-2^ Hz^-1^</td><td>12600000.0</td><td>1900.0</td><td>247.0</td><td>247.0</td><td>--</td><td>--</td><td>+/-2.47E+02</td><td>Jy</td><td>1969MNRAS.143..289B</td><td>uncertainty</td><td>12.6   MHz</td><td>Broad-band measurement</td><td>03 16 28.6 +41 19.8 (B1950)</td><td>Total flux</td><td></td><td>From new raw data</td></tr>\n",
       "<tr><td>655</td><td>10 MHz</td><td>1704.0</td><td>+/-384.000</td><td>Jy</td><td>10000000.0</td><td>1700.0</td><td>384.0</td><td>384.0</td><td>--</td><td>--</td><td>+/-3.84E+02</td><td>Jy</td><td>1980MNRAS.190..903L</td><td>uncertainty</td><td>10         MHz</td><td>Broad-band measurement</td><td></td><td>Total flux</td><td></td><td>Homogenized from previously published data</td></tr>\n",
       "</table></div>"
      ],
      "text/plain": [
       "<Table length=655>\n",
       " No.  ...\n",
       "      ...\n",
       "int32 ...\n",
       "----- ...\n",
       "    1 ...\n",
       "    2 ...\n",
       "    3 ...\n",
       "    4 ...\n",
       "    5 ...\n",
       "    6 ...\n",
       "    7 ...\n",
       "    8 ...\n",
       "    9 ...\n",
       "  ... ...\n",
       "  646 ...\n",
       "  647 ...\n",
       "  648 ...\n",
       "  649 ...\n",
       "  650 ...\n",
       "  651 ...\n",
       "  652 ...\n",
       "  653 ...\n",
       "  654 ...\n",
       "  655 ..."
      ]
     },
     "execution_count": 7,
     "metadata": {},
     "output_type": "execute_result"
    }
   ],
   "source": [
    "phot_ned"
   ]
  },
  {
   "cell_type": "code",
   "execution_count": 13,
   "id": "5820d203",
   "metadata": {
    "scrolled": false
   },
   "outputs": [
    {
     "data": {
      "text/html": [
       "<div><i>Table length=554</i>\n",
       "<table id=\"table140603777100480\" class=\"table-striped table-bordered table-condensed\">\n",
       "<thead><tr><th>No.</th><th>Observed_Passband</th><th>Photometry_Measurement</th><th>Uncertainty</th><th>Units</th><th>Frequency</th><th>Flux_Density</th><th>Upper_limit_of_uncertainty</th><th>Lower_limit_of_uncertainty</th><th>Upper_limit_of_Flux_Density</th><th>Lower_limit_of_Flux_Density</th><th>NED_Uncertainty</th><th>NED_Units</th><th>Refcode</th><th>Significance</th><th>Published_frequency</th><th>Frequency_Mode</th><th>Coordinates_Targeted</th><th>Spatial_Mode</th><th>Qualifiers</th><th>Comments</th></tr></thead>\n",
       "<thead><tr><th></th><th></th><th></th><th></th><th></th><th>Hz</th><th>Jy</th><th></th><th></th><th></th><th></th><th></th><th></th><th></th><th></th><th></th><th></th><th></th><th></th><th></th><th></th></tr></thead>\n",
       "<thead><tr><th>int32</th><th>object</th><th>float64</th><th>object</th><th>object</th><th>float64</th><th>float64</th><th>float64</th><th>float64</th><th>float64</th><th>float64</th><th>object</th><th>object</th><th>object</th><th>object</th><th>object</th><th>object</th><th>object</th><th>object</th><th>object</th><th>object</th></tr></thead>\n",
       "<tr><td>1</td><td>50 GeV-2 TeV (Fermi)</td><td>8.06e-12</td><td>+/-2.72E-12</td><td>erg/cm^2^/s</td><td>2.48e+26</td><td>3.25e-15</td><td>1.1e-15</td><td>1.1e-15</td><td>--</td><td>--</td><td>+/-1.10E-15</td><td>Jy</td><td>2016ApJS..222....5A</td><td>1 sigma</td><td>1.025 TeV</td><td>Broad-band measurement</td><td>049.9670 +41.5219 (J2000)</td><td>Flux integrated from map</td><td></td><td>From new raw data; NED frequency assigned to mid-point ofband in keV</td></tr>\n",
       "<tr><td>2</td><td>0.01-1 TeV (Fermi)</td><td>4.8e-11</td><td>+/-3.16E-12</td><td>erg/cm^2^/s</td><td>1.22e+26</td><td>3.93e-14</td><td>2.59e-15</td><td>2.59e-15</td><td>--</td><td>--</td><td>+/-2.59E-15</td><td>Jy</td><td>2017ApJS..232...18A</td><td>1 sigma</td><td>0.51 TeV</td><td>Broad-band measurement</td><td>049.959995 +41.512283 (J2000)</td><td>From fitting to map</td><td></td><td>From reprocessed raw data; NED frequency assigned tomid-point of band in keV</td></tr>\n",
       "<tr><td>3</td><td>400 GeV (Whipple)</td><td>--</td><td>&lt;0.29E-11</td><td>erg cm^-2^ s^-1^</td><td>9.67e+25</td><td>--</td><td>--</td><td>--</td><td>3e-15</td><td>--</td><td>&lt;3.00E-15</td><td>Jy</td><td>2006ApJ...644..148P</td><td>90% confidence</td><td>400   GeV</td><td>Broad-band measurement</td><td>03 19 48 +41 30 42 (J2000)</td><td>Flux integrated from map</td><td></td><td>From new raw data</td></tr>\n",
       "<tr><td>4</td><td>100 MeV-100 GeV LAT</td><td>1.741e-10</td><td>+/-8.1E-12</td><td>erg/s/cm^2^</td><td>1.21e+25</td><td>1.44e-12</td><td>6.69e-14</td><td>6.69e-14</td><td>--</td><td>--</td><td>+/-6.69E-14</td><td>Jy</td><td>2010ApJS..188..405A</td><td>uncertainty</td><td>50050 MeV</td><td>Broad-band measurement</td><td>049.941 +41.508 (J2000)</td><td>From fitting to map</td><td></td><td>From new raw data; NED frequency assigned to mid-point ofband in keV</td></tr>\n",
       "<tr><td>5</td><td>0.1-100 GeV (Fermi)</td><td>1.737e-10</td><td>+/-6.2E-12</td><td>erg/cm^2^/s</td><td>1.21e+25</td><td>1.44e-12</td><td>5.12e-14</td><td>5.12e-14</td><td>--</td><td>--</td><td>+/-5.12E-14</td><td>Jy</td><td>2012ApJS..199...31N</td><td>1 sigma</td><td>50.05 GeV</td><td>Broad-band measurement</td><td>049.965 +41.513 (J2000)</td><td>Modelled datum</td><td>Variable</td><td>From new raw data; NED frequency assigned to mid-point ofband in keV</td></tr>\n",
       "<tr><td>6</td><td>0.1-100 GeV (Fermi)</td><td>1.991e-10</td><td>+/-3.9E-12</td><td>erg/cm^2^/s</td><td>1.21e+25</td><td>1.65e-12</td><td>3.22e-23</td><td>3.22e-23</td><td>--</td><td>--</td><td>+/-3.22E-23</td><td>Jy</td><td>2015ApJS..218...23A</td><td>1 sigma</td><td>50.05 GeV</td><td>Broad-band measurement</td><td>049.959 +41.514 (J2000)</td><td>From fitting to map</td><td>Variable; Gamma=2.08; Mod=LP</td><td>From new raw data; NED frequency assigned to mid-point ofband in keV</td></tr>\n",
       "<tr><td>7</td><td>14-195 keV (Swift)</td><td>6.85e-11</td><td>+/-0.28E-11</td><td>erg/s/cm^2^</td><td>2.53e+19</td><td>2.71e-07</td><td>1.11e-08</td><td>1.11e-08</td><td>--</td><td>--</td><td>+/-1.11E-08</td><td>Jy</td><td>2010ApJS..186..378T</td><td>uncertainty</td><td>104.50 keV</td><td>Broad-band measurement</td><td>049.960 +41.515 (J2000)</td><td>Flux integrated from map</td><td></td><td>From new raw data; NED frequency assigned to mid-point ofband in keV</td></tr>\n",
       "<tr><td>8</td><td>14-195 keV (Swift)</td><td>1.15e-10</td><td></td><td>erg/cm^2^/s</td><td>2.53e+19</td><td>4.55e-07</td><td>--</td><td>--</td><td>--</td><td>--</td><td></td><td>Jy</td><td>2008ApJ...681..113T</td><td>no uncertainty reported</td><td>104.50 keV</td><td>Broad-band measurement</td><td>049.9507 +41.5117 (J2000)</td><td>Modelled datum</td><td></td><td>From new raw data; NED frequency assigned to mid-point ofband in keV</td></tr>\n",
       "<tr><td>9</td><td>14-195 keV (Swift)</td><td>7.34e-11</td><td></td><td>erg/cm^2^/s</td><td>2.53e+19</td><td>2.9e-07</td><td>--</td><td>--</td><td>--</td><td>--</td><td></td><td>Jy</td><td>2017ApJS..233...17R</td><td>no uncertainty reported</td><td>104.50 keV</td><td>Broad-band measurement</td><td></td><td>Modelled datum</td><td>Observed flux</td><td>From reprocessed raw data; NED frequency assigned tomid-point of band in keV</td></tr>\n",
       "<tr><td>...</td><td>...</td><td>...</td><td>...</td><td>...</td><td>...</td><td>...</td><td>...</td><td>...</td><td>...</td><td>...</td><td>...</td><td>...</td><td>...</td><td>...</td><td>...</td><td>...</td><td>...</td><td>...</td><td>...</td><td>...</td></tr>\n",
       "<tr><td>646</td><td>22.25 MHz</td><td>819.95</td><td>+/-88.334</td><td>Jy</td><td>22200000.0</td><td>820.0</td><td>88.3</td><td>88.3</td><td>--</td><td>--</td><td>+/-8.83E+01</td><td>Jy</td><td>1980MNRAS.190..903L</td><td>uncertainty</td><td>22.25      MHz</td><td>Broad-band measurement</td><td></td><td>Total flux</td><td></td><td>Homogenized from previously published data</td></tr>\n",
       "<tr><td>647</td><td>20 MHz (UTR-1)</td><td>1.08e-23</td><td>+/-13  %</td><td>W m^-2^ Hz^-1^</td><td>20000000.0</td><td>1080.0</td><td>140.0</td><td>140.0</td><td>--</td><td>--</td><td>+/-1.40E+02</td><td>Jy</td><td>1969MNRAS.143..289B</td><td>uncertainty</td><td>20   MHz</td><td>Broad-band measurement</td><td>03 16 28.6 +41 19.8 (B1950)</td><td>Total flux</td><td></td><td>From new raw data</td></tr>\n",
       "<tr><td>648</td><td>20.0 MHz</td><td>1080.0</td><td>+/-13  %</td><td>Jy</td><td>20000000.0</td><td>1080.0</td><td>140.0</td><td>140.0</td><td>--</td><td>--</td><td>+/-1.40E+02</td><td>Jy</td><td>1969MNRAS.143..289B</td><td>estimated error</td><td>20.0       MHz</td><td>Broad-band measurement</td><td></td><td>Total flux</td><td></td><td>From new raw data</td></tr>\n",
       "<tr><td>649</td><td>16.7 MHz</td><td>1550.0</td><td>+/-14  %</td><td>Jy</td><td>16700000.0</td><td>1550.0</td><td>217.0</td><td>217.0</td><td>--</td><td>--</td><td>+/-2.17E+02</td><td>Jy</td><td>1969MNRAS.143..289B</td><td>estimated error</td><td>16.7       MHz</td><td>Broad-band measurement</td><td></td><td>Total flux</td><td></td><td>From new raw data</td></tr>\n",
       "<tr><td>650</td><td>16.7 MHz (UTR-1)</td><td>1.55e-23</td><td>+/-14  %</td><td>W m^-2^ Hz^-1^</td><td>16700000.0</td><td>1550.0</td><td>217.0</td><td>217.0</td><td>--</td><td>--</td><td>+/-2.17E+02</td><td>Jy</td><td>1969MNRAS.143..289B</td><td>uncertainty</td><td>16.7   MHz</td><td>Broad-band measurement</td><td>03 16 28.6 +41 19.8 (B1950)</td><td>Total flux</td><td></td><td>From new raw data</td></tr>\n",
       "<tr><td>651</td><td>14.7 MHz (UTR-1)</td><td>1.67e-23</td><td>+/-13  %</td><td>W m^-2^ Hz^-1^</td><td>14700000.0</td><td>1670.0</td><td>217.0</td><td>217.0</td><td>--</td><td>--</td><td>+/-2.17E+02</td><td>Jy</td><td>1969MNRAS.143..289B</td><td>uncertainty</td><td>14.7   MHz</td><td>Broad-band measurement</td><td>03 16 28.6 +41 19.8 (B1950)</td><td>Total flux</td><td></td><td>From new raw data</td></tr>\n",
       "<tr><td>652</td><td>14.7 MHz</td><td>1670.0</td><td>+/-13  %</td><td>Jy</td><td>14700000.0</td><td>1670.0</td><td>217.0</td><td>217.0</td><td>--</td><td>--</td><td>+/-2.17E+02</td><td>Jy</td><td>1969MNRAS.143..289B</td><td>estimated error</td><td>14.7       MHz</td><td>Broad-band measurement</td><td></td><td>Total flux</td><td></td><td>From new raw data</td></tr>\n",
       "<tr><td>653</td><td>12.6 MHz</td><td>1900.0</td><td>+/-13  %</td><td>Jy</td><td>12600000.0</td><td>1900.0</td><td>247.0</td><td>247.0</td><td>--</td><td>--</td><td>+/-2.47E+02</td><td>Jy</td><td>1969MNRAS.143..289B</td><td>estimated error</td><td>12.6       MHz</td><td>Broad-band measurement</td><td></td><td>Total flux</td><td></td><td>From new raw data</td></tr>\n",
       "<tr><td>654</td><td>12.6 MHz (UTR-1)</td><td>1.9e-23</td><td>+/-13  %</td><td>W m^-2^ Hz^-1^</td><td>12600000.0</td><td>1900.0</td><td>247.0</td><td>247.0</td><td>--</td><td>--</td><td>+/-2.47E+02</td><td>Jy</td><td>1969MNRAS.143..289B</td><td>uncertainty</td><td>12.6   MHz</td><td>Broad-band measurement</td><td>03 16 28.6 +41 19.8 (B1950)</td><td>Total flux</td><td></td><td>From new raw data</td></tr>\n",
       "<tr><td>655</td><td>10 MHz</td><td>1704.0</td><td>+/-384.000</td><td>Jy</td><td>10000000.0</td><td>1700.0</td><td>384.0</td><td>384.0</td><td>--</td><td>--</td><td>+/-3.84E+02</td><td>Jy</td><td>1980MNRAS.190..903L</td><td>uncertainty</td><td>10         MHz</td><td>Broad-band measurement</td><td></td><td>Total flux</td><td></td><td>Homogenized from previously published data</td></tr>\n",
       "</table></div>"
      ],
      "text/plain": [
       "<Table length=554>\n",
       " No.  ...\n",
       "      ...\n",
       "int32 ...\n",
       "----- ...\n",
       "    1 ...\n",
       "    2 ...\n",
       "    3 ...\n",
       "    4 ...\n",
       "    5 ...\n",
       "    6 ...\n",
       "    7 ...\n",
       "    8 ...\n",
       "    9 ...\n",
       "  ... ...\n",
       "  646 ...\n",
       "  647 ...\n",
       "  648 ...\n",
       "  649 ...\n",
       "  650 ...\n",
       "  651 ...\n",
       "  652 ...\n",
       "  653 ...\n",
       "  654 ...\n",
       "  655 ..."
      ]
     },
     "execution_count": 13,
     "metadata": {},
     "output_type": "execute_result"
    }
   ],
   "source": [
    "phot_ned[phot_ned['NED_Units']=='Jy'].write(path_votables+sample['Name_Id'][ind_sample[0][i]]+'_'+date_samples+'.vot', \n",
    "                                      format='votable',overwrite=True)\n",
    "\n",
    "phot_t = Table.read(path_votables+sample['Name_Id'][ind_sample[0][i]]+'_'+date_samples+'.vot', format='votable')\n",
    "phot_t"
   ]
  },
  {
   "cell_type": "code",
   "execution_count": 14,
   "id": "88a4b0cd",
   "metadata": {},
   "outputs": [
    {
     "data": {
      "image/png": "[encoded data removed]",
      "text/plain": [
       "<Figure size 720x504 with 1 Axes>"
      ]
     },
     "metadata": {
      "needs_background": "light"
     },
     "output_type": "display_data"
    }
   ],
   "source": [
    "plt.figure(figsize=(10,7))\n",
    "plt.scatter(phot_t['Frequency'].to(u.micron, equivalencies=u.spectral()), \n",
    "            phot_t['Flux_Density'], marker='*', label='SED from NED')\n",
    "plt.loglog()\n",
    "plt.xlabel('Wavelength [um]')\n",
    "plt.ylabel('Flux [Jy]')\n",
    "plt.legend()\n",
    "plt.show()"
   ]
  },
  {
   "cell_type": "code",
   "execution_count": null,
   "id": "e7f68153",
   "metadata": {},
   "outputs": [],
   "source": [
    "NEDFilters = ['2-10 keV (XMM)', '0.5-2 keV (XMM)', 'FUV (GALEX)', 'NUV (GALEX)', 'u (SDSS) AB', \n",
    "              'g (SDSS) AB', 'r (SDSS) AB', 'i (SDSS) AB', 'z (SDSS) AB', 'J (2MASS) AB', \n",
    "              'H (2MASS) AB', 'Ks (2MASS) AB', 'W1 (WISE)', 'W2 (WISE)', 'W3 (WISE)', 'W4 (WISE)',\n",
    "              '3.6 microns (IRAC)', '4.5 microns (IRAC)', '5.8 microns (IRAC)', '8.0 microns (IRAC)',\n",
    "              '12 microns (IRAS)', '25 microns (IRAS)', '60 microns (IRAS)', '100 microns (IRAS)',\n",
    "              '24 microns (MIPS)', '70 microns (MIPS)', '160 microns (MIPS)', '70 microns (PACS)', \n",
    "              '100 microns (PACS)', '160 microns (PACS)', '250 microns (SPIRE)', '350 microns (SPIRE)', \n",
    "              '500 microns (SPIRE)', '4.89 GHz (VLA)', '1.46 GHz (VLA)', '1.4GHz']"
   ]
  },
  {
   "cell_type": "code",
   "execution_count": null,
   "id": "adffaeba",
   "metadata": {},
   "outputs": [],
   "source": [
    "band"
   ]
  },
  {
   "cell_type": "code",
   "execution_count": null,
   "id": "1be514d1",
   "metadata": {},
   "outputs": [],
   "source": [
    "c = [(a + 2) for a in range(10)] "
   ]
  },
  {
   "cell_type": "code",
   "execution_count": null,
   "id": "2596d3e2",
   "metadata": {},
   "outputs": [],
   "source": [
    "c"
   ]
  },
  {
   "cell_type": "code",
   "execution_count": null,
   "id": "e3c026df",
   "metadata": {},
   "outputs": [],
   "source": []
  }
 ],
 "metadata": {
  "kernelspec": {
   "display_name": "Python 3 (ipykernel)",
   "language": "python",
   "name": "python3"
  },
  "language_info": {
   "codemirror_mode": {
    "name": "ipython",
    "version": 3
   },
   "file_extension": ".py",
   "mimetype": "text/x-python",
   "name": "python",
   "nbconvert_exporter": "python",
   "pygments_lexer": "ipython3",
   "version": "3.9.7"
  }
 },
 "nbformat": 4,
 "nbformat_minor": 5
}
