{
 "cells": [
  {
   "cell_type": "markdown",
   "id": "b3a0dff1",
   "metadata": {
    "id": "b3a0dff1"
   },
   "source": [
    "# Obtain data of AGN from SIMBAD and filtering the objects with data of Ne II, Ne III and Ne V in infrared from NED \n",
    "\n",
    "In this notebook we develop the code to Obtain the data of AGNs type Sy1 (Seyfert 1), Sy2 (Seyfert 2) and SyG (Seyfert Galaxies) from **[SIMBAD](http://simbad.u-strasbg.fr/simbad/sim-tap)** (SMB) and then search each object from the SMB sample in **[NED](https://ned.ipac.caltech.edu/)** to obtain the photometric data and filter all the objects from the sample that contain data of the emission lines of Ne II, Ne III and Ne V in infrared.\n",
    "\n",
    "The part of the code to obtain the data from SIMBAD is based in Andres Ramos's work to obtain Seyfert Samples (https://github.com/aframosp/AGNView)"
   ]
  },
  {
   "cell_type": "code",
   "execution_count": null,
   "id": "x9XCs3j8KmdF",
   "metadata": {
    "colab": {
     "base_uri": "https://localhost:8080/"
    },
    "executionInfo": {
     "elapsed": 10306,
     "status": "ok",
     "timestamp": 1633483403323,
     "user": {
      "displayName": "Jonhatan Herney Bernal Salinas",
      "photoUrl": "https://lh3.googleusercontent.com/a-/AOh14GiKhXNQ_goIeesq2w4kv4vwiz7BZTUIiIDZFS6iHA=s64",
      "userId": "11704227221814557955"
     },
     "user_tz": 300
    },
    "id": "x9XCs3j8KmdF",
    "outputId": "b7004f1f-d237-4f0a-8d65-6050ba7a3427",
    "tags": []
   },
   "outputs": [],
   "source": [
    "# If this notebook will be run in Google Colab, first at all the next code must be run. If the notebook will be run in Jupyter\n",
    "#then \"comment\" or omit this part \n",
    "\n",
    "import sys\n",
    "IN_COLAB = 'google.colab' in sys.modules\n",
    "\n",
    "if IN_COLAB:\n",
    "    !pip install astroquery"
   ]
  },
  {
   "cell_type": "code",
   "execution_count": 1,
   "id": "4f9c61fd",
   "metadata": {
    "executionInfo": {
     "elapsed": 1500,
     "status": "ok",
     "timestamp": 1633483409256,
     "user": {
      "displayName": "Jonhatan Herney Bernal Salinas",
      "photoUrl": "https://lh3.googleusercontent.com/a-/AOh14GiKhXNQ_goIeesq2w4kv4vwiz7BZTUIiIDZFS6iHA=s64",
      "userId": "11704227221814557955"
     },
     "user_tz": 300
    },
    "id": "4f9c61fd"
   },
   "outputs": [],
   "source": [
    "from datetime import date\n",
    "import time\n",
    "\n",
    "import pyvo\n",
    "import numpy as np\n",
    "from astroquery.ned import Ned\n",
    "\n",
    "import astropy.units as u\n",
    "from astropy.table import hstack\n",
    "from astropy.coordinates import SkyCoord"
   ]
  },
  {
   "cell_type": "markdown",
   "id": "e3d1274d",
   "metadata": {
    "id": "e3d1274d"
   },
   "source": [
    "Using the package **[PyVO](https://pyvo.readthedocs.io/en/latest/#)** we can access to remote data and services like the **TAP Service of SIMBAD [SIMBAD](http://simbad.u-strasbg.fr/simbad/sim-tap)** to find and retrieve the astronomical data that we need, in this case: Seyfert Galaxies. To achive that, we use a script with **[ADQL](https://www.ivoa.net/documents/latest/ADQL.html) (Astronomical Data Query Language)**, which is based on SQL.\n",
    "\n",
    "On the script we used the next **Field Names** for VOTable ouput:\n",
    "- ra: Right ascension\n",
    "- dec: Declination\n",
    "- coo_bibcode: Bibliographical reference for coordinates\n",
    "- otype_txt: Object type\n",
    "- rvz_bibcode: Bibliographical reference of radial velocity and redshift\n",
    "- rvz_radvel: Stored value. Either a radial velocity, or a redshift, depending on the rvz_type field \n",
    "- rvz_redshift\n",
    "- rvz_type: Stored type of velocity: 'v'=radial velocity, 'z'=redshift\n",
    "- nbref: bibliographical reference\n",
    "\n",
    "~~~~sql\n",
    "SELECT main_id\n",
    "\t,ra\n",
    "\t,dec\n",
    "\t,coo_bibcode\n",
    "\t,otype_txt\n",
    "\t,rvz_bibcode\n",
    "\t,rvz_radvel\n",
    "\t,rvz_redshift\n",
    "\t,rvz_type\n",
    "\t,nbref\n",
    "\t,alltypes.otypes\n",
    "FROM basic\n",
    "JOIN alltypes ON oid = oidref\n",
    "WHERE basic.otype = 'Sy1'\n",
    "\tOR basic.otype = 'Sy2'\n",
    "\tOR basic.otype = 'SyG'\n",
    "~~~~"
   ]
  },
  {
   "cell_type": "code",
   "execution_count": 2,
   "id": "975d55bf",
   "metadata": {
    "executionInfo": {
     "elapsed": 12406,
     "status": "ok",
     "timestamp": 1633483427713,
     "user": {
      "displayName": "Jonhatan Herney Bernal Salinas",
      "photoUrl": "https://lh3.googleusercontent.com/a-/AOh14GiKhXNQ_goIeesq2w4kv4vwiz7BZTUIiIDZFS6iHA=s64",
      "userId": "11704227221814557955"
     },
     "user_tz": 300
    },
    "id": "975d55bf"
   },
   "outputs": [],
   "source": [
    "service = pyvo.dal.TAPService(\"http://simbad.u-strasbg.fr:80/simbad/sim-tap\")\n",
    "\n",
    "result = service.search(\"\"\"\n",
    "SELECT main_id\n",
    "    ,ra\n",
    "    ,dec\n",
    "    ,coo_bibcode\n",
    "    ,otype_txt\n",
    "    ,rvz_bibcode\n",
    "    ,rvz_radvel\n",
    "    ,rvz_redshift\n",
    "    ,rvz_type\n",
    "    ,nbref\n",
    "    ,alltypes.otypes\n",
    "FROM basic\n",
    "JOIN alltypes ON oid = oidref\n",
    "WHERE basic.otype = 'Sy1'\n",
    "    OR basic.otype = 'Sy2'\n",
    "    OR basic.otype = 'SyG'\n",
    "\"\"\")"
   ]
  },
  {
   "cell_type": "markdown",
   "id": "fa406cc9",
   "metadata": {
    "id": "fa406cc9"
   },
   "source": [
    "We save the date in a variable for use later in the file names of the results"
   ]
  },
  {
   "cell_type": "code",
   "execution_count": 3,
   "id": "4bc21fd4",
   "metadata": {
    "executionInfo": {
     "elapsed": 216,
     "status": "ok",
     "timestamp": 1633483431485,
     "user": {
      "displayName": "Jonhatan Herney Bernal Salinas",
      "photoUrl": "https://lh3.googleusercontent.com/a-/AOh14GiKhXNQ_goIeesq2w4kv4vwiz7BZTUIiIDZFS6iHA=s64",
      "userId": "11704227221814557955"
     },
     "user_tz": 300
    },
    "id": "4bc21fd4"
   },
   "outputs": [
    {
     "data": {
      "text/plain": [
       "datetime.date(2021, 10, 7)"
      ]
     },
     "execution_count": 3,
     "metadata": {},
     "output_type": "execute_result"
    }
   ],
   "source": [
    "today = date.today()\n",
    "today"
   ]
  },
  {
   "cell_type": "markdown",
   "id": "9217eec3",
   "metadata": {
    "id": "9217eec3"
   },
   "source": [
    "We extract the object name (or in this case the main id) from the sample result."
   ]
  },
  {
   "cell_type": "code",
   "execution_count": 4,
   "id": "7d92c03c",
   "metadata": {
    "colab": {
     "base_uri": "https://localhost:8080/"
    },
    "executionInfo": {
     "elapsed": 498,
     "status": "ok",
     "timestamp": 1633483434934,
     "user": {
      "displayName": "Jonhatan Herney Bernal Salinas",
      "photoUrl": "https://lh3.googleusercontent.com/a-/AOh14GiKhXNQ_goIeesq2w4kv4vwiz7BZTUIiIDZFS6iHA=s64",
      "userId": "11704227221814557955"
     },
     "user_tz": 300
    },
    "id": "7d92c03c",
    "outputId": "d3745dc6-268d-4c1a-d422-647ef43cedc8"
   },
   "outputs": [],
   "source": [
    "simbad_sample_Sy = result.to_table()\n",
    "obj_name_SMB=simbad_sample_Sy[\"main_id\"]\n"
   ]
  },
  {
   "cell_type": "markdown",
   "id": "64e523f9",
   "metadata": {},
   "source": [
    "The sample results is saved in a .csv file:"
   ]
  },
  {
   "cell_type": "code",
   "execution_count": 5,
   "id": "d099bc62",
   "metadata": {},
   "outputs": [],
   "source": [
    "simbad_sample_Sy.write(today.strftime('%b_%d_%Y')+'_Sy_Samples'+'.csv',\n",
    "                    format='ascii.csv',overwrite=True)"
   ]
  },
  {
   "cell_type": "markdown",
   "id": "6d39be83",
   "metadata": {
    "id": "6d39be83"
   },
   "source": [
    "Using **SkyCoord** from astropy we extract the coordinates information for each object from the SIMBAD samples. This is because for some objects when we search the information in [NED](https://ned.ipac.caltech.edu/) using their SIMBAD main id  it doesn't reconigze it, so we will use coordinates instead to get the NED object name"
   ]
  },
  {
   "cell_type": "code",
   "execution_count": 6,
   "id": "8fa81bae",
   "metadata": {
    "executionInfo": {
     "elapsed": 181,
     "status": "ok",
     "timestamp": 1633483449934,
     "user": {
      "displayName": "Jonhatan Herney Bernal Salinas",
      "photoUrl": "https://lh3.googleusercontent.com/a-/AOh14GiKhXNQ_goIeesq2w4kv4vwiz7BZTUIiIDZFS6iHA=s64",
      "userId": "11704227221814557955"
     },
     "user_tz": 300
    },
    "id": "8fa81bae"
   },
   "outputs": [],
   "source": [
    "cat_smb_sample = SkyCoord(ra=simbad_sample_Sy['ra'], dec=simbad_sample_Sy['dec'])"
   ]
  },
  {
   "cell_type": "markdown",
   "id": "45cc82a0",
   "metadata": {
    "id": "45cc82a0"
   },
   "source": [
    "The wavelenght for NeII, NeIII and NeV in the infrared spectrum are 12.8 microns, 15.6 microns and 14.3 microns respectively. This values are equivalents to the following frequencies which ara related to different labels of \"Observed Passband\" in NED database as we ilustrate in the next list:\n",
    "\n",
    "* Frequency: 1.92e+13 Hz: [NeIII] 15.6 microns\n",
    "* Frecuency: 1.93e+13 Hz: [Ne III] 15.56 (IRS), [NeIII] 15.6 Spitzer, [Ne III] (Spitzer), [Ne III] 15.5 (IRS)\n",
    "* Frecuency: 2.09e+13 Hz: [Ne V] 14.32 (IRS), [Ne V] 14.32 Spitzer, [Ne V] 14.32, [Ne V] 14.3 Spitzer, [Ne V] 14.3 microns\n",
    "* Frequency: 2.10e+13 Hz: [Ne V] 14.3 (IRS)\n",
    "* Frequency: 2.34e+13 Hz: [Ne II] 12.81 (IRS), [Ne II] 12.8 Spitzer, [Ne II] 12.8 (IRS), [Ne II] 12.81, NEII (VLT), 12.81 microns (VLT) \n",
    "\n",
    "In the variable **Ne_IR_Freq** we define a list with the those frequency values"
   ]
  },
  {
   "cell_type": "code",
   "execution_count": 7,
   "id": "706c6696",
   "metadata": {},
   "outputs": [],
   "source": [
    "Ne_IR_Freq = [19200000000000.0,19300000000000.0,20900000000000.0,21000000000000.0,23400000000000.0]"
   ]
  },
  {
   "cell_type": "markdown",
   "id": "367ca204",
   "metadata": {},
   "source": [
    "The next part of the code use **[Astroquery](https://astroquery.readthedocs.io/en/latest/index.html)** package to get the \"Frequency\" column from the photometry table for each object of the SIMBAD sample or to get the NED object name from SIMBAD object coordiantes extracted before with SkyCoord. \n",
    "\n",
    "So, we will try to get the **\"Photometry\"** table using directly the SIMBAD object name. If this isn't recognized in NED, then we try to get the NED object name from the object coordinates and after that we will try again to get the \"Photometry\" table but now using the NED object name.\n",
    "\n",
    "The filter for the objects with Ne Line Emissions in Infrared will be looking in the column **\"Frequency\"** of the table the values of the list defined in Ne_IR_Freq."
   ]
  },
  {
   "cell_type": "code",
   "execution_count": 10,
   "id": "c2c1c5d1",
   "metadata": {
    "colab": {
     "base_uri": "https://localhost:8080/"
    },
    "executionInfo": {
     "elapsed": 7063,
     "status": "ok",
     "timestamp": 1633484416154,
     "user": {
      "displayName": "Jonhatan Herney Bernal Salinas",
      "photoUrl": "https://lh3.googleusercontent.com/a-/AOh14GiKhXNQ_goIeesq2w4kv4vwiz7BZTUIiIDZFS6iHA=s64",
      "userId": "11704227221814557955"
     },
     "user_tz": 300
    },
    "id": "c2c1c5d1",
    "outputId": "f4ef079e-e482-4efe-8ca2-6a0f7736e6b1"
   },
   "outputs": [
    {
     "name": "stdout",
     "output_type": "stream",
     "text": [
      "Index #:0, Name(SIMBAD): LEDA  165630\n",
      "Index #:23, Name(SIMBAD): ESO 362-18\n",
      "Index #:100, Name(NED): 3C 334\n",
      "Index #:182, Name(SIMBAD): ESO 323-77\n",
      "Index #:342, Name(SIMBAD): NGC  7479\n",
      "Index #:400, Name(SIMBAD): M  81\n",
      "Index #:408, Name(SIMBAD): NGC  1241\n",
      "Index #:409, Name(SIMBAD): NGC  3516\n",
      "Index #:429, Name(SIMBAD): IRAS 15206+3342\n",
      "Index #:450, Name(SIMBAD): LEDA 1487448\n",
      "Index #:611, Name(SIMBAD): Mrk  937\n",
      "Index #:624, Name(SIMBAD): ESO 297-18\n",
      "Index #:644, Name(SIMBAD): IC  450\n",
      "Index #:790, Name(SIMBAD): Mrk  622\n",
      "Index #:858, Name(NED): WISEA J035734.06-053719.6\n",
      "Index #:1051, Name(SIMBAD): 2MASS J21035875-0728025\n",
      "Index #:1111, Name(SIMBAD): IRAS 15480-0344\n",
      "Index #:1411, Name(SIMBAD): Mrk  471\n",
      "Index #:1585, Name(SIMBAD): 2MASS J00105486+0014510\n",
      "Index #:1588, Name(NED): WISEA J005439.78+155447.2\n",
      "Index #:1868, Name(SIMBAD): LEDA  166692\n",
      "Index #:2265, Name(SIMBAD): NGC  4992\n",
      "Index #:2623, Name(SIMBAD): 3C 295\n",
      "Index #:2851, Name(SIMBAD): LEDA    3237\n",
      "Index #:2852, Name(SIMBAD): Mrk  478\n",
      "Index #:2950, Name(SIMBAD): NGC  1125\n",
      "Index #:2967, Name(SIMBAD): Mrk  279\n",
      "Index #:2989, Name(SIMBAD): Mrk 1502\n",
      "Index #:2991, Name(SIMBAD): PB  3894\n",
      "Index #:2994, Name(SIMBAD): ICRF J054236.1+495107\n",
      "Index #:2996, Name(NED): 3C 098\n",
      "Index #:3600, Name(SIMBAD): NGC  2992\n",
      "Index #:3670, Name(SIMBAD): NGC  2110\n",
      "Index #:3716, Name(SIMBAD): UGC  3351\n",
      "Index #:3774, Name(SIMBAD): NGC   788\n",
      "Index #:3778, Name(SIMBAD): NGC  4235\n",
      "Index #:3779, Name(SIMBAD): NGC  6860\n",
      "Index #:3850, Name(SIMBAD): Mrk  520\n",
      "Index #:3890, Name(SIMBAD): MCG+04-48-002\n",
      "Index #:4065, Name(SIMBAD): ICRF J145907.5+714019\n",
      "Index #:4145, Name(SIMBAD): 2E  2503\n",
      "Index #:4151, Name(SIMBAD): MCG+00-29-023\n",
      "Index #:4288, Name(SIMBAD): Z 218-7\n",
      "Index #:4443, Name(SIMBAD): Mrk  463E\n",
      "Index #:4601, Name(SIMBAD): LEDA   27453\n",
      "Index #:4604, Name(SIMBAD): IRAS 07598+6508\n",
      "Index #:4616, Name(SIMBAD): NGC  4151\n",
      "Index #:4619, Name(SIMBAD): NGC  1365\n",
      "Index #:4664, Name(SIMBAD): 2XMM J101756.8+390526\n",
      "Index #:4668, Name(SIMBAD): 3C  84\n",
      "Index #:4682, Name(SIMBAD): ESO 141-55\n",
      "Index #:4694, Name(SIMBAD): MCG+10-17-021\n",
      "Index #:4697, Name(SIMBAD): Mrk  509\n",
      "Index #:4699, Name(SIMBAD): NGC  7591\n",
      "Index #:4736, Name(SIMBAD): Mrk  493\n",
      "Index #:4738, Name(SIMBAD): Mrk 1239\n",
      "Index #:4741, Name(SIMBAD): Mrk  231\n",
      "Index #:4749, Name(SIMBAD): NGC  3079\n",
      "Index #:4783, Name(SIMBAD): NGC  4355\n",
      "Index #:4807, Name(SIMBAD): IRAS 13342+3932\n",
      "Index #:4825, Name(NED): WISEA J165939.77+183436.7\n",
      "Index #:4904, Name(SIMBAD): Mrk  876\n",
      "Index #:4911, Name(SIMBAD): MCG+13-07-002\n",
      "Index #:4927, Name(SIMBAD): NGC   253\n",
      "Index #:4933, Name(SIMBAD): 3C 286\n",
      "Index #:4935, Name(SIMBAD): NGC  3982\n",
      "Index #:4936, Name(SIMBAD): ICRF J182931.7+484446\n",
      "Index #:4939, Name(SIMBAD): ESO 428-14\n",
      "Index #:4940, Name(SIMBAD): NGC  5728\n",
      "Index #:4941, Name(SIMBAD): 2MASX J00535615-7038045\n",
      "Index #:5400, Name(SIMBAD): UGC  1841\n",
      "Index #:5422, Name(SIMBAD): LEDA    1790\n",
      "Index #:5423, Name(SIMBAD): Ton  951\n",
      "Index #:5425, Name(SIMBAD): NGC  4748\n",
      "Index #:5427, Name(NED): FAIRALL 0049\n",
      "Index #:5429, Name(SIMBAD): NGC  3281\n",
      "Index #:5430, Name(SIMBAD): NGC  5995\n",
      "Index #:5443, Name(NED): WISEA J130005.34+163214.8\n",
      "Index #:5445, Name(SIMBAD): 2MASX J18334627+4727027\n",
      "Index #:5446, Name(SIMBAD): 2E   437\n",
      "Index #:5468, Name(SIMBAD): Mrk  877\n",
      "Index #:5629, Name(NED): 3C 033\n",
      "Index #:5630, Name(SIMBAD): NGC  3393\n",
      "Index #:5633, Name(SIMBAD): IC 1816\n",
      "Index #:5683, Name(SIMBAD): Mrk 1506\n",
      "Index #:5737, Name(SIMBAD): Mrk 1014\n",
      "Index #:5742, Name(SIMBAD): Mrk  771\n",
      "Index #:5745, Name(SIMBAD): Mrk 1513\n",
      "Index #:5747, Name(SIMBAD): Mrk  304\n",
      "Index #:5748, Name(SIMBAD): 2MASS J14294306+4747262\n",
      "Index #:5843, Name(SIMBAD): 2MASX J10181928+3722419\n",
      "Index #:5852, Name(SIMBAD): 2MASX J14323249+3406257\n",
      "Index #:5891, Name(SIMBAD): Mrk 1383\n",
      "Index #:5975, Name(SIMBAD): SDSS J040208.86-050642.0\n",
      "Index #:5984, Name(SIMBAD): 3C 452\n",
      "Index #:6033, Name(SIMBAD): MCG-03-34-064\n",
      "Index #:6034, Name(SIMBAD): ESO 434-40\n",
      "Index #:6516, Name(SIMBAD): 4C 13.41\n",
      "Index #:6765, Name(SIMBAD): NGC  1808\n",
      "Index #:6824, Name(SIMBAD): NGC  4593\n",
      "Index #:6840, Name(SIMBAD): NGC   931\n",
      "Index #:6843, Name(SIMBAD): 2MASX J21564950-0745325\n",
      "Index #:6963, Name(SIMBAD): 2MASS J13234951+6541480\n",
      "Index #:6970, Name(SIMBAD): IC 3078\n",
      "Index #:7107, Name(SIMBAD): LEDA   29208\n",
      "Index #:7393, Name(SIMBAD): LEDA   75476\n",
      "Index #:7394, Name(SIMBAD): ICRF J134733.3+121724\n",
      "Index #:7405, Name(SIMBAD): ESO 113-45\n",
      "Index #:7507, Name(SIMBAD): NGC  7743\n",
      "Index #:7522, Name(SIMBAD): LEDA   90429\n",
      "Index #:7523, Name(SIMBAD): LEDA   70560\n",
      "Index #:7566, Name(SIMBAD): LEDA   52314\n",
      "Index #:7618, Name(SIMBAD): UGC 12138\n",
      "Index #:7658, Name(SIMBAD): M  94\n",
      "Index #:7743, Name(SIMBAD): ESO 323-32\n",
      "Index #:7849, Name(SIMBAD): Mrk  463\n",
      "Index #:7864, Name(SIMBAD): NGC  4388\n",
      "Index #:7865, Name(SIMBAD): M  88\n",
      "Index #:7869, Name(SIMBAD): NGC  5033\n",
      "Index #:8102, Name(SIMBAD): ESO  33-2\n",
      "Index #:8103, Name(SIMBAD): LEDA   90054\n",
      "Index #:8142, Name(NED): WISEA J124819.76+662142.6\n",
      "Index #:8199, Name(SIMBAD): Mrk  334\n",
      "Index #:8202, Name(SIMBAD): Mrk  273\n",
      "Index #:8244, Name(SIMBAD): 2MASX J08584172+1041223\n",
      "Index #:8339, Name(SIMBAD): 2MASSI J0918486+211717\n",
      "Index #:8396, Name(SIMBAD): ESO 420-13\n",
      "Index #:8406, Name(SIMBAD): IRAS F08216+3009\n",
      "Index #:8491, Name(SIMBAD): Mrk  817\n",
      "Index #:8493, Name(SIMBAD): ICRF J130533.0-103319\n",
      "Index #:8607, Name(SIMBAD): NGC   612\n",
      "Index #:8608, Name(SIMBAD): NGC  1058\n",
      "Index #:8644, Name(SIMBAD): 4C 23.43\n",
      "Index #:8650, Name(SIMBAD): 3C 196\n",
      "Index #:8651, Name(SIMBAD): NGC  6890\n",
      "Index #:8695, Name(SIMBAD): IC 4518A\n",
      "Index #:8702, Name(SIMBAD): PG 0953+414\n",
      "Index #:8704, Name(SIMBAD): Ton  1565\n",
      "Index #:8707, Name(SIMBAD): Ton  1388\n",
      "Index #:8729, Name(SIMBAD): 2MASS J14025120+2631175\n",
      "Index #:8779, Name(SIMBAD): IRAS 17002+5153\n",
      "Index #:8843, Name(SIMBAD): IRAS 15091-2107\n",
      "Index #:8921, Name(SIMBAD): ESO  12-21\n",
      "Index #:9073, Name(SIMBAD): SDSS J231812.99-004126.1\n",
      "Index #:9094, Name(SIMBAD): NGC  4941\n",
      "Index #:9104, Name(SIMBAD): Mrk    9\n",
      "Index #:9147, Name(SIMBAD): ESO 198-24\n",
      "Index #:9238, Name(SIMBAD): NGC  2622\n",
      "Index #:9346, Name(SIMBAD): IC 1065\n",
      "Index #:9348, Name(SIMBAD): Mrk  335\n",
      "Index #:9399, Name(SIMBAD): NGC   513\n",
      "Index #:9406, Name(SIMBAD): NGC  1204\n",
      "Index #:9411, Name(SIMBAD): ESO 383-35\n",
      "Index #:9500, Name(SIMBAD): NGC  1320\n",
      "Index #:9506, Name(SIMBAD): UGC  3601\n",
      "Index #:9513, Name(SIMBAD): NGC  3783\n",
      "Index #:9515, Name(SIMBAD): NGC  5135\n",
      "Index #:9518, Name(SIMBAD): ESO 140-43\n",
      "Index #:9519, Name(SIMBAD): NGC  7410\n",
      "Index #:9643, Name(SIMBAD): NGC  1667\n",
      "Index #:9714, Name(SIMBAD): Mrk  618\n",
      "Index #:9718, Name(SIMBAD): Mrk  863\n",
      "Index #:9719, Name(SIMBAD): NGC  7682\n",
      "Index #:9756, Name(SIMBAD): M  84\n",
      "Index #:9761, Name(SIMBAD): NGC  4074\n",
      "Index #:9766, Name(SIMBAD): LEDA 1365424\n",
      "Index #:9769, Name(SIMBAD): NGC  3735\n",
      "Index #:9865, Name(SIMBAD): MCG-01-24-012\n",
      "Index #:9881, Name(SIMBAD): Z 121-75\n",
      "Index #:9883, Name(SIMBAD): ESO 263-13\n",
      "Index #:9885, Name(SIMBAD): NGC  3998\n",
      "Index #:9896, Name(SIMBAD): NGC  4395\n",
      "Index #:9898, Name(SIMBAD): NGC  6300\n",
      "Index #:9899, Name(SIMBAD): ESO 103-35\n",
      "Index #:9920, Name(SIMBAD): ICRF J015002.6-072548\n",
      "Index #:9922, Name(SIMBAD): NGC  2639\n",
      "Index #:9925, Name(SIMBAD): Mrk 1457\n",
      "Index #:9947, Name(SIMBAD): NGC  4939\n",
      "Index #:9967, Name(SIMBAD): Mrk  841\n",
      "Index #:10211, Name(SIMBAD): NGC  6951\n",
      "Index #:10393, Name(SIMBAD): NGC  5990\n",
      "Index #:10402, Name(SIMBAD): ESO 445-50\n",
      "Index #:10487, Name(SIMBAD): NGC  1142\n",
      "Index #:10618, Name(SIMBAD): Mrk 1298\n",
      "Index #:10635, Name(SIMBAD): Mrk 1095\n",
      "Index #:10647, Name(SIMBAD): M  49\n",
      "Index #:10674, Name(SIMBAD): IRAS 04385-0828\n",
      "Index #:10676, Name(SIMBAD): NGC  4253\n",
      "Index #:10678, Name(SIMBAD): NGC  4602\n",
      "Index #:10699, Name(SIMBAD): NGC   185\n",
      "Index #:10719, Name(SIMBAD): NGC  2685\n",
      "Index #:10720, Name(SIMBAD): NGC  3081\n",
      "Index #:10722, Name(SIMBAD): NGC  2273\n",
      "Index #:10723, Name(SIMBAD): NGC  4051\n",
      "Index #:10725, Name(SIMBAD): NGC  6221\n",
      "Index #:10728, Name(SIMBAD): NGC  4725\n",
      "Index #:10730, Name(SIMBAD): NGC  6814\n",
      "Index #:10731, Name(SIMBAD): NGC  7172\n",
      "Index #:10767, Name(SIMBAD): Mrk  705\n",
      "Index #:10798, Name(NED): 3C 459\n",
      "Index #:10799, Name(SIMBAD): LEDA   68751\n",
      "Index #:10805, Name(SIMBAD): Mrk   79\n",
      "Index #:10806, Name(SIMBAD): Mrk  573\n",
      "Index #:10817, Name(SIMBAD): NGC  5548\n",
      "Index #:10846, Name(SIMBAD): IC  486\n",
      "Index #:10887, Name(SIMBAD): IC 2560\n"
     ]
    },
    {
     "name": "stdout",
     "output_type": "stream",
     "text": [
      "Index #:10901, Name(SIMBAD): NGC   424\n",
      "Index #:10929, Name(SIMBAD): M 106\n",
      "Index #:10968, Name(SIMBAD): NGC  5252\n",
      "Index #:10972, Name(SIMBAD): IC 4553\n",
      "Index #:10985, Name(SIMBAD): UGC 12282\n",
      "Index #:11040, Name(SIMBAD): LEDA   89032\n",
      "Index #:11089, Name(SIMBAD): NGC  6240\n",
      "Index #:11102, Name(SIMBAD): LEDA   90196\n",
      "Index #:11107, Name(SIMBAD): NGC   262\n",
      "Index #:11138, Name(SIMBAD): NGC  7679\n",
      "Index #:11188, Name(SIMBAD): Mrk  352\n",
      "Index #:11193, Name(SIMBAD): ESO 417-6\n",
      "Index #:11194, Name(SIMBAD): NGC  1194\n",
      "Index #:11197, Name(SIMBAD): Mrk    3\n",
      "Index #:11210, Name(SIMBAD): IC 5063\n",
      "Index #:11220, Name(SIMBAD): NGC  3976\n",
      "Index #:11221, Name(SIMBAD): NGC  5273\n",
      "Index #:11223, Name(SIMBAD): NGC  5899\n",
      "Index #:11229, Name(SIMBAD): NGC  7592\n",
      "Index #:11244, Name(SIMBAD): IC 5298\n",
      "Index #:11295, Name(SIMBAD): NGC  4507\n",
      "Index #:11296, Name(SIMBAD): NGC  4477\n",
      "Index #:11297, Name(SIMBAD): UGC  6728\n",
      "Index #:11298, Name(SIMBAD): NGC  7319\n",
      "Index #:11313, Name(SIMBAD): MCG-02-08-039\n",
      "Index #:11337, Name(SIMBAD): ESO   5-4\n",
      "Index #:11958, Name(SIMBAD): Mrk 1073\n",
      "Index #:11969, Name(SIMBAD): ESO 253-3\n",
      "Index #:12068, Name(SIMBAD): NGC  4945\n",
      "Index #:12116, Name(SIMBAD): NGC    34\n",
      "Index #:12117, Name(SIMBAD): NGC  7674\n",
      "Index #:12119, Name(SIMBAD): UGC  7064\n",
      "Index #:12120, Name(SIMBAD): UGC  5101\n",
      "Index #:12121, Name(SIMBAD): NGC  7469\n",
      "Index #:12127, Name(SIMBAD): ESO 339-11\n",
      "Index #:12593, Name(SIMBAD): NGC  7314\n",
      "Index #:13540, Name(SIMBAD): 3C  22.0\n",
      "Index #:13635, Name(SIMBAD): LEDA  165618\n",
      "Index #:14483, Name(SIMBAD): IRAS 11119+3257\n",
      "Index #:15767, Name(SIMBAD): 2MASS J15011320+2329082\n",
      "Index #:16931, Name(SIMBAD): NGC  3367\n",
      "Index #:17348, Name(SIMBAD): NGC  4968\n",
      "Index #:17383, Name(SIMBAD): NGC   660\n",
      "Index #:17416, Name(SIMBAD): Z  41-20\n",
      "Index #:17849, Name(SIMBAD): M  58\n",
      "Index #:18256, Name(SIMBAD): NGC  6926\n",
      "Index #:18259, Name(SIMBAD): NGC   973\n",
      "Index #:18540, Name(SIMBAD): NGC  4138\n",
      "Index #:18545, Name(SIMBAD): NGC  5395\n",
      "Index #:18552, Name(SIMBAD): NGC  7603\n",
      "Index #:18553, Name(SIMBAD): NGC  7213\n",
      "Index #:18555, Name(SIMBAD): UGC  1395\n",
      "Index #:18595, Name(SIMBAD): NGC   863\n",
      "Index #:18631, Name(SIMBAD): 2MASS J08105865+7602424\n",
      "Index #:18640, Name(SIMBAD): ICRF J052109.8+163822\n",
      "Index #:18643, Name(NED): PG 0947+396\n",
      "Index #:18660, Name(SIMBAD): ESO 121-28\n",
      "Index #:18682, Name(SIMBAD): Ton  182\n",
      "Index #:18684, Name(SIMBAD): 2MASX J14510879+2709272\n",
      "Index #:18702, Name(SIMBAD): NGC  1566\n",
      "Index #:18703, Name(SIMBAD): Mrk  704\n",
      "Index #:18726, Name(SIMBAD): 7C 1821+6419\n",
      "Index #:18837, Name(SIMBAD): NGC  4922\n",
      "Index #:19110, Name(NED): WISEA J151653.23+190048.3\n",
      "Index #:19325, Name(SIMBAD): IC 3639\n",
      "Index #:19330, Name(SIMBAD): Mrk  609\n",
      "Index #:19724, Name(SIMBAD): ESO 602-25\n",
      "Index #:19751, Name(SIMBAD): NGC  1358\n",
      "Index #:19754, Name(SIMBAD): NGC  3147\n",
      "Index #:19760, Name(SIMBAD): NGC  1056\n",
      "Index #:19785, Name(SIMBAD): ESO 511-30\n",
      "Index #:19862, Name(SIMBAD): SDSS J032845.99+011150.8\n",
      "Index #:20091, Name(SIMBAD): NGC  5643\n",
      "Index #:20222, Name(NED): SHOC 198\n",
      "Index #:20556, Name(SIMBAD): 3C 343.1\n",
      "Index #:20672, Name(NED): SBS 1626+554\n",
      "Index #:20880, Name(SIMBAD): 2MASX J08035923+2345201\n",
      "Index #:20905, Name(SIMBAD): NGC  3660\n",
      "Index #:21102, Name(SIMBAD): LEDA   24384\n",
      "Index #:21178, Name(SIMBAD): LEDA 2816291\n",
      "Index #:21480, Name(NED): WISEA J135356.02+664800.5\n",
      "Index #:21547, Name(SIMBAD): SDSS J143417.15+020742.3\n",
      "Index #:22143, Name(SIMBAD): 2MASX J22041914+0333511\n",
      "Index #:36859, Name(NED): WISEA J145331.51+135358.6\n",
      "Index #:37551, Name(NED): WISEA J052101.39-252145.2\n",
      "\n",
      "Total objects with Ne II or Ne III or Ne V data found:  291\n",
      "Execution Time(seg): 19358.824975967407\n",
      "Execution Time(min): 322.6470829327901\n",
      "Execution Time(hrs): 5.377451382213168\n"
     ]
    }
   ],
   "source": [
    "Ne_IR_obj = [] #List of objects with Ne-IR data\n",
    "\n",
    "outfile = open('Obj_with_Ne-IR.txt','w') #We create and open a file to write the list of objects names with Ne_IR data\n",
    "headerstring = f'Objects with Ne II, Ne III and Ne V data (Created on {today}):\\n' #Creating the header\n",
    "outfile.write(headerstring) #Writing the header\n",
    "\n",
    "start = time.time()\n",
    "for ind in range(len(simbad_sample_Sy)):\n",
    "    try:\n",
    "        phot_t = Ned.get_table(obj_name_SMB[ind], table='photometry') #We get the Photometry Table using SIMBAD names\n",
    "        Fr=phot_t['Frequency'] #We get the Frequency column from the table\n",
    "        if Ne_IR_Freq[0] in Fr or Ne_IR_Freq[1] in Fr or Ne_IR_Freq[2] in Fr or Ne_IR_Freq[3] in Fr or Ne_IR_Freq[4] in Fr:\n",
    "            print(f\"Index #:{ind}, Name(SIMBAD): {obj_name_SMB[ind]}\")\n",
    "            #Writing the object names\n",
    "            outstring = f'\\n{obj_name_SMB[ind]}'\n",
    "            outfile.write(outstring) \n",
    "            Ne_IR_obj.append(obj_name_SMB[ind]) #Save the object name in the list Ne_IR_obj\n",
    "    except:\n",
    "        try:\n",
    "            result_t = Ned.query_region(cat_smb_sample[ind],radius=0.0005 * u.deg) #For obtaining the data from NED for each sample \n",
    "            obj_name_NED=result_t[\"Object Name\"] \n",
    "            phot_t = Ned.get_table(obj_name_NED, table='photometry')\n",
    "            Fr=phot_t['Frequency']\n",
    "            if Ne_IR_Freq[0] in Fr or Ne_IR_Freq[1] in Fr or Ne_IR_Freq[2] in Fr or Ne_IR_Freq[3] in Fr or Ne_IR_Freq[4] in Fr:\n",
    "                print(f\"Index #:{ind}, Name(NED): {obj_name_NED[0]}\")\n",
    "                #Writing the object names\n",
    "                outstring = f'\\n{obj_name_NED[0]}'\n",
    "                outfile.write(outstring) \n",
    "                Ne_IR_obj.append(obj_name_NED[0]) #Save the object name in the list Ne_IR_obj\n",
    "        except:\n",
    "            pass\n",
    "end = time.time()\n",
    "\n",
    "#we close the file with objects names\n",
    "outfile.close()\n",
    "\n",
    "print('\\nTotal objects with Ne II or Ne III or Ne V data found: ',len(Ne_IR_obj))\n",
    "print('Execution Time(seg): ' + str(end - start))\n",
    "print('Execution Time(min): ' + str((end - start)/60))\n",
    "print('Execution Time(hrs): ' + str((end - start)/3600))"
   ]
  },
  {
   "cell_type": "code",
   "execution_count": 62,
   "id": "273f1e49",
   "metadata": {
    "colab": {
     "base_uri": "https://localhost:8080/"
    },
    "executionInfo": {
     "elapsed": 326,
     "status": "ok",
     "timestamp": 1633484501547,
     "user": {
      "displayName": "Jonhatan Herney Bernal Salinas",
      "photoUrl": "https://lh3.googleusercontent.com/a-/AOh14GiKhXNQ_goIeesq2w4kv4vwiz7BZTUIiIDZFS6iHA=s64",
      "userId": "11704227221814557955"
     },
     "user_tz": 300
    },
    "id": "273f1e49",
    "outputId": "1f6de93f-df2d-4b2e-a2fa-c308c53857c8"
   },
   "outputs": [
    {
     "data": {
      "text/plain": [
       "['LEDA  165630',\n",
       " 'ESO 362-18',\n",
       " '3C 334',\n",
       " 'ESO 323-77',\n",
       " 'NGC  7479',\n",
       " 'M  81',\n",
       " 'NGC  1241',\n",
       " 'NGC  3516',\n",
       " 'IRAS 15206+3342',\n",
       " 'LEDA 1487448',\n",
       " 'Mrk  937',\n",
       " 'ESO 297-18',\n",
       " 'IC  450',\n",
       " 'Mrk  622',\n",
       " 'WISEA J035734.06-053719.6',\n",
       " '2MASS J21035875-0728025',\n",
       " 'IRAS 15480-0344',\n",
       " 'Mrk  471',\n",
       " '2MASS J00105486+0014510',\n",
       " 'WISEA J005439.78+155447.2',\n",
       " 'LEDA  166692',\n",
       " 'NGC  4992',\n",
       " '3C 295',\n",
       " 'LEDA    3237',\n",
       " 'Mrk  478',\n",
       " 'NGC  1125',\n",
       " 'Mrk  279',\n",
       " 'Mrk 1502',\n",
       " 'PB  3894',\n",
       " 'ICRF J054236.1+495107',\n",
       " '3C 098',\n",
       " 'NGC  2992',\n",
       " 'NGC  2110',\n",
       " 'UGC  3351',\n",
       " 'NGC   788',\n",
       " 'NGC  4235',\n",
       " 'NGC  6860',\n",
       " 'Mrk  520',\n",
       " 'MCG+04-48-002',\n",
       " 'ICRF J145907.5+714019',\n",
       " '2E  2503',\n",
       " 'MCG+00-29-023',\n",
       " 'Z 218-7',\n",
       " 'Mrk  463E',\n",
       " 'LEDA   27453',\n",
       " 'IRAS 07598+6508',\n",
       " 'NGC  4151',\n",
       " 'NGC  1365',\n",
       " '2XMM J101756.8+390526',\n",
       " '3C  84',\n",
       " 'ESO 141-55',\n",
       " 'MCG+10-17-021',\n",
       " 'Mrk  509',\n",
       " 'NGC  7591',\n",
       " 'Mrk  493',\n",
       " 'Mrk 1239',\n",
       " 'Mrk  231',\n",
       " 'NGC  3079',\n",
       " 'NGC  4355',\n",
       " 'IRAS 13342+3932',\n",
       " 'WISEA J165939.77+183436.7',\n",
       " 'Mrk  876',\n",
       " 'MCG+13-07-002',\n",
       " 'NGC   253',\n",
       " '3C 286',\n",
       " 'NGC  3982',\n",
       " 'ICRF J182931.7+484446',\n",
       " 'ESO 428-14',\n",
       " 'NGC  5728',\n",
       " '2MASX J00535615-7038045',\n",
       " 'UGC  1841',\n",
       " 'LEDA    1790',\n",
       " 'Ton  951',\n",
       " 'NGC  4748',\n",
       " 'FAIRALL 0049',\n",
       " 'NGC  3281',\n",
       " 'NGC  5995',\n",
       " 'WISEA J130005.34+163214.8',\n",
       " '2MASX J18334627+4727027',\n",
       " '2E   437',\n",
       " 'Mrk  877',\n",
       " '3C 033',\n",
       " 'NGC  3393',\n",
       " 'IC 1816',\n",
       " 'Mrk 1506',\n",
       " 'Mrk 1014',\n",
       " 'Mrk  771',\n",
       " 'Mrk 1513',\n",
       " 'Mrk  304',\n",
       " '2MASS J14294306+4747262',\n",
       " '2MASX J10181928+3722419',\n",
       " '2MASX J14323249+3406257',\n",
       " 'Mrk 1383',\n",
       " 'SDSS J040208.86-050642.0',\n",
       " '3C 452']"
      ]
     },
     "execution_count": 62,
     "metadata": {},
     "output_type": "execute_result"
    }
   ],
   "source": [
    "Ne_IR_obj"
   ]
  },
  {
   "cell_type": "markdown",
   "id": "31e54592",
   "metadata": {},
   "source": [
    "Las celdas a continuación son para pruebas:"
   ]
  },
  {
   "cell_type": "code",
   "execution_count": 72,
   "id": "c3df0948",
   "metadata": {},
   "outputs": [
    {
     "data": {
      "text/html": [
       "<div><i>Table length=1</i>\n",
       "<table id=\"table2186888236384\" class=\"table-striped table-bordered table-condensed\">\n",
       "<thead><tr><th>No.</th><th>Object Name</th><th>RA</th><th>DEC</th><th>Type</th><th>Velocity</th><th>Redshift</th><th>Redshift Flag</th><th>Magnitude and Filter</th><th>Separation</th><th>References</th><th>Notes</th><th>Photometry Points</th><th>Positions</th><th>Redshift Points</th><th>Diameter Points</th><th>Associations</th></tr></thead>\n",
       "<thead><tr><th></th><th></th><th>degrees</th><th>degrees</th><th></th><th>km / s</th><th></th><th></th><th></th><th>arcmin</th><th></th><th></th><th></th><th></th><th></th><th></th><th></th></tr></thead>\n",
       "<thead><tr><th>int32</th><th>str30</th><th>float64</th><th>float64</th><th>object</th><th>float64</th><th>float64</th><th>object</th><th>object</th><th>float64</th><th>int32</th><th>int32</th><th>int32</th><th>int32</th><th>int32</th><th>int32</th><th>int32</th></tr></thead>\n",
       "<tr><td>1</td><td>WISEA J032518.46-060738.4</td><td>51.32687</td><td>-6.1274</td><td>QSO</td><td>170864.0</td><td>0.56994</td><td></td><td>21.3g</td><td>0.0</td><td>23</td><td>0</td><td>42</td><td>6</td><td>11</td><td>8</td><td>1</td></tr>\n",
       "</table></div>"
      ],
      "text/plain": [
       "<Table length=1>\n",
       " No.         Object Name            RA     ... Diameter Points Associations\n",
       "                                 degrees   ...                             \n",
       "int32           str30            float64   ...      int32         int32    \n",
       "----- ------------------------- ---------- ... --------------- ------------\n",
       "    1 WISEA J032518.46-060738.4   51.32687 ...               8            1"
      ]
     },
     "execution_count": 72,
     "metadata": {},
     "output_type": "execute_result"
    }
   ],
   "source": [
    "result_t"
   ]
  },
  {
   "cell_type": "code",
   "execution_count": 73,
   "id": "b5937d7e",
   "metadata": {},
   "outputs": [
    {
     "data": {
      "text/html": [
       "<i>Row index=2</i>\n",
       "<table id=\"table2186884880656\">\n",
       "<thead><tr><th>main_id</th><th>ra</th><th>dec</th><th>coo_bibcode</th><th>otype_txt</th><th>rvz_bibcode</th><th>rvz_radvel</th><th>rvz_redshift</th><th>rvz_type</th><th>nbref</th><th>otypes</th></tr></thead>\n",
       "<thead><tr><th></th><th>deg</th><th>deg</th><th></th><th></th><th></th><th>km / s</th><th></th><th></th><th></th><th></th></tr></thead>\n",
       "<thead><tr><th>object</th><th>float64</th><th>float64</th><th>object</th><th>object</th><th>object</th><th>float64</th><th>float64</th><th>str1</th><th>int32</th><th>object</th></tr></thead>\n",
       "<tr><td>2XMMi J032518.4-060739</td><td>51.326875</td><td>-6.1273888888888886</td><td>2005AJ....129.1755A</td><td>Sy1</td><td>2009ApJS..182..543A</td><td>126754.92483174153</td><td>0.57005</td><td>z</td><td>13</td><td>QSO|X  |Sy1|AGN</td></tr>\n",
       "</table>"
      ],
      "text/plain": [
       "<Row index=2>\n",
       "       main_id             ra            dec             coo_bibcode     otype_txt     rvz_bibcode         rvz_radvel     rvz_redshift rvz_type nbref      otypes    \n",
       "                          deg            deg                                                                 km / s                                                  \n",
       "        object          float64        float64              object         object         object            float64         float64      str1   int32      object    \n",
       "---------------------- --------- ------------------- ------------------- --------- ------------------- ------------------ ------------ -------- ----- ---------------\n",
       "2XMMi J032518.4-060739 51.326875 -6.1273888888888886 2005AJ....129.1755A       Sy1 2009ApJS..182..543A 126754.92483174153      0.57005        z    13 QSO|X  |Sy1|AGN"
      ]
     },
     "execution_count": 73,
     "metadata": {},
     "output_type": "execute_result"
    }
   ],
   "source": [
    "simbad_sample_Sy[ind]"
   ]
  },
  {
   "cell_type": "code",
   "execution_count": 74,
   "id": "5d33651b",
   "metadata": {},
   "outputs": [
    {
     "data": {
      "text/plain": [
       "<SkyCoord (ICRS): (ra, dec) in deg\n",
       "    (51.326875, -6.12738889)>"
      ]
     },
     "execution_count": 74,
     "metadata": {},
     "output_type": "execute_result"
    }
   ],
   "source": [
    "cat_smb_sample[ind]"
   ]
  },
  {
   "cell_type": "code",
   "execution_count": 25,
   "id": "DvHi0rgEJPcP",
   "metadata": {
    "colab": {
     "base_uri": "https://localhost:8080/"
    },
    "executionInfo": {
     "elapsed": 234,
     "status": "ok",
     "timestamp": 1633483845986,
     "user": {
      "displayName": "Jonhatan Herney Bernal Salinas",
      "photoUrl": "https://lh3.googleusercontent.com/a-/AOh14GiKhXNQ_goIeesq2w4kv4vwiz7BZTUIiIDZFS6iHA=s64",
      "userId": "11704227221814557955"
     },
     "user_tz": 300
    },
    "id": "DvHi0rgEJPcP",
    "outputId": "5e6d6024-2063-4196-8cca-9ce4c808d317"
   },
   "outputs": [
    {
     "name": "stdout",
     "output_type": "stream",
     "text": [
      "Author: Jonhatan Bernal\n",
      "\n",
      "Python implementation: CPython\n",
      "Python version       : 3.8.8\n",
      "IPython version      : 7.27.0\n",
      "\n",
      "Compiler    : MSC v.1928 64 bit (AMD64)\n",
      "OS          : Windows\n",
      "Release     : 10\n",
      "Machine     : AMD64\n",
      "Processor   : AMD64 Family 21 Model 2 Stepping 0, AuthenticAMD\n",
      "CPU cores   : 8\n",
      "Architecture: 64bit\n",
      "\n",
      "Specific Python packages\n",
      "astropy: 4.3.1\n",
      "\n",
      "astropy: 4.3.1\n",
      "numpy  : 1.20.3\n",
      "pyvo   : 1.1\n",
      "\n",
      "Watermark: 2.2.0\n",
      "\n"
     ]
    }
   ],
   "source": [
    "%load_ext watermark\n",
    "%watermark -a \"Jonhatan Bernal\" -d -v -m\n",
    "print('Specific Python packages')\n",
    "%watermark -iv -w --packages astropy"
   ]
  },
  {
   "cell_type": "code",
   "execution_count": null,
   "id": "78f15cfb",
   "metadata": {},
   "outputs": [],
   "source": []
  }
 ],
 "metadata": {
  "colab": {
   "name": "Obtain_Samples_AGNs_Ne_IR.ipynb",
   "provenance": []
  },
  "kernelspec": {
   "display_name": "Python 3 (ipykernel)",
   "language": "python",
   "name": "python3"
  },
  "language_info": {
   "codemirror_mode": {
    "name": "ipython",
    "version": 3
   },
   "file_extension": ".py",
   "mimetype": "text/x-python",
   "name": "python",
   "nbconvert_exporter": "python",
   "pygments_lexer": "ipython3",
   "version": "3.8.8"
  }
 },
 "nbformat": 4,
 "nbformat_minor": 5
}
