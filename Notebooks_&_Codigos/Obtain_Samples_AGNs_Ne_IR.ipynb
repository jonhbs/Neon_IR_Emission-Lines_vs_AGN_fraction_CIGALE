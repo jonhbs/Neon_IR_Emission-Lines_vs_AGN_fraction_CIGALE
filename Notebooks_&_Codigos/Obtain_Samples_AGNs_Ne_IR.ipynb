{
 "cells": [
  {
   "cell_type": "markdown",
   "id": "b3a0dff1",
   "metadata": {
    "id": "b3a0dff1"
   },
   "source": [
    "# Obtain data of AGN from SIMBAD and filtering the objects with data of Ne II, Ne III and Ne V in infrared from NED \n",
    "\n",
    "In this notebook we develop the code to Obtain the data of AGNs type Sy1 (Seyfert 1), Sy2 (Seyfert 2) and SyG (Seyfert Galaxies) from **[SIMBAD](http://simbad.u-strasbg.fr/simbad/sim-tap)** (SMB) and then search each object from the SMB sample in **[NED](https://ned.ipac.caltech.edu/)** to obtain the photometric data and filter all the objects from the sample that contain data of the emission lines of Ne II, Ne III and Ne V in infrared.\n",
    "\n",
    "The part of the code to obtain the data from SIMBAD is based in Andres Ramos's work to obtain Seyfert Samples (https://github.com/aframosp/AGNView)"
   ]
  },
  {
   "cell_type": "code",
   "execution_count": null,
   "id": "x9XCs3j8KmdF",
   "metadata": {
    "colab": {
     "base_uri": "https://localhost:8080/"
    },
    "executionInfo": {
     "elapsed": 10306,
     "status": "ok",
     "timestamp": 1633483403323,
     "user": {
      "displayName": "Jonhatan Herney Bernal Salinas",
      "photoUrl": "https://lh3.googleusercontent.com/a-/AOh14GiKhXNQ_goIeesq2w4kv4vwiz7BZTUIiIDZFS6iHA=s64",
      "userId": "11704227221814557955"
     },
     "user_tz": 300
    },
    "id": "x9XCs3j8KmdF",
    "outputId": "b7004f1f-d237-4f0a-8d65-6050ba7a3427",
    "tags": []
   },
   "outputs": [],
   "source": [
    "# If this notebook will be run in Google Colab, first at all the next code must be run. If the notebook will be run in Jupyter\n",
    "#then \"comment\" or omit this part \n",
    "\n",
    "import sys\n",
    "IN_COLAB = 'google.colab' in sys.modules\n",
    "\n",
    "if IN_COLAB:\n",
    "    !pip install astroquery"
   ]
  },
  {
   "cell_type": "code",
   "execution_count": 1,
   "id": "4f9c61fd",
   "metadata": {
    "executionInfo": {
     "elapsed": 1500,
     "status": "ok",
     "timestamp": 1633483409256,
     "user": {
      "displayName": "Jonhatan Herney Bernal Salinas",
      "photoUrl": "https://lh3.googleusercontent.com/a-/AOh14GiKhXNQ_goIeesq2w4kv4vwiz7BZTUIiIDZFS6iHA=s64",
      "userId": "11704227221814557955"
     },
     "user_tz": 300
    },
    "id": "4f9c61fd"
   },
   "outputs": [],
   "source": [
    "from datetime import date\n",
    "import time\n",
    "\n",
    "import pyvo\n",
    "import numpy as np\n",
    "from astroquery.ned import Ned\n",
    "\n",
    "import astropy.units as u\n",
    "from astropy.table import hstack\n",
    "from astropy.coordinates import SkyCoord"
   ]
  },
  {
   "cell_type": "markdown",
   "id": "e3d1274d",
   "metadata": {
    "id": "e3d1274d"
   },
   "source": [
    "Using the package **[PyVO](https://pyvo.readthedocs.io/en/latest/#)** we can access to remote data and services like the **TAP Service of SIMBAD [SIMBAD](http://simbad.u-strasbg.fr/simbad/sim-tap)** to find and retrieve the astronomical data that we need, in this case: Seyfert Galaxies. To achive that, we use a script with **[ADQL](https://www.ivoa.net/documents/latest/ADQL.html) (Astronomical Data Query Language)**, which is based on SQL.\n",
    "\n",
    "On the script we used the next **Field Names** for VOTable ouput:\n",
    "- ra: Right ascension\n",
    "- dec: Declination\n",
    "- coo_bibcode: Bibliographical reference for coordinates\n",
    "- otype_txt: Object type\n",
    "- rvz_bibcode: Bibliographical reference of radial velocity and redshift\n",
    "- rvz_radvel: Stored value. Either a radial velocity, or a redshift, depending on the rvz_type field \n",
    "- rvz_redshift\n",
    "- rvz_type: Stored type of velocity: 'v'=radial velocity, 'z'=redshift\n",
    "- nbref: bibliographical reference\n",
    "\n",
    "~~~~sql\n",
    "SELECT main_id\n",
    "\t,ra\n",
    "\t,dec\n",
    "\t,coo_bibcode\n",
    "\t,otype_txt\n",
    "\t,rvz_bibcode\n",
    "\t,rvz_radvel\n",
    "\t,rvz_redshift\n",
    "\t,rvz_type\n",
    "\t,nbref\n",
    "\t,alltypes.otypes\n",
    "FROM basic\n",
    "JOIN alltypes ON oid = oidref\n",
    "WHERE basic.otype = 'Sy1'\n",
    "\tOR basic.otype = 'Sy2'\n",
    "\tOR basic.otype = 'SyG'\n",
    "~~~~"
   ]
  },
  {
   "cell_type": "code",
   "execution_count": 2,
   "id": "975d55bf",
   "metadata": {
    "executionInfo": {
     "elapsed": 12406,
     "status": "ok",
     "timestamp": 1633483427713,
     "user": {
      "displayName": "Jonhatan Herney Bernal Salinas",
      "photoUrl": "https://lh3.googleusercontent.com/a-/AOh14GiKhXNQ_goIeesq2w4kv4vwiz7BZTUIiIDZFS6iHA=s64",
      "userId": "11704227221814557955"
     },
     "user_tz": 300
    },
    "id": "975d55bf"
   },
   "outputs": [],
   "source": [
    "service = pyvo.dal.TAPService(\"http://simbad.u-strasbg.fr:80/simbad/sim-tap\")\n",
    "\n",
    "result = service.search(\"\"\"\n",
    "SELECT main_id\n",
    "    ,ra\n",
    "    ,dec\n",
    "    ,coo_bibcode\n",
    "    ,otype_txt\n",
    "    ,rvz_bibcode\n",
    "    ,rvz_radvel\n",
    "    ,rvz_redshift\n",
    "    ,rvz_type\n",
    "    ,nbref\n",
    "    ,alltypes.otypes\n",
    "FROM basic\n",
    "JOIN alltypes ON oid = oidref\n",
    "WHERE basic.otype = 'Sy1'\n",
    "    OR basic.otype = 'Sy2'\n",
    "    OR basic.otype = 'SyG'\n",
    "\"\"\")"
   ]
  },
  {
   "cell_type": "markdown",
   "id": "fa406cc9",
   "metadata": {
    "id": "fa406cc9"
   },
   "source": [
    "We save the date in a variable for use later in the file names of the results"
   ]
  },
  {
   "cell_type": "code",
   "execution_count": 17,
   "id": "4bc21fd4",
   "metadata": {
    "executionInfo": {
     "elapsed": 216,
     "status": "ok",
     "timestamp": 1633483431485,
     "user": {
      "displayName": "Jonhatan Herney Bernal Salinas",
      "photoUrl": "https://lh3.googleusercontent.com/a-/AOh14GiKhXNQ_goIeesq2w4kv4vwiz7BZTUIiIDZFS6iHA=s64",
      "userId": "11704227221814557955"
     },
     "user_tz": 300
    },
    "id": "4bc21fd4"
   },
   "outputs": [
    {
     "data": {
      "text/plain": [
       "datetime.date(2021, 10, 7)"
      ]
     },
     "execution_count": 17,
     "metadata": {},
     "output_type": "execute_result"
    }
   ],
   "source": [
    "today = date.today()\n",
    "today"
   ]
  },
  {
   "cell_type": "markdown",
   "id": "9217eec3",
   "metadata": {
    "id": "9217eec3"
   },
   "source": [
    "We extract the object name (or in this case the main id) from the sample result."
   ]
  },
  {
   "cell_type": "code",
   "execution_count": 4,
   "id": "7d92c03c",
   "metadata": {
    "colab": {
     "base_uri": "https://localhost:8080/"
    },
    "executionInfo": {
     "elapsed": 498,
     "status": "ok",
     "timestamp": 1633483434934,
     "user": {
      "displayName": "Jonhatan Herney Bernal Salinas",
      "photoUrl": "https://lh3.googleusercontent.com/a-/AOh14GiKhXNQ_goIeesq2w4kv4vwiz7BZTUIiIDZFS6iHA=s64",
      "userId": "11704227221814557955"
     },
     "user_tz": 300
    },
    "id": "7d92c03c",
    "outputId": "d3745dc6-268d-4c1a-d422-647ef43cedc8"
   },
   "outputs": [
    {
     "data": {
      "text/html": [
       "<div><i>Table length=43708</i>\n",
       "<table id=\"table2843919461296\" class=\"table-striped table-bordered table-condensed\">\n",
       "<thead><tr><th>main_id</th><th>ra</th><th>dec</th><th>coo_bibcode</th><th>otype_txt</th><th>rvz_bibcode</th><th>rvz_radvel</th><th>rvz_redshift</th><th>rvz_type</th><th>nbref</th><th>otypes</th></tr></thead>\n",
       "<thead><tr><th></th><th>deg</th><th>deg</th><th></th><th></th><th></th><th>km / s</th><th></th><th></th><th></th><th></th></tr></thead>\n",
       "<thead><tr><th>object</th><th>float64</th><th>float64</th><th>object</th><th>object</th><th>object</th><th>float64</th><th>float64</th><th>str1</th><th>int32</th><th>object</th></tr></thead>\n",
       "<tr><td>LEDA  165630</td><td>212.38023750000002</td><td>5.192030555555555</td><td>2009ApJS..182..543A</td><td>Sy2</td><td>2011A&amp;A...528A.124C</td><td>69068.1659042559</td><td>0.2644</td><td>z</td><td>68</td><td>IR |QSO|Sy2|G  |G</td></tr>\n",
       "<tr><td>2MASS J10034653+1222009</td><td>150.9439585861228</td><td>12.3669990150726</td><td>2018yCat.1345....0G</td><td>Sy1</td><td>2012ApJS..203...21A</td><td>71464.57474536476</td><td>0.27514</td><td>z</td><td>17</td><td>IR |QSO|AGN|X  |BiC|QSO|Sy1|Sy1|AGN</td></tr>\n",
       "<tr><td>2XMMi J032518.4-060739</td><td>51.326875</td><td>-6.1273888888888886</td><td>2005AJ....129.1755A</td><td>Sy1</td><td>2009ApJS..182..543A</td><td>126754.92483174153</td><td>0.57005</td><td>z</td><td>13</td><td>QSO|X  |Sy1|AGN</td></tr>\n",
       "<tr><td>USNO-A2.0 0825-00787515</td><td>52.0941222224393</td><td>-6.7266691804094</td><td>2018yCat.1345....0G</td><td>Sy1</td><td>2009ApJS..182..543A</td><td>93552.23834660952</td><td>0.38102</td><td>z</td><td>15</td><td>QSO|Sy1|AGN|*  |UV</td></tr>\n",
       "<tr><td>2SLAQ J033852.90+001904.7</td><td>54.7204660377791</td><td>0.3179910253349</td><td>2018yCat.1345....0G</td><td>Sy1</td><td>2009ApJS..182..543A</td><td>108224.28742924411</td><td>0.45941</td><td>z</td><td>25</td><td>X  |QSO|QSO|AGN|*  |Sy1|AGN</td></tr>\n",
       "<tr><td>2SLAQ J034007.62-004632.5</td><td>55.0317750936304</td><td>-0.7757204237907</td><td>2018yCat.1345....0G</td><td>Sy1</td><td>2009ApJS..182..543A</td><td>138971.58950556486</td><td>0.65175</td><td>z</td><td>19</td><td>QSO|QSO|Sy1|*  |QSO|AGN</td></tr>\n",
       "<tr><td>2XMM J032328.4-371009</td><td>50.86844</td><td>-37.16924</td><td>2012ApJ...756...27L</td><td>Sy1</td><td></td><td>--</td><td>--</td><td></td><td>1</td><td>X  |Sy1</td></tr>\n",
       "<tr><td>2MASS J13241017+6410056</td><td>201.042164402469</td><td>64.1681640803473</td><td>2018yCat.1345....0G</td><td>Sy1</td><td>2012ApJS..203...21A</td><td>89131.01929523506</td><td>0.35875</td><td>z</td><td>15</td><td>IR |QSO|AGN|X  |QSO|*  |Sy1|AGN|X</td></tr>\n",
       "<tr><td>2SLAQ J034430.16+000407.3</td><td>56.125687565612</td><td>0.0687228938891</td><td>2018yCat.1345....0G</td><td>Sy1</td><td>2009ApJS..182..543A</td><td>133448.07778790663</td><td>0.61384</td><td>z</td><td>15</td><td>QSO|*  |Sy1|AGN</td></tr>\n",
       "<tr><td>...</td><td>...</td><td>...</td><td>...</td><td>...</td><td>...</td><td>...</td><td>...</td><td>...</td><td>...</td><td>...</td></tr>\n",
       "<tr><td>[VV2006] J104723.5+540406</td><td>161.8480298155732</td><td>54.0685833407248</td><td>2018yCat.1345....0G</td><td>Sy1</td><td>2009ApJS..182..543A</td><td>217667.13454092198</td><td>1.51015</td><td>z</td><td>24</td><td>QSO|*  |QSO|Rad|QSO|Sy1|X</td></tr>\n",
       "<tr><td>[VV2006] J104754.7+661157</td><td>161.9776725141372</td><td>66.1992653597887</td><td>2018yCat.1345....0G</td><td>Sy1</td><td>2012ApJS..203...21A</td><td>110305.41792308493</td><td>0.47114</td><td>z</td><td>23</td><td>QSO|QSO|Sy1|QSO|*  |Sy1|QSO</td></tr>\n",
       "<tr><td>[VV2006] J101844.4+420237</td><td>154.6847860351386</td><td>42.0436815843426</td><td>2018yCat.1345....0G</td><td>Sy1</td><td>2015ApJS..219...12A</td><td>132407.1104987584</td><td>0.60688</td><td>z</td><td>16</td><td>QSO|QSO|*  |Sy1|QSO</td></tr>\n",
       "<tr><td>[VV2006] J104840.3+563635</td><td>162.1679172872266</td><td>56.6098808752205</td><td>2018yCat.1345....0G</td><td>Sy1</td><td>2015ApJS..219...12A</td><td>147377.16154828176</td><td>0.71286</td><td>z</td><td>22</td><td>QSO|QSO|Sy1|QSO|*  |Sy1|QSO|QSO</td></tr>\n",
       "<tr><td>[VV2006] J104941.2+025951</td><td>162.4216200329488</td><td>2.9974460527155</td><td>2018yCat.1345....0G</td><td>Sy1</td><td>2012ApJS..203...21A</td><td>134859.7310888103</td><td>0.62337</td><td>z</td><td>17</td><td>QSO|QSO|QSO|*  |Sy1|QSO</td></tr>\n",
       "<tr><td>2MASS J12063307+4125361</td><td>181.6378236793675</td><td>41.4266765178668</td><td>2018yCat.1345....0G</td><td>Sy1</td><td>2018A&amp;A...613A..51P</td><td>124281.80311237059</td><td>0.554423</td><td>z</td><td>20</td><td>QSO|IR |QSO|QSO|QSO|*  |Sy1</td></tr>\n",
       "<tr><td>2MASS J12073002+1250579</td><td>181.8750371104585</td><td>12.849342819375</td><td>2018yCat.1345....0G</td><td>Sy1</td><td>2012ApJS..203...21A</td><td>152349.72566577664</td><td>0.75116</td><td>z</td><td>17</td><td>IR |QSO|QSO|QSO|*  |Sy1|QSO</td></tr>\n",
       "<tr><td>[VV2006] J135741.6+052549</td><td>209.4235618228939</td><td>5.4301694791392</td><td>2018yCat.1345....0G</td><td>Sy1</td><td>2012ApJS..203...21A</td><td>150969.72198130668</td><td>0.74036</td><td>z</td><td>22</td><td>QSO|AGN|X  |QSO|Sy1|QSO|*  |Sy1|QSO</td></tr>\n",
       "<tr><td>[VV2006] J162033.0+442249</td><td>245.1371409170023</td><td>44.3804131154836</td><td>2018yCat.1345....0G</td><td>Sy1</td><td>2012ApJS..203...21A</td><td>128912.24896755826</td><td>0.58392</td><td>z</td><td>22</td><td>QSO|AGN|X  |QSO|QSO|*  |Sy1|QSO</td></tr>\n",
       "<tr><td>[VV2006c] J164424.0+255242</td><td>251.1001487379708</td><td>25.8784356100449</td><td>2018yCat.1345....0G</td><td>Sy1</td><td>2012ApJS..203...21A</td><td>128765.60575895594</td><td>0.58297</td><td>z</td><td>14</td><td>QSO|QSO|QSO|*  |Sy1|AGN</td></tr>\n",
       "</table></div>"
      ],
      "text/plain": [
       "<Table length=43708>\n",
       "         main_id           ...                otypes              \n",
       "                           ...                                    \n",
       "          object           ...                object              \n",
       "-------------------------- ... -----------------------------------\n",
       "              LEDA  165630 ...                 IR |QSO|Sy2|G  |G  \n",
       "   2MASS J10034653+1222009 ... IR |QSO|AGN|X  |BiC|QSO|Sy1|Sy1|AGN\n",
       "    2XMMi J032518.4-060739 ...                     QSO|X  |Sy1|AGN\n",
       "   USNO-A2.0 0825-00787515 ...                 QSO|Sy1|AGN|*  |UV \n",
       " 2SLAQ J033852.90+001904.7 ...         X  |QSO|QSO|AGN|*  |Sy1|AGN\n",
       " 2SLAQ J034007.62-004632.5 ...             QSO|QSO|Sy1|*  |QSO|AGN\n",
       "     2XMM J032328.4-371009 ...                             X  |Sy1\n",
       "   2MASS J13241017+6410056 ... IR |QSO|AGN|X  |QSO|*  |Sy1|AGN|X  \n",
       " 2SLAQ J034430.16+000407.3 ...                     QSO|*  |Sy1|AGN\n",
       "                       ... ...                                 ...\n",
       " [VV2006] J104723.5+540406 ...         QSO|*  |QSO|Rad|QSO|Sy1|X  \n",
       " [VV2006] J104754.7+661157 ...         QSO|QSO|Sy1|QSO|*  |Sy1|QSO\n",
       " [VV2006] J101844.4+420237 ...                 QSO|QSO|*  |Sy1|QSO\n",
       " [VV2006] J104840.3+563635 ...     QSO|QSO|Sy1|QSO|*  |Sy1|QSO|QSO\n",
       " [VV2006] J104941.2+025951 ...             QSO|QSO|QSO|*  |Sy1|QSO\n",
       "   2MASS J12063307+4125361 ...         QSO|IR |QSO|QSO|QSO|*  |Sy1\n",
       "   2MASS J12073002+1250579 ...         IR |QSO|QSO|QSO|*  |Sy1|QSO\n",
       " [VV2006] J135741.6+052549 ... QSO|AGN|X  |QSO|Sy1|QSO|*  |Sy1|QSO\n",
       " [VV2006] J162033.0+442249 ...     QSO|AGN|X  |QSO|QSO|*  |Sy1|QSO\n",
       "[VV2006c] J164424.0+255242 ...             QSO|QSO|QSO|*  |Sy1|AGN"
      ]
     },
     "execution_count": 4,
     "metadata": {},
     "output_type": "execute_result"
    }
   ],
   "source": [
    "simbad_sample_Sy = result.to_table()\n",
    "obj_name_SMB=simbad_sample_Sy[\"main_id\"]\n",
    "simbad_sample_Sy"
   ]
  },
  {
   "cell_type": "markdown",
   "id": "64e523f9",
   "metadata": {},
   "source": [
    "The sample results is saved in a .csv file:"
   ]
  },
  {
   "cell_type": "code",
   "execution_count": 18,
   "id": "d099bc62",
   "metadata": {},
   "outputs": [],
   "source": [
    "simbad_sample_Sy.write(today.strftime('%b_%d_%Y')+'_Sy_Samples'+'.csv',\n",
    "                    format='ascii.csv',overwrite=True)"
   ]
  },
  {
   "cell_type": "markdown",
   "id": "6d39be83",
   "metadata": {
    "id": "6d39be83"
   },
   "source": [
    "Using **SkyCoord** from astropy we extract the coordinates information for each object from the SIMBAD samples. This is because for some objects when we search the information in [NED](https://ned.ipac.caltech.edu/) using their SIMBAD main id  it doesn't reconigze it, so we will use coordinates instead to get the NED object name"
   ]
  },
  {
   "cell_type": "code",
   "execution_count": 5,
   "id": "8fa81bae",
   "metadata": {
    "executionInfo": {
     "elapsed": 181,
     "status": "ok",
     "timestamp": 1633483449934,
     "user": {
      "displayName": "Jonhatan Herney Bernal Salinas",
      "photoUrl": "https://lh3.googleusercontent.com/a-/AOh14GiKhXNQ_goIeesq2w4kv4vwiz7BZTUIiIDZFS6iHA=s64",
      "userId": "11704227221814557955"
     },
     "user_tz": 300
    },
    "id": "8fa81bae"
   },
   "outputs": [],
   "source": [
    "cat_smb_sample = SkyCoord(ra=simbad_sample_Sy['ra'], dec=simbad_sample_Sy['dec'])"
   ]
  },
  {
   "cell_type": "markdown",
   "id": "45cc82a0",
   "metadata": {
    "id": "45cc82a0"
   },
   "source": [
    "The wavelenght for NeII, NeIII and NeV in the infrared spectrum are 12.8 microns, 15.6 microns and 14.3 microns respectively. This values are equivalents to the following frequencies which ara related to different labels of \"Observed Passband\" in NED database as we ilustrate in the next list:\n",
    "\n",
    "* Frequency: 1.92e+13 Hz: [NeIII] 15.6 microns\n",
    "* Frecuency: 1.93e+13 Hz: [Ne III] 15.56 (IRS), [NeIII] 15.6 Spitzer, [Ne III] (Spitzer), [Ne III] 15.5 (IRS)\n",
    "* Frecuency: 2.09e+13 Hz: [Ne V] 14.32 (IRS), [Ne V] 14.32 Spitzer, [Ne V] 14.32, [Ne V] 14.3 Spitzer, [Ne V] 14.3 microns\n",
    "* Frequency: 2.10e+13 Hz: [Ne V] 14.3 (IRS)\n",
    "* Frequency: 2.34e+13 Hz: [Ne II] 12.81 (IRS), [Ne II] 12.8 Spitzer, [Ne II] 12.8 (IRS), [Ne II] 12.81, NEII (VLT), 12.81 microns (VLT) \n",
    "\n",
    "In the variable **Ne_IR_Freq** we define a list with the those frequency values"
   ]
  },
  {
   "cell_type": "code",
   "execution_count": 6,
   "id": "706c6696",
   "metadata": {},
   "outputs": [],
   "source": [
    "Ne_IR_Freq = [19200000000000.0,19300000000000.0,20900000000000.0,21000000000000.0,23400000000000.0]"
   ]
  },
  {
   "cell_type": "markdown",
   "id": "1sLsMiArlEdV",
   "metadata": {
    "id": "1sLsMiArlEdV"
   },
   "source": [
    "Using the coordinates extracted with SkyCoord and using [Astroquery](https://astroquery.readthedocs.io/en/latest/index.html) package we will get the information from NED for each object in SIMBAD sample. Then we took the **Object Name** to get the **Photometry table** of this objects. The filter for the objects with Ne Line Emissions in Infrared will be looking in the column **\"Frequency\"** of the table the values of the list defined in Ne_IR_Freq."
   ]
  },
  {
   "cell_type": "code",
   "execution_count": 7,
   "id": "cf802574",
   "metadata": {},
   "outputs": [],
   "source": [
    "def nedtablephot(obj_name):\n",
    "    try:\n",
    "        #We get the photometry table from NED for each sample\n",
    "        phot_table = Ned.get_table(obj_name, table='photometry')\n",
    "        error = 0\n",
    "    except:\n",
    "        error = 1\n",
    "        phot_table=[]\n",
    "    return phot_table, error\n",
    "        "
   ]
  },
  {
   "cell_type": "code",
   "execution_count": 8,
   "id": "2e0b3ca2",
   "metadata": {},
   "outputs": [],
   "source": [
    "def nedqueryregion(coords):\n",
    "    try: \n",
    "        result_table = Ned.query_region(coords,radius=0.0005*u.deg) #For obtaining the data from NED for each sample\n",
    "        obj_name_NED = result_table[\"Object Name\"]\n",
    "        error = 0\n",
    "    except:\n",
    "        error = 1\n",
    "        obj_name_NED=[]\n",
    "    return obj_name_NED, error"
   ]
  },
  {
   "cell_type": "code",
   "execution_count": 10,
   "id": "c2c1c5d1",
   "metadata": {
    "colab": {
     "base_uri": "https://localhost:8080/"
    },
    "executionInfo": {
     "elapsed": 7063,
     "status": "ok",
     "timestamp": 1633484416154,
     "user": {
      "displayName": "Jonhatan Herney Bernal Salinas",
      "photoUrl": "https://lh3.googleusercontent.com/a-/AOh14GiKhXNQ_goIeesq2w4kv4vwiz7BZTUIiIDZFS6iHA=s64",
      "userId": "11704227221814557955"
     },
     "user_tz": 300
    },
    "id": "c2c1c5d1",
    "outputId": "f4ef079e-e482-4efe-8ca2-6a0f7736e6b1"
   },
   "outputs": [
    {
     "name": "stdout",
     "output_type": "stream",
     "text": [
      "Index No.:0, Name(SIMBAD): LEDA  165630\n",
      "Index No.:23, Name(SIMBAD): ESO 362-18\n",
      "Index No.:100, Name(NED): 3C 334\n",
      "Index No.:182, Name(SIMBAD): ESO 323-77\n",
      "Index No.:342, Name(SIMBAD): NGC  7479\n",
      "Index No.:400, Name(SIMBAD): M  81\n",
      "Index No.:408, Name(SIMBAD): NGC  1241\n",
      "Index No.:409, Name(SIMBAD): NGC  3516\n",
      "Index No.:429, Name(SIMBAD): IRAS 15206+3342\n",
      "Index No.:450, Name(SIMBAD): LEDA 1487448\n",
      "Index No.:611, Name(SIMBAD): Mrk  937\n",
      "Index No.:624, Name(SIMBAD): ESO 297-18\n",
      "Index No.:644, Name(SIMBAD): IC  450\n",
      "Index No.:790, Name(SIMBAD): Mrk  622\n",
      "Index No.:858, Name(NED): WISEA J035734.06-053719.6\n",
      "Index No.:1051, Name(SIMBAD): 2MASS J21035875-0728025\n",
      "Index No.:1111, Name(SIMBAD): IRAS 15480-0344\n",
      "Index No.:1411, Name(SIMBAD): Mrk  471\n",
      "Index No.:1585, Name(SIMBAD): 2MASS J00105486+0014510\n",
      "Index No.:1588, Name(NED): WISEA J005439.78+155447.2\n",
      "Index No.:1869, Name(SIMBAD): LEDA  166692\n",
      "Index No.:2266, Name(SIMBAD): NGC  4992\n",
      "Index No.:2624, Name(SIMBAD): 3C 295\n",
      "Index No.:2852, Name(SIMBAD): LEDA    3237\n",
      "Index No.:2853, Name(SIMBAD): Mrk  478\n",
      "Index No.:2951, Name(SIMBAD): NGC  1125\n",
      "Index No.:2968, Name(SIMBAD): Mrk  279\n",
      "Index No.:2990, Name(SIMBAD): Mrk 1502\n",
      "Index No.:2992, Name(SIMBAD): PB  3894\n",
      "Index No.:2995, Name(SIMBAD): ICRF J054236.1+495107\n",
      "Index No.:2997, Name(NED): 3C 098\n",
      "Index No.:3601, Name(SIMBAD): NGC  2992\n",
      "Index No.:3671, Name(SIMBAD): NGC  2110\n",
      "Index No.:3717, Name(SIMBAD): UGC  3351\n",
      "Index No.:3775, Name(SIMBAD): NGC   788\n",
      "Index No.:3779, Name(SIMBAD): NGC  4235\n",
      "Index No.:3780, Name(SIMBAD): NGC  6860\n",
      "Index No.:3851, Name(SIMBAD): Mrk  520\n",
      "Index No.:3891, Name(SIMBAD): MCG+04-48-002\n",
      "Index No.:4066, Name(SIMBAD): ICRF J145907.5+714019\n",
      "Index No.:4146, Name(SIMBAD): 2E  2503\n",
      "Index No.:4152, Name(SIMBAD): MCG+00-29-023\n",
      "Index No.:4289, Name(SIMBAD): Z 218-7\n",
      "Index No.:4444, Name(SIMBAD): Mrk  463E\n",
      "Index No.:4602, Name(SIMBAD): LEDA   27453\n",
      "Index No.:4605, Name(SIMBAD): IRAS 07598+6508\n",
      "Index No.:4617, Name(SIMBAD): NGC  4151\n",
      "Index No.:4620, Name(SIMBAD): NGC  1365\n",
      "Index No.:4665, Name(SIMBAD): 2XMM J101756.8+390526\n",
      "Index No.:4669, Name(SIMBAD): 3C  84\n",
      "Index No.:4683, Name(SIMBAD): ESO 141-55\n",
      "Index No.:4695, Name(SIMBAD): MCG+10-17-021\n",
      "Index No.:4698, Name(SIMBAD): Mrk  509\n",
      "Index No.:4700, Name(SIMBAD): NGC  7591\n",
      "Index No.:4737, Name(SIMBAD): Mrk  493\n",
      "Index No.:4739, Name(SIMBAD): Mrk 1239\n",
      "Index No.:4742, Name(SIMBAD): Mrk  231\n",
      "Index No.:4750, Name(SIMBAD): NGC  3079\n",
      "Index No.:4784, Name(SIMBAD): NGC  4355\n",
      "Index No.:4808, Name(SIMBAD): IRAS 13342+3932\n",
      "Index No.:4826, Name(NED): WISEA J165939.77+183436.7\n",
      "Index No.:4905, Name(SIMBAD): Mrk  876\n",
      "Index No.:4912, Name(SIMBAD): MCG+13-07-002\n",
      "Index No.:4928, Name(SIMBAD): NGC   253\n",
      "Index No.:4934, Name(SIMBAD): 3C 286\n",
      "Index No.:4936, Name(SIMBAD): NGC  3982\n",
      "Index No.:4937, Name(SIMBAD): ICRF J182931.7+484446\n",
      "Index No.:4940, Name(SIMBAD): ESO 428-14\n",
      "Index No.:4941, Name(SIMBAD): NGC  5728\n",
      "Index No.:4942, Name(SIMBAD): 2MASX J00535615-7038045\n",
      "Index No.:5401, Name(SIMBAD): UGC  1841\n",
      "Index No.:5423, Name(SIMBAD): LEDA    1790\n",
      "Index No.:5424, Name(SIMBAD): Ton  951\n",
      "Index No.:5426, Name(SIMBAD): NGC  4748\n",
      "Index No.:5428, Name(NED): FAIRALL 0049\n",
      "Index No.:5430, Name(SIMBAD): NGC  3281\n",
      "Index No.:5431, Name(SIMBAD): NGC  5995\n",
      "Index No.:5444, Name(NED): WISEA J130005.34+163214.8\n",
      "Index No.:5446, Name(SIMBAD): 2MASX J18334627+4727027\n",
      "Index No.:5447, Name(SIMBAD): 2E   437\n",
      "Index No.:5469, Name(SIMBAD): Mrk  877\n",
      "Index No.:5630, Name(NED): 3C 033\n",
      "Index No.:5631, Name(SIMBAD): NGC  3393\n",
      "Index No.:5634, Name(SIMBAD): IC 1816\n",
      "Index No.:5684, Name(SIMBAD): Mrk 1506\n",
      "Index No.:5738, Name(SIMBAD): Mrk 1014\n",
      "Index No.:5743, Name(SIMBAD): Mrk  771\n",
      "Index No.:5746, Name(SIMBAD): Mrk 1513\n",
      "Index No.:5748, Name(SIMBAD): Mrk  304\n",
      "Index No.:5749, Name(SIMBAD): 2MASS J14294306+4747262\n",
      "Index No.:5844, Name(SIMBAD): 2MASX J10181928+3722419\n",
      "Index No.:5853, Name(SIMBAD): 2MASX J14323249+3406257\n",
      "Index No.:5892, Name(SIMBAD): Mrk 1383\n",
      "Index No.:5976, Name(SIMBAD): SDSS J040208.86-050642.0\n",
      "Index No.:5985, Name(SIMBAD): 3C 452\n",
      "\n",
      "Total objects with Ne II or Ne III or Ne V data found:  95\n",
      "Execution Time(seg): 4722.190343379974\n",
      "Execution Time(min): 78.70317238966624\n",
      "Execution Time(hrs): 1.3117195398277706\n"
     ]
    }
   ],
   "source": [
    "Ne_IR_obj = [] #List of objects with Ne-IR data\n",
    "\n",
    "outfile = open('Obj_with_Ne-IR.txt','w') #We create and open a file to write the list of objects names with Ne_IR data\n",
    "headerstring = 'Objects with Ne II, Ne III and Ne V data:\\n' #Creating the header\n",
    "outfile.write(headerstring) #Writing the header\n",
    "\n",
    "start = time.time()\n",
    "for i in range(6000):\n",
    "    \n",
    "    k=i #Flag to print (and save) only the photometric data of objects with Ne-IR data\n",
    "    phot_table1,error1 = nedtablephot(obj_name_SMB[i])\n",
    "    len_table = len(phot_table1) #Lenght of the photometry data\n",
    "    \n",
    "    if error1 == 0:\n",
    "\n",
    "        for j in range(len_table):\n",
    "            Freq=phot_table1[\"Frequency\"][j] #We get the values of the Frequencies observed\n",
    "\n",
    "            if (Freq==Ne_IR_Freq[0] or Freq==Ne_IR_Freq[1] or Freq==Ne_IR_Freq[2] or Freq==Ne_IR_Freq[3] or \n",
    "                Freq==Ne_IR_Freq[4]): \n",
    "                \n",
    "                #If k is equal to the current sample indice, save and print onlyone time the object name \n",
    "                #and print the table title\n",
    "                if k==i: \n",
    "                    #print('\\n')\n",
    "                    print(f\"Index No.:{i}, Name(SIMBAD): {obj_name_SMB[i]}\")\n",
    "                    #Writing the object names\n",
    "                    outstring = f'\\n{obj_name_SMB[i]}'\n",
    "                    outfile.write(outstring) \n",
    "                    Ne_IR_obj.append(obj_name_SMB[i]) #Save the object name in the list\n",
    "                    \n",
    "                k+=1\n",
    "    elif error1 == 1:\n",
    "        obj_name_NED, error2 = nedqueryregion(cat_smb_sample[i])\n",
    "        \n",
    "        if error2 == 0:\n",
    "            phot_table2,error3 = nedtablephot(obj_name_NED)\n",
    "            len_table1 = len(phot_table2) #Lenght of the photometry data\n",
    "            if error3 == 0:\n",
    "                for j in range(len_table1):\n",
    "                    Freq=phot_table2[\"Frequency\"][j] #We get the values of the Frequencies observed\n",
    "\n",
    "                    if (Freq==Ne_IR_Freq[0] or Freq==Ne_IR_Freq[1] or Freq==Ne_IR_Freq[2] or Freq==Ne_IR_Freq[3] or \n",
    "                        Freq==Ne_IR_Freq[4]): \n",
    "                \n",
    "                #If k is equal to the current sample indice, save and print onlyone time the object name \n",
    "                #and print the table title\n",
    "                        if k==i: \n",
    "                            print(f\"Index No.:{i}, Name(NED): {obj_name_NED[0]}\")\n",
    "                            #Writing the object names\n",
    "                            outstring = f'\\n{obj_name_NED[0]}'\n",
    "                            outfile.write(outstring) \n",
    "                            Ne_IR_obj.append(obj_name_NED[0]) #Save the object name in the list\n",
    "                    \n",
    "                        k+=1\n",
    "            \n",
    "end = time.time()\n",
    "#we close the file with objects names\n",
    "outfile.close()\n",
    "\n",
    "print('\\nTotal objects with Ne II or Ne III or Ne V data found: ',len(Ne_IR_obj))\n",
    "print('Execution Time(seg): ' + str(end - start))\n",
    "print('Execution Time(min): ' + str((end - start)/60))\n",
    "print('Execution Time(hrs): ' + str((end - start)/3600))"
   ]
  },
  {
   "cell_type": "code",
   "execution_count": 11,
   "id": "273f1e49",
   "metadata": {
    "colab": {
     "base_uri": "https://localhost:8080/"
    },
    "executionInfo": {
     "elapsed": 326,
     "status": "ok",
     "timestamp": 1633484501547,
     "user": {
      "displayName": "Jonhatan Herney Bernal Salinas",
      "photoUrl": "https://lh3.googleusercontent.com/a-/AOh14GiKhXNQ_goIeesq2w4kv4vwiz7BZTUIiIDZFS6iHA=s64",
      "userId": "11704227221814557955"
     },
     "user_tz": 300
    },
    "id": "273f1e49",
    "outputId": "1f6de93f-df2d-4b2e-a2fa-c308c53857c8"
   },
   "outputs": [
    {
     "data": {
      "text/plain": [
       "['LEDA  165630',\n",
       " 'ESO 362-18',\n",
       " '3C 334',\n",
       " 'ESO 323-77',\n",
       " 'NGC  7479',\n",
       " 'M  81',\n",
       " 'NGC  1241',\n",
       " 'NGC  3516',\n",
       " 'IRAS 15206+3342',\n",
       " 'LEDA 1487448',\n",
       " 'Mrk  937',\n",
       " 'ESO 297-18',\n",
       " 'IC  450',\n",
       " 'Mrk  622',\n",
       " 'WISEA J035734.06-053719.6',\n",
       " '2MASS J21035875-0728025',\n",
       " 'IRAS 15480-0344',\n",
       " 'Mrk  471',\n",
       " '2MASS J00105486+0014510',\n",
       " 'WISEA J005439.78+155447.2',\n",
       " 'LEDA  166692',\n",
       " 'NGC  4992',\n",
       " '3C 295',\n",
       " 'LEDA    3237',\n",
       " 'Mrk  478',\n",
       " 'NGC  1125',\n",
       " 'Mrk  279',\n",
       " 'Mrk 1502',\n",
       " 'PB  3894',\n",
       " 'ICRF J054236.1+495107',\n",
       " '3C 098',\n",
       " 'NGC  2992',\n",
       " 'NGC  2110',\n",
       " 'UGC  3351',\n",
       " 'NGC   788',\n",
       " 'NGC  4235',\n",
       " 'NGC  6860',\n",
       " 'Mrk  520',\n",
       " 'MCG+04-48-002',\n",
       " 'ICRF J145907.5+714019',\n",
       " '2E  2503',\n",
       " 'MCG+00-29-023',\n",
       " 'Z 218-7',\n",
       " 'Mrk  463E',\n",
       " 'LEDA   27453',\n",
       " 'IRAS 07598+6508',\n",
       " 'NGC  4151',\n",
       " 'NGC  1365',\n",
       " '2XMM J101756.8+390526',\n",
       " '3C  84',\n",
       " 'ESO 141-55',\n",
       " 'MCG+10-17-021',\n",
       " 'Mrk  509',\n",
       " 'NGC  7591',\n",
       " 'Mrk  493',\n",
       " 'Mrk 1239',\n",
       " 'Mrk  231',\n",
       " 'NGC  3079',\n",
       " 'NGC  4355',\n",
       " 'IRAS 13342+3932',\n",
       " 'WISEA J165939.77+183436.7',\n",
       " 'Mrk  876',\n",
       " 'MCG+13-07-002',\n",
       " 'NGC   253',\n",
       " '3C 286',\n",
       " 'NGC  3982',\n",
       " 'ICRF J182931.7+484446',\n",
       " 'ESO 428-14',\n",
       " 'NGC  5728',\n",
       " '2MASX J00535615-7038045',\n",
       " 'UGC  1841',\n",
       " 'LEDA    1790',\n",
       " 'Ton  951',\n",
       " 'NGC  4748',\n",
       " 'FAIRALL 0049',\n",
       " 'NGC  3281',\n",
       " 'NGC  5995',\n",
       " 'WISEA J130005.34+163214.8',\n",
       " '2MASX J18334627+4727027',\n",
       " '2E   437',\n",
       " 'Mrk  877',\n",
       " '3C 033',\n",
       " 'NGC  3393',\n",
       " 'IC 1816',\n",
       " 'Mrk 1506',\n",
       " 'Mrk 1014',\n",
       " 'Mrk  771',\n",
       " 'Mrk 1513',\n",
       " 'Mrk  304',\n",
       " '2MASS J14294306+4747262',\n",
       " '2MASX J10181928+3722419',\n",
       " '2MASX J14323249+3406257',\n",
       " 'Mrk 1383',\n",
       " 'SDSS J040208.86-050642.0',\n",
       " '3C 452']"
      ]
     },
     "execution_count": 11,
     "metadata": {},
     "output_type": "execute_result"
    }
   ],
   "source": [
    "Ne_IR_obj"
   ]
  },
  {
   "cell_type": "markdown",
   "id": "31e54592",
   "metadata": {},
   "source": [
    "Las celdas a continuación son para pruebas:"
   ]
  },
  {
   "cell_type": "code",
   "execution_count": 14,
   "id": "b233d41b",
   "metadata": {},
   "outputs": [],
   "source": [
    "#Celda para pruebas\n",
    "ind=400\n",
    "\n",
    "result_t = Ned.query_region(cat_smb_sample[ind],radius=0.0005 * u.deg) #For obtaining the data from NED for each sample \n",
    "\n",
    "o_name=result_t[\"Object Name\"]\n",
    "try:\n",
    "  phot_t = Ned.get_table(o_name, table='photometry')\n",
    "  #print(phot_t['Frequency'])\n",
    "  len_t=len(phot_t)\n",
    "  for a in range(len_t):\n",
    "    Passb=phot_t['Frequency'][a] #We get the name for each Observed Passband\n",
    "    if (Passb==Ne_IR_Freq[0] or Passb==Ne_IR_Freq[1] or Passb==Ne_IR_Freq[2] or Passb==Ne_IR_Freq[3] or Passb==Ne_IR_Freq[4]):\n",
    "      print(o_name)\n",
    "except:\n",
    "  pass"
   ]
  },
  {
   "cell_type": "code",
   "execution_count": 15,
   "id": "c3df0948",
   "metadata": {},
   "outputs": [
    {
     "data": {
      "text/html": [
       "<div><i>Table length=9</i>\n",
       "<table id=\"table2843923733616\" class=\"table-striped table-bordered table-condensed\">\n",
       "<thead><tr><th>No.</th><th>Object Name</th><th>RA</th><th>DEC</th><th>Type</th><th>Velocity</th><th>Redshift</th><th>Redshift Flag</th><th>Magnitude and Filter</th><th>Separation</th><th>References</th><th>Notes</th><th>Photometry Points</th><th>Positions</th><th>Redshift Points</th><th>Diameter Points</th><th>Associations</th></tr></thead>\n",
       "<thead><tr><th></th><th></th><th>degrees</th><th>degrees</th><th></th><th>km / s</th><th></th><th></th><th></th><th>arcmin</th><th></th><th></th><th></th><th></th><th></th><th></th><th></th></tr></thead>\n",
       "<thead><tr><th>int32</th><th>str30</th><th>float64</th><th>float64</th><th>object</th><th>float64</th><th>float64</th><th>object</th><th>object</th><th>float64</th><th>int32</th><th>int32</th><th>int32</th><th>int32</th><th>int32</th><th>int32</th><th>int32</th></tr></thead>\n",
       "<tr><td>1</td><td>NGC 3031:[MKH2012] CLU161</td><td>148.888</td><td>69.065</td><td>UvES</td><td>--</td><td>--</td><td></td><td></td><td>0.018</td><td>2</td><td>0</td><td>0</td><td>2</td><td>0</td><td>0</td><td>0</td></tr>\n",
       "<tr><td>2</td><td>CXO J095533.1+690355</td><td>148.88805</td><td>69.06531</td><td>XrayS</td><td>--</td><td>--</td><td></td><td></td><td>0.004</td><td>2</td><td>0</td><td>0</td><td>2</td><td>0</td><td>0</td><td>1</td></tr>\n",
       "<tr><td>3</td><td>CXO J095533.14+690355.1</td><td>148.88812</td><td>69.06532</td><td>XrayS</td><td>--</td><td>--</td><td></td><td></td><td>0.003</td><td>4</td><td>0</td><td>1</td><td>2</td><td>0</td><td>0</td><td>0</td></tr>\n",
       "<tr><td>4</td><td>2MASS J09553315+6903550</td><td>148.88816</td><td>69.06529</td><td>IrS</td><td>--</td><td>--</td><td></td><td></td><td>0.001</td><td>0</td><td>0</td><td>6</td><td>1</td><td>0</td><td>0</td><td>0</td></tr>\n",
       "<tr><td>5</td><td>SSTSL2 J095533.16+690355.6</td><td>148.8882</td><td>69.06546</td><td>IrS</td><td>--</td><td>--</td><td></td><td></td><td>0.01</td><td>0</td><td>0</td><td>8</td><td>1</td><td>0</td><td>0</td><td>0</td></tr>\n",
       "<tr><td>6</td><td>MESSIER 081</td><td>148.88822</td><td>69.06529</td><td>G</td><td>-39.0</td><td>-0.00013</td><td></td><td>7.89</td><td>0.0</td><td>2547</td><td>48</td><td>283</td><td>88</td><td>45</td><td>8</td><td>1</td></tr>\n",
       "<tr><td>7</td><td>WISEA J095533.22+690354.7</td><td>148.88845</td><td>69.06522</td><td>IrS</td><td>--</td><td>--</td><td></td><td></td><td>0.007</td><td>0</td><td>0</td><td>12</td><td>1</td><td>0</td><td>0</td><td>0</td></tr>\n",
       "<tr><td>8</td><td>CXO J095533.2+690356</td><td>148.88857</td><td>69.06566</td><td>XrayS</td><td>--</td><td>--</td><td></td><td></td><td>0.023</td><td>2</td><td>0</td><td>0</td><td>2</td><td>0</td><td>0</td><td>0</td></tr>\n",
       "<tr><td>9</td><td>NGC 3031:[LET2019] 116</td><td>148.88935</td><td>69.06537</td><td>XrayS</td><td>--</td><td>--</td><td></td><td></td><td>0.025</td><td>1</td><td>0</td><td>0</td><td>1</td><td>0</td><td>0</td><td>0</td></tr>\n",
       "</table></div>"
      ],
      "text/plain": [
       "<Table length=9>\n",
       " No.         Object Name             RA     ... Diameter Points Associations\n",
       "                                  degrees   ...                             \n",
       "int32           str30             float64   ...      int32         int32    \n",
       "----- -------------------------- ---------- ... --------------- ------------\n",
       "    1  NGC 3031:[MKH2012] CLU161    148.888 ...               0            0\n",
       "    2       CXO J095533.1+690355  148.88805 ...               0            1\n",
       "    3    CXO J095533.14+690355.1  148.88812 ...               0            0\n",
       "    4    2MASS J09553315+6903550  148.88816 ...               0            0\n",
       "    5 SSTSL2 J095533.16+690355.6   148.8882 ...               0            0\n",
       "    6                MESSIER 081  148.88822 ...               8            1\n",
       "    7  WISEA J095533.22+690354.7  148.88845 ...               0            0\n",
       "    8       CXO J095533.2+690356  148.88857 ...               0            0\n",
       "    9     NGC 3031:[LET2019] 116  148.88935 ...               0            0"
      ]
     },
     "execution_count": 15,
     "metadata": {},
     "output_type": "execute_result"
    }
   ],
   "source": [
    "result_t"
   ]
  },
  {
   "cell_type": "code",
   "execution_count": 16,
   "id": "5d33651b",
   "metadata": {},
   "outputs": [
    {
     "data": {
      "text/plain": [
       "<SkyCoord (ICRS): (ra, dec) in deg\n",
       "    (148.88822109, 69.0652947)>"
      ]
     },
     "execution_count": 16,
     "metadata": {},
     "output_type": "execute_result"
    }
   ],
   "source": [
    "cat_smb_sample[ind]"
   ]
  },
  {
   "cell_type": "code",
   "execution_count": 9,
   "id": "DvHi0rgEJPcP",
   "metadata": {
    "colab": {
     "base_uri": "https://localhost:8080/"
    },
    "executionInfo": {
     "elapsed": 234,
     "status": "ok",
     "timestamp": 1633483845986,
     "user": {
      "displayName": "Jonhatan Herney Bernal Salinas",
      "photoUrl": "https://lh3.googleusercontent.com/a-/AOh14GiKhXNQ_goIeesq2w4kv4vwiz7BZTUIiIDZFS6iHA=s64",
      "userId": "11704227221814557955"
     },
     "user_tz": 300
    },
    "id": "DvHi0rgEJPcP",
    "outputId": "5e6d6024-2063-4196-8cca-9ce4c808d317"
   },
   "outputs": [
    {
     "name": "stdout",
     "output_type": "stream",
     "text": [
      "Author: Jonhatan Bernal\n",
      "\n",
      "Python implementation: CPython\n",
      "Python version       : 3.8.8\n",
      "IPython version      : 7.27.0\n",
      "\n",
      "Compiler    : MSC v.1928 64 bit (AMD64)\n",
      "OS          : Windows\n",
      "Release     : 10\n",
      "Machine     : AMD64\n",
      "Processor   : AMD64 Family 21 Model 2 Stepping 0, AuthenticAMD\n",
      "CPU cores   : 8\n",
      "Architecture: 64bit\n",
      "\n",
      "Specific Python packages\n",
      "astropy: 4.3.1\n",
      "\n",
      "pyvo   : 1.1\n",
      "numpy  : 1.20.3\n",
      "astropy: 4.3.1\n",
      "\n",
      "Watermark: 2.2.0\n",
      "\n"
     ]
    }
   ],
   "source": [
    "%load_ext watermark\n",
    "%watermark -a \"Jonhatan Bernal\" -d -v -m\n",
    "print('Specific Python packages')\n",
    "%watermark -iv -w --packages astropy"
   ]
  },
  {
   "cell_type": "code",
   "execution_count": null,
   "id": "78f15cfb",
   "metadata": {},
   "outputs": [],
   "source": []
  }
 ],
 "metadata": {
  "colab": {
   "name": "Obtain_Samples_AGNs_Ne_IR.ipynb",
   "provenance": []
  },
  "kernelspec": {
   "display_name": "Python 3 (ipykernel)",
   "language": "python",
   "name": "python3"
  },
  "language_info": {
   "codemirror_mode": {
    "name": "ipython",
    "version": 3
   },
   "file_extension": ".py",
   "mimetype": "text/x-python",
   "name": "python",
   "nbconvert_exporter": "python",
   "pygments_lexer": "ipython3",
   "version": "3.8.8"
  }
 },
 "nbformat": 4,
 "nbformat_minor": 5
}
