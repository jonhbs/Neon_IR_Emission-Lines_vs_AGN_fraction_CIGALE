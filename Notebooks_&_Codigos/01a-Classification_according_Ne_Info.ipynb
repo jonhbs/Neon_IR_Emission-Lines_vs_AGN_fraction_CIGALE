{
 "cells": [
  {
   "cell_type": "markdown",
   "id": "401752d0",
   "metadata": {},
   "source": [
    "# Classification according the Ne II, Ne III and Ne V emission lines information - Download the Photometry Tables for each object found\n",
    "\n",
    "From the objects that we find in NED with Ne emission lines, now we are going to classify according to what information the Ne II, Ne III and Ne V emission lines each have.\n",
    "\n",
    "Also inside the main loop, for each object found in NED with Ne emission lines, we will save the photometry tables in a .csv file."
   ]
  },
  {
   "cell_type": "code",
   "execution_count": 2,
   "id": "38bd5f11",
   "metadata": {},
   "outputs": [],
   "source": [
    "from datetime import date\n",
    "import time\n",
    "import pandas as pd\n",
    "import numpy as np\n",
    "import csv\n",
    "\n",
    "from pathlib import Path\n",
    "from astropy.table import Table\n",
    "\n",
    "import astropy.units as u\n",
    "from astropy.table import hstack"
   ]
  },
  {
   "cell_type": "code",
   "execution_count": 3,
   "id": "f4f430f3",
   "metadata": {},
   "outputs": [],
   "source": [
    "path_raw = '../Datos/Raw/'\n",
    "path_phot_ned = '../Datos/Work/Phot_Tables_NED/' #In this path wi will save the photometry tables for each object"
   ]
  },
  {
   "cell_type": "code",
   "execution_count": 6,
   "id": "21fc832c",
   "metadata": {},
   "outputs": [],
   "source": [
    "date_sample = 'Apr_06_2022'"
   ]
  },
  {
   "cell_type": "code",
   "execution_count": 14,
   "id": "145b4a31",
   "metadata": {},
   "outputs": [
    {
     "data": {
      "text/html": [
       "<i>Row index=356</i>\n",
       "<table id=\"table139905810770480\">\n",
       "<thead><tr><th>Main_Id</th><th>Id_used_NED</th><th>RA</th><th>DEC</th><th>otype_txt</th><th>redshift</th><th>rvz_type</th><th>otypes</th><th>cds_url</th><th>SMB_sample_index</th><th>Ne_IR_info</th></tr></thead>\n",
       "<thead><tr><th>object</th><th>object</th><th>float64</th><th>float64</th><th>object</th><th>float64</th><th>str1</th><th>object</th><th>str93</th><th>float64</th><th>object</th></tr></thead>\n",
       "<tr><td>Mrk  622</td><td>Mrk  622</td><td>121.92081574901</td><td>39.00423528003</td><td>Sy2</td><td>0.02335</td><td>z</td><td>AGN|G  |IR |LIN|Rad|Sy2|X</td><td>http://vizier.u-strasbg.fr/viz-bin/sed?-c=121.92081574901%2039.00423528003&amp;-c.rs=5</td><td>43765.0</td><td>Empty</td></tr>\n",
       "</table>"
      ],
      "text/plain": [
       "<Row index=356>\n",
       "Main_Id  Id_used_NED        RA            DEC       otype_txt redshift rvz_type           otypes                                               cds_url                                       SMB_sample_index Ne_IR_info\n",
       " object     object       float64        float64       object  float64    str1             object                                                str93                                            float64        object  \n",
       "-------- ----------- --------------- -------------- --------- -------- -------- ------------------------- ---------------------------------------------------------------------------------- ---------------- ----------\n",
       "Mrk  622    Mrk  622 121.92081574901 39.00423528003       Sy2  0.02335        z AGN|G  |IR |LIN|Rad|Sy2|X http://vizier.u-strasbg.fr/viz-bin/sed?-c=121.92081574901%2039.00423528003&-c.rs=5          43765.0      Empty"
      ]
     },
     "execution_count": 14,
     "metadata": {},
     "output_type": "execute_result"
    }
   ],
   "source": [
    "NeIR_obj_t = Table.read(path_raw+'Obj_Ne-IR_'+date_sample+'.vot',format='votable')\n",
    "NeIR_obj_t['Ne_IR_info'] = np.array(['Empty']*len(NeIR_obj_t),dtype='object') #Add a column to save the Ne info\n",
    "NeIR_obj_t[356]"
   ]
  },
  {
   "cell_type": "markdown",
   "id": "4bcca284",
   "metadata": {},
   "source": [
    "The wavelenght for NeII, NeIII and NeV in the infrared spectrum are 12.8 microns, 15.6 microns and 14.3 microns respectively. This values are equivalents to the following frequencies which are related to different labels of \"Observed Passband\" in NED database as we ilustrate in the next list:\n",
    "\n",
    "* Frequency: 1.92e+13 Hz: [NeIII] 15.6 microns\n",
    "* Frecuency: 1.93e+13 Hz: [Ne III] 15.56 (IRS), [NeIII] 15.6 Spitzer, [Ne III] (Spitzer), [Ne III] 15.5 (IRS)\n",
    "* Frecuency: 2.09e+13 Hz: [Ne V] 14.32 (IRS), [Ne V] 14.32 Spitzer, [Ne V] 14.32, [Ne V] 14.3 Spitzer, [Ne V] 14.3 microns\n",
    "* Frequency: 2.10e+13 Hz: [Ne V] 14.3 (IRS)\n",
    "* Frequency: 2.34e+13 Hz: [Ne II] 12.81 (IRS), [Ne II] 12.8 Spitzer, [Ne II] 12.8 (IRS), [Ne II] 12.81, NEII (VLT), 12.81 microns (VLT) \n",
    "\n",
    "In the variable **Ne_IR_Fq** we define a list with the those frequency values"
   ]
  },
  {
   "cell_type": "code",
   "execution_count": 11,
   "id": "7732abbc",
   "metadata": {},
   "outputs": [],
   "source": [
    "Ne_IR_Fq = [19200000000000.0,19300000000000.0,20900000000000.0,21000000000000.0,23400000000000.0]"
   ]
  },
  {
   "cell_type": "code",
   "execution_count": 25,
   "id": "94e95638",
   "metadata": {},
   "outputs": [],
   "source": [
    "i = 355\n",
    "ned_table = Table.read(path_phot_ned+NeIR_obj_t['Main_Id'][i]+'_NED_phot_tables'+'.vot',\n",
    "                           format='votable')"
   ]
  },
  {
   "cell_type": "code",
   "execution_count": 26,
   "id": "e3fc9b79",
   "metadata": {},
   "outputs": [
    {
     "data": {
      "text/plain": [
       "59"
      ]
     },
     "execution_count": 26,
     "metadata": {},
     "output_type": "execute_result"
    }
   ],
   "source": [
    "len(ned_table)"
   ]
  },
  {
   "cell_type": "code",
   "execution_count": 27,
   "id": "853444e1",
   "metadata": {},
   "outputs": [
    {
     "data": {
      "text/plain": [
       "44"
      ]
     },
     "execution_count": 27,
     "metadata": {},
     "output_type": "execute_result"
    }
   ],
   "source": [
    "a=np.where(ned_table['Flux_Density'].mask)[0]\n",
    "ned_table.remove_rows(np.where(ned_table['NED_Uncertainty'] == '')[0])\n",
    "ned_table.remove_rows(np.where(ned_table['NED_Uncertainty'] == '+/-...')[0])\n",
    "len(ned_table)"
   ]
  },
  {
   "cell_type": "code",
   "execution_count": 28,
   "id": "514b40dd",
   "metadata": {},
   "outputs": [
    {
     "data": {
      "text/plain": [
       "array([32, 33, 38, 41, 42, 45, 52, 53, 54, 55])"
      ]
     },
     "execution_count": 28,
     "metadata": {},
     "output_type": "execute_result"
    }
   ],
   "source": [
    "a"
   ]
  },
  {
   "cell_type": "code",
   "execution_count": 24,
   "id": "fe67fed9",
   "metadata": {},
   "outputs": [
    {
     "data": {
      "text/plain": [
       "array([], dtype=int64)"
      ]
     },
     "execution_count": 24,
     "metadata": {},
     "output_type": "execute_result"
    }
   ],
   "source": [
    "path_phot_cds = '../Datos/Work/Phot_Tables_CDS/'\n",
    "cds_table = Table.read(path_phot_cds+NeIR_obj_t['Main_Id'][i]+'_CDS_phot_tables'+'.vot',\n",
    "                           format='votable')\n",
    "l_cds = np.where(cds_table['Bibcode'] == '2011ApJ...740...94D')[0]\n",
    "l_cds"
   ]
  },
  {
   "cell_type": "code",
   "execution_count": 9,
   "id": "2ef5fd98",
   "metadata": {},
   "outputs": [
    {
     "name": "stdout",
     "output_type": "stream",
     "text": [
      "0, 3C 234.0, NeII, NeIII and NeV\n"
     ]
    },
    {
     "ename": "NameError",
     "evalue": "name 'df' is not defined",
     "output_type": "error",
     "traceback": [
      "\u001b[0;31m---------------------------------------------------------------------------\u001b[0m",
      "\u001b[0;31mNameError\u001b[0m                                 Traceback (most recent call last)",
      "Input \u001b[0;32mIn [9]\u001b[0m, in \u001b[0;36m<cell line: 16>\u001b[0;34m()\u001b[0m\n\u001b[1;32m     22\u001b[0m \u001b[38;5;28mprint\u001b[39m(\u001b[38;5;124mf\u001b[39m\u001b[38;5;124m\"\u001b[39m\u001b[38;5;132;01m{\u001b[39;00mind\u001b[38;5;132;01m}\u001b[39;00m\u001b[38;5;124m, \u001b[39m\u001b[38;5;132;01m{\u001b[39;00mname\u001b[38;5;132;01m}\u001b[39;00m\u001b[38;5;124m, NeII, NeIII and NeV\u001b[39m\u001b[38;5;124m\"\u001b[39m)\n\u001b[1;32m     23\u001b[0m \u001b[38;5;66;03m#Writing the object names\u001b[39;00m\n\u001b[0;32m---> 24\u001b[0m outstring \u001b[38;5;241m=\u001b[39m [name,\u001b[43mdf\u001b[49m[\u001b[38;5;124m'\u001b[39m\u001b[38;5;124mId_used_NED\u001b[39m\u001b[38;5;124m'\u001b[39m][ind],df[\u001b[38;5;124m'\u001b[39m\u001b[38;5;124mRA\u001b[39m\u001b[38;5;124m'\u001b[39m][ind],df[\u001b[38;5;124m'\u001b[39m\u001b[38;5;124mDEC\u001b[39m\u001b[38;5;124m'\u001b[39m][ind],df[\u001b[38;5;124m'\u001b[39m\u001b[38;5;124motype_txt\u001b[39m\u001b[38;5;124m'\u001b[39m][ind],df[\u001b[38;5;124m'\u001b[39m\u001b[38;5;124mredshift\u001b[39m\u001b[38;5;124m'\u001b[39m][ind],\n\u001b[1;32m     25\u001b[0m              df[\u001b[38;5;124m'\u001b[39m\u001b[38;5;124mrvz_type\u001b[39m\u001b[38;5;124m'\u001b[39m][ind],df[\u001b[38;5;124m'\u001b[39m\u001b[38;5;124motypes\u001b[39m\u001b[38;5;124m'\u001b[39m][ind],\u001b[38;5;124m'\u001b[39m\u001b[38;5;124mNeII|NeIII|NeV\u001b[39m\u001b[38;5;124m'\u001b[39m,df[\u001b[38;5;124m'\u001b[39m\u001b[38;5;124mSMB_sample\u001b[39m\u001b[38;5;124m'\u001b[39m][ind]]\n\u001b[1;32m     26\u001b[0m writer\u001b[38;5;241m.\u001b[39mwriterow(outstring) \u001b[38;5;66;03m#write the data\u001b[39;00m\n\u001b[1;32m     27\u001b[0m NeII_NeIII_NeV_IR_obj\u001b[38;5;241m.\u001b[39mappend(name) \u001b[38;5;66;03m#Save the object name in the list NeII_NeIII_NeV_IR_obj\u001b[39;00m\n",
      "\u001b[0;31mNameError\u001b[0m: name 'df' is not defined"
     ]
    }
   ],
   "source": [
    "NeII_NeIII_NeV_IR_obj = [] #List of objects with NeII, NeIII and NeV data\n",
    "NeII_NeIII_IR_obj = [] #List of objects with NeII and NeIII data\n",
    "NeII_NeV_IR_obj = [] #List of objects with NeII and NeV data\n",
    "NeIII_NeV_IR_obj = [] #List of objects with NeIII and NeV data\n",
    "NeIII_IR_obj = [] #List of objects with NeIII data\n",
    "NeV_IR_obj = [] #List of objects with NeV data\n",
    "NeII_IR_obj = [] #List of objects with NeII data\n",
    "\n",
    "#We create and open a file .csv to write the list of objects names with Ne_IR data\n",
    "outfile = open(path_raw+'Obj_Ne-IR_v2_'+date_samples+'.csv','w')\n",
    "writer = csv.writer(outfile) # create the csv writer\n",
    "header = ['Name_Id','id_from','RA','DEC','otype_txt','redshift','rvz_type','otypes','Ne_IR_info','SMB_sample']#Creating header\n",
    "writer.writerow(header) #Writing the header\n",
    "\n",
    "start = time.time()\n",
    "for ind, name in enumerate(NeIR_obj_t['Main_Id']):\n",
    "    phot_t = Table.read(path_phot_ned+name+'_NED_phot_tables'+'.vot', format='votable')\n",
    "    \n",
    "    Fr=phot_t['Frequency'] #We get the Frequency column from the table\n",
    "   \n",
    "    if (Ne_IR_Fq[0] in Fr or Ne_IR_Fq[1] in Fr) and (Ne_IR_Fq[2] in Fr or Ne_IR_Fq[3] in Fr) and Ne_IR_Fq[4] in Fr:\n",
    "        print(f\"{ind}, {name}, NeII, NeIII and NeV\")\n",
    "        #Writing the object names\n",
    "        outstring = [name,df['Id_used_NED'][ind],df['RA'][ind],df['DEC'][ind],df['otype_txt'][ind],df['redshift'][ind],\n",
    "                     df['rvz_type'][ind],df['otypes'][ind],'NeII|NeIII|NeV',df['SMB_sample'][ind]]\n",
    "        writer.writerow(outstring) #write the data\n",
    "        NeII_NeIII_NeV_IR_obj.append(name) #Save the object name in the list NeII_NeIII_NeV_IR_obj\n",
    "    \n",
    "    elif (Ne_IR_Fq[0] in Fr or Ne_IR_Fq[1] in Fr) and Ne_IR_Fq[4] in Fr:\n",
    "        print(f\"{ind}, {name}, NeII and NeIII\")\n",
    "        #Writing the object names\n",
    "        outstring = [name,df['Id_used_NED'][ind],df['RA'][ind],df['DEC'][ind],df['otype_txt'][ind],df['redshift'][ind],\n",
    "                     df['rvz_type'][ind],df['otypes'][ind],'NeII|NeIII',df['SMB_sample'][ind]]\n",
    "        writer.writerow(outstring) #write the data\n",
    "        NeII_NeIII_IR_obj.append(name) #Save the object name in the list NeII_NeIII_IR_obj\n",
    "    \n",
    "    elif (Ne_IR_Fq[2] in Fr or Ne_IR_Fq[3] in Fr) and Ne_IR_Fq[4] in Fr:\n",
    "        print(f\"{ind}, {name}, NeII and NeV\")\n",
    "        #Writing the object names\n",
    "        outstring = [name,df['Id_used_NED'][ind],df['RA'][ind],df['DEC'][ind],df['otype_txt'][ind],df['redshift'][ind],\n",
    "                     df['rvz_type'][ind],df['otypes'][ind],'NeII|NeV',df['SMB_sample'][ind]]\n",
    "        writer.writerow(outstring) #write the data\n",
    "        NeII_NeV_IR_obj.append(name) #Save the object name in the list NeII_NeV_IR_obj\n",
    "    \n",
    "    elif (Ne_IR_Fq[0] in Fr or Ne_IR_Fq[1] in Fr) and (Ne_IR_Fq[2] in Fr or Ne_IR_Fq[3] in Fr):\n",
    "        print(f\"{ind}, {name}, NeIII and NeV\")\n",
    "        #Writing the object names\n",
    "        outstring = [name,df['Id_used_NED'][ind],df['RA'][ind],df['DEC'][ind],df['otype_txt'][ind],df['redshift'][ind],\n",
    "                     df['rvz_type'][ind],df['otypes'][ind],'NeIII|NeV',df['SMB_sample'][ind]]\n",
    "        writer.writerow(outstring) #write the data\n",
    "        NeIII_NeV_IR_obj.append(name) #Save the object name in the list NeIII_NeV_IR_obj\n",
    "    \n",
    "    elif Ne_IR_Fq[0] in Fr or Ne_IR_Fq[1] in Fr:\n",
    "        print(f\"{ind}, {name}, NeIII\")\n",
    "        #Writing the object names\n",
    "        outstring = [name,df['Id_used_NED'][ind],df['RA'][ind],df['DEC'][ind],df['otype_txt'][ind],df['redshift'][ind],\n",
    "                     df['rvz_type'][ind],df['otypes'][ind],'NeIII',df['SMB_sample'][ind]]\n",
    "        writer.writerow(outstring) #write the data\n",
    "        NeIII_IR_obj.append(name) #Save the object name in the list NeIII_IR_obj\n",
    "    \n",
    "    elif Ne_IR_Fq[2] in Fr or Ne_IR_Fq[3] in Fr:\n",
    "        print(f\"{ind}, {name}, NeV\")\n",
    "        #Writing the object names\n",
    "        outstring = [name,df['Id_used_NED'][ind],df['RA'][ind],df['DEC'][ind],df['otype_txt'][ind],df['redshift'][ind],\n",
    "                     df['rvz_type'][ind],df['otypes'][ind],'NeV',df['SMB_sample'][ind]]\n",
    "        writer.writerow(outstring) #write the data\n",
    "        NeV_IR_obj.append(name) #Save the object name in the list NeV_IR_obj\n",
    "   \n",
    "    elif Ne_IR_Fq[4] in Fr:\n",
    "        print(f\"{ind}, {name}, NeII\")\n",
    "        #Writing the object names\n",
    "        outstring = [name,df['Id_used_NED'][ind],df['RA'][ind],df['DEC'][ind],df['otype_txt'][ind],df['redshift'][ind],\n",
    "                     df['rvz_type'][ind],df['otypes'][ind],'NeII',df['SMB_sample'][ind]]\n",
    "        writer.writerow(outstring) #write the data\n",
    "        NeII_IR_obj.append(name) #Save the object name in the list NeII_IR_obj\n",
    "\n",
    "end = time.time()\n",
    "\n",
    "#we close the file with objects names\n",
    "outfile.close()\n",
    "\n",
    "print('\\nTotal objects found with NeII, NeIII and NeV emission lines: ',len(NeII_NeIII_NeV_IR_obj))\n",
    "print('Total objects found with NeII and NeIII emission lines: ',len(NeII_NeIII_IR_obj))\n",
    "print('Total objects found with NeII and NeV emission lines: ',len(NeII_NeV_IR_obj))\n",
    "print('Total objects found with NeIII and NeV emission lines: ',len(NeIII_NeV_IR_obj))\n",
    "print('Total objects found with NeIII emission lines: ',len(NeIII_IR_obj))\n",
    "print('Total objects found with NeV emission lines: ',len(NeV_IR_obj))\n",
    "print('Total objects found with NeII emission lines: ',len(NeII_IR_obj))\n",
    "print('\\nExecution Time(seg): ' + str(end - start))\n",
    "print('Execution Time(min): ' + str((end - start)/60))\n",
    "print('Execution Time(hrs): ' + str((end - start)/3600))"
   ]
  },
  {
   "cell_type": "code",
   "execution_count": 18,
   "id": "2feac09a",
   "metadata": {},
   "outputs": [
    {
     "data": {
      "text/html": [
       "<div>\n",
       "<style scoped>\n",
       "    .dataframe tbody tr th:only-of-type {\n",
       "        vertical-align: middle;\n",
       "    }\n",
       "\n",
       "    .dataframe tbody tr th {\n",
       "        vertical-align: top;\n",
       "    }\n",
       "\n",
       "    .dataframe thead th {\n",
       "        text-align: right;\n",
       "    }\n",
       "</style>\n",
       "<table border=\"1\" class=\"dataframe\">\n",
       "  <thead>\n",
       "    <tr style=\"text-align: right;\">\n",
       "      <th></th>\n",
       "      <th>Name_Id</th>\n",
       "      <th>id_from</th>\n",
       "      <th>RA</th>\n",
       "      <th>DEC</th>\n",
       "      <th>otype_txt</th>\n",
       "      <th>redshift</th>\n",
       "      <th>rvz_type</th>\n",
       "      <th>otypes</th>\n",
       "      <th>Ne_IR_info</th>\n",
       "      <th>SMB_sample</th>\n",
       "    </tr>\n",
       "  </thead>\n",
       "  <tbody>\n",
       "    <tr>\n",
       "      <th>0</th>\n",
       "      <td>3C 234.0</td>\n",
       "      <td>3C 234.0</td>\n",
       "      <td>150.456345</td>\n",
       "      <td>28.785818</td>\n",
       "      <td>Sy1</td>\n",
       "      <td>0.18494</td>\n",
       "      <td>z</td>\n",
       "      <td>AGN|G  |IR |QSO|Rad|Sy1|X  |blu|gam</td>\n",
       "      <td>NeII|NeIII|NeV</td>\n",
       "      <td>283</td>\n",
       "    </tr>\n",
       "    <tr>\n",
       "      <th>1</th>\n",
       "      <td>M  84</td>\n",
       "      <td>M  84</td>\n",
       "      <td>186.265597</td>\n",
       "      <td>12.886983</td>\n",
       "      <td>Sy2</td>\n",
       "      <td>0.00327</td>\n",
       "      <td>z</td>\n",
       "      <td>*  |AGN|G  |GiC|GiG|IR |Rad|Sy2|UV |X  |smm</td>\n",
       "      <td>NeV</td>\n",
       "      <td>414</td>\n",
       "    </tr>\n",
       "    <tr>\n",
       "      <th>2</th>\n",
       "      <td>2MASS J13000535+1632148</td>\n",
       "      <td>NVSS J130005+163212</td>\n",
       "      <td>195.022283</td>\n",
       "      <td>16.537433</td>\n",
       "      <td>Sy1</td>\n",
       "      <td>0.07993</td>\n",
       "      <td>z</td>\n",
       "      <td>AGN|G  |IR |Rad|Sy1|X</td>\n",
       "      <td>NeII|NeIII|NeV</td>\n",
       "      <td>428</td>\n",
       "    </tr>\n",
       "    <tr>\n",
       "      <th>3</th>\n",
       "      <td>NGC   262</td>\n",
       "      <td>NGC   262</td>\n",
       "      <td>12.196426</td>\n",
       "      <td>31.956957</td>\n",
       "      <td>Sy2</td>\n",
       "      <td>0.015260233939595302</td>\n",
       "      <td>v</td>\n",
       "      <td>*  |AGN|Bla|G  |GiG|IR |QSO|Rad|Sy2|X  |gam</td>\n",
       "      <td>NeII|NeIII|NeV</td>\n",
       "      <td>484</td>\n",
       "    </tr>\n",
       "    <tr>\n",
       "      <th>4</th>\n",
       "      <td>IRAS 04385-0828</td>\n",
       "      <td>IRAS 04385-0828</td>\n",
       "      <td>70.229004</td>\n",
       "      <td>-8.372813</td>\n",
       "      <td>Sy2</td>\n",
       "      <td>0.015064</td>\n",
       "      <td>z</td>\n",
       "      <td>*  |AGN|G  |GiG|IR |Sy2</td>\n",
       "      <td>NeII|NeIII|NeV</td>\n",
       "      <td>541</td>\n",
       "    </tr>\n",
       "    <tr>\n",
       "      <th>...</th>\n",
       "      <td>...</td>\n",
       "      <td>...</td>\n",
       "      <td>...</td>\n",
       "      <td>...</td>\n",
       "      <td>...</td>\n",
       "      <td>...</td>\n",
       "      <td>...</td>\n",
       "      <td>...</td>\n",
       "      <td>...</td>\n",
       "      <td>...</td>\n",
       "    </tr>\n",
       "    <tr>\n",
       "      <th>354</th>\n",
       "      <td>NGC  3982</td>\n",
       "      <td>NGC  3982</td>\n",
       "      <td>179.117269</td>\n",
       "      <td>55.125239</td>\n",
       "      <td>Sy1</td>\n",
       "      <td>0.00371</td>\n",
       "      <td>z</td>\n",
       "      <td>AGN|G  |GiG|HI |IR |Rad|Sy1|X</td>\n",
       "      <td>NeII|NeIII|NeV</td>\n",
       "      <td>43595</td>\n",
       "    </tr>\n",
       "    <tr>\n",
       "      <th>355</th>\n",
       "      <td>PSCz Q18368+3549</td>\n",
       "      <td>IRAS 18368+3549</td>\n",
       "      <td>279.647646</td>\n",
       "      <td>35.872153</td>\n",
       "      <td>Sy2</td>\n",
       "      <td>0.11617</td>\n",
       "      <td>z</td>\n",
       "      <td>AGN|G  |IR |Mas|Sy2</td>\n",
       "      <td>NeII|NeIII|NeV</td>\n",
       "      <td>43670</td>\n",
       "    </tr>\n",
       "    <tr>\n",
       "      <th>356</th>\n",
       "      <td>Mrk  622</td>\n",
       "      <td>Mrk  622</td>\n",
       "      <td>121.920816</td>\n",
       "      <td>39.004235</td>\n",
       "      <td>Sy2</td>\n",
       "      <td>0.02335</td>\n",
       "      <td>z</td>\n",
       "      <td>AGN|G  |IR |LIN|Rad|Sy2|X</td>\n",
       "      <td>NeII|NeIII|NeV</td>\n",
       "      <td>43765</td>\n",
       "    </tr>\n",
       "    <tr>\n",
       "      <th>357</th>\n",
       "      <td>[LGE2006] 12</td>\n",
       "      <td>[LGE2006] 12</td>\n",
       "      <td>163.000458</td>\n",
       "      <td>57.406528</td>\n",
       "      <td>Sy1</td>\n",
       "      <td>0.974</td>\n",
       "      <td>z</td>\n",
       "      <td>AGN|G  |IR |Rad|Sy1|X  |smm</td>\n",
       "      <td>NeIII</td>\n",
       "      <td>43819</td>\n",
       "    </tr>\n",
       "    <tr>\n",
       "      <th>358</th>\n",
       "      <td>2MASX J14323249+3406257</td>\n",
       "      <td>2MASX J14323249+3406257</td>\n",
       "      <td>218.135416</td>\n",
       "      <td>34.107058</td>\n",
       "      <td>Sy2</td>\n",
       "      <td>0.0424</td>\n",
       "      <td>z</td>\n",
       "      <td>*  |AG?|AGN|EmG|G  |Sy2</td>\n",
       "      <td>NeII|NeIII</td>\n",
       "      <td>44215</td>\n",
       "    </tr>\n",
       "  </tbody>\n",
       "</table>\n",
       "<p>359 rows × 10 columns</p>\n",
       "</div>"
      ],
      "text/plain": [
       "                     Name_Id                  id_from          RA        DEC  \\\n",
       "0                   3C 234.0                 3C 234.0  150.456345  28.785818   \n",
       "1                      M  84                    M  84  186.265597  12.886983   \n",
       "2    2MASS J13000535+1632148      NVSS J130005+163212  195.022283  16.537433   \n",
       "3                  NGC   262                NGC   262   12.196426  31.956957   \n",
       "4            IRAS 04385-0828          IRAS 04385-0828   70.229004  -8.372813   \n",
       "..                       ...                      ...         ...        ...   \n",
       "354                NGC  3982                NGC  3982  179.117269  55.125239   \n",
       "355         PSCz Q18368+3549          IRAS 18368+3549  279.647646  35.872153   \n",
       "356                 Mrk  622                 Mrk  622  121.920816  39.004235   \n",
       "357             [LGE2006] 12             [LGE2006] 12  163.000458  57.406528   \n",
       "358  2MASX J14323249+3406257  2MASX J14323249+3406257  218.135416  34.107058   \n",
       "\n",
       "    otype_txt              redshift rvz_type  \\\n",
       "0         Sy1               0.18494        z   \n",
       "1         Sy2               0.00327        z   \n",
       "2         Sy1               0.07993        z   \n",
       "3         Sy2  0.015260233939595302        v   \n",
       "4         Sy2              0.015064        z   \n",
       "..        ...                   ...      ...   \n",
       "354       Sy1               0.00371        z   \n",
       "355       Sy2               0.11617        z   \n",
       "356       Sy2               0.02335        z   \n",
       "357       Sy1                 0.974        z   \n",
       "358       Sy2                0.0424        z   \n",
       "\n",
       "                                          otypes      Ne_IR_info  SMB_sample  \n",
       "0            AGN|G  |IR |QSO|Rad|Sy1|X  |blu|gam  NeII|NeIII|NeV         283  \n",
       "1    *  |AGN|G  |GiC|GiG|IR |Rad|Sy2|UV |X  |smm             NeV         414  \n",
       "2                        AGN|G  |IR |Rad|Sy1|X    NeII|NeIII|NeV         428  \n",
       "3    *  |AGN|Bla|G  |GiG|IR |QSO|Rad|Sy2|X  |gam  NeII|NeIII|NeV         484  \n",
       "4                        *  |AGN|G  |GiG|IR |Sy2  NeII|NeIII|NeV         541  \n",
       "..                                           ...             ...         ...  \n",
       "354              AGN|G  |GiG|HI |IR |Rad|Sy1|X    NeII|NeIII|NeV       43595  \n",
       "355                          AGN|G  |IR |Mas|Sy2  NeII|NeIII|NeV       43670  \n",
       "356                  AGN|G  |IR |LIN|Rad|Sy2|X    NeII|NeIII|NeV       43765  \n",
       "357                  AGN|G  |IR |Rad|Sy1|X  |smm           NeIII       43819  \n",
       "358                      *  |AG?|AGN|EmG|G  |Sy2      NeII|NeIII       44215  \n",
       "\n",
       "[359 rows x 10 columns]"
      ]
     },
     "execution_count": 18,
     "metadata": {},
     "output_type": "execute_result"
    }
   ],
   "source": [
    "df2 = pd.read_csv(path_raw+'Obj_Ne-IR_v2_'+date_samples+'.csv')\n",
    "df2"
   ]
  },
  {
   "cell_type": "markdown",
   "id": "53a2ce2b",
   "metadata": {},
   "source": [
    "### Watermark"
   ]
  },
  {
   "cell_type": "code",
   "execution_count": 12,
   "id": "4b8adc80",
   "metadata": {},
   "outputs": [
    {
     "name": "stdout",
     "output_type": "stream",
     "text": [
      "Author: Jonhatan Bernal\n",
      "\n",
      "Python implementation: CPython\n",
      "Python version       : 3.9.7\n",
      "IPython version      : 7.31.1\n",
      "\n",
      "Compiler    : GCC 7.5.0\n",
      "OS          : Linux\n",
      "Release     : 5.13.0-30-generic\n",
      "Machine     : x86_64\n",
      "Processor   : x86_64\n",
      "CPU cores   : 8\n",
      "Architecture: 64bit\n",
      "\n",
      "Specific Python packages\n",
      "astropy: 5.0\n",
      "\n",
      "astropy: 5.0\n",
      "pandas : 1.4.1\n",
      "numpy  : 1.20.3\n",
      "csv    : 1.0\n",
      "\n",
      "Watermark: 2.3.0\n",
      "\n"
     ]
    }
   ],
   "source": [
    "%load_ext watermark\n",
    "%watermark -a \"Jonhatan Bernal\" -d -v -m\n",
    "print('Specific Python packages')\n",
    "%watermark -iv -w --packages astropy"
   ]
  },
  {
   "cell_type": "code",
   "execution_count": null,
   "id": "cf703fc5",
   "metadata": {},
   "outputs": [],
   "source": []
  }
 ],
 "metadata": {
  "kernelspec": {
   "display_name": "Python 3 (ipykernel)",
   "language": "python",
   "name": "python3"
  },
  "language_info": {
   "codemirror_mode": {
    "name": "ipython",
    "version": 3
   },
   "file_extension": ".py",
   "mimetype": "text/x-python",
   "name": "python",
   "nbconvert_exporter": "python",
   "pygments_lexer": "ipython3",
   "version": "3.9.7"
  }
 },
 "nbformat": 4,
 "nbformat_minor": 5
}
