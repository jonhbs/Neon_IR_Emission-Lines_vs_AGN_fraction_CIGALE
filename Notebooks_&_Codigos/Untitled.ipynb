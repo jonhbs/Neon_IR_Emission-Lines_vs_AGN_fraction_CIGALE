{
 "cells": [
  {
   "cell_type": "code",
   "execution_count": 29,
   "id": "7ed6511c",
   "metadata": {},
   "outputs": [],
   "source": [
    "import time\n",
    "from os import path\n",
    "from pathlib import Path\n",
    "from datetime import datetime\n",
    "\n",
    "import astropy.units as u\n",
    "import numpy as np\n",
    "from astropy.table import Table, vstack, unique\n",
    "\n",
    "\n",
    "from astroquery.vizier import Vizier\n",
    "from astroquery.ipac.ned import Ned\n",
    "#from astroquery.ned.core import RemoteServiceError, TableParseError\n",
    "\n",
    "import requests\n",
    "from requests import Request, Session\n",
    "\n",
    "from numpy import unique as uniq\n",
    "\n",
    "from astropy.coordinates import SkyCoord\n",
    "from astropy.table import Table"
   ]
  },
  {
   "cell_type": "code",
   "execution_count": 5,
   "id": "5f5be009",
   "metadata": {
    "scrolled": false
   },
   "outputs": [
    {
     "data": {
      "text/html": [
       "<div><i>Table length=359</i>\n",
       "<table id=\"table139675427578784\" class=\"table-striped table-bordered table-condensed\">\n",
       "<thead><tr><th>Main_Id</th><th>Id_used_NED</th><th>RA</th><th>DEC</th><th>otype_txt</th><th>redshift</th><th>rvz_type</th><th>otypes</th><th>cds_url</th><th>SMB_sample_index</th></tr></thead>\n",
       "<thead><tr><th>object</th><th>object</th><th>float64</th><th>float64</th><th>object</th><th>float64</th><th>str1</th><th>object</th><th>str93</th><th>float64</th></tr></thead>\n",
       "<tr><td>3C 234.0</td><td>3C 234.0</td><td>150.45634473807</td><td>28.7858176354</td><td>Sy1</td><td>0.18494</td><td>z</td><td>AGN|G  |IR |QSO|Rad|Sy1|X  |blu|gam</td><td>http://vizier.u-strasbg.fr/viz-bin/sed?-c=150.45634473807%2028.7858176354&amp;-c.rs=5</td><td>283.0</td></tr>\n",
       "<tr><td>M  84</td><td>M  84</td><td>186.2655972083333</td><td>12.886983138888887</td><td>Sy2</td><td>0.00327</td><td>z</td><td>*  |AGN|G  |GiC|GiG|IR |Rad|Sy2|UV |X  |smm</td><td>http://vizier.u-strasbg.fr/viz-bin/sed?-c=186.2655972083333%2012.886983138888887&amp;-c.rs=5</td><td>414.0</td></tr>\n",
       "<tr><td>2MASS J13000535+1632148</td><td>NVSS J130005+163212</td><td>195.02228295163</td><td>16.53743305218</td><td>Sy1</td><td>0.07993</td><td>z</td><td>AGN|G  |IR |Rad|Sy1|X</td><td>http://vizier.u-strasbg.fr/viz-bin/sed?-c=195.02228295163%2016.53743305218&amp;-c.rs=5</td><td>428.0</td></tr>\n",
       "<tr><td>NGC   262</td><td>NGC   262</td><td>12.196426138730002</td><td>31.956956641230004</td><td>Sy2</td><td>0.015260233939595302</td><td>v</td><td>*  |AGN|Bla|G  |GiG|IR |QSO|Rad|Sy2|X  |gam</td><td>http://vizier.u-strasbg.fr/viz-bin/sed?-c=12.196426138730002%2031.956956641230004&amp;-c.rs=5</td><td>484.0</td></tr>\n",
       "<tr><td>IRAS 04385-0828</td><td>IRAS 04385-0828</td><td>70.2290037068</td><td>-8.37281297812</td><td>Sy2</td><td>0.015064</td><td>z</td><td>*  |AGN|G  |GiG|IR |Sy2</td><td>http://vizier.u-strasbg.fr/viz-bin/sed?-c=70.2290037068%20-8.37281297812&amp;-c.rs=5</td><td>541.0</td></tr>\n",
       "<tr><td>NGC  4945</td><td>NGC  4945</td><td>196.3636625</td><td>-49.4679</td><td>Sy2</td><td>0.0017968563040435814</td><td>v</td><td>AGN|G  |GiG|IR |Rad|Sy2|X  |cm |gam</td><td>http://vizier.u-strasbg.fr/viz-bin/sed?-c=196.3636625%20-49.4679&amp;-c.rs=5</td><td>628.0</td></tr>\n",
       "<tr><td>IC 4553</td><td>IC 4553</td><td>233.73843316666665</td><td>23.50322455555555</td><td>SyG</td><td>0.0184</td><td>z</td><td>AGN|G  |GiG|GiP|IG |IR |LIN|Rad|SyG|X  |gam|smm</td><td>http://vizier.u-strasbg.fr/viz-bin/sed?-c=233.73843316666665%2023.50322455555555&amp;-c.rs=5</td><td>654.0</td></tr>\n",
       "<tr><td>NGC  5252</td><td>NGC  5252</td><td>204.56612821846997</td><td>4.542644796</td><td>Sy2</td><td>0.02294</td><td>z</td><td>AG?|AGN|EmG|G  |GiG|Sy1|Sy2|X  |gam</td><td>http://vizier.u-strasbg.fr/viz-bin/sed?-c=204.56612821846997%204.542644796&amp;-c.rs=5</td><td>773.0</td></tr>\n",
       "<tr><td>Mrk  279</td><td>Mrk  279</td><td>208.26431206837998</td><td>69.30816969735</td><td>Sy1</td><td>0.030601</td><td>z</td><td>AGN|G  |IR |QSO|Sy1|UV |X  |gam</td><td>http://vizier.u-strasbg.fr/viz-bin/sed?-c=208.26431206837998%2069.30816969735&amp;-c.rs=5</td><td>852.0</td></tr>\n",
       "<tr><td>UGC 11680</td><td>UGC 11680</td><td>316.93375</td><td>3.875277777777778</td><td>Sy2</td><td>0.026</td><td>z</td><td>G  |GiP|IG |IR |PaG|Sy2</td><td>http://vizier.u-strasbg.fr/viz-bin/sed?-c=316.93375%203.875277777777778&amp;-c.rs=5</td><td>1227.0</td></tr>\n",
       "<tr><td>...</td><td>...</td><td>...</td><td>...</td><td>...</td><td>...</td><td>...</td><td>...</td><td>...</td><td>...</td></tr>\n",
       "<tr><td>NGC  3081</td><td>NGC  3081</td><td>149.87309876014</td><td>-22.8263187061</td><td>Sy2</td><td>0.008039522026415113</td><td>v</td><td>*  |AGN|G  |GiG|HI |Rad|Sy1|Sy2|X  |gam</td><td>http://vizier.u-strasbg.fr/viz-bin/sed?-c=149.87309876014%20-22.8263187061&amp;-c.rs=5</td><td>42680.0</td></tr>\n",
       "<tr><td>NGC  4507</td><td>NGC  4507</td><td>188.90264124036997</td><td>-39.90936400452</td><td>Sy2</td><td>0.011907072576889943</td><td>v</td><td>AGN|G  |GiC|GiG|HI |IR |Rad|Sy2|X  |gam</td><td>http://vizier.u-strasbg.fr/viz-bin/sed?-c=188.90264124036997%20-39.90936400452&amp;-c.rs=5</td><td>42943.0</td></tr>\n",
       "<tr><td>2XMM J115657.8+550820</td><td>2XMM J115657.8+550820</td><td>179.241186</td><td>55.139334</td><td>Sy2</td><td>0.0798</td><td>z</td><td>G  |Sy2|X</td><td>http://vizier.u-strasbg.fr/viz-bin/sed?-c=179.241186%2055.139334&amp;-c.rs=5</td><td>43279.0</td></tr>\n",
       "<tr><td>2MASX J00215355-7910077</td><td>2MASX J00215355-7910077</td><td>5.47314754327</td><td>-79.16889600056</td><td>Sy2</td><td>0.072724</td><td>z</td><td>*  |AGN|G  |IR |Sy2</td><td>http://vizier.u-strasbg.fr/viz-bin/sed?-c=5.47314754327%20-79.16889600056&amp;-c.rs=5</td><td>43326.0</td></tr>\n",
       "<tr><td>NGC  3783</td><td>NGC  3783</td><td>174.7571236746</td><td>-37.73861378972</td><td>Sy1</td><td>0.009755296525549184</td><td>v</td><td>AGN|G  |GiG|HI |IR |QSO|Rad|Sy1|X</td><td>http://vizier.u-strasbg.fr/viz-bin/sed?-c=174.7571236746%20-37.73861378972&amp;-c.rs=5</td><td>43547.0</td></tr>\n",
       "<tr><td>NGC  3982</td><td>NGC  3982</td><td>179.11726896503</td><td>55.12523877407</td><td>Sy1</td><td>0.00371</td><td>z</td><td>AGN|G  |GiG|HI |IR |Rad|Sy1|X</td><td>http://vizier.u-strasbg.fr/viz-bin/sed?-c=179.11726896503%2055.12523877407&amp;-c.rs=5</td><td>43595.0</td></tr>\n",
       "<tr><td>PSCz Q18368+3549</td><td>IRAS 18368+3549</td><td>279.64764583333334</td><td>35.872152777777785</td><td>Sy2</td><td>0.11617</td><td>z</td><td>AGN|G  |IR |Mas|Sy2</td><td>http://vizier.u-strasbg.fr/viz-bin/sed?-c=279.64764583333334%2035.872152777777785&amp;-c.rs=5</td><td>43670.0</td></tr>\n",
       "<tr><td>Mrk  622</td><td>Mrk  622</td><td>121.92081574901</td><td>39.00423528003</td><td>Sy2</td><td>0.02335</td><td>z</td><td>AGN|G  |IR |LIN|Rad|Sy2|X</td><td>http://vizier.u-strasbg.fr/viz-bin/sed?-c=121.92081574901%2039.00423528003&amp;-c.rs=5</td><td>43765.0</td></tr>\n",
       "<tr><td>[LGE2006] 12</td><td>[LGE2006] 12</td><td>163.00045833333334</td><td>57.406527777777775</td><td>Sy1</td><td>0.974</td><td>z</td><td>AGN|G  |IR |Rad|Sy1|X  |smm</td><td>http://vizier.u-strasbg.fr/viz-bin/sed?-c=163.00045833333334%2057.406527777777775&amp;-c.rs=5</td><td>43819.0</td></tr>\n",
       "<tr><td>2MASX J14323249+3406257</td><td>2MASX J14323249+3406257</td><td>218.13541641978998</td><td>34.10705776174</td><td>Sy2</td><td>0.0424</td><td>z</td><td>*  |AG?|AGN|EmG|G  |Sy2</td><td>http://vizier.u-strasbg.fr/viz-bin/sed?-c=218.13541641978998%2034.10705776174&amp;-c.rs=5</td><td>44215.0</td></tr>\n",
       "</table></div>"
      ],
      "text/plain": [
       "<Table length=359>\n",
       "        Main_Id               Id_used_NED       ... SMB_sample_index\n",
       "         object                  object         ...     float64     \n",
       "----------------------- ----------------------- ... ----------------\n",
       "               3C 234.0                3C 234.0 ...            283.0\n",
       "                  M  84                   M  84 ...            414.0\n",
       "2MASS J13000535+1632148     NVSS J130005+163212 ...            428.0\n",
       "              NGC   262               NGC   262 ...            484.0\n",
       "        IRAS 04385-0828         IRAS 04385-0828 ...            541.0\n",
       "              NGC  4945               NGC  4945 ...            628.0\n",
       "                IC 4553                 IC 4553 ...            654.0\n",
       "              NGC  5252               NGC  5252 ...            773.0\n",
       "               Mrk  279                Mrk  279 ...            852.0\n",
       "              UGC 11680               UGC 11680 ...           1227.0\n",
       "                    ...                     ... ...              ...\n",
       "              NGC  3081               NGC  3081 ...          42680.0\n",
       "              NGC  4507               NGC  4507 ...          42943.0\n",
       "  2XMM J115657.8+550820   2XMM J115657.8+550820 ...          43279.0\n",
       "2MASX J00215355-7910077 2MASX J00215355-7910077 ...          43326.0\n",
       "              NGC  3783               NGC  3783 ...          43547.0\n",
       "              NGC  3982               NGC  3982 ...          43595.0\n",
       "       PSCz Q18368+3549         IRAS 18368+3549 ...          43670.0\n",
       "               Mrk  622                Mrk  622 ...          43765.0\n",
       "           [LGE2006] 12            [LGE2006] 12 ...          43819.0\n",
       "2MASX J14323249+3406257 2MASX J14323249+3406257 ...          44215.0"
      ]
     },
     "execution_count": 5,
     "metadata": {},
     "output_type": "execute_result"
    }
   ],
   "source": [
    "path_raw='../Datos/Raw/'\n",
    "path_phot_ned = '../Datos/Work/Phot_Tables_NED/'\n",
    "path_phot_cds = '../Datos/Work/Phot_Tables_CDS/' #In this path wi will save the photometry tables for each object\n",
    "path_cds_vot = '../Datos/Work/Phot_Tables_CDS/VOT/' \n",
    "Sample = Table.read(path_raw+'Obj_Ne-IR_Apr_06_2022.vot',format='votable')\n",
    "Sample"
   ]
  },
  {
   "cell_type": "code",
   "execution_count": 6,
   "id": "495aca3e",
   "metadata": {},
   "outputs": [
    {
     "data": {
      "text/html": [
       "<i>Row index=139</i>\n",
       "<table id=\"table139675427578784\">\n",
       "<thead><tr><th>Main_Id</th><th>Id_used_NED</th><th>RA</th><th>DEC</th><th>otype_txt</th><th>redshift</th><th>rvz_type</th><th>otypes</th><th>cds_url</th><th>SMB_sample_index</th></tr></thead>\n",
       "<thead><tr><th>object</th><th>object</th><th>float64</th><th>float64</th><th>object</th><th>float64</th><th>str1</th><th>object</th><th>str93</th><th>float64</th></tr></thead>\n",
       "<tr><td>IC  486</td><td>IC  486</td><td>120.08743500089999</td><td>26.61351567976</td><td>Sy2</td><td>0.02674</td><td>z</td><td>AG?|AGN|G  |IR |Rad|Sy1|Sy2|X  |rG</td><td>http://vizier.u-strasbg.fr/viz-bin/sed?-c=120.08743500089999%2026.61351567976&amp;-c.rs=5</td><td>16879.0</td></tr>\n",
       "</table>"
      ],
      "text/plain": [
       "<Row index=139>\n",
       "Main_Id Id_used_NED         RA              DEC       otype_txt redshift rvz_type               otypes                                                      cds_url                                        SMB_sample_index\n",
       " object    object        float64          float64       object  float64    str1                 object                                                       str93                                             float64     \n",
       "------- ----------- ------------------ -------------- --------- -------- -------- ---------------------------------- ------------------------------------------------------------------------------------- ----------------\n",
       "IC  486     IC  486 120.08743500089999 26.61351567976       Sy2  0.02674        z AG?|AGN|G  |IR |Rad|Sy1|Sy2|X  |rG http://vizier.u-strasbg.fr/viz-bin/sed?-c=120.08743500089999%2026.61351567976&-c.rs=5          16879.0"
      ]
     },
     "execution_count": 6,
     "metadata": {},
     "output_type": "execute_result"
    }
   ],
   "source": [
    "i = 139\n",
    "Sample[i]"
   ]
  },
  {
   "cell_type": "code",
   "execution_count": 27,
   "id": "db3dc98b",
   "metadata": {},
   "outputs": [
    {
     "data": {
      "text/html": [
       "<div><i>Table length=401</i>\n",
       "<table id=\"table139675401034864\" class=\"table-striped table-bordered table-condensed\">\n",
       "<thead><tr><th>_RAJ2000</th><th>_DEJ2000</th><th>_tabname</th><th>_ID</th><th>_tab1_29</th><th>_tab1_30</th><th>sed_freq</th><th>sed_flux</th><th>sed_eflux</th><th>sed_filter</th><th>Bibcode</th></tr></thead>\n",
       "<thead><tr><th>deg</th><th>deg</th><th></th><th></th><th>d</th><th>s</th><th>GHz</th><th>Jy</th><th>Jy</th><th>---</th><th></th></tr></thead>\n",
       "<thead><tr><th>float64</th><th>float64</th><th>str32</th><th>str64</th><th>float64</th><th>float64</th><th>float64</th><th>float32</th><th>float32</th><th>str32</th><th>object</th></tr></thead>\n",
       "<tr><td>120.087480900</td><td>26.613544800</td><td>I/289/out</td><td>2UCAC=41188904&amp;-c=120.0874809 +26.6135448,eq=J2000&amp;-c.rs=0.004</td><td>--</td><td>0.0</td><td>138550</td><td>0.0142</td><td>--</td><td>2MASS:Ks</td><td>2004AJ....127.3043Z</td></tr>\n",
       "<tr><td>120.087480900</td><td>26.613544800</td><td>I/289/out</td><td>2UCAC=41188904&amp;-c=120.0874809 +26.6135448,eq=J2000&amp;-c.rs=0.004</td><td>--</td><td>0.0</td><td>181750</td><td>0.0135</td><td>--</td><td>2MASS:H</td><td>2004AJ....127.3043Z</td></tr>\n",
       "<tr><td>120.087480900</td><td>26.613544800</td><td>I/289/out</td><td>2UCAC=41188904&amp;-c=120.0874809 +26.6135448,eq=J2000&amp;-c.rs=0.004</td><td>--</td><td>0.0</td><td>241960</td><td>0.011</td><td>--</td><td>2MASS:J</td><td>2004AJ....127.3043Z</td></tr>\n",
       "<tr><td>120.087480800</td><td>26.613544700</td><td>I/297/out</td><td>NOMAD1===1166-0159320&amp;-c=120.0874808 +26.6135447,eq=J2000&amp;-c.rs=</td><td>--</td><td>0.0</td><td>138550</td><td>0.0142</td><td>--</td><td>2MASS:Ks</td><td>2004AAS...205.4815Z</td></tr>\n",
       "<tr><td>120.087480800</td><td>26.613544700</td><td>I/297/out</td><td>NOMAD1===1166-0159320&amp;-c=120.0874808 +26.6135447,eq=J2000&amp;-c.rs=</td><td>--</td><td>0.0</td><td>181750</td><td>0.0135</td><td>--</td><td>2MASS:H</td><td>2004AAS...205.4815Z</td></tr>\n",
       "<tr><td>120.087480800</td><td>26.613544700</td><td>I/297/out</td><td>NOMAD1===1166-0159320&amp;-c=120.0874808 +26.6135447,eq=J2000&amp;-c.rs=</td><td>--</td><td>0.0</td><td>241960</td><td>0.011</td><td>--</td><td>2MASS:J</td><td>2004AAS...205.4815Z</td></tr>\n",
       "<tr><td>120.088492800</td><td>26.613057800</td><td>I/297/out</td><td>NOMAD1===1166-0159325&amp;-c=120.0884928 +26.6130578,eq=J2000&amp;-c.rs=</td><td>--</td><td>0.0</td><td>138550</td><td>0.012</td><td>--</td><td>2MASS:Ks</td><td>2004AAS...205.4815Z</td></tr>\n",
       "<tr><td>120.088492800</td><td>26.613057800</td><td>I/297/out</td><td>NOMAD1===1166-0159325&amp;-c=120.0884928 +26.6130578,eq=J2000&amp;-c.rs=</td><td>--</td><td>0.0</td><td>181750</td><td>0.0132</td><td>--</td><td>2MASS:H</td><td>2004AAS...205.4815Z</td></tr>\n",
       "<tr><td>120.088492800</td><td>26.613057800</td><td>I/297/out</td><td>NOMAD1===1166-0159325&amp;-c=120.0884928 +26.6130578,eq=J2000&amp;-c.rs=</td><td>--</td><td>0.0</td><td>241960</td><td>0.00282</td><td>--</td><td>2MASS:J</td><td>2004AAS...205.4815Z</td></tr>\n",
       "<tr><td>...</td><td>...</td><td>...</td><td>...</td><td>...</td><td>...</td><td>...</td><td>...</td><td>...</td><td>...</td><td>...</td></tr>\n",
       "<tr><td>120.087456100</td><td>26.613556900</td><td>J/MNRAS/473/4731/table2</td><td>recno=2853</td><td>--</td><td>0.0</td><td>621980</td><td>0.00561</td><td>--</td><td>SDSS:g</td><td>2018MNRAS.473.4731K</td></tr>\n",
       "<tr><td>120.087456100</td><td>26.613556900</td><td>J/MNRAS/473/4731/table2</td><td>recno=2853</td><td>--</td><td>0.0</td><td>851920</td><td>0.00025</td><td>--</td><td>SDSS:u</td><td>2018MNRAS.473.4731K</td></tr>\n",
       "<tr><td>120.087456100</td><td>26.613556900</td><td>J/MNRAS/473/4731/table2</td><td>recno=2853</td><td>--</td><td>0.0</td><td>851920</td><td>0.000517</td><td>--</td><td>SDSS:u</td><td>2018MNRAS.473.4731K</td></tr>\n",
       "<tr><td>120.087456100</td><td>26.613556900</td><td>J/MNRAS/473/4731/table2</td><td>recno=2853</td><td>--</td><td>0.0</td><td>851920</td><td>0.00155</td><td>--</td><td>SDSS:u</td><td>2018MNRAS.473.4731K</td></tr>\n",
       "<tr><td>120.087400000</td><td>26.613510000</td><td>J/MNRAS/474/5363/table1</td><td>recno=689</td><td>--</td><td>0.0</td><td>13571</td><td>0.173</td><td>0.002</td><td>WISE:W4</td><td>2018MNRAS.474.5363K</td></tr>\n",
       "<tr><td>120.087400000</td><td>26.613510000</td><td>J/MNRAS/474/5363/table1</td><td>recno=689</td><td>--</td><td>0.0</td><td>25934</td><td>0.0701</td><td>0.0004</td><td>WISE:W3</td><td>2018MNRAS.474.5363K</td></tr>\n",
       "<tr><td>120.087400000</td><td>26.613510000</td><td>J/MNRAS/474/5363/table1</td><td>recno=689</td><td>--</td><td>0.0</td><td>65172</td><td>0.03</td><td>0.0002</td><td>WISE:W2</td><td>2018MNRAS.474.5363K</td></tr>\n",
       "<tr><td>120.087400000</td><td>26.613510000</td><td>J/MNRAS/474/5363/table1</td><td>recno=689</td><td>--</td><td>0.0</td><td>89490</td><td>0.0314</td><td>0.0002</td><td>WISE:W1</td><td>2018MNRAS.474.5363K</td></tr>\n",
       "<tr><td>120.087419400</td><td>26.613509400</td><td>J/MNRAS/504/3831/tabled1</td><td>recno=1</td><td>--</td><td>0.0</td><td>241960</td><td>0.0737</td><td>0.0014</td><td>2MASS:J</td><td>2021MNRAS.504.3831B</td></tr>\n",
       "<tr><td>120.087419400</td><td>26.613509400</td><td>J/MNRAS/504/3831/tabled1</td><td>recno=1</td><td>--</td><td>0.0</td><td>241960</td><td>0.0391</td><td>0.0007</td><td>2MASS:J</td><td>2021MNRAS.504.3831B</td></tr>\n",
       "</table></div>"
      ],
      "text/plain": [
       "<Table length=401>\n",
       "   _RAJ2000      _DEJ2000   ... sed_filter       Bibcode      \n",
       "     deg           deg      ...    ---                        \n",
       "   float64       float64    ...   str32           object      \n",
       "------------- ------------- ... ---------- -------------------\n",
       "120.087480900  26.613544800 ...   2MASS:Ks 2004AJ....127.3043Z\n",
       "120.087480900  26.613544800 ...    2MASS:H 2004AJ....127.3043Z\n",
       "120.087480900  26.613544800 ...    2MASS:J 2004AJ....127.3043Z\n",
       "120.087480800  26.613544700 ...   2MASS:Ks 2004AAS...205.4815Z\n",
       "120.087480800  26.613544700 ...    2MASS:H 2004AAS...205.4815Z\n",
       "120.087480800  26.613544700 ...    2MASS:J 2004AAS...205.4815Z\n",
       "120.088492800  26.613057800 ...   2MASS:Ks 2004AAS...205.4815Z\n",
       "120.088492800  26.613057800 ...    2MASS:H 2004AAS...205.4815Z\n",
       "120.088492800  26.613057800 ...    2MASS:J 2004AAS...205.4815Z\n",
       "          ...           ... ...        ...                 ...\n",
       "120.087456100  26.613556900 ...     SDSS:g 2018MNRAS.473.4731K\n",
       "120.087456100  26.613556900 ...     SDSS:u 2018MNRAS.473.4731K\n",
       "120.087456100  26.613556900 ...     SDSS:u 2018MNRAS.473.4731K\n",
       "120.087456100  26.613556900 ...     SDSS:u 2018MNRAS.473.4731K\n",
       "120.087400000  26.613510000 ...    WISE:W4 2018MNRAS.474.5363K\n",
       "120.087400000  26.613510000 ...    WISE:W3 2018MNRAS.474.5363K\n",
       "120.087400000  26.613510000 ...    WISE:W2 2018MNRAS.474.5363K\n",
       "120.087400000  26.613510000 ...    WISE:W1 2018MNRAS.474.5363K\n",
       "120.087419400  26.613509400 ...    2MASS:J 2021MNRAS.504.3831B\n",
       "120.087419400  26.613509400 ...    2MASS:J 2021MNRAS.504.3831B"
      ]
     },
     "execution_count": 27,
     "metadata": {},
     "output_type": "execute_result"
    }
   ],
   "source": [
    "cds_table = Table.read(path_phot_cds+Sample['Main_Id'][i]+'_CDS_phot_tables'+'.vot', \n",
    "                      format='votable')\n",
    "cds_table"
   ]
  },
  {
   "cell_type": "code",
   "execution_count": 11,
   "id": "dc52d1f8",
   "metadata": {
    "scrolled": false
   },
   "outputs": [],
   "source": [
    "ned_table = Table.read(path_phot_ned+Sample['Main_Id'][i]+'_NED_phot_tables'+'.vot', \n",
    "                      format='votable')"
   ]
  },
  {
   "cell_type": "code",
   "execution_count": 15,
   "id": "85ce62b4",
   "metadata": {},
   "outputs": [],
   "source": [
    "Ne_IR_Fq = np.array([19200000000000.0,19300000000000.0,20900000000000.0,21000000000000.0,23400000000000.0])\n",
    "Fr = np.array([ned_table['Frequency']])\n",
    "Fr2=ned_table['Frequency']"
   ]
  },
  {
   "cell_type": "code",
   "execution_count": 24,
   "id": "846c4bbd",
   "metadata": {},
   "outputs": [
    {
     "name": "stderr",
     "output_type": "stream",
     "text": [
      "/tmp/ipykernel_35182/146665886.py:1: DeprecationWarning: elementwise comparison failed; this will raise an error in the future.\n",
      "  if (Fr in Ne_IR_Fq):\n"
     ]
    }
   ],
   "source": []
  },
  {
   "cell_type": "code",
   "execution_count": 22,
   "id": "421a873a",
   "metadata": {},
   "outputs": [
    {
     "data": {
      "text/html": [
       "&lt;MaskedColumn name=&apos;Refcode&apos; dtype=&apos;object&apos; length=31&gt;\n",
       "<table>\n",
       "<tr><td>1963CGCG2.C...0000Z</td></tr>\n",
       "<tr><td>1989H&amp;RHI.C...0000H</td></tr>\n",
       "<tr><td>1990IRASF.C...0000M</td></tr>\n",
       "<tr><td>1991RC3.9.C...0000d</td></tr>\n",
       "<tr><td>1998AJ....115.1693C</td></tr>\n",
       "<tr><td>2002AJ....124..675C</td></tr>\n",
       "<tr><td>20032MASX.C.......:</td></tr>\n",
       "<tr><td>2004SDSS3.C...0000:</td></tr>\n",
       "<tr><td>2005ApJ...630..759M</td></tr>\n",
       "<tr><td>2006AJ....131.1163S</td></tr>\n",
       "<tr><td>2007ApJS..172..599S</td></tr>\n",
       "<tr><td>2007SDSS6.C...0000:</td></tr>\n",
       "<tr><td>...</td></tr>\n",
       "<tr><td>2013SSTSLC4.2....0C</td></tr>\n",
       "<tr><td>2013wise.rept....1C</td></tr>\n",
       "<tr><td>2014ApJ...794..152M</td></tr>\n",
       "<tr><td>2015ApJ...813...82R</td></tr>\n",
       "<tr><td>2015MNRAS.447.1531C</td></tr>\n",
       "<tr><td>2016A&amp;A...588A..70B</td></tr>\n",
       "<tr><td>2016MNRAS.456.3335S</td></tr>\n",
       "<tr><td>2017ApJ...850...74K</td></tr>\n",
       "<tr><td>2017ApJS..233...17R</td></tr>\n",
       "<tr><td>2018AJ....155..188L</td></tr>\n",
       "<tr><td>2018ApJ...861...49H</td></tr>\n",
       "<tr><td>2018ApJS..235....4O</td></tr>\n",
       "</table>"
      ],
      "text/plain": [
       "<MaskedColumn name='Refcode' dtype='object' length=31>\n",
       "1963CGCG2.C...0000Z\n",
       "1989H&RHI.C...0000H\n",
       "1990IRASF.C...0000M\n",
       "1991RC3.9.C...0000d\n",
       "1998AJ....115.1693C\n",
       "2002AJ....124..675C\n",
       "20032MASX.C.......:\n",
       "2004SDSS3.C...0000:\n",
       "2005ApJ...630..759M\n",
       "2006AJ....131.1163S\n",
       "2007ApJS..172..599S\n",
       "2007SDSS6.C...0000:\n",
       "                ...\n",
       "2013SSTSLC4.2....0C\n",
       "2013wise.rept....1C\n",
       "2014ApJ...794..152M\n",
       "2015ApJ...813...82R\n",
       "2015MNRAS.447.1531C\n",
       "2016A&A...588A..70B\n",
       "2016MNRAS.456.3335S\n",
       "2017ApJ...850...74K\n",
       "2017ApJS..233...17R\n",
       "2018AJ....155..188L\n",
       "2018ApJ...861...49H\n",
       "2018ApJS..235....4O"
      ]
     },
     "execution_count": 22,
     "metadata": {},
     "output_type": "execute_result"
    }
   ],
   "source": [
    "a = np.unique(ned_table['Refcode'])\n",
    "a"
   ]
  },
  {
   "cell_type": "code",
   "execution_count": 39,
   "id": "d742e36c",
   "metadata": {},
   "outputs": [
    {
     "name": "stdout",
     "output_type": "stream",
     "text": [
      "Duplicate!\n",
      "Duplicate!\n",
      "Duplicate!\n",
      "Duplicate!\n"
     ]
    }
   ],
   "source": [
    "t_rem = []\n",
    "for u_refcode in np.unique(ned_table['Refcode']):\n",
    "    l_cds = np.where(cds_table['Bibcode'] == u_refcode)[0]#.decode('utf-8'))[0]\n",
    "    l_ned = np.where(ned_table['Refcode'] == u_refcode)[0]\n",
    "    if len(l_cds) > 0 and len(l_ned) > 0:\n",
    "        print('Duplicate!')"
   ]
  },
  {
   "cell_type": "code",
   "execution_count": 42,
   "id": "0c7aece9",
   "metadata": {},
   "outputs": [
    {
     "data": {
      "text/plain": [
       "'1.34e-07'"
      ]
     },
     "execution_count": 42,
     "metadata": {},
     "output_type": "execute_result"
    }
   ],
   "source": [
    "flx_ned = str(ned_table[3]['Flux_Density'])\n",
    "flx_ned"
   ]
  },
  {
   "cell_type": "code",
   "execution_count": 35,
   "id": "4f73e578",
   "metadata": {},
   "outputs": [
    {
     "data": {
      "text/html": [
       "<i>Row index=377</i>\n",
       "<table id=\"table139996331581056\">\n",
       "<thead><tr><th>_RAJ2000</th><th>_DEJ2000</th><th>_tabname</th><th>_ID</th><th>_tab1_29</th><th>_tab1_30</th><th>sed_freq</th><th>sed_flux</th><th>sed_eflux</th><th>sed_filter</th><th>Bibcode</th></tr></thead>\n",
       "<thead><tr><th>deg</th><th>deg</th><th></th><th></th><th>d</th><th>s</th><th>GHz</th><th>Jy</th><th>Jy</th><th>---</th><th></th></tr></thead>\n",
       "<thead><tr><th>float64</th><th>float64</th><th>str32</th><th>str64</th><th>float64</th><th>float64</th><th>float64</th><th>float32</th><th>float32</th><th>str32</th><th>object</th></tr></thead>\n",
       "<tr><td>120.087500000</td><td>26.613611000</td><td>J/MNRAS/456/3335/table12</td><td>recno=106</td><td>--</td><td>0.0</td><td>599.59</td><td>0.12</td><td>--</td><td>:=500um</td><td>2016MNRAS.456.3335S</td></tr>\n",
       "</table>"
      ],
      "text/plain": [
       "<Row index=377>\n",
       "   _RAJ2000      _DEJ2000           _tabname            _ID    _tab1_29 _tab1_30  sed_freq   sed_flux sed_eflux sed_filter       Bibcode      \n",
       "     deg           deg                                            d        s        GHz         Jy        Jy       ---                        \n",
       "   float64       float64             str32             str64   float64  float64   float64    float32   float32    str32           object      \n",
       "------------- ------------- ------------------------ --------- -------- -------- ---------- --------- --------- ---------- -------------------\n",
       "120.087500000  26.613611000 J/MNRAS/456/3335/table12 recno=106       --      0.0     599.59      0.12        --    :=500um 2016MNRAS.456.3335S"
      ]
     },
     "execution_count": 35,
     "metadata": {},
     "output_type": "execute_result"
    }
   ],
   "source": [
    "cds_table[377]"
   ]
  },
  {
   "cell_type": "code",
   "execution_count": 17,
   "id": "8abe327f",
   "metadata": {},
   "outputs": [],
   "source": [
    "for tabindx, tabinfo in enumerate(cds_tablee['_tabname']):\n",
    "    try:\n",
    "        time.sleep(0.001)  # This is used to avoid being flag by the server\n",
    "        name_cat = tabinfo.rpartition('/')[0]\n",
    "        search = Vizier.query_constraints(catalog='METAcat', name=name_cat)\n",
    "        cds_tablee['Bibcode'][tabindx] = search[0][0]['bibcode']\n",
    "    except IndexError:\n",
    "        print('There is an error at ', tabindx, tabinfo)"
   ]
  },
  {
   "cell_type": "code",
   "execution_count": 18,
   "id": "935c174e",
   "metadata": {},
   "outputs": [
    {
     "data": {
      "text/html": [
       "<div><i>Table length=387</i>\n",
       "<table id=\"table140533348997824\" class=\"table-striped table-bordered table-condensed\">\n",
       "<thead><tr><th>_RAJ2000</th><th>_DEJ2000</th><th>_tabname</th><th>_ID</th><th>_tab1_31</th><th>_tab1_32</th><th>sed_freq</th><th>sed_flux</th><th>sed_eflux</th><th>sed_filter</th><th>Bibcode</th></tr></thead>\n",
       "<thead><tr><th>deg</th><th>deg</th><th></th><th></th><th>d</th><th>s</th><th>GHz</th><th>Jy</th><th>Jy</th><th></th><th></th></tr></thead>\n",
       "<thead><tr><th>float64</th><th>float64</th><th>str32</th><th>str64</th><th>float64</th><th>float64</th><th>float64</th><th>float32</th><th>float32</th><th>str32</th><th>object</th></tr></thead>\n",
       "<tr><td>150.456380600</td><td>28.785966700</td><td>I/297/out</td><td>NOMAD1===1187-0182426&amp;-c=150.4563806 +28.7859667,eq=J2000&amp;-c.rs=</td><td>--</td><td>0.0</td><td>138550</td><td>0.00501</td><td>--</td><td>2MASS:Ks</td><td>2004AAS...205.4815Z</td></tr>\n",
       "<tr><td>150.456380600</td><td>28.785966700</td><td>I/297/out</td><td>NOMAD1===1187-0182426&amp;-c=150.4563806 +28.7859667,eq=J2000&amp;-c.rs=</td><td>--</td><td>0.0</td><td>181750</td><td>0.00215</td><td>--</td><td>2MASS:H</td><td>2004AAS...205.4815Z</td></tr>\n",
       "<tr><td>150.456380600</td><td>28.785966700</td><td>I/297/out</td><td>NOMAD1===1187-0182426&amp;-c=150.4563806 +28.7859667,eq=J2000&amp;-c.rs=</td><td>--</td><td>0.0</td><td>241960</td><td>0.00116</td><td>--</td><td>2MASS:J</td><td>2004AAS...205.4815Z</td></tr>\n",
       "<tr><td>150.456445000</td><td>28.785850000</td><td>I/305/out</td><td>GSC2.3===N9AE005113&amp;-c=150.456445 +28.785850,eq=J2000&amp;-c.rs=0.00</td><td>--</td><td>0.0</td><td>382540</td><td>0.0021</td><td>0.00083</td><td>POSS-II:i</td><td>2008AJ....136..735L</td></tr>\n",
       "<tr><td>150.456445000</td><td>28.785850000</td><td>I/305/out</td><td>GSC2.3===N9AE005113&amp;-c=150.456445 +28.785850,eq=J2000&amp;-c.rs=0.00</td><td>--</td><td>0.0</td><td>468430</td><td>0.000992</td><td>0.00039</td><td>POSS-II:F</td><td>2008AJ....136..735L</td></tr>\n",
       "<tr><td>150.456445000</td><td>28.785850000</td><td>I/305/out</td><td>GSC2.3===N9AE005113&amp;-c=150.456445 +28.785850,eq=J2000&amp;-c.rs=0.00</td><td>--</td><td>0.0</td><td>640580</td><td>0.000753</td><td>0.00031</td><td>POSS-II:J</td><td>2008AJ....136..735L</td></tr>\n",
       "<tr><td>150.456445000</td><td>28.785850000</td><td>I/305/out</td><td>GSC2.3===N9AE005113&amp;-c=150.456445 +28.785850,eq=J2000&amp;-c.rs=0.00</td><td>--</td><td>0.0</td><td>674900</td><td>0.000364</td><td>0.00012</td><td>Johnson:B</td><td>2008AJ....136..735L</td></tr>\n",
       "<tr><td>150.456374000</td><td>28.785827000</td><td>I/317/sample</td><td>PPMXL===4211247675463393029&amp;-c=150.456374 +28.785827,eq=J2000&amp;-c</td><td>--</td><td>0.0</td><td>138550</td><td>0.005</td><td>0.00015</td><td>2MASS:Ks</td><td>2010AJ....139.2440R</td></tr>\n",
       "<tr><td>150.456374000</td><td>28.785827000</td><td>I/317/sample</td><td>PPMXL===4211247675463393029&amp;-c=150.456374 +28.785827,eq=J2000&amp;-c</td><td>--</td><td>0.0</td><td>181750</td><td>0.00215</td><td>0.0001</td><td>2MASS:H</td><td>2010AJ....139.2440R</td></tr>\n",
       "<tr><td>...</td><td>...</td><td>...</td><td>...</td><td>...</td><td>...</td><td>...</td><td>...</td><td>...</td><td>...</td><td>...</td></tr>\n",
       "<tr><td>150.456254200</td><td>28.785827800</td><td>J/MNRAS/438/1149/samples</td><td>recno=122</td><td>--</td><td>0.0</td><td>65172</td><td>0.0255</td><td>0.0006</td><td>WISE:W2</td><td>2014MNRAS.438.1149G</td></tr>\n",
       "<tr><td>150.456254200</td><td>28.785827800</td><td>J/MNRAS/438/1149/samples</td><td>recno=122</td><td>--</td><td>0.0</td><td>89490</td><td>0.0115</td><td>0.0003</td><td>WISE:W1</td><td>2014MNRAS.438.1149G</td></tr>\n",
       "<tr><td>150.456333300</td><td>28.785722200</td><td>J/PASJ/65/113/table7</td><td>recno=91</td><td>--</td><td>0.0</td><td>16302</td><td>0.274</td><td>--</td><td>AKARI:L18W</td><td>2013PASJ...65..113T</td></tr>\n",
       "<tr><td>150.456333300</td><td>28.785722200</td><td>J/PASJ/65/113/table7</td><td>recno=91</td><td>--</td><td>0.0</td><td>34819</td><td>0.112</td><td>--</td><td>AKARI:S9W</td><td>2013PASJ...65..113T</td></tr>\n",
       "<tr><td>150.456250000</td><td>28.786111110</td><td>J/other/Ap/63.322/table3</td><td>recno=27</td><td>--</td><td>0.0</td><td>332440</td><td>0.000685</td><td>--</td><td>SDSS:z</td><td>2020Ap.....63..322A</td></tr>\n",
       "<tr><td>150.456250000</td><td>28.786111110</td><td>J/other/Ap/63.322/table3</td><td>recno=27</td><td>--</td><td>0.0</td><td>392660</td><td>0.000809</td><td>--</td><td>SDSS:i</td><td>2020Ap.....63..322A</td></tr>\n",
       "<tr><td>150.456250000</td><td>28.786111110</td><td>J/other/Ap/63.322/table3</td><td>recno=27</td><td>--</td><td>0.0</td><td>479900</td><td>0.000673</td><td>--</td><td>SDSS:r</td><td>2020Ap.....63..322A</td></tr>\n",
       "<tr><td>150.456250000</td><td>28.786111110</td><td>J/other/Ap/63.322/table3</td><td>recno=27</td><td>--</td><td>0.0</td><td>621980</td><td>0.000238</td><td>--</td><td>SDSS:g</td><td>2020Ap.....63..322A</td></tr>\n",
       "<tr><td>150.456250000</td><td>28.786111110</td><td>J/other/Ap/63.322/table3</td><td>recno=27</td><td>--</td><td>0.0</td><td>851920</td><td>0.000138</td><td>--</td><td>SDSS:u</td><td>2020Ap.....63..322A</td></tr>\n",
       "<tr><td>150.456254200</td><td>28.785827800</td><td>J/other/APh/26.282/tableb9</td><td>recno=11</td><td>--</td><td>0.0</td><td>0.178</td><td>31.4</td><td>--</td><td>:=178MHz</td><td>2006APh....26..282A</td></tr>\n",
       "</table></div>"
      ],
      "text/plain": [
       "<Table length=387>\n",
       "   _RAJ2000      _DEJ2000   ... sed_filter       Bibcode      \n",
       "     deg           deg      ...                               \n",
       "   float64       float64    ...   str32           object      \n",
       "------------- ------------- ... ---------- -------------------\n",
       "150.456380600  28.785966700 ...   2MASS:Ks 2004AAS...205.4815Z\n",
       "150.456380600  28.785966700 ...    2MASS:H 2004AAS...205.4815Z\n",
       "150.456380600  28.785966700 ...    2MASS:J 2004AAS...205.4815Z\n",
       "150.456445000  28.785850000 ...  POSS-II:i 2008AJ....136..735L\n",
       "150.456445000  28.785850000 ...  POSS-II:F 2008AJ....136..735L\n",
       "150.456445000  28.785850000 ...  POSS-II:J 2008AJ....136..735L\n",
       "150.456445000  28.785850000 ...  Johnson:B 2008AJ....136..735L\n",
       "150.456374000  28.785827000 ...   2MASS:Ks 2010AJ....139.2440R\n",
       "150.456374000  28.785827000 ...    2MASS:H 2010AJ....139.2440R\n",
       "          ...           ... ...        ...                 ...\n",
       "150.456254200  28.785827800 ...    WISE:W2 2014MNRAS.438.1149G\n",
       "150.456254200  28.785827800 ...    WISE:W1 2014MNRAS.438.1149G\n",
       "150.456333300  28.785722200 ... AKARI:L18W 2013PASJ...65..113T\n",
       "150.456333300  28.785722200 ...  AKARI:S9W 2013PASJ...65..113T\n",
       "150.456250000  28.786111110 ...     SDSS:z 2020Ap.....63..322A\n",
       "150.456250000  28.786111110 ...     SDSS:i 2020Ap.....63..322A\n",
       "150.456250000  28.786111110 ...     SDSS:r 2020Ap.....63..322A\n",
       "150.456250000  28.786111110 ...     SDSS:g 2020Ap.....63..322A\n",
       "150.456250000  28.786111110 ...     SDSS:u 2020Ap.....63..322A\n",
       "150.456254200  28.785827800 ...   :=178MHz 2006APh....26..282A"
      ]
     },
     "execution_count": 18,
     "metadata": {},
     "output_type": "execute_result"
    }
   ],
   "source": [
    "cds_tablee"
   ]
  },
  {
   "cell_type": "code",
   "execution_count": 32,
   "id": "32c63803",
   "metadata": {},
   "outputs": [
    {
     "data": {
      "text/plain": [
       "'J/other/APh/26.282'"
      ]
     },
     "execution_count": 32,
     "metadata": {},
     "output_type": "execute_result"
    }
   ],
   "source": [
    "name_cat = tabinfo.rpartition('/')[0]\n",
    "name_cat"
   ]
  },
  {
   "cell_type": "code",
   "execution_count": 27,
   "id": "e0c7af7b",
   "metadata": {},
   "outputs": [],
   "source": [
    "search = Vizier.query_constraints(catalog='METAcat', name=name_cat)"
   ]
  },
  {
   "cell_type": "code",
   "execution_count": 31,
   "id": "2fd3f5ad",
   "metadata": {},
   "outputs": [
    {
     "name": "stdout",
     "output_type": "stream",
     "text": [
      "catid kslot catype        name        ...       bibcode       popu authid\n",
      "----- ----- ------ ------------------ ... ------------------- ---- ------\n",
      "  255    63      5 J/other/APh/26.282 ... 2006APh....26..282A  255      0\n"
     ]
    }
   ],
   "source": [
    "search[search.keys()[0]].pprint()"
   ]
  },
  {
   "cell_type": "code",
   "execution_count": 29,
   "id": "d74a9c32",
   "metadata": {},
   "outputs": [
    {
     "data": {
      "text/plain": [
       "'2006APh....26..282A'"
      ]
     },
     "execution_count": 29,
     "metadata": {},
     "output_type": "execute_result"
    }
   ],
   "source": [
    "search[0][0]['bibcode']"
   ]
  },
  {
   "cell_type": "code",
   "execution_count": 30,
   "id": "1d0beeeb",
   "metadata": {},
   "outputs": [],
   "source": [
    "name = 'IC 4553'\n",
    "tabla = Ned.get_table(name, table='photometry') "
   ]
  },
  {
   "cell_type": "code",
   "execution_count": 31,
   "id": "a23cd545",
   "metadata": {},
   "outputs": [
    {
     "data": {
      "text/html": [
       "<div><i>Table length=404</i>\n",
       "<table id=\"table139675400926736\" class=\"table-striped table-bordered table-condensed\">\n",
       "<thead><tr><th>No.</th><th>Observed Passband</th><th>Photometry Measurement</th><th>Uncertainty</th><th>Units</th><th>Frequency</th><th>Flux Density</th><th>Upper limit of uncertainty</th><th>Lower limit of uncertainty</th><th>Upper limit of Flux Density</th><th>Lower limit of Flux Density</th><th>NED Uncertainty</th><th>NED Units</th><th>Refcode</th><th>Significance</th><th>Published frequency</th><th>Frequency Mode</th><th>Coordinates Targeted</th><th>Spatial Mode</th><th>Qualifiers</th><th>Comments</th></tr></thead>\n",
       "<thead><tr><th></th><th></th><th></th><th></th><th></th><th>Hz</th><th>Jy</th><th></th><th></th><th></th><th></th><th></th><th></th><th></th><th></th><th></th><th></th><th></th><th></th><th></th><th></th></tr></thead>\n",
       "<thead><tr><th>int32</th><th>object</th><th>float64</th><th>object</th><th>object</th><th>float64</th><th>float64</th><th>float64</th><th>float64</th><th>float64</th><th>float64</th><th>object</th><th>object</th><th>object</th><th>object</th><th>object</th><th>object</th><th>object</th><th>object</th><th>object</th><th>object</th></tr></thead>\n",
       "<tr><td>1</td><td>2-10 keV (ASCA)</td><td>1.1e-13</td><td></td><td>ergs/s/cm^2^</td><td>1.45e+18</td><td>7.59e-09</td><td>--</td><td>--</td><td>--</td><td>--</td><td></td><td>Jy</td><td>2001ApJS..133....1U</td><td>no uncertainty reported</td><td>6.00 keV</td><td>Broad-band measurement</td><td>233.7458 +23.4932 (J2000)</td><td>Flux integrated from map</td><td></td><td>From reprocessed raw data; Extinction-corrected for MilkyWay; NED frequency assigned to mid-point of band in keV</td></tr>\n",
       "<tr><td>2</td><td>2-10 keV (Suzaku)</td><td>9.8e-14</td><td>+/-0.24E-13</td><td>erg/s/cm^2^</td><td>1.45e+18</td><td>6.76e-09</td><td>1.66e-09</td><td>1.66e-09</td><td>--</td><td>--</td><td>+/-1.66E-09</td><td>Jy</td><td>2009ApJ...691..261T</td><td>uncertainty</td><td>6.00 keV</td><td>Broad-band measurement</td><td></td><td>Modelled datum</td><td></td><td>From new raw data; NED frequency assigned to mid-point ofband in keV</td></tr>\n",
       "<tr><td>3</td><td>2-10 keV</td><td>1.07e-13</td><td>+/-0.18E-13</td><td>erg/s/cm^2^</td><td>1.45e+18</td><td>7.38e-09</td><td>1.24e-09</td><td>1.24e-09</td><td>--</td><td>--</td><td>+/-1.24E-09</td><td>Jy</td><td>2011ApJ...729...52L</td><td>uncertainty</td><td>6.00 keV</td><td>Broad-band measurement</td><td></td><td>Modelled datum</td><td></td><td>From reprocessed raw data; NED frequency assigned tomid-point of band in keV</td></tr>\n",
       "<tr><td>4</td><td>2-10 keV (XMM)</td><td>1.11e-13</td><td></td><td>erg/cm^2^/s</td><td>1.45e+18</td><td>7.66e-09</td><td>--</td><td>--</td><td>--</td><td>--</td><td></td><td>Jy</td><td>2014A&amp;A...569A..71C</td><td>no uncertainty reported</td><td>6.00 keV</td><td>Broad-band measurement</td><td></td><td>From fitting to map</td><td></td><td>From reprocessed raw data; NED frequency assigned tomid-point of band in keV</td></tr>\n",
       "<tr><td>5</td><td>2-7 keV (Chandra)</td><td>6.6e-14</td><td></td><td>erg/s/cm^2^</td><td>1.09e+18</td><td>6.06e-09</td><td>--</td><td>--</td><td>--</td><td>--</td><td></td><td>Jy</td><td>2011A&amp;A...529A.106I</td><td>no uncertainty reported</td><td>4.50 keV</td><td>Broad-band measurement</td><td></td><td>Modelled datum</td><td></td><td>From reprocessed raw data; NED frequency assigned tomid-point of band in keV</td></tr>\n",
       "<tr><td>6</td><td>0.7-7 keV (ASCA)</td><td>2.1e-13</td><td></td><td>ergs/s/cm^2^</td><td>9.31e+17</td><td>2.26e-08</td><td>--</td><td>--</td><td>--</td><td>--</td><td></td><td>Jy</td><td>2001ApJS..133....1U</td><td>no uncertainty reported</td><td>3.85 keV</td><td>Broad-band measurement</td><td>233.7458 +23.4932 (J2000)</td><td>Flux integrated from map</td><td></td><td>From reprocessed raw data; Extinction-corrected for MilkyWay; NED frequency assigned to mid-point of band in keV</td></tr>\n",
       "<tr><td>7</td><td>EO IPC (0.1-4.5 keV)</td><td>45.69</td><td></td><td>nJy</td><td>3.87e+17</td><td>4.57e-08</td><td>--</td><td>--</td><td>--</td><td>--</td><td></td><td>Jy</td><td>1996MNRAS.278.1049R</td><td>no uncertainty reported</td><td>1.6        keV</td><td>Broad-band measurement; broad-band flux derived by integration over spectrum; synthetic band</td><td>153457.22 +233011.40 (J2000)</td><td>Integrated from scans</td><td></td><td>Homogenized from previously published data</td></tr>\n",
       "<tr><td>8</td><td>0.7-2 keV (ASCA)</td><td>1.4e-13</td><td></td><td>ergs/s/cm^2^</td><td>3.26e+17</td><td>4.29e-08</td><td>--</td><td>--</td><td>--</td><td>--</td><td></td><td>Jy</td><td>2001ApJS..133....1U</td><td>no uncertainty reported</td><td>1.35 keV</td><td>Broad-band measurement</td><td>233.7458 +23.4932 (J2000)</td><td>Flux integrated from map</td><td></td><td>From reprocessed raw data; Extinction-corrected for MilkyWay; NED frequency assigned to mid-point of band in keV</td></tr>\n",
       "<tr><td>9</td><td>0.5-2 keV (Suzaku)</td><td>6.6e-14</td><td>+/-0.10E-13</td><td>erg/s/cm^2^</td><td>3.02e+17</td><td>2.19e-08</td><td>3.31e-09</td><td>3.31e-09</td><td>--</td><td>--</td><td>+/-3.31E-09</td><td>Jy</td><td>2009ApJ...691..261T</td><td>uncertainty</td><td>1.25 keV</td><td>Broad-band measurement</td><td></td><td>Modelled datum</td><td></td><td>From new raw data; NED frequency assigned to mid-point ofband in keV</td></tr>\n",
       "<tr><td>...</td><td>...</td><td>...</td><td>...</td><td>...</td><td>...</td><td>...</td><td>...</td><td>...</td><td>...</td><td>...</td><td>...</td><td>...</td><td>...</td><td>...</td><td>...</td><td>...</td><td>...</td><td>...</td><td>...</td><td>...</td></tr>\n",
       "<tr><td>395</td><td>1400 MHz</td><td>0.3</td><td>+/-0.04</td><td>Jy</td><td>1400000000.0</td><td>0.3</td><td>0.0355</td><td>0.0355</td><td>--</td><td>--</td><td>+/-3.55E-02</td><td>Jy</td><td>1983AJ.....88...20C</td><td>rms uncertainty</td><td>1400       MHz</td><td>Broad-band measurement</td><td>153246.90 +2340 8.2 (B1950)</td><td>Flux integrated from map</td><td></td><td>From reprocessed raw data</td></tr>\n",
       "<tr><td>396</td><td>1.4GHz</td><td>326.8</td><td>+/-9.8</td><td>milliJy</td><td>1400000000.0</td><td>0.327</td><td>0.0098</td><td>0.0098</td><td>--</td><td>--</td><td>+/-9.80E-03</td><td>Jy</td><td>1998AJ....115.1693C</td><td>uncertainty</td><td>1.40   GHz</td><td>Broad-band measurement</td><td>15 34 57.26 +23 30 11.1 (J2000)</td><td>Flux integrated from map</td><td></td><td>From new raw data</td></tr>\n",
       "<tr><td>397</td><td>1.4 GHz (CHIPASS)</td><td>218.0</td><td></td><td>milliJy</td><td>1400000000.0</td><td>0.218</td><td>--</td><td>--</td><td>--</td><td>--</td><td></td><td>Jy</td><td>2014MNRAS.440..696A</td><td>no uncertainty reported</td><td>1.4 GHz</td><td>Broad-band measurement</td><td>15 34 57.27 +23 30 10.5 (J2000)</td><td>From fitting to map</td><td>Beam-weighted flux density</td><td>From reprocessed raw data</td></tr>\n",
       "<tr><td>398</td><td>1.4 GHz (VLA)</td><td>326.0</td><td></td><td>milliJy</td><td>1400000000.0</td><td>0.326</td><td>--</td><td>--</td><td>--</td><td>--</td><td></td><td>Jy</td><td>2002AJ....124..675C</td><td>no uncertainty reported</td><td>1.4   GHz</td><td>Broad-band measurement</td><td></td><td>Flux integrated from map</td><td></td><td>Averaged from previously published data</td></tr>\n",
       "<tr><td>399</td><td>1.2 GHz (ATA)</td><td>0.37</td><td>+/-0.02</td><td>Jy</td><td>1200000000.0</td><td>0.37</td><td>0.02</td><td>0.02</td><td>--</td><td>--</td><td>+/-2.00E-02</td><td>Jy</td><td>2010ApJ...710.1462W</td><td>uncertainty</td><td>1.2 GHz</td><td>Broad-band measurement</td><td></td><td>Flux integrated from map</td><td>Calibrator is 3C 48</td><td>From new raw data</td></tr>\n",
       "<tr><td>400</td><td>1.2 GHz (ATA)</td><td>0.33</td><td>+/-0.01</td><td>Jy</td><td>1200000000.0</td><td>0.33</td><td>0.01</td><td>0.01</td><td>--</td><td>--</td><td>+/-1.00E-02</td><td>Jy</td><td>2010ApJ...710.1462W</td><td>uncertainty</td><td>1.2 GHz</td><td>Broad-band measurement</td><td></td><td>Flux integrated from map</td><td>Calibrator is 3C 286</td><td>From new raw data</td></tr>\n",
       "<tr><td>401</td><td>1.1 GHz (ATA)</td><td>0.34</td><td>+/-0.01</td><td>Jy</td><td>1100000000.0</td><td>0.34</td><td>0.01</td><td>0.01</td><td>--</td><td>--</td><td>+/-1.00E-02</td><td>Jy</td><td>2010ApJ...710.1462W</td><td>uncertainty</td><td>1.1 GHz</td><td>Broad-band measurement</td><td></td><td>Flux integrated from map</td><td>Calibrator is 3C 286</td><td>From new raw data</td></tr>\n",
       "<tr><td>402</td><td>1.1 GHz (ATA)</td><td>0.36</td><td>+/-0.02</td><td>Jy</td><td>1100000000.0</td><td>0.36</td><td>0.02</td><td>0.02</td><td>--</td><td>--</td><td>+/-2.00E-02</td><td>Jy</td><td>2010ApJ...710.1462W</td><td>uncertainty</td><td>1.1 GHz</td><td>Broad-band measurement</td><td></td><td>Flux integrated from map</td><td>Calibrator is 3C 48</td><td>From new raw data</td></tr>\n",
       "<tr><td>403</td><td>365 MHz (Texas)</td><td>0.435</td><td>+/-0.026</td><td>Jy</td><td>365000000.0</td><td>0.435</td><td>0.026</td><td>0.026</td><td>--</td><td>--</td><td>+/-2.60E-02</td><td>Jy</td><td>1996AJ....111.1945D</td><td>internal error</td><td>365        MHz</td><td>Broad-band measurement; obtained by interpolation over frequency</td><td>153246.819 234008.06 (B1950)</td><td>Integrated from scans</td><td>Model:P;MFlag:+;EFlag:+;LFlag:+.</td><td>From new raw data</td></tr>\n",
       "<tr><td>404</td><td>151 MHz</td><td>0.45</td><td>+/-18.1%</td><td>Jy</td><td>151000000.0</td><td>0.45</td><td>0.0813</td><td>0.0813</td><td>--</td><td>--</td><td>+/-8.13E-02</td><td>Jy</td><td>1996MNRAS.282..779W</td><td>estimated error</td><td>151        MHz</td><td>Broad-band measurement</td><td>153246.9 +233952 (B1950)</td><td>Flux integrated from map; Beam filling or dilution corrected</td><td></td><td>From new raw data; Corrected for contaminating sources</td></tr>\n",
       "</table></div>"
      ],
      "text/plain": [
       "<Table length=404>\n",
       " No.  ...\n",
       "      ...\n",
       "int32 ...\n",
       "----- ...\n",
       "    1 ...\n",
       "    2 ...\n",
       "    3 ...\n",
       "    4 ...\n",
       "    5 ...\n",
       "    6 ...\n",
       "    7 ...\n",
       "    8 ...\n",
       "    9 ...\n",
       "  ... ...\n",
       "  395 ...\n",
       "  396 ...\n",
       "  397 ...\n",
       "  398 ...\n",
       "  399 ...\n",
       "  400 ...\n",
       "  401 ...\n",
       "  402 ...\n",
       "  403 ...\n",
       "  404 ..."
      ]
     },
     "execution_count": 31,
     "metadata": {},
     "output_type": "execute_result"
    }
   ],
   "source": [
    "tabla"
   ]
  },
  {
   "cell_type": "code",
   "execution_count": 32,
   "id": "08e80e10",
   "metadata": {},
   "outputs": [
    {
     "ename": "KeyError",
     "evalue": "'Flux_Density'",
     "output_type": "error",
     "traceback": [
      "\u001b[0;31m---------------------------------------------------------------------------\u001b[0m",
      "\u001b[0;31mKeyError\u001b[0m                                  Traceback (most recent call last)",
      "Input \u001b[0;32mIn [32]\u001b[0m, in \u001b[0;36m<cell line: 1>\u001b[0;34m()\u001b[0m\n\u001b[0;32m----> 1\u001b[0m tabla\u001b[38;5;241m.\u001b[39mremove_rows(np\u001b[38;5;241m.\u001b[39mwhere(\u001b[43mtabla\u001b[49m\u001b[43m[\u001b[49m\u001b[38;5;124;43m'\u001b[39;49m\u001b[38;5;124;43mFlux_Density\u001b[39;49m\u001b[38;5;124;43m'\u001b[39;49m\u001b[43m]\u001b[49m\u001b[38;5;241m.\u001b[39mmask)[\u001b[38;5;241m0\u001b[39m])\n\u001b[1;32m      2\u001b[0m tabla\u001b[38;5;241m.\u001b[39mremove_rows(np\u001b[38;5;241m.\u001b[39mwhere(tabla[\u001b[38;5;124m'\u001b[39m\u001b[38;5;124mNED_Uncertainty\u001b[39m\u001b[38;5;124m'\u001b[39m] \u001b[38;5;241m==\u001b[39m \u001b[38;5;124m'\u001b[39m\u001b[38;5;124m'\u001b[39m)[\u001b[38;5;241m0\u001b[39m])\n\u001b[1;32m      3\u001b[0m tabla\u001b[38;5;241m.\u001b[39mremove_rows(np\u001b[38;5;241m.\u001b[39mwhere(tabla[\u001b[38;5;124m'\u001b[39m\u001b[38;5;124mNED_Uncertainty\u001b[39m\u001b[38;5;124m'\u001b[39m] \u001b[38;5;241m==\u001b[39m \u001b[38;5;124m'\u001b[39m\u001b[38;5;124m+/-...\u001b[39m\u001b[38;5;124m'\u001b[39m)[\u001b[38;5;241m0\u001b[39m])\n",
      "File \u001b[0;32m~/anaconda3/lib/python3.9/site-packages/astropy/table/table.py:1882\u001b[0m, in \u001b[0;36mTable.__getitem__\u001b[0;34m(self, item)\u001b[0m\n\u001b[1;32m   1880\u001b[0m \u001b[38;5;28;01mdef\u001b[39;00m \u001b[38;5;21m__getitem__\u001b[39m(\u001b[38;5;28mself\u001b[39m, item):\n\u001b[1;32m   1881\u001b[0m     \u001b[38;5;28;01mif\u001b[39;00m \u001b[38;5;28misinstance\u001b[39m(item, \u001b[38;5;28mstr\u001b[39m):\n\u001b[0;32m-> 1882\u001b[0m         \u001b[38;5;28;01mreturn\u001b[39;00m \u001b[38;5;28;43mself\u001b[39;49m\u001b[38;5;241;43m.\u001b[39;49m\u001b[43mcolumns\u001b[49m\u001b[43m[\u001b[49m\u001b[43mitem\u001b[49m\u001b[43m]\u001b[49m\n\u001b[1;32m   1883\u001b[0m     \u001b[38;5;28;01melif\u001b[39;00m \u001b[38;5;28misinstance\u001b[39m(item, (\u001b[38;5;28mint\u001b[39m, np\u001b[38;5;241m.\u001b[39minteger)):\n\u001b[1;32m   1884\u001b[0m         \u001b[38;5;28;01mreturn\u001b[39;00m \u001b[38;5;28mself\u001b[39m\u001b[38;5;241m.\u001b[39mRow(\u001b[38;5;28mself\u001b[39m, item)\n",
      "File \u001b[0;32m~/anaconda3/lib/python3.9/site-packages/astropy/table/table.py:247\u001b[0m, in \u001b[0;36mTableColumns.__getitem__\u001b[0;34m(self, item)\u001b[0m\n\u001b[1;32m    237\u001b[0m \u001b[38;5;124;03m\"\"\"Get items from a TableColumns object.\u001b[39;00m\n\u001b[1;32m    238\u001b[0m \u001b[38;5;124;03m::\u001b[39;00m\n\u001b[1;32m    239\u001b[0m \n\u001b[0;32m   (...)\u001b[0m\n\u001b[1;32m    244\u001b[0m \u001b[38;5;124;03m  tc[1:3] # <TableColumns names=('b', 'c')>\u001b[39;00m\n\u001b[1;32m    245\u001b[0m \u001b[38;5;124;03m\"\"\"\u001b[39;00m\n\u001b[1;32m    246\u001b[0m \u001b[38;5;28;01mif\u001b[39;00m \u001b[38;5;28misinstance\u001b[39m(item, \u001b[38;5;28mstr\u001b[39m):\n\u001b[0;32m--> 247\u001b[0m     \u001b[38;5;28;01mreturn\u001b[39;00m \u001b[43mOrderedDict\u001b[49m\u001b[38;5;241;43m.\u001b[39;49m\u001b[38;5;21;43m__getitem__\u001b[39;49m\u001b[43m(\u001b[49m\u001b[38;5;28;43mself\u001b[39;49m\u001b[43m,\u001b[49m\u001b[43m \u001b[49m\u001b[43mitem\u001b[49m\u001b[43m)\u001b[49m\n\u001b[1;32m    248\u001b[0m \u001b[38;5;28;01melif\u001b[39;00m \u001b[38;5;28misinstance\u001b[39m(item, (\u001b[38;5;28mint\u001b[39m, np\u001b[38;5;241m.\u001b[39minteger)):\n\u001b[1;32m    249\u001b[0m     \u001b[38;5;28;01mreturn\u001b[39;00m \u001b[38;5;28mlist\u001b[39m(\u001b[38;5;28mself\u001b[39m\u001b[38;5;241m.\u001b[39mvalues())[item]\n",
      "\u001b[0;31mKeyError\u001b[0m: 'Flux_Density'"
     ]
    }
   ],
   "source": [
    "tabla.remove_rows(np.where(tabla['Flux_Density'].mask)[0])\n",
    "tabla.remove_rows(np.where(tabla['NED_Uncertainty'] == '')[0])\n",
    "tabla.remove_rows(np.where(tabla['NED_Uncertainty'] == '+/-...')[0])"
   ]
  },
  {
   "cell_type": "code",
   "execution_count": null,
   "id": "6cfd4e56",
   "metadata": {},
   "outputs": [],
   "source": []
  }
 ],
 "metadata": {
  "kernelspec": {
   "display_name": "Python 3 (ipykernel)",
   "language": "python",
   "name": "python3"
  },
  "language_info": {
   "codemirror_mode": {
    "name": "ipython",
    "version": 3
   },
   "file_extension": ".py",
   "mimetype": "text/x-python",
   "name": "python",
   "nbconvert_exporter": "python",
   "pygments_lexer": "ipython3",
   "version": "3.9.7"
  }
 },
 "nbformat": 4,
 "nbformat_minor": 5
}
