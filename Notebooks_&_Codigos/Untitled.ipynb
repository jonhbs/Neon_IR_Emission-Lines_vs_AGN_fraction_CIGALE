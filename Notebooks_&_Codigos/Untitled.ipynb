{
 "cells": [
  {
   "cell_type": "code",
   "execution_count": 1,
   "id": "7ed6511c",
   "metadata": {},
   "outputs": [],
   "source": [
    "import time\n",
    "from os import path\n",
    "from pathlib import Path\n",
    "from datetime import datetime\n",
    "import pandas as pd\n",
    "\n",
    "import astropy.units as u\n",
    "from astropy.table import Table, vstack, unique\n",
    "\n",
    "from astroquery.ipac.ned import Ned\n",
    "from astroquery.simbad import Simbad\n",
    "from astroquery.vizier import Vizier\n",
    "#from astroquery.ned.core import RemoteServiceError, TableParseError\n",
    "\n",
    "import requests\n",
    "from requests import Request, Session\n",
    "\n",
    "from numpy import unique as uniq\n",
    "\n",
    "from astropy.coordinates import SkyCoord\n",
    "from astropy.table import Table"
   ]
  },
  {
   "cell_type": "code",
   "execution_count": 2,
   "id": "5f5be009",
   "metadata": {
    "scrolled": false
   },
   "outputs": [
    {
     "data": {
      "text/html": [
       "<div><i>Table length=44272</i>\n",
       "<table id=\"table139750653445168\" class=\"table-striped table-bordered table-condensed\">\n",
       "<thead><tr><th>main_id</th><th>ra</th><th>dec</th><th>coo_bibcode</th><th>otype_txt</th><th>rvz_bibcode</th><th>rvz_radvel</th><th>rvz_redshift</th><th>rvz_type</th><th>nbref</th><th>otypes</th><th>cds_url</th></tr></thead>\n",
       "<thead><tr><th></th><th>deg</th><th>deg</th><th></th><th></th><th></th><th>km / s</th><th></th><th></th><th></th><th></th><th></th></tr></thead>\n",
       "<thead><tr><th>object</th><th>float64</th><th>float64</th><th>object</th><th>object</th><th>object</th><th>float64</th><th>float64</th><th>str1</th><th>int32</th><th>object</th><th>str93</th></tr></thead>\n",
       "<tr><td>RX J1203.5+4432</td><td>180.88724599190996</td><td>2.4929432724600002</td><td>2020yCat.1350....0G</td><td>Sy1</td><td>2012ApJS..203...21A</td><td>22264.155457144552</td><td>0.07724</td><td>z</td><td>42</td><td>*  |AGN|EmO|G  |GiC|IR |QSO|Rad|Sy1|V* |X</td><td>http://vizier.u-strasbg.fr/viz-bin/sed?-c=180.88724599190996%202.4929432724600002&amp;-c.rs=5</td></tr>\n",
       "<tr><td>2MASX J12014361+4307386</td><td>180.43169828928998</td><td>43.1273394439</td><td>2020yCat.1350....0G</td><td>Sy2</td><td>2009ApJS..182..543A</td><td>20748.633978793205</td><td>0.07178</td><td>z</td><td>4</td><td>*  |G  |Rad|Sy2|rG</td><td>http://vizier.u-strasbg.fr/viz-bin/sed?-c=180.43169828928998%2043.1273394439&amp;-c.rs=5</td></tr>\n",
       "<tr><td>SDSS J144452.42+511957.5</td><td>221.218431</td><td>51.332651</td><td>2012ApJS..203...21A</td><td>Sy2</td><td>2015ApJS..219...12A</td><td>25457.504881087</td><td>0.08885</td><td>z</td><td>4</td><td>G  |GiG|Sy2</td><td>http://vizier.u-strasbg.fr/viz-bin/sed?-c=221.218431%2051.332651&amp;-c.rs=5</td></tr>\n",
       "<tr><td>FIRST J083344.2+283939</td><td>128.43421094374</td><td>28.66111602879</td><td>2020yCat.1350....0G</td><td>Sy1</td><td>2009ApJS..182..543A</td><td>173513.43668282355</td><td>0.936</td><td>z</td><td>13</td><td>*  |AGN|QSO|Rad|Sy1</td><td>http://vizier.u-strasbg.fr/viz-bin/sed?-c=128.43421094374%2028.66111602879&amp;-c.rs=5</td></tr>\n",
       "<tr><td>SDSS J091658.99+012604.8</td><td>139.24580903083</td><td>1.43466726489</td><td>2020yCat.1350....0G</td><td>Sy1</td><td>2015ApJS..219...12A</td><td>125231.50632150602</td><td>0.56039</td><td>z</td><td>8</td><td>*  |QSO|Sy1</td><td>http://vizier.u-strasbg.fr/viz-bin/sed?-c=139.24580903083%201.43466726489&amp;-c.rs=5</td></tr>\n",
       "<tr><td>MCG+06-34-028</td><td>235.23225416666668</td><td>32.78155555555555</td><td>2006AJ....131.1163S</td><td>Sy2</td><td>2002LEDA.........0P</td><td>15618.951821140114</td><td>0.05353</td><td>z</td><td>12</td><td>G  |IR |Sy2</td><td>http://vizier.u-strasbg.fr/viz-bin/sed?-c=235.23225416666668%2032.78155555555555&amp;-c.rs=5</td></tr>\n",
       "<tr><td>IC 3834</td><td>192.88488958362</td><td>-14.221116888659996</td><td>2020yCat.1350....0G</td><td>Sy1</td><td>2002LEDA.........0P</td><td>4332.318180333962</td><td>0.014557</td><td>z</td><td>34</td><td>*  |AGN|G  |GiG|IR |Sy1</td><td>http://vizier.u-strasbg.fr/viz-bin/sed?-c=192.88488958362%20-14.221116888659996&amp;-c.rs=5</td></tr>\n",
       "<tr><td>SDSS J155011.46+233017.1</td><td>237.54777578073</td><td>23.50475679549</td><td>2020yCat.1350....0G</td><td>Sy2</td><td>2012ApJS..203...21A</td><td>33510.40645237621</td><td>0.11879</td><td>z</td><td>1</td><td>*  |Sy2</td><td>http://vizier.u-strasbg.fr/viz-bin/sed?-c=237.54777578073%2023.50475679549&amp;-c.rs=5</td></tr>\n",
       "<tr><td>2MASS J09260434+1501545</td><td>141.51812883058</td><td>15.03181636849</td><td>2020yCat.1350....0G</td><td>Sy1</td><td>2009ApJS..182..543A</td><td>15817.530255950087</td><td>0.05423</td><td>z</td><td>7</td><td>*  |AGN|G  |IR |Sy1</td><td>http://vizier.u-strasbg.fr/viz-bin/sed?-c=141.51812883058%2015.03181636849&amp;-c.rs=5</td></tr>\n",
       "<tr><td>...</td><td>...</td><td>...</td><td>...</td><td>...</td><td>...</td><td>...</td><td>...</td><td>...</td><td>...</td><td>...</td><td>...</td></tr>\n",
       "<tr><td>[VV2003c] J002413.7+002718</td><td>6.05689728109</td><td>0.45505982115</td><td>2020yCat.1350....0G</td><td>Sy1</td><td>2009ApJS..182..543A</td><td>36034.76400220799</td><td>0.12838</td><td>z</td><td>2</td><td>AGN|G  |GiG|Sy1</td><td>http://vizier.u-strasbg.fr/viz-bin/sed?-c=6.05689728109%200.45505982115&amp;-c.rs=5</td></tr>\n",
       "<tr><td>Z 502-26</td><td>19.84209624267</td><td>32.04404954274</td><td>2020yCat.1350....0G</td><td>Sy2</td><td>2018AJ....155..189D</td><td>16828.014311237086</td><td>0.0578</td><td>z</td><td>17</td><td>*  |AGN|G  |QSO|Sy2|X</td><td>http://vizier.u-strasbg.fr/viz-bin/sed?-c=19.84209624267%2032.04404954274&amp;-c.rs=5</td></tr>\n",
       "<tr><td>2MASX J17135898+3336254</td><td>258.495841</td><td>33.607137</td><td>2017AJ....154...86W</td><td>Sy2</td><td>2009ApJS..182..543A</td><td>11368.985429747425</td><td>0.03867</td><td>z</td><td>7</td><td>AGN|G  |Rad|Sy2</td><td>http://vizier.u-strasbg.fr/viz-bin/sed?-c=258.495841%2033.607137&amp;-c.rs=5</td></tr>\n",
       "<tr><td>2MASS J12035625+5950357</td><td>180.98438622915998</td><td>59.84333565783</td><td>2020yCat.1350....0G</td><td>Sy2</td><td>2009ApJS..182..543A</td><td>17986.65658111202</td><td>0.06191</td><td>z</td><td>9</td><td>*  |AGN|G  |IR |Sy1|Sy2</td><td>http://vizier.u-strasbg.fr/viz-bin/sed?-c=180.98438622915998%2059.84333565783&amp;-c.rs=5</td></tr>\n",
       "<tr><td>2MASX J16133909+3238356</td><td>243.41299961265</td><td>32.6432653885</td><td>2020yCat.1350....0G</td><td>Sy2</td><td>2012ApJS..203...21A</td><td>17885.370023389514</td><td>0.06155</td><td>z</td><td>2</td><td>*  |G  |Sy2</td><td>http://vizier.u-strasbg.fr/viz-bin/sed?-c=243.41299961265%2032.6432653885&amp;-c.rs=5</td></tr>\n",
       "<tr><td>SDSS J021348.53+125951.4</td><td>33.45224143463</td><td>12.99763649215</td><td>2020yCat.1350....0G</td><td>Sy1</td><td>2012ApJS..203...21A</td><td>58601.70874594985</td><td>0.21899</td><td>z</td><td>24</td><td>*  |AGN|G  |Sy1</td><td>http://vizier.u-strasbg.fr/viz-bin/sed?-c=33.45224143463%2012.99763649215&amp;-c.rs=5</td></tr>\n",
       "<tr><td>2MASSI J0844379+412432</td><td>131.15826432072</td><td>41.40904040396</td><td>2020yCat.1350....0G</td><td>Sy1</td><td>2012ApJS..203...21A</td><td>118382.82696125114</td><td>0.51827</td><td>z</td><td>23</td><td>*  |IR |Q? |QSO|Rad|Sy1</td><td>http://vizier.u-strasbg.fr/viz-bin/sed?-c=131.15826432072%2041.40904040396&amp;-c.rs=5</td></tr>\n",
       "<tr><td>NGC  4041</td><td>180.55099029047997</td><td>62.13724892342</td><td>2020yCat.1350....0G</td><td>SyG</td><td>2011yCat.2306....0A</td><td>1205.729175763741</td><td>0.00403</td><td>z</td><td>237</td><td>*  |G  |GiG|HI |IR |Rad|SyG|X</td><td>http://vizier.u-strasbg.fr/viz-bin/sed?-c=180.55099029047997%2062.13724892342&amp;-c.rs=5</td></tr>\n",
       "<tr><td>SDSS J135654.25+425916.9</td><td>209.22607246445997</td><td>42.988010311080004</td><td>2020yCat.1350....0G</td><td>Sy2</td><td>2009ApJS..182..543A</td><td>52795.50572691685</td><td>0.19478</td><td>z</td><td>7</td><td>*  |AGN|GiG|Sy1|Sy2</td><td>http://vizier.u-strasbg.fr/viz-bin/sed?-c=209.22607246445997%2042.988010311080004&amp;-c.rs=5</td></tr>\n",
       "<tr><td>2MASX J11390053+5913477</td><td>174.75215081707</td><td>59.22978784468</td><td>2020yCat.1350....0G</td><td>Sy1</td><td>2012ApJS..203...21A</td><td>32407.109206974397</td><td>0.11463</td><td>z</td><td>29</td><td>AGN|G  |QSO|Sy1|X</td><td>http://vizier.u-strasbg.fr/viz-bin/sed?-c=174.75215081707%2059.22978784468&amp;-c.rs=5</td></tr>\n",
       "</table></div>"
      ],
      "text/plain": [
       "<Table length=44272>\n",
       "         main_id           ...\n",
       "                           ...\n",
       "          object           ...\n",
       "-------------------------- ...\n",
       "           RX J1203.5+4432 ...\n",
       "   2MASX J12014361+4307386 ...\n",
       "  SDSS J144452.42+511957.5 ...\n",
       "    FIRST J083344.2+283939 ...\n",
       "  SDSS J091658.99+012604.8 ...\n",
       "             MCG+06-34-028 ...\n",
       "                   IC 3834 ...\n",
       "  SDSS J155011.46+233017.1 ...\n",
       "   2MASS J09260434+1501545 ...\n",
       "                       ... ...\n",
       "[VV2003c] J002413.7+002718 ...\n",
       "                  Z 502-26 ...\n",
       "   2MASX J17135898+3336254 ...\n",
       "   2MASS J12035625+5950357 ...\n",
       "   2MASX J16133909+3238356 ...\n",
       "  SDSS J021348.53+125951.4 ...\n",
       "    2MASSI J0844379+412432 ...\n",
       "                 NGC  4041 ...\n",
       "  SDSS J135654.25+425916.9 ...\n",
       "   2MASX J11390053+5913477 ..."
      ]
     },
     "execution_count": 2,
     "metadata": {},
     "output_type": "execute_result"
    }
   ],
   "source": [
    "path_raw='../Datos/Raw/'\n",
    "path_phot_data = '../Datos/Phot_Tables_NED/' #In this path was saved the photometry tables for each object\n",
    "Sample = Table.read(path_raw+'SMB_Mar_31_2022_Sy_Samples.vot',format='votable')\n",
    "Sample"
   ]
  },
  {
   "cell_type": "code",
   "execution_count": 39,
   "id": "29a6b347",
   "metadata": {
    "scrolled": true
   },
   "outputs": [],
   "source": [
    "cat_smb_sample = SkyCoord(ra=Sample['ra'], dec=Sample['dec'])"
   ]
  },
  {
   "cell_type": "code",
   "execution_count": 3,
   "id": "495aca3e",
   "metadata": {},
   "outputs": [
    {
     "data": {
      "text/html": [
       "<i>Row index=30037</i>\n",
       "<table id=\"table139750653445168\">\n",
       "<thead><tr><th>main_id</th><th>ra</th><th>dec</th><th>coo_bibcode</th><th>otype_txt</th><th>rvz_bibcode</th><th>rvz_radvel</th><th>rvz_redshift</th><th>rvz_type</th><th>nbref</th><th>otypes</th><th>cds_url</th></tr></thead>\n",
       "<thead><tr><th></th><th>deg</th><th>deg</th><th></th><th></th><th></th><th>km / s</th><th></th><th></th><th></th><th></th><th></th></tr></thead>\n",
       "<thead><tr><th>object</th><th>float64</th><th>float64</th><th>object</th><th>object</th><th>object</th><th>float64</th><th>float64</th><th>str1</th><th>int32</th><th>object</th><th>str93</th></tr></thead>\n",
       "<tr><td>2C  349</td><td>59.72682085409999</td><td>10.43410884888</td><td>2020yCat.1350....0G</td><td>Sy2</td><td>2011MNRAS.416.2840L</td><td>9130.0</td><td>0.0309325926265982</td><td>v</td><td>330</td><td>AGN|G  |Rad|Sy2|X</td><td>http://vizier.u-strasbg.fr/viz-bin/sed?-c=59.72682085409999%2010.43410884888&amp;-c.rs=5</td></tr>\n",
       "</table>"
      ],
      "text/plain": [
       "<Row index=30037>\n",
       "main_id         ra             dec           coo_bibcode     otype_txt     rvz_bibcode     rvz_radvel    rvz_redshift    rvz_type nbref       otypes                                            cds_url                                       \n",
       "               deg             deg                                                           km / s                                                                                                                                           \n",
       " object      float64         float64            object         object         object        float64        float64         str1   int32       object                                             str93                                        \n",
       "------- ----------------- -------------- ------------------- --------- ------------------- ---------- ------------------ -------- ----- ----------------- ------------------------------------------------------------------------------------\n",
       "2C  349 59.72682085409999 10.43410884888 2020yCat.1350....0G       Sy2 2011MNRAS.416.2840L     9130.0 0.0309325926265982        v   330 AGN|G  |Rad|Sy2|X http://vizier.u-strasbg.fr/viz-bin/sed?-c=59.72682085409999%2010.43410884888&-c.rs=5"
      ]
     },
     "execution_count": 3,
     "metadata": {},
     "output_type": "execute_result"
    }
   ],
   "source": [
    "Sample[30037]"
   ]
  },
  {
   "cell_type": "code",
   "execution_count": 11,
   "id": "0abff7f6",
   "metadata": {},
   "outputs": [
    {
     "data": {
      "text/html": [
       "<div><i>Table length=7</i>\n",
       "<table id=\"table139749609079520\" class=\"table-striped table-bordered table-condensed\">\n",
       "<thead><tr><th>ID</th></tr></thead>\n",
       "<thead><tr><th>bytes26</th></tr></thead>\n",
       "<tr><td>IRAS 18368+3549</td></tr>\n",
       "<tr><td>LEDA   90303</td></tr>\n",
       "<tr><td>2MASX J18383543+3552197</td></tr>\n",
       "<tr><td>PSCz Q18368+3549</td></tr>\n",
       "<tr><td>[VV2010c] J183835.4+355220</td></tr>\n",
       "<tr><td>[DG2000] 18368+3549</td></tr>\n",
       "<tr><td>IRAS Z18368+3549</td></tr>\n",
       "</table></div>"
      ],
      "text/plain": [
       "<Table length=7>\n",
       "            ID            \n",
       "         bytes26          \n",
       "--------------------------\n",
       "           IRAS 18368+3549\n",
       "              LEDA   90303\n",
       "   2MASX J18383543+3552197\n",
       "          PSCz Q18368+3549\n",
       "[VV2010c] J183835.4+355220\n",
       "       [DG2000] 18368+3549\n",
       "          IRAS Z18368+3549"
      ]
     },
     "execution_count": 11,
     "metadata": {},
     "output_type": "execute_result"
    }
   ],
   "source": [
    "other_ids = Simbad.query_objectids(Sample['main_id'][43670])\n",
    "other_ids"
   ]
  },
  {
   "cell_type": "code",
   "execution_count": 5,
   "id": "52b33827",
   "metadata": {},
   "outputs": [
    {
     "data": {
      "text/html": [
       "<div><i>Table length=211</i>\n",
       "<table id=\"table139749629418848\" class=\"table-striped table-bordered table-condensed\">\n",
       "<thead><tr><th>No.</th><th>Observed_Passband</th><th>Photometry_Measurement</th><th>Uncertainty</th><th>Units</th><th>Frequency</th><th>Flux_Density</th><th>Upper_limit_of_uncertainty</th><th>Lower_limit_of_uncertainty</th><th>Upper_limit_of_Flux_Density</th><th>Lower_limit_of_Flux_Density</th><th>NED_Uncertainty</th><th>NED_Units</th><th>Refcode</th><th>Significance</th><th>Published_frequency</th><th>Frequency_Mode</th><th>Coordinates_Targeted</th><th>Spatial_Mode</th><th>Qualifiers</th><th>Comments</th></tr></thead>\n",
       "<thead><tr><th></th><th></th><th></th><th></th><th></th><th>Hz</th><th>Jy</th><th></th><th></th><th></th><th></th><th></th><th></th><th></th><th></th><th></th><th></th><th></th><th></th><th></th><th></th></tr></thead>\n",
       "<thead><tr><th>int32</th><th>object</th><th>float64</th><th>object</th><th>object</th><th>float64</th><th>float64</th><th>float64</th><th>float64</th><th>float64</th><th>float64</th><th>object</th><th>object</th><th>object</th><th>object</th><th>object</th><th>object</th><th>object</th><th>object</th><th>object</th><th>object</th></tr></thead>\n",
       "<tr><td>1</td><td>15-150 keV (Swift)</td><td>6.8e-12</td><td>+/-4.1e-12</td><td>erg/cm^2^/s</td><td>1.99e+19</td><td>3.42e-08</td><td>2.06e-08</td><td>2.06e-08</td><td>--</td><td>--</td><td>+/-2.06E-08</td><td>Jy</td><td>2010A&amp;A...524A..64C</td><td>uncertainty</td><td>82.50 keV</td><td>Broad-band measurement</td><td>059.678 +10.402 (J2000)</td><td>Modelled datum</td><td></td><td>From new raw data; NED frequency assigned to mid-point ofband in keV</td></tr>\n",
       "<tr><td>2</td><td>2-10 keV (XMM)</td><td>2.62e-12</td><td></td><td>erg/cm^2^/s</td><td>1.45e+18</td><td>1.81e-07</td><td>--</td><td>--</td><td>--</td><td>--</td><td></td><td>Jy</td><td>2009ApJ...705..454N</td><td>no uncertainty reported</td><td>6.00 keV</td><td>Broad-band measurement</td><td></td><td>Total flux</td><td></td><td>From reprocessed raw data; NED frequency assigned tomid-point of band in keV</td></tr>\n",
       "<tr><td>3</td><td>2-7 keV (Chandra)</td><td>6.8298e-13</td><td>+/-20.18E-15</td><td>erg/cm^2^/s</td><td>1.09e+18</td><td>6.27e-08</td><td>1.85e-09</td><td>1.85e-09</td><td>--</td><td>--</td><td>+/-1.85E-09</td><td>Jy</td><td>2015ApJS..220....5M</td><td>1 sigma</td><td>4.50 keV</td><td>Broad-band measurement</td><td></td><td>Flux integrated from map</td><td></td><td>From reprocessed raw data; NED frequency assigned tomid-point of band in keV</td></tr>\n",
       "<tr><td>4</td><td>0.3-8 keV (Chandra)</td><td>7.79e-13</td><td></td><td>erg/cm^2^/s</td><td>1e+18</td><td>7.79e-08</td><td>--</td><td>--</td><td>--</td><td>--</td><td></td><td>Jy</td><td>2016ApJS..224...40W</td><td>no uncertainty reported</td><td>4.15 keV</td><td>Broad-band measurement</td><td></td><td>Flux integrated from map</td><td>Average flux</td><td>From reprocessed raw data; NED frequency assigned tomid-point of band in keV</td></tr>\n",
       "<tr><td>5</td><td>2-7 keV Chandra</td><td>6.7412e-15</td><td>+/-5.6626E-15</td><td>erg/cm^2/s</td><td>9.19e+17</td><td>7.34e-10</td><td>6.16e-10</td><td>6.16e-10</td><td>--</td><td>--</td><td>+/-6.16E-10</td><td>Jy</td><td>2020CSC...C2..0000:</td><td>68% confidence</td><td>3.8        keV</td><td>Broad-band measurement</td><td></td><td>Flux in fixed aperture</td><td>flux_aper;ext</td><td>From new raw data</td></tr>\n",
       "<tr><td>6</td><td>2-7 keV Chandra</td><td>6.7412e-15</td><td>+/-5.6626E-15</td><td>erg/cm^2/s</td><td>9.19e+17</td><td>7.34e-10</td><td>6.16e-10</td><td>6.16e-10</td><td>--</td><td>--</td><td>+/-6.16E-10</td><td>Jy</td><td>2020CSC...C2..0000:</td><td>68% confidence</td><td>3.8        keV</td><td>Broad-band measurement</td><td></td><td>Flux in fixed aperture</td><td>flux_aper_avg;ext</td><td>From new raw data</td></tr>\n",
       "<tr><td>7</td><td>2-7 keV Chandra</td><td>1.9973e-15</td><td>+/-2.1083E-15</td><td>erg/cm^2/s</td><td>9.19e+17</td><td>2.17e-10</td><td>2.29e-10</td><td>2.29e-10</td><td>--</td><td>--</td><td>+/-2.29E-10</td><td>Jy</td><td>2020CSC...C2..0000:</td><td>68% confidence</td><td>3.8        keV</td><td>Broad-band measurement</td><td></td><td>From fitting to map</td><td>flux_aper90;ext</td><td>From new raw data</td></tr>\n",
       "<tr><td>8</td><td>2-7 keV Chandra</td><td>1.9973e-15</td><td>+/-2.1083E-15</td><td>erg/cm^2/s</td><td>9.19e+17</td><td>2.17e-10</td><td>2.29e-10</td><td>2.29e-10</td><td>--</td><td>--</td><td>+/-2.29E-10</td><td>Jy</td><td>2020CSC...C2..0000:</td><td>68% confidence</td><td>3.8        keV</td><td>Broad-band measurement</td><td></td><td>From fitting to map</td><td>flux_aper90_avg;ext</td><td>From new raw data</td></tr>\n",
       "<tr><td>9</td><td>0.5-7 keV (Chandra)</td><td>6.9857e-13</td><td>+/-20.26E-15</td><td>erg/cm^2^/s</td><td>9.07e+17</td><td>7.7e-08</td><td>2.23e-09</td><td>2.23e-09</td><td>--</td><td>--</td><td>+/-2.23E-09</td><td>Jy</td><td>2015ApJS..220....5M</td><td>1 sigma</td><td>3.75 keV</td><td>Broad-band measurement</td><td></td><td>Flux integrated from map</td><td></td><td>From reprocessed raw data; NED frequency assigned tomid-point of band in keV</td></tr>\n",
       "<tr><td>...</td><td>...</td><td>...</td><td>...</td><td>...</td><td>...</td><td>...</td><td>...</td><td>...</td><td>...</td><td>...</td><td>...</td><td>...</td><td>...</td><td>...</td><td>...</td><td>...</td><td>...</td><td>...</td><td>...</td><td>...</td></tr>\n",
       "<tr><td>202</td><td>20.0 MHz</td><td>390.0</td><td>+/-17  %</td><td>Jy</td><td>20000000.0</td><td>390.0</td><td>66.0</td><td>66.0</td><td>--</td><td>--</td><td>+/-6.60E+01</td><td>Jy</td><td>1969MNRAS.143..289B</td><td>estimated error</td><td>20.0       MHz</td><td>Broad-band measurement</td><td></td><td>Total flux</td><td></td><td>From new raw data</td></tr>\n",
       "<tr><td>203</td><td>20 MHz</td><td>289.0</td><td>+/-29.00</td><td>Jy</td><td>20000000.0</td><td>289.0</td><td>29.0</td><td>29.0</td><td>--</td><td>--</td><td>+/-2.90E+01</td><td>Jy</td><td>1981A&amp;AS...45..367K</td><td>uncertainty</td><td>20   MHz</td><td>Broad-band measurement</td><td>035610.40 +101734.0 (B1950)</td><td>Not reported in paper</td><td>Recal. to Baars scale by factor of 1.23</td><td>Recalibrated data</td></tr>\n",
       "<tr><td>204</td><td>20 MHz (UTR-1)</td><td>3.9e-24</td><td>+/-17  %</td><td>W m^-2^ Hz^-1^</td><td>20000000.0</td><td>390.0</td><td>66.3</td><td>66.3</td><td>--</td><td>--</td><td>+/-6.63E+01</td><td>Jy</td><td>1969MNRAS.143..289B</td><td>uncertainty</td><td>20   MHz</td><td>Broad-band measurement</td><td>03 56 11.0 +10 17.2 (B1950)</td><td>Total flux</td><td></td><td>From new raw data</td></tr>\n",
       "<tr><td>205</td><td>16.7 MHz</td><td>420.0</td><td>+/-19  %</td><td>Jy</td><td>16700000.0</td><td>420.0</td><td>80.0</td><td>80.0</td><td>--</td><td>--</td><td>+/-8.00E+01</td><td>Jy</td><td>1969MNRAS.143..289B</td><td>estimated error</td><td>16.7       MHz</td><td>Broad-band measurement</td><td></td><td>Total flux</td><td></td><td>From new raw data</td></tr>\n",
       "<tr><td>206</td><td>16.7 MHz (UTR-1)</td><td>4.2e-24</td><td>+/-19  %</td><td>W m^-2^ Hz^-1^</td><td>16700000.0</td><td>420.0</td><td>79.8</td><td>79.8</td><td>--</td><td>--</td><td>+/-7.98E+01</td><td>Jy</td><td>1969MNRAS.143..289B</td><td>uncertainty</td><td>16.7   MHz</td><td>Broad-band measurement</td><td>03 56 11.0 +10 17.2 (B1950)</td><td>Total flux</td><td></td><td>From new raw data</td></tr>\n",
       "<tr><td>207</td><td>14.7 MHz (UTR-1)</td><td>4.8e-24</td><td>+/-23  %</td><td>W m^-2^ Hz^-1^</td><td>14700000.0</td><td>480.0</td><td>110.0</td><td>110.0</td><td>--</td><td>--</td><td>+/-1.10E+02</td><td>Jy</td><td>1969MNRAS.143..289B</td><td>uncertainty</td><td>14.7   MHz</td><td>Broad-band measurement</td><td>03 56 11.0 +10 17.2 (B1950)</td><td>Total flux</td><td></td><td>From new raw data</td></tr>\n",
       "<tr><td>208</td><td>14.7 MHz</td><td>480.0</td><td>+/-23  %</td><td>Jy</td><td>14700000.0</td><td>480.0</td><td>110.0</td><td>110.0</td><td>--</td><td>--</td><td>+/-1.10E+02</td><td>Jy</td><td>1969MNRAS.143..289B</td><td>estimated error</td><td>14.7       MHz</td><td>Broad-band measurement</td><td></td><td>Total flux</td><td></td><td>From new raw data</td></tr>\n",
       "<tr><td>209</td><td>12.6 MHz</td><td>880.0</td><td>+/-24  %</td><td>Jy</td><td>12600000.0</td><td>880.0</td><td>211.0</td><td>211.0</td><td>--</td><td>--</td><td>+/-2.11E+02</td><td>Jy</td><td>1969MNRAS.143..289B</td><td>estimated error</td><td>12.6       MHz</td><td>Broad-band measurement</td><td></td><td>Total flux</td><td></td><td>From new raw data</td></tr>\n",
       "<tr><td>210</td><td>12.6 MHz (UTR-1)</td><td>8.8e-24</td><td>+/-24  %</td><td>W m^-2^ Hz^-1^</td><td>12600000.0</td><td>880.0</td><td>211.0</td><td>211.0</td><td>--</td><td>--</td><td>+/-2.11E+02</td><td>Jy</td><td>1969MNRAS.143..289B</td><td>uncertainty</td><td>12.6   MHz</td><td>Broad-band measurement</td><td>03 56 11.0 +10 17.2 (B1950)</td><td>Total flux</td><td></td><td>From new raw data</td></tr>\n",
       "<tr><td>211</td><td>10 MHz</td><td>252.0</td><td>+/-66.000</td><td>Jy</td><td>10000000.0</td><td>252.0</td><td>66.0</td><td>66.0</td><td>--</td><td>--</td><td>+/-6.60E+01</td><td>Jy</td><td>1980MNRAS.190..903L</td><td>uncertainty</td><td>10         MHz</td><td>Broad-band measurement</td><td></td><td>Total flux</td><td></td><td>Homogenized from previously published data</td></tr>\n",
       "</table></div>"
      ],
      "text/plain": [
       "<Table length=211>\n",
       " No.  ...\n",
       "      ...\n",
       "int32 ...\n",
       "----- ...\n",
       "    1 ...\n",
       "    2 ...\n",
       "    3 ...\n",
       "    4 ...\n",
       "    5 ...\n",
       "    6 ...\n",
       "    7 ...\n",
       "    8 ...\n",
       "    9 ...\n",
       "  ... ...\n",
       "  202 ...\n",
       "  203 ...\n",
       "  204 ...\n",
       "  205 ...\n",
       "  206 ...\n",
       "  207 ...\n",
       "  208 ...\n",
       "  209 ...\n",
       "  210 ...\n",
       "  211 ..."
      ]
     },
     "execution_count": 5,
     "metadata": {},
     "output_type": "execute_result"
    }
   ],
   "source": [
    "i=30037\n",
    "phot_ned = Table.read(path_phot_data+Sample['main_id'][i]+'_NED_phot_tables'+'.vot', \n",
    "                      format='votable')\n",
    "phot_ned"
   ]
  },
  {
   "cell_type": "code",
   "execution_count": 7,
   "id": "cf35b843",
   "metadata": {},
   "outputs": [],
   "source": [
    "def photNED(name):\n",
    "    \n",
    "    phot_ned = Table()\n",
    "    id_used=[]\n",
    "    \n",
    "    try:\n",
    "        phot_ned = Ned.get_table(name, table='photometry') #We get the Photometry Table using first SIMBAD names\n",
    "        id_used = name\n",
    "    except:\n",
    "        other_ids = Simbad.query_objectids(name) #We get other IDs for the object from SIMBAD\n",
    "        for other_id in other_ids['ID']:\n",
    "            try:\n",
    "                phot_ned = Ned.get_table(other_id, table='photometry') #Photometry Table using other SIMBAD names\n",
    "                id_used = other_id\n",
    "                break\n",
    "            except:\n",
    "                if other_id == other_ids['ID'][-1]:\n",
    "                    continue\n",
    "    return phot_ned, id_used"
   ]
  },
  {
   "cell_type": "code",
   "execution_count": 8,
   "id": "50e1bd65",
   "metadata": {},
   "outputs": [
    {
     "data": {
      "text/plain": [
       "'2C  349'"
      ]
     },
     "execution_count": 8,
     "metadata": {},
     "output_type": "execute_result"
    }
   ],
   "source": [
    "Sample['main_id'][i]"
   ]
  },
  {
   "cell_type": "code",
   "execution_count": 9,
   "id": "aec807d8",
   "metadata": {},
   "outputs": [
    {
     "data": {
      "text/html": [
       "<div><i>Table length=211</i>\n",
       "<table id=\"table139749609346192\" class=\"table-striped table-bordered table-condensed\">\n",
       "<thead><tr><th>No.</th><th>Observed Passband</th><th>Photometry Measurement</th><th>Uncertainty</th><th>Units</th><th>Frequency</th><th>Flux Density</th><th>Upper limit of uncertainty</th><th>Lower limit of uncertainty</th><th>Upper limit of Flux Density</th><th>Lower limit of Flux Density</th><th>NED Uncertainty</th><th>NED Units</th><th>Refcode</th><th>Significance</th><th>Published frequency</th><th>Frequency Mode</th><th>Coordinates Targeted</th><th>Spatial Mode</th><th>Qualifiers</th><th>Comments</th></tr></thead>\n",
       "<thead><tr><th></th><th></th><th></th><th></th><th></th><th>Hz</th><th>Jy</th><th></th><th></th><th></th><th></th><th></th><th></th><th></th><th></th><th></th><th></th><th></th><th></th><th></th><th></th></tr></thead>\n",
       "<thead><tr><th>int32</th><th>object</th><th>float64</th><th>object</th><th>object</th><th>float64</th><th>float64</th><th>float64</th><th>float64</th><th>float64</th><th>float64</th><th>object</th><th>object</th><th>object</th><th>object</th><th>object</th><th>object</th><th>object</th><th>object</th><th>object</th><th>object</th></tr></thead>\n",
       "<tr><td>1</td><td>15-150 keV (Swift)</td><td>6.8e-12</td><td>+/-4.1e-12</td><td>erg/cm^2^/s</td><td>1.99e+19</td><td>3.42e-08</td><td>2.06e-08</td><td>2.06e-08</td><td>--</td><td>--</td><td>+/-2.06E-08</td><td>Jy</td><td>2010A&amp;A...524A..64C</td><td>uncertainty</td><td>82.50 keV</td><td>Broad-band measurement</td><td>059.678 +10.402 (J2000)</td><td>Modelled datum</td><td></td><td>From new raw data; NED frequency assigned to mid-point ofband in keV</td></tr>\n",
       "<tr><td>2</td><td>2-10 keV (XMM)</td><td>2.62e-12</td><td></td><td>erg/cm^2^/s</td><td>1.45e+18</td><td>1.81e-07</td><td>--</td><td>--</td><td>--</td><td>--</td><td></td><td>Jy</td><td>2009ApJ...705..454N</td><td>no uncertainty reported</td><td>6.00 keV</td><td>Broad-band measurement</td><td></td><td>Total flux</td><td></td><td>From reprocessed raw data; NED frequency assigned tomid-point of band in keV</td></tr>\n",
       "<tr><td>3</td><td>2-7 keV (Chandra)</td><td>6.8298e-13</td><td>+/-20.18E-15</td><td>erg/cm^2^/s</td><td>1.09e+18</td><td>6.27e-08</td><td>1.85e-09</td><td>1.85e-09</td><td>--</td><td>--</td><td>+/-1.85E-09</td><td>Jy</td><td>2015ApJS..220....5M</td><td>1 sigma</td><td>4.50 keV</td><td>Broad-band measurement</td><td></td><td>Flux integrated from map</td><td></td><td>From reprocessed raw data; NED frequency assigned tomid-point of band in keV</td></tr>\n",
       "<tr><td>4</td><td>0.3-8 keV (Chandra)</td><td>7.79e-13</td><td></td><td>erg/cm^2^/s</td><td>1e+18</td><td>7.79e-08</td><td>--</td><td>--</td><td>--</td><td>--</td><td></td><td>Jy</td><td>2016ApJS..224...40W</td><td>no uncertainty reported</td><td>4.15 keV</td><td>Broad-band measurement</td><td></td><td>Flux integrated from map</td><td>Average flux</td><td>From reprocessed raw data; NED frequency assigned tomid-point of band in keV</td></tr>\n",
       "<tr><td>5</td><td>2-7 keV Chandra</td><td>6.7412e-15</td><td>+/-5.6626E-15</td><td>erg/cm^2/s</td><td>9.19e+17</td><td>7.34e-10</td><td>6.16e-10</td><td>6.16e-10</td><td>--</td><td>--</td><td>+/-6.16E-10</td><td>Jy</td><td>2020CSC...C2..0000:</td><td>68% confidence</td><td>3.8        keV</td><td>Broad-band measurement</td><td></td><td>Flux in fixed aperture</td><td>flux_aper;ext</td><td>From new raw data</td></tr>\n",
       "<tr><td>6</td><td>2-7 keV Chandra</td><td>6.7412e-15</td><td>+/-5.6626E-15</td><td>erg/cm^2/s</td><td>9.19e+17</td><td>7.34e-10</td><td>6.16e-10</td><td>6.16e-10</td><td>--</td><td>--</td><td>+/-6.16E-10</td><td>Jy</td><td>2020CSC...C2..0000:</td><td>68% confidence</td><td>3.8        keV</td><td>Broad-band measurement</td><td></td><td>Flux in fixed aperture</td><td>flux_aper_avg;ext</td><td>From new raw data</td></tr>\n",
       "<tr><td>7</td><td>2-7 keV Chandra</td><td>1.9973e-15</td><td>+/-2.1083E-15</td><td>erg/cm^2/s</td><td>9.19e+17</td><td>2.17e-10</td><td>2.29e-10</td><td>2.29e-10</td><td>--</td><td>--</td><td>+/-2.29E-10</td><td>Jy</td><td>2020CSC...C2..0000:</td><td>68% confidence</td><td>3.8        keV</td><td>Broad-band measurement</td><td></td><td>From fitting to map</td><td>flux_aper90;ext</td><td>From new raw data</td></tr>\n",
       "<tr><td>8</td><td>2-7 keV Chandra</td><td>1.9973e-15</td><td>+/-2.1083E-15</td><td>erg/cm^2/s</td><td>9.19e+17</td><td>2.17e-10</td><td>2.29e-10</td><td>2.29e-10</td><td>--</td><td>--</td><td>+/-2.29E-10</td><td>Jy</td><td>2020CSC...C2..0000:</td><td>68% confidence</td><td>3.8        keV</td><td>Broad-band measurement</td><td></td><td>From fitting to map</td><td>flux_aper90_avg;ext</td><td>From new raw data</td></tr>\n",
       "<tr><td>9</td><td>0.5-7 keV (Chandra)</td><td>6.9857e-13</td><td>+/-20.26E-15</td><td>erg/cm^2^/s</td><td>9.07e+17</td><td>7.7e-08</td><td>2.23e-09</td><td>2.23e-09</td><td>--</td><td>--</td><td>+/-2.23E-09</td><td>Jy</td><td>2015ApJS..220....5M</td><td>1 sigma</td><td>3.75 keV</td><td>Broad-band measurement</td><td></td><td>Flux integrated from map</td><td></td><td>From reprocessed raw data; NED frequency assigned tomid-point of band in keV</td></tr>\n",
       "<tr><td>...</td><td>...</td><td>...</td><td>...</td><td>...</td><td>...</td><td>...</td><td>...</td><td>...</td><td>...</td><td>...</td><td>...</td><td>...</td><td>...</td><td>...</td><td>...</td><td>...</td><td>...</td><td>...</td><td>...</td><td>...</td></tr>\n",
       "<tr><td>202</td><td>20.0 MHz</td><td>390.0</td><td>+/-17  %</td><td>Jy</td><td>20000000.0</td><td>390.0</td><td>66.0</td><td>66.0</td><td>--</td><td>--</td><td>+/-6.60E+01</td><td>Jy</td><td>1969MNRAS.143..289B</td><td>estimated error</td><td>20.0       MHz</td><td>Broad-band measurement</td><td></td><td>Total flux</td><td></td><td>From new raw data</td></tr>\n",
       "<tr><td>203</td><td>20 MHz</td><td>289.0</td><td>+/-29.00</td><td>Jy</td><td>20000000.0</td><td>289.0</td><td>29.0</td><td>29.0</td><td>--</td><td>--</td><td>+/-2.90E+01</td><td>Jy</td><td>1981A&amp;AS...45..367K</td><td>uncertainty</td><td>20   MHz</td><td>Broad-band measurement</td><td>035610.40 +101734.0 (B1950)</td><td>Not reported in paper</td><td>Recal. to Baars scale by factor of 1.23</td><td>Recalibrated data</td></tr>\n",
       "<tr><td>204</td><td>20 MHz (UTR-1)</td><td>3.9e-24</td><td>+/-17  %</td><td>W m^-2^ Hz^-1^</td><td>20000000.0</td><td>390.0</td><td>66.3</td><td>66.3</td><td>--</td><td>--</td><td>+/-6.63E+01</td><td>Jy</td><td>1969MNRAS.143..289B</td><td>uncertainty</td><td>20   MHz</td><td>Broad-band measurement</td><td>03 56 11.0 +10 17.2 (B1950)</td><td>Total flux</td><td></td><td>From new raw data</td></tr>\n",
       "<tr><td>205</td><td>16.7 MHz</td><td>420.0</td><td>+/-19  %</td><td>Jy</td><td>16700000.0</td><td>420.0</td><td>80.0</td><td>80.0</td><td>--</td><td>--</td><td>+/-8.00E+01</td><td>Jy</td><td>1969MNRAS.143..289B</td><td>estimated error</td><td>16.7       MHz</td><td>Broad-band measurement</td><td></td><td>Total flux</td><td></td><td>From new raw data</td></tr>\n",
       "<tr><td>206</td><td>16.7 MHz (UTR-1)</td><td>4.2e-24</td><td>+/-19  %</td><td>W m^-2^ Hz^-1^</td><td>16700000.0</td><td>420.0</td><td>79.8</td><td>79.8</td><td>--</td><td>--</td><td>+/-7.98E+01</td><td>Jy</td><td>1969MNRAS.143..289B</td><td>uncertainty</td><td>16.7   MHz</td><td>Broad-band measurement</td><td>03 56 11.0 +10 17.2 (B1950)</td><td>Total flux</td><td></td><td>From new raw data</td></tr>\n",
       "<tr><td>207</td><td>14.7 MHz (UTR-1)</td><td>4.8e-24</td><td>+/-23  %</td><td>W m^-2^ Hz^-1^</td><td>14700000.0</td><td>480.0</td><td>110.0</td><td>110.0</td><td>--</td><td>--</td><td>+/-1.10E+02</td><td>Jy</td><td>1969MNRAS.143..289B</td><td>uncertainty</td><td>14.7   MHz</td><td>Broad-band measurement</td><td>03 56 11.0 +10 17.2 (B1950)</td><td>Total flux</td><td></td><td>From new raw data</td></tr>\n",
       "<tr><td>208</td><td>14.7 MHz</td><td>480.0</td><td>+/-23  %</td><td>Jy</td><td>14700000.0</td><td>480.0</td><td>110.0</td><td>110.0</td><td>--</td><td>--</td><td>+/-1.10E+02</td><td>Jy</td><td>1969MNRAS.143..289B</td><td>estimated error</td><td>14.7       MHz</td><td>Broad-band measurement</td><td></td><td>Total flux</td><td></td><td>From new raw data</td></tr>\n",
       "<tr><td>209</td><td>12.6 MHz</td><td>880.0</td><td>+/-24  %</td><td>Jy</td><td>12600000.0</td><td>880.0</td><td>211.0</td><td>211.0</td><td>--</td><td>--</td><td>+/-2.11E+02</td><td>Jy</td><td>1969MNRAS.143..289B</td><td>estimated error</td><td>12.6       MHz</td><td>Broad-band measurement</td><td></td><td>Total flux</td><td></td><td>From new raw data</td></tr>\n",
       "<tr><td>210</td><td>12.6 MHz (UTR-1)</td><td>8.8e-24</td><td>+/-24  %</td><td>W m^-2^ Hz^-1^</td><td>12600000.0</td><td>880.0</td><td>211.0</td><td>211.0</td><td>--</td><td>--</td><td>+/-2.11E+02</td><td>Jy</td><td>1969MNRAS.143..289B</td><td>uncertainty</td><td>12.6   MHz</td><td>Broad-band measurement</td><td>03 56 11.0 +10 17.2 (B1950)</td><td>Total flux</td><td></td><td>From new raw data</td></tr>\n",
       "<tr><td>211</td><td>10 MHz</td><td>252.0</td><td>+/-66.000</td><td>Jy</td><td>10000000.0</td><td>252.0</td><td>66.0</td><td>66.0</td><td>--</td><td>--</td><td>+/-6.60E+01</td><td>Jy</td><td>1980MNRAS.190..903L</td><td>uncertainty</td><td>10         MHz</td><td>Broad-band measurement</td><td></td><td>Total flux</td><td></td><td>Homogenized from previously published data</td></tr>\n",
       "</table></div>"
      ],
      "text/plain": [
       "<Table length=211>\n",
       " No.  ...\n",
       "      ...\n",
       "int32 ...\n",
       "----- ...\n",
       "    1 ...\n",
       "    2 ...\n",
       "    3 ...\n",
       "    4 ...\n",
       "    5 ...\n",
       "    6 ...\n",
       "    7 ...\n",
       "    8 ...\n",
       "    9 ...\n",
       "  ... ...\n",
       "  202 ...\n",
       "  203 ...\n",
       "  204 ...\n",
       "  205 ...\n",
       "  206 ...\n",
       "  207 ...\n",
       "  208 ...\n",
       "  209 ...\n",
       "  210 ...\n",
       "  211 ..."
      ]
     },
     "execution_count": 9,
     "metadata": {},
     "output_type": "execute_result"
    }
   ],
   "source": [
    "phot_t,name_ned = photNED(Sample['main_id'][30037])\n",
    "phot_t"
   ]
  },
  {
   "cell_type": "code",
   "execution_count": 10,
   "id": "38989156",
   "metadata": {},
   "outputs": [
    {
     "data": {
      "text/plain": [
       "'1Jy 0356+10'"
      ]
     },
     "execution_count": 10,
     "metadata": {},
     "output_type": "execute_result"
    }
   ],
   "source": [
    "name_ned"
   ]
  },
  {
   "cell_type": "code",
   "execution_count": 64,
   "id": "3336ac49",
   "metadata": {},
   "outputs": [
    {
     "data": {
      "text/html": [
       "&lt;MaskedColumn name=&apos;Object Name&apos; dtype=&apos;str30&apos; description=&apos;NED preferred name for the object&apos; length=1&gt;\n",
       "<table>\n",
       "<tr><td>LQAC 196+028 008</td></tr>\n",
       "</table>"
      ],
      "text/plain": [
       "<MaskedColumn name='Object Name' dtype='str30' description='NED preferred name for the object' length=1>\n",
       "LQAC 196+028 008"
      ]
     },
     "execution_count": 64,
     "metadata": {},
     "output_type": "execute_result"
    }
   ],
   "source": [
    "result_t = Ned.query_region(cat_smb_sample[505],radius=5 * u.arcsec)\n",
    "id_ned = result_t[\"Object Name\"] \n",
    "id_ned"
   ]
  },
  {
   "cell_type": "code",
   "execution_count": 65,
   "id": "8d9687e1",
   "metadata": {},
   "outputs": [
    {
     "ename": "RemoteServiceError",
     "evalue": "The remote service returned the following error message.\nERROR:  No Photometric data points found.",
     "output_type": "error",
     "traceback": [
      "\u001b[0;31m---------------------------------------------------------------------------\u001b[0m",
      "\u001b[0;31mIndexError\u001b[0m                                Traceback (most recent call last)",
      "File \u001b[0;32m~/anaconda3/lib/python3.9/site-packages/astroquery/ipac/ned/core.py:704\u001b[0m, in \u001b[0;36mNedClass._parse_result\u001b[0;34m(self, response, verbose)\u001b[0m\n\u001b[1;32m    703\u001b[0m tf \u001b[38;5;241m=\u001b[39m BytesIO(response\u001b[38;5;241m.\u001b[39mcontent)\n\u001b[0;32m--> 704\u001b[0m first_table \u001b[38;5;241m=\u001b[39m \u001b[43mvotable\u001b[49m\u001b[38;5;241;43m.\u001b[39;49m\u001b[43mparse\u001b[49m\u001b[43m(\u001b[49m\u001b[43mtf\u001b[49m\u001b[43m,\u001b[49m\u001b[43m \u001b[49m\u001b[43mverify\u001b[49m\u001b[38;5;241;43m=\u001b[39;49m\u001b[38;5;124;43m'\u001b[39;49m\u001b[38;5;124;43mwarn\u001b[39;49m\u001b[38;5;124;43m'\u001b[39;49m\u001b[43m)\u001b[49m\u001b[38;5;241;43m.\u001b[39;49m\u001b[43mget_first_table\u001b[49m\u001b[43m(\u001b[49m\u001b[43m)\u001b[49m\n\u001b[1;32m    705\u001b[0m table \u001b[38;5;241m=\u001b[39m first_table\u001b[38;5;241m.\u001b[39mto_table(use_names_over_ids\u001b[38;5;241m=\u001b[39m\u001b[38;5;28;01mTrue\u001b[39;00m)\n",
      "File \u001b[0;32m~/anaconda3/lib/python3.9/site-packages/astropy/io/votable/tree.py:3719\u001b[0m, in \u001b[0;36mVOTableFile.get_first_table\u001b[0;34m(self)\u001b[0m\n\u001b[1;32m   3718\u001b[0m         \u001b[38;5;28;01mreturn\u001b[39;00m table\n\u001b[0;32m-> 3719\u001b[0m \u001b[38;5;28;01mraise\u001b[39;00m \u001b[38;5;167;01mIndexError\u001b[39;00m(\u001b[38;5;124m\"\u001b[39m\u001b[38;5;124mNo table found in VOTABLE file.\u001b[39m\u001b[38;5;124m\"\u001b[39m)\n",
      "\u001b[0;31mIndexError\u001b[0m: No table found in VOTABLE file.",
      "\nDuring handling of the above exception, another exception occurred:\n",
      "\u001b[0;31mRemoteServiceError\u001b[0m                        Traceback (most recent call last)",
      "Input \u001b[0;32mIn [65]\u001b[0m, in \u001b[0;36m<cell line: 1>\u001b[0;34m()\u001b[0m\n\u001b[0;32m----> 1\u001b[0m phot_ta \u001b[38;5;241m=\u001b[39m \u001b[43mNed\u001b[49m\u001b[38;5;241;43m.\u001b[39;49m\u001b[43mget_table\u001b[49m\u001b[43m(\u001b[49m\u001b[43mid_ned\u001b[49m\u001b[43m,\u001b[49m\u001b[43m \u001b[49m\u001b[43mtable\u001b[49m\u001b[38;5;241;43m=\u001b[39;49m\u001b[38;5;124;43m'\u001b[39;49m\u001b[38;5;124;43mphotometry\u001b[39;49m\u001b[38;5;124;43m'\u001b[39;49m\u001b[43m)\u001b[49m\n",
      "File \u001b[0;32m~/anaconda3/lib/python3.9/site-packages/astroquery/ipac/ned/core.py:574\u001b[0m, in \u001b[0;36mNedClass.get_table\u001b[0;34m(self, object_name, table, get_query_payload, verbose, **kwargs)\u001b[0m\n\u001b[1;32m    572\u001b[0m \u001b[38;5;28;01mif\u001b[39;00m get_query_payload:\n\u001b[1;32m    573\u001b[0m     \u001b[38;5;28;01mreturn\u001b[39;00m response\n\u001b[0;32m--> 574\u001b[0m result \u001b[38;5;241m=\u001b[39m \u001b[38;5;28;43mself\u001b[39;49m\u001b[38;5;241;43m.\u001b[39;49m\u001b[43m_parse_result\u001b[49m\u001b[43m(\u001b[49m\u001b[43mresponse\u001b[49m\u001b[43m,\u001b[49m\u001b[43m \u001b[49m\u001b[43mverbose\u001b[49m\u001b[38;5;241;43m=\u001b[39;49m\u001b[43mverbose\u001b[49m\u001b[43m)\u001b[49m\n\u001b[1;32m    575\u001b[0m \u001b[38;5;28;01mreturn\u001b[39;00m result\n",
      "File \u001b[0;32m~/anaconda3/lib/python3.9/site-packages/astroquery/ipac/ned/core.py:711\u001b[0m, in \u001b[0;36mNedClass._parse_result\u001b[0;34m(self, response, verbose)\u001b[0m\n\u001b[1;32m    709\u001b[0m \u001b[38;5;28;01mif\u001b[39;00m \u001b[38;5;129;01mnot\u001b[39;00m is_valid:\n\u001b[1;32m    710\u001b[0m     \u001b[38;5;28;01mif\u001b[39;00m err_msg:\n\u001b[0;32m--> 711\u001b[0m         \u001b[38;5;28;01mraise\u001b[39;00m RemoteServiceError(\n\u001b[1;32m    712\u001b[0m             \u001b[38;5;124m\"\u001b[39m\u001b[38;5;124mThe remote service returned the following error \u001b[39m\u001b[38;5;124m\"\u001b[39m\n\u001b[1;32m    713\u001b[0m             \u001b[38;5;124m\"\u001b[39m\u001b[38;5;124mmessage.\u001b[39m\u001b[38;5;130;01m\\n\u001b[39;00m\u001b[38;5;124mERROR: \u001b[39m\u001b[38;5;132;01m{err_msg}\u001b[39;00m\u001b[38;5;124m\"\u001b[39m\u001b[38;5;241m.\u001b[39mformat(err_msg\u001b[38;5;241m=\u001b[39merr_msg))\n\u001b[1;32m    714\u001b[0m     \u001b[38;5;28;01melse\u001b[39;00m:\n\u001b[1;32m    715\u001b[0m         \u001b[38;5;28;01mraise\u001b[39;00m RemoteServiceError(\n\u001b[1;32m    716\u001b[0m             \u001b[38;5;124m\"\u001b[39m\u001b[38;5;124mThe remote service returned an error, but with no \u001b[39m\u001b[38;5;124m\"\u001b[39m\n\u001b[1;32m    717\u001b[0m             \u001b[38;5;124m\"\u001b[39m\u001b[38;5;124mmessage.\u001b[39m\u001b[38;5;124m\"\u001b[39m)\n",
      "\u001b[0;31mRemoteServiceError\u001b[0m: The remote service returned the following error message.\nERROR:  No Photometric data points found."
     ]
    }
   ],
   "source": [
    "phot_ta = Ned.get_table(id_ned, table='photometry')"
   ]
  },
  {
   "cell_type": "code",
   "execution_count": 12,
   "id": "24c6b720",
   "metadata": {},
   "outputs": [],
   "source": [
    "req = requests.get(Sample['cds_url'][283], \n",
    "                   headers={'cache-control': 'private, max-age=0, no-cache', \"Pragma\": \"no-cache\"})\n",
    "if req.status_code == 200:\n",
    "    with open(Sample['main_id'][283]+'.vot', 'wb') as f_vot:\n",
    "        f_vot.write(req.content)\n",
    "        f_vot.close()"
   ]
  },
  {
   "cell_type": "code",
   "execution_count": 22,
   "id": "ecfe7d40",
   "metadata": {},
   "outputs": [],
   "source": [
    "cds_table = Table.read(Sample['main_id'][283]+'.vot', format='votable')"
   ]
  },
  {
   "cell_type": "code",
   "execution_count": 29,
   "id": "29a2581b",
   "metadata": {},
   "outputs": [
    {
     "data": {
      "text/html": [
       "<div><i>Table length=20</i>\n",
       "<table id=\"table140084204046272\" class=\"table-striped table-bordered table-condensed\">\n",
       "<thead><tr><th>_RAJ2000</th><th>_DEJ2000</th><th>_tabname</th><th>_ID</th><th>_tab1_31</th><th>_tab1_32</th><th>sed_freq</th><th>sed_flux</th><th>sed_eflux</th><th>sed_filter</th></tr></thead>\n",
       "<thead><tr><th>deg</th><th>deg</th><th></th><th></th><th>d</th><th>s</th><th>GHz</th><th>Jy</th><th>Jy</th><th></th></tr></thead>\n",
       "<thead><tr><th>float64</th><th>float64</th><th>str32</th><th>str64</th><th>float64</th><th>float64</th><th>float64</th><th>float32</th><th>float32</th><th>str32</th></tr></thead>\n",
       "<tr><td>150.457106620</td><td>28.786526357</td><td>I/350/gaiaedr3</td><td>-c=150.45710661986 +28.78652635685,eq=ICRS&amp;-c.rs=0.004</td><td>--</td><td>0.0</td><td>393400</td><td>5.87e-05</td><td>9.6e-06</td><td>GAIA/GAIA3:Grp</td></tr>\n",
       "<tr><td>150.457106620</td><td>28.786526357</td><td>I/350/gaiaedr3</td><td>-c=150.45710661986 +28.78652635685,eq=ICRS&amp;-c.rs=0.004</td><td>--</td><td>0.0</td><td>514900</td><td>1.06e-05</td><td>2e-07</td><td>GAIA/GAIA3:G</td></tr>\n",
       "<tr><td>150.457106620</td><td>28.786526357</td><td>I/350/gaiaedr3</td><td>-c=150.45710661986 +28.78652635685,eq=ICRS&amp;-c.rs=0.004</td><td>--</td><td>0.0</td><td>595300</td><td>1.7e-05</td><td>3.6e-06</td><td>GAIA/GAIA3:Gbp</td></tr>\n",
       "<tr><td>150.456344196</td><td>28.785809265</td><td>I/353/gsc242</td><td>-c=150.45634514424 +28.78581193911,eq=ICRS&amp;-c.rs=0.004</td><td>--</td><td>0.0</td><td>13571</td><td>0.299</td><td>0.005</td><td>WISE:W4</td></tr>\n",
       "<tr><td>150.456344196</td><td>28.785809265</td><td>I/353/gsc242</td><td>-c=150.45634514424 +28.78581193911,eq=ICRS&amp;-c.rs=0.004</td><td>--</td><td>0.0</td><td>25934</td><td>0.112</td><td>0.002</td><td>WISE:W3</td></tr>\n",
       "<tr><td>150.456344196</td><td>28.785809265</td><td>I/353/gsc242</td><td>-c=150.45634514424 +28.78581193911,eq=ICRS&amp;-c.rs=0.004</td><td>--</td><td>0.0</td><td>65172</td><td>0.0248</td><td>0.0005</td><td>WISE:W2</td></tr>\n",
       "<tr><td>150.456344196</td><td>28.785809265</td><td>I/353/gsc242</td><td>-c=150.45634514424 +28.78581193911,eq=ICRS&amp;-c.rs=0.004</td><td>--</td><td>0.0</td><td>89490</td><td>0.0114</td><td>0.0002</td><td>WISE:W1</td></tr>\n",
       "<tr><td>150.456344196</td><td>28.785809265</td><td>I/353/gsc242</td><td>-c=150.45634514424 +28.78581193911,eq=ICRS&amp;-c.rs=0.004</td><td>--</td><td>0.0</td><td>138550</td><td>0.005</td><td>0.00015</td><td>2MASS:Ks</td></tr>\n",
       "<tr><td>150.456344196</td><td>28.785809265</td><td>I/353/gsc242</td><td>-c=150.45634514424 +28.78581193911,eq=ICRS&amp;-c.rs=0.004</td><td>--</td><td>0.0</td><td>181750</td><td>0.00215</td><td>0.0001</td><td>2MASS:H</td></tr>\n",
       "<tr><td>150.456344196</td><td>28.785809265</td><td>I/353/gsc242</td><td>-c=150.45634514424 +28.78581193911,eq=ICRS&amp;-c.rs=0.004</td><td>--</td><td>0.0</td><td>241960</td><td>0.00116</td><td>6e-05</td><td>2MASS:J</td></tr>\n",
       "<tr><td>150.456344196</td><td>28.785809265</td><td>I/353/gsc242</td><td>-c=150.45634514424 +28.78581193911,eq=ICRS&amp;-c.rs=0.004</td><td>--</td><td>0.0</td><td>332440</td><td>0.00046</td><td>1.4e-05</td><td>SDSS:z</td></tr>\n",
       "<tr><td>150.456344196</td><td>28.785809265</td><td>I/353/gsc242</td><td>-c=150.45634514424 +28.78581193911,eq=ICRS&amp;-c.rs=0.004</td><td>--</td><td>0.0</td><td>392660</td><td>0.000628</td><td>5e-06</td><td>SDSS:i</td></tr>\n",
       "<tr><td>150.456344196</td><td>28.785809265</td><td>I/353/gsc242</td><td>-c=150.45634514424 +28.78581193911,eq=ICRS&amp;-c.rs=0.004</td><td>--</td><td>0.0</td><td>445460</td><td>0.000273</td><td>4e-06</td><td>Gaia:G</td></tr>\n",
       "<tr><td>150.456344196</td><td>28.785809265</td><td>I/353/gsc242</td><td>-c=150.45634514424 +28.78581193911,eq=ICRS&amp;-c.rs=0.004</td><td>--</td><td>0.0</td><td>445460</td><td>0.000642</td><td>4e-06</td><td>Gaia:G</td></tr>\n",
       "<tr><td>150.456344196</td><td>28.785809265</td><td>I/353/gsc242</td><td>-c=150.45634514424 +28.78581193911,eq=ICRS&amp;-c.rs=0.004</td><td>--</td><td>0.0</td><td>445460</td><td>0.000259</td><td>1e-06</td><td>Gaia:G</td></tr>\n",
       "<tr><td>150.456344196</td><td>28.785809265</td><td>I/353/gsc242</td><td>-c=150.45634514424 +28.78581193911,eq=ICRS&amp;-c.rs=0.004</td><td>--</td><td>0.0</td><td>479900</td><td>0.000454</td><td>5e-06</td><td>SDSS:r</td></tr>\n",
       "<tr><td>150.456344196</td><td>28.785809265</td><td>I/353/gsc242</td><td>-c=150.45634514424 +28.78581193911,eq=ICRS&amp;-c.rs=0.004</td><td>--</td><td>0.0</td><td>621980</td><td>0.000176</td><td>1e-06</td><td>SDSS:g</td></tr>\n",
       "<tr><td>150.456344196</td><td>28.785809265</td><td>I/353/gsc242</td><td>-c=150.45634514424 +28.78581193911,eq=ICRS&amp;-c.rs=0.004</td><td>--</td><td>0.0</td><td>851920</td><td>0.000142</td><td>2e-06</td><td>SDSS:u</td></tr>\n",
       "<tr><td>150.456344196</td><td>28.785809265</td><td>I/353/gsc242</td><td>-c=150.45634514424 +28.78581193911,eq=ICRS&amp;-c.rs=0.004</td><td>--</td><td>0.0</td><td>1.2967e+06</td><td>7.86e-05</td><td>3e-06</td><td>GALEX:NUV</td></tr>\n",
       "<tr><td>150.456344196</td><td>28.785809265</td><td>I/353/gsc242</td><td>-c=150.45634514424 +28.78581193911,eq=ICRS&amp;-c.rs=0.004</td><td>--</td><td>0.0</td><td>1.9607e+06</td><td>0.000101</td><td>7e-06</td><td>GALEX:FUV</td></tr>\n",
       "</table></div>"
      ],
      "text/plain": [
       "<Table length=20>\n",
       "   _RAJ2000      _DEJ2000      _tabname    ... sed_eflux   sed_filter  \n",
       "     deg           deg                     ...     Jy                  \n",
       "   float64       float64        str32      ...  float32      str32     \n",
       "------------- ------------- -------------- ... --------- --------------\n",
       "150.457106620  28.786526357 I/350/gaiaedr3 ...   9.6e-06 GAIA/GAIA3:Grp\n",
       "150.457106620  28.786526357 I/350/gaiaedr3 ...     2e-07   GAIA/GAIA3:G\n",
       "150.457106620  28.786526357 I/350/gaiaedr3 ...   3.6e-06 GAIA/GAIA3:Gbp\n",
       "150.456344196  28.785809265   I/353/gsc242 ...     0.005        WISE:W4\n",
       "150.456344196  28.785809265   I/353/gsc242 ...     0.002        WISE:W3\n",
       "150.456344196  28.785809265   I/353/gsc242 ...    0.0005        WISE:W2\n",
       "150.456344196  28.785809265   I/353/gsc242 ...    0.0002        WISE:W1\n",
       "150.456344196  28.785809265   I/353/gsc242 ...   0.00015       2MASS:Ks\n",
       "150.456344196  28.785809265   I/353/gsc242 ...    0.0001        2MASS:H\n",
       "150.456344196  28.785809265   I/353/gsc242 ...     6e-05        2MASS:J\n",
       "150.456344196  28.785809265   I/353/gsc242 ...   1.4e-05         SDSS:z\n",
       "150.456344196  28.785809265   I/353/gsc242 ...     5e-06         SDSS:i\n",
       "150.456344196  28.785809265   I/353/gsc242 ...     4e-06         Gaia:G\n",
       "150.456344196  28.785809265   I/353/gsc242 ...     4e-06         Gaia:G\n",
       "150.456344196  28.785809265   I/353/gsc242 ...     1e-06         Gaia:G\n",
       "150.456344196  28.785809265   I/353/gsc242 ...     5e-06         SDSS:r\n",
       "150.456344196  28.785809265   I/353/gsc242 ...     1e-06         SDSS:g\n",
       "150.456344196  28.785809265   I/353/gsc242 ...     2e-06         SDSS:u\n",
       "150.456344196  28.785809265   I/353/gsc242 ...     3e-06      GALEX:NUV\n",
       "150.456344196  28.785809265   I/353/gsc242 ...     7e-06      GALEX:FUV"
      ]
     },
     "execution_count": 29,
     "metadata": {},
     "output_type": "execute_result"
    }
   ],
   "source": [
    "cds_table[40:60]"
   ]
  },
  {
   "cell_type": "code",
   "execution_count": 25,
   "id": "acba2819",
   "metadata": {},
   "outputs": [],
   "source": [
    "t=Table(names=['a',], dtype=['O',])"
   ]
  },
  {
   "cell_type": "code",
   "execution_count": 26,
   "id": "aed812a1",
   "metadata": {},
   "outputs": [
    {
     "data": {
      "text/html": [
       "<div><i>Table length=0</i>\n",
       "<table id=\"table140694454929104\" class=\"table-striped table-bordered table-condensed\">\n",
       "<thead><tr><th>a</th></tr></thead>\n",
       "<thead><tr><th>object</th></tr></thead>\n",
       "</table></div>"
      ],
      "text/plain": [
       "<Table length=0>\n",
       "  a   \n",
       "object\n",
       "------"
      ]
     },
     "execution_count": 26,
     "metadata": {},
     "output_type": "execute_result"
    }
   ],
   "source": [
    "t"
   ]
  },
  {
   "cell_type": "code",
   "execution_count": null,
   "id": "dc52d1f8",
   "metadata": {},
   "outputs": [],
   "source": []
  }
 ],
 "metadata": {
  "kernelspec": {
   "display_name": "Python 3 (ipykernel)",
   "language": "python",
   "name": "python3"
  },
  "language_info": {
   "codemirror_mode": {
    "name": "ipython",
    "version": 3
   },
   "file_extension": ".py",
   "mimetype": "text/x-python",
   "name": "python",
   "nbconvert_exporter": "python",
   "pygments_lexer": "ipython3",
   "version": "3.9.7"
  }
 },
 "nbformat": 4,
 "nbformat_minor": 5
}
