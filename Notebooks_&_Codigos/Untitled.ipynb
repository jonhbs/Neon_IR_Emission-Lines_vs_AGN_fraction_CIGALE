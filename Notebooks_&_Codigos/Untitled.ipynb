{
 "cells": [
  {
   "cell_type": "code",
   "execution_count": 33,
   "id": "7ed6511c",
   "metadata": {},
   "outputs": [],
   "source": [
    "import time\n",
    "from os import path\n",
    "from pathlib import Path\n",
    "from datetime import datetime\n",
    "\n",
    "import astropy.units as u\n",
    "import numpy as np\n",
    "from astropy.table import Table, vstack, unique\n",
    "\n",
    "\n",
    "from astroquery.vizier import Vizier\n",
    "#from astroquery.ned.core import RemoteServiceError, TableParseError\n",
    "\n",
    "import requests\n",
    "from requests import Request, Session\n",
    "\n",
    "from numpy import unique as uniq\n",
    "\n",
    "from astropy.coordinates import SkyCoord\n",
    "from astropy.table import Table"
   ]
  },
  {
   "cell_type": "code",
   "execution_count": 5,
   "id": "5f5be009",
   "metadata": {
    "scrolled": false
   },
   "outputs": [
    {
     "data": {
      "text/html": [
       "<div><i>Table length=359</i>\n",
       "<table id=\"table140533392503424\" class=\"table-striped table-bordered table-condensed\">\n",
       "<thead><tr><th>Main_Id</th><th>Id_used_NED</th><th>RA</th><th>DEC</th><th>otype_txt</th><th>redshift</th><th>rvz_type</th><th>otypes</th><th>cds_url</th><th>SMB_sample_index</th></tr></thead>\n",
       "<thead><tr><th>object</th><th>object</th><th>float64</th><th>float64</th><th>object</th><th>float64</th><th>str1</th><th>object</th><th>str93</th><th>float64</th></tr></thead>\n",
       "<tr><td>3C 234.0</td><td>3C 234.0</td><td>150.45634473807</td><td>28.7858176354</td><td>Sy1</td><td>0.18494</td><td>z</td><td>AGN|G  |IR |QSO|Rad|Sy1|X  |blu|gam</td><td>http://vizier.u-strasbg.fr/viz-bin/sed?-c=150.45634473807%2028.7858176354&amp;-c.rs=5</td><td>283.0</td></tr>\n",
       "<tr><td>M  84</td><td>M  84</td><td>186.2655972083333</td><td>12.886983138888887</td><td>Sy2</td><td>0.00327</td><td>z</td><td>*  |AGN|G  |GiC|GiG|IR |Rad|Sy2|UV |X  |smm</td><td>http://vizier.u-strasbg.fr/viz-bin/sed?-c=186.2655972083333%2012.886983138888887&amp;-c.rs=5</td><td>414.0</td></tr>\n",
       "<tr><td>2MASS J13000535+1632148</td><td>NVSS J130005+163212</td><td>195.02228295163</td><td>16.53743305218</td><td>Sy1</td><td>0.07993</td><td>z</td><td>AGN|G  |IR |Rad|Sy1|X</td><td>http://vizier.u-strasbg.fr/viz-bin/sed?-c=195.02228295163%2016.53743305218&amp;-c.rs=5</td><td>428.0</td></tr>\n",
       "<tr><td>NGC   262</td><td>NGC   262</td><td>12.196426138730002</td><td>31.956956641230004</td><td>Sy2</td><td>0.015260233939595302</td><td>v</td><td>*  |AGN|Bla|G  |GiG|IR |QSO|Rad|Sy2|X  |gam</td><td>http://vizier.u-strasbg.fr/viz-bin/sed?-c=12.196426138730002%2031.956956641230004&amp;-c.rs=5</td><td>484.0</td></tr>\n",
       "<tr><td>IRAS 04385-0828</td><td>IRAS 04385-0828</td><td>70.2290037068</td><td>-8.37281297812</td><td>Sy2</td><td>0.015064</td><td>z</td><td>*  |AGN|G  |GiG|IR |Sy2</td><td>http://vizier.u-strasbg.fr/viz-bin/sed?-c=70.2290037068%20-8.37281297812&amp;-c.rs=5</td><td>541.0</td></tr>\n",
       "<tr><td>NGC  4945</td><td>NGC  4945</td><td>196.3636625</td><td>-49.4679</td><td>Sy2</td><td>0.0017968563040435814</td><td>v</td><td>AGN|G  |GiG|IR |Rad|Sy2|X  |cm |gam</td><td>http://vizier.u-strasbg.fr/viz-bin/sed?-c=196.3636625%20-49.4679&amp;-c.rs=5</td><td>628.0</td></tr>\n",
       "<tr><td>IC 4553</td><td>IC 4553</td><td>233.73843316666665</td><td>23.50322455555555</td><td>SyG</td><td>0.0184</td><td>z</td><td>AGN|G  |GiG|GiP|IG |IR |LIN|Rad|SyG|X  |gam|smm</td><td>http://vizier.u-strasbg.fr/viz-bin/sed?-c=233.73843316666665%2023.50322455555555&amp;-c.rs=5</td><td>654.0</td></tr>\n",
       "<tr><td>NGC  5252</td><td>NGC  5252</td><td>204.56612821846997</td><td>4.542644796</td><td>Sy2</td><td>0.02294</td><td>z</td><td>AG?|AGN|EmG|G  |GiG|Sy1|Sy2|X  |gam</td><td>http://vizier.u-strasbg.fr/viz-bin/sed?-c=204.56612821846997%204.542644796&amp;-c.rs=5</td><td>773.0</td></tr>\n",
       "<tr><td>Mrk  279</td><td>Mrk  279</td><td>208.26431206837998</td><td>69.30816969735</td><td>Sy1</td><td>0.030601</td><td>z</td><td>AGN|G  |IR |QSO|Sy1|UV |X  |gam</td><td>http://vizier.u-strasbg.fr/viz-bin/sed?-c=208.26431206837998%2069.30816969735&amp;-c.rs=5</td><td>852.0</td></tr>\n",
       "<tr><td>UGC 11680</td><td>UGC 11680</td><td>316.93375</td><td>3.875277777777778</td><td>Sy2</td><td>0.026</td><td>z</td><td>G  |GiP|IG |IR |PaG|Sy2</td><td>http://vizier.u-strasbg.fr/viz-bin/sed?-c=316.93375%203.875277777777778&amp;-c.rs=5</td><td>1227.0</td></tr>\n",
       "<tr><td>...</td><td>...</td><td>...</td><td>...</td><td>...</td><td>...</td><td>...</td><td>...</td><td>...</td><td>...</td></tr>\n",
       "<tr><td>NGC  3081</td><td>NGC  3081</td><td>149.87309876014</td><td>-22.8263187061</td><td>Sy2</td><td>0.008039522026415113</td><td>v</td><td>*  |AGN|G  |GiG|HI |Rad|Sy1|Sy2|X  |gam</td><td>http://vizier.u-strasbg.fr/viz-bin/sed?-c=149.87309876014%20-22.8263187061&amp;-c.rs=5</td><td>42680.0</td></tr>\n",
       "<tr><td>NGC  4507</td><td>NGC  4507</td><td>188.90264124036997</td><td>-39.90936400452</td><td>Sy2</td><td>0.011907072576889943</td><td>v</td><td>AGN|G  |GiC|GiG|HI |IR |Rad|Sy2|X  |gam</td><td>http://vizier.u-strasbg.fr/viz-bin/sed?-c=188.90264124036997%20-39.90936400452&amp;-c.rs=5</td><td>42943.0</td></tr>\n",
       "<tr><td>2XMM J115657.8+550820</td><td>2XMM J115657.8+550820</td><td>179.241186</td><td>55.139334</td><td>Sy2</td><td>0.0798</td><td>z</td><td>G  |Sy2|X</td><td>http://vizier.u-strasbg.fr/viz-bin/sed?-c=179.241186%2055.139334&amp;-c.rs=5</td><td>43279.0</td></tr>\n",
       "<tr><td>2MASX J00215355-7910077</td><td>2MASX J00215355-7910077</td><td>5.47314754327</td><td>-79.16889600056</td><td>Sy2</td><td>0.072724</td><td>z</td><td>*  |AGN|G  |IR |Sy2</td><td>http://vizier.u-strasbg.fr/viz-bin/sed?-c=5.47314754327%20-79.16889600056&amp;-c.rs=5</td><td>43326.0</td></tr>\n",
       "<tr><td>NGC  3783</td><td>NGC  3783</td><td>174.7571236746</td><td>-37.73861378972</td><td>Sy1</td><td>0.009755296525549184</td><td>v</td><td>AGN|G  |GiG|HI |IR |QSO|Rad|Sy1|X</td><td>http://vizier.u-strasbg.fr/viz-bin/sed?-c=174.7571236746%20-37.73861378972&amp;-c.rs=5</td><td>43547.0</td></tr>\n",
       "<tr><td>NGC  3982</td><td>NGC  3982</td><td>179.11726896503</td><td>55.12523877407</td><td>Sy1</td><td>0.00371</td><td>z</td><td>AGN|G  |GiG|HI |IR |Rad|Sy1|X</td><td>http://vizier.u-strasbg.fr/viz-bin/sed?-c=179.11726896503%2055.12523877407&amp;-c.rs=5</td><td>43595.0</td></tr>\n",
       "<tr><td>PSCz Q18368+3549</td><td>IRAS 18368+3549</td><td>279.64764583333334</td><td>35.872152777777785</td><td>Sy2</td><td>0.11617</td><td>z</td><td>AGN|G  |IR |Mas|Sy2</td><td>http://vizier.u-strasbg.fr/viz-bin/sed?-c=279.64764583333334%2035.872152777777785&amp;-c.rs=5</td><td>43670.0</td></tr>\n",
       "<tr><td>Mrk  622</td><td>Mrk  622</td><td>121.92081574901</td><td>39.00423528003</td><td>Sy2</td><td>0.02335</td><td>z</td><td>AGN|G  |IR |LIN|Rad|Sy2|X</td><td>http://vizier.u-strasbg.fr/viz-bin/sed?-c=121.92081574901%2039.00423528003&amp;-c.rs=5</td><td>43765.0</td></tr>\n",
       "<tr><td>[LGE2006] 12</td><td>[LGE2006] 12</td><td>163.00045833333334</td><td>57.406527777777775</td><td>Sy1</td><td>0.974</td><td>z</td><td>AGN|G  |IR |Rad|Sy1|X  |smm</td><td>http://vizier.u-strasbg.fr/viz-bin/sed?-c=163.00045833333334%2057.406527777777775&amp;-c.rs=5</td><td>43819.0</td></tr>\n",
       "<tr><td>2MASX J14323249+3406257</td><td>2MASX J14323249+3406257</td><td>218.13541641978998</td><td>34.10705776174</td><td>Sy2</td><td>0.0424</td><td>z</td><td>*  |AG?|AGN|EmG|G  |Sy2</td><td>http://vizier.u-strasbg.fr/viz-bin/sed?-c=218.13541641978998%2034.10705776174&amp;-c.rs=5</td><td>44215.0</td></tr>\n",
       "</table></div>"
      ],
      "text/plain": [
       "<Table length=359>\n",
       "        Main_Id               Id_used_NED       ... SMB_sample_index\n",
       "         object                  object         ...     float64     \n",
       "----------------------- ----------------------- ... ----------------\n",
       "               3C 234.0                3C 234.0 ...            283.0\n",
       "                  M  84                   M  84 ...            414.0\n",
       "2MASS J13000535+1632148     NVSS J130005+163212 ...            428.0\n",
       "              NGC   262               NGC   262 ...            484.0\n",
       "        IRAS 04385-0828         IRAS 04385-0828 ...            541.0\n",
       "              NGC  4945               NGC  4945 ...            628.0\n",
       "                IC 4553                 IC 4553 ...            654.0\n",
       "              NGC  5252               NGC  5252 ...            773.0\n",
       "               Mrk  279                Mrk  279 ...            852.0\n",
       "              UGC 11680               UGC 11680 ...           1227.0\n",
       "                    ...                     ... ...              ...\n",
       "              NGC  3081               NGC  3081 ...          42680.0\n",
       "              NGC  4507               NGC  4507 ...          42943.0\n",
       "  2XMM J115657.8+550820   2XMM J115657.8+550820 ...          43279.0\n",
       "2MASX J00215355-7910077 2MASX J00215355-7910077 ...          43326.0\n",
       "              NGC  3783               NGC  3783 ...          43547.0\n",
       "              NGC  3982               NGC  3982 ...          43595.0\n",
       "       PSCz Q18368+3549         IRAS 18368+3549 ...          43670.0\n",
       "               Mrk  622                Mrk  622 ...          43765.0\n",
       "           [LGE2006] 12            [LGE2006] 12 ...          43819.0\n",
       "2MASX J14323249+3406257 2MASX J14323249+3406257 ...          44215.0"
      ]
     },
     "execution_count": 5,
     "metadata": {},
     "output_type": "execute_result"
    }
   ],
   "source": [
    "path_raw='../Datos/Raw/'\n",
    "path_phot_ned = '../Datos/Phot_Tables_NED/'\n",
    "path_phot_cds = '../Datos/Phot_Tables_CDS/'\n",
    "Sample = Table.read(path_raw+'Obj_Ne-IR_Apr_05_2022.vot',format='votable')\n",
    "Sample"
   ]
  },
  {
   "cell_type": "code",
   "execution_count": 8,
   "id": "495aca3e",
   "metadata": {},
   "outputs": [],
   "source": [
    "i = 0"
   ]
  },
  {
   "cell_type": "code",
   "execution_count": 10,
   "id": "38989156",
   "metadata": {
    "scrolled": false
   },
   "outputs": [
    {
     "data": {
      "text/html": [
       "<div><i>Table length=387</i>\n",
       "<table id=\"table140533348997824\" class=\"table-striped table-bordered table-condensed\">\n",
       "<thead><tr><th>_RAJ2000</th><th>_DEJ2000</th><th>_tabname</th><th>_ID</th><th>_tab1_31</th><th>_tab1_32</th><th>sed_freq</th><th>sed_flux</th><th>sed_eflux</th><th>sed_filter</th></tr></thead>\n",
       "<thead><tr><th>deg</th><th>deg</th><th></th><th></th><th>d</th><th>s</th><th>GHz</th><th>Jy</th><th>Jy</th><th></th></tr></thead>\n",
       "<thead><tr><th>float64</th><th>float64</th><th>str32</th><th>str64</th><th>float64</th><th>float64</th><th>float64</th><th>float32</th><th>float32</th><th>str32</th></tr></thead>\n",
       "<tr><td>150.456380600</td><td>28.785966700</td><td>I/297/out</td><td>NOMAD1===1187-0182426&amp;-c=150.4563806 +28.7859667,eq=J2000&amp;-c.rs=</td><td>--</td><td>0.0</td><td>138550</td><td>0.00501</td><td>--</td><td>2MASS:Ks</td></tr>\n",
       "<tr><td>150.456380600</td><td>28.785966700</td><td>I/297/out</td><td>NOMAD1===1187-0182426&amp;-c=150.4563806 +28.7859667,eq=J2000&amp;-c.rs=</td><td>--</td><td>0.0</td><td>181750</td><td>0.00215</td><td>--</td><td>2MASS:H</td></tr>\n",
       "<tr><td>150.456380600</td><td>28.785966700</td><td>I/297/out</td><td>NOMAD1===1187-0182426&amp;-c=150.4563806 +28.7859667,eq=J2000&amp;-c.rs=</td><td>--</td><td>0.0</td><td>241960</td><td>0.00116</td><td>--</td><td>2MASS:J</td></tr>\n",
       "<tr><td>150.456445000</td><td>28.785850000</td><td>I/305/out</td><td>GSC2.3===N9AE005113&amp;-c=150.456445 +28.785850,eq=J2000&amp;-c.rs=0.00</td><td>--</td><td>0.0</td><td>382540</td><td>0.0021</td><td>0.00083</td><td>POSS-II:i</td></tr>\n",
       "<tr><td>150.456445000</td><td>28.785850000</td><td>I/305/out</td><td>GSC2.3===N9AE005113&amp;-c=150.456445 +28.785850,eq=J2000&amp;-c.rs=0.00</td><td>--</td><td>0.0</td><td>468430</td><td>0.000992</td><td>0.00039</td><td>POSS-II:F</td></tr>\n",
       "<tr><td>150.456445000</td><td>28.785850000</td><td>I/305/out</td><td>GSC2.3===N9AE005113&amp;-c=150.456445 +28.785850,eq=J2000&amp;-c.rs=0.00</td><td>--</td><td>0.0</td><td>640580</td><td>0.000753</td><td>0.00031</td><td>POSS-II:J</td></tr>\n",
       "<tr><td>150.456445000</td><td>28.785850000</td><td>I/305/out</td><td>GSC2.3===N9AE005113&amp;-c=150.456445 +28.785850,eq=J2000&amp;-c.rs=0.00</td><td>--</td><td>0.0</td><td>674900</td><td>0.000364</td><td>0.00012</td><td>Johnson:B</td></tr>\n",
       "<tr><td>150.456374000</td><td>28.785827000</td><td>I/317/sample</td><td>PPMXL===4211247675463393029&amp;-c=150.456374 +28.785827,eq=J2000&amp;-c</td><td>--</td><td>0.0</td><td>138550</td><td>0.005</td><td>0.00015</td><td>2MASS:Ks</td></tr>\n",
       "<tr><td>150.456374000</td><td>28.785827000</td><td>I/317/sample</td><td>PPMXL===4211247675463393029&amp;-c=150.456374 +28.785827,eq=J2000&amp;-c</td><td>--</td><td>0.0</td><td>181750</td><td>0.00215</td><td>0.0001</td><td>2MASS:H</td></tr>\n",
       "<tr><td>...</td><td>...</td><td>...</td><td>...</td><td>...</td><td>...</td><td>...</td><td>...</td><td>...</td><td>...</td></tr>\n",
       "<tr><td>150.456254200</td><td>28.785827800</td><td>J/MNRAS/438/1149/samples</td><td>recno=122</td><td>--</td><td>0.0</td><td>65172</td><td>0.0255</td><td>0.0006</td><td>WISE:W2</td></tr>\n",
       "<tr><td>150.456254200</td><td>28.785827800</td><td>J/MNRAS/438/1149/samples</td><td>recno=122</td><td>--</td><td>0.0</td><td>89490</td><td>0.0115</td><td>0.0003</td><td>WISE:W1</td></tr>\n",
       "<tr><td>150.456333300</td><td>28.785722200</td><td>J/PASJ/65/113/table7</td><td>recno=91</td><td>--</td><td>0.0</td><td>16302</td><td>0.274</td><td>--</td><td>AKARI:L18W</td></tr>\n",
       "<tr><td>150.456333300</td><td>28.785722200</td><td>J/PASJ/65/113/table7</td><td>recno=91</td><td>--</td><td>0.0</td><td>34819</td><td>0.112</td><td>--</td><td>AKARI:S9W</td></tr>\n",
       "<tr><td>150.456250000</td><td>28.786111110</td><td>J/other/Ap/63.322/table3</td><td>recno=27</td><td>--</td><td>0.0</td><td>332440</td><td>0.000685</td><td>--</td><td>SDSS:z</td></tr>\n",
       "<tr><td>150.456250000</td><td>28.786111110</td><td>J/other/Ap/63.322/table3</td><td>recno=27</td><td>--</td><td>0.0</td><td>392660</td><td>0.000809</td><td>--</td><td>SDSS:i</td></tr>\n",
       "<tr><td>150.456250000</td><td>28.786111110</td><td>J/other/Ap/63.322/table3</td><td>recno=27</td><td>--</td><td>0.0</td><td>479900</td><td>0.000673</td><td>--</td><td>SDSS:r</td></tr>\n",
       "<tr><td>150.456250000</td><td>28.786111110</td><td>J/other/Ap/63.322/table3</td><td>recno=27</td><td>--</td><td>0.0</td><td>621980</td><td>0.000238</td><td>--</td><td>SDSS:g</td></tr>\n",
       "<tr><td>150.456250000</td><td>28.786111110</td><td>J/other/Ap/63.322/table3</td><td>recno=27</td><td>--</td><td>0.0</td><td>851920</td><td>0.000138</td><td>--</td><td>SDSS:u</td></tr>\n",
       "<tr><td>150.456254200</td><td>28.785827800</td><td>J/other/APh/26.282/tableb9</td><td>recno=11</td><td>--</td><td>0.0</td><td>0.178</td><td>31.4</td><td>--</td><td>:=178MHz</td></tr>\n",
       "</table></div>"
      ],
      "text/plain": [
       "<Table length=387>\n",
       "   _RAJ2000      _DEJ2000            _tabname          ... sed_eflux sed_filter\n",
       "     deg           deg                                 ...     Jy              \n",
       "   float64       float64              str32            ...  float32    str32   \n",
       "------------- ------------- -------------------------- ... --------- ----------\n",
       "150.456380600  28.785966700                  I/297/out ...        --   2MASS:Ks\n",
       "150.456380600  28.785966700                  I/297/out ...        --    2MASS:H\n",
       "150.456380600  28.785966700                  I/297/out ...        --    2MASS:J\n",
       "150.456445000  28.785850000                  I/305/out ...   0.00083  POSS-II:i\n",
       "150.456445000  28.785850000                  I/305/out ...   0.00039  POSS-II:F\n",
       "150.456445000  28.785850000                  I/305/out ...   0.00031  POSS-II:J\n",
       "150.456445000  28.785850000                  I/305/out ...   0.00012  Johnson:B\n",
       "150.456374000  28.785827000               I/317/sample ...   0.00015   2MASS:Ks\n",
       "150.456374000  28.785827000               I/317/sample ...    0.0001    2MASS:H\n",
       "          ...           ...                        ... ...       ...        ...\n",
       "150.456254200  28.785827800   J/MNRAS/438/1149/samples ...    0.0006    WISE:W2\n",
       "150.456254200  28.785827800   J/MNRAS/438/1149/samples ...    0.0003    WISE:W1\n",
       "150.456333300  28.785722200       J/PASJ/65/113/table7 ...        -- AKARI:L18W\n",
       "150.456333300  28.785722200       J/PASJ/65/113/table7 ...        --  AKARI:S9W\n",
       "150.456250000  28.786111110   J/other/Ap/63.322/table3 ...        --     SDSS:z\n",
       "150.456250000  28.786111110   J/other/Ap/63.322/table3 ...        --     SDSS:i\n",
       "150.456250000  28.786111110   J/other/Ap/63.322/table3 ...        --     SDSS:r\n",
       "150.456250000  28.786111110   J/other/Ap/63.322/table3 ...        --     SDSS:g\n",
       "150.456250000  28.786111110   J/other/Ap/63.322/table3 ...        --     SDSS:u\n",
       "150.456254200  28.785827800 J/other/APh/26.282/tableb9 ...        --   :=178MHz"
      ]
     },
     "execution_count": 10,
     "metadata": {},
     "output_type": "execute_result"
    }
   ],
   "source": [
    "cds_table = Table.read(path_phot_cds+Sample['Main_Id'][i]+'_CDS_phot_tables'+'.vot', \n",
    "                      format='votable')\n",
    "cds_table"
   ]
  },
  {
   "cell_type": "code",
   "execution_count": 14,
   "id": "dc52d1f8",
   "metadata": {},
   "outputs": [],
   "source": [
    "cds_table['Bibcode'] = np.array(['Empty']*len(cds_table),\n",
    "                                dtype='object')"
   ]
  },
  {
   "cell_type": "code",
   "execution_count": 15,
   "id": "8128e137",
   "metadata": {},
   "outputs": [
    {
     "data": {
      "text/html": [
       "<div><i>Table length=387</i>\n",
       "<table id=\"table140533348997824\" class=\"table-striped table-bordered table-condensed\">\n",
       "<thead><tr><th>_RAJ2000</th><th>_DEJ2000</th><th>_tabname</th><th>_ID</th><th>_tab1_31</th><th>_tab1_32</th><th>sed_freq</th><th>sed_flux</th><th>sed_eflux</th><th>sed_filter</th><th>Bibcode</th></tr></thead>\n",
       "<thead><tr><th>deg</th><th>deg</th><th></th><th></th><th>d</th><th>s</th><th>GHz</th><th>Jy</th><th>Jy</th><th></th><th></th></tr></thead>\n",
       "<thead><tr><th>float64</th><th>float64</th><th>str32</th><th>str64</th><th>float64</th><th>float64</th><th>float64</th><th>float32</th><th>float32</th><th>str32</th><th>object</th></tr></thead>\n",
       "<tr><td>150.456380600</td><td>28.785966700</td><td>I/297/out</td><td>NOMAD1===1187-0182426&amp;-c=150.4563806 +28.7859667,eq=J2000&amp;-c.rs=</td><td>--</td><td>0.0</td><td>138550</td><td>0.00501</td><td>--</td><td>2MASS:Ks</td><td>Empty</td></tr>\n",
       "<tr><td>150.456380600</td><td>28.785966700</td><td>I/297/out</td><td>NOMAD1===1187-0182426&amp;-c=150.4563806 +28.7859667,eq=J2000&amp;-c.rs=</td><td>--</td><td>0.0</td><td>181750</td><td>0.00215</td><td>--</td><td>2MASS:H</td><td>Empty</td></tr>\n",
       "<tr><td>150.456380600</td><td>28.785966700</td><td>I/297/out</td><td>NOMAD1===1187-0182426&amp;-c=150.4563806 +28.7859667,eq=J2000&amp;-c.rs=</td><td>--</td><td>0.0</td><td>241960</td><td>0.00116</td><td>--</td><td>2MASS:J</td><td>Empty</td></tr>\n",
       "<tr><td>150.456445000</td><td>28.785850000</td><td>I/305/out</td><td>GSC2.3===N9AE005113&amp;-c=150.456445 +28.785850,eq=J2000&amp;-c.rs=0.00</td><td>--</td><td>0.0</td><td>382540</td><td>0.0021</td><td>0.00083</td><td>POSS-II:i</td><td>Empty</td></tr>\n",
       "<tr><td>150.456445000</td><td>28.785850000</td><td>I/305/out</td><td>GSC2.3===N9AE005113&amp;-c=150.456445 +28.785850,eq=J2000&amp;-c.rs=0.00</td><td>--</td><td>0.0</td><td>468430</td><td>0.000992</td><td>0.00039</td><td>POSS-II:F</td><td>Empty</td></tr>\n",
       "<tr><td>150.456445000</td><td>28.785850000</td><td>I/305/out</td><td>GSC2.3===N9AE005113&amp;-c=150.456445 +28.785850,eq=J2000&amp;-c.rs=0.00</td><td>--</td><td>0.0</td><td>640580</td><td>0.000753</td><td>0.00031</td><td>POSS-II:J</td><td>Empty</td></tr>\n",
       "<tr><td>150.456445000</td><td>28.785850000</td><td>I/305/out</td><td>GSC2.3===N9AE005113&amp;-c=150.456445 +28.785850,eq=J2000&amp;-c.rs=0.00</td><td>--</td><td>0.0</td><td>674900</td><td>0.000364</td><td>0.00012</td><td>Johnson:B</td><td>Empty</td></tr>\n",
       "<tr><td>150.456374000</td><td>28.785827000</td><td>I/317/sample</td><td>PPMXL===4211247675463393029&amp;-c=150.456374 +28.785827,eq=J2000&amp;-c</td><td>--</td><td>0.0</td><td>138550</td><td>0.005</td><td>0.00015</td><td>2MASS:Ks</td><td>Empty</td></tr>\n",
       "<tr><td>150.456374000</td><td>28.785827000</td><td>I/317/sample</td><td>PPMXL===4211247675463393029&amp;-c=150.456374 +28.785827,eq=J2000&amp;-c</td><td>--</td><td>0.0</td><td>181750</td><td>0.00215</td><td>0.0001</td><td>2MASS:H</td><td>Empty</td></tr>\n",
       "<tr><td>...</td><td>...</td><td>...</td><td>...</td><td>...</td><td>...</td><td>...</td><td>...</td><td>...</td><td>...</td><td>...</td></tr>\n",
       "<tr><td>150.456254200</td><td>28.785827800</td><td>J/MNRAS/438/1149/samples</td><td>recno=122</td><td>--</td><td>0.0</td><td>65172</td><td>0.0255</td><td>0.0006</td><td>WISE:W2</td><td>Empty</td></tr>\n",
       "<tr><td>150.456254200</td><td>28.785827800</td><td>J/MNRAS/438/1149/samples</td><td>recno=122</td><td>--</td><td>0.0</td><td>89490</td><td>0.0115</td><td>0.0003</td><td>WISE:W1</td><td>Empty</td></tr>\n",
       "<tr><td>150.456333300</td><td>28.785722200</td><td>J/PASJ/65/113/table7</td><td>recno=91</td><td>--</td><td>0.0</td><td>16302</td><td>0.274</td><td>--</td><td>AKARI:L18W</td><td>Empty</td></tr>\n",
       "<tr><td>150.456333300</td><td>28.785722200</td><td>J/PASJ/65/113/table7</td><td>recno=91</td><td>--</td><td>0.0</td><td>34819</td><td>0.112</td><td>--</td><td>AKARI:S9W</td><td>Empty</td></tr>\n",
       "<tr><td>150.456250000</td><td>28.786111110</td><td>J/other/Ap/63.322/table3</td><td>recno=27</td><td>--</td><td>0.0</td><td>332440</td><td>0.000685</td><td>--</td><td>SDSS:z</td><td>Empty</td></tr>\n",
       "<tr><td>150.456250000</td><td>28.786111110</td><td>J/other/Ap/63.322/table3</td><td>recno=27</td><td>--</td><td>0.0</td><td>392660</td><td>0.000809</td><td>--</td><td>SDSS:i</td><td>Empty</td></tr>\n",
       "<tr><td>150.456250000</td><td>28.786111110</td><td>J/other/Ap/63.322/table3</td><td>recno=27</td><td>--</td><td>0.0</td><td>479900</td><td>0.000673</td><td>--</td><td>SDSS:r</td><td>Empty</td></tr>\n",
       "<tr><td>150.456250000</td><td>28.786111110</td><td>J/other/Ap/63.322/table3</td><td>recno=27</td><td>--</td><td>0.0</td><td>621980</td><td>0.000238</td><td>--</td><td>SDSS:g</td><td>Empty</td></tr>\n",
       "<tr><td>150.456250000</td><td>28.786111110</td><td>J/other/Ap/63.322/table3</td><td>recno=27</td><td>--</td><td>0.0</td><td>851920</td><td>0.000138</td><td>--</td><td>SDSS:u</td><td>Empty</td></tr>\n",
       "<tr><td>150.456254200</td><td>28.785827800</td><td>J/other/APh/26.282/tableb9</td><td>recno=11</td><td>--</td><td>0.0</td><td>0.178</td><td>31.4</td><td>--</td><td>:=178MHz</td><td>Empty</td></tr>\n",
       "</table></div>"
      ],
      "text/plain": [
       "<Table length=387>\n",
       "   _RAJ2000      _DEJ2000            _tabname          ... sed_filter Bibcode\n",
       "     deg           deg                                 ...                   \n",
       "   float64       float64              str32            ...   str32     object\n",
       "------------- ------------- -------------------------- ... ---------- -------\n",
       "150.456380600  28.785966700                  I/297/out ...   2MASS:Ks   Empty\n",
       "150.456380600  28.785966700                  I/297/out ...    2MASS:H   Empty\n",
       "150.456380600  28.785966700                  I/297/out ...    2MASS:J   Empty\n",
       "150.456445000  28.785850000                  I/305/out ...  POSS-II:i   Empty\n",
       "150.456445000  28.785850000                  I/305/out ...  POSS-II:F   Empty\n",
       "150.456445000  28.785850000                  I/305/out ...  POSS-II:J   Empty\n",
       "150.456445000  28.785850000                  I/305/out ...  Johnson:B   Empty\n",
       "150.456374000  28.785827000               I/317/sample ...   2MASS:Ks   Empty\n",
       "150.456374000  28.785827000               I/317/sample ...    2MASS:H   Empty\n",
       "          ...           ...                        ... ...        ...     ...\n",
       "150.456254200  28.785827800   J/MNRAS/438/1149/samples ...    WISE:W2   Empty\n",
       "150.456254200  28.785827800   J/MNRAS/438/1149/samples ...    WISE:W1   Empty\n",
       "150.456333300  28.785722200       J/PASJ/65/113/table7 ... AKARI:L18W   Empty\n",
       "150.456333300  28.785722200       J/PASJ/65/113/table7 ...  AKARI:S9W   Empty\n",
       "150.456250000  28.786111110   J/other/Ap/63.322/table3 ...     SDSS:z   Empty\n",
       "150.456250000  28.786111110   J/other/Ap/63.322/table3 ...     SDSS:i   Empty\n",
       "150.456250000  28.786111110   J/other/Ap/63.322/table3 ...     SDSS:r   Empty\n",
       "150.456250000  28.786111110   J/other/Ap/63.322/table3 ...     SDSS:g   Empty\n",
       "150.456250000  28.786111110   J/other/Ap/63.322/table3 ...     SDSS:u   Empty\n",
       "150.456254200  28.785827800 J/other/APh/26.282/tableb9 ...   :=178MHz   Empty"
      ]
     },
     "execution_count": 15,
     "metadata": {},
     "output_type": "execute_result"
    }
   ],
   "source": [
    "cds_table"
   ]
  },
  {
   "cell_type": "code",
   "execution_count": 17,
   "id": "8abe327f",
   "metadata": {},
   "outputs": [],
   "source": [
    "for tabindx, tabinfo in enumerate(cds_table['_tabname']):\n",
    "    try:\n",
    "        time.sleep(0.001)  # This is used to avoid being flag by the server\n",
    "        name_cat = tabinfo.rpartition('/')[0]\n",
    "        search = Vizier.query_constraints(catalog='METAcat', name=name_cat)\n",
    "        cds_table['Bibcode'][tabindx] = search[0][0]['bibcode']\n",
    "    except IndexError:\n",
    "        print('There is an error at ', tabindx, tabinfo)"
   ]
  },
  {
   "cell_type": "code",
   "execution_count": 18,
   "id": "935c174e",
   "metadata": {},
   "outputs": [
    {
     "data": {
      "text/html": [
       "<div><i>Table length=387</i>\n",
       "<table id=\"table140533348997824\" class=\"table-striped table-bordered table-condensed\">\n",
       "<thead><tr><th>_RAJ2000</th><th>_DEJ2000</th><th>_tabname</th><th>_ID</th><th>_tab1_31</th><th>_tab1_32</th><th>sed_freq</th><th>sed_flux</th><th>sed_eflux</th><th>sed_filter</th><th>Bibcode</th></tr></thead>\n",
       "<thead><tr><th>deg</th><th>deg</th><th></th><th></th><th>d</th><th>s</th><th>GHz</th><th>Jy</th><th>Jy</th><th></th><th></th></tr></thead>\n",
       "<thead><tr><th>float64</th><th>float64</th><th>str32</th><th>str64</th><th>float64</th><th>float64</th><th>float64</th><th>float32</th><th>float32</th><th>str32</th><th>object</th></tr></thead>\n",
       "<tr><td>150.456380600</td><td>28.785966700</td><td>I/297/out</td><td>NOMAD1===1187-0182426&amp;-c=150.4563806 +28.7859667,eq=J2000&amp;-c.rs=</td><td>--</td><td>0.0</td><td>138550</td><td>0.00501</td><td>--</td><td>2MASS:Ks</td><td>2004AAS...205.4815Z</td></tr>\n",
       "<tr><td>150.456380600</td><td>28.785966700</td><td>I/297/out</td><td>NOMAD1===1187-0182426&amp;-c=150.4563806 +28.7859667,eq=J2000&amp;-c.rs=</td><td>--</td><td>0.0</td><td>181750</td><td>0.00215</td><td>--</td><td>2MASS:H</td><td>2004AAS...205.4815Z</td></tr>\n",
       "<tr><td>150.456380600</td><td>28.785966700</td><td>I/297/out</td><td>NOMAD1===1187-0182426&amp;-c=150.4563806 +28.7859667,eq=J2000&amp;-c.rs=</td><td>--</td><td>0.0</td><td>241960</td><td>0.00116</td><td>--</td><td>2MASS:J</td><td>2004AAS...205.4815Z</td></tr>\n",
       "<tr><td>150.456445000</td><td>28.785850000</td><td>I/305/out</td><td>GSC2.3===N9AE005113&amp;-c=150.456445 +28.785850,eq=J2000&amp;-c.rs=0.00</td><td>--</td><td>0.0</td><td>382540</td><td>0.0021</td><td>0.00083</td><td>POSS-II:i</td><td>2008AJ....136..735L</td></tr>\n",
       "<tr><td>150.456445000</td><td>28.785850000</td><td>I/305/out</td><td>GSC2.3===N9AE005113&amp;-c=150.456445 +28.785850,eq=J2000&amp;-c.rs=0.00</td><td>--</td><td>0.0</td><td>468430</td><td>0.000992</td><td>0.00039</td><td>POSS-II:F</td><td>2008AJ....136..735L</td></tr>\n",
       "<tr><td>150.456445000</td><td>28.785850000</td><td>I/305/out</td><td>GSC2.3===N9AE005113&amp;-c=150.456445 +28.785850,eq=J2000&amp;-c.rs=0.00</td><td>--</td><td>0.0</td><td>640580</td><td>0.000753</td><td>0.00031</td><td>POSS-II:J</td><td>2008AJ....136..735L</td></tr>\n",
       "<tr><td>150.456445000</td><td>28.785850000</td><td>I/305/out</td><td>GSC2.3===N9AE005113&amp;-c=150.456445 +28.785850,eq=J2000&amp;-c.rs=0.00</td><td>--</td><td>0.0</td><td>674900</td><td>0.000364</td><td>0.00012</td><td>Johnson:B</td><td>2008AJ....136..735L</td></tr>\n",
       "<tr><td>150.456374000</td><td>28.785827000</td><td>I/317/sample</td><td>PPMXL===4211247675463393029&amp;-c=150.456374 +28.785827,eq=J2000&amp;-c</td><td>--</td><td>0.0</td><td>138550</td><td>0.005</td><td>0.00015</td><td>2MASS:Ks</td><td>2010AJ....139.2440R</td></tr>\n",
       "<tr><td>150.456374000</td><td>28.785827000</td><td>I/317/sample</td><td>PPMXL===4211247675463393029&amp;-c=150.456374 +28.785827,eq=J2000&amp;-c</td><td>--</td><td>0.0</td><td>181750</td><td>0.00215</td><td>0.0001</td><td>2MASS:H</td><td>2010AJ....139.2440R</td></tr>\n",
       "<tr><td>...</td><td>...</td><td>...</td><td>...</td><td>...</td><td>...</td><td>...</td><td>...</td><td>...</td><td>...</td><td>...</td></tr>\n",
       "<tr><td>150.456254200</td><td>28.785827800</td><td>J/MNRAS/438/1149/samples</td><td>recno=122</td><td>--</td><td>0.0</td><td>65172</td><td>0.0255</td><td>0.0006</td><td>WISE:W2</td><td>2014MNRAS.438.1149G</td></tr>\n",
       "<tr><td>150.456254200</td><td>28.785827800</td><td>J/MNRAS/438/1149/samples</td><td>recno=122</td><td>--</td><td>0.0</td><td>89490</td><td>0.0115</td><td>0.0003</td><td>WISE:W1</td><td>2014MNRAS.438.1149G</td></tr>\n",
       "<tr><td>150.456333300</td><td>28.785722200</td><td>J/PASJ/65/113/table7</td><td>recno=91</td><td>--</td><td>0.0</td><td>16302</td><td>0.274</td><td>--</td><td>AKARI:L18W</td><td>2013PASJ...65..113T</td></tr>\n",
       "<tr><td>150.456333300</td><td>28.785722200</td><td>J/PASJ/65/113/table7</td><td>recno=91</td><td>--</td><td>0.0</td><td>34819</td><td>0.112</td><td>--</td><td>AKARI:S9W</td><td>2013PASJ...65..113T</td></tr>\n",
       "<tr><td>150.456250000</td><td>28.786111110</td><td>J/other/Ap/63.322/table3</td><td>recno=27</td><td>--</td><td>0.0</td><td>332440</td><td>0.000685</td><td>--</td><td>SDSS:z</td><td>2020Ap.....63..322A</td></tr>\n",
       "<tr><td>150.456250000</td><td>28.786111110</td><td>J/other/Ap/63.322/table3</td><td>recno=27</td><td>--</td><td>0.0</td><td>392660</td><td>0.000809</td><td>--</td><td>SDSS:i</td><td>2020Ap.....63..322A</td></tr>\n",
       "<tr><td>150.456250000</td><td>28.786111110</td><td>J/other/Ap/63.322/table3</td><td>recno=27</td><td>--</td><td>0.0</td><td>479900</td><td>0.000673</td><td>--</td><td>SDSS:r</td><td>2020Ap.....63..322A</td></tr>\n",
       "<tr><td>150.456250000</td><td>28.786111110</td><td>J/other/Ap/63.322/table3</td><td>recno=27</td><td>--</td><td>0.0</td><td>621980</td><td>0.000238</td><td>--</td><td>SDSS:g</td><td>2020Ap.....63..322A</td></tr>\n",
       "<tr><td>150.456250000</td><td>28.786111110</td><td>J/other/Ap/63.322/table3</td><td>recno=27</td><td>--</td><td>0.0</td><td>851920</td><td>0.000138</td><td>--</td><td>SDSS:u</td><td>2020Ap.....63..322A</td></tr>\n",
       "<tr><td>150.456254200</td><td>28.785827800</td><td>J/other/APh/26.282/tableb9</td><td>recno=11</td><td>--</td><td>0.0</td><td>0.178</td><td>31.4</td><td>--</td><td>:=178MHz</td><td>2006APh....26..282A</td></tr>\n",
       "</table></div>"
      ],
      "text/plain": [
       "<Table length=387>\n",
       "   _RAJ2000      _DEJ2000   ... sed_filter       Bibcode      \n",
       "     deg           deg      ...                               \n",
       "   float64       float64    ...   str32           object      \n",
       "------------- ------------- ... ---------- -------------------\n",
       "150.456380600  28.785966700 ...   2MASS:Ks 2004AAS...205.4815Z\n",
       "150.456380600  28.785966700 ...    2MASS:H 2004AAS...205.4815Z\n",
       "150.456380600  28.785966700 ...    2MASS:J 2004AAS...205.4815Z\n",
       "150.456445000  28.785850000 ...  POSS-II:i 2008AJ....136..735L\n",
       "150.456445000  28.785850000 ...  POSS-II:F 2008AJ....136..735L\n",
       "150.456445000  28.785850000 ...  POSS-II:J 2008AJ....136..735L\n",
       "150.456445000  28.785850000 ...  Johnson:B 2008AJ....136..735L\n",
       "150.456374000  28.785827000 ...   2MASS:Ks 2010AJ....139.2440R\n",
       "150.456374000  28.785827000 ...    2MASS:H 2010AJ....139.2440R\n",
       "          ...           ... ...        ...                 ...\n",
       "150.456254200  28.785827800 ...    WISE:W2 2014MNRAS.438.1149G\n",
       "150.456254200  28.785827800 ...    WISE:W1 2014MNRAS.438.1149G\n",
       "150.456333300  28.785722200 ... AKARI:L18W 2013PASJ...65..113T\n",
       "150.456333300  28.785722200 ...  AKARI:S9W 2013PASJ...65..113T\n",
       "150.456250000  28.786111110 ...     SDSS:z 2020Ap.....63..322A\n",
       "150.456250000  28.786111110 ...     SDSS:i 2020Ap.....63..322A\n",
       "150.456250000  28.786111110 ...     SDSS:r 2020Ap.....63..322A\n",
       "150.456250000  28.786111110 ...     SDSS:g 2020Ap.....63..322A\n",
       "150.456250000  28.786111110 ...     SDSS:u 2020Ap.....63..322A\n",
       "150.456254200  28.785827800 ...   :=178MHz 2006APh....26..282A"
      ]
     },
     "execution_count": 18,
     "metadata": {},
     "output_type": "execute_result"
    }
   ],
   "source": [
    "cds_table"
   ]
  },
  {
   "cell_type": "code",
   "execution_count": 32,
   "id": "32c63803",
   "metadata": {},
   "outputs": [
    {
     "data": {
      "text/plain": [
       "'J/other/APh/26.282'"
      ]
     },
     "execution_count": 32,
     "metadata": {},
     "output_type": "execute_result"
    }
   ],
   "source": [
    "name_cat = tabinfo.rpartition('/')[0]\n",
    "name_cat"
   ]
  },
  {
   "cell_type": "code",
   "execution_count": 27,
   "id": "e0c7af7b",
   "metadata": {},
   "outputs": [],
   "source": [
    "search = Vizier.query_constraints(catalog='METAcat', name=name_cat)"
   ]
  },
  {
   "cell_type": "code",
   "execution_count": 31,
   "id": "2fd3f5ad",
   "metadata": {},
   "outputs": [
    {
     "name": "stdout",
     "output_type": "stream",
     "text": [
      "catid kslot catype        name        ...       bibcode       popu authid\n",
      "----- ----- ------ ------------------ ... ------------------- ---- ------\n",
      "  255    63      5 J/other/APh/26.282 ... 2006APh....26..282A  255      0\n"
     ]
    }
   ],
   "source": [
    "search[search.keys()[0]].pprint()"
   ]
  },
  {
   "cell_type": "code",
   "execution_count": 29,
   "id": "d74a9c32",
   "metadata": {},
   "outputs": [
    {
     "data": {
      "text/plain": [
       "'2006APh....26..282A'"
      ]
     },
     "execution_count": 29,
     "metadata": {},
     "output_type": "execute_result"
    }
   ],
   "source": [
    "search[0][0]['bibcode']"
   ]
  },
  {
   "cell_type": "code",
   "execution_count": null,
   "id": "1d0beeeb",
   "metadata": {},
   "outputs": [],
   "source": []
  }
 ],
 "metadata": {
  "kernelspec": {
   "display_name": "Python 3 (ipykernel)",
   "language": "python",
   "name": "python3"
  },
  "language_info": {
   "codemirror_mode": {
    "name": "ipython",
    "version": 3
   },
   "file_extension": ".py",
   "mimetype": "text/x-python",
   "name": "python",
   "nbconvert_exporter": "python",
   "pygments_lexer": "ipython3",
   "version": "3.9.7"
  }
 },
 "nbformat": 4,
 "nbformat_minor": 5
}
