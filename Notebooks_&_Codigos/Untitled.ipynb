{
 "cells": [
  {
   "cell_type": "code",
   "execution_count": 1,
   "id": "d199cb11",
   "metadata": {},
   "outputs": [
    {
     "ename": "ModuleNotFoundError",
     "evalue": "No module named 'cigale'",
     "output_type": "error",
     "traceback": [
      "\u001b[0;31m---------------------------------------------------------------------------\u001b[0m",
      "\u001b[0;31mModuleNotFoundError\u001b[0m                       Traceback (most recent call last)",
      "\u001b[0;32m/tmp/ipykernel_33526/1928705111.py\u001b[0m in \u001b[0;36m<module>\u001b[0;34m\u001b[0m\n\u001b[0;32m----> 1\u001b[0;31m \u001b[0;32mimport\u001b[0m \u001b[0mcigale\u001b[0m\u001b[0;34m\u001b[0m\u001b[0;34m\u001b[0m\u001b[0m\n\u001b[0m\u001b[1;32m      2\u001b[0m \u001b[0;34m\u001b[0m\u001b[0m\n",
      "\u001b[0;31mModuleNotFoundError\u001b[0m: No module named 'cigale'"
     ]
    }
   ],
   "source": [
    "import cigale\n",
    "\n"
   ]
  },
  {
   "cell_type": "code",
   "execution_count": 2,
   "id": "53807efd",
   "metadata": {},
   "outputs": [
    {
     "ename": "NameError",
     "evalue": "name 'cigale' is not defined",
     "output_type": "error",
     "traceback": [
      "\u001b[0;31m---------------------------------------------------------------------------\u001b[0m",
      "\u001b[0;31mNameError\u001b[0m                                 Traceback (most recent call last)",
      "\u001b[0;32m/tmp/ipykernel_33526/2641778723.py\u001b[0m in \u001b[0;36m<module>\u001b[0;34m\u001b[0m\n\u001b[1;32m     20\u001b[0m \u001b[0;34m\u001b[0m\u001b[0m\n\u001b[1;32m     21\u001b[0m \u001b[0;31m# Crea el modelo CIGALE\u001b[0m\u001b[0;34m\u001b[0m\u001b[0;34m\u001b[0m\u001b[0m\n\u001b[0;32m---> 22\u001b[0;31m \u001b[0mmodel\u001b[0m \u001b[0;34m=\u001b[0m \u001b[0mcigale\u001b[0m\u001b[0;34m.\u001b[0m\u001b[0mCigale\u001b[0m\u001b[0;34m(\u001b[0m\u001b[0;34m)\u001b[0m\u001b[0;34m\u001b[0m\u001b[0;34m\u001b[0m\u001b[0m\n\u001b[0m\u001b[1;32m     23\u001b[0m \u001b[0;34m\u001b[0m\u001b[0m\n\u001b[1;32m     24\u001b[0m \u001b[0;31m# Calcula la SED del modelo de galaxia\u001b[0m\u001b[0;34m\u001b[0m\u001b[0;34m\u001b[0m\u001b[0m\n",
      "\u001b[0;31mNameError\u001b[0m: name 'cigale' is not defined"
     ]
    }
   ],
   "source": [
    " # Define los parámetros del modelo de galaxia\n",
    "params = {\n",
    "    'redshift': 0.5,\n",
    "    'stellar': {\n",
    "        'mass': 1e10,\n",
    "        'age': 1e8,\n",
    "        'met': 0.02,\n",
    "        'tau': 1e8,\n",
    "        'alpha': 1.0,\n",
    "        'sfh': 'exp',\n",
    "    },\n",
    "    'dust': {\n",
    "        'type': 'calzetti',\n",
    "        'Av': 0.5,\n",
    "    },\n",
    "    'agn': {\n",
    "        'type': 'none',\n",
    "    },\n",
    "}\n",
    "\n",
    "# Crea el modelo CIGALE\n",
    "model = cigale.Cigale()\n",
    "\n",
    "# Calcula la SED del modelo de galaxia\n",
    "sed = model.compute(**params)\n",
    "\n",
    "# Grafica la SED\n",
    "model.plot(sed)"
   ]
  },
  {
   "cell_type": "code",
   "execution_count": null,
   "id": "6f3c7888",
   "metadata": {},
   "outputs": [],
   "source": []
  }
 ],
 "metadata": {
  "kernelspec": {
   "display_name": "Python 3 (ipykernel)",
   "language": "python",
   "name": "python3"
  },
  "language_info": {
   "codemirror_mode": {
    "name": "ipython",
    "version": 3
   },
   "file_extension": ".py",
   "mimetype": "text/x-python",
   "name": "python",
   "nbconvert_exporter": "python",
   "pygments_lexer": "ipython3",
   "version": "3.9.12"
  }
 },
 "nbformat": 4,
 "nbformat_minor": 5
}
