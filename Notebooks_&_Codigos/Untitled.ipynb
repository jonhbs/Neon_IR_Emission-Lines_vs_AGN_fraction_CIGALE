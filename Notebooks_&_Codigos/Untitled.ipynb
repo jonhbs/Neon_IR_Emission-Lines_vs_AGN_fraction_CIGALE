{
 "cells": [
  {
   "cell_type": "markdown",
   "id": "2e1d4ab0",
   "metadata": {},
   "source": [
    "# Extracting the data from the photometry table downloaded from NED for each galaxy\n",
    "\n",
    "We define the path where the photometry tables from NED was saved and the date when those tables was downloaded"
   ]
  },
  {
   "cell_type": "code",
   "execution_count": 25,
   "id": "7a57a17a",
   "metadata": {},
   "outputs": [],
   "source": [
    "from datetime import date\n",
    "import time\n",
    "import pandas as pd\n",
    "import numpy as np\n",
    "import csv\n",
    "import astropy.units as u\n",
    "\n",
    "from astroquery.ipac.ned import Ned\n",
    "from astropy.table import Table\n",
    "from pathlib import Path\n",
    "\n",
    "from matplotlib import pyplot as plt"
   ]
  },
  {
   "cell_type": "code",
   "execution_count": 45,
   "id": "c4cdbc82",
   "metadata": {},
   "outputs": [],
   "source": [
    "path_raw = '../Datos/Raw/'\n",
    "path_phot_data = '../Datos/Phot_Tables/' #In this path was saved the photometry tables for each object\n",
    "path_votables = '../Datos/VOTables/' #In this path we will save the VOtables for each object\n",
    "Path(path_votables).mkdir(parents=True, exist_ok=True)\n",
    "date_samples = 'Oct_16_2021'\n",
    "\n",
    "sample = pd.read_csv(path_raw+'Obj_Ne-IR_v2_Oct_16_2021.csv')"
   ]
  },
  {
   "cell_type": "code",
   "execution_count": 52,
   "id": "d62a634e",
   "metadata": {},
   "outputs": [],
   "source": [
    "i=33\n",
    "Ne_info = ['NeII|NeIII|NeV','NeII|NeV','NeIII|NeV']\n",
    "ind_sample = [np.where(sample['Ne_IR_info'] == Ne_inf)[0] for Ne_inf in Ne_info]\n",
    "phot_ned = pd.read_csv(path_phot_data+sample['Name_Id'][ind_sample[0][i]]+'_'+date_samples+'_phot_tables'+'.csv')\n",
    "phot = Table.from_pandas(phot_ned)"
   ]
  },
  {
   "cell_type": "code",
   "execution_count": 53,
   "id": "924b29ba",
   "metadata": {},
   "outputs": [
    {
     "data": {
      "text/plain": [
       "'3C  84'"
      ]
     },
     "execution_count": 53,
     "metadata": {},
     "output_type": "execute_result"
    }
   ],
   "source": [
    "sample['Name_Id'][ind_sample[0][i]]"
   ]
  },
  {
   "cell_type": "code",
   "execution_count": 54,
   "id": "e280629a",
   "metadata": {},
   "outputs": [
    {
     "data": {
      "text/html": [
       "<div><i>Table length=619</i>\n",
       "<table id=\"table140066679047408\" class=\"table-striped table-bordered table-condensed\">\n",
       "<thead><tr><th>No.</th><th>Observed Passband</th><th>Photometry Measurement</th><th>Uncertainty</th><th>Units</th><th>Frequency</th><th>Flux Density</th><th>Upper limit of uncertainty</th><th>Lower limit of uncertainty</th><th>Upper limit of Flux Density</th><th>Lower limit of Flux Density</th><th>NED Uncertainty</th><th>NED Units</th><th>Refcode</th><th>Significance</th><th>Published frequency</th><th>Frequency Mode</th><th>Coordinates Targeted</th><th>Spatial Mode</th><th>Qualifiers</th><th>Comments</th></tr></thead>\n",
       "<thead><tr><th>int64</th><th>str20</th><th>float64</th><th>str13</th><th>str20</th><th>float64</th><th>float64</th><th>float64</th><th>float64</th><th>float64</th><th>float64</th><th>str11</th><th>str5</th><th>str19</th><th>str23</th><th>str18</th><th>str71</th><th>str37</th><th>str57</th><th>str40</th><th>str163</th></tr></thead>\n",
       "<tr><td>1</td><td>50 GeV-2 TeV (Fermi)</td><td>8.06e-12</td><td>+/-2.72E-12</td><td>erg/cm^2^/s</td><td>2.48e+26</td><td>3.25e-15</td><td>1.1e-15</td><td>1.1e-15</td><td>--</td><td>--</td><td>+/-1.10E-15</td><td>Jy</td><td>2016ApJS..222....5A</td><td>1 sigma</td><td>1.025 TeV</td><td>Broad-band measurement</td><td>049.9670 +41.5219 (J2000)</td><td>Flux integrated from map</td><td>--</td><td>From new raw data; NED frequency assigned to mid-point ofband in keV</td></tr>\n",
       "<tr><td>2</td><td>0.01-1 TeV (Fermi)</td><td>4.8e-11</td><td>+/-3.16E-12</td><td>erg/cm^2^/s</td><td>1.22e+26</td><td>3.93e-14</td><td>2.59e-15</td><td>2.59e-15</td><td>--</td><td>--</td><td>+/-2.59E-15</td><td>Jy</td><td>2017ApJS..232...18A</td><td>1 sigma</td><td>0.51 TeV</td><td>Broad-band measurement</td><td>049.959995 +41.512283 (J2000)</td><td>From fitting to map</td><td>--</td><td>From reprocessed raw data; NED frequency assigned tomid-point of band in keV</td></tr>\n",
       "<tr><td>3</td><td>400 GeV (Whipple)</td><td>--</td><td>&lt;0.29E-11</td><td>erg cm^-2^ s^-1^</td><td>9.67e+25</td><td>--</td><td>--</td><td>--</td><td>3e-15</td><td>--</td><td>&lt;3.00E-15</td><td>Jy</td><td>2006ApJ...644..148P</td><td>90% confidence</td><td>400   GeV</td><td>Broad-band measurement</td><td>03 19 48 +41 30 42 (J2000)</td><td>Flux integrated from map</td><td>--</td><td>From new raw data</td></tr>\n",
       "<tr><td>4</td><td>100 MeV-100 GeV LAT</td><td>1.741e-10</td><td>+/-8.1E-12</td><td>erg/s/cm^2^</td><td>1.21e+25</td><td>1.44e-12</td><td>6.69e-14</td><td>6.69e-14</td><td>--</td><td>--</td><td>+/-6.69E-14</td><td>Jy</td><td>2010ApJS..188..405A</td><td>uncertainty</td><td>50050 MeV</td><td>Broad-band measurement</td><td>049.941 +41.508 (J2000)</td><td>From fitting to map</td><td>--</td><td>From new raw data; NED frequency assigned to mid-point ofband in keV</td></tr>\n",
       "<tr><td>5</td><td>0.1-100 GeV (Fermi)</td><td>1.737e-10</td><td>+/-6.2E-12</td><td>erg/cm^2^/s</td><td>1.21e+25</td><td>1.44e-12</td><td>5.12e-14</td><td>5.12e-14</td><td>--</td><td>--</td><td>+/-5.12E-14</td><td>Jy</td><td>2012ApJS..199...31N</td><td>1 sigma</td><td>50.05 GeV</td><td>Broad-band measurement</td><td>049.965 +41.513 (J2000)</td><td>Modelled datum</td><td>Variable</td><td>From new raw data; NED frequency assigned to mid-point ofband in keV</td></tr>\n",
       "<tr><td>6</td><td>0.1-100 GeV (Fermi)</td><td>1.991e-10</td><td>+/-3.9E-12</td><td>erg/cm^2^/s</td><td>1.21e+25</td><td>1.65e-12</td><td>3.22e-23</td><td>3.22e-23</td><td>--</td><td>--</td><td>+/-3.22E-23</td><td>Jy</td><td>2015ApJS..218...23A</td><td>1 sigma</td><td>50.05 GeV</td><td>Broad-band measurement</td><td>049.959 +41.514 (J2000)</td><td>From fitting to map</td><td>Variable; Gamma=2.08; Mod=LP</td><td>From new raw data; NED frequency assigned to mid-point ofband in keV</td></tr>\n",
       "<tr><td>7</td><td>14-195 keV (Swift)</td><td>6.85e-11</td><td>+/-0.28E-11</td><td>erg/s/cm^2^</td><td>2.53e+19</td><td>2.71e-07</td><td>1.11e-08</td><td>1.11e-08</td><td>--</td><td>--</td><td>+/-1.11E-08</td><td>Jy</td><td>2010ApJS..186..378T</td><td>uncertainty</td><td>104.50 keV</td><td>Broad-band measurement</td><td>049.960 +41.515 (J2000)</td><td>Flux integrated from map</td><td>--</td><td>From new raw data; NED frequency assigned to mid-point ofband in keV</td></tr>\n",
       "<tr><td>8</td><td>14-195 keV (Swift)</td><td>1.15e-10</td><td>--</td><td>erg/cm^2^/s</td><td>2.53e+19</td><td>4.55e-07</td><td>--</td><td>--</td><td>--</td><td>--</td><td>--</td><td>Jy</td><td>2008ApJ...681..113T</td><td>no uncertainty reported</td><td>104.50 keV</td><td>Broad-band measurement</td><td>049.9507 +41.5117 (J2000)</td><td>Modelled datum</td><td>--</td><td>From new raw data; NED frequency assigned to mid-point ofband in keV</td></tr>\n",
       "<tr><td>9</td><td>14-195 keV (Swift)</td><td>7.34e-11</td><td>--</td><td>erg/cm^2^/s</td><td>2.53e+19</td><td>2.9e-07</td><td>--</td><td>--</td><td>--</td><td>--</td><td>--</td><td>Jy</td><td>2017ApJS..233...17R</td><td>no uncertainty reported</td><td>104.50 keV</td><td>Broad-band measurement</td><td>--</td><td>Modelled datum</td><td>Observed flux</td><td>From reprocessed raw data; NED frequency assigned tomid-point of band in keV</td></tr>\n",
       "<tr><td>10</td><td>14-195 keV (Swift)</td><td>7.92e-11</td><td>--</td><td>erg/cm^2^/s</td><td>2.53e+19</td><td>3.13e-07</td><td>--</td><td>--</td><td>--</td><td>--</td><td>--</td><td>Jy</td><td>2017ApJS..233...17R</td><td>no uncertainty reported</td><td>104.50 keV</td><td>Broad-band measurement</td><td>--</td><td>Modelled datum</td><td>Intrinsic flux</td><td>From reprocessed raw data; NED frequency assigned tomid-point of band in keV</td></tr>\n",
       "<tr><td>...</td><td>...</td><td>...</td><td>...</td><td>...</td><td>...</td><td>...</td><td>...</td><td>...</td><td>...</td><td>...</td><td>...</td><td>...</td><td>...</td><td>...</td><td>...</td><td>...</td><td>...</td><td>...</td><td>...</td><td>...</td></tr>\n",
       "<tr><td>610</td><td>22.25 MHz</td><td>819.95</td><td>+/-88.334</td><td>Jy</td><td>22200000.0</td><td>820.0</td><td>88.3</td><td>88.3</td><td>--</td><td>--</td><td>+/-8.83E+01</td><td>Jy</td><td>1980MNRAS.190..903L</td><td>uncertainty</td><td>22.25      MHz</td><td>Broad-band measurement</td><td>--</td><td>Total flux</td><td>--</td><td>Homogenized from previously published data</td></tr>\n",
       "<tr><td>611</td><td>20.0 MHz</td><td>1080.0</td><td>+/-13  %</td><td>Jy</td><td>20000000.0</td><td>1080.0</td><td>140.0</td><td>140.0</td><td>--</td><td>--</td><td>+/-1.40E+02</td><td>Jy</td><td>1969MNRAS.143..289B</td><td>estimated error</td><td>20.0       MHz</td><td>Broad-band measurement</td><td>--</td><td>Total flux</td><td>--</td><td>From new raw data</td></tr>\n",
       "<tr><td>612</td><td>20 MHz (UTR-1)</td><td>1.0799999999999999e-23</td><td>+/-13  %</td><td>W m^-2^ Hz^-1^</td><td>20000000.0</td><td>1080.0</td><td>140.0</td><td>140.0</td><td>--</td><td>--</td><td>+/-1.40E+02</td><td>Jy</td><td>1969MNRAS.143..289B</td><td>uncertainty</td><td>20   MHz</td><td>Broad-band measurement</td><td>03 16 28.6 +41 19.8 (B1950)</td><td>Total flux</td><td>--</td><td>From new raw data</td></tr>\n",
       "<tr><td>613</td><td>16.7 MHz</td><td>1550.0</td><td>+/-14  %</td><td>Jy</td><td>16700000.0</td><td>1550.0</td><td>217.0</td><td>217.0</td><td>--</td><td>--</td><td>+/-2.17E+02</td><td>Jy</td><td>1969MNRAS.143..289B</td><td>estimated error</td><td>16.7       MHz</td><td>Broad-band measurement</td><td>--</td><td>Total flux</td><td>--</td><td>From new raw data</td></tr>\n",
       "<tr><td>614</td><td>16.7 MHz (UTR-1)</td><td>1.55e-23</td><td>+/-14  %</td><td>W m^-2^ Hz^-1^</td><td>16700000.0</td><td>1550.0</td><td>217.0</td><td>217.0</td><td>--</td><td>--</td><td>+/-2.17E+02</td><td>Jy</td><td>1969MNRAS.143..289B</td><td>uncertainty</td><td>16.7   MHz</td><td>Broad-band measurement</td><td>03 16 28.6 +41 19.8 (B1950)</td><td>Total flux</td><td>--</td><td>From new raw data</td></tr>\n",
       "<tr><td>615</td><td>14.7 MHz</td><td>1670.0</td><td>+/-13  %</td><td>Jy</td><td>14700000.0</td><td>1670.0</td><td>217.0</td><td>217.0</td><td>--</td><td>--</td><td>+/-2.17E+02</td><td>Jy</td><td>1969MNRAS.143..289B</td><td>estimated error</td><td>14.7       MHz</td><td>Broad-band measurement</td><td>--</td><td>Total flux</td><td>--</td><td>From new raw data</td></tr>\n",
       "<tr><td>616</td><td>14.7 MHz (UTR-1)</td><td>1.67e-23</td><td>+/-13  %</td><td>W m^-2^ Hz^-1^</td><td>14700000.0</td><td>1670.0</td><td>217.0</td><td>217.0</td><td>--</td><td>--</td><td>+/-2.17E+02</td><td>Jy</td><td>1969MNRAS.143..289B</td><td>uncertainty</td><td>14.7   MHz</td><td>Broad-band measurement</td><td>03 16 28.6 +41 19.8 (B1950)</td><td>Total flux</td><td>--</td><td>From new raw data</td></tr>\n",
       "<tr><td>617</td><td>12.6 MHz (UTR-1)</td><td>1.9e-23</td><td>+/-13  %</td><td>W m^-2^ Hz^-1^</td><td>12600000.0</td><td>1900.0</td><td>247.0</td><td>247.0</td><td>--</td><td>--</td><td>+/-2.47E+02</td><td>Jy</td><td>1969MNRAS.143..289B</td><td>uncertainty</td><td>12.6   MHz</td><td>Broad-band measurement</td><td>03 16 28.6 +41 19.8 (B1950)</td><td>Total flux</td><td>--</td><td>From new raw data</td></tr>\n",
       "<tr><td>618</td><td>12.6 MHz</td><td>1900.0</td><td>+/-13  %</td><td>Jy</td><td>12600000.0</td><td>1900.0</td><td>247.0</td><td>247.0</td><td>--</td><td>--</td><td>+/-2.47E+02</td><td>Jy</td><td>1969MNRAS.143..289B</td><td>estimated error</td><td>12.6       MHz</td><td>Broad-band measurement</td><td>--</td><td>Total flux</td><td>--</td><td>From new raw data</td></tr>\n",
       "<tr><td>619</td><td>10 MHz</td><td>1704.0</td><td>+/-384.000</td><td>Jy</td><td>10000000.0</td><td>1700.0</td><td>384.0</td><td>384.0</td><td>--</td><td>--</td><td>+/-3.84E+02</td><td>Jy</td><td>1980MNRAS.190..903L</td><td>uncertainty</td><td>10         MHz</td><td>Broad-band measurement</td><td>--</td><td>Total flux</td><td>--</td><td>Homogenized from previously published data</td></tr>\n",
       "</table></div>"
      ],
      "text/plain": [
       "<Table length=619>\n",
       " No.  ...\n",
       "int64 ...\n",
       "----- ...\n",
       "    1 ...\n",
       "    2 ...\n",
       "    3 ...\n",
       "    4 ...\n",
       "    5 ...\n",
       "    6 ...\n",
       "    7 ...\n",
       "    8 ...\n",
       "    9 ...\n",
       "   10 ...\n",
       "  ... ...\n",
       "  610 ...\n",
       "  611 ...\n",
       "  612 ...\n",
       "  613 ...\n",
       "  614 ...\n",
       "  615 ...\n",
       "  616 ...\n",
       "  617 ...\n",
       "  618 ...\n",
       "  619 ..."
      ]
     },
     "execution_count": 54,
     "metadata": {},
     "output_type": "execute_result"
    }
   ],
   "source": [
    "phot"
   ]
  },
  {
   "cell_type": "code",
   "execution_count": 55,
   "id": "5820d203",
   "metadata": {
    "scrolled": true
   },
   "outputs": [],
   "source": [
    "phot[phot['NED Units'] == 'Jy'].write(path_votables+sample['Name_Id'][ind_sample[0][i]]+'_'+date_samples+'.vot', \n",
    "                                      format='votable',overwrite=True)"
   ]
  },
  {
   "cell_type": "code",
   "execution_count": 56,
   "id": "beecc772",
   "metadata": {},
   "outputs": [
    {
     "data": {
      "text/html": [
       "<div><i>Table length=524</i>\n",
       "<table id=\"table140066693913424\" class=\"table-striped table-bordered table-condensed\">\n",
       "<thead><tr><th>No.</th><th>Observed_Passband</th><th>Photometry_Measurement</th><th>Uncertainty</th><th>Units</th><th>Frequency</th><th>Flux_Density</th><th>Upper_limit_of_uncertainty</th><th>Lower_limit_of_uncertainty</th><th>Upper_limit_of_Flux_Density</th><th>Lower_limit_of_Flux_Density</th><th>NED_Uncertainty</th><th>NED_Units</th><th>Refcode</th><th>Significance</th><th>Published_frequency</th><th>Frequency_Mode</th><th>Coordinates_Targeted</th><th>Spatial_Mode</th><th>Qualifiers</th><th>Comments</th></tr></thead>\n",
       "<thead><tr><th>int64</th><th>str20</th><th>float64</th><th>str13</th><th>str20</th><th>float64</th><th>float64</th><th>float64</th><th>float64</th><th>float64</th><th>float64</th><th>str11</th><th>str5</th><th>str19</th><th>str23</th><th>str18</th><th>str71</th><th>str37</th><th>str57</th><th>str40</th><th>str163</th></tr></thead>\n",
       "<tr><td>1</td><td>50 GeV-2 TeV (Fermi)</td><td>8.06e-12</td><td>+/-2.72E-12</td><td>erg/cm^2^/s</td><td>2.48e+26</td><td>3.25e-15</td><td>1.1e-15</td><td>1.1e-15</td><td>--</td><td>--</td><td>+/-1.10E-15</td><td>Jy</td><td>2016ApJS..222....5A</td><td>1 sigma</td><td>1.025 TeV</td><td>Broad-band measurement</td><td>049.9670 +41.5219 (J2000)</td><td>Flux integrated from map</td><td></td><td>From new raw data; NED frequency assigned to mid-point ofband in keV</td></tr>\n",
       "<tr><td>2</td><td>0.01-1 TeV (Fermi)</td><td>4.8e-11</td><td>+/-3.16E-12</td><td>erg/cm^2^/s</td><td>1.22e+26</td><td>3.93e-14</td><td>2.59e-15</td><td>2.59e-15</td><td>--</td><td>--</td><td>+/-2.59E-15</td><td>Jy</td><td>2017ApJS..232...18A</td><td>1 sigma</td><td>0.51 TeV</td><td>Broad-band measurement</td><td>049.959995 +41.512283 (J2000)</td><td>From fitting to map</td><td></td><td>From reprocessed raw data; NED frequency assigned tomid-point of band in keV</td></tr>\n",
       "<tr><td>3</td><td>400 GeV (Whipple)</td><td>--</td><td>&lt;0.29E-11</td><td>erg cm^-2^ s^-1^</td><td>9.67e+25</td><td>--</td><td>--</td><td>--</td><td>3e-15</td><td>--</td><td>&lt;3.00E-15</td><td>Jy</td><td>2006ApJ...644..148P</td><td>90% confidence</td><td>400   GeV</td><td>Broad-band measurement</td><td>03 19 48 +41 30 42 (J2000)</td><td>Flux integrated from map</td><td></td><td>From new raw data</td></tr>\n",
       "<tr><td>4</td><td>100 MeV-100 GeV LAT</td><td>1.741e-10</td><td>+/-8.1E-12</td><td>erg/s/cm^2^</td><td>1.21e+25</td><td>1.44e-12</td><td>6.69e-14</td><td>6.69e-14</td><td>--</td><td>--</td><td>+/-6.69E-14</td><td>Jy</td><td>2010ApJS..188..405A</td><td>uncertainty</td><td>50050 MeV</td><td>Broad-band measurement</td><td>049.941 +41.508 (J2000)</td><td>From fitting to map</td><td></td><td>From new raw data; NED frequency assigned to mid-point ofband in keV</td></tr>\n",
       "<tr><td>5</td><td>0.1-100 GeV (Fermi)</td><td>1.737e-10</td><td>+/-6.2E-12</td><td>erg/cm^2^/s</td><td>1.21e+25</td><td>1.44e-12</td><td>5.12e-14</td><td>5.12e-14</td><td>--</td><td>--</td><td>+/-5.12E-14</td><td>Jy</td><td>2012ApJS..199...31N</td><td>1 sigma</td><td>50.05 GeV</td><td>Broad-band measurement</td><td>049.965 +41.513 (J2000)</td><td>Modelled datum</td><td>Variable</td><td>From new raw data; NED frequency assigned to mid-point ofband in keV</td></tr>\n",
       "<tr><td>6</td><td>0.1-100 GeV (Fermi)</td><td>1.991e-10</td><td>+/-3.9E-12</td><td>erg/cm^2^/s</td><td>1.21e+25</td><td>1.65e-12</td><td>3.22e-23</td><td>3.22e-23</td><td>--</td><td>--</td><td>+/-3.22E-23</td><td>Jy</td><td>2015ApJS..218...23A</td><td>1 sigma</td><td>50.05 GeV</td><td>Broad-band measurement</td><td>049.959 +41.514 (J2000)</td><td>From fitting to map</td><td>Variable; Gamma=2.08; Mod=LP</td><td>From new raw data; NED frequency assigned to mid-point ofband in keV</td></tr>\n",
       "<tr><td>7</td><td>14-195 keV (Swift)</td><td>6.85e-11</td><td>+/-0.28E-11</td><td>erg/s/cm^2^</td><td>2.53e+19</td><td>2.71e-07</td><td>1.11e-08</td><td>1.11e-08</td><td>--</td><td>--</td><td>+/-1.11E-08</td><td>Jy</td><td>2010ApJS..186..378T</td><td>uncertainty</td><td>104.50 keV</td><td>Broad-band measurement</td><td>049.960 +41.515 (J2000)</td><td>Flux integrated from map</td><td></td><td>From new raw data; NED frequency assigned to mid-point ofband in keV</td></tr>\n",
       "<tr><td>8</td><td>14-195 keV (Swift)</td><td>1.15e-10</td><td></td><td>erg/cm^2^/s</td><td>2.53e+19</td><td>4.55e-07</td><td>--</td><td>--</td><td>--</td><td>--</td><td></td><td>Jy</td><td>2008ApJ...681..113T</td><td>no uncertainty reported</td><td>104.50 keV</td><td>Broad-band measurement</td><td>049.9507 +41.5117 (J2000)</td><td>Modelled datum</td><td></td><td>From new raw data; NED frequency assigned to mid-point ofband in keV</td></tr>\n",
       "<tr><td>9</td><td>14-195 keV (Swift)</td><td>7.34e-11</td><td></td><td>erg/cm^2^/s</td><td>2.53e+19</td><td>2.9e-07</td><td>--</td><td>--</td><td>--</td><td>--</td><td></td><td>Jy</td><td>2017ApJS..233...17R</td><td>no uncertainty reported</td><td>104.50 keV</td><td>Broad-band measurement</td><td></td><td>Modelled datum</td><td>Observed flux</td><td>From reprocessed raw data; NED frequency assigned tomid-point of band in keV</td></tr>\n",
       "<tr><td>10</td><td>14-195 keV (Swift)</td><td>7.92e-11</td><td></td><td>erg/cm^2^/s</td><td>2.53e+19</td><td>3.13e-07</td><td>--</td><td>--</td><td>--</td><td>--</td><td></td><td>Jy</td><td>2017ApJS..233...17R</td><td>no uncertainty reported</td><td>104.50 keV</td><td>Broad-band measurement</td><td></td><td>Modelled datum</td><td>Intrinsic flux</td><td>From reprocessed raw data; NED frequency assigned tomid-point of band in keV</td></tr>\n",
       "<tr><td>...</td><td>...</td><td>...</td><td>...</td><td>...</td><td>...</td><td>...</td><td>...</td><td>...</td><td>...</td><td>...</td><td>...</td><td>...</td><td>...</td><td>...</td><td>...</td><td>...</td><td>...</td><td>...</td><td>...</td><td>...</td></tr>\n",
       "<tr><td>610</td><td>22.25 MHz</td><td>819.95</td><td>+/-88.334</td><td>Jy</td><td>22200000.0</td><td>820.0</td><td>88.3</td><td>88.3</td><td>--</td><td>--</td><td>+/-8.83E+01</td><td>Jy</td><td>1980MNRAS.190..903L</td><td>uncertainty</td><td>22.25      MHz</td><td>Broad-band measurement</td><td></td><td>Total flux</td><td></td><td>Homogenized from previously published data</td></tr>\n",
       "<tr><td>611</td><td>20.0 MHz</td><td>1080.0</td><td>+/-13  %</td><td>Jy</td><td>20000000.0</td><td>1080.0</td><td>140.0</td><td>140.0</td><td>--</td><td>--</td><td>+/-1.40E+02</td><td>Jy</td><td>1969MNRAS.143..289B</td><td>estimated error</td><td>20.0       MHz</td><td>Broad-band measurement</td><td></td><td>Total flux</td><td></td><td>From new raw data</td></tr>\n",
       "<tr><td>612</td><td>20 MHz (UTR-1)</td><td>1.0799999999999999e-23</td><td>+/-13  %</td><td>W m^-2^ Hz^-1^</td><td>20000000.0</td><td>1080.0</td><td>140.0</td><td>140.0</td><td>--</td><td>--</td><td>+/-1.40E+02</td><td>Jy</td><td>1969MNRAS.143..289B</td><td>uncertainty</td><td>20   MHz</td><td>Broad-band measurement</td><td>03 16 28.6 +41 19.8 (B1950)</td><td>Total flux</td><td></td><td>From new raw data</td></tr>\n",
       "<tr><td>613</td><td>16.7 MHz</td><td>1550.0</td><td>+/-14  %</td><td>Jy</td><td>16700000.0</td><td>1550.0</td><td>217.0</td><td>217.0</td><td>--</td><td>--</td><td>+/-2.17E+02</td><td>Jy</td><td>1969MNRAS.143..289B</td><td>estimated error</td><td>16.7       MHz</td><td>Broad-band measurement</td><td></td><td>Total flux</td><td></td><td>From new raw data</td></tr>\n",
       "<tr><td>614</td><td>16.7 MHz (UTR-1)</td><td>1.55e-23</td><td>+/-14  %</td><td>W m^-2^ Hz^-1^</td><td>16700000.0</td><td>1550.0</td><td>217.0</td><td>217.0</td><td>--</td><td>--</td><td>+/-2.17E+02</td><td>Jy</td><td>1969MNRAS.143..289B</td><td>uncertainty</td><td>16.7   MHz</td><td>Broad-band measurement</td><td>03 16 28.6 +41 19.8 (B1950)</td><td>Total flux</td><td></td><td>From new raw data</td></tr>\n",
       "<tr><td>615</td><td>14.7 MHz</td><td>1670.0</td><td>+/-13  %</td><td>Jy</td><td>14700000.0</td><td>1670.0</td><td>217.0</td><td>217.0</td><td>--</td><td>--</td><td>+/-2.17E+02</td><td>Jy</td><td>1969MNRAS.143..289B</td><td>estimated error</td><td>14.7       MHz</td><td>Broad-band measurement</td><td></td><td>Total flux</td><td></td><td>From new raw data</td></tr>\n",
       "<tr><td>616</td><td>14.7 MHz (UTR-1)</td><td>1.67e-23</td><td>+/-13  %</td><td>W m^-2^ Hz^-1^</td><td>14700000.0</td><td>1670.0</td><td>217.0</td><td>217.0</td><td>--</td><td>--</td><td>+/-2.17E+02</td><td>Jy</td><td>1969MNRAS.143..289B</td><td>uncertainty</td><td>14.7   MHz</td><td>Broad-band measurement</td><td>03 16 28.6 +41 19.8 (B1950)</td><td>Total flux</td><td></td><td>From new raw data</td></tr>\n",
       "<tr><td>617</td><td>12.6 MHz (UTR-1)</td><td>1.9e-23</td><td>+/-13  %</td><td>W m^-2^ Hz^-1^</td><td>12600000.0</td><td>1900.0</td><td>247.0</td><td>247.0</td><td>--</td><td>--</td><td>+/-2.47E+02</td><td>Jy</td><td>1969MNRAS.143..289B</td><td>uncertainty</td><td>12.6   MHz</td><td>Broad-band measurement</td><td>03 16 28.6 +41 19.8 (B1950)</td><td>Total flux</td><td></td><td>From new raw data</td></tr>\n",
       "<tr><td>618</td><td>12.6 MHz</td><td>1900.0</td><td>+/-13  %</td><td>Jy</td><td>12600000.0</td><td>1900.0</td><td>247.0</td><td>247.0</td><td>--</td><td>--</td><td>+/-2.47E+02</td><td>Jy</td><td>1969MNRAS.143..289B</td><td>estimated error</td><td>12.6       MHz</td><td>Broad-band measurement</td><td></td><td>Total flux</td><td></td><td>From new raw data</td></tr>\n",
       "<tr><td>619</td><td>10 MHz</td><td>1704.0</td><td>+/-384.000</td><td>Jy</td><td>10000000.0</td><td>1700.0</td><td>384.0</td><td>384.0</td><td>--</td><td>--</td><td>+/-3.84E+02</td><td>Jy</td><td>1980MNRAS.190..903L</td><td>uncertainty</td><td>10         MHz</td><td>Broad-band measurement</td><td></td><td>Total flux</td><td></td><td>Homogenized from previously published data</td></tr>\n",
       "</table></div>"
      ],
      "text/plain": [
       "<Table length=524>\n",
       " No.  ...\n",
       "int64 ...\n",
       "----- ...\n",
       "    1 ...\n",
       "    2 ...\n",
       "    3 ...\n",
       "    4 ...\n",
       "    5 ...\n",
       "    6 ...\n",
       "    7 ...\n",
       "    8 ...\n",
       "    9 ...\n",
       "   10 ...\n",
       "  ... ...\n",
       "  610 ...\n",
       "  611 ...\n",
       "  612 ...\n",
       "  613 ...\n",
       "  614 ...\n",
       "  615 ...\n",
       "  616 ...\n",
       "  617 ...\n",
       "  618 ...\n",
       "  619 ..."
      ]
     },
     "execution_count": 56,
     "metadata": {},
     "output_type": "execute_result"
    }
   ],
   "source": [
    "phot_t = Table.read(path_votables+sample['Name_Id'][ind_sample[0][i]]+'_'+date_samples+'.vot', format='votable')\n",
    "phot_t"
   ]
  },
  {
   "cell_type": "code",
   "execution_count": 58,
   "id": "88a4b0cd",
   "metadata": {},
   "outputs": [
    {
     "ename": "UnitConversionError",
     "evalue": "'' (dimensionless) and 'micron' (length) are not convertible",
     "output_type": "error",
     "traceback": [
      "\u001b[0;31m---------------------------------------------------------------------------\u001b[0m",
      "\u001b[0;31mUnitConversionError\u001b[0m                       Traceback (most recent call last)",
      "\u001b[0;32m/tmp/ipykernel_3585/4154943363.py\u001b[0m in \u001b[0;36m<module>\u001b[0;34m\u001b[0m\n\u001b[1;32m      1\u001b[0m \u001b[0mplt\u001b[0m\u001b[0;34m.\u001b[0m\u001b[0mfigure\u001b[0m\u001b[0;34m(\u001b[0m\u001b[0mfigsize\u001b[0m\u001b[0;34m=\u001b[0m\u001b[0;34m(\u001b[0m\u001b[0;36m10\u001b[0m\u001b[0;34m,\u001b[0m\u001b[0;36m7\u001b[0m\u001b[0;34m)\u001b[0m\u001b[0;34m)\u001b[0m\u001b[0;34m\u001b[0m\u001b[0;34m\u001b[0m\u001b[0m\n\u001b[0;32m----> 2\u001b[0;31m plt.scatter(phot_t['Frequency'].to(u.micron, equivalencies=u.spectral()), \n\u001b[0m\u001b[1;32m      3\u001b[0m             phot_t['Flux_Density'], marker='*', label='Photometry from NED')\n\u001b[1;32m      4\u001b[0m \u001b[0mplt\u001b[0m\u001b[0;34m.\u001b[0m\u001b[0mloglog\u001b[0m\u001b[0;34m(\u001b[0m\u001b[0;34m)\u001b[0m\u001b[0;34m\u001b[0m\u001b[0;34m\u001b[0m\u001b[0m\n\u001b[1;32m      5\u001b[0m \u001b[0mplt\u001b[0m\u001b[0;34m.\u001b[0m\u001b[0mxlabel\u001b[0m\u001b[0;34m(\u001b[0m\u001b[0;34m'Wavelength [um]'\u001b[0m\u001b[0;34m)\u001b[0m\u001b[0;34m\u001b[0m\u001b[0;34m\u001b[0m\u001b[0m\n",
      "\u001b[0;32m~/anaconda3/lib/python3.9/site-packages/astropy/table/column.py\u001b[0m in \u001b[0;36mto\u001b[0;34m(self, unit, equivalencies, **kwargs)\u001b[0m\n\u001b[1;32m    947\u001b[0m             \u001b[0;31m`\u001b[0m\u001b[0;31m`\u001b[0m\u001b[0munit\u001b[0m\u001b[0;31m`\u001b[0m\u001b[0;31m`\u001b[0m\u001b[0;34m.\u001b[0m\u001b[0;34m\u001b[0m\u001b[0;34m\u001b[0m\u001b[0m\n\u001b[1;32m    948\u001b[0m         \"\"\"\n\u001b[0;32m--> 949\u001b[0;31m         \u001b[0;32mreturn\u001b[0m \u001b[0mself\u001b[0m\u001b[0;34m.\u001b[0m\u001b[0mquantity\u001b[0m\u001b[0;34m.\u001b[0m\u001b[0mto\u001b[0m\u001b[0;34m(\u001b[0m\u001b[0munit\u001b[0m\u001b[0;34m,\u001b[0m \u001b[0mequivalencies\u001b[0m\u001b[0;34m)\u001b[0m\u001b[0;34m\u001b[0m\u001b[0;34m\u001b[0m\u001b[0m\n\u001b[0m\u001b[1;32m    950\u001b[0m \u001b[0;34m\u001b[0m\u001b[0m\n\u001b[1;32m    951\u001b[0m     \u001b[0;32mdef\u001b[0m \u001b[0m_copy_attrs\u001b[0m\u001b[0;34m(\u001b[0m\u001b[0mself\u001b[0m\u001b[0;34m,\u001b[0m \u001b[0mobj\u001b[0m\u001b[0;34m)\u001b[0m\u001b[0;34m:\u001b[0m\u001b[0;34m\u001b[0m\u001b[0;34m\u001b[0m\u001b[0m\n",
      "\u001b[0;32m~/anaconda3/lib/python3.9/site-packages/astropy/units/quantity.py\u001b[0m in \u001b[0;36mto\u001b[0;34m(self, unit, equivalencies, copy)\u001b[0m\n\u001b[1;32m    847\u001b[0m             \u001b[0;31m# Avoid using to_value to ensure that we make a copy. We also\u001b[0m\u001b[0;34m\u001b[0m\u001b[0;34m\u001b[0m\u001b[0m\n\u001b[1;32m    848\u001b[0m             \u001b[0;31m# don't want to slow down this method (esp. the scalar case).\u001b[0m\u001b[0;34m\u001b[0m\u001b[0;34m\u001b[0m\u001b[0m\n\u001b[0;32m--> 849\u001b[0;31m             \u001b[0mvalue\u001b[0m \u001b[0;34m=\u001b[0m \u001b[0mself\u001b[0m\u001b[0;34m.\u001b[0m\u001b[0m_to_value\u001b[0m\u001b[0;34m(\u001b[0m\u001b[0munit\u001b[0m\u001b[0;34m,\u001b[0m \u001b[0mequivalencies\u001b[0m\u001b[0;34m)\u001b[0m\u001b[0;34m\u001b[0m\u001b[0;34m\u001b[0m\u001b[0m\n\u001b[0m\u001b[1;32m    850\u001b[0m         \u001b[0;32melse\u001b[0m\u001b[0;34m:\u001b[0m\u001b[0;34m\u001b[0m\u001b[0;34m\u001b[0m\u001b[0m\n\u001b[1;32m    851\u001b[0m             \u001b[0;31m# to_value only copies if necessary\u001b[0m\u001b[0;34m\u001b[0m\u001b[0;34m\u001b[0m\u001b[0m\n",
      "\u001b[0;32m~/anaconda3/lib/python3.9/site-packages/astropy/units/quantity.py\u001b[0m in \u001b[0;36m_to_value\u001b[0;34m(self, unit, equivalencies)\u001b[0m\n\u001b[1;32m    801\u001b[0m         \u001b[0;32mif\u001b[0m \u001b[0;32mnot\u001b[0m \u001b[0mself\u001b[0m\u001b[0;34m.\u001b[0m\u001b[0mdtype\u001b[0m\u001b[0;34m.\u001b[0m\u001b[0mnames\u001b[0m \u001b[0;32mor\u001b[0m \u001b[0misinstance\u001b[0m\u001b[0;34m(\u001b[0m\u001b[0mself\u001b[0m\u001b[0;34m.\u001b[0m\u001b[0munit\u001b[0m\u001b[0;34m,\u001b[0m \u001b[0mStructuredUnit\u001b[0m\u001b[0;34m)\u001b[0m\u001b[0;34m:\u001b[0m\u001b[0;34m\u001b[0m\u001b[0;34m\u001b[0m\u001b[0m\n\u001b[1;32m    802\u001b[0m             \u001b[0;31m# Standard path, let unit to do work.\u001b[0m\u001b[0;34m\u001b[0m\u001b[0;34m\u001b[0m\u001b[0m\n\u001b[0;32m--> 803\u001b[0;31m             return self.unit.to(unit, self.view(np.ndarray),\n\u001b[0m\u001b[1;32m    804\u001b[0m                                 equivalencies=equivalencies)\n\u001b[1;32m    805\u001b[0m \u001b[0;34m\u001b[0m\u001b[0m\n",
      "\u001b[0;32m~/anaconda3/lib/python3.9/site-packages/astropy/units/core.py\u001b[0m in \u001b[0;36mto\u001b[0;34m(self, other, value, equivalencies)\u001b[0m\n\u001b[1;32m   1133\u001b[0m             \u001b[0;32mreturn\u001b[0m \u001b[0mUNITY\u001b[0m\u001b[0;34m\u001b[0m\u001b[0;34m\u001b[0m\u001b[0m\n\u001b[1;32m   1134\u001b[0m         \u001b[0;32melse\u001b[0m\u001b[0;34m:\u001b[0m\u001b[0;34m\u001b[0m\u001b[0;34m\u001b[0m\u001b[0m\n\u001b[0;32m-> 1135\u001b[0;31m             return self._get_converter(Unit(other),\n\u001b[0m\u001b[1;32m   1136\u001b[0m                                        equivalencies=equivalencies)(value)\n\u001b[1;32m   1137\u001b[0m \u001b[0;34m\u001b[0m\u001b[0m\n",
      "\u001b[0;32m~/anaconda3/lib/python3.9/site-packages/astropy/units/core.py\u001b[0m in \u001b[0;36m_get_converter\u001b[0;34m(self, other, equivalencies)\u001b[0m\n\u001b[1;32m   1064\u001b[0m                             \u001b[0;32mpass\u001b[0m\u001b[0;34m\u001b[0m\u001b[0;34m\u001b[0m\u001b[0m\n\u001b[1;32m   1065\u001b[0m \u001b[0;34m\u001b[0m\u001b[0m\n\u001b[0;32m-> 1066\u001b[0;31m             \u001b[0;32mraise\u001b[0m \u001b[0mexc\u001b[0m\u001b[0;34m\u001b[0m\u001b[0;34m\u001b[0m\u001b[0m\n\u001b[0m\u001b[1;32m   1067\u001b[0m \u001b[0;34m\u001b[0m\u001b[0m\n\u001b[1;32m   1068\u001b[0m     \u001b[0;32mdef\u001b[0m \u001b[0m_to\u001b[0m\u001b[0;34m(\u001b[0m\u001b[0mself\u001b[0m\u001b[0;34m,\u001b[0m \u001b[0mother\u001b[0m\u001b[0;34m)\u001b[0m\u001b[0;34m:\u001b[0m\u001b[0;34m\u001b[0m\u001b[0;34m\u001b[0m\u001b[0m\n",
      "\u001b[0;32m~/anaconda3/lib/python3.9/site-packages/astropy/units/core.py\u001b[0m in \u001b[0;36m_get_converter\u001b[0;34m(self, other, equivalencies)\u001b[0m\n\u001b[1;32m   1049\u001b[0m         \u001b[0;31m# if that doesn't work, maybe we can do it with equivalencies?\u001b[0m\u001b[0;34m\u001b[0m\u001b[0;34m\u001b[0m\u001b[0m\n\u001b[1;32m   1050\u001b[0m         \u001b[0;32mtry\u001b[0m\u001b[0;34m:\u001b[0m\u001b[0;34m\u001b[0m\u001b[0;34m\u001b[0m\u001b[0m\n\u001b[0;32m-> 1051\u001b[0;31m             return self._apply_equivalencies(\n\u001b[0m\u001b[1;32m   1052\u001b[0m                 self, other, self._normalize_equivalencies(equivalencies))\n\u001b[1;32m   1053\u001b[0m         \u001b[0;32mexcept\u001b[0m \u001b[0mUnitsError\u001b[0m \u001b[0;32mas\u001b[0m \u001b[0mexc\u001b[0m\u001b[0;34m:\u001b[0m\u001b[0;34m\u001b[0m\u001b[0;34m\u001b[0m\u001b[0m\n",
      "\u001b[0;32m~/anaconda3/lib/python3.9/site-packages/astropy/units/core.py\u001b[0m in \u001b[0;36m_apply_equivalencies\u001b[0;34m(self, unit, other, equivalencies)\u001b[0m\n\u001b[1;32m   1025\u001b[0m         \u001b[0mother_str\u001b[0m \u001b[0;34m=\u001b[0m \u001b[0mget_err_str\u001b[0m\u001b[0;34m(\u001b[0m\u001b[0mother\u001b[0m\u001b[0;34m)\u001b[0m\u001b[0;34m\u001b[0m\u001b[0;34m\u001b[0m\u001b[0m\n\u001b[1;32m   1026\u001b[0m \u001b[0;34m\u001b[0m\u001b[0m\n\u001b[0;32m-> 1027\u001b[0;31m         raise UnitConversionError(\n\u001b[0m\u001b[1;32m   1028\u001b[0m             f\"{unit_str} and {other_str} are not convertible\")\n\u001b[1;32m   1029\u001b[0m \u001b[0;34m\u001b[0m\u001b[0m\n",
      "\u001b[0;31mUnitConversionError\u001b[0m: '' (dimensionless) and 'micron' (length) are not convertible"
     ]
    },
    {
     "data": {
      "text/plain": [
       "<Figure size 720x504 with 0 Axes>"
      ]
     },
     "metadata": {},
     "output_type": "display_data"
    }
   ],
   "source": [
    "plt.figure(figsize=(10,7))\n",
    "plt.scatter(phot_t['Frequency'].to(u.micron, equivalencies=u.spectral()), \n",
    "            phot_t['Flux_Density'], marker='*', label='Photometry from NED')\n",
    "plt.loglog()\n",
    "plt.xlabel('Wavelength [um]')\n",
    "plt.ylabel('Flux [Jy]')\n",
    "plt.legend()\n",
    "plt.show()"
   ]
  },
  {
   "cell_type": "code",
   "execution_count": null,
   "id": "e7f68153",
   "metadata": {},
   "outputs": [],
   "source": [
    "NEDFilters = ['2-10 keV (XMM)', '0.5-2 keV (XMM)', 'FUV (GALEX)', 'NUV (GALEX)', 'u (SDSS) AB', \n",
    "              'g (SDSS) AB', 'r (SDSS) AB', 'i (SDSS) AB', 'z (SDSS) AB', 'J (2MASS) AB', \n",
    "              'H (2MASS) AB', 'Ks (2MASS) AB', 'W1 (WISE)', 'W2 (WISE)', 'W3 (WISE)', 'W4 (WISE)',\n",
    "              '3.6 microns (IRAC)', '4.5 microns (IRAC)', '5.8 microns (IRAC)', '8.0 microns (IRAC)',\n",
    "              '12 microns (IRAS)', '25 microns (IRAS)', '60 microns (IRAS)', '100 microns (IRAS)',\n",
    "              '24 microns (MIPS)', '70 microns (MIPS)', '160 microns (MIPS)', '70 microns (PACS)', \n",
    "              '100 microns (PACS)', '160 microns (PACS)', '250 microns (SPIRE)', '350 microns (SPIRE)', \n",
    "              '500 microns (SPIRE)', '4.89 GHz (VLA)', '1.46 GHz (VLA)', '1.4GHz']"
   ]
  },
  {
   "cell_type": "code",
   "execution_count": null,
   "id": "0652f248",
   "metadata": {},
   "outputs": [],
   "source": [
    "class CleanPhotometry:\n",
    "    \"\"\"Clean the photometry in CDS and NED tables\"\"\"\n",
    "    def __init__(self, table_cds, table_ned):\n",
    "        print('Cleaning')\n",
    "        self.cds_table = table_cds\n",
    "        self.ned_table = table_ned\n",
    "        self.bib_codes = np.array([])\n",
    "        self.join_tables()\n",
    "\n",
    "    def get_bibcodes(self, bibcode):\n",
    "        \"\"\"Get the bibcodes for the tables to analyse them later.\"\"\"\n",
    "        bib = np.array(bibcode)\n",
    "        self.bib_codes = np.unique(np.concatenate((self.bib_codes, bib)))\n",
    "\n",
    "    def clean_cds_to(self, table):\n",
    "        \"\"\"Remove rows with masked (empty) and null (0) values, then average the values.\"\"\"\n",
    "        table.remove_rows(np.where(table['sed_eflux'].mask)[0])\n",
    "        table.remove_rows(np.where(table['sed_eflux'] == 0.0)[0])\n",
    "        self.get_bibcodes(table['Bibcode'])\n",
    "        values, counts = uniq(table['sed_flux'], return_counts=True)\n",
    "        if len(values) > 0:\n",
    "            avg = np.average(values, weights=counts)\n",
    "            std = np.sqrt(np.sum(table['sed_eflux']**2))\n",
    "            return(avg, std)\n",
    "        return(np.nan, np.nan)\n",
    "\n",
    "    def clean_ned_to(self, table):\n",
    "        \"\"\"Remove rows with masked (empty) and string values, then average the values.\"\"\"\n",
    "        table.remove_rows(np.where(table['Flux_Density'].mask)[0])\n",
    "        table.remove_rows(np.where(table['NED_Uncertainty'] == '')[0])\n",
    "        table.remove_rows(np.where(table['NED_Uncertainty'] == '+/-...')[0])\n",
    "        self.get_bibcodes(table['Refcode'])\n",
    "        values, counts = uniq(table['Flux_Density'], return_counts=True)\n",
    "        table['NED_Uncertainty'] = [float(j.split('+/-')[-1]) for j in table['NED_Uncertainty']]\n",
    "        if len(values) > 0:\n",
    "            avg = np.average(values, weights=counts)\n",
    "            std = np.sqrt(np.sum(table['NED_Uncertainty']**2))\n",
    "            return(avg, std)\n",
    "        return(np.nan, np.nan)\n",
    "\n",
    "    def filters_ned(self, table_filter):\n",
    "        \"\"\" Use only the information that we need from NED \"\"\"\n",
    "        data_tab = []\n",
    "        band = [np.where(self.ned_table['Observed_Passband'] == filt)[0] for filt in table_filter]\n",
    "        for bandinx, bandif in enumerate(band):\n",
    "            avg, std = self.clean_ned_to(self.ned_table[bandif])\n",
    "            if np.isnan(avg):\n",
    "                continue\n",
    "            to_um = self.ned_table[bandif]['Frequency'].to(u.micron,\n",
    "                                                           equivalencies=u.spectral())\n",
    "            data_tab.append([table_filter[bandinx], np.mean(to_um), avg*u.Jy, std*u.Jy])\n",
    "        return(Table(np.array(data_tab),\n",
    "                     names=['Filter', 'Wave', 'Flux', 'F_er'],\n",
    "                     dtype=('U32', 'float64', 'float64', 'float64')))\n",
    "\n",
    "    def filters_cds(self, table_filter):\n",
    "        \"\"\"Use only the information that we need from CDS\"\"\"\n",
    "        data_tab = []\n",
    "        band = [np.where(self.cds_table['sed_filter'] == filt)[0] for filt in table_filter]\n",
    "        for bandinx, bandif in enumerate(band):\n",
    "            avg, std = self.clean_cds_to(self.cds_table[bandif])\n",
    "            if np.isnan(avg):\n",
    "                continue\n",
    "            to_um = self.cds_table[bandif]['sed_freq'].to(u.micron,\n",
    "                                                          equivalencies=u.spectral())\n",
    "            data_tab.append([table_filter[bandinx], np.mean(to_um), avg*u.Jy, std*u.Jy])\n",
    "        return(Table(np.array(data_tab),\n",
    "                     names=['Filter', 'Wave', 'Flux', 'F_er'],\n",
    "                     dtype=('U32', 'float64', 'float64', 'float64')))\n",
    "\n",
    "    def join_tables(self):\n",
    "        \"\"\"Finally, we join the tables and remove those whose errors are too high\"\"\"\n",
    "        self.final_tab = vstack([self.filters_cds(CDSFilters), self.filters_ned(NEDFilters)])\n",
    "        self.final_tab.remove_rows(np.where(self.final_tab['F_er']/self.final_tab['Flux'] >= 1))"
   ]
  },
  {
   "cell_type": "code",
   "execution_count": null,
   "id": "95df4f59",
   "metadata": {},
   "outputs": [],
   "source": [
    "# We show an example of the last galaxies from the positon 17725\n",
    "IND = 305  # It should be zero for all, here is 17725 as an example\n",
    "SED_PATH = '../Datos/SEDs/'\n",
    "Path(SED_PATH).mkdir(parents=True, exist_ok=True)\n",
    "for Galaxy, cds_url in Sample['main_id','cds_url'][IND:IND+3]:\n",
    "    if path.exists(SED_PATH+Galaxy+'_Phot.txt'):\n",
    "        print(IND, 'Already exist')\n",
    "        IND += 1\n",
    "        continue\n",
    "    InitTabl = ObtainPhotometry(Galaxy, cds_url)\n",
    "    cleaned = CleanPhotometry(InitTabl.cds_table, InitTabl.ned_table)\n",
    "    SED = cleaned.final_tab\n",
    "    BIBCODES = ';'.join(cleaned.bib_codes)\n",
    "    with open(\"../Data/Interim/Bibcodes_SED.csv\", \"a+\") as file_bibcodes:\n",
    "        file_bibcodes.writelines([Galaxy+',', BIBCODES+'\\n'])\n",
    "        file_bibcodes.close()\n",
    "    SED.write(SED_PATH+Galaxy+'_Phot.txt', format='ascii')\n",
    "    print(IND, 'Finish')\n",
    "    IND += 1"
   ]
  },
  {
   "cell_type": "code",
   "execution_count": null,
   "id": "adffaeba",
   "metadata": {},
   "outputs": [],
   "source": [
    "band"
   ]
  },
  {
   "cell_type": "code",
   "execution_count": null,
   "id": "1be514d1",
   "metadata": {},
   "outputs": [],
   "source": [
    "c = [(a + 2) for a in range(10)] "
   ]
  },
  {
   "cell_type": "code",
   "execution_count": null,
   "id": "2596d3e2",
   "metadata": {},
   "outputs": [],
   "source": [
    "c"
   ]
  },
  {
   "cell_type": "code",
   "execution_count": null,
   "id": "e3c026df",
   "metadata": {},
   "outputs": [],
   "source": []
  }
 ],
 "metadata": {
  "kernelspec": {
   "display_name": "Python 3 (ipykernel)",
   "language": "python",
   "name": "python3"
  },
  "language_info": {
   "codemirror_mode": {
    "name": "ipython",
    "version": 3
   },
   "file_extension": ".py",
   "mimetype": "text/x-python",
   "name": "python",
   "nbconvert_exporter": "python",
   "pygments_lexer": "ipython3",
   "version": "3.9.7"
  }
 },
 "nbformat": 4,
 "nbformat_minor": 5
}
