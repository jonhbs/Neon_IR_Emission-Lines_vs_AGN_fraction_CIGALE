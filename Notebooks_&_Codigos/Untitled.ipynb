{
 "cells": [
  {
   "cell_type": "code",
   "execution_count": 1,
   "id": "7ed6511c",
   "metadata": {},
   "outputs": [],
   "source": [
    "import time\n",
    "from os import path\n",
    "from pathlib import Path\n",
    "from datetime import datetime\n",
    "import pandas as pd\n",
    "\n",
    "import astropy.units as u\n",
    "from astropy.table import Table, vstack, unique\n",
    "\n",
    "from astroquery.ipac.ned import Ned\n",
    "from astroquery.simbad import Simbad\n",
    "from astroquery.vizier import Vizier\n",
    "#from astroquery.ned.core import RemoteServiceError, TableParseError\n",
    "\n",
    "import requests\n",
    "from requests import Request, Session\n",
    "\n",
    "from numpy import unique as uniq\n",
    "\n",
    "from astropy.coordinates import SkyCoord\n",
    "from astropy.table import Table"
   ]
  },
  {
   "cell_type": "code",
   "execution_count": 2,
   "id": "5f5be009",
   "metadata": {
    "scrolled": false
   },
   "outputs": [
    {
     "data": {
      "text/html": [
       "<div><i>Table length=44272</i>\n",
       "<table id=\"table139899838717424\" class=\"table-striped table-bordered table-condensed\">\n",
       "<thead><tr><th>main_id</th><th>ra</th><th>dec</th><th>coo_bibcode</th><th>otype_txt</th><th>rvz_bibcode</th><th>rvz_radvel</th><th>rvz_redshift</th><th>rvz_type</th><th>nbref</th><th>otypes</th><th>cds_url</th></tr></thead>\n",
       "<thead><tr><th></th><th>deg</th><th>deg</th><th></th><th></th><th></th><th>km / s</th><th></th><th></th><th></th><th></th><th></th></tr></thead>\n",
       "<thead><tr><th>object</th><th>float64</th><th>float64</th><th>object</th><th>object</th><th>object</th><th>float64</th><th>float64</th><th>str1</th><th>int32</th><th>object</th><th>str93</th></tr></thead>\n",
       "<tr><td>RX J1203.5+4432</td><td>180.88724599190996</td><td>2.4929432724600002</td><td>2020yCat.1350....0G</td><td>Sy1</td><td>2012ApJS..203...21A</td><td>22264.155457144552</td><td>0.07724</td><td>z</td><td>42</td><td>*  |AGN|EmO|G  |GiC|IR |QSO|Rad|Sy1|V* |X</td><td>http://vizier.u-strasbg.fr/viz-bin/sed?-c=180.88724599190996%202.4929432724600002&amp;-c.rs=5</td></tr>\n",
       "<tr><td>2MASX J12014361+4307386</td><td>180.43169828928998</td><td>43.1273394439</td><td>2020yCat.1350....0G</td><td>Sy2</td><td>2009ApJS..182..543A</td><td>20748.633978793205</td><td>0.07178</td><td>z</td><td>4</td><td>*  |G  |Rad|Sy2|rG</td><td>http://vizier.u-strasbg.fr/viz-bin/sed?-c=180.43169828928998%2043.1273394439&amp;-c.rs=5</td></tr>\n",
       "<tr><td>SDSS J144452.42+511957.5</td><td>221.218431</td><td>51.332651</td><td>2012ApJS..203...21A</td><td>Sy2</td><td>2015ApJS..219...12A</td><td>25457.504881087</td><td>0.08885</td><td>z</td><td>4</td><td>G  |GiG|Sy2</td><td>http://vizier.u-strasbg.fr/viz-bin/sed?-c=221.218431%2051.332651&amp;-c.rs=5</td></tr>\n",
       "<tr><td>FIRST J083344.2+283939</td><td>128.43421094374</td><td>28.66111602879</td><td>2020yCat.1350....0G</td><td>Sy1</td><td>2009ApJS..182..543A</td><td>173513.43668282355</td><td>0.936</td><td>z</td><td>13</td><td>*  |AGN|QSO|Rad|Sy1</td><td>http://vizier.u-strasbg.fr/viz-bin/sed?-c=128.43421094374%2028.66111602879&amp;-c.rs=5</td></tr>\n",
       "<tr><td>SDSS J091658.99+012604.8</td><td>139.24580903083</td><td>1.43466726489</td><td>2020yCat.1350....0G</td><td>Sy1</td><td>2015ApJS..219...12A</td><td>125231.50632150602</td><td>0.56039</td><td>z</td><td>8</td><td>*  |QSO|Sy1</td><td>http://vizier.u-strasbg.fr/viz-bin/sed?-c=139.24580903083%201.43466726489&amp;-c.rs=5</td></tr>\n",
       "<tr><td>MCG+06-34-028</td><td>235.23225416666668</td><td>32.78155555555555</td><td>2006AJ....131.1163S</td><td>Sy2</td><td>2002LEDA.........0P</td><td>15618.951821140114</td><td>0.05353</td><td>z</td><td>12</td><td>G  |IR |Sy2</td><td>http://vizier.u-strasbg.fr/viz-bin/sed?-c=235.23225416666668%2032.78155555555555&amp;-c.rs=5</td></tr>\n",
       "<tr><td>IC 3834</td><td>192.88488958362</td><td>-14.221116888659996</td><td>2020yCat.1350....0G</td><td>Sy1</td><td>2002LEDA.........0P</td><td>4332.318180333962</td><td>0.014557</td><td>z</td><td>34</td><td>*  |AGN|G  |GiG|IR |Sy1</td><td>http://vizier.u-strasbg.fr/viz-bin/sed?-c=192.88488958362%20-14.221116888659996&amp;-c.rs=5</td></tr>\n",
       "<tr><td>SDSS J155011.46+233017.1</td><td>237.54777578073</td><td>23.50475679549</td><td>2020yCat.1350....0G</td><td>Sy2</td><td>2012ApJS..203...21A</td><td>33510.40645237621</td><td>0.11879</td><td>z</td><td>1</td><td>*  |Sy2</td><td>http://vizier.u-strasbg.fr/viz-bin/sed?-c=237.54777578073%2023.50475679549&amp;-c.rs=5</td></tr>\n",
       "<tr><td>2MASS J09260434+1501545</td><td>141.51812883058</td><td>15.03181636849</td><td>2020yCat.1350....0G</td><td>Sy1</td><td>2009ApJS..182..543A</td><td>15817.530255950087</td><td>0.05423</td><td>z</td><td>7</td><td>*  |AGN|G  |IR |Sy1</td><td>http://vizier.u-strasbg.fr/viz-bin/sed?-c=141.51812883058%2015.03181636849&amp;-c.rs=5</td></tr>\n",
       "<tr><td>...</td><td>...</td><td>...</td><td>...</td><td>...</td><td>...</td><td>...</td><td>...</td><td>...</td><td>...</td><td>...</td><td>...</td></tr>\n",
       "<tr><td>[VV2003c] J002413.7+002718</td><td>6.05689728109</td><td>0.45505982115</td><td>2020yCat.1350....0G</td><td>Sy1</td><td>2009ApJS..182..543A</td><td>36034.76400220799</td><td>0.12838</td><td>z</td><td>2</td><td>AGN|G  |GiG|Sy1</td><td>http://vizier.u-strasbg.fr/viz-bin/sed?-c=6.05689728109%200.45505982115&amp;-c.rs=5</td></tr>\n",
       "<tr><td>Z 502-26</td><td>19.84209624267</td><td>32.04404954274</td><td>2020yCat.1350....0G</td><td>Sy2</td><td>2018AJ....155..189D</td><td>16828.014311237086</td><td>0.0578</td><td>z</td><td>17</td><td>*  |AGN|G  |QSO|Sy2|X</td><td>http://vizier.u-strasbg.fr/viz-bin/sed?-c=19.84209624267%2032.04404954274&amp;-c.rs=5</td></tr>\n",
       "<tr><td>2MASX J17135898+3336254</td><td>258.495841</td><td>33.607137</td><td>2017AJ....154...86W</td><td>Sy2</td><td>2009ApJS..182..543A</td><td>11368.985429747425</td><td>0.03867</td><td>z</td><td>7</td><td>AGN|G  |Rad|Sy2</td><td>http://vizier.u-strasbg.fr/viz-bin/sed?-c=258.495841%2033.607137&amp;-c.rs=5</td></tr>\n",
       "<tr><td>2MASS J12035625+5950357</td><td>180.98438622915998</td><td>59.84333565783</td><td>2020yCat.1350....0G</td><td>Sy2</td><td>2009ApJS..182..543A</td><td>17986.65658111202</td><td>0.06191</td><td>z</td><td>9</td><td>*  |AGN|G  |IR |Sy1|Sy2</td><td>http://vizier.u-strasbg.fr/viz-bin/sed?-c=180.98438622915998%2059.84333565783&amp;-c.rs=5</td></tr>\n",
       "<tr><td>2MASX J16133909+3238356</td><td>243.41299961265</td><td>32.6432653885</td><td>2020yCat.1350....0G</td><td>Sy2</td><td>2012ApJS..203...21A</td><td>17885.370023389514</td><td>0.06155</td><td>z</td><td>2</td><td>*  |G  |Sy2</td><td>http://vizier.u-strasbg.fr/viz-bin/sed?-c=243.41299961265%2032.6432653885&amp;-c.rs=5</td></tr>\n",
       "<tr><td>SDSS J021348.53+125951.4</td><td>33.45224143463</td><td>12.99763649215</td><td>2020yCat.1350....0G</td><td>Sy1</td><td>2012ApJS..203...21A</td><td>58601.70874594985</td><td>0.21899</td><td>z</td><td>24</td><td>*  |AGN|G  |Sy1</td><td>http://vizier.u-strasbg.fr/viz-bin/sed?-c=33.45224143463%2012.99763649215&amp;-c.rs=5</td></tr>\n",
       "<tr><td>2MASSI J0844379+412432</td><td>131.15826432072</td><td>41.40904040396</td><td>2020yCat.1350....0G</td><td>Sy1</td><td>2012ApJS..203...21A</td><td>118382.82696125114</td><td>0.51827</td><td>z</td><td>23</td><td>*  |IR |Q? |QSO|Rad|Sy1</td><td>http://vizier.u-strasbg.fr/viz-bin/sed?-c=131.15826432072%2041.40904040396&amp;-c.rs=5</td></tr>\n",
       "<tr><td>NGC  4041</td><td>180.55099029047997</td><td>62.13724892342</td><td>2020yCat.1350....0G</td><td>SyG</td><td>2011yCat.2306....0A</td><td>1205.729175763741</td><td>0.00403</td><td>z</td><td>237</td><td>*  |G  |GiG|HI |IR |Rad|SyG|X</td><td>http://vizier.u-strasbg.fr/viz-bin/sed?-c=180.55099029047997%2062.13724892342&amp;-c.rs=5</td></tr>\n",
       "<tr><td>SDSS J135654.25+425916.9</td><td>209.22607246445997</td><td>42.988010311080004</td><td>2020yCat.1350....0G</td><td>Sy2</td><td>2009ApJS..182..543A</td><td>52795.50572691685</td><td>0.19478</td><td>z</td><td>7</td><td>*  |AGN|GiG|Sy1|Sy2</td><td>http://vizier.u-strasbg.fr/viz-bin/sed?-c=209.22607246445997%2042.988010311080004&amp;-c.rs=5</td></tr>\n",
       "<tr><td>2MASX J11390053+5913477</td><td>174.75215081707</td><td>59.22978784468</td><td>2020yCat.1350....0G</td><td>Sy1</td><td>2012ApJS..203...21A</td><td>32407.109206974397</td><td>0.11463</td><td>z</td><td>29</td><td>AGN|G  |QSO|Sy1|X</td><td>http://vizier.u-strasbg.fr/viz-bin/sed?-c=174.75215081707%2059.22978784468&amp;-c.rs=5</td></tr>\n",
       "</table></div>"
      ],
      "text/plain": [
       "<Table length=44272>\n",
       "         main_id           ...\n",
       "                           ...\n",
       "          object           ...\n",
       "-------------------------- ...\n",
       "           RX J1203.5+4432 ...\n",
       "   2MASX J12014361+4307386 ...\n",
       "  SDSS J144452.42+511957.5 ...\n",
       "    FIRST J083344.2+283939 ...\n",
       "  SDSS J091658.99+012604.8 ...\n",
       "             MCG+06-34-028 ...\n",
       "                   IC 3834 ...\n",
       "  SDSS J155011.46+233017.1 ...\n",
       "   2MASS J09260434+1501545 ...\n",
       "                       ... ...\n",
       "[VV2003c] J002413.7+002718 ...\n",
       "                  Z 502-26 ...\n",
       "   2MASX J17135898+3336254 ...\n",
       "   2MASS J12035625+5950357 ...\n",
       "   2MASX J16133909+3238356 ...\n",
       "  SDSS J021348.53+125951.4 ...\n",
       "    2MASSI J0844379+412432 ...\n",
       "                 NGC  4041 ...\n",
       "  SDSS J135654.25+425916.9 ...\n",
       "   2MASX J11390053+5913477 ..."
      ]
     },
     "execution_count": 2,
     "metadata": {},
     "output_type": "execute_result"
    }
   ],
   "source": [
    "path_raw='../Datos/Raw/'\n",
    "path_phot_ned = '../Datos/Phot_Tables_NED/'\n",
    "path_phot_cds = '../Datos/Phot_Tables_CDS/'\n",
    "Sample = Table.read(path_raw+'SMB_Apr_05_2022_Sy_Samples.vot',format='votable')\n",
    "Sample"
   ]
  },
  {
   "cell_type": "code",
   "execution_count": 3,
   "id": "495aca3e",
   "metadata": {},
   "outputs": [
    {
     "data": {
      "text/html": [
       "<i>Row index=10129</i>\n",
       "<table id=\"table139899838717424\">\n",
       "<thead><tr><th>main_id</th><th>ra</th><th>dec</th><th>coo_bibcode</th><th>otype_txt</th><th>rvz_bibcode</th><th>rvz_radvel</th><th>rvz_redshift</th><th>rvz_type</th><th>nbref</th><th>otypes</th><th>cds_url</th></tr></thead>\n",
       "<thead><tr><th></th><th>deg</th><th>deg</th><th></th><th></th><th></th><th>km / s</th><th></th><th></th><th></th><th></th><th></th></tr></thead>\n",
       "<thead><tr><th>object</th><th>float64</th><th>float64</th><th>object</th><th>object</th><th>object</th><th>float64</th><th>float64</th><th>str1</th><th>int32</th><th>object</th><th>str93</th></tr></thead>\n",
       "<tr><td>LEDA   29208</td><td>151.08390830287</td><td>5.216778022980001</td><td>2020yCat.1350....0G</td><td>Sy1</td><td>2012ApJS..203...21A</td><td>44201.668503198875</td><td>0.16012</td><td>z</td><td>223</td><td>AGN|BH?|G  |IR |QSO|Sy1|UV |X</td><td>http://vizier.u-strasbg.fr/viz-bin/sed?-c=151.08390830287%205.216778022980001&amp;-c.rs=5</td></tr>\n",
       "</table>"
      ],
      "text/plain": [
       "<Row index=10129>\n",
       "  main_id           ra              dec            coo_bibcode     otype_txt     rvz_bibcode         rvz_radvel     rvz_redshift rvz_type nbref             otypes                                                   cds_url                                       \n",
       "                   deg              deg                                                                km / s                                                                                                                                                      \n",
       "   object        float64          float64             object         object         object            float64         float64      str1   int32             object                                                    str93                                        \n",
       "------------ --------------- ----------------- ------------------- --------- ------------------- ------------------ ------------ -------- ----- ----------------------------- -------------------------------------------------------------------------------------\n",
       "LEDA   29208 151.08390830287 5.216778022980001 2020yCat.1350....0G       Sy1 2012ApJS..203...21A 44201.668503198875      0.16012        z   223 AGN|BH?|G  |IR |QSO|Sy1|UV |X http://vizier.u-strasbg.fr/viz-bin/sed?-c=151.08390830287%205.216778022980001&-c.rs=5"
      ]
     },
     "execution_count": 3,
     "metadata": {},
     "output_type": "execute_result"
    }
   ],
   "source": [
    "i = 10129\n",
    "Sample[i]"
   ]
  },
  {
   "cell_type": "code",
   "execution_count": 4,
   "id": "52b33827",
   "metadata": {
    "scrolled": false
   },
   "outputs": [],
   "source": [
    "ned_table = Table.read(path_phot_ned+Sample['main_id'][i]+'_NED_phot_tables'+'.vot', \n",
    "                      format='votable')"
   ]
  },
  {
   "cell_type": "code",
   "execution_count": 42,
   "id": "cf35b843",
   "metadata": {},
   "outputs": [
    {
     "data": {
      "text/plain": [
       "['../Datos/Phot_Tables_CDS/2C  349_CDS_phot_tables.vot']"
      ]
     },
     "execution_count": 42,
     "metadata": {},
     "output_type": "execute_result"
    }
   ],
   "source": [
    "ruta =[path_phot_cds+Sample['main_id'][i]+'_CDS_phot_tables'+'.vot']\n",
    "ruta"
   ]
  },
  {
   "cell_type": "code",
   "execution_count": 5,
   "id": "38989156",
   "metadata": {
    "scrolled": false
   },
   "outputs": [
    {
     "data": {
      "text/html": [
       "<div><i>Table length=407</i>\n",
       "<table id=\"table139898794113008\" class=\"table-striped table-bordered table-condensed\">\n",
       "<thead><tr><th>_RAJ2000</th><th>_DEJ2000</th><th>_tabname</th><th>_ID</th><th>_tab1_29</th><th>_tab1_30</th><th>sed_freq</th><th>sed_flux</th><th>sed_eflux</th><th>sed_filter</th></tr></thead>\n",
       "<thead><tr><th>deg</th><th>deg</th><th></th><th></th><th>d</th><th>s</th><th>GHz</th><th>Jy</th><th>Jy</th><th></th></tr></thead>\n",
       "<thead><tr><th>float64</th><th>float64</th><th>str32</th><th>str64</th><th>float64</th><th>float64</th><th>float64</th><th>float32</th><th>float32</th><th>str32</th></tr></thead>\n",
       "<tr><td>151.083890900</td><td>5.216797000</td><td>I/289/out</td><td>2UCAC=33572661&amp;-c=151.0838909 +05.2167970,eq=J2000&amp;-c.rs=0.004</td><td>--</td><td>0.0</td><td>138550</td><td>0.00387</td><td>--</td><td>2MASS:Ks</td></tr>\n",
       "<tr><td>151.083890900</td><td>5.216797000</td><td>I/289/out</td><td>2UCAC=33572661&amp;-c=151.0838909 +05.2167970,eq=J2000&amp;-c.rs=0.004</td><td>--</td><td>0.0</td><td>181750</td><td>0.00221</td><td>--</td><td>2MASS:H</td></tr>\n",
       "<tr><td>151.083890900</td><td>5.216797000</td><td>I/289/out</td><td>2UCAC=33572661&amp;-c=151.0838909 +05.2167970,eq=J2000&amp;-c.rs=0.004</td><td>--</td><td>0.0</td><td>241960</td><td>0.0015</td><td>--</td><td>2MASS:J</td></tr>\n",
       "<tr><td>151.083890800</td><td>5.216796900</td><td>I/297/out</td><td>NOMAD1===0952-0188021&amp;-c=151.0838908 +05.2167969,eq=J2000&amp;-c.rs=</td><td>--</td><td>0.0</td><td>138550</td><td>0.00387</td><td>--</td><td>2MASS:Ks</td></tr>\n",
       "<tr><td>151.083890800</td><td>5.216796900</td><td>I/297/out</td><td>NOMAD1===0952-0188021&amp;-c=151.0838908 +05.2167969,eq=J2000&amp;-c.rs=</td><td>--</td><td>0.0</td><td>181750</td><td>0.00221</td><td>--</td><td>2MASS:H</td></tr>\n",
       "<tr><td>151.083890800</td><td>5.216796900</td><td>I/297/out</td><td>NOMAD1===0952-0188021&amp;-c=151.0838908 +05.2167969,eq=J2000&amp;-c.rs=</td><td>--</td><td>0.0</td><td>241960</td><td>0.0015</td><td>--</td><td>2MASS:J</td></tr>\n",
       "<tr><td>151.083982000</td><td>5.216771000</td><td>I/305/out</td><td>GSC2.3===N6SW001877&amp;-c=151.083982 +05.216771,eq=J2000&amp;-c.rs=0.00</td><td>--</td><td>0.0</td><td>382540</td><td>0.00187</td><td>0.00067</td><td>POSS-II:i</td></tr>\n",
       "<tr><td>151.083982000</td><td>5.216771000</td><td>I/305/out</td><td>GSC2.3===N6SW001877&amp;-c=151.083982 +05.216771,eq=J2000&amp;-c.rs=0.00</td><td>--</td><td>0.0</td><td>468430</td><td>0.000833</td><td>0.00029</td><td>POSS-II:F</td></tr>\n",
       "<tr><td>151.083982000</td><td>5.216771000</td><td>I/305/out</td><td>GSC2.3===N6SW001877&amp;-c=151.083982 +05.216771,eq=J2000&amp;-c.rs=0.00</td><td>--</td><td>0.0</td><td>640580</td><td>0.00131</td><td>0.00044</td><td>POSS-II:J</td></tr>\n",
       "<tr><td>...</td><td>...</td><td>...</td><td>...</td><td>...</td><td>...</td><td>...</td><td>...</td><td>...</td><td>...</td></tr>\n",
       "<tr><td>151.083875000</td><td>5.216777800</td><td>J/MNRAS/493/2745/dr14quv</td><td>recno=201673</td><td>--</td><td>0.0</td><td>1.2967e+06</td><td>8.34e-07</td><td>--</td><td>GALEX:NUV</td></tr>\n",
       "<tr><td>151.083875000</td><td>5.216777800</td><td>J/MNRAS/493/2745/dr14quv</td><td>recno=201673</td><td>--</td><td>0.0</td><td>1.2967e+06</td><td>0.000431</td><td>4e-06</td><td>GALEX:NUV</td></tr>\n",
       "<tr><td>151.083875000</td><td>5.216777800</td><td>J/MNRAS/493/2745/dr14quv</td><td>recno=201673</td><td>--</td><td>0.0</td><td>1.9607e+06</td><td>4.24e-06</td><td>--</td><td>GALEX:FUV</td></tr>\n",
       "<tr><td>151.083875000</td><td>5.216777800</td><td>J/MNRAS/493/2745/dr14quv</td><td>recno=201673</td><td>--</td><td>0.0</td><td>1.9607e+06</td><td>0.00052</td><td>1.8e-05</td><td>GALEX:FUV</td></tr>\n",
       "<tr><td>151.083916700</td><td>5.216805600</td><td>J/other/NewA/54.30/table1</td><td>recno=322</td><td>--</td><td>0.0</td><td>13571</td><td>0.0383</td><td>0.0015</td><td>WISE:W4</td></tr>\n",
       "<tr><td>151.083916700</td><td>5.216805600</td><td>J/other/NewA/54.30/table1</td><td>recno=322</td><td>--</td><td>0.0</td><td>25934</td><td>0.0215</td><td>0.0004</td><td>WISE:W3</td></tr>\n",
       "<tr><td>151.083916700</td><td>5.216805600</td><td>J/other/NewA/54.30/table1</td><td>recno=322</td><td>--</td><td>0.0</td><td>65172</td><td>0.0135</td><td>0.0003</td><td>WISE:W2</td></tr>\n",
       "<tr><td>151.083916700</td><td>5.216805600</td><td>J/other/NewA/54.30/table1</td><td>recno=322</td><td>--</td><td>0.0</td><td>89490</td><td>0.0094</td><td>0.0002</td><td>WISE:W1</td></tr>\n",
       "<tr><td>151.083916700</td><td>5.216805600</td><td>J/other/NewA/54.30/table1</td><td>recno=322</td><td>--</td><td>0.0</td><td>181750</td><td>0.00221</td><td>8e-05</td><td>2MASS:H</td></tr>\n",
       "<tr><td>151.083916700</td><td>5.216805600</td><td>J/other/NewA/54.30/table1</td><td>recno=322</td><td>--</td><td>0.0</td><td>241960</td><td>0.0015</td><td>7e-05</td><td>2MASS:J</td></tr>\n",
       "</table></div>"
      ],
      "text/plain": [
       "<Table length=407>\n",
       "   _RAJ2000      _DEJ2000            _tabname         ... sed_eflux sed_filter\n",
       "     deg           deg                                ...     Jy              \n",
       "   float64       float64              str32           ...  float32    str32   \n",
       "------------- ------------- ------------------------- ... --------- ----------\n",
       "151.083890900   5.216797000                 I/289/out ...        --   2MASS:Ks\n",
       "151.083890900   5.216797000                 I/289/out ...        --    2MASS:H\n",
       "151.083890900   5.216797000                 I/289/out ...        --    2MASS:J\n",
       "151.083890800   5.216796900                 I/297/out ...        --   2MASS:Ks\n",
       "151.083890800   5.216796900                 I/297/out ...        --    2MASS:H\n",
       "151.083890800   5.216796900                 I/297/out ...        --    2MASS:J\n",
       "151.083982000   5.216771000                 I/305/out ...   0.00067  POSS-II:i\n",
       "151.083982000   5.216771000                 I/305/out ...   0.00029  POSS-II:F\n",
       "151.083982000   5.216771000                 I/305/out ...   0.00044  POSS-II:J\n",
       "          ...           ...                       ... ...       ...        ...\n",
       "151.083875000   5.216777800  J/MNRAS/493/2745/dr14quv ...        --  GALEX:NUV\n",
       "151.083875000   5.216777800  J/MNRAS/493/2745/dr14quv ...     4e-06  GALEX:NUV\n",
       "151.083875000   5.216777800  J/MNRAS/493/2745/dr14quv ...        --  GALEX:FUV\n",
       "151.083875000   5.216777800  J/MNRAS/493/2745/dr14quv ...   1.8e-05  GALEX:FUV\n",
       "151.083916700   5.216805600 J/other/NewA/54.30/table1 ...    0.0015    WISE:W4\n",
       "151.083916700   5.216805600 J/other/NewA/54.30/table1 ...    0.0004    WISE:W3\n",
       "151.083916700   5.216805600 J/other/NewA/54.30/table1 ...    0.0003    WISE:W2\n",
       "151.083916700   5.216805600 J/other/NewA/54.30/table1 ...    0.0002    WISE:W1\n",
       "151.083916700   5.216805600 J/other/NewA/54.30/table1 ...     8e-05    2MASS:H\n",
       "151.083916700   5.216805600 J/other/NewA/54.30/table1 ...     7e-05    2MASS:J"
      ]
     },
     "execution_count": 5,
     "metadata": {},
     "output_type": "execute_result"
    }
   ],
   "source": [
    "cds_table = Table.read(path_phot_cds+Sample['main_id'][i]+'_CDS_phot_tables'+'.vot', \n",
    "                      format='votable')\n",
    "cds_table"
   ]
  },
  {
   "cell_type": "code",
   "execution_count": null,
   "id": "dc52d1f8",
   "metadata": {},
   "outputs": [],
   "source": []
  }
 ],
 "metadata": {
  "kernelspec": {
   "display_name": "Python 3 (ipykernel)",
   "language": "python",
   "name": "python3"
  },
  "language_info": {
   "codemirror_mode": {
    "name": "ipython",
    "version": 3
   },
   "file_extension": ".py",
   "mimetype": "text/x-python",
   "name": "python",
   "nbconvert_exporter": "python",
   "pygments_lexer": "ipython3",
   "version": "3.9.7"
  }
 },
 "nbformat": 4,
 "nbformat_minor": 5
}
