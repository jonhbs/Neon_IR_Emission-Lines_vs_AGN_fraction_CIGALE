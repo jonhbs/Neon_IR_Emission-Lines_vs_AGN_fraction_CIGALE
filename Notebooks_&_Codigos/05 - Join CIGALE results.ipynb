{
 "cells": [
  {
   "cell_type": "code",
   "execution_count": 1,
   "id": "0b10e822",
   "metadata": {},
   "outputs": [],
   "source": [
    "from astropy.table import Table, Column, table, vstack\n",
    "from pathlib import Path\n",
    "\n",
    "import numpy as np\n",
    "\n",
    "from matplotlib import pyplot as plt"
   ]
  },
  {
   "cell_type": "code",
   "execution_count": 2,
   "id": "fdf7054d",
   "metadata": {},
   "outputs": [],
   "source": [
    "path_raw='../Datos/Raw/'\n",
    "path_phot_ned = '../Datos/Work/Phot_Tables_NED/' #In this path wi will save the photometry tables for each object\n",
    "path_phot_cds = '../Datos/Work/Phot_Tables_CDS/'\n",
    "path_SED = '../Datos/Work/SEDs/'\n",
    "path_CIGALE_phot = '../Datos/Work/CIGALE_InputPhot/'\n",
    "path_CIGALE_out = '../Datos/Work/CIGALE_Output/'\n",
    "path_FINAL = '../Datos/Final/'\n",
    "\n",
    "groups = ['Group_01/','Group_02/','Group_03/','Group_04/','Group_05/',\\\n",
    "          'Group_06/','Group_07/','Group_08/','Group_09/','Group_10/']\n",
    "out = ['out_1/','out_2/']"
   ]
  },
  {
   "cell_type": "markdown",
   "id": "65dbe57f",
   "metadata": {},
   "source": [
    "## Selecting the galaxies with the minor  $\\chi_{\\rm{red}}^{2}$ of each output for each group"
   ]
  },
  {
   "cell_type": "code",
   "execution_count": 9,
   "id": "0ebb22ee",
   "metadata": {
    "scrolled": false
   },
   "outputs": [
    {
     "name": "stdout",
     "output_type": "stream",
     "text": [
      "192\n",
      "fin group\n",
      "55\n",
      "fin group\n",
      "20\n",
      "fin group\n",
      "33\n",
      "fin group\n",
      "17\n",
      "fin group\n",
      "11\n",
      "fin group\n",
      "6\n",
      "fin group\n",
      "5\n",
      "fin group\n",
      "5\n",
      "fin group\n",
      "5\n",
      "fin group\n"
     ]
    }
   ],
   "source": [
    "results = Table()\n",
    "\n",
    "for i in range(10):\n",
    "    to_rem_o1 = [] #Rows to be deleted or removed in out_1\n",
    "    to_rem_o2 = [] #Rows to be deleted or removed in out_2\n",
    "    CIGPhotIn = Table()\n",
    "    out_1 = Table()\n",
    "    out_2 = Table()\n",
    "    CIGPhotIn = Table.read(path_CIGALE_phot+'CIGPhot_EnergyBal_'+str(i+1)+'.tbl', format='ascii')\n",
    "    out_1 = Table.read(path_CIGALE_out+groups[i]+out[0]+'results.fits',format='fits')\n",
    "    out_2 = Table.read(path_CIGALE_out+groups[i]+out[1]+'results.fits',format='fits')\n",
    "    for j in range(len(CIGPhotIn)):\n",
    "        if out_1['best.reduced_chi_square'][j] < out_2['best.reduced_chi_square'][j]:\n",
    "            to_rem_o2.append(j)\n",
    "        elif out_2['best.reduced_chi_square'][j] < out_1['best.reduced_chi_square'][j]:\n",
    "            to_rem_o1.append(j)\n",
    "    #print(to_rem_o1)\n",
    "    #print(to_rem_o2)\n",
    "    out_1.remove_rows(to_rem_o1)\n",
    "    out_2.remove_rows(to_rem_o2)\n",
    "    output = vstack([out_1, out_2])\n",
    "    output = output[np.concatenate([np.where(output['id'] == oid)[0] for oid in CIGPhotIn['id']])]\n",
    "    output.write(path_CIGALE_out+groups[i]+'results.fits', format='fits',overwrite=True)\n",
    "    output.write(path_CIGALE_out+groups[i]+'results.txt', format='ascii',overwrite=True)\n",
    "    \n",
    "    results = vstack([output, results]) #Join all the result tables from CIGALE"
   ]
  },
  {
   "cell_type": "code",
   "execution_count": 10,
   "id": "59f97a64",
   "metadata": {},
   "outputs": [
    {
     "data": {
      "text/html": [
       "<div><i>Table length=295</i>\n",
       "<table id=\"table139968791633392\" class=\"table-striped table-bordered table-condensed\">\n",
       "<thead><tr><th>id</th><th>bayes.agn.fracAGN</th><th>bayes.agn.fracAGN_err</th><th>bayes.agn.i</th><th>bayes.agn.i_err</th><th>best.reduced_chi_square</th></tr></thead>\n",
       "<thead><tr><th></th><th></th><th></th><th>deg</th><th>deg</th><th></th></tr></thead>\n",
       "<thead><tr><th>bytes26</th><th>float64</th><th>float64</th><th>float64</th><th>float64</th><th>float64</th></tr></thead>\n",
       "<tr><td>3C 234.0</td><td>0.6152849893143326</td><td>0.06297197598042098</td><td>68.68651792673369</td><td>3.3778824115135047</td><td>1.571543266404707</td></tr>\n",
       "<tr><td>2MASS J13000535+1632148</td><td>0.899273174709466</td><td>0.005985980504553072</td><td>60.00034211182109</td><td>0.058489411166235517</td><td>2.8333819812086842</td></tr>\n",
       "<tr><td>NGC   262</td><td>0.804926107229648</td><td>0.02353136202305174</td><td>60.43756103054212</td><td>2.923362660110196</td><td>5.095918194806575</td></tr>\n",
       "<tr><td>IRAS 04385-0828</td><td>0.8149686331172529</td><td>0.04081768263992964</td><td>60.962983927446885</td><td>2.9519132281922587</td><td>4.025175418261969</td></tr>\n",
       "<tr><td>IC 4553</td><td>0.52405552898132</td><td>0.03463842768332896</td><td>89.99999993248731</td><td>0.0008216819395120783</td><td>25.33822253181962</td></tr>\n",
       "<tr><td>Mrk  279</td><td>0.35649121750526613</td><td>0.05076071369307643</td><td>35.75721023212308</td><td>8.221448154897073</td><td>7.878958631029752</td></tr>\n",
       "<tr><td>LEDA   45656</td><td>0.8472202932086663</td><td>0.01151398898386999</td><td>33.63494915560232</td><td>7.94023216707574</td><td>2.2454603529280117</td></tr>\n",
       "<tr><td>Mrk 1239</td><td>0.8365647091501113</td><td>0.02432237125246894</td><td>50.000000000000014</td><td>2.569164998981261e-07</td><td>1.8967714733159189</td></tr>\n",
       "<tr><td>LEDA   89032</td><td>0.6957030429683679</td><td>0.10199481397442349</td><td>17.99686557526552</td><td>13.315502066396546</td><td>2.0966484839026136</td></tr>\n",
       "<tr><td>...</td><td>...</td><td>...</td><td>...</td><td>...</td><td>...</td></tr>\n",
       "<tr><td>LBQS 1244+0238</td><td>0.8168006707097778</td><td>0.03663035119572793</td><td>18.529225971649865</td><td>14.565536666021782</td><td>1.7296322401295297</td></tr>\n",
       "<tr><td>NGC  6860</td><td>0.4942098548071786</td><td>0.019723724411332483</td><td>50.00005301622403</td><td>0.023027638006108308</td><td>3.352137100379508</td></tr>\n",
       "<tr><td>NGC  4253</td><td>0.45758717897279977</td><td>0.019206291591151056</td><td>10.450015966060858</td><td>11.037636293898624</td><td>9.27157004961008</td></tr>\n",
       "<tr><td>Mrk  478</td><td>0.5013857620944656</td><td>0.041378381552139507</td><td>38.00978113511563</td><td>4.589011573740753</td><td>0.9384848399859725</td></tr>\n",
       "<tr><td>IRAS 07598+6508</td><td>0.8563476108387938</td><td>0.03946042779069536</td><td>39.82162533231262</td><td>1.3599326941158898</td><td>4.044449949042471</td></tr>\n",
       "<tr><td>2MASS J10434845+5811477</td><td>0.8999044730680125</td><td>0.002245014447722756</td><td>8.480373425852274</td><td>9.212272322240578</td><td>58.841736258057026</td></tr>\n",
       "<tr><td>NGC  3081</td><td>0.5902151558945015</td><td>0.028867996646661714</td><td>89.80068383657715</td><td>1.4013941776550312</td><td>7.929125973469343</td></tr>\n",
       "<tr><td>NGC  4507</td><td>0.6974613078191574</td><td>0.026972582282179712</td><td>53.31364786901562</td><td>5.3269540939723266</td><td>3.110304094007426</td></tr>\n",
       "<tr><td>2XMM J115657.8+550820</td><td>0.5911172907753187</td><td>0.04781021411429507</td><td>89.13374789592729</td><td>2.976024089528331</td><td>3.0409946861419996</td></tr>\n",
       "<tr><td>2MASX J00215355-7910077</td><td>0.8284035522037789</td><td>0.0527380807086683</td><td>61.714289959163246</td><td>3.812500887934251</td><td>2.817290371277146</td></tr>\n",
       "</table></div>"
      ],
      "text/plain": [
       "<Table length=295>\n",
       "           id            bayes.agn.fracAGN  ... best.reduced_chi_square\n",
       "                                            ...                        \n",
       "        bytes26               float64       ...         float64        \n",
       "----------------------- ------------------- ... -----------------------\n",
       "               3C 234.0  0.6152849893143326 ...       1.571543266404707\n",
       "2MASS J13000535+1632148   0.899273174709466 ...      2.8333819812086842\n",
       "              NGC   262   0.804926107229648 ...       5.095918194806575\n",
       "        IRAS 04385-0828  0.8149686331172529 ...       4.025175418261969\n",
       "                IC 4553    0.52405552898132 ...       25.33822253181962\n",
       "               Mrk  279 0.35649121750526613 ...       7.878958631029752\n",
       "           LEDA   45656  0.8472202932086663 ...      2.2454603529280117\n",
       "               Mrk 1239  0.8365647091501113 ...      1.8967714733159189\n",
       "           LEDA   89032  0.6957030429683679 ...      2.0966484839026136\n",
       "                    ...                 ... ...                     ...\n",
       "         LBQS 1244+0238  0.8168006707097778 ...      1.7296322401295297\n",
       "              NGC  6860  0.4942098548071786 ...       3.352137100379508\n",
       "              NGC  4253 0.45758717897279977 ...        9.27157004961008\n",
       "               Mrk  478  0.5013857620944656 ...      0.9384848399859725\n",
       "        IRAS 07598+6508  0.8563476108387938 ...       4.044449949042471\n",
       "2MASS J10434845+5811477  0.8999044730680125 ...      58.841736258057026\n",
       "              NGC  3081  0.5902151558945015 ...       7.929125973469343\n",
       "              NGC  4507  0.6974613078191574 ...       3.110304094007426\n",
       "  2XMM J115657.8+550820  0.5911172907753187 ...      3.0409946861419996\n",
       "2MASX J00215355-7910077  0.8284035522037789 ...       2.817290371277146"
      ]
     },
     "execution_count": 10,
     "metadata": {},
     "output_type": "execute_result"
    }
   ],
   "source": [
    "Phot = Table.read(path_FINAL+'CIGPhot_EnergyBal_All.tbl', format='ascii')\n",
    "results = results[np.concatenate([np.where(results['id'] == oid)[0] for oid in Phot['id']])]\n",
    "results.write(path_CIGALE_out+'results_All.fits', format='fits',overwrite=True)\n",
    "results.write(path_CIGALE_out+'results_All.txt', format='ascii',overwrite=True)\n",
    "results['id','bayes.agn.fracAGN','bayes.agn.fracAGN_err','bayes.agn.i','bayes.agn.i_err','best.reduced_chi_square']"
   ]
  },
  {
   "cell_type": "markdown",
   "id": "03aecf5e",
   "metadata": {},
   "source": [
    "### Notebook info:"
   ]
  },
  {
   "cell_type": "code",
   "execution_count": null,
   "id": "57681307",
   "metadata": {},
   "outputs": [],
   "source": [
    "%reload_ext watermark\n",
    "%watermark -a \"Jonhatan Bernal\" -d -v -m\n",
    "print('Specific Python packages')\n",
    "%watermark -iv -w --packages astropy"
   ]
  },
  {
   "cell_type": "code",
   "execution_count": null,
   "id": "2562657b",
   "metadata": {},
   "outputs": [],
   "source": []
  }
 ],
 "metadata": {
  "kernelspec": {
   "display_name": "Python 3 (ipykernel)",
   "language": "python",
   "name": "python3"
  },
  "language_info": {
   "codemirror_mode": {
    "name": "ipython",
    "version": 3
   },
   "file_extension": ".py",
   "mimetype": "text/x-python",
   "name": "python",
   "nbconvert_exporter": "python",
   "pygments_lexer": "ipython3",
   "version": "3.9.12"
  }
 },
 "nbformat": 4,
 "nbformat_minor": 5
}
