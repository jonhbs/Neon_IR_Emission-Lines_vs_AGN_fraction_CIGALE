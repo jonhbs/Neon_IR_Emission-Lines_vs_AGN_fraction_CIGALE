{
 "cells": [
  {
   "cell_type": "code",
   "execution_count": 19,
   "id": "7ed6511c",
   "metadata": {},
   "outputs": [],
   "source": [
    "from astroquery.ipac.ned import Ned\n",
    "from astropy.table import Table, Column, table, vstack\n",
    "from pathlib import Path\n",
    "\n",
    "import numpy as np\n",
    "\n",
    "from matplotlib import pyplot as plt"
   ]
  },
  {
   "cell_type": "code",
   "execution_count": 20,
   "id": "5f5be009",
   "metadata": {
    "scrolled": false
   },
   "outputs": [],
   "source": [
    "path_raw='../Datos/Raw/'\n",
    "path_phot_ned = '../Datos/Work/Phot_Tables_NED/' #In this path wi will save the photometry tables for each object\n",
    "path_phot_cds = '../Datos/Work/Phot_Tables_CDS/'\n",
    "path_SED = '../Datos/Work/SEDs/'\n",
    "path_CIGALE_phot = '../Datos/Work/CIGALE_InputPhot/'\n",
    "path_CIGALE_out = '../Datos/Work/CIGALE_Output/'\n",
    "\n",
    "groups = ['Group_01/','Group_02/','Group_03/','Group_04/','Group_05/',\\\n",
    "          'Group_06/','Group_07/','Group_08/','Group_09/','Group_10/']\n",
    "out = ['out_1/','out_2/']"
   ]
  },
  {
   "cell_type": "code",
   "execution_count": 21,
   "id": "495aca3e",
   "metadata": {},
   "outputs": [],
   "source": [
    "out_1 = Table.read(path_CIGALE_out+groups[3]+out[0]+'results.fits',format='fits')\n",
    "out_2 = Table.read(path_CIGALE_out+groups[3]+out[1]+'results.fits',format='fits')"
   ]
  },
  {
   "cell_type": "code",
   "execution_count": 25,
   "id": "db3dc98b",
   "metadata": {
    "scrolled": true
   },
   "outputs": [
    {
     "data": {
      "text/html": [
       "<i>Table length=33</i>\n",
       "<table id=\"table140713513275456-572375\" class=\"table-striped table-bordered table-condensed\">\n",
       "<thead><tr><th>idx</th><th>id</th><th>bayes.agn.fracAGN</th><th>bayes.agn.i</th><th>best.reduced_chi_square</th></tr></thead>\n",
       "<thead><tr><th></th><th></th><th></th><th>deg</th><th></th></tr></thead>\n",
       "<tr><td>0</td><td>LEDA   45656</td><td>0.8472202932086663</td><td>33.63494915560232</td><td>2.2454603529280117</td></tr>\n",
       "<tr><td>1</td><td>2MASS J22255427+1958370</td><td>0.7777985012141335</td><td>17.30436684575215</td><td>0.744351440526346</td></tr>\n",
       "<tr><td>2</td><td>LEDA   90196</td><td>0.18766213124853867</td><td>73.63566761611061</td><td>1.7454627080454634</td></tr>\n",
       "<tr><td>3</td><td>2MASX J10032788+5541535</td><td>0.5001848367081264</td><td>73.75248022412046</td><td>0.22419370463021265</td></tr>\n",
       "<tr><td>4</td><td>QSO B1626+5529</td><td>0.8499090561106851</td><td>6.124860654367159</td><td>4.590329594317354</td></tr>\n",
       "<tr><td>5</td><td>LEDA   29208</td><td>0.8371821864031281</td><td>34.856589640790496</td><td>4.039209423178055</td></tr>\n",
       "<tr><td>6</td><td>2MASS J14533151+1353587</td><td>0.3789370779338508</td><td>62.66029118693765</td><td>1.799265805098418</td></tr>\n",
       "<tr><td>7</td><td>SDSS J040208.86-050642.0</td><td>0.10009647785618937</td><td>17.078737547588606</td><td>2.3188496712252475</td></tr>\n",
       "<tr><td>8</td><td>SDSS J161647.32+371621.2</td><td>0.5116620182835558</td><td>83.61804441908522</td><td>5.050713831426086</td></tr>\n",
       "<tr><td>9</td><td>IRAS 15206+3342</td><td>0.5153831387945493</td><td>89.99924692395064</td><td>1.4903815743536728</td></tr>\n",
       "<tr><td>10</td><td>Ton  182</td><td>0.8537649413163148</td><td>39.990071823909695</td><td>1.5077121060993492</td></tr>\n",
       "<tr><td>11</td><td>MCG+13-07-002</td><td>0.8443648620438297</td><td>38.660365837234224</td><td>1.9263674516247413</td></tr>\n",
       "<tr><td>12</td><td>2XMM J142930.6+425148</td><td>0.293753340001589</td><td>70.65847016432261</td><td>0.47401031457015924</td></tr>\n",
       "<tr><td>13</td><td>2XMM J094506.4+035552</td><td>0.3946599797656791</td><td>74.89953674635169</td><td>0.5157887516380604</td></tr>\n",
       "<tr><td>14</td><td>Mrk  876</td><td>0.42393202257703255</td><td>50.0</td><td>9.521126971998381</td></tr>\n",
       "<tr><td>15</td><td>Mrk 1014</td><td>0.3116873742872758</td><td>50.45618055833822</td><td>1.173376090110193</td></tr>\n",
       "<tr><td>16</td><td>LEDA 2816291</td><td>0.38404020086746987</td><td>89.9949607197191</td><td>2.6934476735531074</td></tr>\n",
       "<tr><td>17</td><td>LEDA   52314</td><td>0.8999999007790388</td><td>39.94914289002355</td><td>3.720265796364251</td></tr>\n",
       "<tr><td>18</td><td>SDSS J032845.99+011150.8</td><td>0.33662109104129734</td><td>87.44067386120308</td><td>1.2959497270709017</td></tr>\n",
       "<tr><td>19</td><td>2MASS J13234951+6541480</td><td>0.8851194583471492</td><td>33.55578238767794</td><td>0.8518566882167112</td></tr>\n",
       "<tr><td>20</td><td>LEDA    3237</td><td>0.8832509690007846</td><td>11.499075449324287</td><td>1.9148774734157297</td></tr>\n",
       "<tr><td>21</td><td>LEDA    1790</td><td>0.8999923747147864</td><td>28.545185750072655</td><td>1.50952686799239</td></tr>\n",
       "<tr><td>22</td><td>LEDA   90127</td><td>0.7622908532679223</td><td>89.99999999982415</td><td>6.4005528216930525</td></tr>\n",
       "<tr><td>23</td><td>Mrk  817</td><td>0.5372852878800068</td><td>60.599061733350595</td><td>2.2314862505339152</td></tr>\n",
       "<tr><td>24</td><td>2MASS J21035875-0728025</td><td>0.27134898825501436</td><td>89.78547459649799</td><td>4.437695787858258</td></tr>\n",
       "<tr><td>25</td><td>2MASX J18334627+4727027</td><td>0.8086583596504047</td><td>70.18038038935103</td><td>1.2948920252873097</td></tr>\n",
       "<tr><td>26</td><td>QSO B1048+342</td><td>0.7068610087387066</td><td>37.16613214353999</td><td>1.8482571171919489</td></tr>\n",
       "<tr><td>27</td><td>2MASSI J0918486+211717</td><td>0.8995098854350043</td><td>50.01004571723997</td><td>0.8587540073395079</td></tr>\n",
       "<tr><td>28</td><td>2MASX J08584172+1041223</td><td>0.40130584764161525</td><td>66.73539821297771</td><td>3.5861605349261367</td></tr>\n",
       "<tr><td>29</td><td>2MASS J10514425+3539307</td><td>0.739336498151863</td><td>66.04742180385735</td><td>1.3140030090149162</td></tr>\n",
       "<tr><td>30</td><td>SDSS J120424.54+192509.7</td><td>0.6516489714458313</td><td>89.99999999984439</td><td>6.999141777611621</td></tr>\n",
       "<tr><td>31</td><td>LEDA 2817285</td><td>0.23682495480506724</td><td>86.92776625942267</td><td>4.885181717142519</td></tr>\n",
       "<tr><td>32</td><td>IRAS 07598+6508</td><td>0.8563476108387938</td><td>39.82162533231262</td><td>4.044449949042471</td></tr>\n",
       "</table><style>table.dataTable {clear: both; width: auto !important; margin: 0 !important;}\n",
       ".dataTables_info, .dataTables_length, .dataTables_filter, .dataTables_paginate{\n",
       "display: inline-block; margin-right: 1em; }\n",
       ".paginate_button { margin-right: 5px; }\n",
       "</style>\n",
       "<script>\n",
       "\n",
       "var astropy_sort_num = function(a, b) {\n",
       "    var a_num = parseFloat(a);\n",
       "    var b_num = parseFloat(b);\n",
       "\n",
       "    if (isNaN(a_num) && isNaN(b_num))\n",
       "        return ((a < b) ? -1 : ((a > b) ? 1 : 0));\n",
       "    else if (!isNaN(a_num) && !isNaN(b_num))\n",
       "        return ((a_num < b_num) ? -1 : ((a_num > b_num) ? 1 : 0));\n",
       "    else\n",
       "        return isNaN(a_num) ? -1 : 1;\n",
       "}\n",
       "\n",
       "require.config({paths: {\n",
       "    datatables: 'https://cdn.datatables.net/1.10.12/js/jquery.dataTables.min'\n",
       "}});\n",
       "require([\"datatables\"], function(){\n",
       "    console.log(\"$('#table140713513275456-572375').dataTable()\");\n",
       "    \n",
       "jQuery.extend( jQuery.fn.dataTableExt.oSort, {\n",
       "    \"optionalnum-asc\": astropy_sort_num,\n",
       "    \"optionalnum-desc\": function (a,b) { return -astropy_sort_num(a, b); }\n",
       "});\n",
       "\n",
       "    $('#table140713513275456-572375').dataTable({\n",
       "        order: [],\n",
       "        pageLength: 50,\n",
       "        lengthMenu: [[10, 25, 50, 100, 500, 1000, -1], [10, 25, 50, 100, 500, 1000, 'All']],\n",
       "        pagingType: \"full_numbers\",\n",
       "        columnDefs: [{targets: [0, 2, 3, 4], type: \"optionalnum\"}]\n",
       "    });\n",
       "});\n",
       "</script>\n"
      ],
      "text/plain": [
       "<IPython.core.display.HTML object>"
      ]
     },
     "execution_count": 25,
     "metadata": {},
     "output_type": "execute_result"
    }
   ],
   "source": [
    "results = Table.read(path_CIGALE_out+groups[3]+'results.fits',format='fits')\n",
    "results['id','bayes.agn.fracAGN','bayes.agn.i','best.reduced_chi_square'].show_in_notebook()"
   ]
  },
  {
   "cell_type": "code",
   "execution_count": 26,
   "id": "134abcdc",
   "metadata": {
    "scrolled": true
   },
   "outputs": [
    {
     "data": {
      "text/html": [
       "<i>Table length=33</i>\n",
       "<table id=\"table140713513016816-637397\" class=\"table-striped table-bordered table-condensed\">\n",
       "<thead><tr><th>idx</th><th>id</th><th>bayes.agn.fracAGN</th><th>bayes.agn.i</th><th>best.reduced_chi_square</th></tr></thead>\n",
       "<thead><tr><th></th><th></th><th></th><th>deg</th><th></th></tr></thead>\n",
       "<tr><td>0</td><td>LEDA   45656</td><td>0.8472202932086663</td><td>33.63494915560232</td><td>2.2454603529280117</td></tr>\n",
       "<tr><td>1</td><td>2MASS J22255427+1958370</td><td>0.7777985012141335</td><td>17.30436684575215</td><td>0.744351440526346</td></tr>\n",
       "<tr><td>2</td><td>LEDA   90196</td><td>0.1000301403840307</td><td>27.242117966602475</td><td>3.6543704656170672</td></tr>\n",
       "<tr><td>3</td><td>2MASX J10032788+5541535</td><td>0.13837117573242175</td><td>20.659791285461644</td><td>0.35194287285107545</td></tr>\n",
       "<tr><td>4</td><td>QSO B1626+5529</td><td>0.8499090561106851</td><td>6.124860654367159</td><td>4.590329594317354</td></tr>\n",
       "<tr><td>5</td><td>LEDA   29208</td><td>0.8371821864031281</td><td>34.856589640790496</td><td>4.039209423178055</td></tr>\n",
       "<tr><td>6</td><td>2MASS J14533151+1353587</td><td>0.6306620602878266</td><td>29.14036553725706</td><td>2.6301488332959058</td></tr>\n",
       "<tr><td>7</td><td>SDSS J040208.86-050642.0</td><td>0.10009647785618937</td><td>17.078737547588606</td><td>2.3188496712252475</td></tr>\n",
       "<tr><td>8</td><td>SDSS J161647.32+371621.2</td><td>0.10626367453199845</td><td>22.729578581553465</td><td>7.599986648268089</td></tr>\n",
       "<tr><td>9</td><td>IRAS 15206+3342</td><td>0.10000866988154057</td><td>34.98613760450993</td><td>8.758083422479894</td></tr>\n",
       "<tr><td>10</td><td>Ton  182</td><td>0.8537649413163148</td><td>39.990071823909695</td><td>1.5077121060993492</td></tr>\n",
       "<tr><td>11</td><td>MCG+13-07-002</td><td>0.8443648620438297</td><td>38.660365837234224</td><td>1.9263674516247413</td></tr>\n",
       "<tr><td>12</td><td>2XMM J142930.6+425148</td><td>0.16696247560541877</td><td>22.017018058483174</td><td>0.5668993827227315</td></tr>\n",
       "<tr><td>13</td><td>2XMM J094506.4+035552</td><td>0.1270172308032274</td><td>20.665655061734547</td><td>1.0460791398324643</td></tr>\n",
       "<tr><td>14</td><td>Mrk  876</td><td>0.30024148813918966</td><td>39.975045617678944</td><td>9.731086739283489</td></tr>\n",
       "<tr><td>15</td><td>Mrk 1014</td><td>0.22511385566748196</td><td>37.9479686570073</td><td>1.2834344090953695</td></tr>\n",
       "<tr><td>16</td><td>LEDA 2816291</td><td>0.10000000044031647</td><td>37.745813338299655</td><td>10.557008357487225</td></tr>\n",
       "<tr><td>17</td><td>LEDA   52314</td><td>0.8999999007790388</td><td>39.94914289002355</td><td>3.720265796364251</td></tr>\n",
       "<tr><td>18</td><td>SDSS J032845.99+011150.8</td><td>0.11312500539817569</td><td>22.316723718353902</td><td>2.0747217447739534</td></tr>\n",
       "<tr><td>19</td><td>2MASS J13234951+6541480</td><td>0.8851194583471492</td><td>33.55578238767794</td><td>0.8518566882167112</td></tr>\n",
       "<tr><td>20</td><td>LEDA    3237</td><td>0.8832509690007846</td><td>11.499075449324287</td><td>1.9148774734157297</td></tr>\n",
       "<tr><td>21</td><td>LEDA    1790</td><td>0.8999923747147864</td><td>28.545185750072655</td><td>1.50952686799239</td></tr>\n",
       "<tr><td>22</td><td>LEDA   90127</td><td>0.16891176864962348</td><td>22.198306849163973</td><td>18.773241706588802</td></tr>\n",
       "<tr><td>23</td><td>Mrk  817</td><td>0.7497149792251879</td><td>14.324821273077328</td><td>2.7437767968929885</td></tr>\n",
       "<tr><td>24</td><td>2MASS J21035875-0728025</td><td>0.10000000000196715</td><td>35.63717502263614</td><td>5.935264159485592</td></tr>\n",
       "<tr><td>25</td><td>2MASX J18334627+4727027</td><td>0.8957390595611054</td><td>7.003104808319945</td><td>8.43152409169875</td></tr>\n",
       "<tr><td>26</td><td>QSO B1048+342</td><td>0.7068610087387066</td><td>37.16613214353999</td><td>1.8482571171919489</td></tr>\n",
       "<tr><td>27</td><td>2MASSI J0918486+211717</td><td>0.899348459325842</td><td>10.127619844784379</td><td>1.0955234829734715</td></tr>\n",
       "<tr><td>28</td><td>2MASX J08584172+1041223</td><td>0.33836260735192</td><td>17.206910825810446</td><td>4.919842257309468</td></tr>\n",
       "<tr><td>29</td><td>2MASS J10514425+3539307</td><td>0.878697376005948</td><td>15.180521631231564</td><td>2.415291835064506</td></tr>\n",
       "<tr><td>30</td><td>SDSS J120424.54+192509.7</td><td>0.10000691930293487</td><td>26.847928650444647</td><td>15.092548196365453</td></tr>\n",
       "<tr><td>31</td><td>LEDA 2817285</td><td>0.10002733810896364</td><td>24.64397726355591</td><td>8.529722510017564</td></tr>\n",
       "<tr><td>32</td><td>IRAS 07598+6508</td><td>0.8563476108387938</td><td>39.82162533231262</td><td>4.044449949042471</td></tr>\n",
       "</table><style>table.dataTable {clear: both; width: auto !important; margin: 0 !important;}\n",
       ".dataTables_info, .dataTables_length, .dataTables_filter, .dataTables_paginate{\n",
       "display: inline-block; margin-right: 1em; }\n",
       ".paginate_button { margin-right: 5px; }\n",
       "</style>\n",
       "<script>\n",
       "\n",
       "var astropy_sort_num = function(a, b) {\n",
       "    var a_num = parseFloat(a);\n",
       "    var b_num = parseFloat(b);\n",
       "\n",
       "    if (isNaN(a_num) && isNaN(b_num))\n",
       "        return ((a < b) ? -1 : ((a > b) ? 1 : 0));\n",
       "    else if (!isNaN(a_num) && !isNaN(b_num))\n",
       "        return ((a_num < b_num) ? -1 : ((a_num > b_num) ? 1 : 0));\n",
       "    else\n",
       "        return isNaN(a_num) ? -1 : 1;\n",
       "}\n",
       "\n",
       "require.config({paths: {\n",
       "    datatables: 'https://cdn.datatables.net/1.10.12/js/jquery.dataTables.min'\n",
       "}});\n",
       "require([\"datatables\"], function(){\n",
       "    console.log(\"$('#table140713513016816-637397').dataTable()\");\n",
       "    \n",
       "jQuery.extend( jQuery.fn.dataTableExt.oSort, {\n",
       "    \"optionalnum-asc\": astropy_sort_num,\n",
       "    \"optionalnum-desc\": function (a,b) { return -astropy_sort_num(a, b); }\n",
       "});\n",
       "\n",
       "    $('#table140713513016816-637397').dataTable({\n",
       "        order: [],\n",
       "        pageLength: 50,\n",
       "        lengthMenu: [[10, 25, 50, 100, 500, 1000, -1], [10, 25, 50, 100, 500, 1000, 'All']],\n",
       "        pagingType: \"full_numbers\",\n",
       "        columnDefs: [{targets: [0, 2, 3, 4], type: \"optionalnum\"}]\n",
       "    });\n",
       "});\n",
       "</script>\n"
      ],
      "text/plain": [
       "<IPython.core.display.HTML object>"
      ]
     },
     "execution_count": 26,
     "metadata": {},
     "output_type": "execute_result"
    }
   ],
   "source": [
    "out_1['id','bayes.agn.fracAGN','bayes.agn.i','best.reduced_chi_square'].show_in_notebook()"
   ]
  },
  {
   "cell_type": "code",
   "execution_count": 27,
   "id": "0accb28e",
   "metadata": {
    "scrolled": true
   },
   "outputs": [
    {
     "data": {
      "text/html": [
       "<i>Table length=33</i>\n",
       "<table id=\"table140713513014464-296012\" class=\"table-striped table-bordered table-condensed\">\n",
       "<thead><tr><th>idx</th><th>id</th><th>bayes.agn.fracAGN</th><th>bayes.agn.i</th><th>best.reduced_chi_square</th></tr></thead>\n",
       "<thead><tr><th></th><th></th><th></th><th>deg</th><th></th></tr></thead>\n",
       "<tr><td>0</td><td>LEDA   45656</td><td>0.8107093294735197</td><td>50.0000040607241</td><td>9.738532491365143</td></tr>\n",
       "<tr><td>1</td><td>2MASS J22255427+1958370</td><td>0.7228003618225171</td><td>50.924762838794464</td><td>0.8329746652079479</td></tr>\n",
       "<tr><td>2</td><td>LEDA   90196</td><td>0.18766213124853867</td><td>73.63566761611061</td><td>1.7454627080454634</td></tr>\n",
       "<tr><td>3</td><td>2MASX J10032788+5541535</td><td>0.5001848367081264</td><td>73.75248022412046</td><td>0.22419370463021265</td></tr>\n",
       "<tr><td>4</td><td>QSO B1626+5529</td><td>0.7017673702135135</td><td>49.99999999999999</td><td>9.580276630796085</td></tr>\n",
       "<tr><td>5</td><td>LEDA   29208</td><td>0.8955302839894099</td><td>49.99999999999999</td><td>7.421913485755077</td></tr>\n",
       "<tr><td>6</td><td>2MASS J14533151+1353587</td><td>0.3789370779338508</td><td>62.66029118693765</td><td>1.799265805098418</td></tr>\n",
       "<tr><td>7</td><td>SDSS J040208.86-050642.0</td><td>0.10017328448928245</td><td>75.88299728552255</td><td>2.454314295243835</td></tr>\n",
       "<tr><td>8</td><td>SDSS J161647.32+371621.2</td><td>0.5116620182835558</td><td>83.61804441908522</td><td>5.050713831426086</td></tr>\n",
       "<tr><td>9</td><td>IRAS 15206+3342</td><td>0.5153831387945493</td><td>89.99924692395064</td><td>1.4903815743536728</td></tr>\n",
       "<tr><td>10</td><td>Ton  182</td><td>0.6514539108135297</td><td>49.999999999999986</td><td>5.618328633505996</td></tr>\n",
       "<tr><td>11</td><td>MCG+13-07-002</td><td>0.6401634707588789</td><td>59.5712044396693</td><td>3.7937328833362014</td></tr>\n",
       "<tr><td>12</td><td>2XMM J142930.6+425148</td><td>0.293753340001589</td><td>70.65847016432261</td><td>0.47401031457015924</td></tr>\n",
       "<tr><td>13</td><td>2XMM J094506.4+035552</td><td>0.3946599797656791</td><td>74.89953674635169</td><td>0.5157887516380604</td></tr>\n",
       "<tr><td>14</td><td>Mrk  876</td><td>0.42393202257703255</td><td>50.0</td><td>9.521126971998381</td></tr>\n",
       "<tr><td>15</td><td>Mrk 1014</td><td>0.3116873742872758</td><td>50.45618055833822</td><td>1.173376090110193</td></tr>\n",
       "<tr><td>16</td><td>LEDA 2816291</td><td>0.38404020086746987</td><td>89.9949607197191</td><td>2.6934476735531074</td></tr>\n",
       "<tr><td>17</td><td>LEDA   52314</td><td>0.8999956711833345</td><td>50.00000000424821</td><td>11.043539543594303</td></tr>\n",
       "<tr><td>18</td><td>SDSS J032845.99+011150.8</td><td>0.33662109104129734</td><td>87.44067386120308</td><td>1.2959497270709017</td></tr>\n",
       "<tr><td>19</td><td>2MASS J13234951+6541480</td><td>0.7136456248600479</td><td>50.00000000249924</td><td>4.400527724367309</td></tr>\n",
       "<tr><td>20</td><td>LEDA    3237</td><td>0.8000211032388417</td><td>50.000000001959286</td><td>7.139278485344695</td></tr>\n",
       "<tr><td>21</td><td>LEDA    1790</td><td>0.849959071651613</td><td>50.00000000888233</td><td>14.706934939306308</td></tr>\n",
       "<tr><td>22</td><td>LEDA   90127</td><td>0.7622908532679223</td><td>89.99999999982415</td><td>6.4005528216930525</td></tr>\n",
       "<tr><td>23</td><td>Mrk  817</td><td>0.5372852878800068</td><td>60.599061733350595</td><td>2.2314862505339152</td></tr>\n",
       "<tr><td>24</td><td>2MASS J21035875-0728025</td><td>0.27134898825501436</td><td>89.78547459649799</td><td>4.437695787858258</td></tr>\n",
       "<tr><td>25</td><td>2MASX J18334627+4727027</td><td>0.8086583596504047</td><td>70.18038038935103</td><td>1.2948920252873097</td></tr>\n",
       "<tr><td>26</td><td>QSO B1048+342</td><td>0.6645857863355552</td><td>50.004673615415086</td><td>8.363750173203819</td></tr>\n",
       "<tr><td>27</td><td>2MASSI J0918486+211717</td><td>0.8995098854350043</td><td>50.01004571723997</td><td>0.8587540073395079</td></tr>\n",
       "<tr><td>28</td><td>2MASX J08584172+1041223</td><td>0.40130584764161525</td><td>66.73539821297771</td><td>3.5861605349261367</td></tr>\n",
       "<tr><td>29</td><td>2MASS J10514425+3539307</td><td>0.739336498151863</td><td>66.04742180385735</td><td>1.3140030090149162</td></tr>\n",
       "<tr><td>30</td><td>SDSS J120424.54+192509.7</td><td>0.6516489714458313</td><td>89.99999999984439</td><td>6.999141777611621</td></tr>\n",
       "<tr><td>31</td><td>LEDA 2817285</td><td>0.23682495480506724</td><td>86.92776625942267</td><td>4.885181717142519</td></tr>\n",
       "<tr><td>32</td><td>IRAS 07598+6508</td><td>0.5086646927386257</td><td>50.000000000007994</td><td>6.423191367878907</td></tr>\n",
       "</table><style>table.dataTable {clear: both; width: auto !important; margin: 0 !important;}\n",
       ".dataTables_info, .dataTables_length, .dataTables_filter, .dataTables_paginate{\n",
       "display: inline-block; margin-right: 1em; }\n",
       ".paginate_button { margin-right: 5px; }\n",
       "</style>\n",
       "<script>\n",
       "\n",
       "var astropy_sort_num = function(a, b) {\n",
       "    var a_num = parseFloat(a);\n",
       "    var b_num = parseFloat(b);\n",
       "\n",
       "    if (isNaN(a_num) && isNaN(b_num))\n",
       "        return ((a < b) ? -1 : ((a > b) ? 1 : 0));\n",
       "    else if (!isNaN(a_num) && !isNaN(b_num))\n",
       "        return ((a_num < b_num) ? -1 : ((a_num > b_num) ? 1 : 0));\n",
       "    else\n",
       "        return isNaN(a_num) ? -1 : 1;\n",
       "}\n",
       "\n",
       "require.config({paths: {\n",
       "    datatables: 'https://cdn.datatables.net/1.10.12/js/jquery.dataTables.min'\n",
       "}});\n",
       "require([\"datatables\"], function(){\n",
       "    console.log(\"$('#table140713513014464-296012').dataTable()\");\n",
       "    \n",
       "jQuery.extend( jQuery.fn.dataTableExt.oSort, {\n",
       "    \"optionalnum-asc\": astropy_sort_num,\n",
       "    \"optionalnum-desc\": function (a,b) { return -astropy_sort_num(a, b); }\n",
       "});\n",
       "\n",
       "    $('#table140713513014464-296012').dataTable({\n",
       "        order: [],\n",
       "        pageLength: 50,\n",
       "        lengthMenu: [[10, 25, 50, 100, 500, 1000, -1], [10, 25, 50, 100, 500, 1000, 'All']],\n",
       "        pagingType: \"full_numbers\",\n",
       "        columnDefs: [{targets: [0, 2, 3, 4], type: \"optionalnum\"}]\n",
       "    });\n",
       "});\n",
       "</script>\n"
      ],
      "text/plain": [
       "<IPython.core.display.HTML object>"
      ]
     },
     "execution_count": 27,
     "metadata": {},
     "output_type": "execute_result"
    }
   ],
   "source": [
    "out_2['id','bayes.agn.fracAGN','bayes.agn.i','best.reduced_chi_square'].show_in_notebook()"
   ]
  },
  {
   "cell_type": "code",
   "execution_count": null,
   "id": "341009f2",
   "metadata": {},
   "outputs": [],
   "source": []
  }
 ],
 "metadata": {
  "kernelspec": {
   "display_name": "Python 3 (ipykernel)",
   "language": "python",
   "name": "python3"
  },
  "language_info": {
   "codemirror_mode": {
    "name": "ipython",
    "version": 3
   },
   "file_extension": ".py",
   "mimetype": "text/x-python",
   "name": "python",
   "nbconvert_exporter": "python",
   "pygments_lexer": "ipython3",
   "version": "3.9.12"
  }
 },
 "nbformat": 4,
 "nbformat_minor": 5
}
