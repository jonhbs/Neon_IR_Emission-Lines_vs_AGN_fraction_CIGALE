{
 "cells": [
  {
   "cell_type": "code",
   "execution_count": 1,
   "id": "7ed6511c",
   "metadata": {},
   "outputs": [],
   "source": [
    "from astroquery.ipac.ned import Ned\n",
    "from astropy.table import Table, Column, table, vstack\n",
    "from pathlib import Path\n",
    "\n",
    "import numpy as np\n",
    "\n",
    "from matplotlib import pyplot as plt"
   ]
  },
  {
   "cell_type": "code",
   "execution_count": 2,
   "id": "5f5be009",
   "metadata": {
    "scrolled": false
   },
   "outputs": [],
   "source": [
    "path_raw='../Datos/Raw/'\n",
    "path_phot_ned = '../Datos/Work/Phot_Tables_NED/' #In this path wi will save the photometry tables for each object\n",
    "path_phot_cds = '../Datos/Work/Phot_Tables_CDS/'\n",
    "path_SED = '../Datos/Work/SEDs/'\n",
    "path_CIGALE_phot = '../Datos/Work/CIGALE_InputPhot/'\n",
    "path_CIGALE_out = '../Datos/Work/CIGALE_Output/'\n",
    "\n",
    "groups = ['Group_01/','Group_02/','Group_03/','Group_04/','Group_05/',\\\n",
    "          'Group_06/','Group_07/','Group_08/','Group_09/','Group_10/']\n",
    "out = ['out_1/','out_2/']"
   ]
  },
  {
   "cell_type": "code",
   "execution_count": 3,
   "id": "495aca3e",
   "metadata": {},
   "outputs": [],
   "source": [
    "out_1 = Table.read(path_CIGALE_out+groups[3]+out[0]+'results.fits',format='fits')\n",
    "out_2 = Table.read(path_CIGALE_out+groups[3]+out[1]+'results.fits',format='fits')"
   ]
  },
  {
   "cell_type": "code",
   "execution_count": 4,
   "id": "db3dc98b",
   "metadata": {
    "scrolled": true
   },
   "outputs": [
    {
     "data": {
      "text/html": [
       "<i>Table length=33</i>\n",
       "<table id=\"table140534668460288-595928\" class=\"table-striped table-bordered table-condensed\">\n",
       "<thead><tr><th>idx</th><th>id</th><th>bayes.agn.fracAGN</th><th>bayes.agn.i</th><th>best.reduced_chi_square</th></tr></thead>\n",
       "<thead><tr><th></th><th></th><th></th><th>deg</th><th></th></tr></thead>\n",
       "<tr><td>0</td><td>LEDA   45656</td><td>0.8472202932086663</td><td>33.63494915560232</td><td>2.2454603529280117</td></tr>\n",
       "<tr><td>1</td><td>2MASS J22255427+1958370</td><td>0.7777985012141335</td><td>17.30436684575215</td><td>0.744351440526346</td></tr>\n",
       "<tr><td>2</td><td>LEDA   90196</td><td>0.18766213124853867</td><td>73.63566761611061</td><td>1.7454627080454634</td></tr>\n",
       "<tr><td>3</td><td>2MASX J10032788+5541535</td><td>0.5001848367081264</td><td>73.75248022412046</td><td>0.22419370463021265</td></tr>\n",
       "<tr><td>4</td><td>QSO B1626+5529</td><td>0.8499090561106851</td><td>6.124860654367159</td><td>4.590329594317354</td></tr>\n",
       "<tr><td>5</td><td>LEDA   29208</td><td>0.8371821864031281</td><td>34.856589640790496</td><td>4.039209423178055</td></tr>\n",
       "<tr><td>6</td><td>2MASS J14533151+1353587</td><td>0.3789370779338508</td><td>62.66029118693765</td><td>1.799265805098418</td></tr>\n",
       "<tr><td>7</td><td>SDSS J040208.86-050642.0</td><td>0.10009647785618937</td><td>17.078737547588606</td><td>2.3188496712252475</td></tr>\n",
       "<tr><td>8</td><td>SDSS J161647.32+371621.2</td><td>0.5116620182835558</td><td>83.61804441908522</td><td>5.050713831426086</td></tr>\n",
       "<tr><td>9</td><td>IRAS 15206+3342</td><td>0.5153831387945493</td><td>89.99924692395064</td><td>1.4903815743536728</td></tr>\n",
       "<tr><td>10</td><td>Ton  182</td><td>0.8537649413163148</td><td>39.990071823909695</td><td>1.5077121060993492</td></tr>\n",
       "<tr><td>11</td><td>MCG+13-07-002</td><td>0.8443648620438297</td><td>38.660365837234224</td><td>1.9263674516247413</td></tr>\n",
       "<tr><td>12</td><td>2XMM J142930.6+425148</td><td>0.293753340001589</td><td>70.65847016432261</td><td>0.47401031457015924</td></tr>\n",
       "<tr><td>13</td><td>2XMM J094506.4+035552</td><td>0.3946599797656791</td><td>74.89953674635169</td><td>0.5157887516380604</td></tr>\n",
       "<tr><td>14</td><td>Mrk  876</td><td>0.42393202257703255</td><td>50.0</td><td>9.521126971998381</td></tr>\n",
       "<tr><td>15</td><td>Mrk 1014</td><td>0.3116873742872758</td><td>50.45618055833822</td><td>1.173376090110193</td></tr>\n",
       "<tr><td>16</td><td>LEDA 2816291</td><td>0.38404020086746987</td><td>89.9949607197191</td><td>2.6934476735531074</td></tr>\n",
       "<tr><td>17</td><td>LEDA   52314</td><td>0.8999999007790388</td><td>39.94914289002355</td><td>3.720265796364251</td></tr>\n",
       "<tr><td>18</td><td>SDSS J032845.99+011150.8</td><td>0.33662109104129734</td><td>87.44067386120308</td><td>1.2959497270709017</td></tr>\n",
       "<tr><td>19</td><td>2MASS J13234951+6541480</td><td>0.8851194583471492</td><td>33.55578238767794</td><td>0.8518566882167112</td></tr>\n",
       "<tr><td>20</td><td>LEDA    3237</td><td>0.8832509690007846</td><td>11.499075449324287</td><td>1.9148774734157297</td></tr>\n",
       "<tr><td>21</td><td>LEDA    1790</td><td>0.8999923747147864</td><td>28.545185750072655</td><td>1.50952686799239</td></tr>\n",
       "<tr><td>22</td><td>LEDA   90127</td><td>0.7622908532679223</td><td>89.99999999982415</td><td>6.4005528216930525</td></tr>\n",
       "<tr><td>23</td><td>Mrk  817</td><td>0.5372852878800068</td><td>60.599061733350595</td><td>2.2314862505339152</td></tr>\n",
       "<tr><td>24</td><td>2MASS J21035875-0728025</td><td>0.27134898825501436</td><td>89.78547459649799</td><td>4.437695787858258</td></tr>\n",
       "<tr><td>25</td><td>2MASX J18334627+4727027</td><td>0.8086583596504047</td><td>70.18038038935103</td><td>1.2948920252873097</td></tr>\n",
       "<tr><td>26</td><td>QSO B1048+342</td><td>0.7068610087387066</td><td>37.16613214353999</td><td>1.8482571171919489</td></tr>\n",
       "<tr><td>27</td><td>2MASSI J0918486+211717</td><td>0.8995098854350043</td><td>50.01004571723997</td><td>0.8587540073395079</td></tr>\n",
       "<tr><td>28</td><td>2MASX J08584172+1041223</td><td>0.40130584764161525</td><td>66.73539821297771</td><td>3.5861605349261367</td></tr>\n",
       "<tr><td>29</td><td>2MASS J10514425+3539307</td><td>0.739336498151863</td><td>66.04742180385735</td><td>1.3140030090149162</td></tr>\n",
       "<tr><td>30</td><td>SDSS J120424.54+192509.7</td><td>0.6516489714458313</td><td>89.99999999984439</td><td>6.999141777611621</td></tr>\n",
       "<tr><td>31</td><td>LEDA 2817285</td><td>0.23682495480506724</td><td>86.92776625942267</td><td>4.885181717142519</td></tr>\n",
       "<tr><td>32</td><td>IRAS 07598+6508</td><td>0.8563476108387938</td><td>39.82162533231262</td><td>4.044449949042471</td></tr>\n",
       "</table><style>table.dataTable {clear: both; width: auto !important; margin: 0 !important;}\n",
       ".dataTables_info, .dataTables_length, .dataTables_filter, .dataTables_paginate{\n",
       "display: inline-block; margin-right: 1em; }\n",
       ".paginate_button { margin-right: 5px; }\n",
       "</style>\n",
       "<script>\n",
       "\n",
       "var astropy_sort_num = function(a, b) {\n",
       "    var a_num = parseFloat(a);\n",
       "    var b_num = parseFloat(b);\n",
       "\n",
       "    if (isNaN(a_num) && isNaN(b_num))\n",
       "        return ((a < b) ? -1 : ((a > b) ? 1 : 0));\n",
       "    else if (!isNaN(a_num) && !isNaN(b_num))\n",
       "        return ((a_num < b_num) ? -1 : ((a_num > b_num) ? 1 : 0));\n",
       "    else\n",
       "        return isNaN(a_num) ? -1 : 1;\n",
       "}\n",
       "\n",
       "require.config({paths: {\n",
       "    datatables: 'https://cdn.datatables.net/1.10.12/js/jquery.dataTables.min'\n",
       "}});\n",
       "require([\"datatables\"], function(){\n",
       "    console.log(\"$('#table140534668460288-595928').dataTable()\");\n",
       "    \n",
       "jQuery.extend( jQuery.fn.dataTableExt.oSort, {\n",
       "    \"optionalnum-asc\": astropy_sort_num,\n",
       "    \"optionalnum-desc\": function (a,b) { return -astropy_sort_num(a, b); }\n",
       "});\n",
       "\n",
       "    $('#table140534668460288-595928').dataTable({\n",
       "        order: [],\n",
       "        pageLength: 50,\n",
       "        lengthMenu: [[10, 25, 50, 100, 500, 1000, -1], [10, 25, 50, 100, 500, 1000, 'All']],\n",
       "        pagingType: \"full_numbers\",\n",
       "        columnDefs: [{targets: [0, 2, 3, 4], type: \"optionalnum\"}]\n",
       "    });\n",
       "});\n",
       "</script>\n"
      ],
      "text/plain": [
       "<IPython.core.display.HTML object>"
      ]
     },
     "execution_count": 4,
     "metadata": {},
     "output_type": "execute_result"
    }
   ],
   "source": [
    "results = Table.read(path_CIGALE_out+groups[3]+'results.fits',format='fits')\n",
    "results['id','bayes.agn.fracAGN','bayes.agn.i','best.reduced_chi_square'].show_in_notebook()"
   ]
  },
  {
   "cell_type": "code",
   "execution_count": 5,
   "id": "134abcdc",
   "metadata": {
    "scrolled": true
   },
   "outputs": [
    {
     "data": {
      "text/html": [
       "<i>Table length=33</i>\n",
       "<table id=\"table140534668461872-442407\" class=\"table-striped table-bordered table-condensed\">\n",
       "<thead><tr><th>idx</th><th>id</th><th>bayes.agn.fracAGN</th><th>bayes.agn.i</th><th>best.reduced_chi_square</th></tr></thead>\n",
       "<thead><tr><th></th><th></th><th></th><th>deg</th><th></th></tr></thead>\n",
       "<tr><td>0</td><td>LEDA   45656</td><td>0.8472202932086663</td><td>33.63494915560232</td><td>2.2454603529280117</td></tr>\n",
       "<tr><td>1</td><td>2MASS J22255427+1958370</td><td>0.7777985012141335</td><td>17.30436684575215</td><td>0.744351440526346</td></tr>\n",
       "<tr><td>2</td><td>LEDA   90196</td><td>0.1000301403840307</td><td>27.242117966602475</td><td>3.6543704656170672</td></tr>\n",
       "<tr><td>3</td><td>2MASX J10032788+5541535</td><td>0.13837117573242175</td><td>20.659791285461644</td><td>0.35194287285107545</td></tr>\n",
       "<tr><td>4</td><td>QSO B1626+5529</td><td>0.8499090561106851</td><td>6.124860654367159</td><td>4.590329594317354</td></tr>\n",
       "<tr><td>5</td><td>LEDA   29208</td><td>0.8371821864031281</td><td>34.856589640790496</td><td>4.039209423178055</td></tr>\n",
       "<tr><td>6</td><td>2MASS J14533151+1353587</td><td>0.6306620602878266</td><td>29.14036553725706</td><td>2.6301488332959058</td></tr>\n",
       "<tr><td>7</td><td>SDSS J040208.86-050642.0</td><td>0.10009647785618937</td><td>17.078737547588606</td><td>2.3188496712252475</td></tr>\n",
       "<tr><td>8</td><td>SDSS J161647.32+371621.2</td><td>0.10626367453199845</td><td>22.729578581553465</td><td>7.599986648268089</td></tr>\n",
       "<tr><td>9</td><td>IRAS 15206+3342</td><td>0.10000866988154057</td><td>34.98613760450993</td><td>8.758083422479894</td></tr>\n",
       "<tr><td>10</td><td>Ton  182</td><td>0.8537649413163148</td><td>39.990071823909695</td><td>1.5077121060993492</td></tr>\n",
       "<tr><td>11</td><td>MCG+13-07-002</td><td>0.8443648620438297</td><td>38.660365837234224</td><td>1.9263674516247413</td></tr>\n",
       "<tr><td>12</td><td>2XMM J142930.6+425148</td><td>0.16696247560541877</td><td>22.017018058483174</td><td>0.5668993827227315</td></tr>\n",
       "<tr><td>13</td><td>2XMM J094506.4+035552</td><td>0.1270172308032274</td><td>20.665655061734547</td><td>1.0460791398324643</td></tr>\n",
       "<tr><td>14</td><td>Mrk  876</td><td>0.30024148813918966</td><td>39.975045617678944</td><td>9.731086739283489</td></tr>\n",
       "<tr><td>15</td><td>Mrk 1014</td><td>0.22511385566748196</td><td>37.9479686570073</td><td>1.2834344090953695</td></tr>\n",
       "<tr><td>16</td><td>LEDA 2816291</td><td>0.10000000044031647</td><td>37.745813338299655</td><td>10.557008357487225</td></tr>\n",
       "<tr><td>17</td><td>LEDA   52314</td><td>0.8999999007790388</td><td>39.94914289002355</td><td>3.720265796364251</td></tr>\n",
       "<tr><td>18</td><td>SDSS J032845.99+011150.8</td><td>0.11312500539817569</td><td>22.316723718353902</td><td>2.0747217447739534</td></tr>\n",
       "<tr><td>19</td><td>2MASS J13234951+6541480</td><td>0.8851194583471492</td><td>33.55578238767794</td><td>0.8518566882167112</td></tr>\n",
       "<tr><td>20</td><td>LEDA    3237</td><td>0.8832509690007846</td><td>11.499075449324287</td><td>1.9148774734157297</td></tr>\n",
       "<tr><td>21</td><td>LEDA    1790</td><td>0.8999923747147864</td><td>28.545185750072655</td><td>1.50952686799239</td></tr>\n",
       "<tr><td>22</td><td>LEDA   90127</td><td>0.16891176864962348</td><td>22.198306849163973</td><td>18.773241706588802</td></tr>\n",
       "<tr><td>23</td><td>Mrk  817</td><td>0.7497149792251879</td><td>14.324821273077328</td><td>2.7437767968929885</td></tr>\n",
       "<tr><td>24</td><td>2MASS J21035875-0728025</td><td>0.10000000000196715</td><td>35.63717502263614</td><td>5.935264159485592</td></tr>\n",
       "<tr><td>25</td><td>2MASX J18334627+4727027</td><td>0.8957390595611054</td><td>7.003104808319945</td><td>8.43152409169875</td></tr>\n",
       "<tr><td>26</td><td>QSO B1048+342</td><td>0.7068610087387066</td><td>37.16613214353999</td><td>1.8482571171919489</td></tr>\n",
       "<tr><td>27</td><td>2MASSI J0918486+211717</td><td>0.899348459325842</td><td>10.127619844784379</td><td>1.0955234829734715</td></tr>\n",
       "<tr><td>28</td><td>2MASX J08584172+1041223</td><td>0.33836260735192</td><td>17.206910825810446</td><td>4.919842257309468</td></tr>\n",
       "<tr><td>29</td><td>2MASS J10514425+3539307</td><td>0.878697376005948</td><td>15.180521631231564</td><td>2.415291835064506</td></tr>\n",
       "<tr><td>30</td><td>SDSS J120424.54+192509.7</td><td>0.10000691930293487</td><td>26.847928650444647</td><td>15.092548196365453</td></tr>\n",
       "<tr><td>31</td><td>LEDA 2817285</td><td>0.10002733810896364</td><td>24.64397726355591</td><td>8.529722510017564</td></tr>\n",
       "<tr><td>32</td><td>IRAS 07598+6508</td><td>0.8563476108387938</td><td>39.82162533231262</td><td>4.044449949042471</td></tr>\n",
       "</table><style>table.dataTable {clear: both; width: auto !important; margin: 0 !important;}\n",
       ".dataTables_info, .dataTables_length, .dataTables_filter, .dataTables_paginate{\n",
       "display: inline-block; margin-right: 1em; }\n",
       ".paginate_button { margin-right: 5px; }\n",
       "</style>\n",
       "<script>\n",
       "\n",
       "var astropy_sort_num = function(a, b) {\n",
       "    var a_num = parseFloat(a);\n",
       "    var b_num = parseFloat(b);\n",
       "\n",
       "    if (isNaN(a_num) && isNaN(b_num))\n",
       "        return ((a < b) ? -1 : ((a > b) ? 1 : 0));\n",
       "    else if (!isNaN(a_num) && !isNaN(b_num))\n",
       "        return ((a_num < b_num) ? -1 : ((a_num > b_num) ? 1 : 0));\n",
       "    else\n",
       "        return isNaN(a_num) ? -1 : 1;\n",
       "}\n",
       "\n",
       "require.config({paths: {\n",
       "    datatables: 'https://cdn.datatables.net/1.10.12/js/jquery.dataTables.min'\n",
       "}});\n",
       "require([\"datatables\"], function(){\n",
       "    console.log(\"$('#table140534668461872-442407').dataTable()\");\n",
       "    \n",
       "jQuery.extend( jQuery.fn.dataTableExt.oSort, {\n",
       "    \"optionalnum-asc\": astropy_sort_num,\n",
       "    \"optionalnum-desc\": function (a,b) { return -astropy_sort_num(a, b); }\n",
       "});\n",
       "\n",
       "    $('#table140534668461872-442407').dataTable({\n",
       "        order: [],\n",
       "        pageLength: 50,\n",
       "        lengthMenu: [[10, 25, 50, 100, 500, 1000, -1], [10, 25, 50, 100, 500, 1000, 'All']],\n",
       "        pagingType: \"full_numbers\",\n",
       "        columnDefs: [{targets: [0, 2, 3, 4], type: \"optionalnum\"}]\n",
       "    });\n",
       "});\n",
       "</script>\n"
      ],
      "text/plain": [
       "<IPython.core.display.HTML object>"
      ]
     },
     "execution_count": 5,
     "metadata": {},
     "output_type": "execute_result"
    }
   ],
   "source": [
    "out_1['id','bayes.agn.fracAGN','bayes.agn.i','best.reduced_chi_square'].show_in_notebook()"
   ]
  },
  {
   "cell_type": "code",
   "execution_count": 6,
   "id": "0accb28e",
   "metadata": {
    "scrolled": true
   },
   "outputs": [
    {
     "data": {
      "text/html": [
       "<i>Table length=33</i>\n",
       "<table id=\"table140534668462448-561671\" class=\"table-striped table-bordered table-condensed\">\n",
       "<thead><tr><th>idx</th><th>id</th><th>bayes.agn.fracAGN</th><th>bayes.agn.i</th><th>best.reduced_chi_square</th></tr></thead>\n",
       "<thead><tr><th></th><th></th><th></th><th>deg</th><th></th></tr></thead>\n",
       "<tr><td>0</td><td>LEDA   45656</td><td>0.8107093294735197</td><td>50.0000040607241</td><td>9.738532491365143</td></tr>\n",
       "<tr><td>1</td><td>2MASS J22255427+1958370</td><td>0.7228003618225171</td><td>50.924762838794464</td><td>0.8329746652079479</td></tr>\n",
       "<tr><td>2</td><td>LEDA   90196</td><td>0.18766213124853867</td><td>73.63566761611061</td><td>1.7454627080454634</td></tr>\n",
       "<tr><td>3</td><td>2MASX J10032788+5541535</td><td>0.5001848367081264</td><td>73.75248022412046</td><td>0.22419370463021265</td></tr>\n",
       "<tr><td>4</td><td>QSO B1626+5529</td><td>0.7017673702135135</td><td>49.99999999999999</td><td>9.580276630796085</td></tr>\n",
       "<tr><td>5</td><td>LEDA   29208</td><td>0.8955302839894099</td><td>49.99999999999999</td><td>7.421913485755077</td></tr>\n",
       "<tr><td>6</td><td>2MASS J14533151+1353587</td><td>0.3789370779338508</td><td>62.66029118693765</td><td>1.799265805098418</td></tr>\n",
       "<tr><td>7</td><td>SDSS J040208.86-050642.0</td><td>0.10017328448928245</td><td>75.88299728552255</td><td>2.454314295243835</td></tr>\n",
       "<tr><td>8</td><td>SDSS J161647.32+371621.2</td><td>0.5116620182835558</td><td>83.61804441908522</td><td>5.050713831426086</td></tr>\n",
       "<tr><td>9</td><td>IRAS 15206+3342</td><td>0.5153831387945493</td><td>89.99924692395064</td><td>1.4903815743536728</td></tr>\n",
       "<tr><td>10</td><td>Ton  182</td><td>0.6514539108135297</td><td>49.999999999999986</td><td>5.618328633505996</td></tr>\n",
       "<tr><td>11</td><td>MCG+13-07-002</td><td>0.6401634707588789</td><td>59.5712044396693</td><td>3.7937328833362014</td></tr>\n",
       "<tr><td>12</td><td>2XMM J142930.6+425148</td><td>0.293753340001589</td><td>70.65847016432261</td><td>0.47401031457015924</td></tr>\n",
       "<tr><td>13</td><td>2XMM J094506.4+035552</td><td>0.3946599797656791</td><td>74.89953674635169</td><td>0.5157887516380604</td></tr>\n",
       "<tr><td>14</td><td>Mrk  876</td><td>0.42393202257703255</td><td>50.0</td><td>9.521126971998381</td></tr>\n",
       "<tr><td>15</td><td>Mrk 1014</td><td>0.3116873742872758</td><td>50.45618055833822</td><td>1.173376090110193</td></tr>\n",
       "<tr><td>16</td><td>LEDA 2816291</td><td>0.38404020086746987</td><td>89.9949607197191</td><td>2.6934476735531074</td></tr>\n",
       "<tr><td>17</td><td>LEDA   52314</td><td>0.8999956711833345</td><td>50.00000000424821</td><td>11.043539543594303</td></tr>\n",
       "<tr><td>18</td><td>SDSS J032845.99+011150.8</td><td>0.33662109104129734</td><td>87.44067386120308</td><td>1.2959497270709017</td></tr>\n",
       "<tr><td>19</td><td>2MASS J13234951+6541480</td><td>0.7136456248600479</td><td>50.00000000249924</td><td>4.400527724367309</td></tr>\n",
       "<tr><td>20</td><td>LEDA    3237</td><td>0.8000211032388417</td><td>50.000000001959286</td><td>7.139278485344695</td></tr>\n",
       "<tr><td>21</td><td>LEDA    1790</td><td>0.849959071651613</td><td>50.00000000888233</td><td>14.706934939306308</td></tr>\n",
       "<tr><td>22</td><td>LEDA   90127</td><td>0.7622908532679223</td><td>89.99999999982415</td><td>6.4005528216930525</td></tr>\n",
       "<tr><td>23</td><td>Mrk  817</td><td>0.5372852878800068</td><td>60.599061733350595</td><td>2.2314862505339152</td></tr>\n",
       "<tr><td>24</td><td>2MASS J21035875-0728025</td><td>0.27134898825501436</td><td>89.78547459649799</td><td>4.437695787858258</td></tr>\n",
       "<tr><td>25</td><td>2MASX J18334627+4727027</td><td>0.8086583596504047</td><td>70.18038038935103</td><td>1.2948920252873097</td></tr>\n",
       "<tr><td>26</td><td>QSO B1048+342</td><td>0.6645857863355552</td><td>50.004673615415086</td><td>8.363750173203819</td></tr>\n",
       "<tr><td>27</td><td>2MASSI J0918486+211717</td><td>0.8995098854350043</td><td>50.01004571723997</td><td>0.8587540073395079</td></tr>\n",
       "<tr><td>28</td><td>2MASX J08584172+1041223</td><td>0.40130584764161525</td><td>66.73539821297771</td><td>3.5861605349261367</td></tr>\n",
       "<tr><td>29</td><td>2MASS J10514425+3539307</td><td>0.739336498151863</td><td>66.04742180385735</td><td>1.3140030090149162</td></tr>\n",
       "<tr><td>30</td><td>SDSS J120424.54+192509.7</td><td>0.6516489714458313</td><td>89.99999999984439</td><td>6.999141777611621</td></tr>\n",
       "<tr><td>31</td><td>LEDA 2817285</td><td>0.23682495480506724</td><td>86.92776625942267</td><td>4.885181717142519</td></tr>\n",
       "<tr><td>32</td><td>IRAS 07598+6508</td><td>0.5086646927386257</td><td>50.000000000007994</td><td>6.423191367878907</td></tr>\n",
       "</table><style>table.dataTable {clear: both; width: auto !important; margin: 0 !important;}\n",
       ".dataTables_info, .dataTables_length, .dataTables_filter, .dataTables_paginate{\n",
       "display: inline-block; margin-right: 1em; }\n",
       ".paginate_button { margin-right: 5px; }\n",
       "</style>\n",
       "<script>\n",
       "\n",
       "var astropy_sort_num = function(a, b) {\n",
       "    var a_num = parseFloat(a);\n",
       "    var b_num = parseFloat(b);\n",
       "\n",
       "    if (isNaN(a_num) && isNaN(b_num))\n",
       "        return ((a < b) ? -1 : ((a > b) ? 1 : 0));\n",
       "    else if (!isNaN(a_num) && !isNaN(b_num))\n",
       "        return ((a_num < b_num) ? -1 : ((a_num > b_num) ? 1 : 0));\n",
       "    else\n",
       "        return isNaN(a_num) ? -1 : 1;\n",
       "}\n",
       "\n",
       "require.config({paths: {\n",
       "    datatables: 'https://cdn.datatables.net/1.10.12/js/jquery.dataTables.min'\n",
       "}});\n",
       "require([\"datatables\"], function(){\n",
       "    console.log(\"$('#table140534668462448-561671').dataTable()\");\n",
       "    \n",
       "jQuery.extend( jQuery.fn.dataTableExt.oSort, {\n",
       "    \"optionalnum-asc\": astropy_sort_num,\n",
       "    \"optionalnum-desc\": function (a,b) { return -astropy_sort_num(a, b); }\n",
       "});\n",
       "\n",
       "    $('#table140534668462448-561671').dataTable({\n",
       "        order: [],\n",
       "        pageLength: 50,\n",
       "        lengthMenu: [[10, 25, 50, 100, 500, 1000, -1], [10, 25, 50, 100, 500, 1000, 'All']],\n",
       "        pagingType: \"full_numbers\",\n",
       "        columnDefs: [{targets: [0, 2, 3, 4], type: \"optionalnum\"}]\n",
       "    });\n",
       "});\n",
       "</script>\n"
      ],
      "text/plain": [
       "<IPython.core.display.HTML object>"
      ]
     },
     "execution_count": 6,
     "metadata": {},
     "output_type": "execute_result"
    }
   ],
   "source": [
    "out_2['id','bayes.agn.fracAGN','bayes.agn.i','best.reduced_chi_square'].show_in_notebook()"
   ]
  },
  {
   "cell_type": "code",
   "execution_count": 7,
   "id": "341009f2",
   "metadata": {},
   "outputs": [],
   "source": [
    "date_sample = 'Apr_12_2022'\n",
    "NeII_NeV = Table.read(path_raw+'Obj_Ne-IR_'+date_sample+'.vot',format='votable')"
   ]
  },
  {
   "cell_type": "code",
   "execution_count": 8,
   "id": "4bfddc3f",
   "metadata": {},
   "outputs": [
    {
     "data": {
      "text/plain": [
       "\"\\nto_rem = [] #Rows to be deleted or removed in out_1\\nfor i in range(len(NeII_NeV)): \\n    if (NeII_NeV['NED_Ne_IR_info'][i] != 'NeII|NeIII|NeV' and NeII_NeV['NED_Ne_IR_info'][i]!= 'NeII|NeV'):\\n        to_rem.append(i)\\n    \\nNeII_NeV.remove_rows(to_rem)\\nNeII_NeV.show_in_notebook()\\n\""
      ]
     },
     "execution_count": 8,
     "metadata": {},
     "output_type": "execute_result"
    }
   ],
   "source": [
    "'''\n",
    "to_rem = [] #Rows to be deleted or removed in out_1\n",
    "for i in range(len(NeII_NeV)): \n",
    "    if (NeII_NeV['NED_Ne_IR_info'][i] != 'NeII|NeIII|NeV' and NeII_NeV['NED_Ne_IR_info'][i]!= 'NeII|NeV'):\n",
    "        to_rem.append(i)\n",
    "    \n",
    "NeII_NeV.remove_rows(to_rem)\n",
    "NeII_NeV.show_in_notebook()\n",
    "'''"
   ]
  },
  {
   "cell_type": "code",
   "execution_count": 16,
   "id": "38bc29ea",
   "metadata": {},
   "outputs": [
    {
     "data": {
      "text/plain": [
       "'Mrk  877'"
      ]
     },
     "execution_count": 16,
     "metadata": {},
     "output_type": "execute_result"
    }
   ],
   "source": [
    "obj = NeII_NeV['Main_Id'][56]\n",
    "NED_phot = Table.read(path_phot_ned+obj+'_NED_phot_tables'+'.vot', format='votable')\n",
    "t = Table.read(path_phot_ned+obj+'_NED_phot_tables'+'.vot', format='votable')\n",
    "obj"
   ]
  },
  {
   "cell_type": "code",
   "execution_count": 17,
   "id": "54795a48",
   "metadata": {},
   "outputs": [],
   "source": [
    "def nedremove(table):\n",
    "    table.remove_rows(np.where(table['Flux_Density'].mask)[0])\n",
    "    return table"
   ]
  },
  {
   "cell_type": "code",
   "execution_count": 18,
   "id": "4b8eebb5",
   "metadata": {
    "scrolled": true
   },
   "outputs": [
    {
     "data": {
      "text/html": [
       "<i>Table length=64</i>\n",
       "<table id=\"table140534667369536-9654\" class=\"table-striped table-bordered table-condensed\">\n",
       "<thead><tr><th>idx</th><th>No.</th><th>Observed_Passband</th><th>Photometry_Measurement</th><th>Uncertainty</th><th>Units</th><th>Frequency</th><th>Flux_Density</th><th>Upper_limit_of_uncertainty</th><th>Lower_limit_of_uncertainty</th><th>Upper_limit_of_Flux_Density</th><th>Lower_limit_of_Flux_Density</th><th>NED_Uncertainty</th><th>NED_Units</th><th>Refcode</th><th>Significance</th><th>Published_frequency</th><th>Frequency_Mode</th><th>Coordinates_Targeted</th><th>Spatial_Mode</th><th>Qualifiers</th><th>Comments</th></tr></thead>\n",
       "<thead><tr><th></th><th></th><th></th><th></th><th></th><th></th><th>Hz</th><th>Jy</th><th></th><th></th><th></th><th></th><th></th><th></th><th></th><th></th><th></th><th></th><th></th><th></th><th></th><th></th></tr></thead>\n",
       "<tr><td>0</td><td>1</td><td>2 keV</td><td>-29.67</td><td></td><td>log(erg/cm^2^/s/Hz)</td><td>4.84e+17</td><td>2.14e-07</td><td>--</td><td>--</td><td>--</td><td>--</td><td></td><td>Jy</td><td>2006AJ....131.2826S</td><td>no uncertainty reported</td><td>2   keV</td><td>Broad-band measurement</td><td>16 20 11.2 +17 24 28 (J2000)</td><td>Flux integrated from map</td><td></td><td>Averaged new and previously published data</td></tr>\n",
       "<tr><td>1</td><td>2</td><td>0.3-3.5 keV (EO IPC)</td><td>2.113e-12</td><td>+/-2.4000E-13</td><td>ergs cm^-2^ s^-1^</td><td>3.87e+17</td><td>5.46e-07</td><td>6.2e-08</td><td>6.2e-08</td><td>--</td><td>--</td><td>+/-6.20E-08</td><td>Jy</td><td>1990ApJS...72..567G</td><td>1 sigma</td><td>1.6        keV</td><td>Broad-band measurement; broad-band flux derived by integration over spectrum; synthetic band</td><td>161756.5 +173133.7 (B1950)</td><td>Integrated from scans</td><td></td><td>From new raw data; Extinction-corrected for Milky Way; NEDfrequency assigned to mid-point of band in keV</td></tr>\n",
       "<tr><td>2</td><td>3</td><td>0.5-2 keV (ROSAT)</td><td>6.5e-13</td><td>+/-20  %</td><td>erg s^-1^ cm^-2^</td><td>3.02e+17</td><td>2.15e-07</td><td>3.96e-08</td><td>3.96e-08</td><td>--</td><td>--</td><td>+/-3.96E-08</td><td>Jy</td><td>1997MNRAS.285..511B</td><td>uncertainty</td><td>1.25   keV</td><td>Broad-band measurement</td><td>16 20 11.3 +17 24 28 (J2000)</td><td>Flux integrated from map</td><td></td><td>From new raw data; NED frequency assigned to mid-point ofband in keV</td></tr>\n",
       "<tr><td>3</td><td>4</td><td>1450 A</td><td>7.5e-15</td><td>+/-0.35E-14</td><td>ergs/cm^2^/s/A</td><td>2070000000000000.0</td><td>0.000527</td><td>0.000246</td><td>0.000246</td><td>--</td><td>--</td><td>+/-2.46E-04</td><td>Jy</td><td>2005ApJ...629...61K</td><td>uncertainty</td><td>1450   A</td><td>Broad-band measurement</td><td></td><td>Flux integrated from map</td><td></td><td>From new raw data; Extinction-corrected for Milky Way</td></tr>\n",
       "<tr><td>4</td><td>5</td><td>FUV (GALEX) AB</td><td>15.9736</td><td>+/-0.0165712</td><td>mag</td><td>1950000000000000.0</td><td>0.00148</td><td>2.26e-05</td><td>2.26e-05</td><td>--</td><td>--</td><td>+/-2.26E-05</td><td>Jy</td><td>2012GASC..C...0000S</td><td>uncertainty</td><td>1538.6     A</td><td>Broad-band measurement</td><td>245.04690996439 17.407491846934 (J2000)</td><td>Flux integrated from map</td><td>Kron flux in elliptical aperture</td><td>From new raw data</td></tr>\n",
       "<tr><td>5</td><td>6</td><td>FUV (GALEX) AB</td><td>16.347</td><td>+/-0.0213423</td><td>mag</td><td>1950000000000000.0</td><td>0.00105</td><td>2.06e-05</td><td>2.06e-05</td><td>--</td><td>--</td><td>+/-2.06E-05</td><td>Jy</td><td>2012GASC..C...0000S</td><td>uncertainty</td><td>1538.6     A</td><td>Broad-band measurement</td><td>245.04690996439 17.407491846934 (J2000)</td><td>Flux in fixed aperture</td><td>Flux in 7.5 arcsec diameter aperture</td><td>From new raw data</td></tr>\n",
       "<tr><td>6</td><td>7</td><td>1549 A</td><td>1.19e-14</td><td></td><td>erg/cm^2^/s/A</td><td>1940000000000000.0</td><td>0.000954</td><td>--</td><td>--</td><td>--</td><td>--</td><td></td><td>Jy</td><td>2005MNRAS.356.1029B</td><td>no uncertainty reported</td><td>1549.05   A</td><td>Broad-band measurement</td><td></td><td>Not reported in paper</td><td>C IV continuum</td><td>From new raw data; Extinction-corrected for Milky Way</td></tr>\n",
       "<tr><td>7</td><td>8</td><td>NUV (GALEX) AB</td><td>15.6882</td><td>+/-0.00878282</td><td>mag</td><td>1290000000000000.0</td><td>0.00193</td><td>1.56e-05</td><td>1.56e-05</td><td>--</td><td>--</td><td>+/-1.56E-05</td><td>Jy</td><td>2012GASC..C...0000S</td><td>uncertainty</td><td>2315.7     A</td><td>Broad-band measurement</td><td>245.04690996439 17.407491846934 (J2000)</td><td>Flux integrated from map</td><td>Kron flux in elliptical aperture</td><td>From new raw data</td></tr>\n",
       "<tr><td>8</td><td>9</td><td>NUV (GALEX) AB</td><td>16.1557</td><td>+/-0.0118102</td><td>mag</td><td>1290000000000000.0</td><td>0.00125</td><td>1.36e-05</td><td>1.36e-05</td><td>--</td><td>--</td><td>+/-1.36E-05</td><td>Jy</td><td>2012GASC..C...0000S</td><td>uncertainty</td><td>2315.7     A</td><td>Broad-band measurement</td><td>245.04690996439 17.407491846934 (J2000)</td><td>Flux in fixed aperture</td><td>Flux in 7.5 arcsec diameter aperture</td><td>From new raw data</td></tr>\n",
       "<tr><td>9</td><td>10</td><td>2500 A</td><td>-25.32</td><td></td><td>log(erg/cm^2^/s/Hz)</td><td>1200000000000000.0</td><td>0.00479</td><td>--</td><td>--</td><td>--</td><td>--</td><td></td><td>Jy</td><td>2006AJ....131.2826S</td><td>no uncertainty reported</td><td>2500   A</td><td>Broad-band measurement</td><td>16 20 11.2 +17 24 28 (J2000)</td><td>Flux integrated from map</td><td></td><td>Averaged new and previously published data</td></tr>\n",
       "<tr><td>10</td><td>11</td><td>u (SDSS PSF) AB</td><td>15.319</td><td>+/-0.023</td><td>asinh mag</td><td>836000000000000.0</td><td>0.00281</td><td>5.95e-05</td><td>5.95e-05</td><td>--</td><td>--</td><td>+/-5.95E-05</td><td>Jy</td><td>2007SDSS6.C...0000:</td><td>based on count statistics only</td><td>3585       A</td><td>Broad-band measurement</td><td>245.0470121167 17.4076568611 (J2000)</td><td>Modelled datum</td><td>SDSS flags: CHILD - object is part of a blended parent object; BAD_RADIAL - some low S/N radial points; BINNED1 - detected at &gt;=5 sigma in original imaging frame;</td><td>From new raw data</td></tr>\n",
       "<tr><td>11</td><td>12</td><td>H{gamma}</td><td>4.2e-14</td><td>+/-1.1E-14</td><td>ergs/s/cm^2^</td><td>691000000000000.0</td><td>4200000000.0</td><td>1100000000.0</td><td>1100000000.0</td><td>--</td><td>--</td><td>+/-1.10E+09</td><td>Jy-Hz</td><td>2000ApJ...533..631K</td><td>rms uncertainty</td><td>4340   A</td><td>Line measurement; flux integrated over line; lines measured in emission</td><td>16 17 56.2 +17 31 34 (J2000)</td><td>Total flux</td><td></td><td>From new raw data</td></tr>\n",
       "<tr><td>12</td><td>13</td><td>J_pg</td><td>16.4</td><td>+/-0.3</td><td>mag</td><td>641000000000000.0</td><td>0.00109</td><td>0.000301</td><td>0.000301</td><td>--</td><td>--</td><td>+/-3.01E-04</td><td>Jy</td><td>2007ApJS..170...33P</td><td>estimated error</td><td>4680   A</td><td>Broad-band measurement</td><td>16 20 11.26 +17 24 27.5 (J2000)</td><td>Flux in fixed aperture</td><td>Isophotal mag</td><td>From reprocessed raw data</td></tr>\n",
       "<tr><td>13</td><td>14</td><td>4861 A</td><td>2.38e-15</td><td></td><td>erg/cm^2^/s/A</td><td>617000000000000.0</td><td>0.00188</td><td>--</td><td>--</td><td>--</td><td>--</td><td></td><td>Jy</td><td>2005MNRAS.356.1029B</td><td>no uncertainty reported</td><td>4861   A</td><td>Broad-band measurement</td><td></td><td>Not reported in paper</td><td>H {beta} continuum</td><td>From new raw data; Extinction-corrected for Milky Way</td></tr>\n",
       "<tr><td>14</td><td>15</td><td>g (SDSS PSF) AB</td><td>15.396</td><td>+/-0.012</td><td>asinh mag</td><td>617000000000000.0</td><td>0.00252</td><td>2.79e-05</td><td>2.79e-05</td><td>--</td><td>--</td><td>+/-2.79E-05</td><td>Jy</td><td>2007SDSS6.C...0000:</td><td>based on count statistics only</td><td>4858       A</td><td>Broad-band measurement</td><td>245.0470121167 17.4076568611 (J2000)</td><td>Modelled datum</td><td>SDSS flags: CHILD - object is part of a blended parent object; COSMIC_RAY - contains a cosmic ray pixel; BAD_RADIAL - some low S/N radial points; INTERP - object contains interpolated-over pixels; BINNED1 - detected at &gt;=5 sigma in original imaging frame;</td><td>From new raw data</td></tr>\n",
       "<tr><td>15</td><td>16</td><td>H{beta}</td><td>1.4e-13</td><td>+/-1.7E-14</td><td>ergs/s/cm^2^</td><td>617000000000000.0</td><td>14000000000.0</td><td>1700000000.0</td><td>1700000000.0</td><td>--</td><td>--</td><td>+/-1.70E+09</td><td>Jy-Hz</td><td>2000ApJ...533..631K</td><td>rms uncertainty</td><td>4861   A</td><td>Line measurement; flux integrated over line; lines measured in emission</td><td>16 17 56.2 +17 31 34 (J2000)</td><td>Total flux</td><td></td><td>From new raw data</td></tr>\n",
       "<tr><td>16</td><td>17</td><td>5100 A</td><td>1.44e-15</td><td>+/-2.5E-16</td><td>ergs/cm^2^/s/A</td><td>588000000000000.0</td><td>0.00125</td><td>0.000217</td><td>0.000217</td><td>--</td><td>--</td><td>+/-2.17E-04</td><td>Jy</td><td>2000ApJ...533..631K</td><td>rms uncertainty</td><td>5100   A</td><td>Broad-band measurement</td><td>16 17 56.2 +17 31 34 (J2000)</td><td>Total flux</td><td></td><td>From new raw data</td></tr>\n",
       "<tr><td>17</td><td>18</td><td>V (Johnson)</td><td>15.62</td><td></td><td>mag</td><td>542000000000000.0</td><td>0.00206</td><td>--</td><td>--</td><td>--</td><td>--</td><td></td><td>Jy</td><td>1988VIrPh.C...0000d</td><td>no uncertainty reported</td><td>5530   A</td><td>Broad-band measurement</td><td></td><td>Flux in fixed aperture</td><td>23&quot; aperture</td><td>Transformed from previously published data; Standard JohnsonUBVRI filters assumed</td></tr>\n",
       "<tr><td>18</td><td>19</td><td>V (Johnson)</td><td>16.34</td><td></td><td>mag</td><td>542000000000000.0</td><td>0.00106</td><td>--</td><td>--</td><td>--</td><td>--</td><td></td><td>Jy</td><td>2009ApJ...694L.166B</td><td>no uncertainty reported</td><td>5530 A</td><td>Broad-band measurement</td><td></td><td>Modelled datum</td><td>Bulge magnitude</td><td>From new raw data</td></tr>\n",
       "<tr><td>19</td><td>20</td><td>r (SDSS PSF) AB</td><td>15.49</td><td>+/-0.014</td><td>asinh mag</td><td>477000000000000.0</td><td>0.00231</td><td>2.98e-05</td><td>2.98e-05</td><td>--</td><td>--</td><td>+/-2.98E-05</td><td>Jy</td><td>2007SDSS6.C...0000:</td><td>based on count statistics only</td><td>6290       A</td><td>Broad-band measurement</td><td>245.0470121167 17.4076568611 (J2000)</td><td>Modelled datum</td><td>SDSS flags: CHILD - object is part of a blended parent object; BAD_RADIAL - some low S/N radial points; BINNED1 - detected at &gt;=5 sigma in original imaging frame; CANONICAL_BAND - this band was primary (usually r);</td><td>From new raw data</td></tr>\n",
       "<tr><td>20</td><td>21</td><td>F_pg</td><td>15.0</td><td>+/-0.3</td><td>mag</td><td>468000000000000.0</td><td>0.00308</td><td>0.000851</td><td>0.000851</td><td>--</td><td>--</td><td>+/-8.51E-04</td><td>Jy</td><td>2007ApJS..170...33P</td><td>estimated error</td><td>6400   A</td><td>Broad-band measurement</td><td>16 20 11.26 +17 24 27.5 (J2000)</td><td>Flux in fixed aperture</td><td>Isophotal mag</td><td>From reprocessed raw data</td></tr>\n",
       "<tr><td>21</td><td>22</td><td>H{alpha}</td><td>5.04e-13</td><td>+/-3.9E-14</td><td>ergs/s/cm^2^</td><td>457000000000000.0</td><td>50400000000.0</td><td>3900000000.0</td><td>3900000000.0</td><td>--</td><td>--</td><td>+/-3.90E+09</td><td>Jy-Hz</td><td>2000ApJ...533..631K</td><td>rms uncertainty</td><td>6563   A</td><td>Line measurement; flux integrated over line; lines measured in emission</td><td>16 17 56.2 +17 31 34 (J2000)</td><td>Total flux</td><td></td><td>From new raw data</td></tr>\n",
       "<tr><td>22</td><td>23</td><td>R (Johnson)</td><td>15.2</td><td></td><td>mag</td><td>428000000000000.0</td><td>0.00231</td><td>--</td><td>--</td><td>--</td><td>--</td><td></td><td>Jy</td><td>1988VIrPh.C...0000d</td><td>no uncertainty reported</td><td>7000   A</td><td>Broad-band measurement</td><td></td><td>Flux in fixed aperture</td><td>23&quot; aperture</td><td>Transformed from previously published data; Standard JohnsonUBVRI filters assumed</td></tr>\n",
       "<tr><td>23</td><td>24</td><td>i (SDSS PSF) AB</td><td>14.963</td><td>+/-0.016</td><td>asinh mag</td><td>389000000000000.0</td><td>0.00376</td><td>5.54e-05</td><td>5.54e-05</td><td>--</td><td>--</td><td>+/-5.54E-05</td><td>Jy</td><td>2007SDSS6.C...0000:</td><td>based on count statistics only</td><td>7706       A</td><td>Broad-band measurement</td><td>245.0470121167 17.4076568611 (J2000)</td><td>Modelled datum</td><td>SDSS flags: CHILD - object is part of a blended parent object; BAD_RADIAL - some low S/N radial points; INTERP - object contains interpolated-over pixels; BINNED1 - detected at &gt;=5 sigma in original imaging frame; INTERP_CENTER - interpolated pixel(s) within 3 pixels of center;</td><td>From new raw data</td></tr>\n",
       "<tr><td>24</td><td>25</td><td>z (SDSS PSF) AB</td><td>15.197</td><td>+/-0.017</td><td>asinh mag</td><td>325000000000000.0</td><td>0.00297</td><td>4.66e-05</td><td>4.66e-05</td><td>--</td><td>--</td><td>+/-4.66E-05</td><td>Jy</td><td>2007SDSS6.C...0000:</td><td>based on count statistics only</td><td>9222       A</td><td>Broad-band measurement</td><td>245.0470121167 17.4076568611 (J2000)</td><td>Modelled datum</td><td>SDSS flags: CHILD - object is part of a blended parent object; BAD_RADIAL - some low S/N radial points; BINNED1 - detected at &gt;=5 sigma in original imaging frame;</td><td>From new raw data</td></tr>\n",
       "<tr><td>25</td><td>26</td><td>J (2MASS/FLWO)</td><td>14.346</td><td>+/-0.034</td><td>mag</td><td>243000000000000.0</td><td>0.00291</td><td>9.12e-05</td><td>9.12e-05</td><td>--</td><td>--</td><td>+/-9.12E-05</td><td>Jy</td><td>2006AJ....131.1163S</td><td>uncertainty</td><td>1.235      microns</td><td>Broad-band measurement</td><td></td><td>Flux in fixed aperture</td><td>Profile-fit</td><td>From new raw data</td></tr>\n",
       "<tr><td>26</td><td>27</td><td>J (2MASS/FLWO)</td><td>14.261</td><td>+/-0.023</td><td>mag</td><td>243000000000000.0</td><td>0.00315</td><td>6.67e-05</td><td>6.67e-05</td><td>--</td><td>--</td><td>+/-6.67E-05</td><td>Jy</td><td>2006AJ....131.1163S</td><td>uncertainty</td><td>1.235      microns</td><td>Broad-band measurement</td><td></td><td>Flux in fixed aperture</td><td>4&quot; aperture</td><td>From new raw data</td></tr>\n",
       "<tr><td>27</td><td>28</td><td>1.27 microns</td><td>0.63</td><td>+/-0.03</td><td>log milliJy</td><td>236000000000000.0</td><td>0.00427</td><td>0.000285</td><td>0.000285</td><td>--</td><td>--</td><td>+/-2.85E-04</td><td>Jy</td><td>1987ApJS...63..615N</td><td>estimated error</td><td>1.27       microns</td><td>Broad-band measurement</td><td></td><td>Flux in fixed aperture</td><td>5&quot;.5 aperture, 1981 Aug 18</td><td>From new raw data; Standard Caltech JHKL filters assumed</td></tr>\n",
       "<tr><td>28</td><td>29</td><td>1.65 microns</td><td>0.81</td><td>+/-0.03</td><td>log milliJy</td><td>182000000000000.0</td><td>0.00646</td><td>0.000431</td><td>0.000431</td><td>--</td><td>--</td><td>+/-4.31E-04</td><td>Jy</td><td>1987ApJS...63..615N</td><td>estimated error</td><td>1.65       microns</td><td>Broad-band measurement</td><td></td><td>Flux in fixed aperture</td><td>5&quot;.5 aperture, 1981 Aug 18</td><td>From new raw data; Standard Caltech JHKL filters assumed</td></tr>\n",
       "<tr><td>29</td><td>30</td><td>H (2MASS/FLWO)</td><td>13.469</td><td>+/-0.036</td><td>mag</td><td>180000000000000.0</td><td>0.00419</td><td>0.000139</td><td>0.000139</td><td>--</td><td>--</td><td>+/-1.39E-04</td><td>Jy</td><td>2006AJ....131.1163S</td><td>uncertainty</td><td>1.662      microns</td><td>Broad-band measurement</td><td></td><td>Flux in fixed aperture</td><td>4&quot; aperture</td><td>From new raw data</td></tr>\n",
       "<tr><td>30</td><td>31</td><td>H (2MASS/FLWO)</td><td>13.541</td><td>+/-0.033</td><td>mag</td><td>180000000000000.0</td><td>0.00393</td><td>0.000119</td><td>0.000119</td><td>--</td><td>--</td><td>+/-1.19E-04</td><td>Jy</td><td>2006AJ....131.1163S</td><td>uncertainty</td><td>1.662      microns</td><td>Broad-band measurement</td><td></td><td>Flux in fixed aperture</td><td>Profile-fit</td><td>From new raw data</td></tr>\n",
       "<tr><td>31</td><td>33</td><td>K_s (2MASS/FLWO)</td><td>12.419</td><td>+/-0.023</td><td>mag</td><td>139000000000000.0</td><td>0.00718</td><td>0.000152</td><td>0.000152</td><td>--</td><td>--</td><td>+/-1.52E-04</td><td>Jy</td><td>2006AJ....131.1163S</td><td>uncertainty</td><td>2.159      microns</td><td>Broad-band measurement</td><td></td><td>Flux in fixed aperture</td><td>Profile-fit</td><td>From new raw data</td></tr>\n",
       "<tr><td>32</td><td>34</td><td>K_s (2MASS/FLWO)</td><td>12.403</td><td>+/-0.021</td><td>mag</td><td>139000000000000.0</td><td>0.00729</td><td>0.000141</td><td>0.000141</td><td>--</td><td>--</td><td>+/-1.41E-04</td><td>Jy</td><td>2006AJ....131.1163S</td><td>uncertainty</td><td>2.159      microns</td><td>Broad-band measurement</td><td></td><td>Flux in fixed aperture</td><td>4&quot; aperture</td><td>From new raw data</td></tr>\n",
       "<tr><td>33</td><td>35</td><td>2.2 microns</td><td>1.09</td><td>+/-0.03</td><td>log milliJy</td><td>136000000000000.0</td><td>0.0123</td><td>0.000819</td><td>0.000819</td><td>--</td><td>--</td><td>+/-8.19E-04</td><td>Jy</td><td>1987ApJS...63..615N</td><td>estimated error</td><td>2.2        microns</td><td>Broad-band measurement</td><td></td><td>Flux in fixed aperture</td><td>5&quot;.5 aperture, 1981 Aug 18</td><td>From new raw data; Standard Caltech JHKL filters assumed</td></tr>\n",
       "<tr><td>34</td><td>36</td><td>W1 (WISE)</td><td>9.758</td><td>+/-0.068</td><td>mag</td><td>89400000000000.0</td><td>0.0387</td><td>0.00242</td><td>0.00242</td><td>--</td><td>--</td><td>+/-2.42E-03</td><td>Jy</td><td>2013wise.rept....1C</td><td>uncertainty</td><td>3.3526     microns</td><td>Broad-band measurement</td><td></td><td>From fitting to map</td><td>Profile-fit;extended</td><td>From new raw data; Uncorrected for known sources in beam</td></tr>\n",
       "<tr><td>35</td><td>37</td><td>W1 (WISE)</td><td>10.619</td><td>+/-0.006</td><td>mag</td><td>89400000000000.0</td><td>0.0175</td><td>9.67e-05</td><td>9.67e-05</td><td>--</td><td>--</td><td>+/-9.67E-05</td><td>Jy</td><td>2013wise.rept....1C</td><td>uncertainty</td><td>3.3526     microns</td><td>Broad-band measurement</td><td></td><td>Flux in fixed aperture</td><td>r=8.25&quot; COG-corrected;extended</td><td>From new raw data; Uncorrected for known sources in beam</td></tr>\n",
       "<tr><td>36</td><td>38</td><td>W1 (WISE)</td><td>10.617</td><td>+/-0.006</td><td>mag</td><td>89400000000000.0</td><td>0.0175</td><td>9.69e-05</td><td>9.69e-05</td><td>--</td><td>--</td><td>+/-9.69E-05</td><td>Jy</td><td>2013wise.rept....1C</td><td>uncertainty</td><td>3.3526     microns</td><td>Broad-band measurement</td><td></td><td>Flux in fixed aperture</td><td>r=22.0&quot; aperture;extended</td><td>From new raw data; Uncorrected for known sources in beam</td></tr>\n",
       "<tr><td>37</td><td>39</td><td>3.7 microns</td><td>1.29</td><td>+/-0.04</td><td>log milliJy</td><td>85700000000000.0</td><td>0.0195</td><td>0.00172</td><td>0.00172</td><td>--</td><td>--</td><td>+/-1.72E-03</td><td>Jy</td><td>1987ApJS...63..615N</td><td>estimated error</td><td>3.5        microns</td><td>Broad-band measurement</td><td></td><td>Flux in fixed aperture</td><td>5&quot;.5 aperture, 1981 Aug 18</td><td>From new raw data; Standard Caltech JHKL filters assumed</td></tr>\n",
       "<tr><td>38</td><td>40</td><td>W2 (WISE)</td><td>9.659</td><td>+/-0.02</td><td>mag</td><td>65100000000000.0</td><td>0.0235</td><td>0.000433</td><td>0.000433</td><td>--</td><td>--</td><td>+/-4.33E-04</td><td>Jy</td><td>2013wise.rept....1C</td><td>uncertainty</td><td>4.6028     microns</td><td>Broad-band measurement</td><td></td><td>From fitting to map</td><td>Profile-fit;extended</td><td>From new raw data</td></tr>\n",
       "<tr><td>39</td><td>41</td><td>W2 (WISE)</td><td>9.661</td><td>+/-0.006</td><td>mag</td><td>65100000000000.0</td><td>0.0235</td><td>0.00013</td><td>0.00013</td><td>--</td><td>--</td><td>+/-1.30E-04</td><td>Jy</td><td>2013wise.rept....1C</td><td>uncertainty</td><td>4.6028     microns</td><td>Broad-band measurement</td><td></td><td>Flux in fixed aperture</td><td>r=8.25&quot; COG-corrected;extended</td><td>From new raw data</td></tr>\n",
       "<tr><td>40</td><td>42</td><td>W2 (WISE)</td><td>9.678</td><td>+/-0.006</td><td>mag</td><td>65100000000000.0</td><td>0.0231</td><td>0.000128</td><td>0.000128</td><td>--</td><td>--</td><td>+/-1.28E-04</td><td>Jy</td><td>2013wise.rept....1C</td><td>uncertainty</td><td>4.6028     microns</td><td>Broad-band measurement</td><td></td><td>Flux in fixed aperture</td><td>r=22.0&quot; aperture;extended</td><td>From new raw data; Uncorrected for known sources in beam</td></tr>\n",
       "<tr><td>41</td><td>43</td><td>6 microns (Spitzer)</td><td>24.3</td><td></td><td>milliJy</td><td>50000000000000.0</td><td>0.0243</td><td>--</td><td>--</td><td>--</td><td>--</td><td></td><td>Jy</td><td>2009ApJS..182..628V</td><td>no uncertainty reported</td><td>6 microns</td><td>Broad-band measurement</td><td></td><td>Flux integrated from map</td><td>From IRS spectra with 3.3% bandpass</td><td>From new raw data</td></tr>\n",
       "<tr><td>42</td><td>44</td><td>6 microns (Spitzer)</td><td>24.5</td><td></td><td>milliJy</td><td>50000000000000.0</td><td>0.0245</td><td>--</td><td>--</td><td>--</td><td>--</td><td></td><td>Jy</td><td>2010MNRAS.403.1246S</td><td>no uncertainty reported</td><td>6 microns</td><td>Broad-band measurement</td><td></td><td>Flux integrated from map</td><td>AGN flux</td><td>From reprocessed raw data</td></tr>\n",
       "<tr><td>43</td><td>48</td><td>10.1 microns</td><td>1.56</td><td>+/-0.10</td><td>log milliJy</td><td>29700000000000.0</td><td>0.0363</td><td>0.00747</td><td>0.00747</td><td>--</td><td>--</td><td>+/-7.47E-03</td><td>Jy</td><td>1987ApJS...63..615N</td><td>estimated error</td><td>10.1       microns</td><td>Broad-band measurement</td><td></td><td>Flux in fixed aperture</td><td>4&quot;.5 aperture, 1981 Aug 18</td><td>From new raw data; Standard Caltech JHKL filters assumed</td></tr>\n",
       "<tr><td>44</td><td>50</td><td>W3 (WISE)</td><td>7.329</td><td>+/-0.019</td><td>mag</td><td>25900000000000.0</td><td>0.0371</td><td>0.000649</td><td>0.000649</td><td>--</td><td>--</td><td>+/-6.49E-04</td><td>Jy</td><td>2013wise.rept....1C</td><td>uncertainty</td><td>11.5608    microns</td><td>Broad-band measurement</td><td></td><td>From fitting to map</td><td>Profile-fit;extended</td><td>From new raw data</td></tr>\n",
       "<tr><td>45</td><td>51</td><td>W3 (WISE)</td><td>7.339</td><td>+/-0.007</td><td>mag</td><td>25900000000000.0</td><td>0.0367</td><td>0.000237</td><td>0.000237</td><td>--</td><td>--</td><td>+/-2.37E-04</td><td>Jy</td><td>2013wise.rept....1C</td><td>uncertainty</td><td>11.5608    microns</td><td>Broad-band measurement</td><td></td><td>Flux in fixed aperture</td><td>r=8.25&quot; COG-corrected;extended</td><td>From new raw data</td></tr>\n",
       "<tr><td>46</td><td>52</td><td>W3 (WISE)</td><td>7.499</td><td>+/-0.009</td><td>mag</td><td>25900000000000.0</td><td>0.0317</td><td>0.000263</td><td>0.000263</td><td>--</td><td>--</td><td>+/-2.63E-04</td><td>Jy</td><td>2013wise.rept....1C</td><td>uncertainty</td><td>11.5608    microns</td><td>Broad-band measurement</td><td></td><td>Flux in fixed aperture</td><td>r=22.0&quot; aperture;extended</td><td>From new raw data; Uncorrected for known sources in beam</td></tr>\n",
       "<tr><td>47</td><td>54</td><td>12 microns (IRAS)</td><td>0.065</td><td>+/-20  %</td><td>Jy</td><td>25000000000000.0</td><td>0.065</td><td>0.013</td><td>0.013</td><td>--</td><td>--</td><td>+/-1.30E-02</td><td>Jy</td><td>1990IRASZ.C...0000M</td><td>uncertainty</td><td>12         microns</td><td>Broad-band measurement</td><td>161757.2 +173134 (B1950)</td><td>Flux in fixed aperture</td><td></td><td>From new raw data</td></tr>\n",
       "<tr><td>48</td><td>55</td><td>[Ne II] (IRS)</td><td>2.89e-22</td><td></td><td>W cm^-2^</td><td>23400000000000.0</td><td>289000000.0</td><td>--</td><td>--</td><td>--</td><td>--</td><td></td><td>Jy-Hz</td><td>2006ApJ...649...79S</td><td>no uncertainty reported</td><td>12.8   microns</td><td>Line measurement; flux integrated over line; lines measured in emission</td><td></td><td>Flux integrated from map</td><td></td><td>From new raw data</td></tr>\n",
       "<tr><td>49</td><td>58</td><td>15 microns (Spitzer)</td><td>40.8</td><td></td><td>milliJy</td><td>20000000000000.0</td><td>0.0408</td><td>--</td><td>--</td><td>--</td><td>--</td><td></td><td>Jy</td><td>2009ApJS..182..628V</td><td>no uncertainty reported</td><td>15 microns</td><td>Broad-band measurement</td><td></td><td>Flux integrated from map</td><td>From IRS spectra with 3.3% bandpass</td><td>From new raw data</td></tr>\n",
       "<tr><td>50</td><td>59</td><td>20 microns (Spitzer)</td><td>52.6</td><td></td><td>milliJy</td><td>15000000000000.0</td><td>0.0526</td><td>--</td><td>--</td><td>--</td><td>--</td><td></td><td>Jy</td><td>2009ApJS..182..628V</td><td>no uncertainty reported</td><td>20 microns</td><td>Broad-band measurement</td><td></td><td>Flux integrated from map</td><td>From IRS spectra with 3.3% bandpass</td><td>From new raw data</td></tr>\n",
       "<tr><td>51</td><td>60</td><td>W4 (WISE)</td><td>5.442</td><td>+/-0.034</td><td>mag</td><td>13600000000000.0</td><td>0.0557</td><td>0.00174</td><td>0.00174</td><td>--</td><td>--</td><td>+/-1.74E-03</td><td>Jy</td><td>2013wise.rept....1C</td><td>uncertainty</td><td>22.0883    microns</td><td>Broad-band measurement</td><td></td><td>From fitting to map</td><td>Profile-fit;extended</td><td>From new raw data</td></tr>\n",
       "<tr><td>52</td><td>61</td><td>W4 (WISE)</td><td>5.406</td><td>+/-0.042</td><td>mag</td><td>13600000000000.0</td><td>0.0575</td><td>0.00223</td><td>0.00223</td><td>--</td><td>--</td><td>+/-2.23E-03</td><td>Jy</td><td>2013wise.rept....1C</td><td>uncertainty</td><td>22.0883    microns</td><td>Broad-band measurement</td><td></td><td>Flux in fixed aperture</td><td>r=16.5&quot; COG-corrected;extended</td><td>From new raw data; Uncorrected for known sources in beam</td></tr>\n",
       "<tr><td>53</td><td>62</td><td>W4 (WISE)</td><td>5.691</td><td>+/-0.044</td><td>mag</td><td>13600000000000.0</td><td>0.0443</td><td>0.00179</td><td>0.00179</td><td>--</td><td>--</td><td>+/-1.79E-03</td><td>Jy</td><td>2013wise.rept....1C</td><td>uncertainty</td><td>22.0883    microns</td><td>Broad-band measurement</td><td></td><td>Flux in fixed aperture</td><td>r=22.0&quot; aperture;extended</td><td>From new raw data; Uncorrected for known sources in beam</td></tr>\n",
       "<tr><td>54</td><td>63</td><td>24 microns (MIPS)</td><td>47323.0</td><td>+/-3.5536E+01</td><td>microJy</td><td>12700000000000.0</td><td>0.0473</td><td>3.55e-05</td><td>3.55e-05</td><td>--</td><td>--</td><td>+/-3.55E-05</td><td>Jy</td><td>2013SSTSLC4.2....0C</td><td>uncertainty</td><td>23.68      microns</td><td>Broad-band measurement</td><td></td><td>Flux in fixed aperture</td><td>14.7&quot; aperture</td><td>From new raw data</td></tr>\n",
       "<tr><td>55</td><td>64</td><td>24 microns (MIPS)</td><td>49774.0</td><td>+/-6.1419E+01</td><td>microJy</td><td>12700000000000.0</td><td>0.0498</td><td>6.14e-05</td><td>6.14e-05</td><td>--</td><td>--</td><td>+/-6.14E-05</td><td>Jy</td><td>2013SSTSLC4.2....0C</td><td>uncertainty</td><td>23.68      microns</td><td>Broad-band measurement</td><td></td><td>Modelled datum</td><td>PSF fit</td><td>From new raw data</td></tr>\n",
       "<tr><td>56</td><td>66</td><td>25 microns (Spitzer)</td><td>61.3</td><td></td><td>milliJy</td><td>12000000000000.0</td><td>0.0613</td><td>--</td><td>--</td><td>--</td><td>--</td><td></td><td>Jy</td><td>2009ApJS..182..628V</td><td>no uncertainty reported</td><td>25 microns</td><td>Broad-band measurement</td><td></td><td>Flux integrated from map</td><td>From IRS spectra with 3.3% bandpass</td><td>From new raw data</td></tr>\n",
       "<tr><td>57</td><td>67</td><td>25 microns (IRAS)</td><td>0.071</td><td>+/-24  %</td><td>Jy</td><td>12000000000000.0</td><td>0.071</td><td>0.017</td><td>0.017</td><td>--</td><td>--</td><td>+/-1.70E-02</td><td>Jy</td><td>1990IRASZ.C...0000M</td><td>uncertainty</td><td>25         microns</td><td>Broad-band measurement</td><td>161757.2 +173134 (B1950)</td><td>Flux in fixed aperture</td><td>IRAS quality flag = 2</td><td>From new raw data</td></tr>\n",
       "<tr><td>58</td><td>68</td><td>[O IV] (IRS)</td><td>3.92e-22</td><td></td><td>W cm^-2^</td><td>11600000000000.0</td><td>392000000.0</td><td>--</td><td>--</td><td>--</td><td>--</td><td></td><td>Jy-Hz</td><td>2006ApJ...649...79S</td><td>no uncertainty reported</td><td>25.9   microns</td><td>Line measurement; flux integrated over line; lines measured in emission</td><td></td><td>Flux integrated from map</td><td></td><td>From new raw data</td></tr>\n",
       "<tr><td>59</td><td>70</td><td>30 microns (Spitzer)</td><td>56.0</td><td></td><td>milliJy</td><td>9990000000000.0</td><td>0.056</td><td>--</td><td>--</td><td>--</td><td>--</td><td></td><td>Jy</td><td>2009ApJS..182..628V</td><td>no uncertainty reported</td><td>30 microns</td><td>Broad-band measurement</td><td></td><td>Flux integrated from map</td><td>From IRS spectra with 3.3% bandpass</td><td>From new raw data</td></tr>\n",
       "<tr><td>60</td><td>71</td><td>60 microns (IRAS)</td><td>52.0</td><td>+/-45</td><td>milliJy</td><td>5000000000000.0</td><td>0.052</td><td>0.045</td><td>0.045</td><td>--</td><td>--</td><td>+/-4.50E-02</td><td>Jy</td><td>2009MNRAS.397..265S</td><td>uncertainty</td><td>60.0 microns</td><td>Broad-band measurement</td><td>16 20 11.288 +17 24 27.70 (J2000)</td><td>From fitting to map</td><td></td><td>From reprocessed raw data</td></tr>\n",
       "<tr><td>61</td><td>73</td><td>60 microns (IRAS)</td><td>0.102</td><td>+/-20  %</td><td>Jy</td><td>5000000000000.0</td><td>0.102</td><td>0.0204</td><td>0.0204</td><td>--</td><td>--</td><td>+/-2.04E-02</td><td>Jy</td><td>1990IRASZ.C...0000M</td><td>uncertainty</td><td>60         microns</td><td>Broad-band measurement</td><td>161757.2 +173134 (B1950)</td><td>Flux in fixed aperture</td><td></td><td>From new raw data</td></tr>\n",
       "<tr><td>62</td><td>74</td><td>100 microns (IRAS)</td><td>45.0</td><td>+/-108</td><td>milliJy</td><td>3000000000000.0</td><td>0.045</td><td>0.108</td><td>0.108</td><td>--</td><td>--</td><td>+/-1.08E-01</td><td>Jy</td><td>2009MNRAS.397..265S</td><td>uncertainty</td><td>100.0 microns</td><td>Broad-band measurement</td><td>16 20 11.288 +17 24 27.70 (J2000)</td><td>From fitting to map</td><td></td><td>From reprocessed raw data</td></tr>\n",
       "<tr><td>63</td><td>76</td><td>100 microns (IRAS)</td><td>0.544</td><td>+/-20  %</td><td>Jy</td><td>3000000000000.0</td><td>0.544</td><td>0.109</td><td>0.109</td><td>--</td><td>--</td><td>+/-1.09E-01</td><td>Jy</td><td>1990IRASZ.C...0000M</td><td>uncertainty</td><td>100        microns</td><td>Broad-band measurement</td><td>161757.2 +173134 (B1950)</td><td>Flux in fixed aperture</td><td></td><td>From new raw data</td></tr>\n",
       "</table><style>table.dataTable {clear: both; width: auto !important; margin: 0 !important;}\n",
       ".dataTables_info, .dataTables_length, .dataTables_filter, .dataTables_paginate{\n",
       "display: inline-block; margin-right: 1em; }\n",
       ".paginate_button { margin-right: 5px; }\n",
       "</style>\n",
       "<script>\n",
       "\n",
       "var astropy_sort_num = function(a, b) {\n",
       "    var a_num = parseFloat(a);\n",
       "    var b_num = parseFloat(b);\n",
       "\n",
       "    if (isNaN(a_num) && isNaN(b_num))\n",
       "        return ((a < b) ? -1 : ((a > b) ? 1 : 0));\n",
       "    else if (!isNaN(a_num) && !isNaN(b_num))\n",
       "        return ((a_num < b_num) ? -1 : ((a_num > b_num) ? 1 : 0));\n",
       "    else\n",
       "        return isNaN(a_num) ? -1 : 1;\n",
       "}\n",
       "\n",
       "require.config({paths: {\n",
       "    datatables: 'https://cdn.datatables.net/1.10.12/js/jquery.dataTables.min'\n",
       "}});\n",
       "require([\"datatables\"], function(){\n",
       "    console.log(\"$('#table140534667369536-9654').dataTable()\");\n",
       "    \n",
       "jQuery.extend( jQuery.fn.dataTableExt.oSort, {\n",
       "    \"optionalnum-asc\": astropy_sort_num,\n",
       "    \"optionalnum-desc\": function (a,b) { return -astropy_sort_num(a, b); }\n",
       "});\n",
       "\n",
       "    $('#table140534667369536-9654').dataTable({\n",
       "        order: [],\n",
       "        pageLength: 50,\n",
       "        lengthMenu: [[10, 25, 50, 100, 500, 1000, -1], [10, 25, 50, 100, 500, 1000, 'All']],\n",
       "        pagingType: \"full_numbers\",\n",
       "        columnDefs: [{targets: [0, 1, 3, 6, 7, 8, 9, 10, 11], type: \"optionalnum\"}]\n",
       "    });\n",
       "});\n",
       "</script>\n"
      ],
      "text/plain": [
       "<IPython.core.display.HTML object>"
      ]
     },
     "execution_count": 18,
     "metadata": {},
     "output_type": "execute_result"
    }
   ],
   "source": [
    "ned_phot = nedremove(t)\n",
    "ned_phot.show_in_notebook()"
   ]
  },
  {
   "cell_type": "code",
   "execution_count": 19,
   "id": "57cd2e32",
   "metadata": {},
   "outputs": [
    {
     "data": {
      "text/html": [
       "<i>Table length=77</i>\n",
       "<table id=\"table140534668460528-242688\" class=\"table-striped table-bordered table-condensed\">\n",
       "<thead><tr><th>idx</th><th>No.</th><th>Observed_Passband</th><th>Photometry_Measurement</th><th>Uncertainty</th><th>Units</th><th>Frequency</th><th>Flux_Density</th><th>Upper_limit_of_uncertainty</th><th>Lower_limit_of_uncertainty</th><th>Upper_limit_of_Flux_Density</th><th>Lower_limit_of_Flux_Density</th><th>NED_Uncertainty</th><th>NED_Units</th><th>Refcode</th><th>Significance</th><th>Published_frequency</th><th>Frequency_Mode</th><th>Coordinates_Targeted</th><th>Spatial_Mode</th><th>Qualifiers</th><th>Comments</th></tr></thead>\n",
       "<thead><tr><th></th><th></th><th></th><th></th><th></th><th></th><th>Hz</th><th>Jy</th><th></th><th></th><th></th><th></th><th></th><th></th><th></th><th></th><th></th><th></th><th></th><th></th><th></th><th></th></tr></thead>\n",
       "<tr><td>0</td><td>1</td><td>2 keV</td><td>-29.67</td><td></td><td>log(erg/cm^2^/s/Hz)</td><td>4.84e+17</td><td>2.14e-07</td><td>--</td><td>--</td><td>--</td><td>--</td><td></td><td>Jy</td><td>2006AJ....131.2826S</td><td>no uncertainty reported</td><td>2   keV</td><td>Broad-band measurement</td><td>16 20 11.2 +17 24 28 (J2000)</td><td>Flux integrated from map</td><td></td><td>Averaged new and previously published data</td></tr>\n",
       "<tr><td>1</td><td>2</td><td>0.3-3.5 keV (EO IPC)</td><td>2.113e-12</td><td>+/-2.4000E-13</td><td>ergs cm^-2^ s^-1^</td><td>3.87e+17</td><td>5.46e-07</td><td>6.2e-08</td><td>6.2e-08</td><td>--</td><td>--</td><td>+/-6.20E-08</td><td>Jy</td><td>1990ApJS...72..567G</td><td>1 sigma</td><td>1.6        keV</td><td>Broad-band measurement; broad-band flux derived by integration over spectrum; synthetic band</td><td>161756.5 +173133.7 (B1950)</td><td>Integrated from scans</td><td></td><td>From new raw data; Extinction-corrected for Milky Way; NEDfrequency assigned to mid-point of band in keV</td></tr>\n",
       "<tr><td>2</td><td>3</td><td>0.5-2 keV (ROSAT)</td><td>6.5e-13</td><td>+/-20  %</td><td>erg s^-1^ cm^-2^</td><td>3.02e+17</td><td>2.15e-07</td><td>3.96e-08</td><td>3.96e-08</td><td>--</td><td>--</td><td>+/-3.96E-08</td><td>Jy</td><td>1997MNRAS.285..511B</td><td>uncertainty</td><td>1.25   keV</td><td>Broad-band measurement</td><td>16 20 11.3 +17 24 28 (J2000)</td><td>Flux integrated from map</td><td></td><td>From new raw data; NED frequency assigned to mid-point ofband in keV</td></tr>\n",
       "<tr><td>3</td><td>4</td><td>1450 A</td><td>7.5e-15</td><td>+/-0.35E-14</td><td>ergs/cm^2^/s/A</td><td>2070000000000000.0</td><td>0.000527</td><td>0.000246</td><td>0.000246</td><td>--</td><td>--</td><td>+/-2.46E-04</td><td>Jy</td><td>2005ApJ...629...61K</td><td>uncertainty</td><td>1450   A</td><td>Broad-band measurement</td><td></td><td>Flux integrated from map</td><td></td><td>From new raw data; Extinction-corrected for Milky Way</td></tr>\n",
       "<tr><td>4</td><td>5</td><td>FUV (GALEX) AB</td><td>15.9736</td><td>+/-0.0165712</td><td>mag</td><td>1950000000000000.0</td><td>0.00148</td><td>2.26e-05</td><td>2.26e-05</td><td>--</td><td>--</td><td>+/-2.26E-05</td><td>Jy</td><td>2012GASC..C...0000S</td><td>uncertainty</td><td>1538.6     A</td><td>Broad-band measurement</td><td>245.04690996439 17.407491846934 (J2000)</td><td>Flux integrated from map</td><td>Kron flux in elliptical aperture</td><td>From new raw data</td></tr>\n",
       "<tr><td>5</td><td>6</td><td>FUV (GALEX) AB</td><td>16.347</td><td>+/-0.0213423</td><td>mag</td><td>1950000000000000.0</td><td>0.00105</td><td>2.06e-05</td><td>2.06e-05</td><td>--</td><td>--</td><td>+/-2.06E-05</td><td>Jy</td><td>2012GASC..C...0000S</td><td>uncertainty</td><td>1538.6     A</td><td>Broad-band measurement</td><td>245.04690996439 17.407491846934 (J2000)</td><td>Flux in fixed aperture</td><td>Flux in 7.5 arcsec diameter aperture</td><td>From new raw data</td></tr>\n",
       "<tr><td>6</td><td>7</td><td>1549 A</td><td>1.19e-14</td><td></td><td>erg/cm^2^/s/A</td><td>1940000000000000.0</td><td>0.000954</td><td>--</td><td>--</td><td>--</td><td>--</td><td></td><td>Jy</td><td>2005MNRAS.356.1029B</td><td>no uncertainty reported</td><td>1549.05   A</td><td>Broad-band measurement</td><td></td><td>Not reported in paper</td><td>C IV continuum</td><td>From new raw data; Extinction-corrected for Milky Way</td></tr>\n",
       "<tr><td>7</td><td>8</td><td>NUV (GALEX) AB</td><td>15.6882</td><td>+/-0.00878282</td><td>mag</td><td>1290000000000000.0</td><td>0.00193</td><td>1.56e-05</td><td>1.56e-05</td><td>--</td><td>--</td><td>+/-1.56E-05</td><td>Jy</td><td>2012GASC..C...0000S</td><td>uncertainty</td><td>2315.7     A</td><td>Broad-band measurement</td><td>245.04690996439 17.407491846934 (J2000)</td><td>Flux integrated from map</td><td>Kron flux in elliptical aperture</td><td>From new raw data</td></tr>\n",
       "<tr><td>8</td><td>9</td><td>NUV (GALEX) AB</td><td>16.1557</td><td>+/-0.0118102</td><td>mag</td><td>1290000000000000.0</td><td>0.00125</td><td>1.36e-05</td><td>1.36e-05</td><td>--</td><td>--</td><td>+/-1.36E-05</td><td>Jy</td><td>2012GASC..C...0000S</td><td>uncertainty</td><td>2315.7     A</td><td>Broad-band measurement</td><td>245.04690996439 17.407491846934 (J2000)</td><td>Flux in fixed aperture</td><td>Flux in 7.5 arcsec diameter aperture</td><td>From new raw data</td></tr>\n",
       "<tr><td>9</td><td>10</td><td>2500 A</td><td>-25.32</td><td></td><td>log(erg/cm^2^/s/Hz)</td><td>1200000000000000.0</td><td>0.00479</td><td>--</td><td>--</td><td>--</td><td>--</td><td></td><td>Jy</td><td>2006AJ....131.2826S</td><td>no uncertainty reported</td><td>2500   A</td><td>Broad-band measurement</td><td>16 20 11.2 +17 24 28 (J2000)</td><td>Flux integrated from map</td><td></td><td>Averaged new and previously published data</td></tr>\n",
       "<tr><td>10</td><td>11</td><td>u (SDSS PSF) AB</td><td>15.319</td><td>+/-0.023</td><td>asinh mag</td><td>836000000000000.0</td><td>0.00281</td><td>5.95e-05</td><td>5.95e-05</td><td>--</td><td>--</td><td>+/-5.95E-05</td><td>Jy</td><td>2007SDSS6.C...0000:</td><td>based on count statistics only</td><td>3585       A</td><td>Broad-band measurement</td><td>245.0470121167 17.4076568611 (J2000)</td><td>Modelled datum</td><td>SDSS flags: CHILD - object is part of a blended parent object; BAD_RADIAL - some low S/N radial points; BINNED1 - detected at &gt;=5 sigma in original imaging frame;</td><td>From new raw data</td></tr>\n",
       "<tr><td>11</td><td>12</td><td>H{gamma}</td><td>4.2e-14</td><td>+/-1.1E-14</td><td>ergs/s/cm^2^</td><td>691000000000000.0</td><td>4200000000.0</td><td>1100000000.0</td><td>1100000000.0</td><td>--</td><td>--</td><td>+/-1.10E+09</td><td>Jy-Hz</td><td>2000ApJ...533..631K</td><td>rms uncertainty</td><td>4340   A</td><td>Line measurement; flux integrated over line; lines measured in emission</td><td>16 17 56.2 +17 31 34 (J2000)</td><td>Total flux</td><td></td><td>From new raw data</td></tr>\n",
       "<tr><td>12</td><td>13</td><td>J_pg</td><td>16.4</td><td>+/-0.3</td><td>mag</td><td>641000000000000.0</td><td>0.00109</td><td>0.000301</td><td>0.000301</td><td>--</td><td>--</td><td>+/-3.01E-04</td><td>Jy</td><td>2007ApJS..170...33P</td><td>estimated error</td><td>4680   A</td><td>Broad-band measurement</td><td>16 20 11.26 +17 24 27.5 (J2000)</td><td>Flux in fixed aperture</td><td>Isophotal mag</td><td>From reprocessed raw data</td></tr>\n",
       "<tr><td>13</td><td>14</td><td>4861 A</td><td>2.38e-15</td><td></td><td>erg/cm^2^/s/A</td><td>617000000000000.0</td><td>0.00188</td><td>--</td><td>--</td><td>--</td><td>--</td><td></td><td>Jy</td><td>2005MNRAS.356.1029B</td><td>no uncertainty reported</td><td>4861   A</td><td>Broad-band measurement</td><td></td><td>Not reported in paper</td><td>H {beta} continuum</td><td>From new raw data; Extinction-corrected for Milky Way</td></tr>\n",
       "<tr><td>14</td><td>15</td><td>g (SDSS PSF) AB</td><td>15.396</td><td>+/-0.012</td><td>asinh mag</td><td>617000000000000.0</td><td>0.00252</td><td>2.79e-05</td><td>2.79e-05</td><td>--</td><td>--</td><td>+/-2.79E-05</td><td>Jy</td><td>2007SDSS6.C...0000:</td><td>based on count statistics only</td><td>4858       A</td><td>Broad-band measurement</td><td>245.0470121167 17.4076568611 (J2000)</td><td>Modelled datum</td><td>SDSS flags: CHILD - object is part of a blended parent object; COSMIC_RAY - contains a cosmic ray pixel; BAD_RADIAL - some low S/N radial points; INTERP - object contains interpolated-over pixels; BINNED1 - detected at &gt;=5 sigma in original imaging frame;</td><td>From new raw data</td></tr>\n",
       "<tr><td>15</td><td>16</td><td>H{beta}</td><td>1.4e-13</td><td>+/-1.7E-14</td><td>ergs/s/cm^2^</td><td>617000000000000.0</td><td>14000000000.0</td><td>1700000000.0</td><td>1700000000.0</td><td>--</td><td>--</td><td>+/-1.70E+09</td><td>Jy-Hz</td><td>2000ApJ...533..631K</td><td>rms uncertainty</td><td>4861   A</td><td>Line measurement; flux integrated over line; lines measured in emission</td><td>16 17 56.2 +17 31 34 (J2000)</td><td>Total flux</td><td></td><td>From new raw data</td></tr>\n",
       "<tr><td>16</td><td>17</td><td>5100 A</td><td>1.44e-15</td><td>+/-2.5E-16</td><td>ergs/cm^2^/s/A</td><td>588000000000000.0</td><td>0.00125</td><td>0.000217</td><td>0.000217</td><td>--</td><td>--</td><td>+/-2.17E-04</td><td>Jy</td><td>2000ApJ...533..631K</td><td>rms uncertainty</td><td>5100   A</td><td>Broad-band measurement</td><td>16 17 56.2 +17 31 34 (J2000)</td><td>Total flux</td><td></td><td>From new raw data</td></tr>\n",
       "<tr><td>17</td><td>18</td><td>V (Johnson)</td><td>15.62</td><td></td><td>mag</td><td>542000000000000.0</td><td>0.00206</td><td>--</td><td>--</td><td>--</td><td>--</td><td></td><td>Jy</td><td>1988VIrPh.C...0000d</td><td>no uncertainty reported</td><td>5530   A</td><td>Broad-band measurement</td><td></td><td>Flux in fixed aperture</td><td>23&quot; aperture</td><td>Transformed from previously published data; Standard JohnsonUBVRI filters assumed</td></tr>\n",
       "<tr><td>18</td><td>19</td><td>V (Johnson)</td><td>16.34</td><td></td><td>mag</td><td>542000000000000.0</td><td>0.00106</td><td>--</td><td>--</td><td>--</td><td>--</td><td></td><td>Jy</td><td>2009ApJ...694L.166B</td><td>no uncertainty reported</td><td>5530 A</td><td>Broad-band measurement</td><td></td><td>Modelled datum</td><td>Bulge magnitude</td><td>From new raw data</td></tr>\n",
       "<tr><td>19</td><td>20</td><td>r (SDSS PSF) AB</td><td>15.49</td><td>+/-0.014</td><td>asinh mag</td><td>477000000000000.0</td><td>0.00231</td><td>2.98e-05</td><td>2.98e-05</td><td>--</td><td>--</td><td>+/-2.98E-05</td><td>Jy</td><td>2007SDSS6.C...0000:</td><td>based on count statistics only</td><td>6290       A</td><td>Broad-band measurement</td><td>245.0470121167 17.4076568611 (J2000)</td><td>Modelled datum</td><td>SDSS flags: CHILD - object is part of a blended parent object; BAD_RADIAL - some low S/N radial points; BINNED1 - detected at &gt;=5 sigma in original imaging frame; CANONICAL_BAND - this band was primary (usually r);</td><td>From new raw data</td></tr>\n",
       "<tr><td>20</td><td>21</td><td>F_pg</td><td>15.0</td><td>+/-0.3</td><td>mag</td><td>468000000000000.0</td><td>0.00308</td><td>0.000851</td><td>0.000851</td><td>--</td><td>--</td><td>+/-8.51E-04</td><td>Jy</td><td>2007ApJS..170...33P</td><td>estimated error</td><td>6400   A</td><td>Broad-band measurement</td><td>16 20 11.26 +17 24 27.5 (J2000)</td><td>Flux in fixed aperture</td><td>Isophotal mag</td><td>From reprocessed raw data</td></tr>\n",
       "<tr><td>21</td><td>22</td><td>H{alpha}</td><td>5.04e-13</td><td>+/-3.9E-14</td><td>ergs/s/cm^2^</td><td>457000000000000.0</td><td>50400000000.0</td><td>3900000000.0</td><td>3900000000.0</td><td>--</td><td>--</td><td>+/-3.90E+09</td><td>Jy-Hz</td><td>2000ApJ...533..631K</td><td>rms uncertainty</td><td>6563   A</td><td>Line measurement; flux integrated over line; lines measured in emission</td><td>16 17 56.2 +17 31 34 (J2000)</td><td>Total flux</td><td></td><td>From new raw data</td></tr>\n",
       "<tr><td>22</td><td>23</td><td>R (Johnson)</td><td>15.2</td><td></td><td>mag</td><td>428000000000000.0</td><td>0.00231</td><td>--</td><td>--</td><td>--</td><td>--</td><td></td><td>Jy</td><td>1988VIrPh.C...0000d</td><td>no uncertainty reported</td><td>7000   A</td><td>Broad-band measurement</td><td></td><td>Flux in fixed aperture</td><td>23&quot; aperture</td><td>Transformed from previously published data; Standard JohnsonUBVRI filters assumed</td></tr>\n",
       "<tr><td>23</td><td>24</td><td>i (SDSS PSF) AB</td><td>14.963</td><td>+/-0.016</td><td>asinh mag</td><td>389000000000000.0</td><td>0.00376</td><td>5.54e-05</td><td>5.54e-05</td><td>--</td><td>--</td><td>+/-5.54E-05</td><td>Jy</td><td>2007SDSS6.C...0000:</td><td>based on count statistics only</td><td>7706       A</td><td>Broad-band measurement</td><td>245.0470121167 17.4076568611 (J2000)</td><td>Modelled datum</td><td>SDSS flags: CHILD - object is part of a blended parent object; BAD_RADIAL - some low S/N radial points; INTERP - object contains interpolated-over pixels; BINNED1 - detected at &gt;=5 sigma in original imaging frame; INTERP_CENTER - interpolated pixel(s) within 3 pixels of center;</td><td>From new raw data</td></tr>\n",
       "<tr><td>24</td><td>25</td><td>z (SDSS PSF) AB</td><td>15.197</td><td>+/-0.017</td><td>asinh mag</td><td>325000000000000.0</td><td>0.00297</td><td>4.66e-05</td><td>4.66e-05</td><td>--</td><td>--</td><td>+/-4.66E-05</td><td>Jy</td><td>2007SDSS6.C...0000:</td><td>based on count statistics only</td><td>9222       A</td><td>Broad-band measurement</td><td>245.0470121167 17.4076568611 (J2000)</td><td>Modelled datum</td><td>SDSS flags: CHILD - object is part of a blended parent object; BAD_RADIAL - some low S/N radial points; BINNED1 - detected at &gt;=5 sigma in original imaging frame;</td><td>From new raw data</td></tr>\n",
       "<tr><td>25</td><td>26</td><td>J (2MASS/FLWO)</td><td>14.346</td><td>+/-0.034</td><td>mag</td><td>243000000000000.0</td><td>0.00291</td><td>9.12e-05</td><td>9.12e-05</td><td>--</td><td>--</td><td>+/-9.12E-05</td><td>Jy</td><td>2006AJ....131.1163S</td><td>uncertainty</td><td>1.235      microns</td><td>Broad-band measurement</td><td></td><td>Flux in fixed aperture</td><td>Profile-fit</td><td>From new raw data</td></tr>\n",
       "<tr><td>26</td><td>27</td><td>J (2MASS/FLWO)</td><td>14.261</td><td>+/-0.023</td><td>mag</td><td>243000000000000.0</td><td>0.00315</td><td>6.67e-05</td><td>6.67e-05</td><td>--</td><td>--</td><td>+/-6.67E-05</td><td>Jy</td><td>2006AJ....131.1163S</td><td>uncertainty</td><td>1.235      microns</td><td>Broad-band measurement</td><td></td><td>Flux in fixed aperture</td><td>4&quot; aperture</td><td>From new raw data</td></tr>\n",
       "<tr><td>27</td><td>28</td><td>1.27 microns</td><td>0.63</td><td>+/-0.03</td><td>log milliJy</td><td>236000000000000.0</td><td>0.00427</td><td>0.000285</td><td>0.000285</td><td>--</td><td>--</td><td>+/-2.85E-04</td><td>Jy</td><td>1987ApJS...63..615N</td><td>estimated error</td><td>1.27       microns</td><td>Broad-band measurement</td><td></td><td>Flux in fixed aperture</td><td>5&quot;.5 aperture, 1981 Aug 18</td><td>From new raw data; Standard Caltech JHKL filters assumed</td></tr>\n",
       "<tr><td>28</td><td>29</td><td>1.65 microns</td><td>0.81</td><td>+/-0.03</td><td>log milliJy</td><td>182000000000000.0</td><td>0.00646</td><td>0.000431</td><td>0.000431</td><td>--</td><td>--</td><td>+/-4.31E-04</td><td>Jy</td><td>1987ApJS...63..615N</td><td>estimated error</td><td>1.65       microns</td><td>Broad-band measurement</td><td></td><td>Flux in fixed aperture</td><td>5&quot;.5 aperture, 1981 Aug 18</td><td>From new raw data; Standard Caltech JHKL filters assumed</td></tr>\n",
       "<tr><td>29</td><td>30</td><td>H (2MASS/FLWO)</td><td>13.469</td><td>+/-0.036</td><td>mag</td><td>180000000000000.0</td><td>0.00419</td><td>0.000139</td><td>0.000139</td><td>--</td><td>--</td><td>+/-1.39E-04</td><td>Jy</td><td>2006AJ....131.1163S</td><td>uncertainty</td><td>1.662      microns</td><td>Broad-band measurement</td><td></td><td>Flux in fixed aperture</td><td>4&quot; aperture</td><td>From new raw data</td></tr>\n",
       "<tr><td>30</td><td>31</td><td>H (2MASS/FLWO)</td><td>13.541</td><td>+/-0.033</td><td>mag</td><td>180000000000000.0</td><td>0.00393</td><td>0.000119</td><td>0.000119</td><td>--</td><td>--</td><td>+/-1.19E-04</td><td>Jy</td><td>2006AJ....131.1163S</td><td>uncertainty</td><td>1.662      microns</td><td>Broad-band measurement</td><td></td><td>Flux in fixed aperture</td><td>Profile-fit</td><td>From new raw data</td></tr>\n",
       "<tr><td>31</td><td>32</td><td>K&apos; (GeminiN)</td><td>--</td><td>&gt;7.21</td><td>milliJy</td><td>141000000000000.0</td><td>--</td><td>--</td><td>--</td><td>--</td><td>0.00721</td><td>&gt;7.21E-03</td><td>Jy</td><td>2006ApJS..166...89G</td><td>1 sigma</td><td>2.120   microns</td><td>Broad-band measurement</td><td>16 20 11.29 +17 24 27.6 (J2000)</td><td>Flux in fixed aperture</td><td>5.5&quot; diameter aperture</td><td>From new raw data</td></tr>\n",
       "<tr><td>32</td><td>33</td><td>K_s (2MASS/FLWO)</td><td>12.419</td><td>+/-0.023</td><td>mag</td><td>139000000000000.0</td><td>0.00718</td><td>0.000152</td><td>0.000152</td><td>--</td><td>--</td><td>+/-1.52E-04</td><td>Jy</td><td>2006AJ....131.1163S</td><td>uncertainty</td><td>2.159      microns</td><td>Broad-band measurement</td><td></td><td>Flux in fixed aperture</td><td>Profile-fit</td><td>From new raw data</td></tr>\n",
       "<tr><td>33</td><td>34</td><td>K_s (2MASS/FLWO)</td><td>12.403</td><td>+/-0.021</td><td>mag</td><td>139000000000000.0</td><td>0.00729</td><td>0.000141</td><td>0.000141</td><td>--</td><td>--</td><td>+/-1.41E-04</td><td>Jy</td><td>2006AJ....131.1163S</td><td>uncertainty</td><td>2.159      microns</td><td>Broad-band measurement</td><td></td><td>Flux in fixed aperture</td><td>4&quot; aperture</td><td>From new raw data</td></tr>\n",
       "<tr><td>34</td><td>35</td><td>2.2 microns</td><td>1.09</td><td>+/-0.03</td><td>log milliJy</td><td>136000000000000.0</td><td>0.0123</td><td>0.000819</td><td>0.000819</td><td>--</td><td>--</td><td>+/-8.19E-04</td><td>Jy</td><td>1987ApJS...63..615N</td><td>estimated error</td><td>2.2        microns</td><td>Broad-band measurement</td><td></td><td>Flux in fixed aperture</td><td>5&quot;.5 aperture, 1981 Aug 18</td><td>From new raw data; Standard Caltech JHKL filters assumed</td></tr>\n",
       "<tr><td>35</td><td>36</td><td>W1 (WISE)</td><td>9.758</td><td>+/-0.068</td><td>mag</td><td>89400000000000.0</td><td>0.0387</td><td>0.00242</td><td>0.00242</td><td>--</td><td>--</td><td>+/-2.42E-03</td><td>Jy</td><td>2013wise.rept....1C</td><td>uncertainty</td><td>3.3526     microns</td><td>Broad-band measurement</td><td></td><td>From fitting to map</td><td>Profile-fit;extended</td><td>From new raw data; Uncorrected for known sources in beam</td></tr>\n",
       "<tr><td>36</td><td>37</td><td>W1 (WISE)</td><td>10.619</td><td>+/-0.006</td><td>mag</td><td>89400000000000.0</td><td>0.0175</td><td>9.67e-05</td><td>9.67e-05</td><td>--</td><td>--</td><td>+/-9.67E-05</td><td>Jy</td><td>2013wise.rept....1C</td><td>uncertainty</td><td>3.3526     microns</td><td>Broad-band measurement</td><td></td><td>Flux in fixed aperture</td><td>r=8.25&quot; COG-corrected;extended</td><td>From new raw data; Uncorrected for known sources in beam</td></tr>\n",
       "<tr><td>37</td><td>38</td><td>W1 (WISE)</td><td>10.617</td><td>+/-0.006</td><td>mag</td><td>89400000000000.0</td><td>0.0175</td><td>9.69e-05</td><td>9.69e-05</td><td>--</td><td>--</td><td>+/-9.69E-05</td><td>Jy</td><td>2013wise.rept....1C</td><td>uncertainty</td><td>3.3526     microns</td><td>Broad-band measurement</td><td></td><td>Flux in fixed aperture</td><td>r=22.0&quot; aperture;extended</td><td>From new raw data; Uncorrected for known sources in beam</td></tr>\n",
       "<tr><td>38</td><td>39</td><td>3.7 microns</td><td>1.29</td><td>+/-0.04</td><td>log milliJy</td><td>85700000000000.0</td><td>0.0195</td><td>0.00172</td><td>0.00172</td><td>--</td><td>--</td><td>+/-1.72E-03</td><td>Jy</td><td>1987ApJS...63..615N</td><td>estimated error</td><td>3.5        microns</td><td>Broad-band measurement</td><td></td><td>Flux in fixed aperture</td><td>5&quot;.5 aperture, 1981 Aug 18</td><td>From new raw data; Standard Caltech JHKL filters assumed</td></tr>\n",
       "<tr><td>39</td><td>40</td><td>W2 (WISE)</td><td>9.659</td><td>+/-0.02</td><td>mag</td><td>65100000000000.0</td><td>0.0235</td><td>0.000433</td><td>0.000433</td><td>--</td><td>--</td><td>+/-4.33E-04</td><td>Jy</td><td>2013wise.rept....1C</td><td>uncertainty</td><td>4.6028     microns</td><td>Broad-band measurement</td><td></td><td>From fitting to map</td><td>Profile-fit;extended</td><td>From new raw data</td></tr>\n",
       "<tr><td>40</td><td>41</td><td>W2 (WISE)</td><td>9.661</td><td>+/-0.006</td><td>mag</td><td>65100000000000.0</td><td>0.0235</td><td>0.00013</td><td>0.00013</td><td>--</td><td>--</td><td>+/-1.30E-04</td><td>Jy</td><td>2013wise.rept....1C</td><td>uncertainty</td><td>4.6028     microns</td><td>Broad-band measurement</td><td></td><td>Flux in fixed aperture</td><td>r=8.25&quot; COG-corrected;extended</td><td>From new raw data</td></tr>\n",
       "<tr><td>41</td><td>42</td><td>W2 (WISE)</td><td>9.678</td><td>+/-0.006</td><td>mag</td><td>65100000000000.0</td><td>0.0231</td><td>0.000128</td><td>0.000128</td><td>--</td><td>--</td><td>+/-1.28E-04</td><td>Jy</td><td>2013wise.rept....1C</td><td>uncertainty</td><td>4.6028     microns</td><td>Broad-band measurement</td><td></td><td>Flux in fixed aperture</td><td>r=22.0&quot; aperture;extended</td><td>From new raw data; Uncorrected for known sources in beam</td></tr>\n",
       "<tr><td>42</td><td>43</td><td>6 microns (Spitzer)</td><td>24.3</td><td></td><td>milliJy</td><td>50000000000000.0</td><td>0.0243</td><td>--</td><td>--</td><td>--</td><td>--</td><td></td><td>Jy</td><td>2009ApJS..182..628V</td><td>no uncertainty reported</td><td>6 microns</td><td>Broad-band measurement</td><td></td><td>Flux integrated from map</td><td>From IRS spectra with 3.3% bandpass</td><td>From new raw data</td></tr>\n",
       "<tr><td>43</td><td>44</td><td>6 microns (Spitzer)</td><td>24.5</td><td></td><td>milliJy</td><td>50000000000000.0</td><td>0.0245</td><td>--</td><td>--</td><td>--</td><td>--</td><td></td><td>Jy</td><td>2010MNRAS.403.1246S</td><td>no uncertainty reported</td><td>6 microns</td><td>Broad-band measurement</td><td></td><td>Flux integrated from map</td><td>AGN flux</td><td>From reprocessed raw data</td></tr>\n",
       "<tr><td>44</td><td>45</td><td>PAH 6.2 microns IRS</td><td>--</td><td>&lt;0.12E-20</td><td>W/cm^2^</td><td>48400000000000.0</td><td>--</td><td>--</td><td>--</td><td>1200000000.0</td><td>--</td><td>&lt;1.20E+09</td><td>Jy-Hz</td><td>2010MNRAS.403.1246S</td><td>3 sigma</td><td>6.2 microns</td><td>Line measurement; flux integrated over line; lines measured in emission</td><td></td><td>Flux integrated from map</td><td></td><td>From reprocessed raw data</td></tr>\n",
       "<tr><td>45</td><td>46</td><td>7.7 microns (IRS)</td><td>--</td><td>&lt;0.45E-13</td><td>ergs/s/cm^2^</td><td>38900000000000.0</td><td>--</td><td>--</td><td>--</td><td>4500000000.0</td><td>--</td><td>&lt;4.50E+09</td><td>Jy-Hz</td><td>2007ApJ...669..841S</td><td>no uncertainty reported</td><td>7.7 microns</td><td>Line measurement; flux integrated over line</td><td></td><td>From fitting to map</td><td></td><td>From new raw data</td></tr>\n",
       "<tr><td>46</td><td>47</td><td>PAH 7.7 microns IRS</td><td>--</td><td>&lt;1.05E-20</td><td>W cm^-2^</td><td>38900000000000.0</td><td>--</td><td>--</td><td>--</td><td>10500000000.0</td><td>--</td><td>&lt;1.05E+10</td><td>Jy-Hz</td><td>2006ApJ...649...79S</td><td>no uncertainty reported</td><td>7.7   microns</td><td>Line measurement; flux integrated over line; lines measured in emission</td><td></td><td>Flux integrated from map</td><td></td><td>From new raw data</td></tr>\n",
       "<tr><td>47</td><td>48</td><td>10.1 microns</td><td>1.56</td><td>+/-0.10</td><td>log milliJy</td><td>29700000000000.0</td><td>0.0363</td><td>0.00747</td><td>0.00747</td><td>--</td><td>--</td><td>+/-7.47E-03</td><td>Jy</td><td>1987ApJS...63..615N</td><td>estimated error</td><td>10.1       microns</td><td>Broad-band measurement</td><td></td><td>Flux in fixed aperture</td><td>4&quot;.5 aperture, 1981 Aug 18</td><td>From new raw data; Standard Caltech JHKL filters assumed</td></tr>\n",
       "<tr><td>48</td><td>49</td><td>11.3 microns (IRS)</td><td>--</td><td>&lt;0.48E-13</td><td>ergs/s/cm^2^</td><td>26500000000000.0</td><td>--</td><td>--</td><td>--</td><td>4800000000.0</td><td>--</td><td>&lt;4.80E+09</td><td>Jy-Hz</td><td>2007ApJ...669..841S</td><td>no uncertainty reported</td><td>11.3 microns</td><td>Line measurement; flux integrated over line</td><td></td><td>From fitting to map</td><td></td><td>From new raw data</td></tr>\n",
       "<tr><td>49</td><td>50</td><td>W3 (WISE)</td><td>7.329</td><td>+/-0.019</td><td>mag</td><td>25900000000000.0</td><td>0.0371</td><td>0.000649</td><td>0.000649</td><td>--</td><td>--</td><td>+/-6.49E-04</td><td>Jy</td><td>2013wise.rept....1C</td><td>uncertainty</td><td>11.5608    microns</td><td>Broad-band measurement</td><td></td><td>From fitting to map</td><td>Profile-fit;extended</td><td>From new raw data</td></tr>\n",
       "<tr><td>50</td><td>51</td><td>W3 (WISE)</td><td>7.339</td><td>+/-0.007</td><td>mag</td><td>25900000000000.0</td><td>0.0367</td><td>0.000237</td><td>0.000237</td><td>--</td><td>--</td><td>+/-2.37E-04</td><td>Jy</td><td>2013wise.rept....1C</td><td>uncertainty</td><td>11.5608    microns</td><td>Broad-band measurement</td><td></td><td>Flux in fixed aperture</td><td>r=8.25&quot; COG-corrected;extended</td><td>From new raw data</td></tr>\n",
       "<tr><td>51</td><td>52</td><td>W3 (WISE)</td><td>7.499</td><td>+/-0.009</td><td>mag</td><td>25900000000000.0</td><td>0.0317</td><td>0.000263</td><td>0.000263</td><td>--</td><td>--</td><td>+/-2.63E-04</td><td>Jy</td><td>2013wise.rept....1C</td><td>uncertainty</td><td>11.5608    microns</td><td>Broad-band measurement</td><td></td><td>Flux in fixed aperture</td><td>r=22.0&quot; aperture;extended</td><td>From new raw data; Uncorrected for known sources in beam</td></tr>\n",
       "<tr><td>52</td><td>53</td><td>12 microns (IRAS)</td><td>--</td><td>&lt;68.</td><td>milliJy</td><td>25000000000000.0</td><td>--</td><td>--</td><td>--</td><td>0.068</td><td>--</td><td>&lt;6.80E-02</td><td>Jy</td><td>1989ApJ...347...29S</td><td>no uncertainty reported</td><td>12         microns</td><td>Broad-band measurement</td><td></td><td>From fitting to map</td><td>From coadded survey scans</td><td>From new raw data</td></tr>\n",
       "<tr><td>53</td><td>54</td><td>12 microns (IRAS)</td><td>0.065</td><td>+/-20  %</td><td>Jy</td><td>25000000000000.0</td><td>0.065</td><td>0.013</td><td>0.013</td><td>--</td><td>--</td><td>+/-1.30E-02</td><td>Jy</td><td>1990IRASZ.C...0000M</td><td>uncertainty</td><td>12         microns</td><td>Broad-band measurement</td><td>161757.2 +173134 (B1950)</td><td>Flux in fixed aperture</td><td></td><td>From new raw data</td></tr>\n",
       "<tr><td>54</td><td>55</td><td>[Ne II] (IRS)</td><td>2.89e-22</td><td></td><td>W cm^-2^</td><td>23400000000000.0</td><td>289000000.0</td><td>--</td><td>--</td><td>--</td><td>--</td><td></td><td>Jy-Hz</td><td>2006ApJ...649...79S</td><td>no uncertainty reported</td><td>12.8   microns</td><td>Line measurement; flux integrated over line; lines measured in emission</td><td></td><td>Flux integrated from map</td><td></td><td>From new raw data</td></tr>\n",
       "<tr><td>55</td><td>56</td><td>[Ne V] (IRS)</td><td>--</td><td>&lt;1.70E-22</td><td>W cm^-2^</td><td>21000000000000.0</td><td>--</td><td>--</td><td>--</td><td>170000000.0</td><td>--</td><td>&lt;1.70E+08</td><td>Jy-Hz</td><td>2006ApJ...649...79S</td><td>no uncertainty reported</td><td>14.3   microns</td><td>Line measurement; flux integrated over line; lines measured in emission</td><td></td><td>Flux integrated from map</td><td></td><td>From new raw data</td></tr>\n",
       "<tr><td>56</td><td>57</td><td>[Ne V] 14.32 Spitzer</td><td>--</td><td>&lt;0.77E-21</td><td>W/cm^2^</td><td>20900000000000.0</td><td>--</td><td>--</td><td>--</td><td>770000000.0</td><td>--</td><td>&lt;7.70E+08</td><td>Jy-Hz</td><td>2008ApJ...674L...9D</td><td>no uncertainty reported</td><td>14.32 microns</td><td>Line measurement; flux integrated over line; lines measured in emission</td><td></td><td>From fitting to map</td><td></td><td>From reprocessed raw data</td></tr>\n",
       "<tr><td>57</td><td>58</td><td>15 microns (Spitzer)</td><td>40.8</td><td></td><td>milliJy</td><td>20000000000000.0</td><td>0.0408</td><td>--</td><td>--</td><td>--</td><td>--</td><td></td><td>Jy</td><td>2009ApJS..182..628V</td><td>no uncertainty reported</td><td>15 microns</td><td>Broad-band measurement</td><td></td><td>Flux integrated from map</td><td>From IRS spectra with 3.3% bandpass</td><td>From new raw data</td></tr>\n",
       "<tr><td>58</td><td>59</td><td>20 microns (Spitzer)</td><td>52.6</td><td></td><td>milliJy</td><td>15000000000000.0</td><td>0.0526</td><td>--</td><td>--</td><td>--</td><td>--</td><td></td><td>Jy</td><td>2009ApJS..182..628V</td><td>no uncertainty reported</td><td>20 microns</td><td>Broad-band measurement</td><td></td><td>Flux integrated from map</td><td>From IRS spectra with 3.3% bandpass</td><td>From new raw data</td></tr>\n",
       "<tr><td>59</td><td>60</td><td>W4 (WISE)</td><td>5.442</td><td>+/-0.034</td><td>mag</td><td>13600000000000.0</td><td>0.0557</td><td>0.00174</td><td>0.00174</td><td>--</td><td>--</td><td>+/-1.74E-03</td><td>Jy</td><td>2013wise.rept....1C</td><td>uncertainty</td><td>22.0883    microns</td><td>Broad-band measurement</td><td></td><td>From fitting to map</td><td>Profile-fit;extended</td><td>From new raw data</td></tr>\n",
       "<tr><td>60</td><td>61</td><td>W4 (WISE)</td><td>5.406</td><td>+/-0.042</td><td>mag</td><td>13600000000000.0</td><td>0.0575</td><td>0.00223</td><td>0.00223</td><td>--</td><td>--</td><td>+/-2.23E-03</td><td>Jy</td><td>2013wise.rept....1C</td><td>uncertainty</td><td>22.0883    microns</td><td>Broad-band measurement</td><td></td><td>Flux in fixed aperture</td><td>r=16.5&quot; COG-corrected;extended</td><td>From new raw data; Uncorrected for known sources in beam</td></tr>\n",
       "<tr><td>61</td><td>62</td><td>W4 (WISE)</td><td>5.691</td><td>+/-0.044</td><td>mag</td><td>13600000000000.0</td><td>0.0443</td><td>0.00179</td><td>0.00179</td><td>--</td><td>--</td><td>+/-1.79E-03</td><td>Jy</td><td>2013wise.rept....1C</td><td>uncertainty</td><td>22.0883    microns</td><td>Broad-band measurement</td><td></td><td>Flux in fixed aperture</td><td>r=22.0&quot; aperture;extended</td><td>From new raw data; Uncorrected for known sources in beam</td></tr>\n",
       "<tr><td>62</td><td>63</td><td>24 microns (MIPS)</td><td>47323.0</td><td>+/-3.5536E+01</td><td>microJy</td><td>12700000000000.0</td><td>0.0473</td><td>3.55e-05</td><td>3.55e-05</td><td>--</td><td>--</td><td>+/-3.55E-05</td><td>Jy</td><td>2013SSTSLC4.2....0C</td><td>uncertainty</td><td>23.68      microns</td><td>Broad-band measurement</td><td></td><td>Flux in fixed aperture</td><td>14.7&quot; aperture</td><td>From new raw data</td></tr>\n",
       "<tr><td>63</td><td>64</td><td>24 microns (MIPS)</td><td>49774.0</td><td>+/-6.1419E+01</td><td>microJy</td><td>12700000000000.0</td><td>0.0498</td><td>6.14e-05</td><td>6.14e-05</td><td>--</td><td>--</td><td>+/-6.14E-05</td><td>Jy</td><td>2013SSTSLC4.2....0C</td><td>uncertainty</td><td>23.68      microns</td><td>Broad-band measurement</td><td></td><td>Modelled datum</td><td>PSF fit</td><td>From new raw data</td></tr>\n",
       "<tr><td>64</td><td>65</td><td>25 microns (IRAS)</td><td>--</td><td>&lt;67.</td><td>milliJy</td><td>12000000000000.0</td><td>--</td><td>--</td><td>--</td><td>0.067</td><td>--</td><td>&lt;6.70E-02</td><td>Jy</td><td>1989ApJ...347...29S</td><td>no uncertainty reported</td><td>25         microns</td><td>Broad-band measurement</td><td></td><td>From fitting to map</td><td>From coadded survey scans</td><td>From new raw data</td></tr>\n",
       "<tr><td>65</td><td>66</td><td>25 microns (Spitzer)</td><td>61.3</td><td></td><td>milliJy</td><td>12000000000000.0</td><td>0.0613</td><td>--</td><td>--</td><td>--</td><td>--</td><td></td><td>Jy</td><td>2009ApJS..182..628V</td><td>no uncertainty reported</td><td>25 microns</td><td>Broad-band measurement</td><td></td><td>Flux integrated from map</td><td>From IRS spectra with 3.3% bandpass</td><td>From new raw data</td></tr>\n",
       "<tr><td>66</td><td>67</td><td>25 microns (IRAS)</td><td>0.071</td><td>+/-24  %</td><td>Jy</td><td>12000000000000.0</td><td>0.071</td><td>0.017</td><td>0.017</td><td>--</td><td>--</td><td>+/-1.70E-02</td><td>Jy</td><td>1990IRASZ.C...0000M</td><td>uncertainty</td><td>25         microns</td><td>Broad-band measurement</td><td>161757.2 +173134 (B1950)</td><td>Flux in fixed aperture</td><td>IRAS quality flag = 2</td><td>From new raw data</td></tr>\n",
       "<tr><td>67</td><td>68</td><td>[O IV] (IRS)</td><td>3.92e-22</td><td></td><td>W cm^-2^</td><td>11600000000000.0</td><td>392000000.0</td><td>--</td><td>--</td><td>--</td><td>--</td><td></td><td>Jy-Hz</td><td>2006ApJ...649...79S</td><td>no uncertainty reported</td><td>25.9   microns</td><td>Line measurement; flux integrated over line; lines measured in emission</td><td></td><td>Flux integrated from map</td><td></td><td>From new raw data</td></tr>\n",
       "<tr><td>68</td><td>69</td><td>[O IV] 25.89 Spitzer</td><td>--</td><td>&lt;1.62E-21</td><td>W/cm^2^</td><td>11600000000000.0</td><td>--</td><td>--</td><td>--</td><td>1620000000.0</td><td>--</td><td>&lt;1.62E+09</td><td>Jy-Hz</td><td>2008ApJ...674L...9D</td><td>no uncertainty reported</td><td>25.89 microns</td><td>Line measurement; flux integrated over line; lines measured in emission</td><td></td><td>From fitting to map</td><td></td><td>From reprocessed raw data</td></tr>\n",
       "<tr><td>69</td><td>70</td><td>30 microns (Spitzer)</td><td>56.0</td><td></td><td>milliJy</td><td>9990000000000.0</td><td>0.056</td><td>--</td><td>--</td><td>--</td><td>--</td><td></td><td>Jy</td><td>2009ApJS..182..628V</td><td>no uncertainty reported</td><td>30 microns</td><td>Broad-band measurement</td><td></td><td>Flux integrated from map</td><td>From IRS spectra with 3.3% bandpass</td><td>From new raw data</td></tr>\n",
       "<tr><td>70</td><td>71</td><td>60 microns (IRAS)</td><td>52.0</td><td>+/-45</td><td>milliJy</td><td>5000000000000.0</td><td>0.052</td><td>0.045</td><td>0.045</td><td>--</td><td>--</td><td>+/-4.50E-02</td><td>Jy</td><td>2009MNRAS.397..265S</td><td>uncertainty</td><td>60.0 microns</td><td>Broad-band measurement</td><td>16 20 11.288 +17 24 27.70 (J2000)</td><td>From fitting to map</td><td></td><td>From reprocessed raw data</td></tr>\n",
       "<tr><td>71</td><td>72</td><td>60 microns (IRAS)</td><td>--</td><td>&lt;98.</td><td>milliJy</td><td>5000000000000.0</td><td>--</td><td>--</td><td>--</td><td>0.098</td><td>--</td><td>&lt;9.80E-02</td><td>Jy</td><td>1989ApJ...347...29S</td><td>no uncertainty reported</td><td>60         microns</td><td>Broad-band measurement</td><td></td><td>From fitting to map</td><td>From coadded survey scans</td><td>From new raw data</td></tr>\n",
       "<tr><td>72</td><td>73</td><td>60 microns (IRAS)</td><td>0.102</td><td>+/-20  %</td><td>Jy</td><td>5000000000000.0</td><td>0.102</td><td>0.0204</td><td>0.0204</td><td>--</td><td>--</td><td>+/-2.04E-02</td><td>Jy</td><td>1990IRASZ.C...0000M</td><td>uncertainty</td><td>60         microns</td><td>Broad-band measurement</td><td>161757.2 +173134 (B1950)</td><td>Flux in fixed aperture</td><td></td><td>From new raw data</td></tr>\n",
       "<tr><td>73</td><td>74</td><td>100 microns (IRAS)</td><td>45.0</td><td>+/-108</td><td>milliJy</td><td>3000000000000.0</td><td>0.045</td><td>0.108</td><td>0.108</td><td>--</td><td>--</td><td>+/-1.08E-01</td><td>Jy</td><td>2009MNRAS.397..265S</td><td>uncertainty</td><td>100.0 microns</td><td>Broad-band measurement</td><td>16 20 11.288 +17 24 27.70 (J2000)</td><td>From fitting to map</td><td></td><td>From reprocessed raw data</td></tr>\n",
       "<tr><td>74</td><td>75</td><td>100 microns (IRAS)</td><td>--</td><td>&lt;252.</td><td>milliJy</td><td>3000000000000.0</td><td>--</td><td>--</td><td>--</td><td>0.252</td><td>--</td><td>&lt;2.52E-01</td><td>Jy</td><td>1989ApJ...347...29S</td><td>no uncertainty reported</td><td>100        microns</td><td>Broad-band measurement</td><td></td><td>From fitting to map</td><td>From coadded survey scans</td><td>From new raw data</td></tr>\n",
       "<tr><td>75</td><td>76</td><td>100 microns (IRAS)</td><td>0.544</td><td>+/-20  %</td><td>Jy</td><td>3000000000000.0</td><td>0.544</td><td>0.109</td><td>0.109</td><td>--</td><td>--</td><td>+/-1.09E-01</td><td>Jy</td><td>1990IRASZ.C...0000M</td><td>uncertainty</td><td>100        microns</td><td>Broad-band measurement</td><td>161757.2 +173134 (B1950)</td><td>Flux in fixed aperture</td><td></td><td>From new raw data</td></tr>\n",
       "<tr><td>76</td><td>77</td><td>4.755 GHz (GBT)</td><td>--</td><td>&lt;4</td><td>milliJy</td><td>4760000000.0</td><td>--</td><td>--</td><td>--</td><td>0.004</td><td>--</td><td>&lt;4.00E-03</td><td>Jy</td><td>1995ApJS...98..369B</td><td>no uncertainty reported</td><td>4.755 GHz</td><td>Broad-band measurement</td><td></td><td>Flux integrated from map</td><td></td><td>From new raw data</td></tr>\n",
       "</table><style>table.dataTable {clear: both; width: auto !important; margin: 0 !important;}\n",
       ".dataTables_info, .dataTables_length, .dataTables_filter, .dataTables_paginate{\n",
       "display: inline-block; margin-right: 1em; }\n",
       ".paginate_button { margin-right: 5px; }\n",
       "</style>\n",
       "<script>\n",
       "\n",
       "var astropy_sort_num = function(a, b) {\n",
       "    var a_num = parseFloat(a);\n",
       "    var b_num = parseFloat(b);\n",
       "\n",
       "    if (isNaN(a_num) && isNaN(b_num))\n",
       "        return ((a < b) ? -1 : ((a > b) ? 1 : 0));\n",
       "    else if (!isNaN(a_num) && !isNaN(b_num))\n",
       "        return ((a_num < b_num) ? -1 : ((a_num > b_num) ? 1 : 0));\n",
       "    else\n",
       "        return isNaN(a_num) ? -1 : 1;\n",
       "}\n",
       "\n",
       "require.config({paths: {\n",
       "    datatables: 'https://cdn.datatables.net/1.10.12/js/jquery.dataTables.min'\n",
       "}});\n",
       "require([\"datatables\"], function(){\n",
       "    console.log(\"$('#table140534668460528-242688').dataTable()\");\n",
       "    \n",
       "jQuery.extend( jQuery.fn.dataTableExt.oSort, {\n",
       "    \"optionalnum-asc\": astropy_sort_num,\n",
       "    \"optionalnum-desc\": function (a,b) { return -astropy_sort_num(a, b); }\n",
       "});\n",
       "\n",
       "    $('#table140534668460528-242688').dataTable({\n",
       "        order: [],\n",
       "        pageLength: 50,\n",
       "        lengthMenu: [[10, 25, 50, 100, 500, 1000, -1], [10, 25, 50, 100, 500, 1000, 'All']],\n",
       "        pagingType: \"full_numbers\",\n",
       "        columnDefs: [{targets: [0, 1, 3, 6, 7, 8, 9, 10, 11], type: \"optionalnum\"}]\n",
       "    });\n",
       "});\n",
       "</script>\n"
      ],
      "text/plain": [
       "<IPython.core.display.HTML object>"
      ]
     },
     "execution_count": 19,
     "metadata": {},
     "output_type": "execute_result"
    }
   ],
   "source": [
    "NED_phot.show_in_notebook()"
   ]
  },
  {
   "cell_type": "code",
   "execution_count": 13,
   "id": "ffff0744",
   "metadata": {},
   "outputs": [],
   "source": [
    "a = np.where('[Ne III]' in NED_phot['Observed_Passband'])"
   ]
  },
  {
   "cell_type": "code",
   "execution_count": 14,
   "id": "4ac1a31a",
   "metadata": {},
   "outputs": [
    {
     "data": {
      "text/plain": [
       "(array([], dtype=int64),)"
      ]
     },
     "execution_count": 14,
     "metadata": {},
     "output_type": "execute_result"
    }
   ],
   "source": [
    "a"
   ]
  },
  {
   "cell_type": "code",
   "execution_count": 15,
   "id": "5e44f2e1",
   "metadata": {},
   "outputs": [
    {
     "data": {
      "text/plain": [
       "'0.5-2 keV (XMM)'"
      ]
     },
     "execution_count": 15,
     "metadata": {},
     "output_type": "execute_result"
    }
   ],
   "source": [
    "C = NED_phot['Observed_Passband'][28]\n",
    "C"
   ]
  },
  {
   "cell_type": "code",
   "execution_count": 16,
   "id": "99546d3e",
   "metadata": {},
   "outputs": [
    {
     "name": "stdout",
     "output_type": "stream",
     "text": [
      "yes\n"
     ]
    }
   ],
   "source": [
    "Ne_IR_Filter = ['[Ne V]','[Ne II]', '[Ne III] 15.55 micrn','W4 (WISE)']\n",
    "filters = np.array(NED_phot['Observed_Passband'])\n",
    "if Ne_IR_Filter[2] in filters[28]:\n",
    "    print('yes')"
   ]
  },
  {
   "cell_type": "code",
   "execution_count": 17,
   "id": "0f032c83",
   "metadata": {},
   "outputs": [],
   "source": [
    "ints = np.intersect1d(Ne_IR_Filter, filters)"
   ]
  },
  {
   "cell_type": "code",
   "execution_count": 18,
   "id": "be6b0310",
   "metadata": {},
   "outputs": [
    {
     "data": {
      "text/plain": [
       "2"
      ]
     },
     "execution_count": 18,
     "metadata": {},
     "output_type": "execute_result"
    }
   ],
   "source": [
    "len(ints)"
   ]
  },
  {
   "cell_type": "code",
   "execution_count": 19,
   "id": "c912cad0",
   "metadata": {},
   "outputs": [],
   "source": [
    "str_match = [s for s in NED_phot['Observed_Passband'] if 'Ne' in s]"
   ]
  },
  {
   "cell_type": "code",
   "execution_count": 20,
   "id": "74afb905",
   "metadata": {},
   "outputs": [
    {
     "data": {
      "text/plain": [
       "['[Ne VI] 7.65 microns',\n",
       " '[Ne II] 12.81 micron',\n",
       " '[Ne V] 14.3 microns',\n",
       " '[Ne III] 15.55 micrn']"
      ]
     },
     "execution_count": 20,
     "metadata": {},
     "output_type": "execute_result"
    }
   ],
   "source": [
    "str_match"
   ]
  },
  {
   "cell_type": "code",
   "execution_count": null,
   "id": "7ae2c62c",
   "metadata": {},
   "outputs": [],
   "source": []
  }
 ],
 "metadata": {
  "kernelspec": {
   "display_name": "Python 3 (ipykernel)",
   "language": "python",
   "name": "python3"
  },
  "language_info": {
   "codemirror_mode": {
    "name": "ipython",
    "version": 3
   },
   "file_extension": ".py",
   "mimetype": "text/x-python",
   "name": "python",
   "nbconvert_exporter": "python",
   "pygments_lexer": "ipython3",
   "version": "3.9.12"
  }
 },
 "nbformat": 4,
 "nbformat_minor": 5
}
