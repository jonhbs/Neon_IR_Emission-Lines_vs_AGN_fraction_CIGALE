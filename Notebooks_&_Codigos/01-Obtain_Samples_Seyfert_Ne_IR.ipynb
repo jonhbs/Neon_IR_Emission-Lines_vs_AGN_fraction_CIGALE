{
 "cells": [
  {
   "cell_type": "markdown",
   "id": "b3a0dff1",
   "metadata": {
    "id": "b3a0dff1"
   },
   "source": [
    "# Obtain data of AGN from SIMBAD and filtering the objects with data of Ne II, Ne III and Ne V in infrared from NED \n",
    "\n",
    "In this notebook we develop the code to Obtain the data of AGNs type Sy1 (Seyfert 1), Sy2 (Seyfert 2) and SyG (Seyfert Galaxies) from **[SIMBAD](http://simbad.u-strasbg.fr/simbad/sim-tap)** (SMB) and then search each object from the SMB sample in **[NED](https://ned.ipac.caltech.edu/)** to obtain the photometric data and filter all the objects from the sample that contain data of the emission lines of Ne II, Ne III and Ne V in infrared.\n",
    "\n",
    "The part of the code to obtain the data from SIMBAD is based in Andres Ramos's work to obtain Seyfert Samples (https://github.com/aframosp/AGNView)"
   ]
  },
  {
   "cell_type": "code",
   "execution_count": 1,
   "id": "x9XCs3j8KmdF",
   "metadata": {
    "colab": {
     "base_uri": "https://localhost:8080/"
    },
    "executionInfo": {
     "elapsed": 10306,
     "status": "ok",
     "timestamp": 1633483403323,
     "user": {
      "displayName": "Jonhatan Herney Bernal Salinas",
      "photoUrl": "https://lh3.googleusercontent.com/a-/AOh14GiKhXNQ_goIeesq2w4kv4vwiz7BZTUIiIDZFS6iHA=s64",
      "userId": "11704227221814557955"
     },
     "user_tz": 300
    },
    "id": "x9XCs3j8KmdF",
    "outputId": "b7004f1f-d237-4f0a-8d65-6050ba7a3427",
    "tags": []
   },
   "outputs": [],
   "source": [
    "# If this notebook will be run in Google Colab, first at all the next code must be run. If the notebook will be run in Jupyter\n",
    "#then \"comment\" or omit this part \n",
    "\n",
    "import sys\n",
    "IN_COLAB = 'google.colab' in sys.modules\n",
    "\n",
    "if IN_COLAB:\n",
    "    !pip install astroquery"
   ]
  },
  {
   "cell_type": "code",
   "execution_count": 2,
   "id": "4f9c61fd",
   "metadata": {
    "executionInfo": {
     "elapsed": 1500,
     "status": "ok",
     "timestamp": 1633483409256,
     "user": {
      "displayName": "Jonhatan Herney Bernal Salinas",
      "photoUrl": "https://lh3.googleusercontent.com/a-/AOh14GiKhXNQ_goIeesq2w4kv4vwiz7BZTUIiIDZFS6iHA=s64",
      "userId": "11704227221814557955"
     },
     "user_tz": 300
    },
    "id": "4f9c61fd"
   },
   "outputs": [],
   "source": [
    "from datetime import date\n",
    "import time\n",
    "import csv\n",
    "import numpy as np\n",
    "\n",
    "import pyvo\n",
    "from astroquery.ipac.ned import Ned\n",
    "from astroquery.simbad import Simbad\n",
    "from pathlib import Path\n",
    "\n",
    "import astropy.units as u\n",
    "from astropy.table import hstack, QTable\n",
    "from astropy.coordinates import SkyCoord"
   ]
  },
  {
   "cell_type": "code",
   "execution_count": 3,
   "id": "acdb66dd",
   "metadata": {},
   "outputs": [],
   "source": [
    "path_raw='../Datos/Raw/'\n",
    "Path(path_raw).mkdir(parents=True, exist_ok=True)\n",
    "path_phot_ned = '../Datos/Phot_Tables_NED/' #In this path wi will save the photometry tables for each object\n",
    "Path(path_phot_ned).mkdir(parents=True, exist_ok=True)\n",
    "path_phot_cds = '../Datos/Phot_Tables_CDS/' #In this path wi will save the photometry tables for each object\n",
    "Path(path_phot_cds).mkdir(parents=True, exist_ok=True)"
   ]
  },
  {
   "cell_type": "markdown",
   "id": "e3d1274d",
   "metadata": {
    "id": "e3d1274d"
   },
   "source": [
    "Using the package **[PyVO](https://pyvo.readthedocs.io/en/latest/#)** we can access to remote data and services like the **TAP Service of SIMBAD [SIMBAD](http://simbad.u-strasbg.fr/simbad/sim-tap)** to find and retrieve the astronomical data that we need, in this case: Seyfert Galaxies. To achive that, we use a script with **[ADQL](https://www.ivoa.net/documents/latest/ADQL.html) (Astronomical Data Query Language)**, which is based on SQL.\n",
    "\n",
    "On the script we used the next **Field Names** for VOTable ouput:\n",
    "- ra: Right ascension\n",
    "- dec: Declination\n",
    "- coo_bibcode: Bibliographical reference for coordinates\n",
    "- otype_txt: Object type\n",
    "- rvz_bibcode: Bibliographical reference of radial velocity and redshift\n",
    "- rvz_radvel: Stored value. Either a radial velocity, or a redshift, depending on the rvz_type field \n",
    "- rvz_redshift\n",
    "- rvz_type: Stored type of velocity: 'v'=radial velocity, 'z'=redshift\n",
    "- nbref: bibliographical reference\n",
    "\n",
    "~~~~sql\n",
    "SELECT main_id\n",
    "\t,ra\n",
    "\t,dec\n",
    "\t,coo_bibcode\n",
    "\t,otype_txt\n",
    "\t,rvz_bibcode\n",
    "\t,rvz_radvel\n",
    "\t,rvz_redshift\n",
    "\t,rvz_type\n",
    "\t,nbref\n",
    "\t,alltypes.otypes\n",
    "FROM basic\n",
    "JOIN alltypes ON oid = oidref\n",
    "WHERE basic.otype = 'Sy1'\n",
    "\tOR basic.otype = 'Sy2'\n",
    "\tOR basic.otype = 'SyG'\n",
    "~~~~"
   ]
  },
  {
   "cell_type": "code",
   "execution_count": 4,
   "id": "975d55bf",
   "metadata": {
    "executionInfo": {
     "elapsed": 12406,
     "status": "ok",
     "timestamp": 1633483427713,
     "user": {
      "displayName": "Jonhatan Herney Bernal Salinas",
      "photoUrl": "https://lh3.googleusercontent.com/a-/AOh14GiKhXNQ_goIeesq2w4kv4vwiz7BZTUIiIDZFS6iHA=s64",
      "userId": "11704227221814557955"
     },
     "user_tz": 300
    },
    "id": "975d55bf"
   },
   "outputs": [],
   "source": [
    "service = pyvo.dal.TAPService(\"http://simbad.u-strasbg.fr:80/simbad/sim-tap\")\n",
    "\n",
    "result = service.search(\"\"\"\n",
    "SELECT main_id\n",
    "    ,ra\n",
    "    ,dec\n",
    "    ,coo_bibcode\n",
    "    ,otype_txt\n",
    "    ,rvz_bibcode\n",
    "    ,rvz_radvel\n",
    "    ,rvz_redshift\n",
    "    ,rvz_type\n",
    "    ,nbref\n",
    "    ,alltypes.otypes\n",
    "FROM basic\n",
    "JOIN alltypes ON oid = oidref\n",
    "WHERE basic.otype = 'Sy1'\n",
    "    OR basic.otype = 'Sy2'\n",
    "    OR basic.otype = 'SyG'\n",
    "\"\"\")"
   ]
  },
  {
   "cell_type": "markdown",
   "id": "fa406cc9",
   "metadata": {
    "id": "fa406cc9"
   },
   "source": [
    "We save the date in a variable for use later in the file names of the results"
   ]
  },
  {
   "cell_type": "code",
   "execution_count": 5,
   "id": "4bc21fd4",
   "metadata": {
    "executionInfo": {
     "elapsed": 216,
     "status": "ok",
     "timestamp": 1633483431485,
     "user": {
      "displayName": "Jonhatan Herney Bernal Salinas",
      "photoUrl": "https://lh3.googleusercontent.com/a-/AOh14GiKhXNQ_goIeesq2w4kv4vwiz7BZTUIiIDZFS6iHA=s64",
      "userId": "11704227221814557955"
     },
     "user_tz": 300
    },
    "id": "4bc21fd4"
   },
   "outputs": [
    {
     "data": {
      "text/plain": [
       "'Apr_01_2022'"
      ]
     },
     "execution_count": 5,
     "metadata": {},
     "output_type": "execute_result"
    }
   ],
   "source": [
    "today = date.today()\n",
    "today.strftime('%b_%d_%Y')"
   ]
  },
  {
   "cell_type": "markdown",
   "id": "9217eec3",
   "metadata": {
    "id": "9217eec3"
   },
   "source": [
    "We extract the object name (or in this case the main id) from the sample result."
   ]
  },
  {
   "cell_type": "code",
   "execution_count": 6,
   "id": "7d92c03c",
   "metadata": {
    "colab": {
     "base_uri": "https://localhost:8080/"
    },
    "executionInfo": {
     "elapsed": 498,
     "status": "ok",
     "timestamp": 1633483434934,
     "user": {
      "displayName": "Jonhatan Herney Bernal Salinas",
      "photoUrl": "https://lh3.googleusercontent.com/a-/AOh14GiKhXNQ_goIeesq2w4kv4vwiz7BZTUIiIDZFS6iHA=s64",
      "userId": "11704227221814557955"
     },
     "user_tz": 300
    },
    "id": "7d92c03c",
    "outputId": "d3745dc6-268d-4c1a-d422-647ef43cedc8"
   },
   "outputs": [
    {
     "data": {
      "text/plain": [
       "44272"
      ]
     },
     "execution_count": 6,
     "metadata": {},
     "output_type": "execute_result"
    }
   ],
   "source": [
    "simbad_sample_Sy = result.to_table()\n",
    "obj_name_SMB=simbad_sample_Sy[\"main_id\"]\n",
    "len(simbad_sample_Sy)"
   ]
  },
  {
   "cell_type": "code",
   "execution_count": 7,
   "id": "f1455364",
   "metadata": {},
   "outputs": [],
   "source": [
    "INIT_URL = 'http://vizier.u-strasbg.fr/viz-bin/sed?-c='\n",
    "urls = [INIT_URL+str(simbad_sample_Sy['ra'][row])+'%20'+\n",
    "        str(simbad_sample_Sy['dec'][row])+'&-c.rs=5' for row in range(len(simbad_sample_Sy))]\n",
    "simbad_sample_Sy['cds_url'] = urls"
   ]
  },
  {
   "cell_type": "code",
   "execution_count": 8,
   "id": "b9494e78",
   "metadata": {},
   "outputs": [
    {
     "data": {
      "text/html": [
       "<div><i>Table length=44272</i>\n",
       "<table id=\"table140613007462208\" class=\"table-striped table-bordered table-condensed\">\n",
       "<thead><tr><th>main_id</th><th>ra</th><th>dec</th><th>coo_bibcode</th><th>otype_txt</th><th>rvz_bibcode</th><th>rvz_radvel</th><th>rvz_redshift</th><th>rvz_type</th><th>nbref</th><th>otypes</th><th>cds_url</th></tr></thead>\n",
       "<thead><tr><th></th><th>deg</th><th>deg</th><th></th><th></th><th></th><th>km / s</th><th></th><th></th><th></th><th></th><th></th></tr></thead>\n",
       "<thead><tr><th>object</th><th>float64</th><th>float64</th><th>object</th><th>object</th><th>object</th><th>float64</th><th>float64</th><th>str1</th><th>int32</th><th>object</th><th>str93</th></tr></thead>\n",
       "<tr><td>RX J1203.5+4432</td><td>180.88724599190996</td><td>2.4929432724600002</td><td>2020yCat.1350....0G</td><td>Sy1</td><td>2012ApJS..203...21A</td><td>22264.155457144552</td><td>0.07724</td><td>z</td><td>42</td><td>*  |AGN|EmO|G  |GiC|IR |QSO|Rad|Sy1|V* |X</td><td>http://vizier.u-strasbg.fr/viz-bin/sed?-c=180.88724599190996%202.4929432724600002&amp;-c.rs=5</td></tr>\n",
       "<tr><td>2MASX J12014361+4307386</td><td>180.43169828928998</td><td>43.1273394439</td><td>2020yCat.1350....0G</td><td>Sy2</td><td>2009ApJS..182..543A</td><td>20748.633978793205</td><td>0.07178</td><td>z</td><td>4</td><td>*  |G  |Rad|Sy2|rG</td><td>http://vizier.u-strasbg.fr/viz-bin/sed?-c=180.43169828928998%2043.1273394439&amp;-c.rs=5</td></tr>\n",
       "<tr><td>SDSS J144452.42+511957.5</td><td>221.218431</td><td>51.332651</td><td>2012ApJS..203...21A</td><td>Sy2</td><td>2015ApJS..219...12A</td><td>25457.504881087</td><td>0.08885</td><td>z</td><td>4</td><td>G  |GiG|Sy2</td><td>http://vizier.u-strasbg.fr/viz-bin/sed?-c=221.218431%2051.332651&amp;-c.rs=5</td></tr>\n",
       "<tr><td>FIRST J083344.2+283939</td><td>128.43421094374</td><td>28.66111602879</td><td>2020yCat.1350....0G</td><td>Sy1</td><td>2009ApJS..182..543A</td><td>173513.43668282355</td><td>0.936</td><td>z</td><td>13</td><td>*  |AGN|QSO|Rad|Sy1</td><td>http://vizier.u-strasbg.fr/viz-bin/sed?-c=128.43421094374%2028.66111602879&amp;-c.rs=5</td></tr>\n",
       "<tr><td>SDSS J091658.99+012604.8</td><td>139.24580903083</td><td>1.43466726489</td><td>2020yCat.1350....0G</td><td>Sy1</td><td>2015ApJS..219...12A</td><td>125231.50632150602</td><td>0.56039</td><td>z</td><td>8</td><td>*  |QSO|Sy1</td><td>http://vizier.u-strasbg.fr/viz-bin/sed?-c=139.24580903083%201.43466726489&amp;-c.rs=5</td></tr>\n",
       "<tr><td>MCG+06-34-028</td><td>235.23225416666668</td><td>32.78155555555555</td><td>2006AJ....131.1163S</td><td>Sy2</td><td>2002LEDA.........0P</td><td>15618.951821140114</td><td>0.05353</td><td>z</td><td>12</td><td>G  |IR |Sy2</td><td>http://vizier.u-strasbg.fr/viz-bin/sed?-c=235.23225416666668%2032.78155555555555&amp;-c.rs=5</td></tr>\n",
       "<tr><td>IC 3834</td><td>192.88488958362</td><td>-14.221116888659996</td><td>2020yCat.1350....0G</td><td>Sy1</td><td>2002LEDA.........0P</td><td>4332.318180333962</td><td>0.014557</td><td>z</td><td>34</td><td>*  |AGN|G  |GiG|IR |Sy1</td><td>http://vizier.u-strasbg.fr/viz-bin/sed?-c=192.88488958362%20-14.221116888659996&amp;-c.rs=5</td></tr>\n",
       "<tr><td>SDSS J155011.46+233017.1</td><td>237.54777578073</td><td>23.50475679549</td><td>2020yCat.1350....0G</td><td>Sy2</td><td>2012ApJS..203...21A</td><td>33510.40645237621</td><td>0.11879</td><td>z</td><td>1</td><td>*  |Sy2</td><td>http://vizier.u-strasbg.fr/viz-bin/sed?-c=237.54777578073%2023.50475679549&amp;-c.rs=5</td></tr>\n",
       "<tr><td>2MASS J09260434+1501545</td><td>141.51812883058</td><td>15.03181636849</td><td>2020yCat.1350....0G</td><td>Sy1</td><td>2009ApJS..182..543A</td><td>15817.530255950087</td><td>0.05423</td><td>z</td><td>7</td><td>*  |AGN|G  |IR |Sy1</td><td>http://vizier.u-strasbg.fr/viz-bin/sed?-c=141.51812883058%2015.03181636849&amp;-c.rs=5</td></tr>\n",
       "<tr><td>...</td><td>...</td><td>...</td><td>...</td><td>...</td><td>...</td><td>...</td><td>...</td><td>...</td><td>...</td><td>...</td><td>...</td></tr>\n",
       "<tr><td>[VV2003c] J002413.7+002718</td><td>6.05689728109</td><td>0.45505982115</td><td>2020yCat.1350....0G</td><td>Sy1</td><td>2009ApJS..182..543A</td><td>36034.76400220799</td><td>0.12838</td><td>z</td><td>2</td><td>AGN|G  |GiG|Sy1</td><td>http://vizier.u-strasbg.fr/viz-bin/sed?-c=6.05689728109%200.45505982115&amp;-c.rs=5</td></tr>\n",
       "<tr><td>Z 502-26</td><td>19.84209624267</td><td>32.04404954274</td><td>2020yCat.1350....0G</td><td>Sy2</td><td>2018AJ....155..189D</td><td>16828.014311237086</td><td>0.0578</td><td>z</td><td>17</td><td>*  |AGN|G  |QSO|Sy2|X</td><td>http://vizier.u-strasbg.fr/viz-bin/sed?-c=19.84209624267%2032.04404954274&amp;-c.rs=5</td></tr>\n",
       "<tr><td>2MASX J17135898+3336254</td><td>258.495841</td><td>33.607137</td><td>2017AJ....154...86W</td><td>Sy2</td><td>2009ApJS..182..543A</td><td>11368.985429747425</td><td>0.03867</td><td>z</td><td>7</td><td>AGN|G  |Rad|Sy2</td><td>http://vizier.u-strasbg.fr/viz-bin/sed?-c=258.495841%2033.607137&amp;-c.rs=5</td></tr>\n",
       "<tr><td>2MASS J12035625+5950357</td><td>180.98438622915998</td><td>59.84333565783</td><td>2020yCat.1350....0G</td><td>Sy2</td><td>2009ApJS..182..543A</td><td>17986.65658111202</td><td>0.06191</td><td>z</td><td>9</td><td>*  |AGN|G  |IR |Sy1|Sy2</td><td>http://vizier.u-strasbg.fr/viz-bin/sed?-c=180.98438622915998%2059.84333565783&amp;-c.rs=5</td></tr>\n",
       "<tr><td>2MASX J16133909+3238356</td><td>243.41299961265</td><td>32.6432653885</td><td>2020yCat.1350....0G</td><td>Sy2</td><td>2012ApJS..203...21A</td><td>17885.370023389514</td><td>0.06155</td><td>z</td><td>2</td><td>*  |G  |Sy2</td><td>http://vizier.u-strasbg.fr/viz-bin/sed?-c=243.41299961265%2032.6432653885&amp;-c.rs=5</td></tr>\n",
       "<tr><td>SDSS J021348.53+125951.4</td><td>33.45224143463</td><td>12.99763649215</td><td>2020yCat.1350....0G</td><td>Sy1</td><td>2012ApJS..203...21A</td><td>58601.70874594985</td><td>0.21899</td><td>z</td><td>24</td><td>*  |AGN|G  |Sy1</td><td>http://vizier.u-strasbg.fr/viz-bin/sed?-c=33.45224143463%2012.99763649215&amp;-c.rs=5</td></tr>\n",
       "<tr><td>2MASSI J0844379+412432</td><td>131.15826432072</td><td>41.40904040396</td><td>2020yCat.1350....0G</td><td>Sy1</td><td>2012ApJS..203...21A</td><td>118382.82696125114</td><td>0.51827</td><td>z</td><td>23</td><td>*  |IR |Q? |QSO|Rad|Sy1</td><td>http://vizier.u-strasbg.fr/viz-bin/sed?-c=131.15826432072%2041.40904040396&amp;-c.rs=5</td></tr>\n",
       "<tr><td>NGC  4041</td><td>180.55099029047997</td><td>62.13724892342</td><td>2020yCat.1350....0G</td><td>SyG</td><td>2011yCat.2306....0A</td><td>1205.729175763741</td><td>0.00403</td><td>z</td><td>237</td><td>*  |G  |GiG|HI |IR |Rad|SyG|X</td><td>http://vizier.u-strasbg.fr/viz-bin/sed?-c=180.55099029047997%2062.13724892342&amp;-c.rs=5</td></tr>\n",
       "<tr><td>SDSS J135654.25+425916.9</td><td>209.22607246445997</td><td>42.988010311080004</td><td>2020yCat.1350....0G</td><td>Sy2</td><td>2009ApJS..182..543A</td><td>52795.50572691685</td><td>0.19478</td><td>z</td><td>7</td><td>*  |AGN|GiG|Sy1|Sy2</td><td>http://vizier.u-strasbg.fr/viz-bin/sed?-c=209.22607246445997%2042.988010311080004&amp;-c.rs=5</td></tr>\n",
       "<tr><td>2MASX J11390053+5913477</td><td>174.75215081707</td><td>59.22978784468</td><td>2020yCat.1350....0G</td><td>Sy1</td><td>2012ApJS..203...21A</td><td>32407.109206974397</td><td>0.11463</td><td>z</td><td>29</td><td>AGN|G  |QSO|Sy1|X</td><td>http://vizier.u-strasbg.fr/viz-bin/sed?-c=174.75215081707%2059.22978784468&amp;-c.rs=5</td></tr>\n",
       "</table></div>"
      ],
      "text/plain": [
       "<Table length=44272>\n",
       "         main_id           ...\n",
       "                           ...\n",
       "          object           ...\n",
       "-------------------------- ...\n",
       "           RX J1203.5+4432 ...\n",
       "   2MASX J12014361+4307386 ...\n",
       "  SDSS J144452.42+511957.5 ...\n",
       "    FIRST J083344.2+283939 ...\n",
       "  SDSS J091658.99+012604.8 ...\n",
       "             MCG+06-34-028 ...\n",
       "                   IC 3834 ...\n",
       "  SDSS J155011.46+233017.1 ...\n",
       "   2MASS J09260434+1501545 ...\n",
       "                       ... ...\n",
       "[VV2003c] J002413.7+002718 ...\n",
       "                  Z 502-26 ...\n",
       "   2MASX J17135898+3336254 ...\n",
       "   2MASS J12035625+5950357 ...\n",
       "   2MASX J16133909+3238356 ...\n",
       "  SDSS J021348.53+125951.4 ...\n",
       "    2MASSI J0844379+412432 ...\n",
       "                 NGC  4041 ...\n",
       "  SDSS J135654.25+425916.9 ...\n",
       "   2MASX J11390053+5913477 ..."
      ]
     },
     "execution_count": 8,
     "metadata": {},
     "output_type": "execute_result"
    }
   ],
   "source": [
    "simbad_sample_Sy"
   ]
  },
  {
   "cell_type": "markdown",
   "id": "64e523f9",
   "metadata": {},
   "source": [
    "The sample results is saved in a .vot file:"
   ]
  },
  {
   "cell_type": "code",
   "execution_count": 9,
   "id": "d099bc62",
   "metadata": {},
   "outputs": [],
   "source": [
    "simbad_sample_Sy.write(path_raw+'SMB_'+today.strftime('%b_%d_%Y')+'_Sy_Samples'+'.vot',\n",
    "                    format='votable',overwrite=True)"
   ]
  },
  {
   "cell_type": "markdown",
   "id": "96f8877c",
   "metadata": {},
   "source": [
    "In the next two cells, functions to download the Photometry tables from [NED](https://ned.ipac.caltech.edu/) and [CDS (Vizier)](http://vizier.unistra.fr/vizier/sed/?-c=&-c.r=10&-c.u=arcsec) are created. To get the photometry tables from NED, we use **[Astroquery](https://astroquery.readthedocs.io/en/latest/index.html)** package. In the function **photNED** first we try to obtain the photometry table with the ID name of the object from the SIMBAD sample. If there is not result, then with Astroquery we will search the others objects ID, and with that, search the information in NED. If finallly is not possible to find information with the objects ID, then we will try using its coordinates."
   ]
  },
  {
   "cell_type": "code",
   "execution_count": 10,
   "id": "4007127b",
   "metadata": {},
   "outputs": [],
   "source": [
    "def photNED(name,coord):\n",
    "    \n",
    "    '''\n",
    "    This function is to get the photometry tables\n",
    "    from NED. The input are the id and coordinates\n",
    "    of the object.\n",
    "    '''\n",
    "    \n",
    "    phot_ned = QTable()\n",
    "    id_used = []\n",
    "    \n",
    "    try:\n",
    "        phot_ned = Ned.get_table(name, table='photometry') #We get the Photometry Table using first SIMBAD names\n",
    "        id_used = name\n",
    "    except:\n",
    "        other_ids = Simbad.query_objectids(name) #We get other IDs for the object from SIMBAD\n",
    "        for other_id in other_ids['ID']:\n",
    "            try:\n",
    "                phot_ned = Ned.get_table(other_id, table='photometry') #Photometry Table using other SIMBAD names\n",
    "                id_used = other_id\n",
    "                break\n",
    "            except:\n",
    "                pass\n",
    "    if id_used == []:\n",
    "        try:\n",
    "            region = Ned.query_region(coord,radius= 5 * u.arcsec)\n",
    "            id_ned = region[\"Object Name\"]\n",
    "            phot_ned = Ned.get_table(id_ned, table='photometry')\n",
    "            id_used = id_ned\n",
    "        except:\n",
    "            pass\n",
    "\n",
    "    return phot_ned, id_used"
   ]
  },
  {
   "cell_type": "code",
   "execution_count": 11,
   "id": "ac7fa208",
   "metadata": {},
   "outputs": [],
   "source": [
    "def photCDS(url,name,path):\n",
    "    req = requests.get(url,\n",
    "                       headers={'cache-control': 'private, max-age=0, no-cache', \"Pragma\": \"no-cache\"})\n",
    "    if req.status_code == 200:\n",
    "        with open(path+name+'_CDS_phot_tables.vot', 'wb') as f_vot:\n",
    "            f_vot.write(req.content)\n",
    "            f_vot.close()\n",
    "    return req"
   ]
  },
  {
   "cell_type": "markdown",
   "id": "6d39be83",
   "metadata": {
    "id": "6d39be83"
   },
   "source": [
    "Using **SkyCoord** from astropy we extract the coordinates information for each object from the SIMBAD samples. This is useful if we want to search information in [NED](https://ned.ipac.caltech.edu/) using coordinates instead the object name"
   ]
  },
  {
   "cell_type": "code",
   "execution_count": 12,
   "id": "8fa81bae",
   "metadata": {
    "executionInfo": {
     "elapsed": 181,
     "status": "ok",
     "timestamp": 1633483449934,
     "user": {
      "displayName": "Jonhatan Herney Bernal Salinas",
      "photoUrl": "https://lh3.googleusercontent.com/a-/AOh14GiKhXNQ_goIeesq2w4kv4vwiz7BZTUIiIDZFS6iHA=s64",
      "userId": "11704227221814557955"
     },
     "user_tz": 300
    },
    "id": "8fa81bae"
   },
   "outputs": [],
   "source": [
    "cat_smb_sample = SkyCoord(ra=simbad_sample_Sy['ra'], dec=simbad_sample_Sy['dec'])"
   ]
  },
  {
   "cell_type": "markdown",
   "id": "45cc82a0",
   "metadata": {
    "id": "45cc82a0"
   },
   "source": [
    "The wavelenght for NeII, NeIII and NeV in the infrared spectrum are 12.8 microns, 15.6 microns and 14.3 microns respectively. This values are equivalents to the following frequencies which ara related to different labels of \"Observed Passband\" in NED database as we ilustrate in the next list:\n",
    "\n",
    "* Frequency: 1.92e+13 Hz: [NeIII] 15.6 microns\n",
    "* Frecuency: 1.93e+13 Hz: [Ne III] 15.56 (IRS), [NeIII] 15.6 Spitzer, [Ne III] (Spitzer), [Ne III] 15.5 (IRS)\n",
    "* Frecuency: 2.09e+13 Hz: [Ne V] 14.32 (IRS), [Ne V] 14.32 Spitzer, [Ne V] 14.32, [Ne V] 14.3 Spitzer, [Ne V] 14.3 microns\n",
    "* Frequency: 2.10e+13 Hz: [Ne V] 14.3 (IRS)\n",
    "* Frequency: 2.34e+13 Hz: [Ne II] 12.81 (IRS), [Ne II] 12.8 Spitzer, [Ne II] 12.8 (IRS), [Ne II] 12.81, NEII (VLT), 12.81 microns (VLT) \n",
    "\n",
    "In the variable **Ne_IR_Fq** we define a list with the those frequency values"
   ]
  },
  {
   "cell_type": "code",
   "execution_count": 13,
   "id": "706c6696",
   "metadata": {},
   "outputs": [],
   "source": [
    "Ne_IR_Fq = [19200000000000.0,19300000000000.0,20900000000000.0,21000000000000.0,23400000000000.0]"
   ]
  },
  {
   "cell_type": "markdown",
   "id": "367ca204",
   "metadata": {},
   "source": [
    "The filter for the objects with Ne Line Emissions in Infrared will be looking in the column **\"Frequency\"** of the photometry tables that we got from NED the values of the list defined in Ne_IR_Freq."
   ]
  },
  {
   "cell_type": "code",
   "execution_count": 31,
   "id": "c2c1c5d1",
   "metadata": {
    "colab": {
     "base_uri": "https://localhost:8080/"
    },
    "executionInfo": {
     "elapsed": 7063,
     "status": "ok",
     "timestamp": 1633484416154,
     "user": {
      "displayName": "Jonhatan Herney Bernal Salinas",
      "photoUrl": "https://lh3.googleusercontent.com/a-/AOh14GiKhXNQ_goIeesq2w4kv4vwiz7BZTUIiIDZFS6iHA=s64",
      "userId": "11704227221814557955"
     },
     "user_tz": 300
    },
    "id": "c2c1c5d1",
    "outputId": "f4ef079e-e482-4efe-8ca2-6a0f7736e6b1"
   },
   "outputs": [
    {
     "name": "stdout",
     "output_type": "stream",
     "text": [
      "#    Idx              Name ID                 ID used in NED       \n",
      "1    283             3C 234.0                    3C 234.0          \n",
      "2    414               M  84                       M  84           \n",
      "3    428      2MASS J13000535+1632148       NVSS J130005+163212    \n",
      "4    484             NGC   262                   NGC   262         \n",
      "5    541          IRAS 04385-0828             IRAS 04385-0828      \n",
      "6    628             NGC  4945                   NGC  4945         \n",
      "7    654              IC 4553                     IC 4553          \n",
      "8    773             NGC  5252                   NGC  5252         \n",
      "9    852             Mrk  279                    Mrk  279          \n",
      "10   1227            UGC 11680                   UGC 11680         \n",
      "11   1246          LEDA   45656                LEDA   45656        \n",
      "12   1282            Mrk 1239                    Mrk 1239          \n",
      "13   1341          LEDA   89032                LEDA   89032        \n",
      "14   1424          NAME 3C 330G2                1Jy 1609+66        \n",
      "15   1464            3C 265.0                    3C 265.0          \n",
      "16   1650            NGC   612                   NGC   612         \n",
      "17   1734            NGC  7479                   NGC  7479         \n",
      "18   1801          LEDA 3095998                LEDA 3095998        \n",
      "19   1884            NGC  3735                   NGC  3735         \n",
      "20   1917            NGC  4477                   NGC  4477         \n",
      "21   1936          LEDA   89511                LEDA   89511        \n",
      "22   1983            NGC   185                   NGC   185         \n",
      "23   2089     2MASS J00105486+0014510     2MASS J00105486+0014510  \n",
      "24   2115             Z 218-7                     Z 218-7          \n",
      "25   2351            Mrk  493                    Mrk  493          \n",
      "26   2408            NGC  4941                   NGC  4941         \n",
      "27   2469            Mrk  883                    Mrk  883          \n",
      "28   2551     2MASS J22255427+1958370     2MASX J22255423+1958372  \n",
      "29   2569          LEDA   90196                LEDA   90196        \n",
      "30   2790          MCG+04-48-002               MCG+04-48-002       \n",
      "31   2847    [VV2000] J235225.0+244009        IRAS 23498+2423      \n",
      "32   2914             3C 196                      3C 196           \n",
      "33   2975     2MASX J10032788+5541535     2MASX J10032788+5541535  \n",
      "34   3031            NGC  2622                   NGC  2622         \n",
      "35   3213            NGC   863                   NGC   863         \n",
      "36   3551   [VV2003c] J005439.8+155446   SDSS J005439.79+155446.9  \n",
      "37   3838         IRAS 11215-2806             IRAS 11215-2806      \n",
      "38   4011     2MASS J15011320+2329082     2MASS J15011320+2329082  \n",
      "39   4314            NGC  3281                   NGC  3281         \n",
      "40   4482           ESO 323-32                  ESO 323-32         \n",
      "41   4524          LEDA  101275                LEDA  101275        \n",
      "42   4553      NAME Circinus Galaxy            Anon 1409-65        \n",
      "43   4603             IC 3639                     IC 3639          \n",
      "44   5069            Mrk  926                    Mrk  926          \n",
      "45   5523            Mrk  463E                   Mrk  463E         \n",
      "46   5532            NGC  4235                   NGC  4235         \n",
      "47   5589         IRAS 15480-0344             IRAS 15480-0344      \n",
      "48   5604            UGC  6728                   UGC  6728         \n",
      "49   5696            NGC  1142                   NGC  1142         \n",
      "50   5889            NGC  1365                   NGC  1365         \n",
      "51   6023            NGC  1056                   NGC  1056         \n",
      "52   6617            NGC  7410                   NGC  7410         \n",
      "53   6869            Mrk  352                    Mrk  352          \n",
      "54   7206          LEDA 1365424                LEDA 1365424        \n",
      "55   7620          LEDA   27453                LEDA   27453        \n",
      "56   7697           NAME Cyg A            2MASX J19592833+4044022  \n",
      "57   7791            Mrk  877                    Mrk  877          \n",
      "58   7879            ESO 148-2                   ESO 148-2         \n",
      "59   7979            Mrk 1383                    Mrk 1383          \n",
      "60   8264            NGC  7592                   NGC  7592         \n",
      "61   8352            NGC  3998                   NGC  3998         \n",
      "62   8477         QSO B1626+5529         WISEA J162756.11+552231.5 \n",
      "63   8518            Mrk    9                    Mrk    9          \n",
      "64   8692            Mrk 1513                    Mrk 1513          \n",
      "65   8848            NGC  4939                   NGC  4939         \n",
      "66   9329            NGC  4151                   NGC  4151         \n",
      "67   9373   [VV2003c] J035734.0-053719   SDSS J035733.99-053719.7  \n",
      "68   9395           ESO 434-40                  ESO 434-40         \n",
      "69   9431          LEDA   37102                LEDA   37102        \n",
      "70   9541           ESO 323-77                  ESO 323-77         \n",
      "71   9550            FRL   49            WISEA J183658.23-592408.2 \n",
      "72   9583          LEDA   50824                LEDA   50824        \n",
      "73   10129         LEDA   29208                LEDA   29208        \n",
      "74   10328           NGC    34                   NGC    34         \n",
      "75   10344      SWIFT J0624.1-6059          SWIFT J0624.1-6059     \n",
      "76   10441           NGC  2685                   NGC  2685         \n",
      "77   10531          ESO 198-24                  ESO 198-24         \n",
      "78   10535           Mrk  471                    Mrk  471          \n",
      "79   10541           NGC  7679                   NGC  7679         \n",
      "80   10650   SDSS J143417.15+020742.3    SDSS J143417.15+020742.3  \n",
      "81   10673        IRAS 11119+3257             IRAS 11119+3257      \n",
      "82   10787            IC 1065                     IC 1065          \n",
      "83   10901    2MASX J14305363+3458364     2MASX J14305363+3458364  \n",
      "84   10983             M  81                       M  81           \n",
      "85   11176    2MASS J14533151+1353587     2MASS J14533150+1353585  \n",
      "86   11243           NGC  2639                   NGC  2639         \n",
      "87   11290           NGC   513                   NGC   513         \n",
      "88   11295   NAME IRAS F15163+4255 NW         GB6 J1518+4243       \n",
      "89   11379          ESO 383-35                  ESO 383-35         \n",
      "90   11420     NAME IRAS 09111-1007W      2MASX J09133644-1019296  \n",
      "91   11593           NGC   973                   NGC   973         \n",
      "92   11594           2E  3648             2MASSI J1620218+173624   \n",
      "93   11682           Mrk  937                    Mrk  937          \n",
      "94   11977   SDSS J040208.86-050642.0    SDSS J040208.86-050642.0  \n",
      "95   12122    2MASX J22041914+0333511     2MASX J22041914+0333511  \n",
      "96   12331     2XMM J094046.2+033929       2XMM J094046.2+033929   \n",
      "97   12371           NGC  7469                   NGC  7469         \n",
      "98   12511       IRAS F08216+3009            IRAS F08216+3009      \n",
      "99   12549    2MASX J08035923+2345201     2MASX J08035923+2345201  \n",
      "100  12666           NGC  7591                   NGC  7591         \n",
      "101  12683    2MASS J08105865+7602424     2MASS J08105865+7602424  \n",
      "102  12884         LEDA  166692                LEDA  166692        \n",
      "103  12934        IRAS 15091-2107             IRAS 15091-2107      \n",
      "104  12980    2MASS J14025120+2631175     2MASS J14025120+2631175  \n",
      "105  13056  [VV2010c] J221452.9+135118         [ATZ98] F054        \n",
      "106  13407           UGC 12282                   UGC 12282         \n",
      "107  13543    2MASS J14294306+4747262     2MASS J14294306+4747262  \n",
      "108  13631         MCG+10-17-021               MCG+10-17-021       \n",
      "109  13719          ESO 113-45                  ESO 113-45         \n",
      "110  13942           NGC  4388                   NGC  4388         \n",
      "111  14156           NGC  5899                   NGC  5899         \n",
      "112  14158         LEDA 3096524          WISEA J165939.77+183436.7 \n",
      "113  14383           NGC  5728                   NGC  5728         \n",
      "114  14459          ESO 140-43                  ESO 140-43         \n",
      "115  14563            IC 1816                     IC 1816          \n",
      "116  14591   SDSS J161647.32+371621.2    SDSS J161647.32+371621.2  \n",
      "117  14666           ESO 417-6                   ESO 417-6         \n",
      "118  14862           NGC   788                   NGC   788         \n",
      "119  14911            2C 1066                   1Jy 1254+47        \n",
      "120  14947            IC 5298                     IC 5298          \n",
      "121  14958            IC 5063                     IC 5063          \n"
     ]
    },
    {
     "name": "stdout",
     "output_type": "stream",
     "text": [
      "122  15091           PB  3894                    PB  3894          \n",
      "123  15225             M  88                       M  88           \n",
      "124  15263           NGC  4602                   NGC  4602         \n",
      "125  15277        IRAS 13342+3932             IRAS 13342+3932      \n",
      "126  15290           NGC  1241                   NGC  1241         \n",
      "127  15365           NGC  4138                   NGC  4138         \n",
      "128  15451           NGC  1566                   NGC  1566         \n",
      "129  15630           NGC  1808                   NGC  1808         \n",
      "130  15958     ICRF J054236.1+495107       ICRF J054236.1+495107   \n",
      "131  16006           NGC  4074                   NGC  4074         \n",
      "132  16060           Mrk  304                    Mrk  304          \n",
      "133  16101           Mrk 1298                    Mrk 1298          \n",
      "134  16220     2XMM J135315.8+634546       2XMM J135315.8+634546   \n",
      "135  16350           Mrk 1095                    Mrk 1095          \n",
      "136  16437        IRAS 15206+3342             IRAS 15206+3342      \n",
      "137  16530           2E   437                    2E   437          \n",
      "138  16549    2MASS J10520202+5633010     2MASS J10520202+5633010  \n",
      "139  16631    2MASX J14510879+2709272     2MASX J14510879+2709272  \n",
      "140  16879            IC  486                     IC  486          \n",
      "141  16934     ATO J176.4186-18.4541     WISEA J114540.46-182714.8 \n",
      "142  16981           Mrk  618                    Mrk  618          \n",
      "143  17007           NGC  5273                   NGC  5273         \n",
      "144  17035           Mrk  609                    Mrk  609          \n",
      "145  17352           NGC  3079                   NGC  3079         \n",
      "146  17430         LEDA  165618                LEDA  165618        \n",
      "147  17881        IRAS 03450+0055             IRAS 03450+0055      \n",
      "148  17930           3C 343.1                    3C 343.1          \n",
      "149  18241            2C   94                   1Jy 0106+13        \n",
      "150  18245           Ton  182                    Ton  182          \n",
      "151  18248         MCG+13-07-002               MCG+13-07-002       \n",
      "152  18446           Ton  1388                   Ton  1388         \n",
      "153  18512           NGC  5548                   NGC  5548         \n",
      "154  18721     ICRF J145907.5+714019       ICRF J145907.5+714019   \n",
      "155  18769           NGC   424                   NGC   424         \n",
      "156  18837           Mrk  509                    Mrk  509          \n",
      "157  19392           ESO   5-4                   ESO   5-4         \n",
      "158  19462           NGC   660                   NGC   660         \n",
      "159  19530           NGC  4355                   NGC  4355         \n",
      "160  19540           NGC  2992                   NGC  2992         \n",
      "161  19771          ESO 141-55                  ESO 141-55         \n",
      "162  19855           Mrk  334                    Mrk  334          \n",
      "163  20331           NGC  1204                   NGC  1204         \n",
      "164  20645  [VV2003c] J135355.9+664800   SDSS J135355.90+664800.5  \n",
      "165  20662           Mrk 1502                    Mrk 1502          \n",
      "166  20813     2XMM J101756.8+390526       2XMM J101756.8+390526   \n",
      "167  20944     2XMM J142930.6+425148       2XMM J142930.6+425148   \n",
      "168  21092           NGC  7314                   NGC  7314         \n",
      "169  21161          ESO 420-13                  ESO 420-13         \n",
      "170  21287           UGC  1395                   UGC  1395         \n",
      "171  21613           IC 4518A                    IC 4518A          \n",
      "172  21647       NAME Centaurus A          [KJK2017] J1325-4301    \n",
      "173  21783     2XMM J094506.4+035552       2XMM J094506.4+035552   \n",
      "174  21790     ICRF J052109.8+163822       ICRF J052109.8+163822   \n",
      "175  21819        IRAS 17002+5153             IRAS 17002+5153      \n",
      "176  21859          ESO 506-27                  ESO 506-27         \n",
      "177  21935           Z  41-20                    Z  41-20          \n",
      "178  22221           Mrk  771                    Mrk  771          \n",
      "179  22266            3C 295                      3C 295           \n",
      "180  22538           Mrk  876                    Mrk  876          \n",
      "181  22589           Mrk 1014                    Mrk 1014          \n",
      "182  22635           Mrk 1457                    Mrk 1457          \n",
      "183  22844           Mrk  573                    Mrk  573          \n",
      "184  23220          ESO 428-14                  ESO 428-14         \n",
      "185  23324           UGC  1841                   UGC  1841         \n",
      "186  23664             M  49                       M  49           \n",
      "187  23768          ESO 263-13                  ESO 263-13         \n",
      "188  23869    2MASX J21564950-0745325     2MASX J21564950-0745325  \n",
      "189  24175         LEDA 2816291                LEDA 2816291        \n",
      "190  24279     ICRF J090933.4+425346       ICRF J090933.4+425346   \n",
      "191  24503           NGC  5347                   NGC  5347         \n",
      "192  24603           Mrk  520                    Mrk  520          \n",
      "193  24644           NGC  4748                   NGC  4748         \n",
      "194  24664           NGC  1667                   NGC  1667         \n",
      "195  24886            2C 1883                   1Jy 2314+03        \n",
      "196  24941           NGC  1320                   NGC  1320         \n",
      "197  24989           Mrk 1073                    Mrk 1073          \n",
      "198  24996           NGC  6300                   NGC  6300         \n",
      "199  25179           NGC  5643                   NGC  5643         \n",
      "200  25227           NGC  2273                   NGC  2273         \n",
      "201  25287    2MASS J00070361+1554238     2MASS J00070361+1554237  \n",
      "202  25335           NGC  7172                   NGC  7172         \n",
      "203  25501           NGC  3393                   NGC  3393         \n",
      "204  25663          ESO 209-12                  ESO 209-12         \n",
      "205  25746    2MASX J10181928+3722419     2MASX J10181928+3722419  \n",
      "206  25877         LEDA   52314                LEDA   52314        \n",
      "207  25902   SDSS J032845.99+011150.8    SDSS J032845.99+011150.8  \n",
      "208  26174           NGC   931                   NGC   931         \n",
      "209  26403    2MASS J13234951+6541480     2MASS J13234951+6541480  \n",
      "210  26464           Mrk  335                    Mrk  335          \n",
      "211  26756           NGC  3976                   NGC  3976         \n",
      "212  26791           Ton  951                    Ton  951          \n",
      "213  26860             M  58                       M  58           \n",
      "214  26871       2dFGRS TGN336Z243       SDSS J134133.37-002432.0  \n",
      "215  26976         LEDA 1487448                LEDA 1487448        \n",
      "216  26981           NGC  4395                   NGC  4395         \n",
      "217  27157         MCG+00-25-010               MCG+00-25-010       \n",
      "218  27206         LEDA    3237                LEDA    3237        \n",
      "219  27350           NGC  6890                   NGC  6890         \n",
      "220  27410    2MASX J14254352+3345275     2MASX J14254352+3345275  \n",
      "221  27436         LEDA    1790                LEDA    1790        \n",
      "222  27488            3C  84                      3C  84           \n",
      "223  27696         LEDA 2149945          WISEA J095048.37+392650.4 \n",
      "224  27740           NGC  7743                   NGC  7743         \n",
      "225  27957           Mrk   22                    Mrk   22          \n",
      "226  28160         LEDA   90127                LEDA   90127        \n",
      "227  28225          ESO 445-50                  ESO 445-50         \n",
      "228  28373    2MASS J16370022+2221140     2MASS J16370022+2221140  \n",
      "229  28459           Mrk  817                    Mrk  817          \n",
      "230  28572            IC 3078                     IC 3078          \n",
      "231  28764           NGC  6810                   NGC  6810         \n",
      "232  28861    2MASS J21035875-0728025     2MASS J21035875-0728025  \n",
      "233  28984           Mrk  273                    Mrk  273          \n",
      "234  29068         LEDA   90429                LEDA   90429        \n",
      "235  29184     ICRF J134733.3+121724       ICRF J134733.3+121724   \n",
      "236  29187           NGC  3367                   NGC  3367         \n",
      "237  29381          ESO 362-18                  ESO 362-18         \n",
      "238  29506            IC  450                     IC  450          \n",
      "239  29719           NGC  6951                   NGC  6951         \n",
      "240  29935         MCG-02-08-039               MCG-02-08-039       \n",
      "241  30037            2C  349                   1Jy 0356+10        \n",
      "242  30097           NGC  7674                   NGC  7674         \n"
     ]
    },
    {
     "name": "stdout",
     "output_type": "stream",
     "text": [
      "243  30302           NGC  6221                   NGC  6221         \n",
      "244  30425          ESO  12-21                  ESO  12-21         \n",
      "245  30923           UGC  5101                   UGC  5101         \n",
      "246  31018          ESO 602-25                  ESO 602-25         \n",
      "247  31077          ESO 511-30                  ESO 511-30         \n",
      "248  31259         MCG-03-34-064               MCG-03-34-064       \n",
      "249  31323           NGC  3516                   NGC  3516         \n",
      "250  32077           NGC  4593                   NGC  4593         \n",
      "251  32153           UGC  7064                   UGC  7064         \n",
      "252  32250           NGC  5135                   NGC  5135         \n",
      "253  32442           Mrk  231                    Mrk  231          \n",
      "254  32555           Mrk   79                    Mrk   79          \n",
      "255  32613         LEDA   68751                LEDA   68751        \n",
      "256  32683           NGC  7319                   NGC  7319         \n",
      "257  32780           Mrk  863                    Mrk  863          \n",
      "258  32967    2MASX J18334627+4727027     2MASX J18334627+4727027  \n",
      "259  32986           Mrk 1066                    Mrk 1066          \n",
      "260  33044           ESO 253-3                   ESO 253-3         \n",
      "261  33152    2MASS J01083516+2148186     2MASS J01083514+2148184  \n",
      "262  33455           3C  22.0                    3C  22.0          \n",
      "263  33508    2MASX J14304627+3513133     2MASX J14304627+3513133  \n",
      "264  33530           Ton  1565                   Ton  1565         \n",
      "265  33686           Mrk  704                    Mrk  704          \n",
      "266  33746           NGC  6240                   NGC  6240         \n",
      "267  33761          ESO 121-28                  ESO 121-28         \n",
      "268  33882           NGC  7603                   NGC  7603         \n",
      "269  33916           UGC 12138                   UGC 12138         \n",
      "270  34345          ESO 339-11                  ESO 339-11         \n",
      "271  34422           NGC  1058                   NGC  1058         \n",
      "272  34467            IC 2560                     IC 2560          \n",
      "273  34707         QSO B1048+342         WISEA J105143.88+335926.7 \n",
      "274  34878           NGC  1125                   NGC  1125         \n",
      "275  34935         LEDA   24384                LEDA   24384        \n",
      "276  35023             M 106                       M 106           \n",
      "277  35257           NGC  5995                   NGC  5995         \n",
      "278  35738    2MASSI J0918486+211717      2MASSI J0918486+211717   \n",
      "279  35739         LEDA   17155                LEDA   17155        \n",
      "280  35799  [VV2003c] J082001.7+505039           SHOC 198          \n",
      "281  35970    2MASX J08584172+1041223     2MASX J08584172+1041223  \n",
      "282  36020   SDSS J231812.99-004126.1    SDSS J231812.99-004126.1  \n",
      "283  36035            3C 343                      3C 343           \n",
      "284  36047           NGC  4992                   NGC  4992         \n",
      "285  36085           NGC  5395                   NGC  5395         \n",
      "286  36118    2MASS J10272497+1219196     2MASS J10272497+1219196  \n",
      "287  36149             M  94                       M  94           \n",
      "288  36232           NGC  5990                   NGC  5990         \n",
      "289  36317           Mrk    3                    Mrk    3          \n",
      "290  36379           NGC  4051                   NGC  4051         \n",
      "291  36398         LEDA   70560                LEDA   70560        \n",
      "292  36429            3C 452                      3C 452           \n",
      "293  36444         LEDA  165630                LEDA  165630        \n",
      "294  36545         MCG+00-29-023               MCG+00-29-023       \n",
      "295  36609           4C 23.43                    4C 23.43          \n",
      "296  36848           UGC  3351                   UGC  3351         \n",
      "297  36893           Mrk  705                    Mrk  705          \n",
      "298  37074           UGC  3601                   UGC  3601         \n",
      "299  37150            3C 286                      3C 286           \n",
      "300  37172           ESO  33-2                   ESO  33-2         \n",
      "301  37310           NGC  4725                   NGC  4725         \n",
      "302  37343           NGC  7682                   NGC  7682         \n",
      "303  37632  [VV2003c] J124819.8+662143   SDSS J124819.75+662142.7  \n",
      "304  37696         7C 1821+6419                7C 1821+6419        \n",
      "305  37858         MCG-01-24-012               MCG-01-24-012       \n",
      "306  37917           NGC  1358                   NGC  1358         \n",
      "307  37967           NGC  2110                   NGC  2110         \n",
      "308  38051    2MASS J10514425+3539307       NVSS J105144+353931    \n",
      "309  38097           NGC  5929                   NGC  5929         \n",
      "310  38155   SDSS J120424.54+192509.7    SDSS J120424.54+192509.7  \n",
      "311  38232          ESO 297-18                  ESO 297-18         \n",
      "312  38310           NGC  4968                   NGC  4968         \n",
      "313  38311           NGC   253                   NGC   253         \n",
      "314  38327           NGC  3660                   NGC  3660         \n",
      "315  38367          NAME Pic A           WISEA J051949.72-454643.8 \n",
      "316  38435           NGC  6926                   NGC  6926         \n",
      "317  38517           2E  2389                    2E  2389          \n",
      "318  38643          ESO 103-35                  ESO 103-35         \n",
      "319  39032     ICRF J182931.7+484446       ICRF J182931.7+484446   \n",
      "320  39071    2MASX J12390630-1610472     2MASX J12390630-1610472  \n",
      "321  39509           NGC  5033                   NGC  5033         \n",
      "322  39529         MCG-03-58-007               MCG-03-58-007       \n",
      "323  39641           2E  2503                    2E  2503          \n",
      "324  39676           NGC  4922                   NGC  4922         \n",
      "325  39701         LEDA   90054                LEDA   90054        \n",
      "326  39837          PG 0953+414                 PG 0953+414        \n",
      "327  39885       IRAS F15146+1911        WISEA J151653.23+190048.3 \n",
      "328  39911    2MASX J12135486+0247529     2MASX J12135486+0247529  \n",
      "329  39937           NGC  1194                   NGC  1194         \n",
      "330  39995           NGC  6814                   NGC  6814         \n",
      "331  40106     ICRF J015002.6-072548       ICRF J015002.6-072548   \n",
      "332  40253           Mrk  463                    Mrk  463          \n",
      "333  40483     ICRF J130533.0-103319       ICRF J130533.0-103319   \n",
      "334  41089           Z 121-75                    Z 121-75          \n",
      "335  41114           Mrk  841                    Mrk  841          \n",
      "336  41214           NGC  3147                   NGC  3147         \n",
      "337  41308         LEDA   75476                LEDA   75476        \n",
      "338  41346         LEDA 2817285                LEDA 2817285        \n",
      "339  41408           NGC  7213                   NGC  7213         \n",
      "340  41433           Mrk 1506                    Mrk 1506          \n",
      "341  41682       IRAS F00183-7111            IRAS F00183-7111      \n",
      "342  41902        LBQS 1244+0238         WISEA J124635.24+022208.7 \n",
      "343  42066           NGC  6860                   NGC  6860         \n",
      "344  42156         LEDA  178130                LEDA  178130        \n",
      "345  42242           4C 13.41                    4C 13.41          \n",
      "346  42393           NGC  4253                   NGC  4253         \n",
      "347  42517           Mrk  478                    Mrk  478          \n",
      "348  42548        IRAS 07598+6508             IRAS 07598+6508      \n",
      "349  42582    2MASS J10434845+5811477     2MASS J10434845+5811477  \n",
      "350  42680           NGC  3081                   NGC  3081         \n",
      "351  42943           NGC  4507                   NGC  4507         \n",
      "352  43279     2XMM J115657.8+550820       2XMM J115657.8+550820   \n",
      "353  43326    2MASX J00215355-7910077     2MASX J00215355-7910077  \n",
      "354  43547           NGC  3783                   NGC  3783         \n",
      "355  43595           NGC  3982                   NGC  3982         \n",
      "356  43670       PSCz Q18368+3549             IRAS 18368+3549      \n",
      "357  43765           Mrk  622                    Mrk  622          \n",
      "358  43819         [LGE2006] 12                [LGE2006] 12        \n",
      "359  44215    2MASX J14323249+3406257     2MASX J14323249+3406257  \n",
      "\n",
      "Total objects with lines emission of NeII or NeIII or NeV in IR  found:  359\n",
      "Execution Time(seg): 468.6001546382904\n",
      "Execution Time(min): 7.81000257730484\n",
      "Execution Time(hrs): 0.13016670962174734\n"
     ]
    }
   ],
   "source": [
    "NeIR_obj_t = QTable(names=('Main_Id','Id_used_NED','RA','DEC','otype_txt','redshift',\n",
    "                           'rvz_type','otypes','cds_url','SMB_sample_index'),\n",
    "                    dtype=('O','O','f8','f8','O','f8','U1','O','U93','f8'))\n",
    "\n",
    "print(f\"{'#':4} {'Idx':6} {'Name ID':^27} {'ID used in NED':^27}\")\n",
    "a=0\n",
    "start = time.time()\n",
    "for ind, id_smb in enumerate(obj_name_SMB):    \n",
    "    try:       \n",
    "        #print(ind)\n",
    "        phot_t,name_ned = photNED(id_smb,cat_smb_sample[ind])\n",
    "        Fr=phot_t['Frequency'] #We get the Frequency column from the table    \n",
    "        if Ne_IR_Fq[0] in Fr or Ne_IR_Fq[1] in Fr or Ne_IR_Fq[2] in Fr or Ne_IR_Fq[3] in Fr or Ne_IR_Fq[4] in Fr:\n",
    "            a=a+1\n",
    "            print(f\"{'%g'%a:4} {'%g'%ind:6} {'%s'%id_smb:^27} {'%s'%name_ned:^27}\")\n",
    "            #Writing the object names\n",
    "            \n",
    "            NeIR_obj_row = [id_smb,name_ned,simbad_sample_Sy[\"ra\"][ind]*u.deg,simbad_sample_Sy[\"dec\"][ind]*u.deg,\n",
    "                                   simbad_sample_Sy[\"otype_txt\"][ind],simbad_sample_Sy[\"rvz_redshift\"][ind],\n",
    "                                   simbad_sample_Sy[\"rvz_type\"][ind],simbad_sample_Sy[\"otypes\"][ind],\n",
    "                                   simbad_sample_Sy[\"cds_url\"][ind],ind] \n",
    "            NeIR_obj_t.add_row(vals=NeIR_obj_row)\n",
    "            \n",
    "            phot_t.write(path_phot_ned+id_smb+'_NED_phot_tables'+'.vot', #Save the phot table in a vot table file\n",
    "                         format='votable',overwrite=True)\n",
    "    except KeyError:\n",
    "        pass\n",
    "\n",
    "end = time.time()\n",
    "\n",
    "print('\\nTotal objects with lines emission of NeII or NeIII or NeV in IR  found: ',len(Ne_IR_obj))\n",
    "print('Execution Time(seg): ' + str(end - start))\n",
    "print('Execution Time(min): ' + str((end - start)/60))\n",
    "print('Execution Time(hrs): ' + str((end - start)/3600))"
   ]
  },
  {
   "cell_type": "code",
   "execution_count": 32,
   "id": "59800a78",
   "metadata": {},
   "outputs": [
    {
     "data": {
      "text/html": [
       "<div><i>QTable length=359</i>\n",
       "<table id=\"table140612997822160\" class=\"table-striped table-bordered table-condensed\">\n",
       "<thead><tr><th>Main_Id</th><th>Id_used_NED</th><th>RA</th><th>DEC</th><th>otype_txt</th><th>redshift</th><th>rvz_type</th><th>otypes</th><th>cds_url</th><th>SMB_sample_index</th></tr></thead>\n",
       "<thead><tr><th>object</th><th>object</th><th>float64</th><th>float64</th><th>object</th><th>float64</th><th>str1</th><th>object</th><th>str93</th><th>float64</th></tr></thead>\n",
       "<tr><td>3C 234.0</td><td>3C 234.0</td><td>150.45634473807</td><td>28.7858176354</td><td>Sy1</td><td>0.18494</td><td>z</td><td>AGN|G  |IR |QSO|Rad|Sy1|X  |blu|gam</td><td>http://vizier.u-strasbg.fr/viz-bin/sed?-c=150.45634473807%2028.7858176354&amp;-c.rs=5</td><td>283.0</td></tr>\n",
       "<tr><td>M  84</td><td>M  84</td><td>186.2655972083333</td><td>12.886983138888887</td><td>Sy2</td><td>0.00327</td><td>z</td><td>*  |AGN|G  |GiC|GiG|IR |Rad|Sy2|UV |X  |smm</td><td>http://vizier.u-strasbg.fr/viz-bin/sed?-c=186.2655972083333%2012.886983138888887&amp;-c.rs=5</td><td>414.0</td></tr>\n",
       "<tr><td>2MASS J13000535+1632148</td><td>NVSS J130005+163212</td><td>195.02228295163</td><td>16.53743305218</td><td>Sy1</td><td>0.07993</td><td>z</td><td>AGN|G  |IR |Rad|Sy1|X</td><td>http://vizier.u-strasbg.fr/viz-bin/sed?-c=195.02228295163%2016.53743305218&amp;-c.rs=5</td><td>428.0</td></tr>\n",
       "<tr><td>NGC   262</td><td>NGC   262</td><td>12.196426138730002</td><td>31.956956641230004</td><td>Sy2</td><td>0.015260233939595302</td><td>v</td><td>*  |AGN|Bla|G  |GiG|IR |QSO|Rad|Sy2|X  |gam</td><td>http://vizier.u-strasbg.fr/viz-bin/sed?-c=12.196426138730002%2031.956956641230004&amp;-c.rs=5</td><td>484.0</td></tr>\n",
       "<tr><td>IRAS 04385-0828</td><td>IRAS 04385-0828</td><td>70.2290037068</td><td>-8.37281297812</td><td>Sy2</td><td>0.015064</td><td>z</td><td>*  |AGN|G  |GiG|IR |Sy2</td><td>http://vizier.u-strasbg.fr/viz-bin/sed?-c=70.2290037068%20-8.37281297812&amp;-c.rs=5</td><td>541.0</td></tr>\n",
       "<tr><td>NGC  4945</td><td>NGC  4945</td><td>196.3636625</td><td>-49.4679</td><td>Sy2</td><td>0.0017968563040435814</td><td>v</td><td>AGN|G  |GiG|IR |Rad|Sy2|X  |cm |gam</td><td>http://vizier.u-strasbg.fr/viz-bin/sed?-c=196.3636625%20-49.4679&amp;-c.rs=5</td><td>628.0</td></tr>\n",
       "<tr><td>IC 4553</td><td>IC 4553</td><td>233.73843316666665</td><td>23.50322455555555</td><td>SyG</td><td>0.0184</td><td>z</td><td>AGN|G  |GiG|GiP|IG |IR |LIN|Rad|SyG|X  |gam|smm</td><td>http://vizier.u-strasbg.fr/viz-bin/sed?-c=233.73843316666665%2023.50322455555555&amp;-c.rs=5</td><td>654.0</td></tr>\n",
       "<tr><td>NGC  5252</td><td>NGC  5252</td><td>204.56612821846997</td><td>4.542644796</td><td>Sy2</td><td>0.02294</td><td>z</td><td>AG?|AGN|EmG|G  |GiG|Sy1|Sy2|X  |gam</td><td>http://vizier.u-strasbg.fr/viz-bin/sed?-c=204.56612821846997%204.542644796&amp;-c.rs=5</td><td>773.0</td></tr>\n",
       "<tr><td>Mrk  279</td><td>Mrk  279</td><td>208.26431206837998</td><td>69.30816969735</td><td>Sy1</td><td>0.030601</td><td>z</td><td>AGN|G  |IR |QSO|Sy1|UV |X  |gam</td><td>http://vizier.u-strasbg.fr/viz-bin/sed?-c=208.26431206837998%2069.30816969735&amp;-c.rs=5</td><td>852.0</td></tr>\n",
       "<tr><td>UGC 11680</td><td>UGC 11680</td><td>316.93375</td><td>3.875277777777778</td><td>Sy2</td><td>0.026</td><td>z</td><td>G  |GiP|IG |IR |PaG|Sy2</td><td>http://vizier.u-strasbg.fr/viz-bin/sed?-c=316.93375%203.875277777777778&amp;-c.rs=5</td><td>1227.0</td></tr>\n",
       "<tr><td>...</td><td>...</td><td>...</td><td>...</td><td>...</td><td>...</td><td>...</td><td>...</td><td>...</td><td>...</td></tr>\n",
       "<tr><td>NGC  3081</td><td>NGC  3081</td><td>149.87309876014</td><td>-22.8263187061</td><td>Sy2</td><td>0.008039522026415113</td><td>v</td><td>*  |AGN|G  |GiG|HI |Rad|Sy1|Sy2|X  |gam</td><td>http://vizier.u-strasbg.fr/viz-bin/sed?-c=149.87309876014%20-22.8263187061&amp;-c.rs=5</td><td>42680.0</td></tr>\n",
       "<tr><td>NGC  4507</td><td>NGC  4507</td><td>188.90264124036997</td><td>-39.90936400452</td><td>Sy2</td><td>0.011907072576889943</td><td>v</td><td>AGN|G  |GiC|GiG|HI |IR |Rad|Sy2|X  |gam</td><td>http://vizier.u-strasbg.fr/viz-bin/sed?-c=188.90264124036997%20-39.90936400452&amp;-c.rs=5</td><td>42943.0</td></tr>\n",
       "<tr><td>2XMM J115657.8+550820</td><td>2XMM J115657.8+550820</td><td>179.241186</td><td>55.139334</td><td>Sy2</td><td>0.0798</td><td>z</td><td>G  |Sy2|X</td><td>http://vizier.u-strasbg.fr/viz-bin/sed?-c=179.241186%2055.139334&amp;-c.rs=5</td><td>43279.0</td></tr>\n",
       "<tr><td>2MASX J00215355-7910077</td><td>2MASX J00215355-7910077</td><td>5.47314754327</td><td>-79.16889600056</td><td>Sy2</td><td>0.072724</td><td>z</td><td>*  |AGN|G  |IR |Sy2</td><td>http://vizier.u-strasbg.fr/viz-bin/sed?-c=5.47314754327%20-79.16889600056&amp;-c.rs=5</td><td>43326.0</td></tr>\n",
       "<tr><td>NGC  3783</td><td>NGC  3783</td><td>174.7571236746</td><td>-37.73861378972</td><td>Sy1</td><td>0.009755296525549184</td><td>v</td><td>AGN|G  |GiG|HI |IR |QSO|Rad|Sy1|X</td><td>http://vizier.u-strasbg.fr/viz-bin/sed?-c=174.7571236746%20-37.73861378972&amp;-c.rs=5</td><td>43547.0</td></tr>\n",
       "<tr><td>NGC  3982</td><td>NGC  3982</td><td>179.11726896503</td><td>55.12523877407</td><td>Sy1</td><td>0.00371</td><td>z</td><td>AGN|G  |GiG|HI |IR |Rad|Sy1|X</td><td>http://vizier.u-strasbg.fr/viz-bin/sed?-c=179.11726896503%2055.12523877407&amp;-c.rs=5</td><td>43595.0</td></tr>\n",
       "<tr><td>PSCz Q18368+3549</td><td>IRAS 18368+3549</td><td>279.64764583333334</td><td>35.872152777777785</td><td>Sy2</td><td>0.11617</td><td>z</td><td>AGN|G  |IR |Mas|Sy2</td><td>http://vizier.u-strasbg.fr/viz-bin/sed?-c=279.64764583333334%2035.872152777777785&amp;-c.rs=5</td><td>43670.0</td></tr>\n",
       "<tr><td>Mrk  622</td><td>Mrk  622</td><td>121.92081574901</td><td>39.00423528003</td><td>Sy2</td><td>0.02335</td><td>z</td><td>AGN|G  |IR |LIN|Rad|Sy2|X</td><td>http://vizier.u-strasbg.fr/viz-bin/sed?-c=121.92081574901%2039.00423528003&amp;-c.rs=5</td><td>43765.0</td></tr>\n",
       "<tr><td>[LGE2006] 12</td><td>[LGE2006] 12</td><td>163.00045833333334</td><td>57.406527777777775</td><td>Sy1</td><td>0.974</td><td>z</td><td>AGN|G  |IR |Rad|Sy1|X  |smm</td><td>http://vizier.u-strasbg.fr/viz-bin/sed?-c=163.00045833333334%2057.406527777777775&amp;-c.rs=5</td><td>43819.0</td></tr>\n",
       "<tr><td>2MASX J14323249+3406257</td><td>2MASX J14323249+3406257</td><td>218.13541641978998</td><td>34.10705776174</td><td>Sy2</td><td>0.0424</td><td>z</td><td>*  |AG?|AGN|EmG|G  |Sy2</td><td>http://vizier.u-strasbg.fr/viz-bin/sed?-c=218.13541641978998%2034.10705776174&amp;-c.rs=5</td><td>44215.0</td></tr>\n",
       "</table></div>"
      ],
      "text/plain": [
       "<QTable length=359>\n",
       "        Main_Id               Id_used_NED       ... SMB_sample_index\n",
       "         object                  object         ...     float64     \n",
       "----------------------- ----------------------- ... ----------------\n",
       "               3C 234.0                3C 234.0 ...            283.0\n",
       "                  M  84                   M  84 ...            414.0\n",
       "2MASS J13000535+1632148     NVSS J130005+163212 ...            428.0\n",
       "              NGC   262               NGC   262 ...            484.0\n",
       "        IRAS 04385-0828         IRAS 04385-0828 ...            541.0\n",
       "              NGC  4945               NGC  4945 ...            628.0\n",
       "                IC 4553                 IC 4553 ...            654.0\n",
       "              NGC  5252               NGC  5252 ...            773.0\n",
       "               Mrk  279                Mrk  279 ...            852.0\n",
       "              UGC 11680               UGC 11680 ...           1227.0\n",
       "                    ...                     ... ...              ...\n",
       "              NGC  3081               NGC  3081 ...          42680.0\n",
       "              NGC  4507               NGC  4507 ...          42943.0\n",
       "  2XMM J115657.8+550820   2XMM J115657.8+550820 ...          43279.0\n",
       "2MASX J00215355-7910077 2MASX J00215355-7910077 ...          43326.0\n",
       "              NGC  3783               NGC  3783 ...          43547.0\n",
       "              NGC  3982               NGC  3982 ...          43595.0\n",
       "       PSCz Q18368+3549         IRAS 18368+3549 ...          43670.0\n",
       "               Mrk  622                Mrk  622 ...          43765.0\n",
       "           [LGE2006] 12            [LGE2006] 12 ...          43819.0\n",
       "2MASX J14323249+3406257 2MASX J14323249+3406257 ...          44215.0"
      ]
     },
     "execution_count": 32,
     "metadata": {},
     "output_type": "execute_result"
    }
   ],
   "source": [
    "NeIR_obj_t"
   ]
  },
  {
   "cell_type": "code",
   "execution_count": 33,
   "id": "2ff3ee31",
   "metadata": {},
   "outputs": [],
   "source": [
    "NeIR_obj_t.write(path_raw+'Obj_Ne-IR_'+today.strftime('%b_%d_%Y')+'.vot',\n",
    "                    format='votable',overwrite=True)"
   ]
  },
  {
   "cell_type": "markdown",
   "id": "ae800666",
   "metadata": {},
   "source": [
    "## Notebook Info"
   ]
  },
  {
   "cell_type": "code",
   "execution_count": 18,
   "id": "DvHi0rgEJPcP",
   "metadata": {
    "colab": {
     "base_uri": "https://localhost:8080/"
    },
    "executionInfo": {
     "elapsed": 234,
     "status": "ok",
     "timestamp": 1633483845986,
     "user": {
      "displayName": "Jonhatan Herney Bernal Salinas",
      "photoUrl": "https://lh3.googleusercontent.com/a-/AOh14GiKhXNQ_goIeesq2w4kv4vwiz7BZTUIiIDZFS6iHA=s64",
      "userId": "11704227221814557955"
     },
     "user_tz": 300
    },
    "id": "DvHi0rgEJPcP",
    "outputId": "5e6d6024-2063-4196-8cca-9ce4c808d317",
    "scrolled": false
   },
   "outputs": [
    {
     "name": "stdout",
     "output_type": "stream",
     "text": [
      "Author: Jonhatan Bernal\n",
      "\n",
      "Python implementation: CPython\n",
      "Python version       : 3.9.7\n",
      "IPython version      : 8.1.1\n",
      "\n",
      "Compiler    : GCC 7.5.0\n",
      "OS          : Linux\n",
      "Release     : 5.13.0-39-generic\n",
      "Machine     : x86_64\n",
      "Processor   : x86_64\n",
      "CPU cores   : 8\n",
      "Architecture: 64bit\n",
      "\n",
      "Specific Python packages\n",
      "astropy: 5.0\n",
      "\n",
      "astropy: 5.0\n",
      "pyvo   : 1.2.1\n",
      "sys    : 3.9.7 (default, Sep 16 2021, 13:09:58) \n",
      "[GCC 7.5.0]\n",
      "numpy  : 1.20.3\n",
      "csv    : 1.0\n",
      "\n",
      "Watermark: 2.3.0\n",
      "\n"
     ]
    }
   ],
   "source": [
    "%load_ext watermark\n",
    "%watermark -a \"Jonhatan Bernal\" -d -v -m\n",
    "print('Specific Python packages')\n",
    "%watermark -iv -w --packages astropy"
   ]
  },
  {
   "cell_type": "markdown",
   "id": "31e54592",
   "metadata": {},
   "source": [
    "### Las celdas a continuación son para pruebas:"
   ]
  },
  {
   "cell_type": "code",
   "execution_count": 26,
   "id": "b5937d7e",
   "metadata": {
    "scrolled": true
   },
   "outputs": [
    {
     "data": {
      "text/html": [
       "<i>Row index=428</i>\n",
       "<table id=\"table140613007462208\">\n",
       "<thead><tr><th>main_id</th><th>ra</th><th>dec</th><th>coo_bibcode</th><th>otype_txt</th><th>rvz_bibcode</th><th>rvz_radvel</th><th>rvz_redshift</th><th>rvz_type</th><th>nbref</th><th>otypes</th><th>cds_url</th></tr></thead>\n",
       "<thead><tr><th></th><th>deg</th><th>deg</th><th></th><th></th><th></th><th>km / s</th><th></th><th></th><th></th><th></th><th></th></tr></thead>\n",
       "<thead><tr><th>object</th><th>float64</th><th>float64</th><th>object</th><th>object</th><th>object</th><th>float64</th><th>float64</th><th>str1</th><th>int32</th><th>object</th><th>str93</th></tr></thead>\n",
       "<tr><td>2MASS J13000535+1632148</td><td>195.02228295163</td><td>16.53743305218</td><td>2020yCat.1350....0G</td><td>Sy1</td><td>2012ApJS..203...21A</td><td>23007.57777582905</td><td>0.07993</td><td>z</td><td>45</td><td>AGN|G  |IR |Rad|Sy1|X</td><td>http://vizier.u-strasbg.fr/viz-bin/sed?-c=195.02228295163%2016.53743305218&amp;-c.rs=5</td></tr>\n",
       "</table>"
      ],
      "text/plain": [
       "<Row index=428>\n",
       "        main_id                ra            dec           coo_bibcode     otype_txt     rvz_bibcode         rvz_radvel    rvz_redshift rvz_type nbref          otypes                                              cds_url                                      \n",
       "                              deg            deg                                                               km / s                                                                                                                                            \n",
       "         object             float64        float64            object         object         object            float64        float64      str1   int32          object                                               str93                                       \n",
       "----------------------- --------------- -------------- ------------------- --------- ------------------- ----------------- ------------ -------- ----- ----------------------- ----------------------------------------------------------------------------------\n",
       "2MASS J13000535+1632148 195.02228295163 16.53743305218 2020yCat.1350....0G       Sy1 2012ApJS..203...21A 23007.57777582905      0.07993        z    45 AGN|G  |IR |Rad|Sy1|X   http://vizier.u-strasbg.fr/viz-bin/sed?-c=195.02228295163%2016.53743305218&-c.rs=5"
      ]
     },
     "execution_count": 26,
     "metadata": {},
     "output_type": "execute_result"
    }
   ],
   "source": [
    "x=428\n",
    "simbad_sample_Sy[x]"
   ]
  },
  {
   "cell_type": "code",
   "execution_count": 27,
   "id": "bb219e1c",
   "metadata": {
    "scrolled": false
   },
   "outputs": [
    {
     "data": {
      "text/html": [
       "<div><i>Table length=18</i>\n",
       "<table id=\"table140613947133184\" class=\"table-striped table-bordered table-condensed\">\n",
       "<thead><tr><th>ID</th></tr></thead>\n",
       "<thead><tr><th>bytes29</th></tr></thead>\n",
       "<tr><td>Gaia EDR3 3937375195178654720</td></tr>\n",
       "<tr><td>TIC 88137340</td></tr>\n",
       "<tr><td>2MASS J13000535+1632148</td></tr>\n",
       "<tr><td>NVSS J130005+163212</td></tr>\n",
       "<tr><td>2MASX J13000533+1632151</td></tr>\n",
       "<tr><td>2MASSI J1300053+163214</td></tr>\n",
       "<tr><td>2MASS J13000534+1632149</td></tr>\n",
       "<tr><td>FIRST J130005.3+163214</td></tr>\n",
       "<tr><td>[VV2003c] J130005.3+163214</td></tr>\n",
       "<tr><td>[VV2006c] J130005.3+163214</td></tr>\n",
       "<tr><td>[VV2010c] J130005.3+163214</td></tr>\n",
       "<tr><td>PBC J1300.1+1636</td></tr>\n",
       "<tr><td>SDSS J130005.34+163214.8</td></tr>\n",
       "<tr><td>SDSS J130005.35+163214.8</td></tr>\n",
       "<tr><td>LEDA 3800210</td></tr>\n",
       "<tr><td>SWIFT J1300.1+1635</td></tr>\n",
       "<tr><td>AKARI-IRC-V1 J1300053+163214</td></tr>\n",
       "<tr><td>Gaia DR2 3937375195178654720</td></tr>\n",
       "</table></div>"
      ],
      "text/plain": [
       "<Table length=18>\n",
       "              ID             \n",
       "           bytes29           \n",
       "-----------------------------\n",
       "Gaia EDR3 3937375195178654720\n",
       "                 TIC 88137340\n",
       "      2MASS J13000535+1632148\n",
       "          NVSS J130005+163212\n",
       "      2MASX J13000533+1632151\n",
       "       2MASSI J1300053+163214\n",
       "      2MASS J13000534+1632149\n",
       "       FIRST J130005.3+163214\n",
       "   [VV2003c] J130005.3+163214\n",
       "   [VV2006c] J130005.3+163214\n",
       "   [VV2010c] J130005.3+163214\n",
       "             PBC J1300.1+1636\n",
       "     SDSS J130005.34+163214.8\n",
       "     SDSS J130005.35+163214.8\n",
       "                 LEDA 3800210\n",
       "           SWIFT J1300.1+1635\n",
       " AKARI-IRC-V1 J1300053+163214\n",
       " Gaia DR2 3937375195178654720"
      ]
     },
     "execution_count": 27,
     "metadata": {},
     "output_type": "execute_result"
    }
   ],
   "source": [
    "nam=simbad_sample_Sy['main_id'][x]\n",
    "other_ids = Simbad.query_objectids(nam)\n",
    "other_ids"
   ]
  },
  {
   "cell_type": "code",
   "execution_count": 30,
   "id": "bf64029e",
   "metadata": {},
   "outputs": [
    {
     "name": "stdout",
     "output_type": "stream",
     "text": [
      "no  Gaia EDR3 3937375195178654720\n",
      "no  TIC 88137340\n",
      "no  2MASS J13000535+1632148\n",
      "si  NVSS J130005+163212\n"
     ]
    }
   ],
   "source": [
    "for gal_id in other_ids['ID']:\n",
    "    try:\n",
    "        ned_tab= Ned.get_table(gal_id, table='photometry')\n",
    "        print('si ',gal_id)\n",
    "        break   \n",
    "    except:\n",
    "        print('no ',gal_id)\n",
    "        if gal_id == other_ids['ID'][-1]:\n",
    "            continue"
   ]
  },
  {
   "cell_type": "code",
   "execution_count": 29,
   "id": "c0f4f933",
   "metadata": {},
   "outputs": [
    {
     "data": {
      "text/html": [
       "<div><i>Table length=98</i>\n",
       "<table id=\"table140612998234016\" class=\"table-striped table-bordered table-condensed\">\n",
       "<thead><tr><th>No.</th><th>Observed Passband</th><th>Photometry Measurement</th><th>Uncertainty</th><th>Units</th><th>Frequency</th><th>Flux Density</th><th>Upper limit of uncertainty</th><th>Lower limit of uncertainty</th><th>Upper limit of Flux Density</th><th>Lower limit of Flux Density</th><th>NED Uncertainty</th><th>NED Units</th><th>Refcode</th><th>Significance</th><th>Published frequency</th><th>Frequency Mode</th><th>Coordinates Targeted</th><th>Spatial Mode</th><th>Qualifiers</th><th>Comments</th></tr></thead>\n",
       "<thead><tr><th></th><th></th><th></th><th></th><th></th><th>Hz</th><th>Jy</th><th></th><th></th><th></th><th></th><th></th><th></th><th></th><th></th><th></th><th></th><th></th><th></th><th></th><th></th></tr></thead>\n",
       "<thead><tr><th>int32</th><th>object</th><th>float64</th><th>object</th><th>object</th><th>float64</th><th>float64</th><th>float64</th><th>float64</th><th>float64</th><th>float64</th><th>object</th><th>object</th><th>object</th><th>object</th><th>object</th><th>object</th><th>object</th><th>object</th><th>object</th><th>object</th></tr></thead>\n",
       "<tr><td>1</td><td>14-195 keV (Swift)</td><td>1.44e-11</td><td></td><td>erg/cm^2^/s</td><td>2.53e+19</td><td>5.69e-08</td><td>--</td><td>--</td><td>--</td><td>--</td><td></td><td>Jy</td><td>2017ApJS..233...17R</td><td>no uncertainty reported</td><td>104.50 keV</td><td>Broad-band measurement</td><td></td><td>Modelled datum</td><td>Observed flux</td><td>From reprocessed raw data; NED frequency assigned tomid-point of band in keV</td></tr>\n",
       "<tr><td>2</td><td>14-195 keV (Swift)</td><td>1.27e-11</td><td></td><td>erg/cm^2^/s</td><td>2.53e+19</td><td>5.02e-08</td><td>--</td><td>--</td><td>--</td><td>--</td><td></td><td>Jy</td><td>2017ApJS..233...17R</td><td>no uncertainty reported</td><td>104.50 keV</td><td>Broad-band measurement</td><td></td><td>Modelled datum</td><td>Intrinsic flux</td><td>From reprocessed raw data; NED frequency assigned tomid-point of band in keV</td></tr>\n",
       "<tr><td>3</td><td>14-195 keV (Swift)</td><td>1.144e-11</td><td>+/-8.42E-12</td><td>erg/s/cm^2^</td><td>2.53e+19</td><td>4.52e-08</td><td>3.33e-08</td><td>3.33e-08</td><td>--</td><td>--</td><td>+/-3.33E-08</td><td>Jy</td><td>2018ApJS..235....4O</td><td>90% confidence</td><td>104.50 keV</td><td>Broad-band measurement</td><td>195.03084850 +16.57591628 (J2000)</td><td>From fitting to map</td><td>S/N = 6.10 ; power law model</td><td>From new raw data; NED frequency assigned to mid-point ofband in keV</td></tr>\n",
       "<tr><td>4</td><td>14-150 keV (Swift)</td><td>1.11e-11</td><td></td><td>erg/cm^2^/s</td><td>1.98e+19</td><td>5.61e-08</td><td>--</td><td>--</td><td>--</td><td>--</td><td></td><td>Jy</td><td>2017ApJS..233...17R</td><td>no uncertainty reported</td><td>82.00 keV</td><td>Broad-band measurement</td><td></td><td>Modelled datum</td><td>Intrinsic flux</td><td>From reprocessed raw data; NED frequency assigned tomid-point of band in keV</td></tr>\n",
       "<tr><td>5</td><td>20-50 keV (Swift)</td><td>3.6e-12</td><td></td><td>erg/cm^2^/s</td><td>8.46e+18</td><td>4.26e-08</td><td>--</td><td>--</td><td>--</td><td>--</td><td></td><td>Jy</td><td>2017ApJS..233...17R</td><td>no uncertainty reported</td><td>35.00 keV</td><td>Broad-band measurement</td><td></td><td>Modelled datum</td><td>Intrinsic flux</td><td>From reprocessed raw data; NED frequency assigned tomid-point of band in keV</td></tr>\n",
       "<tr><td>6</td><td>2-10 keV (Swift)</td><td>2.1e-12</td><td></td><td>erg/cm^2^/s</td><td>1.45e+18</td><td>1.45e-07</td><td>--</td><td>--</td><td>--</td><td>--</td><td></td><td>Jy</td><td>2017ApJS..233...17R</td><td>no uncertainty reported</td><td>6.00 keV</td><td>Broad-band measurement</td><td></td><td>Modelled datum</td><td>Observed flux</td><td>From reprocessed raw data; NED frequency assigned tomid-point of band in keV</td></tr>\n",
       "<tr><td>7</td><td>2-10 keV (Swift)</td><td>2.2e-12</td><td></td><td>erg/cm^2^/s</td><td>1.45e+18</td><td>1.52e-07</td><td>--</td><td>--</td><td>--</td><td>--</td><td></td><td>Jy</td><td>2017ApJS..233...17R</td><td>no uncertainty reported</td><td>6.00 keV</td><td>Broad-band measurement</td><td></td><td>Modelled datum</td><td>Intrinsic flux</td><td>From reprocessed raw data; NED frequency assigned tomid-point of band in keV</td></tr>\n",
       "<tr><td>8</td><td>0.3-8 keV (Chandra)</td><td>5.7e-12</td><td></td><td>erg/cm^2^/s</td><td>1e+18</td><td>5.7e-07</td><td>--</td><td>--</td><td>--</td><td>--</td><td></td><td>Jy</td><td>2016ApJS..224...40W</td><td>no uncertainty reported</td><td>4.15 keV</td><td>Broad-band measurement</td><td></td><td>Flux integrated from map</td><td>Average flux</td><td>From reprocessed raw data; NED frequency assigned tomid-point of band in keV</td></tr>\n",
       "<tr><td>9</td><td>2-7 keV Chandra</td><td>--</td><td>&lt;5.7916E-14</td><td>erg/cm^2/s</td><td>9.19e+17</td><td>--</td><td>--</td><td>--</td><td>6.3e-09</td><td>--</td><td>&lt;6.30E-09</td><td>Jy</td><td>2020CSC...C2..0000:</td><td>68% confidence</td><td>3.8        keV</td><td>Broad-band measurement</td><td></td><td>Flux in fixed aperture</td><td>flux_aper</td><td>From new raw data</td></tr>\n",
       "<tr><td>...</td><td>...</td><td>...</td><td>...</td><td>...</td><td>...</td><td>...</td><td>...</td><td>...</td><td>...</td><td>...</td><td>...</td><td>...</td><td>...</td><td>...</td><td>...</td><td>...</td><td>...</td><td>...</td><td>...</td><td>...</td></tr>\n",
       "<tr><td>89</td><td>[Ne II] 12.8 (IRS)</td><td>1.67e-21</td><td></td><td>W/cm^2^</td><td>23400000000000.0</td><td>1670000000.0</td><td>--</td><td>--</td><td>--</td><td>--</td><td></td><td>Jy-Hz</td><td>2009ApJ...690.1105K</td><td>no uncertainty reported</td><td>12.814 microns</td><td>Line measurement; flux integrated over line; lines measured in emission</td><td></td><td>Flux integrated from map</td><td></td><td>From new raw data</td></tr>\n",
       "<tr><td>90</td><td>[Ne V] 14.3 (IRS)</td><td>--</td><td>&lt;0.706E-21</td><td>W/cm^2^</td><td>20900000000000.0</td><td>--</td><td>--</td><td>--</td><td>706000000.0</td><td>--</td><td>&lt;7.06E+08</td><td>Jy-Hz</td><td>2009ApJ...690.1105K</td><td>uncertainty</td><td>14.320 microns</td><td>Line measurement; flux integrated over line; lines measured in emission</td><td></td><td>Flux integrated from map</td><td></td><td>From new raw data</td></tr>\n",
       "<tr><td>91</td><td>[Ne III] 15.5 (IRS)</td><td>1.45e-21</td><td></td><td>W/cm^2^</td><td>19300000000000.0</td><td>1450000000.0</td><td>--</td><td>--</td><td>--</td><td>--</td><td></td><td>Jy-Hz</td><td>2009ApJ...690.1105K</td><td>no uncertainty reported</td><td>15.555 microns</td><td>Line measurement; flux integrated over line; lines measured in emission</td><td></td><td>Flux integrated from map</td><td></td><td>From new raw data</td></tr>\n",
       "<tr><td>92</td><td>W4 (WISE)</td><td>4.155</td><td>+/-0.013</td><td>mag</td><td>13600000000000.0</td><td>0.182</td><td>0.00218</td><td>0.00218</td><td>--</td><td>--</td><td>+/-2.18E-03</td><td>Jy</td><td>2013wise.rept....1C</td><td>uncertainty</td><td>22.0883    microns</td><td>Broad-band measurement</td><td></td><td>Flux in fixed aperture</td><td>r=16.5&quot; COG-corrected;extended</td><td>From new raw data; Uncorrected for known sources in beam</td></tr>\n",
       "<tr><td>93</td><td>W4 (WISE)</td><td>4.157</td><td>+/-0.031</td><td>mag</td><td>13600000000000.0</td><td>0.182</td><td>0.00519</td><td>0.00519</td><td>--</td><td>--</td><td>+/-5.19E-03</td><td>Jy</td><td>2013wise.rept....1C</td><td>uncertainty</td><td>22.0883    microns</td><td>Broad-band measurement</td><td></td><td>From fitting to map</td><td>Profile-fit;extended</td><td>From new raw data</td></tr>\n",
       "<tr><td>94</td><td>W4 (WISE)</td><td>4.451</td><td>+/-0.014</td><td>mag</td><td>13600000000000.0</td><td>0.139</td><td>0.00179</td><td>0.00179</td><td>--</td><td>--</td><td>+/-1.79E-03</td><td>Jy</td><td>2013wise.rept....1C</td><td>uncertainty</td><td>22.0883    microns</td><td>Broad-band measurement</td><td></td><td>Flux in fixed aperture</td><td>r=22.0&quot; aperture;extended</td><td>From new raw data; Uncorrected for known sources in beam</td></tr>\n",
       "<tr><td>95</td><td>24 microns (MIPS)</td><td>144380.0</td><td>+/-1.0313E+02</td><td>microJy</td><td>12700000000000.0</td><td>0.144</td><td>0.000103</td><td>0.000103</td><td>--</td><td>--</td><td>+/-1.03E-04</td><td>Jy</td><td>2013SSTSLC4.2....0C</td><td>uncertainty</td><td>23.68      microns</td><td>Broad-band measurement</td><td></td><td>Modelled datum</td><td>PSF fit</td><td>From new raw data</td></tr>\n",
       "<tr><td>96</td><td>24 microns (MIPS)</td><td>152130.0</td><td>+/-5.4562E+01</td><td>microJy</td><td>12700000000000.0</td><td>0.152</td><td>5.46e-05</td><td>5.46e-05</td><td>--</td><td>--</td><td>+/-5.46E-05</td><td>Jy</td><td>2013SSTSLC4.2....0C</td><td>uncertainty</td><td>23.68      microns</td><td>Broad-band measurement</td><td></td><td>Flux in fixed aperture</td><td>14.7&quot; aperture</td><td>From new raw data</td></tr>\n",
       "<tr><td>97</td><td>160 microns (MIPS)</td><td>41.4</td><td></td><td>milliJy</td><td>1920000000000.0</td><td>0.0414</td><td>--</td><td>--</td><td>--</td><td>--</td><td></td><td>Jy</td><td>2016MNRAS.455.4191Z</td><td>no uncertainty reported</td><td>155.9 microns</td><td>Broad-band measurement</td><td></td><td>From fitting to map</td><td>PSF fitting</td><td>From reprocessed raw data</td></tr>\n",
       "<tr><td>98</td><td>1.4GHz</td><td>11.8</td><td>+/-0.6</td><td>milliJy</td><td>1400000000.0</td><td>0.0118</td><td>0.0006</td><td>0.0006</td><td>--</td><td>--</td><td>+/-6.00E-04</td><td>Jy</td><td>1998AJ....115.1693C</td><td>uncertainty</td><td>1.40   GHz</td><td>Broad-band measurement</td><td>13 00 5.37 +16 32 12.8 (J2000)</td><td>Flux integrated from map</td><td></td><td>From new raw data</td></tr>\n",
       "</table></div>"
      ],
      "text/plain": [
       "<Table length=98>\n",
       " No.  ...\n",
       "      ...\n",
       "int32 ...\n",
       "----- ...\n",
       "    1 ...\n",
       "    2 ...\n",
       "    3 ...\n",
       "    4 ...\n",
       "    5 ...\n",
       "    6 ...\n",
       "    7 ...\n",
       "    8 ...\n",
       "    9 ...\n",
       "  ... ...\n",
       "   89 ...\n",
       "   90 ...\n",
       "   91 ...\n",
       "   92 ...\n",
       "   93 ...\n",
       "   94 ...\n",
       "   95 ...\n",
       "   96 ...\n",
       "   97 ...\n",
       "   98 ..."
      ]
     },
     "execution_count": 29,
     "metadata": {},
     "output_type": "execute_result"
    }
   ],
   "source": [
    "ned_tab"
   ]
  },
  {
   "cell_type": "code",
   "execution_count": null,
   "id": "78f15cfb",
   "metadata": {},
   "outputs": [],
   "source": []
  }
 ],
 "metadata": {
  "colab": {
   "name": "Obtain_Samples_AGNs_Ne_IR.ipynb",
   "provenance": []
  },
  "kernelspec": {
   "display_name": "Python 3 (ipykernel)",
   "language": "python",
   "name": "python3"
  },
  "language_info": {
   "codemirror_mode": {
    "name": "ipython",
    "version": 3
   },
   "file_extension": ".py",
   "mimetype": "text/x-python",
   "name": "python",
   "nbconvert_exporter": "python",
   "pygments_lexer": "ipython3",
   "version": "3.9.7"
  }
 },
 "nbformat": 4,
 "nbformat_minor": 5
}
