{
 "cells": [
  {
   "cell_type": "markdown",
   "id": "b3a0dff1",
   "metadata": {
    "id": "b3a0dff1"
   },
   "source": [
    "# Obtain data of AGN from SIMBAD and filtering the objects with data of Ne II, Ne III and Ne V in infrared from NED \n",
    "\n",
    "In this notebook we develop the code to Obtain the data of AGNs type Sy1 (Seyfert 1), Sy2 (Seyfert 2) and SyG (Seyfert Galaxies) from **[SIMBAD](http://simbad.u-strasbg.fr/simbad/sim-tap)** (SMB) and then search each object from the SMB sample in **[NED](https://ned.ipac.caltech.edu/)** to obtain the photometric data and filter all the objects from the sample that contain data of the emission lines of Ne II, Ne III and Ne V in infrared.\n",
    "\n",
    "The part of the code to obtain the data from SIMBAD is based in Andres Ramos's work to obtain Seyfert Samples (https://github.com/aframosp/AGNView)"
   ]
  },
  {
   "cell_type": "code",
   "execution_count": null,
   "id": "x9XCs3j8KmdF",
   "metadata": {
    "colab": {
     "base_uri": "https://localhost:8080/"
    },
    "executionInfo": {
     "elapsed": 10306,
     "status": "ok",
     "timestamp": 1633483403323,
     "user": {
      "displayName": "Jonhatan Herney Bernal Salinas",
      "photoUrl": "https://lh3.googleusercontent.com/a-/AOh14GiKhXNQ_goIeesq2w4kv4vwiz7BZTUIiIDZFS6iHA=s64",
      "userId": "11704227221814557955"
     },
     "user_tz": 300
    },
    "id": "x9XCs3j8KmdF",
    "outputId": "b7004f1f-d237-4f0a-8d65-6050ba7a3427",
    "tags": []
   },
   "outputs": [],
   "source": [
    "# If this notebook will be run in Google Colab, first at all the next code must be run. If the notebook will be run in Jupyter\n",
    "#then \"comment\" or omit this part \n",
    "\n",
    "import sys\n",
    "IN_COLAB = 'google.colab' in sys.modules\n",
    "\n",
    "if IN_COLAB:\n",
    "    !pip install astroquery"
   ]
  },
  {
   "cell_type": "code",
   "execution_count": 1,
   "id": "4f9c61fd",
   "metadata": {
    "executionInfo": {
     "elapsed": 1500,
     "status": "ok",
     "timestamp": 1633483409256,
     "user": {
      "displayName": "Jonhatan Herney Bernal Salinas",
      "photoUrl": "https://lh3.googleusercontent.com/a-/AOh14GiKhXNQ_goIeesq2w4kv4vwiz7BZTUIiIDZFS6iHA=s64",
      "userId": "11704227221814557955"
     },
     "user_tz": 300
    },
    "id": "4f9c61fd"
   },
   "outputs": [],
   "source": [
    "from datetime import date\n",
    "import time\n",
    "import csv\n",
    "import numpy as np\n",
    "\n",
    "import pyvo\n",
    "from astroquery.ned import Ned\n",
    "\n",
    "import astropy.units as u\n",
    "from astropy.table import hstack\n",
    "from astropy.coordinates import SkyCoord"
   ]
  },
  {
   "cell_type": "code",
   "execution_count": 2,
   "id": "acdb66dd",
   "metadata": {},
   "outputs": [],
   "source": [
    "path='../Datos/Raw/'"
   ]
  },
  {
   "cell_type": "markdown",
   "id": "e3d1274d",
   "metadata": {
    "id": "e3d1274d"
   },
   "source": [
    "Using the package **[PyVO](https://pyvo.readthedocs.io/en/latest/#)** we can access to remote data and services like the **TAP Service of SIMBAD [SIMBAD](http://simbad.u-strasbg.fr/simbad/sim-tap)** to find and retrieve the astronomical data that we need, in this case: Seyfert Galaxies. To achive that, we use a script with **[ADQL](https://www.ivoa.net/documents/latest/ADQL.html) (Astronomical Data Query Language)**, which is based on SQL.\n",
    "\n",
    "On the script we used the next **Field Names** for VOTable ouput:\n",
    "- ra: Right ascension\n",
    "- dec: Declination\n",
    "- coo_bibcode: Bibliographical reference for coordinates\n",
    "- otype_txt: Object type\n",
    "- rvz_bibcode: Bibliographical reference of radial velocity and redshift\n",
    "- rvz_radvel: Stored value. Either a radial velocity, or a redshift, depending on the rvz_type field \n",
    "- rvz_redshift\n",
    "- rvz_type: Stored type of velocity: 'v'=radial velocity, 'z'=redshift\n",
    "- nbref: bibliographical reference\n",
    "\n",
    "~~~~sql\n",
    "SELECT main_id\n",
    "\t,ra\n",
    "\t,dec\n",
    "\t,coo_bibcode\n",
    "\t,otype_txt\n",
    "\t,rvz_bibcode\n",
    "\t,rvz_radvel\n",
    "\t,rvz_redshift\n",
    "\t,rvz_type\n",
    "\t,nbref\n",
    "\t,alltypes.otypes\n",
    "FROM basic\n",
    "JOIN alltypes ON oid = oidref\n",
    "WHERE basic.otype = 'Sy1'\n",
    "\tOR basic.otype = 'Sy2'\n",
    "\tOR basic.otype = 'SyG'\n",
    "~~~~"
   ]
  },
  {
   "cell_type": "code",
   "execution_count": 3,
   "id": "975d55bf",
   "metadata": {
    "executionInfo": {
     "elapsed": 12406,
     "status": "ok",
     "timestamp": 1633483427713,
     "user": {
      "displayName": "Jonhatan Herney Bernal Salinas",
      "photoUrl": "https://lh3.googleusercontent.com/a-/AOh14GiKhXNQ_goIeesq2w4kv4vwiz7BZTUIiIDZFS6iHA=s64",
      "userId": "11704227221814557955"
     },
     "user_tz": 300
    },
    "id": "975d55bf"
   },
   "outputs": [],
   "source": [
    "service = pyvo.dal.TAPService(\"http://simbad.u-strasbg.fr:80/simbad/sim-tap\")\n",
    "\n",
    "result = service.search(\"\"\"\n",
    "SELECT main_id\n",
    "    ,ra\n",
    "    ,dec\n",
    "    ,coo_bibcode\n",
    "    ,otype_txt\n",
    "    ,rvz_bibcode\n",
    "    ,rvz_radvel\n",
    "    ,rvz_redshift\n",
    "    ,rvz_type\n",
    "    ,nbref\n",
    "    ,alltypes.otypes\n",
    "FROM basic\n",
    "JOIN alltypes ON oid = oidref\n",
    "WHERE basic.otype = 'Sy1'\n",
    "    OR basic.otype = 'Sy2'\n",
    "    OR basic.otype = 'SyG'\n",
    "\"\"\")"
   ]
  },
  {
   "cell_type": "markdown",
   "id": "fa406cc9",
   "metadata": {
    "id": "fa406cc9"
   },
   "source": [
    "We save the date in a variable for use later in the file names of the results"
   ]
  },
  {
   "cell_type": "code",
   "execution_count": 4,
   "id": "4bc21fd4",
   "metadata": {
    "executionInfo": {
     "elapsed": 216,
     "status": "ok",
     "timestamp": 1633483431485,
     "user": {
      "displayName": "Jonhatan Herney Bernal Salinas",
      "photoUrl": "https://lh3.googleusercontent.com/a-/AOh14GiKhXNQ_goIeesq2w4kv4vwiz7BZTUIiIDZFS6iHA=s64",
      "userId": "11704227221814557955"
     },
     "user_tz": 300
    },
    "id": "4bc21fd4"
   },
   "outputs": [
    {
     "data": {
      "text/plain": [
       "datetime.date(2021, 10, 15)"
      ]
     },
     "execution_count": 4,
     "metadata": {},
     "output_type": "execute_result"
    }
   ],
   "source": [
    "today = date.today()\n",
    "today"
   ]
  },
  {
   "cell_type": "markdown",
   "id": "9217eec3",
   "metadata": {
    "id": "9217eec3"
   },
   "source": [
    "We extract the object name (or in this case the main id) from the sample result."
   ]
  },
  {
   "cell_type": "code",
   "execution_count": 5,
   "id": "7d92c03c",
   "metadata": {
    "colab": {
     "base_uri": "https://localhost:8080/"
    },
    "executionInfo": {
     "elapsed": 498,
     "status": "ok",
     "timestamp": 1633483434934,
     "user": {
      "displayName": "Jonhatan Herney Bernal Salinas",
      "photoUrl": "https://lh3.googleusercontent.com/a-/AOh14GiKhXNQ_goIeesq2w4kv4vwiz7BZTUIiIDZFS6iHA=s64",
      "userId": "11704227221814557955"
     },
     "user_tz": 300
    },
    "id": "7d92c03c",
    "outputId": "d3745dc6-268d-4c1a-d422-647ef43cedc8"
   },
   "outputs": [
    {
     "data": {
      "text/plain": [
       "43708"
      ]
     },
     "execution_count": 5,
     "metadata": {},
     "output_type": "execute_result"
    }
   ],
   "source": [
    "simbad_sample_Sy = result.to_table()\n",
    "obj_name_SMB=simbad_sample_Sy[\"main_id\"]\n",
    "len(simbad_sample_Sy)"
   ]
  },
  {
   "cell_type": "markdown",
   "id": "64e523f9",
   "metadata": {},
   "source": [
    "The sample results is saved in a .csv file:"
   ]
  },
  {
   "cell_type": "code",
   "execution_count": 6,
   "id": "d099bc62",
   "metadata": {},
   "outputs": [],
   "source": [
    "simbad_sample_Sy.write(path+'SMB_'+today.strftime('%b_%d_%Y')+'_Sy_Samples'+'.csv',\n",
    "                    format='ascii.csv',overwrite=True)"
   ]
  },
  {
   "cell_type": "markdown",
   "id": "6d39be83",
   "metadata": {
    "id": "6d39be83"
   },
   "source": [
    "Using **SkyCoord** from astropy we extract the coordinates information for each object from the SIMBAD samples. This is because for some objects when we search the information in [NED](https://ned.ipac.caltech.edu/) using their SIMBAD main id  it doesn't reconigze it, so we will use coordinates instead to get the NED object name"
   ]
  },
  {
   "cell_type": "code",
   "execution_count": 7,
   "id": "8fa81bae",
   "metadata": {
    "executionInfo": {
     "elapsed": 181,
     "status": "ok",
     "timestamp": 1633483449934,
     "user": {
      "displayName": "Jonhatan Herney Bernal Salinas",
      "photoUrl": "https://lh3.googleusercontent.com/a-/AOh14GiKhXNQ_goIeesq2w4kv4vwiz7BZTUIiIDZFS6iHA=s64",
      "userId": "11704227221814557955"
     },
     "user_tz": 300
    },
    "id": "8fa81bae"
   },
   "outputs": [],
   "source": [
    "cat_smb_sample = SkyCoord(ra=simbad_sample_Sy['ra'], dec=simbad_sample_Sy['dec'])"
   ]
  },
  {
   "cell_type": "markdown",
   "id": "45cc82a0",
   "metadata": {
    "id": "45cc82a0"
   },
   "source": [
    "The wavelenght for NeII, NeIII and NeV in the infrared spectrum are 12.8 microns, 15.6 microns and 14.3 microns respectively. This values are equivalents to the following frequencies which ara related to different labels of \"Observed Passband\" in NED database as we ilustrate in the next list:\n",
    "\n",
    "* Frequency: 1.92e+13 Hz: [NeIII] 15.6 microns\n",
    "* Frecuency: 1.93e+13 Hz: [Ne III] 15.56 (IRS), [NeIII] 15.6 Spitzer, [Ne III] (Spitzer), [Ne III] 15.5 (IRS)\n",
    "* Frecuency: 2.09e+13 Hz: [Ne V] 14.32 (IRS), [Ne V] 14.32 Spitzer, [Ne V] 14.32, [Ne V] 14.3 Spitzer, [Ne V] 14.3 microns\n",
    "* Frequency: 2.10e+13 Hz: [Ne V] 14.3 (IRS)\n",
    "* Frequency: 2.34e+13 Hz: [Ne II] 12.81 (IRS), [Ne II] 12.8 Spitzer, [Ne II] 12.8 (IRS), [Ne II] 12.81, NEII (VLT), 12.81 microns (VLT) \n",
    "\n",
    "In the variable **Ne_IR_Fq** we define a list with the those frequency values"
   ]
  },
  {
   "cell_type": "code",
   "execution_count": 8,
   "id": "706c6696",
   "metadata": {},
   "outputs": [],
   "source": [
    "Ne_IR_Fq = [19200000000000.0,19300000000000.0,20900000000000.0,21000000000000.0,23400000000000.0]"
   ]
  },
  {
   "cell_type": "markdown",
   "id": "367ca204",
   "metadata": {},
   "source": [
    "The next part of the code use **[Astroquery](https://astroquery.readthedocs.io/en/latest/index.html)** package to get the \"Frequency\" column from the photometry table for each object of the SIMBAD sample or to get the NED object name from SIMBAD object coordiantes extracted before with SkyCoord. \n",
    "\n",
    "So, we will try to get the **\"Photometry\"** table using directly the SIMBAD object name. If this isn't recognized in NED, then we try to get the NED object name from the object coordinates and after that we will try again to get the \"Photometry\" table but now using the NED object name.\n",
    "\n",
    "The filter for the objects with Ne Line Emissions in Infrared will be looking in the column **\"Frequency\"** of the table the values of the list defined in Ne_IR_Freq."
   ]
  },
  {
   "cell_type": "code",
   "execution_count": 13,
   "id": "c2c1c5d1",
   "metadata": {
    "colab": {
     "base_uri": "https://localhost:8080/"
    },
    "executionInfo": {
     "elapsed": 7063,
     "status": "ok",
     "timestamp": 1633484416154,
     "user": {
      "displayName": "Jonhatan Herney Bernal Salinas",
      "photoUrl": "https://lh3.googleusercontent.com/a-/AOh14GiKhXNQ_goIeesq2w4kv4vwiz7BZTUIiIDZFS6iHA=s64",
      "userId": "11704227221814557955"
     },
     "user_tz": 300
    },
    "id": "c2c1c5d1",
    "outputId": "f4ef079e-e482-4efe-8ca2-6a0f7736e6b1"
   },
   "outputs": [
    {
     "name": "stdout",
     "output_type": "stream",
     "text": [
      "Idx, Name ID, ID from\n",
      "\n",
      "0, LEDA  165630, SIMBAD\n",
      "23, ESO 362-18, SIMBAD\n",
      "100, 3C 334, NED\n",
      "182, ESO 323-77, SIMBAD\n",
      "341, NGC  7479, SIMBAD\n",
      "404, M  81, SIMBAD\n",
      "412, NGC  1241, SIMBAD\n",
      "413, NGC  3516, SIMBAD\n",
      "433, IRAS 15206+3342, SIMBAD\n",
      "454, LEDA 1487448, SIMBAD\n",
      "615, Mrk  937, SIMBAD\n",
      "628, ESO 297-18, SIMBAD\n",
      "648, IC  450, SIMBAD\n",
      "794, Mrk  622, SIMBAD\n",
      "862, WISEA J035734.06-053719.6, NED\n",
      "1055, 2MASS J21035875-0728025, SIMBAD\n",
      "1115, IRAS 15480-0344, SIMBAD\n",
      "1415, Mrk  471, SIMBAD\n",
      "1589, 2MASS J00105486+0014510, SIMBAD\n",
      "1592, WISEA J005439.78+155447.2, NED\n",
      "1871, LEDA  166692, SIMBAD\n",
      "2267, NGC  4992, SIMBAD\n",
      "2624, 3C 295, SIMBAD\n",
      "2851, LEDA    3237, SIMBAD\n",
      "2852, Mrk  478, SIMBAD\n",
      "2949, NGC  1125, SIMBAD\n",
      "2966, Mrk  279, SIMBAD\n",
      "2988, Mrk 1502, SIMBAD\n",
      "2989, PB  3894, SIMBAD\n",
      "2994, 3C 098, NED\n",
      "3594, NGC  2992, SIMBAD\n",
      "3664, NGC  2110, SIMBAD\n",
      "3710, UGC  3351, SIMBAD\n",
      "3768, NGC   788, SIMBAD\n",
      "3772, NGC  4235, SIMBAD\n",
      "3773, NGC  6860, SIMBAD\n",
      "3844, Mrk  520, SIMBAD\n",
      "3884, MCG+04-48-002, SIMBAD\n",
      "4057, ICRF J145907.5+714019, SIMBAD\n",
      "4137, 2E  2503, SIMBAD\n",
      "4143, MCG+00-29-023, SIMBAD\n",
      "4280, Z 218-7, SIMBAD\n",
      "4435, Mrk  463E, SIMBAD\n",
      "4593, LEDA   27453, SIMBAD\n",
      "4596, IRAS 07598+6508, SIMBAD\n",
      "4608, NGC  4151, SIMBAD\n",
      "4611, NGC  1365, SIMBAD\n",
      "4656, 2XMM J101756.8+390526, SIMBAD\n",
      "4660, 3C  84, SIMBAD\n",
      "4674, ESO 141-55, SIMBAD\n",
      "4686, MCG+10-17-021, SIMBAD\n",
      "4689, Mrk  509, SIMBAD\n",
      "4691, NGC  7591, SIMBAD\n",
      "4729, Mrk  493, SIMBAD\n",
      "4730, Mrk 1239, SIMBAD\n",
      "4733, Mrk  231, SIMBAD\n",
      "4741, NGC  3079, SIMBAD\n",
      "4775, NGC  4355, SIMBAD\n",
      "4799, IRAS 13342+3932, SIMBAD\n",
      "4817, WISEA J165939.77+183436.7, NED\n",
      "4896, Mrk  876, SIMBAD\n",
      "4903, MCG+13-07-002, SIMBAD\n",
      "4919, NGC   253, SIMBAD\n",
      "4925, 3C 286, SIMBAD\n",
      "4927, NGC  3982, SIMBAD\n",
      "4928, ICRF J182931.7+484446, SIMBAD\n",
      "4931, ESO 428-14, SIMBAD\n",
      "4932, NGC  5728, SIMBAD\n",
      "4933, 2MASX J00535615-7038045, SIMBAD\n",
      "5392, UGC  1841, SIMBAD\n",
      "5414, LEDA    1790, SIMBAD\n",
      "5415, Ton  951, SIMBAD\n",
      "5417, NGC  4748, SIMBAD\n",
      "5419, FAIRALL 0049, NED\n",
      "5421, NGC  3281, SIMBAD\n",
      "5422, NGC  5995, SIMBAD\n",
      "5435, WISEA J130005.34+163214.8, NED\n",
      "5437, 2MASX J18334627+4727027, SIMBAD\n",
      "5438, 2E   437, SIMBAD\n",
      "5459, Mrk  877, SIMBAD\n",
      "5617, 3C 033, NED\n",
      "5618, NGC  3393, SIMBAD\n",
      "5621, IC 1816, SIMBAD\n",
      "5670, Mrk 1506, SIMBAD\n",
      "5722, Mrk 1014, SIMBAD\n",
      "5727, Mrk  771, SIMBAD\n",
      "5729, Mrk  304, SIMBAD\n",
      "5730, Mrk 1513, SIMBAD\n",
      "5733, 2MASS J14294306+4747262, SIMBAD\n",
      "5827, 2MASX J10181928+3722419, SIMBAD\n",
      "5836, 2MASX J14323249+3406257, SIMBAD\n",
      "5875, Mrk 1383, SIMBAD\n",
      "5959, SDSS J040208.86-050642.0, SIMBAD\n",
      "5968, 3C 452, SIMBAD\n",
      "6017, MCG-03-34-064, SIMBAD\n",
      "6018, ESO 434-40, SIMBAD\n",
      "6498, 4C 13.41, SIMBAD\n",
      "6805, NGC  4593, SIMBAD\n",
      "6821, NGC   931, SIMBAD\n",
      "6824, 2MASX J21564950-0745325, SIMBAD\n",
      "6942, 2MASS J13234951+6541480, SIMBAD\n",
      "6949, IC 3078, SIMBAD\n",
      "7084, LEDA   29208, SIMBAD\n",
      "7369, ICRF J134733.3+121724, SIMBAD\n",
      "7479, NGC  7743, SIMBAD\n",
      "7494, LEDA   90429, SIMBAD\n",
      "7495, LEDA   70560, SIMBAD\n",
      "7538, LEDA   52314, SIMBAD\n",
      "7624, M  94, SIMBAD\n",
      "7698, ESO 323-32, SIMBAD\n",
      "7797, Mrk  463, SIMBAD\n",
      "7812, NGC  4388, SIMBAD\n",
      "7813, M  88, SIMBAD\n",
      "7817, NGC  5033, SIMBAD\n",
      "8035, ESO  33-2, SIMBAD\n",
      "8036, LEDA   90054, SIMBAD\n",
      "8075, WISEA J124819.76+662142.6, NED\n",
      "8130, Mrk  334, SIMBAD\n",
      "8133, Mrk  273, SIMBAD\n",
      "8175, 2MASX J08584172+1041223, SIMBAD\n",
      "8266, 2MASSI J0918486+211717, SIMBAD\n",
      "8323, ESO 420-13, SIMBAD\n",
      "8333, IRAS F08216+3009, SIMBAD\n",
      "8416, Mrk  817, SIMBAD\n",
      "8418, ICRF J130533.0-103319, SIMBAD\n",
      "8526, NGC   612, SIMBAD\n",
      "8527, NGC  1058, SIMBAD\n",
      "8558, 4C 23.43, SIMBAD\n",
      "8562, NGC  6890, SIMBAD\n",
      "8594, NGC  2622, SIMBAD\n",
      "8613, IC 4518A, SIMBAD\n",
      "8622, PG 0953+414, SIMBAD\n",
      "8624, Ton  1565, SIMBAD\n",
      "8632, Ton  1388, SIMBAD\n",
      "8670, 2MASS J14025120+2631175, SIMBAD\n",
      "8723, IRAS 17002+5153, SIMBAD\n",
      "8847, IRAS 15091-2107, SIMBAD\n",
      "8933, ESO  12-21, SIMBAD\n",
      "9017, UGC 12138, SIMBAD\n",
      "9077, LEDA   75476, SIMBAD\n",
      "9150, SDSS J231812.99-004126.1, SIMBAD\n",
      "9186, Mrk    9, SIMBAD\n",
      "9250, NGC  5135, SIMBAD\n",
      "9254, ESO 140-43, SIMBAD\n",
      "9255, NGC  7410, SIMBAD\n",
      "9277, ESO 198-24, SIMBAD\n",
      "9470, IC 1065, SIMBAD\n",
      "9472, Mrk  335, SIMBAD\n",
      "9514, NGC   513, SIMBAD\n",
      "9522, NGC  1204, SIMBAD\n",
      "9533, ESO 383-35, SIMBAD\n",
      "9562, Mrk  618, SIMBAD\n",
      "9566, Mrk  863, SIMBAD\n",
      "9568, NGC  7682, SIMBAD\n",
      "9603, NGC  1320, SIMBAD\n",
      "9608, UGC  3601, SIMBAD\n",
      "9699, NGC  1667, SIMBAD\n",
      "9776, M  84, SIMBAD\n",
      "9781, NGC  4074, SIMBAD\n",
      "9786, LEDA 1365424, SIMBAD\n",
      "9788, NGC  3735, SIMBAD\n",
      "9878, MCG-01-24-012, SIMBAD\n",
      "9897, ICRF J015002.6-072548, SIMBAD\n",
      "9900, NGC  2639, SIMBAD\n",
      "9902, Mrk 1457, SIMBAD\n",
      "9926, Mrk  841, SIMBAD\n",
      "10264, NGC  5990, SIMBAD\n",
      "10272, ESO 445-50, SIMBAD\n",
      "10434, Mrk 1298, SIMBAD\n",
      "10449, Mrk 1095, SIMBAD\n",
      "10461, M  49, SIMBAD\n",
      "10466, Z 121-75, SIMBAD\n",
      "10491, IRAS 04385-0828, SIMBAD\n",
      "10493, NGC  4253, SIMBAD\n",
      "10496, NGC  4602, SIMBAD\n",
      "10516, NGC   185, SIMBAD\n",
      "10538, NGC  2685, SIMBAD\n",
      "10539, NGC  3081, SIMBAD\n",
      "10541, NGC  2273, SIMBAD\n",
      "10542, NGC  4051, SIMBAD\n",
      "10544, NGC  6221, SIMBAD\n",
      "10547, NGC  4725, SIMBAD\n",
      "10549, NGC  7172, SIMBAD\n",
      "10550, NGC  6814, SIMBAD\n",
      "10587, Mrk  705, SIMBAD\n",
      "10603, ESO 263-13, SIMBAD\n",
      "10606, NGC  3998, SIMBAD\n",
      "10620, NGC  4941, SIMBAD\n",
      "10628, NGC  4395, SIMBAD\n",
      "10636, 3C 459, NED\n",
      "10637, LEDA   68751, SIMBAD\n",
      "10639, NGC  6300, SIMBAD\n",
      "10640, ESO 103-35, SIMBAD\n",
      "10653, Mrk   79, SIMBAD\n",
      "10654, Mrk  573, SIMBAD\n",
      "10667, NGC  5548, SIMBAD\n",
      "10699, IC  486, SIMBAD\n",
      "10742, IC 2560, SIMBAD\n",
      "10755, NGC   424, SIMBAD\n",
      "10861, LEDA   89032, SIMBAD\n",
      "10907, NGC  6240, SIMBAD\n",
      "10922, NGC   262, SIMBAD\n",
      "10952, NGC  7679, SIMBAD\n",
      "11029, NGC  7592, SIMBAD\n",
      "11038, IC 5298, SIMBAD\n",
      "11075, NGC  4507, SIMBAD\n",
      "11076, NGC  4477, SIMBAD\n",
      "11077, UGC  6728, SIMBAD\n",
      "11078, NGC  7319, SIMBAD\n",
      "11121, ESO   5-4, SIMBAD\n",
      "11469, NGC  6951, SIMBAD\n",
      "11683, NGC  1142, SIMBAD\n",
      "11685, ESO 253-3, SIMBAD\n",
      "11800, Mrk 1073, SIMBAD\n",
      "11895, M 106, SIMBAD\n",
      "11914, NGC  5252, SIMBAD\n",
      "11918, ESO 339-11, SIMBAD\n",
      "11919, UGC 12282, SIMBAD\n",
      "11940, LEDA   90196, SIMBAD\n",
      "11941, NGC  4945, SIMBAD\n",
      "11962, NGC  3976, SIMBAD\n",
      "11963, NGC  5273, SIMBAD\n",
      "11965, NGC  5899, SIMBAD\n",
      "11966, NGC  4939, SIMBAD\n",
      "12024, NGC    34, SIMBAD\n",
      "12025, NGC  7674, SIMBAD\n",
      "12026, UGC  5101, SIMBAD\n",
      "12029, UGC  7064, SIMBAD\n",
      "12030, NGC  7469, SIMBAD\n",
      "12102, MCG-02-08-039, SIMBAD\n",
      "12120, ESO 417-6, SIMBAD\n",
      "12121, NGC  1194, SIMBAD\n",
      "12124, Mrk    3, SIMBAD\n",
      "12182, IC 4553, SIMBAD\n",
      "12183, IC 5063, SIMBAD\n",
      "12322, 3C 196, SIMBAD\n",
      "12417, NGC  1808, SIMBAD\n",
      "12556, ESO 113-45, SIMBAD\n",
      "12557, NGC  3783, SIMBAD\n",
      "12592, NGC  7314, SIMBAD\n",
      "12915, ICRF J054236.1+495107, SIMBAD\n",
      "12943, Mrk  352, SIMBAD\n",
      "13542, 3C  22.0, SIMBAD\n",
      "13637, LEDA  165618, SIMBAD\n",
      "14485, IRAS 11119+3257, SIMBAD\n",
      "15769, 2MASS J15011320+2329082, SIMBAD\n",
      "16933, NGC  3367, SIMBAD\n",
      "17350, NGC  4968, SIMBAD\n",
      "17385, NGC   660, SIMBAD\n",
      "17418, Z  41-20, SIMBAD\n",
      "17851, M  58, SIMBAD\n",
      "18258, NGC  6926, SIMBAD\n",
      "18261, NGC   973, SIMBAD\n",
      "18542, NGC  4138, SIMBAD\n",
      "18547, NGC  5395, SIMBAD\n",
      "18554, NGC  7603, SIMBAD\n",
      "18555, NGC  7213, SIMBAD\n",
      "18557, UGC  1395, SIMBAD\n",
      "18597, NGC   863, SIMBAD\n",
      "18633, 2MASS J08105865+7602424, SIMBAD\n",
      "18642, ICRF J052109.8+163822, SIMBAD\n",
      "18645, PG 0947+396, NED\n",
      "18662, ESO 121-28, SIMBAD\n",
      "18684, Ton  182, SIMBAD\n",
      "18686, 2MASX J14510879+2709272, SIMBAD\n",
      "18704, NGC  1566, SIMBAD\n",
      "18705, Mrk  704, SIMBAD\n",
      "18728, 7C 1821+6419, SIMBAD\n",
      "18839, NGC  4922, SIMBAD\n",
      "19112, WISEA J151653.23+190048.3, NED\n",
      "19327, IC 3639, SIMBAD\n",
      "19332, Mrk  609, SIMBAD\n",
      "19726, ESO 602-25, SIMBAD\n",
      "19753, NGC  1358, SIMBAD\n",
      "19756, NGC  3147, SIMBAD\n",
      "19762, NGC  1056, SIMBAD\n",
      "19787, ESO 511-30, SIMBAD\n",
      "19864, SDSS J032845.99+011150.8, SIMBAD\n",
      "20093, NGC  5643, SIMBAD\n",
      "20224, SHOC 198, NED\n",
      "20558, 3C 343.1, SIMBAD\n",
      "20674, SBS 1626+554, NED\n",
      "20882, 2MASX J08035923+2345201, SIMBAD\n",
      "20907, NGC  3660, SIMBAD\n",
      "21104, LEDA   24384, SIMBAD\n",
      "21180, LEDA 2816291, SIMBAD\n",
      "21482, WISEA J135356.02+664800.5, NED\n",
      "21549, SDSS J143417.15+020742.3, SIMBAD\n",
      "22145, 2MASX J22041914+0333511, SIMBAD\n",
      "23575, SWIFT J0624.1-6059, SIMBAD\n",
      "24249, WISEA J114540.46-182714.8, NED\n",
      "24250, Mrk  926, SIMBAD\n",
      "26684, WISEA J000703.61+155423.7, NED\n",
      "26685, PG 1048+342, NED\n",
      "26698, LEDA   45656, SIMBAD\n",
      "26701, LEDA  101275, SIMBAD\n",
      "28360, 2MASX J14254352+3345275, SIMBAD\n",
      "28430, 2MASX J14304627+3513133, SIMBAD\n",
      "28431, 2MASX J14305363+3458364, SIMBAD\n",
      "29397, 2MASS J16370022+2221140, SIMBAD\n",
      "30120, 2XMM J094046.2+033929, SIMBAD\n",
      "30579, 2MASS J10520202+5633010, SIMBAD\n",
      "30977, 2XMM J094506.4+035552, SIMBAD\n",
      "30980, 2MASX J10032788+5541535, SIMBAD\n",
      "31365, 2XMM J115657.8+550820, SIMBAD\n",
      "31633, 2MASS J10272497+1219196, SIMBAD\n",
      "33900, [LGE2006] 12, SIMBAD\n"
     ]
    },
    {
     "name": "stdout",
     "output_type": "stream",
     "text": [
      "34207, NGC  5347, SIMBAD\n",
      "34227, MCG-03-58-007, SIMBAD\n",
      "34260, 2MASX J12390630-1610472, SIMBAD\n",
      "34300, IRAS 11215-2806, SIMBAD\n",
      "34352, Mrk  883, SIMBAD\n",
      "34560, IRAS F00183-7111, SIMBAD\n",
      "34567, LEDA   37102, SIMBAD\n",
      "34770, 2MASX J00215355-7910077, SIMBAD\n",
      "34892, SDSS J120424.54+192509.7, SIMBAD\n",
      "35629, 2MASS J10434845+5811477, SIMBAD\n",
      "36058, 2XMM J142930.6+425148, SIMBAD\n",
      "36225, SDSS J161647.32+371621.2, SIMBAD\n",
      "36785, IRAS 03450+0055, SIMBAD\n",
      "36861, WISEA J145331.51+135358.6, NED\n",
      "36894, 3C 265.0, SIMBAD\n",
      "37240, LEDA   50824, SIMBAD\n",
      "37386, LEDA 2817285, SIMBAD\n",
      "37389, NGC  6810, SIMBAD\n",
      "37402, ICRF J090933.4+425346, SIMBAD\n",
      "37419, ESO 209-12, SIMBAD\n",
      "37553, LEDA   17155, SIMBAD\n",
      "38016, ESO 506-27, SIMBAD\n",
      "38204, LEDA  178130, SIMBAD\n",
      "38436, WISEA J183835.40+355220.1, NED\n",
      "38493, WISEA J134133.37-002432.1, NED\n",
      "38614, 3C 343, SIMBAD\n",
      "38628, LEDA 3095998, SIMBAD\n",
      "38637, Mrk   22, SIMBAD\n",
      "38638, Mrk 1066, SIMBAD\n",
      "39136, 2XMM J135315.8+634546, SIMBAD\n",
      "39137, 2E  2389, SIMBAD\n",
      "41589, WISEA J010835.15+214818.5, NED\n",
      "41735, 3C 234.0, SIMBAD\n",
      "41915, WISEA J105144.24+353930.7, NED\n",
      "42045, 2MASX J12135486+0247529, SIMBAD\n",
      "42459, LEDA   90127, SIMBAD\n",
      "42638, MCG+00-25-010, SIMBAD\n",
      "42770, UGC 11680, SIMBAD\n",
      "42772, WISEA J222554.26+195836.9, NED\n",
      "43648, ESO 148-2, SIMBAD\n",
      "\n",
      "Total objects with lines emission of NeII or NeIII or NeV in IR  found:  347\n",
      "Execution Time(seg): 1093.3780000209808\n",
      "Execution Time(min): 18.222966667016347\n",
      "Execution Time(hrs): 0.30371611111693914\n"
     ]
    }
   ],
   "source": [
    "Ne_IR_obj = [] #List of objects with Ne-IR data\n",
    "\n",
    "#We create and open a file .csv to write the list of objects names with Ne_IR data\n",
    "outfile = open(path+'Obj_Ne-IR_'+today.strftime('%b_%d_%Y')+'.csv','w')\n",
    "writer = csv.writer(outfile) # create the csv writer\n",
    "header = ['Name_Id','id_from','RA','DEC','otype_txt','redshift','rvz_type','otypes','SMB_sample']#Creating header\n",
    "writer.writerow(header) #Writing the header\n",
    "\n",
    "print('Idx, Name ID, ID from\\n')\n",
    "\n",
    "start = time.time()\n",
    "for ind, id_smb in enumerate(obj_name_SMB):\n",
    "    try:\n",
    "        phot_t = Ned.get_table(id_smb, table='photometry') #We get the Photometry Table using SIMBAD names\n",
    "        Fr=phot_t['Frequency'] #We get the Frequency column from the table\n",
    "        if Ne_IR_Fq[0] in Fr or Ne_IR_Fq[1] in Fr or Ne_IR_Fq[2] in Fr or Ne_IR_Fq[3] in Fr or Ne_IR_Fq[4] in Fr:\n",
    "            print(f\"{ind}, {id_smb}, SIMBAD\")\n",
    "            #Writing the object names\n",
    "            outstring = [id_smb,'SIMBAD',simbad_sample_Sy[\"ra\"][ind],simbad_sample_Sy[\"dec\"][ind],\n",
    "                         simbad_sample_Sy[\"otype_txt\"][ind],simbad_sample_Sy[\"rvz_redshift\"][ind],\n",
    "                         simbad_sample_Sy[\"rvz_type\"][ind],simbad_sample_Sy[\"otypes\"][ind],ind]\n",
    "            writer.writerow(outstring) #write the data\n",
    "            Ne_IR_obj.append(id_smb) #Save the object name in the list Ne_IR_obj\n",
    "    except:\n",
    "        try:\n",
    "            result_t = Ned.query_region(cat_smb_sample[ind],radius=0.0005 * u.deg) #For obtaining the data from NED for each sample \n",
    "            id_ned = result_t[\"Object Name\"] \n",
    "            phot_t = Ned.get_table(id_ned, table='photometry')\n",
    "            Fr=phot_t['Frequency']\n",
    "            if Ne_IR_Fq[0] in Fr or Ne_IR_Fq[1] in Fr or Ne_IR_Fq[2] in Fr or Ne_IR_Fq[3] in Fr or Ne_IR_Fq[4] in Fr:\n",
    "                print(f\"{ind}, {id_ned[0]}, NED\")\n",
    "                #Writing the object names\n",
    "                outstring = [id_ned[0],'NED',simbad_sample_Sy[\"ra\"][ind],simbad_sample_Sy[\"dec\"][ind],\n",
    "                             simbad_sample_Sy[\"otype_txt\"][ind],simbad_sample_Sy[\"rvz_redshift\"][ind],\n",
    "                             simbad_sample_Sy[\"rvz_type\"][ind],simbad_sample_Sy[\"otypes\"][ind],ind]\n",
    "                writer.writerow(outstring) #write the data\n",
    "                Ne_IR_obj.append(id_ned[0]) #Save the object name in the list Ne_IR_obj\n",
    "        except:\n",
    "            pass\n",
    "end = time.time()\n",
    "\n",
    "#we close the files with objects names\n",
    "outfile.close()\n",
    "\n",
    "print('\\nTotal objects with lines emission of NeII or NeIII or NeV in IR  found: ',len(Ne_IR_obj))\n",
    "print('Execution Time(seg): ' + str(end - start))\n",
    "print('Execution Time(min): ' + str((end - start)/60))\n",
    "print('Execution Time(hrs): ' + str((end - start)/3600))"
   ]
  },
  {
   "cell_type": "markdown",
   "id": "31e54592",
   "metadata": {},
   "source": [
    "Las celdas a continuación son para pruebas:"
   ]
  },
  {
   "cell_type": "code",
   "execution_count": 18,
   "id": "c3df0948",
   "metadata": {},
   "outputs": [],
   "source": [
    "x=862"
   ]
  },
  {
   "cell_type": "code",
   "execution_count": 19,
   "id": "b5937d7e",
   "metadata": {},
   "outputs": [
    {
     "data": {
      "text/html": [
       "<i>Row index=862</i>\n",
       "<table id=\"table2700041096928\">\n",
       "<thead><tr><th>main_id</th><th>ra</th><th>dec</th><th>coo_bibcode</th><th>otype_txt</th><th>rvz_bibcode</th><th>rvz_radvel</th><th>rvz_redshift</th><th>rvz_type</th><th>nbref</th><th>otypes</th></tr></thead>\n",
       "<thead><tr><th></th><th>deg</th><th>deg</th><th></th><th></th><th></th><th>km / s</th><th></th><th></th><th></th><th></th></tr></thead>\n",
       "<thead><tr><th>object</th><th>float64</th><th>float64</th><th>object</th><th>object</th><th>object</th><th>float64</th><th>float64</th><th>str1</th><th>int32</th><th>object</th></tr></thead>\n",
       "<tr><td>[VV2003c] J035734.0-053719</td><td>59.39166666666667</td><td>-5.622138888888888</td><td>2007ApJS..172..634A</td><td>Sy1</td><td>2015ApJS..219...12A</td><td>54960.58310877802</td><td>0.20373</td><td>z</td><td>7</td><td>Sy1|AGN</td></tr>\n",
       "</table>"
      ],
      "text/plain": [
       "<Row index=862>\n",
       "         main_id                   ra               dec             coo_bibcode     otype_txt     rvz_bibcode         rvz_radvel    rvz_redshift rvz_type nbref  otypes\n",
       "                                  deg               deg                                                                 km / s                                         \n",
       "          object                float64           float64              object         object         object            float64        float64      str1   int32  object\n",
       "-------------------------- ----------------- ------------------ ------------------- --------- ------------------- ----------------- ------------ -------- ----- -------\n",
       "[VV2003c] J035734.0-053719 59.39166666666667 -5.622138888888888 2007ApJS..172..634A       Sy1 2015ApJS..219...12A 54960.58310877802      0.20373        z     7 Sy1|AGN"
      ]
     },
     "execution_count": 19,
     "metadata": {},
     "output_type": "execute_result"
    }
   ],
   "source": [
    "simbad_sample_Sy[x]"
   ]
  },
  {
   "cell_type": "code",
   "execution_count": 17,
   "id": "5d33651b",
   "metadata": {},
   "outputs": [
    {
     "data": {
      "text/plain": [
       "['[VV2006c] J164424.0+255242', 'SIMBAD', 251.1001487379708, 25.8784356100449]"
      ]
     },
     "execution_count": 17,
     "metadata": {},
     "output_type": "execute_result"
    }
   ],
   "source": [
    "outstring = [id_smb,'SIMBAD',simbad_sample_Sy[\"ra\"][ind],simbad_sample_Sy[\"dec\"][ind]]\n",
    "outstring"
   ]
  },
  {
   "cell_type": "markdown",
   "id": "ae800666",
   "metadata": {},
   "source": [
    "### Watermark"
   ]
  },
  {
   "cell_type": "code",
   "execution_count": 10,
   "id": "DvHi0rgEJPcP",
   "metadata": {
    "colab": {
     "base_uri": "https://localhost:8080/"
    },
    "executionInfo": {
     "elapsed": 234,
     "status": "ok",
     "timestamp": 1633483845986,
     "user": {
      "displayName": "Jonhatan Herney Bernal Salinas",
      "photoUrl": "https://lh3.googleusercontent.com/a-/AOh14GiKhXNQ_goIeesq2w4kv4vwiz7BZTUIiIDZFS6iHA=s64",
      "userId": "11704227221814557955"
     },
     "user_tz": 300
    },
    "id": "DvHi0rgEJPcP",
    "outputId": "5e6d6024-2063-4196-8cca-9ce4c808d317"
   },
   "outputs": [
    {
     "name": "stdout",
     "output_type": "stream",
     "text": [
      "Author: Jonhatan Bernal\n",
      "\n",
      "Python implementation: CPython\n",
      "Python version       : 3.8.8\n",
      "IPython version      : 7.27.0\n",
      "\n",
      "Compiler    : MSC v.1928 64 bit (AMD64)\n",
      "OS          : Windows\n",
      "Release     : 10\n",
      "Machine     : AMD64\n",
      "Processor   : AMD64 Family 21 Model 2 Stepping 0, AuthenticAMD\n",
      "CPU cores   : 8\n",
      "Architecture: 64bit\n",
      "\n",
      "Specific Python packages\n",
      "astropy: 4.3.1\n",
      "\n",
      "csv    : 1.0\n",
      "astropy: 4.3.1\n",
      "pyvo   : 1.1\n",
      "numpy  : 1.20.3\n",
      "\n",
      "Watermark: 2.2.0\n",
      "\n"
     ]
    }
   ],
   "source": [
    "%load_ext watermark\n",
    "%watermark -a \"Jonhatan Bernal\" -d -v -m\n",
    "print('Specific Python packages')\n",
    "%watermark -iv -w --packages astropy"
   ]
  },
  {
   "cell_type": "code",
   "execution_count": null,
   "id": "78f15cfb",
   "metadata": {},
   "outputs": [],
   "source": []
  }
 ],
 "metadata": {
  "colab": {
   "name": "Obtain_Samples_AGNs_Ne_IR.ipynb",
   "provenance": []
  },
  "kernelspec": {
   "display_name": "Python 3 (ipykernel)",
   "language": "python",
   "name": "python3"
  },
  "language_info": {
   "codemirror_mode": {
    "name": "ipython",
    "version": 3
   },
   "file_extension": ".py",
   "mimetype": "text/x-python",
   "name": "python",
   "nbconvert_exporter": "python",
   "pygments_lexer": "ipython3",
   "version": "3.9.7"
  }
 },
 "nbformat": 4,
 "nbformat_minor": 5
}
