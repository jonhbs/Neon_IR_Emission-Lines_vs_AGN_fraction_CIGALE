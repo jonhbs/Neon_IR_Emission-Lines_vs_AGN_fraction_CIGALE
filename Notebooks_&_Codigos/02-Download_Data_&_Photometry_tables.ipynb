{
 "cells": [
  {
   "cell_type": "code",
   "execution_count": 105,
   "id": "654853eb",
   "metadata": {},
   "outputs": [],
   "source": [
    "from datetime import date\n",
    "import time\n",
    "\n",
    "import pyvo\n",
    "import numpy as np\n",
    "from astroquery.ned import Ned\n",
    "from astroquery.simbad import Simbad\n",
    "\n",
    "import astropy.units as u\n",
    "from astropy.table import hstack\n",
    "from astropy.coordinates import SkyCoord"
   ]
  },
  {
   "cell_type": "code",
   "execution_count": 84,
   "id": "b68d3bd0",
   "metadata": {},
   "outputs": [],
   "source": [
    "path='../Datos/'"
   ]
  },
  {
   "cell_type": "code",
   "execution_count": 101,
   "id": "09e4af85",
   "metadata": {},
   "outputs": [],
   "source": [
    "Ne_IR_obj=[]\n",
    "\n",
    "with open(path+'Obj_with_Ne-IR_Oct_12_2021.txt') as datos:\n",
    "    for line in datos:\n",
    "        inner_list = line.split('\\n')\n",
    "        Ne_IR_obj.append(inner_list[0])\n",
    "        \n",
    "del Ne_IR_obj[0:2] #Delete the first to lines (txt header '#')"
   ]
  },
  {
   "cell_type": "code",
   "execution_count": 102,
   "id": "6ec56a22",
   "metadata": {},
   "outputs": [
    {
     "data": {
      "text/plain": [
       "347"
      ]
     },
     "execution_count": 102,
     "metadata": {},
     "output_type": "execute_result"
    }
   ],
   "source": [
    "len(Ne_IR_obj)"
   ]
  },
  {
   "cell_type": "code",
   "execution_count": 113,
   "id": "474b9ce8",
   "metadata": {},
   "outputs": [
    {
     "data": {
      "text/html": [
       "<div><i>Table length=1</i>\n",
       "<table id=\"table2458654363712\" class=\"table-striped table-bordered table-condensed\">\n",
       "<thead><tr><th>No.</th><th>Object Name</th><th>RA</th><th>DEC</th><th>Type</th><th>Velocity</th><th>Redshift</th><th>Redshift Flag</th><th>Magnitude and Filter</th><th>Separation</th><th>References</th><th>Notes</th><th>Photometry Points</th><th>Positions</th><th>Redshift Points</th><th>Diameter Points</th><th>Associations</th></tr></thead>\n",
       "<thead><tr><th></th><th></th><th>degrees</th><th>degrees</th><th></th><th>km / s</th><th></th><th></th><th></th><th>arcmin</th><th></th><th></th><th></th><th></th><th></th><th></th><th></th></tr></thead>\n",
       "<thead><tr><th>int32</th><th>str30</th><th>float64</th><th>float64</th><th>object</th><th>float64</th><th>float64</th><th>object</th><th>object</th><th>float64</th><th>int32</th><th>int32</th><th>int32</th><th>int32</th><th>int32</th><th>int32</th><th>int32</th></tr></thead>\n",
       "<tr><td>1</td><td>ESO 141- G 055</td><td>290.3089</td><td>-58.67031</td><td>G</td><td>11125.0</td><td>0.037109</td><td></td><td>14.32</td><td>--</td><td>321</td><td>8</td><td>163</td><td>30</td><td>21</td><td>14</td><td>0</td></tr>\n",
       "</table></div>"
      ],
      "text/plain": [
       "<Table length=1>\n",
       " No.   Object Name       RA     ... Redshift Points Diameter Points Associations\n",
       "                      degrees   ...                                             \n",
       "int32     str30       float64   ...      int32           int32         int32    \n",
       "----- -------------- ---------- ... --------------- --------------- ------------\n",
       "    1 ESO 141- G 055   290.3089 ...              21              14            0"
      ]
     },
     "execution_count": 113,
     "metadata": {},
     "output_type": "execute_result"
    }
   ],
   "source": [
    "x=50\n",
    "result_table_ned = Ned.query_object(Ne_IR_obj[x])\n",
    "result_table_ned"
   ]
  },
  {
   "cell_type": "code",
   "execution_count": 114,
   "id": "3ca1d247",
   "metadata": {},
   "outputs": [
    {
     "data": {
      "text/html": [
       "<div><i>Table length=1</i>\n",
       "<table id=\"table2458654480848\" class=\"table-striped table-bordered table-condensed\">\n",
       "<thead><tr><th>MAIN_ID</th><th>RA</th><th>DEC</th><th>RA_PREC</th><th>DEC_PREC</th><th>COO_ERR_MAJA</th><th>COO_ERR_MINA</th><th>COO_ERR_ANGLE</th><th>COO_QUAL</th><th>COO_WAVELENGTH</th><th>COO_BIBCODE</th><th>SCRIPT_NUMBER_ID</th></tr></thead>\n",
       "<thead><tr><th></th><th>&quot;h:m:s&quot;</th><th>&quot;d:m:s&quot;</th><th></th><th></th><th>mas</th><th>mas</th><th>deg</th><th></th><th></th><th></th><th></th></tr></thead>\n",
       "<thead><tr><th>object</th><th>str13</th><th>str13</th><th>int16</th><th>int16</th><th>float32</th><th>float32</th><th>int16</th><th>str1</th><th>str1</th><th>object</th><th>int32</th></tr></thead>\n",
       "<tr><td>ESO 141-55</td><td>19 21 14.1471</td><td>-58 40 12.981</td><td>14</td><td>14</td><td>0.025</td><td>0.025</td><td>90</td><td>A</td><td>O</td><td>2018yCat.1345....0G</td><td>1</td></tr>\n",
       "</table></div>"
      ],
      "text/plain": [
       "<Table length=1>\n",
       " MAIN_ID         RA           DEC      ...     COO_BIBCODE     SCRIPT_NUMBER_ID\n",
       "              \"h:m:s\"       \"d:m:s\"    ...                                     \n",
       "  object       str13         str13     ...        object            int32      \n",
       "---------- ------------- ------------- ... ------------------- ----------------\n",
       "ESO 141-55 19 21 14.1471 -58 40 12.981 ... 2018yCat.1345....0G                1"
      ]
     },
     "execution_count": 114,
     "metadata": {},
     "output_type": "execute_result"
    }
   ],
   "source": [
    "result_table_smb = Simbad.query_object(Ne_IR_obj[x])\n",
    "result_table_smb"
   ]
  },
  {
   "cell_type": "code",
   "execution_count": 90,
   "id": "cdbb324e",
   "metadata": {},
   "outputs": [
    {
     "name": "stdout",
     "output_type": "stream",
     "text": [
      "Author: Jonhatan Bernal\n",
      "\n",
      "Python implementation: CPython\n",
      "Python version       : 3.8.8\n",
      "IPython version      : 7.27.0\n",
      "\n",
      "Compiler    : MSC v.1928 64 bit (AMD64)\n",
      "OS          : Windows\n",
      "Release     : 10\n",
      "Machine     : AMD64\n",
      "Processor   : AMD64 Family 21 Model 2 Stepping 0, AuthenticAMD\n",
      "CPU cores   : 8\n",
      "Architecture: 64bit\n",
      "\n",
      "Specific Python packages\n",
      "astropy: 4.3.1\n",
      "\n",
      "astropy: 4.3.1\n",
      "pyvo   : 1.1\n",
      "numpy  : 1.20.3\n",
      "\n",
      "Watermark: 2.2.0\n",
      "\n"
     ]
    }
   ],
   "source": [
    "%load_ext watermark\n",
    "%watermark -a \"Jonhatan Bernal\" -d -v -m\n",
    "print('Specific Python packages')\n",
    "%watermark -iv -w --packages astropy"
   ]
  },
  {
   "cell_type": "code",
   "execution_count": null,
   "id": "389cc81a",
   "metadata": {},
   "outputs": [],
   "source": []
  }
 ],
 "metadata": {
  "kernelspec": {
   "display_name": "Python 3 (ipykernel)",
   "language": "python",
   "name": "python3"
  },
  "language_info": {
   "codemirror_mode": {
    "name": "ipython",
    "version": 3
   },
   "file_extension": ".py",
   "mimetype": "text/x-python",
   "name": "python",
   "nbconvert_exporter": "python",
   "pygments_lexer": "ipython3",
   "version": "3.8.8"
  }
 },
 "nbformat": 4,
 "nbformat_minor": 5
}
