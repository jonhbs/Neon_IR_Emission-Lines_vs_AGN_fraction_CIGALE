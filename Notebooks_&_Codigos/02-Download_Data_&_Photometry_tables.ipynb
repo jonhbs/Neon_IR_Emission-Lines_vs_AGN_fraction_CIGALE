{
 "cells": [
  {
   "cell_type": "code",
   "execution_count": 1,
   "id": "76149f5b",
   "metadata": {},
   "outputs": [],
   "source": [
    "from datetime import date\n",
    "import time\n",
    "\n",
    "import pyvo\n",
    "import numpy as np\n",
    "from astroquery.ned import Ned\n",
    "from astroquery.simbad import Simbad\n",
    "\n",
    "import astropy.units as u\n",
    "from astropy.table import hstack\n",
    "from astropy.coordinates import SkyCoord"
   ]
  },
  {
   "cell_type": "code",
   "execution_count": 2,
   "id": "ede8e086",
   "metadata": {},
   "outputs": [],
   "source": [
    "path='../Datos/'"
   ]
  },
  {
   "cell_type": "code",
   "execution_count": 3,
   "id": "8d29f37b",
   "metadata": {},
   "outputs": [],
   "source": [
    "Ne_IR_obj=[]\n",
    "\n",
    "with open(path+'Obj_with_Ne-IR_Oct_12_2021.txt') as datos:\n",
    "    for line in datos:\n",
    "        inner_list = line.split('\\n')\n",
    "        Ne_IR_obj.append(inner_list[0])\n",
    "        \n",
    "del Ne_IR_obj[0:2] #Delete the first to lines (txt header '#')"
   ]
  },
  {
   "cell_type": "code",
   "execution_count": 4,
   "id": "31a1e5fd",
   "metadata": {},
   "outputs": [
    {
     "data": {
      "text/plain": [
       "347"
      ]
     },
     "execution_count": 4,
     "metadata": {},
     "output_type": "execute_result"
    }
   ],
   "source": [
    "len(Ne_IR_obj)"
   ]
  },
  {
   "cell_type": "markdown",
   "id": "773b400b",
   "metadata": {},
   "source": [
    "Celdas para pruebas:"
   ]
  },
  {
   "cell_type": "code",
   "execution_count": 9,
   "id": "a635f0dc",
   "metadata": {},
   "outputs": [
    {
     "data": {
      "text/html": [
       "<div><i>Table length=1</i>\n",
       "<table id=\"table1666683870032\" class=\"table-striped table-bordered table-condensed\">\n",
       "<thead><tr><th>No.</th><th>Object Name</th><th>RA</th><th>DEC</th><th>Type</th><th>Velocity</th><th>Redshift</th><th>Redshift Flag</th><th>Magnitude and Filter</th><th>Separation</th><th>References</th><th>Notes</th><th>Photometry Points</th><th>Positions</th><th>Redshift Points</th><th>Diameter Points</th><th>Associations</th></tr></thead>\n",
       "<thead><tr><th></th><th></th><th>degrees</th><th>degrees</th><th></th><th>km / s</th><th></th><th></th><th></th><th>arcmin</th><th></th><th></th><th></th><th></th><th></th><th></th><th></th></tr></thead>\n",
       "<thead><tr><th>int32</th><th>str30</th><th>float64</th><th>float64</th><th>object</th><th>float64</th><th>float64</th><th>object</th><th>object</th><th>float64</th><th>int32</th><th>int32</th><th>int32</th><th>int32</th><th>int32</th><th>int32</th><th>int32</th></tr></thead>\n",
       "<tr><td>1</td><td>WISEA J140931.24+051131.6</td><td>212.38024</td><td>5.19203</td><td>G</td><td>79259.0</td><td>0.26438</td><td></td><td>18.8g</td><td>--</td><td>58</td><td>6</td><td>88</td><td>14</td><td>6</td><td>4</td><td>0</td></tr>\n",
       "</table></div>"
      ],
      "text/plain": [
       "<Table length=1>\n",
       " No.         Object Name            RA     ... Diameter Points Associations\n",
       "                                 degrees   ...                             \n",
       "int32           str30            float64   ...      int32         int32    \n",
       "----- ------------------------- ---------- ... --------------- ------------\n",
       "    1 WISEA J140931.24+051131.6  212.38024 ...               4            0"
      ]
     },
     "execution_count": 9,
     "metadata": {},
     "output_type": "execute_result"
    }
   ],
   "source": [
    "x=0\n",
    "result_table_ned = Ned.query_object(Ne_IR_obj[x])\n",
    "result_table_ned"
   ]
  },
  {
   "cell_type": "code",
   "execution_count": 10,
   "id": "5f48595a",
   "metadata": {},
   "outputs": [
    {
     "data": {
      "text/html": [
       "<div><i>Table length=1</i>\n",
       "<table id=\"table1666631324192\" class=\"table-striped table-bordered table-condensed\">\n",
       "<thead><tr><th>MAIN_ID</th><th>RA</th><th>DEC</th><th>RA_PREC</th><th>DEC_PREC</th><th>COO_ERR_MAJA</th><th>COO_ERR_MINA</th><th>COO_ERR_ANGLE</th><th>COO_QUAL</th><th>COO_WAVELENGTH</th><th>COO_BIBCODE</th><th>SCRIPT_NUMBER_ID</th></tr></thead>\n",
       "<thead><tr><th></th><th>&quot;h:m:s&quot;</th><th>&quot;d:m:s&quot;</th><th></th><th></th><th>mas</th><th>mas</th><th>deg</th><th></th><th></th><th></th><th></th></tr></thead>\n",
       "<thead><tr><th>object</th><th>str13</th><th>str13</th><th>int16</th><th>int16</th><th>float32</th><th>float32</th><th>int16</th><th>str1</th><th>str1</th><th>object</th><th>int32</th></tr></thead>\n",
       "<tr><td>LEDA  165630</td><td>14 09 31.257</td><td>+05 11 31.31</td><td>7</td><td>7</td><td>--</td><td>--</td><td>0</td><td>C</td><td>O</td><td>2009ApJS..182..543A</td><td>1</td></tr>\n",
       "</table></div>"
      ],
      "text/plain": [
       "<Table length=1>\n",
       "  MAIN_ID         RA          DEC      ...     COO_BIBCODE     SCRIPT_NUMBER_ID\n",
       "               \"h:m:s\"      \"d:m:s\"    ...                                     \n",
       "   object       str13        str13     ...        object            int32      \n",
       "------------ ------------ ------------ ... ------------------- ----------------\n",
       "LEDA  165630 14 09 31.257 +05 11 31.31 ... 2009ApJS..182..543A                1"
      ]
     },
     "execution_count": 10,
     "metadata": {},
     "output_type": "execute_result"
    }
   ],
   "source": [
    "result_table_smb = Simbad.query_object(Ne_IR_obj[x])\n",
    "result_table_smb"
   ]
  },
  {
   "cell_type": "code",
   "execution_count": 11,
   "id": "8a73a464",
   "metadata": {},
   "outputs": [
    {
     "data": {
      "text/plain": [
       "'LEDA  165630'"
      ]
     },
     "execution_count": 11,
     "metadata": {},
     "output_type": "execute_result"
    }
   ],
   "source": [
    "Ne_IR_obj[x]"
   ]
  },
  {
   "cell_type": "code",
   "execution_count": 8,
   "id": "3ff78b5c",
   "metadata": {},
   "outputs": [
    {
     "name": "stdout",
     "output_type": "stream",
     "text": [
      "Author: Jonhatan Bernal\n",
      "\n",
      "Python implementation: CPython\n",
      "Python version       : 3.8.8\n",
      "IPython version      : 7.27.0\n",
      "\n",
      "Compiler    : MSC v.1928 64 bit (AMD64)\n",
      "OS          : Windows\n",
      "Release     : 10\n",
      "Machine     : AMD64\n",
      "Processor   : AMD64 Family 21 Model 2 Stepping 0, AuthenticAMD\n",
      "CPU cores   : 8\n",
      "Architecture: 64bit\n",
      "\n",
      "Specific Python packages\n",
      "astropy: 4.3.1\n",
      "\n",
      "numpy  : 1.20.3\n",
      "pyvo   : 1.1\n",
      "astropy: 4.3.1\n",
      "\n",
      "Watermark: 2.2.0\n",
      "\n"
     ]
    }
   ],
   "source": [
    "%load_ext watermark\n",
    "%watermark -a \"Jonhatan Bernal\" -d -v -m\n",
    "print('Specific Python packages')\n",
    "%watermark -iv -w --packages astropy"
   ]
  },
  {
   "cell_type": "code",
   "execution_count": null,
   "id": "75d4572a",
   "metadata": {},
   "outputs": [],
   "source": []
  }
 ],
 "metadata": {
  "kernelspec": {
   "display_name": "Python 3 (ipykernel)",
   "language": "python",
   "name": "python3"
  },
  "language_info": {
   "codemirror_mode": {
    "name": "ipython",
    "version": 3
   },
   "file_extension": ".py",
   "mimetype": "text/x-python",
   "name": "python",
   "nbconvert_exporter": "python",
   "pygments_lexer": "ipython3",
   "version": "3.8.8"
  }
 },
 "nbformat": 4,
 "nbformat_minor": 5
}
