{
 "cells": [
  {
   "cell_type": "markdown",
   "id": "7f94a820",
   "metadata": {},
   "source": [
    "# Obtain data of QSO from SIMBAD, filtering the objects with data of [Ne II], [Ne III] and [Ne V] in infrared from NED Phot Tables and saving it"
   ]
  },
  {
   "cell_type": "code",
   "execution_count": 1,
   "id": "aa00822d",
   "metadata": {},
   "outputs": [],
   "source": [
    "# If this notebook will be run in Google Colab, first at all the next code must be run. If the notebook will be run in Jupyter\n",
    "#then \"comment\" or omit this part \n",
    "\n",
    "import sys\n",
    "IN_COLAB = 'google.colab' in sys.modules\n",
    "\n",
    "if IN_COLAB:\n",
    "    !pip install astroquery"
   ]
  },
  {
   "cell_type": "code",
   "execution_count": 2,
   "id": "58deaafa",
   "metadata": {},
   "outputs": [],
   "source": [
    "from datetime import date\n",
    "import time\n",
    "import requests\n",
    "import numpy as np\n",
    "\n",
    "import pyvo\n",
    "from astroquery.ipac.ned import Ned\n",
    "from astroquery.simbad import Simbad\n",
    "\n",
    "from pathlib import Path\n",
    "from requests import Request, Session\n",
    "\n",
    "import astropy.units as u\n",
    "from astropy.table import hstack, QTable, Table\n",
    "from astropy.coordinates import SkyCoord\n",
    "\n",
    "import getphotNED as pN"
   ]
  },
  {
   "cell_type": "code",
   "execution_count": 3,
   "id": "411e0651",
   "metadata": {},
   "outputs": [],
   "source": [
    "path_raw='../Datos/Raw/'\n",
    "Path(path_raw).mkdir(parents=True, exist_ok=True)\n",
    "path_phot_ned = '../Datos/Work/Phot_Tables_NED/' #In this path wi will save the photometry tables for each object\n",
    "Path(path_phot_ned).mkdir(parents=True, exist_ok=True)"
   ]
  },
  {
   "cell_type": "code",
   "execution_count": 4,
   "id": "5f7be6af",
   "metadata": {},
   "outputs": [],
   "source": [
    "service = pyvo.dal.TAPService(\"http://simbad.u-strasbg.fr:80/simbad/sim-tap\")\n",
    "\n",
    "result0 = service.search(\"\"\"\n",
    "SELECT main_id\n",
    "    ,ra\n",
    "    ,dec\n",
    "    ,coo_bibcode\n",
    "    ,otype_txt\n",
    "    ,rvz_bibcode\n",
    "    ,rvz_radvel\n",
    "    ,rvz_redshift\n",
    "    ,rvz_type\n",
    "    ,nbref\n",
    "    ,ids.ids\n",
    "    ,alltypes.otypes\n",
    "FROM basic\n",
    "JOIN ids ON oid = ids.oidref\n",
    "JOIN alltypes ON oid = alltypes.oidref\n",
    "WHERE basic.otype = 'QSO'\n",
    "  AND rvz_redshift <= 0.6\n",
    "\"\"\")"
   ]
  },
  {
   "cell_type": "code",
   "execution_count": 5,
   "id": "e1f6ec98",
   "metadata": {},
   "outputs": [
    {
     "data": {
      "text/plain": [
       "32835"
      ]
     },
     "execution_count": 5,
     "metadata": {},
     "output_type": "execute_result"
    }
   ],
   "source": [
    "simbad_sample0_QSO = result0.to_table()\n",
    "obj_name_SMB0=simbad_sample0_QSO[\"main_id\"]\n",
    "obj_ids_SMB0=simbad_sample0_QSO[\"ids\"]\n",
    "len(simbad_sample0_QSO)"
   ]
  },
  {
   "cell_type": "code",
   "execution_count": 6,
   "id": "d74393a3",
   "metadata": {},
   "outputs": [],
   "source": [
    "result1 = service.search(\"\"\"\n",
    "SELECT main_id\n",
    "    ,ra\n",
    "    ,dec\n",
    "    ,coo_bibcode\n",
    "    ,otype_txt\n",
    "    ,rvz_bibcode\n",
    "    ,rvz_radvel\n",
    "    ,rvz_redshift\n",
    "    ,rvz_type\n",
    "    ,nbref\n",
    "    ,ids.ids\n",
    "    ,alltypes.otypes\n",
    "FROM basic\n",
    "JOIN ids ON oid = ids.oidref\n",
    "JOIN alltypes ON oid = alltypes.oidref\n",
    "WHERE basic.otype = 'QSO'\n",
    "  AND rvz_redshift > 0.6\n",
    "  AND rvz_redshift <= 0.7\n",
    "\"\"\")"
   ]
  },
  {
   "cell_type": "code",
   "execution_count": 7,
   "id": "db4d0f2e",
   "metadata": {},
   "outputs": [
    {
     "data": {
      "text/plain": [
       "18874"
      ]
     },
     "execution_count": 7,
     "metadata": {},
     "output_type": "execute_result"
    }
   ],
   "source": [
    "simbad_sample1_QSO = result1.to_table()\n",
    "obj_name_SMB1=simbad_sample1_QSO[\"main_id\"]\n",
    "obj_ids_SMB1=simbad_sample1_QSO[\"ids\"]\n",
    "len(simbad_sample1_QSO)"
   ]
  },
  {
   "cell_type": "code",
   "execution_count": 8,
   "id": "c3bda400",
   "metadata": {},
   "outputs": [],
   "source": [
    "result2 = service.search(\"\"\"\n",
    "SELECT main_id\n",
    "    ,ra\n",
    "    ,dec\n",
    "    ,coo_bibcode\n",
    "    ,otype_txt\n",
    "    ,rvz_bibcode\n",
    "    ,rvz_radvel\n",
    "    ,rvz_redshift\n",
    "    ,rvz_type\n",
    "    ,nbref\n",
    "    ,ids.ids\n",
    "    ,alltypes.otypes\n",
    "FROM basic\n",
    "JOIN ids ON oid = ids.oidref\n",
    "JOIN alltypes ON oid = alltypes.oidref\n",
    "WHERE basic.otype = 'QSO'\n",
    "  AND rvz_redshift > 0.7\n",
    "  AND rvz_redshift <= 0.8\n",
    "\"\"\")"
   ]
  },
  {
   "cell_type": "code",
   "execution_count": 9,
   "id": "512194a5",
   "metadata": {},
   "outputs": [
    {
     "data": {
      "text/plain": [
       "24501"
      ]
     },
     "execution_count": 9,
     "metadata": {},
     "output_type": "execute_result"
    }
   ],
   "source": [
    "simbad_sample2_QSO = result2.to_table()\n",
    "obj_name_SMB2=simbad_sample2_QSO[\"main_id\"]\n",
    "obj_ids_SMB2=simbad_sample2_QSO[\"ids\"]\n",
    "len(simbad_sample2_QSO)"
   ]
  },
  {
   "cell_type": "code",
   "execution_count": 10,
   "id": "1d8a7bb8",
   "metadata": {},
   "outputs": [],
   "source": [
    "result3 = service.search(\"\"\"\n",
    "SELECT main_id\n",
    "    ,ra\n",
    "    ,dec\n",
    "    ,coo_bibcode\n",
    "    ,otype_txt\n",
    "    ,rvz_bibcode\n",
    "    ,rvz_radvel\n",
    "    ,rvz_redshift\n",
    "    ,rvz_type\n",
    "    ,nbref\n",
    "    ,ids.ids\n",
    "    ,alltypes.otypes\n",
    "FROM basic\n",
    "JOIN ids ON oid = ids.oidref\n",
    "JOIN alltypes ON oid = alltypes.oidref\n",
    "WHERE basic.otype = 'QSO'\n",
    "  AND rvz_redshift > 0.8\n",
    "  AND rvz_redshift <= 0.9\n",
    "\"\"\")"
   ]
  },
  {
   "cell_type": "code",
   "execution_count": 11,
   "id": "07b5088a",
   "metadata": {},
   "outputs": [
    {
     "data": {
      "text/plain": [
       "30254"
      ]
     },
     "execution_count": 11,
     "metadata": {},
     "output_type": "execute_result"
    }
   ],
   "source": [
    "simbad_sample3_QSO = result3.to_table()\n",
    "obj_name_SMB3=simbad_sample3_QSO[\"main_id\"]\n",
    "obj_ids_SMB3=simbad_sample3_QSO[\"ids\"]\n",
    "len(simbad_sample3_QSO)"
   ]
  },
  {
   "cell_type": "code",
   "execution_count": 12,
   "id": "11aeab0c",
   "metadata": {},
   "outputs": [
    {
     "data": {
      "text/plain": [
       "'Sep_19_2022'"
      ]
     },
     "execution_count": 12,
     "metadata": {},
     "output_type": "execute_result"
    }
   ],
   "source": [
    "today = date.today()\n",
    "today.strftime('%b_%d_%Y')"
   ]
  },
  {
   "cell_type": "code",
   "execution_count": 14,
   "id": "785d2205",
   "metadata": {},
   "outputs": [],
   "source": [
    "INIT_URL = 'http://vizier.u-strasbg.fr/viz-bin/sed?-c='\n",
    "urls0 = [INIT_URL+str(simbad_sample0_QSO['ra'][row])+'%20'+\n",
    "        str(simbad_sample0_QSO['dec'][row])+'&-c.rs=5' for row in range(len(simbad_sample0_QSO))]\n",
    "simbad_sample0_QSO['cds_url'] = urls0\n",
    "\n",
    "urls1 = [INIT_URL+str(simbad_sample1_QSO['ra'][row])+'%20'+\n",
    "        str(simbad_sample1_QSO['dec'][row])+'&-c.rs=5' for row in range(len(simbad_sample1_QSO))]\n",
    "simbad_sample1_QSO['cds_url'] = urls1\n",
    "\n",
    "urls2 = [INIT_URL+str(simbad_sample2_QSO['ra'][row])+'%20'+\n",
    "        str(simbad_sample2_QSO['dec'][row])+'&-c.rs=5' for row in range(len(simbad_sample2_QSO))]\n",
    "simbad_sample2_QSO['cds_url'] = urls2"
   ]
  },
  {
   "cell_type": "code",
   "execution_count": 15,
   "id": "6d8f105c",
   "metadata": {},
   "outputs": [],
   "source": [
    "simbad_sample0_QSO.write(path_raw+'SMB_'+today.strftime('%b_%d_%Y')+'_QSO_Samples0'+'.vot',\n",
    "                    format='votable',overwrite=True)\n",
    "simbad_sample1_QSO.write(path_raw+'SMB_'+today.strftime('%b_%d_%Y')+'_QSO_Samples1'+'.vot',\n",
    "                    format='votable',overwrite=True)\n",
    "simbad_sample2_QSO.write(path_raw+'SMB_'+today.strftime('%b_%d_%Y')+'_QSO_Samples2'+'.vot',\n",
    "                    format='votable',overwrite=True)\n",
    "\n",
    "cat_smb_sample0 = SkyCoord(ra=simbad_sample0_QSO['ra'], dec=simbad_sample0_QSO['dec'])\n",
    "cat_smb_sample1 = SkyCoord(ra=simbad_sample1_QSO['ra'], dec=simbad_sample1_QSO['dec'])\n",
    "cat_smb_sample2 = SkyCoord(ra=simbad_sample2_QSO['ra'], dec=simbad_sample2_QSO['dec'])\n",
    "\n",
    "Ne_IR_Fq = np.array([19200000000000.0,19300000000000.0,20900000000000.0,21000000000000.0,23400000000000.0])*u.Hz"
   ]
  },
  {
   "cell_type": "code",
   "execution_count": 16,
   "id": "4064aad2",
   "metadata": {},
   "outputs": [],
   "source": [
    "def FilterbyNeFreq(NEDTable, Freq):\n",
    "    \n",
    "    '''\n",
    "    This function is for search in a photometry\n",
    "    table is there is information of [Ne] lines\n",
    "    based to a specific frequency values and \n",
    "    return the which of those frequencies was founded'''\n",
    "    \n",
    "    NEDTable.remove_rows(np.where(NEDTable['Flux Density'].mask)[0])\n",
    "    NEDTable.remove_rows(np.where(NEDTable['NED Units'] == 'Jy')[0])\n",
    "    #NEDTable.remove_rows(np.where(NEDTable['NED Uncertainty'] == '')[0])\n",
    "    #NEDTable.remove_rows(np.where(NEDTable['NED Uncertainty'] == '+/-...')[0])\n",
    "    NEDTable.remove_rows(np.where(NEDTable['Observed Passband'] == '[Cl II] line (IRS)')[0])\n",
    "    NEDTable.remove_rows(np.where(NEDTable['Observed Passband'] == '[Cl II] 14.4 (IRS)')[0])\n",
    "    NEDTable.remove_rows(np.where(NEDTable['Observed Passband'] == '[Cl II] (IRS)')[0])\n",
    "    NEDTable.remove_rows(np.where(NEDTable['Observed Passband'] == '[Cl II] 14.37 (IRS)')[0])\n",
    "    \n",
    "    f = np.array([NEDTable['Frequency']])*u.Hz #We get the Frequency column from the table\n",
    "    intersec = np.intersect1d(Freq, f) #Intersection between Fr and Ne_IR_Fq\n",
    "    #print(intersec)\n",
    "   \n",
    "    return intersec"
   ]
  },
  {
   "cell_type": "markdown",
   "id": "fd9618db",
   "metadata": {},
   "source": [
    "## QSO Sample 0"
   ]
  },
  {
   "cell_type": "code",
   "execution_count": 17,
   "id": "1656bd1c",
   "metadata": {
    "scrolled": false
   },
   "outputs": [
    {
     "name": "stdout",
     "output_type": "stream",
     "text": [
      "#    Idx              Name ID                 ID used in NED             Ne IR Info     \n",
      "0    2224     2MASS J01572105+1712484     2MASS J01572104+1712481           NeII        \n",
      "1    4785     2MASS J00505570+2933281     2MASS J00505569+2933280           NeV         \n",
      "2    6532     2MASS J17144277+2602485    WISEA J171442.76+260248.5          NeII        \n",
      "3    7042          QSO B1549-790                1Jy 1549-79            NeII|NeIII|NeV   \n",
      "4    11382    2MASS J17193331+5927430     2MASS J17193331+5927430          NeIII        \n",
      "5    11727           3C 263.1                    3C 263.1                NeII|NeIII     \n",
      "6    12467        QSO B0125-0635              GSC 04684-01057            NeII|NeIII     \n",
      "7    14121    2MASS J23444957+1221434     2MASX J23444953+1221430        NeIII|NeV      \n",
      "8    14254    2MASS J09215939+4509126     2MASS J09215939+4509126          NeIII        \n",
      "9    14869   [VV2000] J201329.8-414735   WISEA J201329.54-414734.8       NeII|NeIII     \n",
      "10   15037    2MASS J03485764+1255473     2MASS J03485765+1255474           NeII        \n",
      "11   16453    2MASS J14363195+3438292     2MASS J14363195+3438292           NeII        \n",
      "12   27028           3C 244.1                    3C 244.1              NeII|NeIII|NeV   \n",
      "13   27838    2MASS J22222112+1959474     2MASS J22222113+1959474           NeV         \n",
      "14   29182         MCG+07-29-060               MCG+07-29-060             NeII|NeIII     \n",
      "15   30459            3C  48                      3C  48                    NeII        \n",
      "16   32717           3C 275.1                    3C 275.1                  NeIII        \n",
      "\n",
      "Total objects with lines emission of NeII or NeIII or NeV in IR  found:  17\n",
      "Execution Time(seg): 1463.2188737392426\n",
      "Execution Time(min): 24.386981228987377\n",
      "Execution Time(hrs): 0.4064496871497896\n"
     ]
    }
   ],
   "source": [
    "NeIR_obj_t = QTable(names=('Main_Id','Id_used_NED','RA','DEC','otype_txt','redshift',\n",
    "                           'rvz_type','ids','otypes','cds_url','SMB_sample_index'),\n",
    "                    dtype=('O','O','f8','f8','O','f8','U1','O','O','U93','f8'))\n",
    "\n",
    "Ne_Inf = []\n",
    "\n",
    "print(f\"{'#':4} {'Idx':6} {'Name ID':^27} {'ID used in NED':^27} {'Ne IR Info':^20}\")\n",
    "i=-1\n",
    "start = time.time()\n",
    "for ind, id_smb in enumerate(obj_name_SMB0):\n",
    "    try:       \n",
    "        #print('\\nIdx SIMBAD: ',ind,' main_id: ',id_smb)\n",
    "        phot_T,name_NED = pN.photNED(id_smb,obj_ids_SMB0[ind],cat_smb_sample0[ind])\n",
    "        #Save table again for work with it before save the original one\n",
    "        phot_t,name_ned = pN.photNED(id_smb,obj_ids_SMB0[ind],cat_smb_sample0[ind])\n",
    "        ins = FilterbyNeFreq(phot_t, Ne_IR_Fq) #Search for the [Ne] frequencies in NED table\n",
    "        #print(name_ned)\n",
    "        \n",
    "        if len(ins)>0: #First filter: If the phot table has infomation of frequencies of Fq            \n",
    "            #print(ins)\n",
    "            i=i+1\n",
    "            phot_T.write(path_phot_ned+id_smb+'_NED_phot_tables'+'.vot', #Save the phot table in a vot table file\n",
    "                            format='votable',overwrite=True)\n",
    "            NeIR_obj_row = [id_smb,name_ned,simbad_sample0_QSO[\"ra\"][ind],simbad_sample0_QSO[\"dec\"][ind],\n",
    "                            simbad_sample0_QSO[\"otype_txt\"][ind],simbad_sample0_QSO[\"rvz_redshift\"][ind],\n",
    "                            simbad_sample0_QSO[\"rvz_type\"][ind],simbad_sample0_QSO[\"ids\"][ind],\n",
    "                            simbad_sample0_QSO[\"otypes\"][ind],simbad_sample0_QSO[\"cds_url\"][ind],ind] \n",
    "            NeIR_obj_t.add_row(vals=NeIR_obj_row)\n",
    "            \n",
    "            if (Ne_IR_Fq[0] in ins or Ne_IR_Fq[1] in ins)and (Ne_IR_Fq[2] in ins or Ne_IR_Fq[3] in ins)\\\n",
    "            and Ne_IR_Fq[4] in ins: #Second filter to classify according the Ne info after remove empty flux values\n",
    "                Ne_info = 'NeII|NeIII|NeV'\n",
    "            elif (Ne_IR_Fq[0] in ins or Ne_IR_Fq[1] in ins) and Ne_IR_Fq[4] in ins:\n",
    "                Ne_info = 'NeII|NeIII'\n",
    "            elif (Ne_IR_Fq[2] in ins or Ne_IR_Fq[3] in ins) and Ne_IR_Fq[4] in ins:\n",
    "                Ne_info = 'NeII|NeV'\n",
    "            elif (Ne_IR_Fq[0] in ins or Ne_IR_Fq[1] in ins) and (Ne_IR_Fq[2] in ins or Ne_IR_Fq[3] in ins):\n",
    "                Ne_info = 'NeIII|NeV'\n",
    "            elif Ne_IR_Fq[0] in ins or Ne_IR_Fq[1] in ins:\n",
    "                Ne_info = 'NeIII'\n",
    "            elif Ne_IR_Fq[2] in ins or Ne_IR_Fq[3] in ins:\n",
    "                Ne_info = 'NeV'\n",
    "            elif Ne_IR_Fq[4] in ins:\n",
    "                Ne_info = 'NeII'\n",
    "            else:\n",
    "                Ne_info = 'No Flux Values' \n",
    "            Ne_Inf.append(Ne_info)\n",
    "            print(f\"{'%g'%i:4} {'%g'%ind:6} {'%s'%id_smb:^27} {'%s'%name_ned:^27} {'%s'%Ne_info:^20}\")\n",
    "    \n",
    "    except KeyError:\n",
    "        pass\n",
    "\n",
    "end = time.time()\n",
    "\n",
    "print('\\nTotal objects with lines emission of NeII or NeIII or NeV in IR  found: ',len(NeIR_obj_t))\n",
    "print('Execution Time(seg): ' + str(end - start))\n",
    "print('Execution Time(min): ' + str((end - start)/60))\n",
    "print('Execution Time(hrs): ' + str((end - start)/3600))"
   ]
  },
  {
   "cell_type": "markdown",
   "id": "c7a0b980",
   "metadata": {},
   "source": [
    "## QSO Sample 1"
   ]
  },
  {
   "cell_type": "code",
   "execution_count": 18,
   "id": "dde16a33",
   "metadata": {},
   "outputs": [
    {
     "name": "stdout",
     "output_type": "stream",
     "text": [
      "#    Idx              Name ID                 ID used in NED             Ne IR Info     \n",
      "\n",
      "Total objects with lines emission of NeII or NeIII or NeV in IR  found:  17\n",
      "Execution Time(seg): 30983.246644735336\n",
      "Execution Time(min): 516.3874440789223\n",
      "Execution Time(hrs): 8.606457401315371\n"
     ]
    }
   ],
   "source": [
    "print(f\"{'#':4} {'Idx':6} {'Name ID':^27} {'ID used in NED':^27} {'Ne IR Info':^20}\")\n",
    "i=-1\n",
    "start = time.time()\n",
    "for ind, id_smb in enumerate(obj_name_SMB1):\n",
    "    try:       \n",
    "        #print('\\nIdx SIMBAD: ',ind,' main_id: ',id_smb)\n",
    "        phot_T,name_NED = pN.photNED(id_smb,obj_ids_SMB1[ind],cat_smb_sample1[ind])\n",
    "        #Save table again for work with it before save the original one\n",
    "        phot_t,name_ned = pN.photNED(id_smb,obj_ids_SMB1[ind],cat_smb_sample1[ind])\n",
    "        ins = FilterbyNeFreq(phot_t, Ne_IR_Fq) #Search for the [Ne] frequencies in NED table\n",
    "        #print(name_ned)\n",
    "        \n",
    "        if len(ins)>0: #First filter: If the phot table has infomation of frequencies of Fq            \n",
    "            #print(ins)\n",
    "            i=i+1\n",
    "            phot_T.write(path_phot_ned+id_smb+'_NED_phot_tables'+'.vot', #Save the phot table in a vot table file\n",
    "                            format='votable',overwrite=True)\n",
    "            NeIR_obj_row = [id_smb,name_ned,simbad_sample1_QSO[\"ra\"][ind],simbad_sample1_QSO[\"dec\"][ind],\n",
    "                            simbad_sample1_QSO[\"otype_txt\"][ind],simbad_sample1_QSO[\"rvz_redshift\"][ind],\n",
    "                            simbad_sample1_QSO[\"rvz_type\"][ind],simbad_sample1_QSO[\"ids\"][ind],\n",
    "                            simbad_sample1_QSO[\"otypes\"][ind],simbad_sample1_QSO[\"cds_url\"][ind],ind] \n",
    "            NeIR_obj_t.add_row(vals=NeIR_obj_row)\n",
    "            \n",
    "            if (Ne_IR_Fq[0] in ins or Ne_IR_Fq[1] in ins)and (Ne_IR_Fq[2] in ins or Ne_IR_Fq[3] in ins)\\\n",
    "            and Ne_IR_Fq[4] in ins: #Second filter to classify according the Ne info after remove empty flux values\n",
    "                Ne_info = 'NeII|NeIII|NeV'\n",
    "            elif (Ne_IR_Fq[0] in ins or Ne_IR_Fq[1] in ins) and Ne_IR_Fq[4] in ins:\n",
    "                Ne_info = 'NeII|NeIII'\n",
    "            elif (Ne_IR_Fq[2] in ins or Ne_IR_Fq[3] in ins) and Ne_IR_Fq[4] in ins:\n",
    "                Ne_info = 'NeII|NeV'\n",
    "            elif (Ne_IR_Fq[0] in ins or Ne_IR_Fq[1] in ins) and (Ne_IR_Fq[2] in ins or Ne_IR_Fq[3] in ins):\n",
    "                Ne_info = 'NeIII|NeV'\n",
    "            elif Ne_IR_Fq[0] in ins or Ne_IR_Fq[1] in ins:\n",
    "                Ne_info = 'NeIII'\n",
    "            elif Ne_IR_Fq[2] in ins or Ne_IR_Fq[3] in ins:\n",
    "                Ne_info = 'NeV'\n",
    "            elif Ne_IR_Fq[4] in ins:\n",
    "                Ne_info = 'NeII'\n",
    "            else:\n",
    "                Ne_info = 'No Flux Values' \n",
    "            Ne_Inf.append(Ne_info)\n",
    "            print(f\"{'%g'%i:4} {'%g'%ind:6} {'%s'%id_smb:^27} {'%s'%name_ned:^27} {'%s'%Ne_info:^20}\")\n",
    "    \n",
    "    except KeyError:\n",
    "        pass\n",
    "\n",
    "end = time.time()\n",
    "\n",
    "print('\\nTotal objects with lines emission of NeII or NeIII or NeV in IR  found: ',len(NeIR_obj_t))\n",
    "print('Execution Time(seg): ' + str(end - start))\n",
    "print('Execution Time(min): ' + str((end - start)/60))\n",
    "print('Execution Time(hrs): ' + str((end - start)/3600))"
   ]
  },
  {
   "cell_type": "markdown",
   "id": "6865efc7",
   "metadata": {},
   "source": [
    "## QSO Sample 2"
   ]
  },
  {
   "cell_type": "code",
   "execution_count": 19,
   "id": "e4867018",
   "metadata": {},
   "outputs": [
    {
     "name": "stdout",
     "output_type": "stream",
     "text": [
      "#    Idx              Name ID                 ID used in NED             Ne IR Info     \n",
      "0    10514            3C 254                      3C 254                   NeIII        \n",
      "\n",
      "Total objects with lines emission of NeII or NeIII or NeV in IR  found:  18\n",
      "Execution Time(seg): 24631.354742527008\n",
      "Execution Time(min): 410.5225790421168\n",
      "Execution Time(hrs): 6.84204298403528\n"
     ]
    }
   ],
   "source": [
    "print(f\"{'#':4} {'Idx':6} {'Name ID':^27} {'ID used in NED':^27} {'Ne IR Info':^20}\")\n",
    "i=-1\n",
    "start = time.time()\n",
    "for ind, id_smb in enumerate(obj_name_SMB2):\n",
    "    try:       \n",
    "        #print('\\nIdx SIMBAD: ',ind,' main_id: ',id_smb)\n",
    "        phot_T,name_NED = pN.photNED(id_smb,obj_ids_SMB2[ind],cat_smb_sample2[ind])\n",
    "        #Save table again for work with it before save the original one\n",
    "        phot_t,name_ned = pN.photNED(id_smb,obj_ids_SMB2[ind],cat_smb_sample2[ind])\n",
    "        ins = FilterbyNeFreq(phot_t, Ne_IR_Fq) #Search for the [Ne] frequencies in NED table\n",
    "        #print(name_ned)\n",
    "        \n",
    "        if len(ins)>0: #First filter: If the phot table has infomation of frequencies of Fq            \n",
    "            #print(ins)\n",
    "            i=i+1\n",
    "            phot_T.write(path_phot_ned+id_smb+'_NED_phot_tables'+'.vot', #Save the phot table in a vot table file\n",
    "                            format='votable',overwrite=True)\n",
    "            NeIR_obj_row = [id_smb,name_ned,simbad_sample2_QSO[\"ra\"][ind],simbad_sample2_QSO[\"dec\"][ind],\n",
    "                            simbad_sample2_QSO[\"otype_txt\"][ind],simbad_sample2_QSO[\"rvz_redshift\"][ind],\n",
    "                            simbad_sample2_QSO[\"rvz_type\"][ind],simbad_sample2_QSO[\"ids\"][ind],\n",
    "                            simbad_sample2_QSO[\"otypes\"][ind],simbad_sample2_QSO[\"cds_url\"][ind],ind] \n",
    "            NeIR_obj_t.add_row(vals=NeIR_obj_row)\n",
    "            \n",
    "            if (Ne_IR_Fq[0] in ins or Ne_IR_Fq[1] in ins)and (Ne_IR_Fq[2] in ins or Ne_IR_Fq[3] in ins)\\\n",
    "            and Ne_IR_Fq[4] in ins: #Second filter to classify according the Ne info after remove empty flux values\n",
    "                Ne_info = 'NeII|NeIII|NeV'\n",
    "            elif (Ne_IR_Fq[0] in ins or Ne_IR_Fq[1] in ins) and Ne_IR_Fq[4] in ins:\n",
    "                Ne_info = 'NeII|NeIII'\n",
    "            elif (Ne_IR_Fq[2] in ins or Ne_IR_Fq[3] in ins) and Ne_IR_Fq[4] in ins:\n",
    "                Ne_info = 'NeII|NeV'\n",
    "            elif (Ne_IR_Fq[0] in ins or Ne_IR_Fq[1] in ins) and (Ne_IR_Fq[2] in ins or Ne_IR_Fq[3] in ins):\n",
    "                Ne_info = 'NeIII|NeV'\n",
    "            elif Ne_IR_Fq[0] in ins or Ne_IR_Fq[1] in ins:\n",
    "                Ne_info = 'NeIII'\n",
    "            elif Ne_IR_Fq[2] in ins or Ne_IR_Fq[3] in ins:\n",
    "                Ne_info = 'NeV'\n",
    "            elif Ne_IR_Fq[4] in ins:\n",
    "                Ne_info = 'NeII'\n",
    "            else:\n",
    "                Ne_info = 'No Flux Values' \n",
    "            Ne_Inf.append(Ne_info)\n",
    "            print(f\"{'%g'%i:4} {'%g'%ind:6} {'%s'%id_smb:^27} {'%s'%name_ned:^27} {'%s'%Ne_info:^20}\")\n",
    "    \n",
    "    except KeyError:\n",
    "        pass\n",
    "\n",
    "end = time.time()\n",
    "\n",
    "print('\\nTotal objects with lines emission of NeII or NeIII or NeV in IR  found: ',len(NeIR_obj_t))\n",
    "print('Execution Time(seg): ' + str(end - start))\n",
    "print('Execution Time(min): ' + str((end - start)/60))\n",
    "print('Execution Time(hrs): ' + str((end - start)/3600))"
   ]
  },
  {
   "cell_type": "code",
   "execution_count": null,
   "id": "c9780a4f",
   "metadata": {},
   "outputs": [],
   "source": [
    "NeIR_obj_t['NED_Ne_IR_info'] = Ne_Inf #Add a column to save the Ne info\n",
    "NeIR_obj_t.show_in_notebook()"
   ]
  },
  {
   "cell_type": "code",
   "execution_count": null,
   "id": "ecb0695e",
   "metadata": {},
   "outputs": [],
   "source": [
    "NeIR_obj_t.write(path_raw+'Obj_QSO_Ne-IR_'+today.strftime('%b_%d_%Y')+'.vot',\n",
    "                    format='votable',overwrite=True)"
   ]
  },
  {
   "cell_type": "code",
   "execution_count": null,
   "id": "7b2e13bd",
   "metadata": {},
   "outputs": [],
   "source": [
    "NeII_NeIII_NeV_IR = np.where(NeIR_obj_t['NED_Ne_IR_info'] == 'NeII|NeIII|NeV')[0] #List of objects with NeII, NeIII and NeV data\n",
    "NeII_NeIII_IR = np.where(NeIR_obj_t['NED_Ne_IR_info'] == 'NeII|NeIII')[0] #List of objects with NeII and NeIII data\n",
    "NeII_NeV_IR = np.where(NeIR_obj_t['NED_Ne_IR_info'] == 'NeII|NeV')[0] #List of objects with NeII and NeV data\n",
    "NeIII_NeV_IR = np.where(NeIR_obj_t['NED_Ne_IR_info'] == 'NeIII|NeV')[0] #List of objects with NeIII and NeV data\n",
    "NeIII_IR = np.where(NeIR_obj_t['NED_Ne_IR_info'] == 'NeIII')[0] #List of objects with NeIII data\n",
    "NeV_IR = np.where(NeIR_obj_t['NED_Ne_IR_info'] == 'NeV')[0] #List of objects with NeV data\n",
    "NeII_IR = np.where(NeIR_obj_t['NED_Ne_IR_info'] == 'NeII')[0] #List of objects with NeII data\n",
    "No_Ne_IR = np.where(NeIR_obj_t['NED_Ne_IR_info'] == 'No Flux Values')[0] #List of objects with NeII data\n",
    "print('Total objects found with NeII, NeIII and NeV emission lines: ',len(NeII_NeIII_NeV_IR))\n",
    "print('Total objects found with NeII and NeIII emission lines: ',len(NeII_NeIII_IR))\n",
    "print('Total objects found with NeII and NeV emission lines: ',len(NeII_NeV_IR))\n",
    "print('Total objects found with NeIII and NeV emission lines: ',len(NeIII_NeV_IR))\n",
    "print('Total objects found with NeIII emission lines: ',len(NeIII_IR))\n",
    "print('Total objects found with NeV emission lines: ',len(NeV_IR))\n",
    "print('Total objects found with NeII emission lines: ',len(NeII_IR))\n",
    "print('Total objects found with No Ne flux values: ',len(No_Ne_IR))"
   ]
  },
  {
   "cell_type": "code",
   "execution_count": null,
   "id": "346de299",
   "metadata": {},
   "outputs": [],
   "source": [
    "%reload_ext watermark\n",
    "%watermark -a \"Jonhatan Bernal\" -d -v -m\n",
    "print('Specific Python packages')\n",
    "%watermark -iv -w --packages astropy"
   ]
  },
  {
   "cell_type": "code",
   "execution_count": null,
   "id": "1e3e64b5",
   "metadata": {},
   "outputs": [],
   "source": [
    "idS = ['3C 244.1'] #Id to search\n",
    "idx = [np.where(simbad_sample0_QSO['main_id'] == idt)[0] for idt in idS]\n",
    "print(obj_name_SMB0[idx[0]])\n",
    "print('SMB sample index: ',idx[0])"
   ]
  }
 ],
 "metadata": {
  "kernelspec": {
   "display_name": "Python 3 (ipykernel)",
   "language": "python",
   "name": "python3"
  },
  "language_info": {
   "codemirror_mode": {
    "name": "ipython",
    "version": 3
   },
   "file_extension": ".py",
   "mimetype": "text/x-python",
   "name": "python",
   "nbconvert_exporter": "python",
   "pygments_lexer": "ipython3",
   "version": "3.9.12"
  }
 },
 "nbformat": 4,
 "nbformat_minor": 5
}
