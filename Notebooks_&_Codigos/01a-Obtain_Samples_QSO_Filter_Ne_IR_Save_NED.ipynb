{
 "cells": [
  {
   "cell_type": "markdown",
   "id": "7f94a820",
   "metadata": {},
   "source": [
    "# Obtain data of QSO from SIMBAD, filtering the objects with data of [Ne II], [Ne III] and [Ne V] in infrared from NED Phot Tables and saving it"
   ]
  },
  {
   "cell_type": "code",
   "execution_count": 1,
   "id": "aa00822d",
   "metadata": {},
   "outputs": [],
   "source": [
    "# If this notebook will be run in Google Colab, first at all the next code must be run. If the notebook will be run in Jupyter\n",
    "#then \"comment\" or omit this part \n",
    "\n",
    "import sys\n",
    "IN_COLAB = 'google.colab' in sys.modules\n",
    "\n",
    "if IN_COLAB:\n",
    "    !pip install astroquery"
   ]
  },
  {
   "cell_type": "code",
   "execution_count": 2,
   "id": "58deaafa",
   "metadata": {},
   "outputs": [],
   "source": [
    "from datetime import date\n",
    "import time\n",
    "import requests\n",
    "import numpy as np\n",
    "\n",
    "import pyvo\n",
    "from astroquery.ipac.ned import Ned\n",
    "from astroquery.simbad import Simbad\n",
    "\n",
    "from pathlib import Path\n",
    "from requests import Request, Session\n",
    "\n",
    "import astropy.units as u\n",
    "from astropy.table import hstack, QTable, Table\n",
    "from astropy.coordinates import SkyCoord\n",
    "\n",
    "import getphotNED as pN"
   ]
  },
  {
   "cell_type": "code",
   "execution_count": 3,
   "id": "411e0651",
   "metadata": {},
   "outputs": [],
   "source": [
    "path_raw='../Datos/Raw/'\n",
    "Path(path_raw).mkdir(parents=True, exist_ok=True)\n",
    "path_phot_ned = '../Datos/Work/Phot_Tables_NED/' #In this path wi will save the photometry tables for each object\n",
    "Path(path_phot_ned).mkdir(parents=True, exist_ok=True)"
   ]
  },
  {
   "cell_type": "code",
   "execution_count": 4,
   "id": "5f7be6af",
   "metadata": {},
   "outputs": [],
   "source": [
    "service = pyvo.dal.TAPService(\"http://simbad.u-strasbg.fr:80/simbad/sim-tap\")\n",
    "\n",
    "result = service.search(\"\"\"\n",
    "SELECT main_id\n",
    "    ,ra\n",
    "    ,dec\n",
    "    ,coo_bibcode\n",
    "    ,otype_txt\n",
    "    ,rvz_bibcode\n",
    "    ,rvz_radvel\n",
    "    ,rvz_redshift\n",
    "    ,rvz_type\n",
    "    ,nbref\n",
    "    ,ids.ids\n",
    "    ,alltypes.otypes\n",
    "FROM basic\n",
    "JOIN ids ON oid = ids.oidref\n",
    "JOIN alltypes ON oid = alltypes.oidref\n",
    "WHERE basic.otype = 'QSO'\n",
    "  AND rvz_redshift < 0.5\n",
    "\"\"\")"
   ]
  },
  {
   "cell_type": "code",
   "execution_count": 5,
   "id": "e1f6ec98",
   "metadata": {},
   "outputs": [
    {
     "data": {
      "text/plain": [
       "19424"
      ]
     },
     "execution_count": 5,
     "metadata": {},
     "output_type": "execute_result"
    }
   ],
   "source": [
    "simbad_sample_QSO = result.to_table()\n",
    "obj_name_SMB=simbad_sample_QSO[\"main_id\"]\n",
    "obj_ids_SMB=simbad_sample_QSO[\"ids\"]\n",
    "len(simbad_sample_QSO)"
   ]
  },
  {
   "cell_type": "code",
   "execution_count": 6,
   "id": "11aeab0c",
   "metadata": {},
   "outputs": [
    {
     "data": {
      "text/plain": [
       "'Sep_14_2022'"
      ]
     },
     "execution_count": 6,
     "metadata": {},
     "output_type": "execute_result"
    }
   ],
   "source": [
    "today = date.today()\n",
    "today.strftime('%b_%d_%Y')"
   ]
  },
  {
   "cell_type": "code",
   "execution_count": 7,
   "id": "785d2205",
   "metadata": {},
   "outputs": [],
   "source": [
    "INIT_URL = 'http://vizier.u-strasbg.fr/viz-bin/sed?-c='\n",
    "urls = [INIT_URL+str(simbad_sample_QSO['ra'][row])+'%20'+\n",
    "        str(simbad_sample_QSO['dec'][row])+'&-c.rs=5' for row in range(len(simbad_sample_QSO))]\n",
    "simbad_sample_QSO['cds_url'] = urls"
   ]
  },
  {
   "cell_type": "code",
   "execution_count": 8,
   "id": "595a171b",
   "metadata": {},
   "outputs": [
    {
     "name": "stdout",
     "output_type": "stream",
     "text": [
      "main_id\n",
      "-------\n",
      "SMB sample index:  []\n"
     ]
    }
   ],
   "source": [
    "idS = ['QSO B1443+0957'] #Id to search\n",
    "idx = [np.where(simbad_sample_QSO['main_id'] == idt)[0] for idt in idS]\n",
    "print(obj_name_SMB[idx[0]])\n",
    "print('SMB sample index: ',idx[0])"
   ]
  },
  {
   "cell_type": "code",
   "execution_count": 9,
   "id": "6d8f105c",
   "metadata": {},
   "outputs": [],
   "source": [
    "simbad_sample_QSO.write(path_raw+'SMB_'+today.strftime('%b_%d_%Y')+'_QSO_Samples'+'.vot',\n",
    "                    format='votable',overwrite=True)\n",
    "\n",
    "cat_smb_sample = SkyCoord(ra=simbad_sample_QSO['ra'], dec=simbad_sample_QSO['dec'])\n",
    "\n",
    "Ne_IR_Fq = np.array([19200000000000.0,19300000000000.0,20900000000000.0,21000000000000.0,23400000000000.0])*u.Hz"
   ]
  },
  {
   "cell_type": "code",
   "execution_count": 18,
   "id": "4064aad2",
   "metadata": {},
   "outputs": [],
   "source": [
    "def FilterbyNeFreq(NEDTable, Freq):\n",
    "    \n",
    "    '''\n",
    "    This function is for search in a photometry\n",
    "    table is there is information of [Ne] lines\n",
    "    based to a specific frequency values and \n",
    "    return the which of those frequencies was founded'''\n",
    "    \n",
    "    NEDTable.remove_rows(np.where(NEDTable['Flux Density'].mask)[0])\n",
    "    NEDTable.remove_rows(np.where(NEDTable['NED Units'] == 'Jy')[0])\n",
    "    #NEDTable.remove_rows(np.where(NEDTable['NED Uncertainty'] == '')[0])\n",
    "    #NEDTable.remove_rows(np.where(NEDTable['NED Uncertainty'] == '+/-...')[0])\n",
    "    NEDTable.remove_rows(np.where(NEDTable['Observed Passband'] == '[Cl II] line (IRS)')[0])\n",
    "    NEDTable.remove_rows(np.where(NEDTable['Observed Passband'] == '[Cl II] 14.4 (IRS)')[0])\n",
    "    NEDTable.remove_rows(np.where(NEDTable['Observed Passband'] == '[Cl II] (IRS)')[0])\n",
    "    NEDTable.remove_rows(np.where(NEDTable['Observed Passband'] == '[Cl II] 14.37 (IRS)')[0])\n",
    "    \n",
    "    f = np.array([NEDTable['Frequency']])*u.Hz #We get the Frequency column from the table\n",
    "    intersec = np.intersect1d(Freq, f) #Intersection between Fr and Ne_IR_Fq\n",
    "    #print(intersec)\n",
    "   \n",
    "    return intersec"
   ]
  },
  {
   "cell_type": "code",
   "execution_count": 19,
   "id": "1656bd1c",
   "metadata": {},
   "outputs": [
    {
     "name": "stdout",
     "output_type": "stream",
     "text": [
      "#    Idx              Name ID                 ID used in NED             Ne IR Info     \n",
      "0    1129            3C 244.1                    3C 244.1              NeII|NeIII|NeV   \n",
      "1    1549     2MASS J22222112+1959474     2MASS J22222113+1959474           NeV         \n",
      "2    2303          MCG+07-29-060               MCG+07-29-060             NeII|NeIII     \n",
      "3    3011             3C  48                      3C  48                    NeII        \n",
      "4    5536     2MASS J01572105+1712484     2MASS J01572104+1712481           NeII        \n",
      "5    7027     2MASS J00505570+2933281     2MASS J00505569+2933280           NeV         \n",
      "6    8047     2MASS J17144277+2602485    WISEA J171442.76+260248.5          NeII        \n",
      "7    8367          QSO B1549-790                1Jy 1549-79            NeII|NeIII|NeV   \n",
      "8    11094    2MASS J17193331+5927430     2MASS J17193331+5927430          NeIII        \n",
      "9    11341           3C 263.1                    3C 263.1                NeII|NeIII     \n",
      "10   11881        QSO B0125-0635              GSC 04684-01057            NeII|NeIII     \n",
      "11   13045    2MASS J23444957+1221434     2MASX J23444953+1221430        NeIII|NeV      \n",
      "12   13143    2MASS J09215939+4509126     2MASS J09215939+4509126          NeIII        \n",
      "13   13580   [VV2000] J201329.8-414735   WISEA J201329.54-414734.8       NeII|NeIII     \n",
      "14   13714    2MASS J03485764+1255473     2MASS J03485765+1255474           NeII        \n",
      "15   14753    2MASS J14363195+3438292     2MASS J14363195+3438292           NeII        \n",
      "\n",
      "Total objects with lines emission of NeII or NeIII or NeV in IR  found:  16\n",
      "Execution Time(seg): 616.8571050167084\n",
      "Execution Time(min): 10.280951750278472\n",
      "Execution Time(hrs): 0.17134919583797456\n"
     ]
    }
   ],
   "source": [
    "NeIR_obj_t = QTable(names=('Main_Id','Id_used_NED','RA','DEC','otype_txt','redshift',\n",
    "                           'rvz_type','ids','otypes','cds_url','SMB_sample_index'),\n",
    "                    dtype=('O','O','f8','f8','O','f8','U1','O','O','U93','f8'))\n",
    "\n",
    "Ne_Inf = []\n",
    "\n",
    "print(f\"{'#':4} {'Idx':6} {'Name ID':^27} {'ID used in NED':^27} {'Ne IR Info':^20}\")\n",
    "i=-1\n",
    "start = time.time()\n",
    "for ind, id_smb in enumerate(obj_name_SMB):\n",
    "    try:       \n",
    "        #print('\\nIdx SIMBAD: ',ind,' main_id: ',id_smb)\n",
    "        phot_T,name_NED = pN.photNED(id_smb,obj_ids_SMB[ind],cat_smb_sample[ind])\n",
    "        #Save table again for work with it before save the original one\n",
    "        phot_t,name_ned = pN.photNED(id_smb,obj_ids_SMB[ind],cat_smb_sample[ind])\n",
    "        ins = FilterbyNeFreq(phot_t, Ne_IR_Fq) #Search for the [Ne] frequencies in NED table\n",
    "        #print(name_ned)\n",
    "        \n",
    "        if len(ins)>0: #First filter: If the phot table has infomation of frequencies of Fq            \n",
    "            #print(ins)\n",
    "            i=i+1\n",
    "            phot_T.write(path_phot_ned+id_smb+'_NED_phot_tables'+'.vot', #Save the phot table in a vot table file\n",
    "                            format='votable',overwrite=True)\n",
    "            NeIR_obj_row = [id_smb,name_ned,simbad_sample_QSO[\"ra\"][ind],simbad_sample_QSO[\"dec\"][ind],\n",
    "                            simbad_sample_QSO[\"otype_txt\"][ind],simbad_sample_QSO[\"rvz_redshift\"][ind],\n",
    "                            simbad_sample_QSO[\"rvz_type\"][ind],simbad_sample_QSO[\"ids\"][ind],\n",
    "                            simbad_sample_QSO[\"otypes\"][ind],simbad_sample_QSO[\"cds_url\"][ind],ind] \n",
    "            NeIR_obj_t.add_row(vals=NeIR_obj_row)\n",
    "            \n",
    "            if (Ne_IR_Fq[0] in ins or Ne_IR_Fq[1] in ins)and (Ne_IR_Fq[2] in ins or Ne_IR_Fq[3] in ins)\\\n",
    "            and Ne_IR_Fq[4] in ins: #Second filter to classify according the Ne info after remove empty flux values\n",
    "                Ne_info = 'NeII|NeIII|NeV'\n",
    "            elif (Ne_IR_Fq[0] in ins or Ne_IR_Fq[1] in ins) and Ne_IR_Fq[4] in ins:\n",
    "                Ne_info = 'NeII|NeIII'\n",
    "            elif (Ne_IR_Fq[2] in ins or Ne_IR_Fq[3] in ins) and Ne_IR_Fq[4] in ins:\n",
    "                Ne_info = 'NeII|NeV'\n",
    "            elif (Ne_IR_Fq[0] in ins or Ne_IR_Fq[1] in ins) and (Ne_IR_Fq[2] in ins or Ne_IR_Fq[3] in ins):\n",
    "                Ne_info = 'NeIII|NeV'\n",
    "            elif Ne_IR_Fq[0] in ins or Ne_IR_Fq[1] in ins:\n",
    "                Ne_info = 'NeIII'\n",
    "            elif Ne_IR_Fq[2] in ins or Ne_IR_Fq[3] in ins:\n",
    "                Ne_info = 'NeV'\n",
    "            elif Ne_IR_Fq[4] in ins:\n",
    "                Ne_info = 'NeII'\n",
    "            else:\n",
    "                Ne_info = 'No Flux Values' \n",
    "            Ne_Inf.append(Ne_info)\n",
    "            print(f\"{'%g'%i:4} {'%g'%ind:6} {'%s'%id_smb:^27} {'%s'%name_ned:^27} {'%s'%Ne_info:^20}\")\n",
    "    \n",
    "    except KeyError:\n",
    "        pass\n",
    "\n",
    "end = time.time()\n",
    "\n",
    "print('\\nTotal objects with lines emission of NeII or NeIII or NeV in IR  found: ',len(NeIR_obj_t))\n",
    "print('Execution Time(seg): ' + str(end - start))\n",
    "print('Execution Time(min): ' + str((end - start)/60))\n",
    "print('Execution Time(hrs): ' + str((end - start)/3600))"
   ]
  },
  {
   "cell_type": "code",
   "execution_count": 12,
   "id": "c9780a4f",
   "metadata": {},
   "outputs": [
    {
     "data": {
      "text/html": [
       "<i>QTable length=16</i>\n",
       "<table id=\"table140305232878512-425429\" class=\"table-striped table-bordered table-condensed\">\n",
       "<thead><tr><th>idx</th><th>Main_Id</th><th>Id_used_NED</th><th>RA</th><th>DEC</th><th>otype_txt</th><th>redshift</th><th>rvz_type</th><th>ids</th><th>otypes</th><th>cds_url</th><th>SMB_sample_index</th><th>NED_Ne_IR_info</th></tr></thead>\n",
       "<tr><td>0</td><td>3C 244.1</td><td>3C 244.1</td><td>158.39160874888</td><td>58.24322552954</td><td>QSO</td><td>0.4287</td><td>z</td><td>Gaia DR3 855040440020437504|RGZ J103333.9+581435|SDSS J103333.98+581435.5|GRA B1030+58|1Jy 1030+58|1Jy 1030+585|3C 244.1|4C 58.21|8C 1030+585|BWE 1030+5830|CJ1 1030+585|DA 287|DB  75|GB6 B1030+5830|LEDA 2821461|LHE 282|NAME UMa B|NRAO 357|NVSS J103333+581437|OHIO L 551|QSO B1030+585|S4 1030+58|S4 1030+585|TXS 1030+585|WB 1030+5830|[HB91] 1030+585|[GW2008] CoNFIG  75|87GB 103020.5+583013|WN B1030.3+5829|WN B1030.3+5829B|SDSS J103333.98+581435.8|MY 103019.4+581440.3|6C 103019+583006|7C 103019.60+583004.00|VLSS J1033.5+5814|2XMMi J103333.7+581435|SWIRE J103333.98+581435.4</td><td>*|AGN|G|IR|QSO|Rad|X|rG</td><td>http://vizier.u-strasbg.fr/viz-bin/sed?-c=158.39160874888%2058.24322552954&amp;-c.rs=5</td><td>1129.0</td><td>NeII|NeIII|NeV</td></tr>\n",
       "<tr><td>1</td><td>2MASS J22222112+1959474</td><td>2MASS J22222113+1959474</td><td>335.5880332514</td><td>19.996546487439996</td><td>QSO</td><td>0.20864</td><td>z</td><td>Gaia DR3 1777743416865397248|TIC 279491747|2MASS J22222112+1959474|2MASS J22222113+1959474|2MASSI J2222211+195947|HS 2219+1944|[VV2000c] J222221.1+195947|[VV2003c] J222221.1+195947|[VV2006c] J222221.1+195947|[VV2010] J222221.1+195947|Gaia DR2 1777743416865397248|SDSS J222221.13+195947.5</td><td>*|AGN|G|IR|QSO</td><td>http://vizier.u-strasbg.fr/viz-bin/sed?-c=335.5880332514%2019.996546487439996&amp;-c.rs=5</td><td>1549.0</td><td>NeV</td></tr>\n",
       "<tr><td>2</td><td>MCG+07-29-060</td><td>MCG+07-29-060</td><td>214.257148</td><td>43.503756</td><td>QSO</td><td>0.002098</td><td>z</td><td>CASG  389|KISS F1416-2273|KISSR 1752|LEDA   51017|MCG+07-29-060|PB  1927|SBSG 1415+437|Z 1415.0+4344|Z 219-66|[BDW2002] q1415+4343|SDSS J141701.71+433013.5</td><td>*|EmG|G|QSO</td><td>http://vizier.u-strasbg.fr/viz-bin/sed?-c=214.257148%2043.503756&amp;-c.rs=5</td><td>2303.0</td><td>NeII|NeIII</td></tr>\n",
       "<tr><td>3</td><td>3C  48</td><td>3C  48</td><td>24.42208192967</td><td>33.15974455245</td><td>QSO</td><td>0.369</td><td>z</td><td>Gaia DR3 316083930556737152|TIC 61422191|2E   444|1Jy 0134+329|1Jy 0134+32|2MASS J01374130+3309350|2MASSI J0137413+330935|3C  48.0|3C  48|3CR  48|4C 32.08|B2 0134+32|B2.1 0134+32|BWE 0134+3254|CTA  15|DA  54|EQ J0137+331|IERS B0134+329|IRAS 01348+3254|IRAS F01348+3254|LEDA   73991|NRAO  79|OHIO C 358|PG 0134+329|PKS 0134+329|QSO B0134+3254|QSO J0137+3309|QSO B0134+329|QSO B0134+32|RORF 0134+329|S2 0134+32|Gaia DR1 316083926261905664|UVQS J013741.30+330935.0|VSOP J0137+3309|WB 0134+3254|[A86] 0134+329|[D71] 0134+32|[DGW65]   8|[DML87] 586|[GR92] 0134+329|[HB93] 0134+329|[S77]  37|[SJS95] 0134+329|[VYP98] 0134+329|[WTW94] 0134+329|1RXS J013741.7+330931|2E 0134.8+3254|87GB 013448.6+325430|ICRF J013741.2+330935|RGB J0137.7+3309|RX J0137.6+3309|[VV2000] J013741.3+330935|[VV2003] J013741.3+330935|[VV2006] J013741.3+330935|[VV96] J013741.3+330935|[VV98] J013741.3+330935|PSCz Q01348+3254|[VV2010] J013741.3+330935|WISE J013741.29+330935.2|NVSS J013741+330935|Cul 0134+328|MITG J013742+3309|TXS 0134+329|WN B0134.8+3254|MY 013449.5+330945.8|RGB J0137+331|[CAB95] IRAS F01348+3254|[P82] 0134+329|[FA87] 0134+329|GB6 B0134+3254|LAMOST J013741.30+330935.1|WISE J013741.30+330935.0|SDSS J013741.30+330935.0|Gaia DR2 316083930556737152|LAMOST J013741.30+330935.0|WISEA J013741.30+330935.0</td><td>*|AGN|G|IR|QSO|Rad|UV|X</td><td>http://vizier.u-strasbg.fr/viz-bin/sed?-c=24.42208192967%2033.15974455245&amp;-c.rs=5</td><td>3011.0</td><td>NeII</td></tr>\n",
       "<tr><td>4</td><td>2MASS J01572105+1712484</td><td>2MASS J01572104+1712481</td><td>29.3377107575</td><td>17.21340084529</td><td>QSO</td><td>0.213</td><td>z</td><td>Gaia DR3 91076465138952064|TIC 404688757|2MASS J01572105+1712484|2MASS J01572104+1712481|2MASSI J0157210+171248|[VV2006c] J015721.0+171247|[VV2010c] J015721.0+171247|Gaia DR2 91076465138952064</td><td>*|AGN|IR|QSO</td><td>http://vizier.u-strasbg.fr/viz-bin/sed?-c=29.3377107575%2017.21340084529&amp;-c.rs=5</td><td>5536.0</td><td>NeII</td></tr>\n",
       "<tr><td>5</td><td>2MASS J00505570+2933281</td><td>2MASS J00505569+2933280</td><td>12.732086046330002</td><td>29.557808169060003</td><td>QSO</td><td>0.136</td><td>z</td><td>Gaia DR3 311984160934363392|TIC 10000219012|TIC 13864789|2MASS J00505570+2933281|2MASS J00505569+2933280|2MASSI J0050556+293328|2MASSI J0050557+293328|[VV2006c] J005055.7+293328|[VV2010c] J005055.7+293328|2MASX J00505570+2933281|Gaia DR2 311984160934363392</td><td>*|AGN|G|IR|QSO</td><td>http://vizier.u-strasbg.fr/viz-bin/sed?-c=12.732086046330002%2029.557808169060003&amp;-c.rs=5</td><td>7027.0</td><td>NeV</td></tr>\n",
       "<tr><td>6</td><td>2MASS J17144277+2602485</td><td>WISEA J171442.76+260248.5</td><td>258.67821180075</td><td>26.04680638749</td><td>QSO</td><td>0.163</td><td>z</td><td>Gaia DR3 4573832070763951744|WISEA J171442.76+260248.5|TIC 257580868|2MASS J17144277+2602485|2MASS J17144278+2602485|2MASSI J1714427+260248|[VV2006c] J171442.7+260248|SDSSCGB 21786.1|SDSS J171442.76+260248.5|[VV2010c] J171442.7+260248|1RXS J171442.9+260244|WISE J171442.77+260248.6|Gaia DR2 4573832070763951744</td><td>*|AGN|GiG|IR|QSO|X</td><td>http://vizier.u-strasbg.fr/viz-bin/sed?-c=258.67821180075%2026.04680638749&amp;-c.rs=5</td><td>8047.0</td><td>NeII</td></tr>\n",
       "<tr><td>7</td><td>QSO B1549-790</td><td>1Jy 1549-79</td><td>239.24531159229997</td><td>-79.23451705911</td><td>QSO</td><td>0.15</td><td>z</td><td>Gaia DR3 5778578162594526976|TIC 383941961|1Jy 1549-79|1Jy 1549-790|IERS B1549-790|IRAS 15494-7905|IRAS F15494-7905|LEDA 2828606|MRC 1549-790|PKS 1549-79|PKS 1549-790|PKS J1557-7913|PMN J1556-7914|QSO B1549-790|RORF 1549-790|SUMSS J155657-791403|Gaia DR1 5778578158295248768|VSOP J1556-7914|[CH94] 1549-790|[VV2006c] J155658.5-791405|WMAP J1556-7912|6dFGS gJ155658.9-791404|ICRF J155658.8-791404|[VV2000c] J155658.5-791405|[VV2003c] J155658.5-791405|[VV98c] J155658.5-791405|PSCz Q15494-7905|[MGL2009] BZU J1556-7914|[VV2010c] J155658.5-791405|[MEM2008] 211|AT20G J155658.7-791404|AT20G J155658-791404|[MGL2009] BZQ J1556-7914|PBC J1557.6-7913|[MML2015] 5BZQ J1556-7914|IVS B1549-790|2MASS J15565889-7914042|WMAP J1555-7912|ATPMN J155658.7-791403|SWIFT J1557.8-7913|2MAXI J1555-793|WISE J155658.87-791404.2|3XMM J155658.9-791403|Gaia DR2 5778578162594526976|WISEA J155658.87-791404.2</td><td>*|AGN|Bla|G|IR|QSO|Rad|Sy1|Sy2|X|cm</td><td>http://vizier.u-strasbg.fr/viz-bin/sed?-c=239.24531159229997%20-79.23451705911&amp;-c.rs=5</td><td>8367.0</td><td>NeII|NeIII|NeV</td></tr>\n",
       "<tr><td>8</td><td>2MASS J17193331+5927430</td><td>2MASS J17193331+5927430</td><td>259.8888333333333</td><td>59.46194444444445</td><td>QSO</td><td>0.13911</td><td>z</td><td>TIC 462637457|SSTXFLS24 J171933.3+592742|[MFA2007] 91|2MASS J17193331+5927430|FLSVLA J171933.3+592742|SDSS J171933.37+592742.8|[MGC2004] J171933.349+592743.26|FLSGMRT J171933.3+592742|[SW2009] SST24 J171933.40+592743.2|[PCE2006]  818|5MUSES 315|5MUSES J171933.37+592742.8</td><td>G|IR|QSO|Rad|SBG</td><td>http://vizier.u-strasbg.fr/viz-bin/sed?-c=259.8888333333333%2059.46194444444445&amp;-c.rs=5</td><td>11094.0</td><td>NeIII</td></tr>\n",
       "<tr><td>9</td><td>3C 263.1</td><td>3C 263.1</td><td>175.854514</td><td>22.115579</td><td>QSO</td><td>0.366</td><td>z</td><td>3C 263.1|3CR 263.1|4C 22.30|7C 1140+2223|B2 1140+22|B2.4 1140+22|BWE 1140+2223|Cul 1140+223|DA 306|DB  81|EQ 1140+22|GB6 B1140+2223|LEDA 2819740|MITG J114324+2206|NRAO 383|NVSS J114325+220656|OHIO M 267|PKS J1143+2206|PKS 1140+22|PKS 1140+223|QSO B1140+223|S3 1140+22|VRO 22.11.01|WB 1140+2223|WK 225|[HB91] 1140+223|[GW2008] CoNFIG 107|87GB 114048.6+222345|[MMD97] 114049.26+222334.6|VLSS J1143.4+2206|SDSS J114325.08+220656.0</td><td>AGN|G|QSO|Rad</td><td>http://vizier.u-strasbg.fr/viz-bin/sed?-c=175.854514%2022.115579&amp;-c.rs=5</td><td>11341.0</td><td>NeII|NeIII</td></tr>\n",
       "<tr><td>10</td><td>QSO B0125-0635</td><td>GSC 04684-01057</td><td>21.89802039348</td><td>-6.326509127179999</td><td>QSO</td><td>0.005410409624114027</td><td>c</td><td>Gaia DR3 2478963455764395136|GSC 04684-01057|IRAS F01250-0635|LEDA    5441|Mrk  996|NPM1G -06.0062|PB  8849|QSO B0125-0635|[BDW2002] q0125-0635|2MASX J01273549-0619359|CAIRNS J012735.51-061936.1|6dFGS gJ012735.5-061936|Gaia DR2 2478963455765181056</td><td>*|G|GiC|IR|QSO</td><td>http://vizier.u-strasbg.fr/viz-bin/sed?-c=21.89802039348%20-6.326509127179999&amp;-c.rs=5</td><td>11881.0</td><td>NeII|NeIII</td></tr>\n",
       "<tr><td>11</td><td>2MASS J23444957+1221434</td><td>2MASX J23444953+1221430</td><td>356.2066005604763</td><td>12.3621254243685</td><td>QSO</td><td>0.199</td><td>z</td><td>2MASX J23444953+1221430|TIC 434125357|2MASS J23444957+1221434|2MASS J23444958+1221432|2MASSI J2344495+122143|[VV2006c] J234449.5+122142|[VV2010c] J234449.5+122142|Gaia DR2 2763791564984030464</td><td>*|AGN|G|IR|QSO</td><td>http://vizier.u-strasbg.fr/viz-bin/sed?-c=356.2066005604763%2012.3621254243685&amp;-c.rs=5</td><td>13045.0</td><td>NeIII|NeV</td></tr>\n",
       "<tr><td>12</td><td>2MASS J09215939+4509126</td><td>2MASS J09215939+4509126</td><td>140.497487</td><td>45.15344</td><td>QSO</td><td>0.23496</td><td>z</td><td>TIC 56936761|SDSS J092159.38+450912.3|SDSS J092159.39+450912.3|2MASS J09215939+4509126|IRAS F09186+4521|[SFL2007] 25|[VV2010c] J092159.4+450912|3XMM J092159.3+450912</td><td>AGN|G|IR|QSO|X</td><td>http://vizier.u-strasbg.fr/viz-bin/sed?-c=140.497487%2045.15344&amp;-c.rs=5</td><td>13143.0</td><td>NeIII</td></tr>\n",
       "<tr><td>13</td><td>[VV2000] J201329.8-414735</td><td>WISEA J201329.54-414734.8</td><td>303.3729541666666</td><td>-41.79318888888889</td><td>QSO</td><td>0.129323</td><td>z</td><td>WISEA J201329.54-414734.8|2MASX J20132950-4147354|IRAS F20100-4156|IRAS 20100-4156|LEDA   90354|6dFGS gJ201329.5-414734|[VV2000] J201329.8-414735|[VV2003] J201329.8-414735|[VV2006] J201329.8-414735|[VV98c] J201329.8-414735|PSCz Q20100-4156|[VV2010c] J201329.8-414735|WISE J201329.54-414734.8</td><td>AGN|G|IR|QSO</td><td>http://vizier.u-strasbg.fr/viz-bin/sed?-c=303.3729541666666%20-41.79318888888889&amp;-c.rs=5</td><td>13580.0</td><td>NeII|NeIII</td></tr>\n",
       "<tr><td>14</td><td>2MASS J03485764+1255473</td><td>2MASS J03485765+1255474</td><td>57.24023272766999</td><td>12.92981724058</td><td>QSO</td><td>0.21</td><td>z</td><td>Gaia DR3 37870208414957184|TIC 59002945|2MASS J03485764+1255473|2MASS J03485765+1255474|2MASSI J0348576+125547|[VV2006c] J034857.7+125547|[VV2010c] J034857.7+125547|Gaia DR2 37870208414957184</td><td>*|AGN|IR|QSO</td><td>http://vizier.u-strasbg.fr/viz-bin/sed?-c=57.24023272766999%2012.92981724058&amp;-c.rs=5</td><td>13714.0</td><td>NeII</td></tr>\n",
       "<tr><td>15</td><td>2MASS J14363195+3438292</td><td>2MASS J14363195+3438292</td><td>219.13312579162996</td><td>34.64142306793</td><td>QSO</td><td>0.349</td><td>z</td><td>Gaia DR3 1287912640255209472|TIC 417173549|IRAS 14344+3451|2MASS J14363195+3438292|[HWL2007] 31|[HWL2007] SST24 J143631.98+343829.3|[DSB2008] 1133|[WH2009] SB13|NVSS J143632+343836|FIRST J143631.9+343829|[KEC2012] 219.133228+34.641481|[CBH2010] 219.133331+34.641445|[MRH2014] BOOTES1|Gaia DR2 1287912640254722688</td><td>*|AGN|EmG|G|IR|QSO|Rad</td><td>http://vizier.u-strasbg.fr/viz-bin/sed?-c=219.13312579162996%2034.64142306793&amp;-c.rs=5</td><td>14753.0</td><td>NeII</td></tr>\n",
       "</table><style>table.dataTable {clear: both; width: auto !important; margin: 0 !important;}\n",
       ".dataTables_info, .dataTables_length, .dataTables_filter, .dataTables_paginate{\n",
       "display: inline-block; margin-right: 1em; }\n",
       ".paginate_button { margin-right: 5px; }\n",
       "</style>\n",
       "<script>\n",
       "\n",
       "var astropy_sort_num = function(a, b) {\n",
       "    var a_num = parseFloat(a);\n",
       "    var b_num = parseFloat(b);\n",
       "\n",
       "    if (isNaN(a_num) && isNaN(b_num))\n",
       "        return ((a < b) ? -1 : ((a > b) ? 1 : 0));\n",
       "    else if (!isNaN(a_num) && !isNaN(b_num))\n",
       "        return ((a_num < b_num) ? -1 : ((a_num > b_num) ? 1 : 0));\n",
       "    else\n",
       "        return isNaN(a_num) ? -1 : 1;\n",
       "}\n",
       "\n",
       "require.config({paths: {\n",
       "    datatables: 'https://cdn.datatables.net/1.10.12/js/jquery.dataTables.min'\n",
       "}});\n",
       "require([\"datatables\"], function(){\n",
       "    console.log(\"$('#table140305232878512-425429').dataTable()\");\n",
       "    \n",
       "jQuery.extend( jQuery.fn.dataTableExt.oSort, {\n",
       "    \"optionalnum-asc\": astropy_sort_num,\n",
       "    \"optionalnum-desc\": function (a,b) { return -astropy_sort_num(a, b); }\n",
       "});\n",
       "\n",
       "    $('#table140305232878512-425429').dataTable({\n",
       "        order: [],\n",
       "        pageLength: 50,\n",
       "        lengthMenu: [[10, 25, 50, 100, 500, 1000, -1], [10, 25, 50, 100, 500, 1000, 'All']],\n",
       "        pagingType: \"full_numbers\",\n",
       "        columnDefs: [{targets: [0, 3, 4, 6, 11], type: \"optionalnum\"}]\n",
       "    });\n",
       "});\n",
       "</script>\n"
      ],
      "text/plain": [
       "<IPython.core.display.HTML object>"
      ]
     },
     "execution_count": 12,
     "metadata": {},
     "output_type": "execute_result"
    }
   ],
   "source": [
    "NeIR_obj_t['NED_Ne_IR_info'] = Ne_Inf #Add a column to save the Ne info\n",
    "NeIR_obj_t.show_in_notebook()"
   ]
  },
  {
   "cell_type": "code",
   "execution_count": 13,
   "id": "ecb0695e",
   "metadata": {},
   "outputs": [],
   "source": [
    "NeIR_obj_t.write(path_raw+'Obj_QSO_Ne-IR_'+today.strftime('%b_%d_%Y')+'.vot',\n",
    "                    format='votable',overwrite=True)"
   ]
  },
  {
   "cell_type": "code",
   "execution_count": 14,
   "id": "7b2e13bd",
   "metadata": {},
   "outputs": [
    {
     "name": "stdout",
     "output_type": "stream",
     "text": [
      "Total objects found with NeII, NeIII and NeV emission lines:  2\n",
      "Total objects found with NeII and NeIII emission lines:  4\n",
      "Total objects found with NeII and NeV emission lines:  0\n",
      "Total objects found with NeIII and NeV emission lines:  1\n",
      "Total objects found with NeIII emission lines:  2\n",
      "Total objects found with NeV emission lines:  2\n",
      "Total objects found with NeII emission lines:  5\n",
      "Total objects found with No Ne flux values:  0\n"
     ]
    }
   ],
   "source": [
    "NeII_NeIII_NeV_IR = np.where(NeIR_obj_t['NED_Ne_IR_info'] == 'NeII|NeIII|NeV')[0] #List of objects with NeII, NeIII and NeV data\n",
    "NeII_NeIII_IR = np.where(NeIR_obj_t['NED_Ne_IR_info'] == 'NeII|NeIII')[0] #List of objects with NeII and NeIII data\n",
    "NeII_NeV_IR = np.where(NeIR_obj_t['NED_Ne_IR_info'] == 'NeII|NeV')[0] #List of objects with NeII and NeV data\n",
    "NeIII_NeV_IR = np.where(NeIR_obj_t['NED_Ne_IR_info'] == 'NeIII|NeV')[0] #List of objects with NeIII and NeV data\n",
    "NeIII_IR = np.where(NeIR_obj_t['NED_Ne_IR_info'] == 'NeIII')[0] #List of objects with NeIII data\n",
    "NeV_IR = np.where(NeIR_obj_t['NED_Ne_IR_info'] == 'NeV')[0] #List of objects with NeV data\n",
    "NeII_IR = np.where(NeIR_obj_t['NED_Ne_IR_info'] == 'NeII')[0] #List of objects with NeII data\n",
    "No_Ne_IR = np.where(NeIR_obj_t['NED_Ne_IR_info'] == 'No Flux Values')[0] #List of objects with NeII data\n",
    "print('Total objects found with NeII, NeIII and NeV emission lines: ',len(NeII_NeIII_NeV_IR))\n",
    "print('Total objects found with NeII and NeIII emission lines: ',len(NeII_NeIII_IR))\n",
    "print('Total objects found with NeII and NeV emission lines: ',len(NeII_NeV_IR))\n",
    "print('Total objects found with NeIII and NeV emission lines: ',len(NeIII_NeV_IR))\n",
    "print('Total objects found with NeIII emission lines: ',len(NeIII_IR))\n",
    "print('Total objects found with NeV emission lines: ',len(NeV_IR))\n",
    "print('Total objects found with NeII emission lines: ',len(NeII_IR))\n",
    "print('Total objects found with No Ne flux values: ',len(No_Ne_IR))"
   ]
  },
  {
   "cell_type": "code",
   "execution_count": 15,
   "id": "346de299",
   "metadata": {},
   "outputs": [
    {
     "name": "stdout",
     "output_type": "stream",
     "text": [
      "Author: Jonhatan Bernal\n",
      "\n",
      "Python implementation: CPython\n",
      "Python version       : 3.9.12\n",
      "IPython version      : 8.4.0\n",
      "\n",
      "Compiler    : GCC 7.5.0\n",
      "OS          : Linux\n",
      "Release     : 5.15.0-47-generic\n",
      "Machine     : x86_64\n",
      "Processor   : x86_64\n",
      "CPU cores   : 8\n",
      "Architecture: 64bit\n",
      "\n",
      "Specific Python packages\n",
      "astropy: 5.1\n",
      "\n",
      "astropy : 5.1\n",
      "pyvo    : 1.3\n",
      "numpy   : 1.21.5\n",
      "sys     : 3.9.12 (main, Apr  5 2022, 06:56:58) \n",
      "[GCC 7.5.0]\n",
      "requests: 2.28.1\n",
      "\n",
      "Watermark: 2.3.1\n",
      "\n"
     ]
    }
   ],
   "source": [
    "%reload_ext watermark\n",
    "%watermark -a \"Jonhatan Bernal\" -d -v -m\n",
    "print('Specific Python packages')\n",
    "%watermark -iv -w --packages astropy"
   ]
  },
  {
   "cell_type": "code",
   "execution_count": null,
   "id": "1ecc340d",
   "metadata": {},
   "outputs": [],
   "source": []
  }
 ],
 "metadata": {
  "kernelspec": {
   "display_name": "Python 3 (ipykernel)",
   "language": "python",
   "name": "python3"
  },
  "language_info": {
   "codemirror_mode": {
    "name": "ipython",
    "version": 3
   },
   "file_extension": ".py",
   "mimetype": "text/x-python",
   "name": "python",
   "nbconvert_exporter": "python",
   "pygments_lexer": "ipython3",
   "version": "3.9.12"
  }
 },
 "nbformat": 4,
 "nbformat_minor": 5
}
